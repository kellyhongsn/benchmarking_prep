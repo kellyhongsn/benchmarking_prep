{
 "cells": [
  {
   "cell_type": "markdown",
   "metadata": {},
   "source": [
    "# **Dataset Cleaning**"
   ]
  },
  {
   "cell_type": "markdown",
   "metadata": {},
   "source": [
    "### **General (English)**\n",
    "\n",
    "### cqadupstack-english"
   ]
  },
  {
   "cell_type": "code",
   "execution_count": 344,
   "metadata": {},
   "outputs": [
    {
     "name": "stderr",
     "output_type": "stream",
     "text": [
      "Downloading readme: 100%|██████████| 1.21k/1.21k [00:00<00:00, 8.05kB/s]\n",
      "Downloading data: 100%|██████████| 221k/221k [00:00<00:00, 707kB/s]\n",
      "Generating test split: 100%|██████████| 3765/3765 [00:00<00:00, 164892.13 examples/s]\n",
      "Downloading data: 100%|██████████| 126k/126k [00:00<00:00, 262kB/s]\n",
      "Generating queries split: 100%|██████████| 1570/1570 [00:00<00:00, 640569.77 examples/s]\n",
      "Downloading data: 100%|██████████| 21.5M/21.5M [00:00<00:00, 26.6MB/s]\n",
      "Generating corpus split: 100%|██████████| 40221/40221 [00:00<00:00, 1718403.43 examples/s]\n"
     ]
    }
   ],
   "source": [
    "import datasets\n",
    "\n",
    "cqadupstack_default = datasets.load_dataset(\"mteb/cqadupstack-english\", \"default\")\n",
    "cqadupstack_queries = datasets.load_dataset(\"mteb/cqadupstack-english\", \"queries\")\n",
    "cqadupstack_corpus = datasets.load_dataset(\"mteb/cqadupstack-english\", \"corpus\")"
   ]
  },
  {
   "cell_type": "code",
   "execution_count": 347,
   "metadata": {},
   "outputs": [
    {
     "data": {
      "text/plain": [
       "DatasetDict({\n",
       "    corpus: Dataset({\n",
       "        features: ['_id', 'title', 'text'],\n",
       "        num_rows: 40221\n",
       "    })\n",
       "})"
      ]
     },
     "execution_count": 347,
     "metadata": {},
     "output_type": "execute_result"
    }
   ],
   "source": [
    "cqadupstack_corpus"
   ]
  },
  {
   "cell_type": "code",
   "execution_count": 558,
   "metadata": {},
   "outputs": [],
   "source": [
    "cqadupstack_default_df = cqadupstack_default[\"test\"].to_pandas()\n",
    "cqadupstack_queries_df = cqadupstack_queries[\"queries\"].to_pandas()\n",
    "cqadupstack_corpus_df = cqadupstack_corpus[\"corpus\"].to_pandas()"
   ]
  },
  {
   "cell_type": "code",
   "execution_count": 350,
   "metadata": {},
   "outputs": [
    {
     "data": {
      "text/html": [
       "<div>\n",
       "<style scoped>\n",
       "    .dataframe tbody tr th:only-of-type {\n",
       "        vertical-align: middle;\n",
       "    }\n",
       "\n",
       "    .dataframe tbody tr th {\n",
       "        vertical-align: top;\n",
       "    }\n",
       "\n",
       "    .dataframe thead th {\n",
       "        text-align: right;\n",
       "    }\n",
       "</style>\n",
       "<table border=\"1\" class=\"dataframe\">\n",
       "  <thead>\n",
       "    <tr style=\"text-align: right;\">\n",
       "      <th></th>\n",
       "      <th>query-id</th>\n",
       "      <th>corpus-id</th>\n",
       "      <th>score</th>\n",
       "    </tr>\n",
       "  </thead>\n",
       "  <tbody>\n",
       "    <tr>\n",
       "      <th>0</th>\n",
       "      <td>19399</td>\n",
       "      <td>102236</td>\n",
       "      <td>1.0</td>\n",
       "    </tr>\n",
       "    <tr>\n",
       "      <th>1</th>\n",
       "      <td>19399</td>\n",
       "      <td>91901</td>\n",
       "      <td>1.0</td>\n",
       "    </tr>\n",
       "    <tr>\n",
       "      <th>2</th>\n",
       "      <td>19399</td>\n",
       "      <td>177507</td>\n",
       "      <td>1.0</td>\n",
       "    </tr>\n",
       "    <tr>\n",
       "      <th>3</th>\n",
       "      <td>19399</td>\n",
       "      <td>80798</td>\n",
       "      <td>1.0</td>\n",
       "    </tr>\n",
       "    <tr>\n",
       "      <th>4</th>\n",
       "      <td>19399</td>\n",
       "      <td>112990</td>\n",
       "      <td>1.0</td>\n",
       "    </tr>\n",
       "  </tbody>\n",
       "</table>\n",
       "</div>"
      ],
      "text/plain": [
       "  query-id corpus-id  score\n",
       "0    19399    102236    1.0\n",
       "1    19399     91901    1.0\n",
       "2    19399    177507    1.0\n",
       "3    19399     80798    1.0\n",
       "4    19399    112990    1.0"
      ]
     },
     "execution_count": 350,
     "metadata": {},
     "output_type": "execute_result"
    }
   ],
   "source": [
    "cqadupstack_default_df.head()"
   ]
  },
  {
   "cell_type": "code",
   "execution_count": 351,
   "metadata": {},
   "outputs": [
    {
     "data": {
      "text/html": [
       "<div>\n",
       "<style scoped>\n",
       "    .dataframe tbody tr th:only-of-type {\n",
       "        vertical-align: middle;\n",
       "    }\n",
       "\n",
       "    .dataframe tbody tr th {\n",
       "        vertical-align: top;\n",
       "    }\n",
       "\n",
       "    .dataframe thead th {\n",
       "        text-align: right;\n",
       "    }\n",
       "</style>\n",
       "<table border=\"1\" class=\"dataframe\">\n",
       "  <thead>\n",
       "    <tr style=\"text-align: right;\">\n",
       "      <th></th>\n",
       "      <th>_id</th>\n",
       "      <th>text</th>\n",
       "    </tr>\n",
       "  </thead>\n",
       "  <tbody>\n",
       "    <tr>\n",
       "      <th>0</th>\n",
       "      <td>19399</td>\n",
       "      <td>Is \"a wide range of features\" singular or plural?</td>\n",
       "    </tr>\n",
       "    <tr>\n",
       "      <th>1</th>\n",
       "      <td>5987</td>\n",
       "      <td>Is there any rule for the placement of space a...</td>\n",
       "    </tr>\n",
       "    <tr>\n",
       "      <th>2</th>\n",
       "      <td>57488</td>\n",
       "      <td>Word for two people who are the same age</td>\n",
       "    </tr>\n",
       "    <tr>\n",
       "      <th>3</th>\n",
       "      <td>97154</td>\n",
       "      <td>What’s the pronunciation of “ s’ ”?</td>\n",
       "    </tr>\n",
       "    <tr>\n",
       "      <th>4</th>\n",
       "      <td>270</td>\n",
       "      <td>What is the correct plural of octopus?</td>\n",
       "    </tr>\n",
       "  </tbody>\n",
       "</table>\n",
       "</div>"
      ],
      "text/plain": [
       "     _id                                               text\n",
       "0  19399  Is \"a wide range of features\" singular or plural?\n",
       "1   5987  Is there any rule for the placement of space a...\n",
       "2  57488           Word for two people who are the same age\n",
       "3  97154                What’s the pronunciation of “ s’ ”?\n",
       "4    270             What is the correct plural of octopus?"
      ]
     },
     "execution_count": 351,
     "metadata": {},
     "output_type": "execute_result"
    }
   ],
   "source": [
    "cqadupstack_queries_df.head()"
   ]
  },
  {
   "cell_type": "code",
   "execution_count": 358,
   "metadata": {},
   "outputs": [
    {
     "data": {
      "text/html": [
       "<div>\n",
       "<style scoped>\n",
       "    .dataframe tbody tr th:only-of-type {\n",
       "        vertical-align: middle;\n",
       "    }\n",
       "\n",
       "    .dataframe tbody tr th {\n",
       "        vertical-align: top;\n",
       "    }\n",
       "\n",
       "    .dataframe thead th {\n",
       "        text-align: right;\n",
       "    }\n",
       "</style>\n",
       "<table border=\"1\" class=\"dataframe\">\n",
       "  <thead>\n",
       "    <tr style=\"text-align: right;\">\n",
       "      <th></th>\n",
       "      <th>_id</th>\n",
       "      <th>title</th>\n",
       "      <th>text</th>\n",
       "    </tr>\n",
       "  </thead>\n",
       "  <tbody>\n",
       "    <tr>\n",
       "      <th>0</th>\n",
       "      <td>11547</td>\n",
       "      <td>Is there a word meaning \"an unwanted eponym\"?</td>\n",
       "      <td>An eponym is one way to eternal (if posthumous...</td>\n",
       "    </tr>\n",
       "    <tr>\n",
       "      <th>1</th>\n",
       "      <td>11549</td>\n",
       "      <td>\"Password Reset Mail\" or \"Reset Password Mail\"?</td>\n",
       "      <td>We are working on a web project that has a pas...</td>\n",
       "    </tr>\n",
       "    <tr>\n",
       "      <th>2</th>\n",
       "      <td>123851</td>\n",
       "      <td>Are homonyms considered single words?</td>\n",
       "      <td>There are many homonyms in the English languag...</td>\n",
       "    </tr>\n",
       "    <tr>\n",
       "      <th>3</th>\n",
       "      <td>116661</td>\n",
       "      <td>Which of these phrases are equivalent, if any,...</td>\n",
       "      <td>Some say the following two phrases are equival...</td>\n",
       "    </tr>\n",
       "    <tr>\n",
       "      <th>4</th>\n",
       "      <td>102236</td>\n",
       "      <td>is it correct to use \"wide range of courses th...</td>\n",
       "      <td>Please tell me if the following sentence requi...</td>\n",
       "    </tr>\n",
       "    <tr>\n",
       "      <th>...</th>\n",
       "      <td>...</td>\n",
       "      <td>...</td>\n",
       "      <td>...</td>\n",
       "    </tr>\n",
       "    <tr>\n",
       "      <th>40216</th>\n",
       "      <td>96201</td>\n",
       "      <td>Word for consolidating a dataset to a single type</td>\n",
       "      <td>I believe there is a single word that represen...</td>\n",
       "    </tr>\n",
       "    <tr>\n",
       "      <th>40217</th>\n",
       "      <td>96203</td>\n",
       "      <td>Origin of \"canoodle\"</td>\n",
       "      <td>There have been times in my life where I've en...</td>\n",
       "    </tr>\n",
       "    <tr>\n",
       "      <th>40218</th>\n",
       "      <td>96206</td>\n",
       "      <td>Can the verb \"wonder\" simply take an object?</td>\n",
       "      <td>In this question, the questioner states &gt; I wo...</td>\n",
       "    </tr>\n",
       "    <tr>\n",
       "      <th>40219</th>\n",
       "      <td>103095</td>\n",
       "      <td>Difference between \"now\" and \"right now\"</td>\n",
       "      <td>Is there any difference between the two follow...</td>\n",
       "    </tr>\n",
       "    <tr>\n",
       "      <th>40220</th>\n",
       "      <td>38346</td>\n",
       "      <td>Plural of \"abacus\"</td>\n",
       "      <td>A colleague and I were having a discussion as ...</td>\n",
       "    </tr>\n",
       "  </tbody>\n",
       "</table>\n",
       "<p>40221 rows × 3 columns</p>\n",
       "</div>"
      ],
      "text/plain": [
       "          _id                                              title  \\\n",
       "0       11547      Is there a word meaning \"an unwanted eponym\"?   \n",
       "1       11549    \"Password Reset Mail\" or \"Reset Password Mail\"?   \n",
       "2      123851              Are homonyms considered single words?   \n",
       "3      116661  Which of these phrases are equivalent, if any,...   \n",
       "4      102236  is it correct to use \"wide range of courses th...   \n",
       "...       ...                                                ...   \n",
       "40216   96201  Word for consolidating a dataset to a single type   \n",
       "40217   96203                               Origin of \"canoodle\"   \n",
       "40218   96206       Can the verb \"wonder\" simply take an object?   \n",
       "40219  103095           Difference between \"now\" and \"right now\"   \n",
       "40220   38346                                 Plural of \"abacus\"   \n",
       "\n",
       "                                                    text  \n",
       "0      An eponym is one way to eternal (if posthumous...  \n",
       "1      We are working on a web project that has a pas...  \n",
       "2      There are many homonyms in the English languag...  \n",
       "3      Some say the following two phrases are equival...  \n",
       "4      Please tell me if the following sentence requi...  \n",
       "...                                                  ...  \n",
       "40216  I believe there is a single word that represen...  \n",
       "40217  There have been times in my life where I've en...  \n",
       "40218  In this question, the questioner states > I wo...  \n",
       "40219  Is there any difference between the two follow...  \n",
       "40220  A colleague and I were having a discussion as ...  \n",
       "\n",
       "[40221 rows x 3 columns]"
      ]
     },
     "execution_count": 358,
     "metadata": {},
     "output_type": "execute_result"
    }
   ],
   "source": [
    "cqadupstack_corpus_df"
   ]
  },
  {
   "cell_type": "code",
   "execution_count": 368,
   "metadata": {},
   "outputs": [
    {
     "data": {
      "text/plain": [
       "'11547'"
      ]
     },
     "execution_count": 368,
     "metadata": {},
     "output_type": "execute_result"
    }
   ],
   "source": [
    "cqadupstack_corpus_df[\"_id\"][0]"
   ]
  },
  {
   "cell_type": "code",
   "execution_count": 370,
   "metadata": {},
   "outputs": [
    {
     "data": {
      "text/plain": [
       "'102236'"
      ]
     },
     "execution_count": 370,
     "metadata": {},
     "output_type": "execute_result"
    }
   ],
   "source": [
    "cqadupstack_default_df[\"corpus-id\"][0]"
   ]
  },
  {
   "cell_type": "markdown",
   "metadata": {},
   "source": [
    "ids are strings, not ints"
   ]
  },
  {
   "cell_type": "code",
   "execution_count": 372,
   "metadata": {},
   "outputs": [],
   "source": [
    "example_query = cqadupstack_queries_df[cqadupstack_queries_df[\"_id\"] == \"19399\"]\n",
    "example_corpus = cqadupstack_corpus_df[cqadupstack_corpus_df[\"_id\"] == \"102236\"]"
   ]
  },
  {
   "cell_type": "code",
   "execution_count": 375,
   "metadata": {},
   "outputs": [
    {
     "data": {
      "text/plain": [
       "'Is \"a wide range of features\" singular or plural?'"
      ]
     },
     "execution_count": 375,
     "metadata": {},
     "output_type": "execute_result"
    }
   ],
   "source": [
    "example_query[\"text\"][0]"
   ]
  },
  {
   "cell_type": "code",
   "execution_count": 379,
   "metadata": {},
   "outputs": [
    {
     "data": {
      "text/plain": [
       "'is it correct to use \"wide range of courses that has opened my eyes\"?'"
      ]
     },
     "execution_count": 379,
     "metadata": {},
     "output_type": "execute_result"
    }
   ],
   "source": [
    "example_corpus[\"title\"][4]"
   ]
  },
  {
   "cell_type": "code",
   "execution_count": 381,
   "metadata": {},
   "outputs": [
    {
     "data": {
      "text/plain": [
       "'Please tell me if the following sentence requires \"have\" or \"has\": > My degree in Cell Biology and Genetics has allowed me to take a wide range > of courses that **has/have** opened my eyes to new aspects of the field.'"
      ]
     },
     "execution_count": 381,
     "metadata": {},
     "output_type": "execute_result"
    }
   ],
   "source": [
    "example_corpus[\"text\"][4]"
   ]
  },
  {
   "cell_type": "markdown",
   "metadata": {},
   "source": [
    "'Please tell me if the following sentence requires \"have\" or \"has\": > My degree in Cell Biology and Genetics has allowed me to take a wide range > of courses that **has/have** opened my eyes to new aspects of the field.'"
   ]
  },
  {
   "cell_type": "code",
   "execution_count": 484,
   "metadata": {},
   "outputs": [],
   "source": [
    "def general_deduplicate(queries_df, corpus_df):\n",
    "    duplicates_queries_df = queries_df[queries_df.duplicated(subset=['text'], keep=False)]\n",
    "\n",
    "    print(f\"duplicate queries: {len(duplicates_queries_df)}\")\n",
    "\n",
    "    duplicates_corpus_titles_df = corpus_df[corpus_df.duplicated(subset=['title'], keep=False)]\n",
    "\n",
    "    print(f\"duplicate titles: {len(duplicates_corpus_titles_df)}\")\n",
    "\n",
    "    duplicates_corpus_text_df = corpus_df[corpus_df.duplicated(subset=['text'], keep=False)]\n",
    "\n",
    "    print(f\"duplicate text: {len(duplicates_corpus_text_df)}\")\n",
    "\n",
    "    new_line = corpus_df[\"text\"].str.contains(\"\\n\", regex=True).any()\n",
    "\n",
    "    print(f\"contains new line: {new_line}\")"
   ]
  },
  {
   "cell_type": "code",
   "execution_count": 485,
   "metadata": {},
   "outputs": [
    {
     "name": "stdout",
     "output_type": "stream",
     "text": [
      "duplicate queries: 0\n",
      "duplicate titles: 27\n",
      "duplicate text: 0\n",
      "contains new line: False\n"
     ]
    }
   ],
   "source": [
    "general_deduplicate(cqadupstack_queries_df, cqadupstack_corpus_df)"
   ]
  },
  {
   "cell_type": "code",
   "execution_count": 488,
   "metadata": {},
   "outputs": [],
   "source": [
    "title_duplicates = cqadupstack_corpus_df[cqadupstack_corpus_df.duplicated(subset=['title'], keep=False)]"
   ]
  },
  {
   "cell_type": "code",
   "execution_count": 497,
   "metadata": {},
   "outputs": [
    {
     "name": "stdout",
     "output_type": "stream",
     "text": [
      "Are the answers I chose correct. My choices are in bold. I **have been pumping** /I have pumped up three tyres. Would you like to do the forth? I **have been greasing** /I have greased my car. That's why my hands are dirty. She has been polishing/has polished this table all the morning and she is not satisfied with it yet. ( I chose both answers as correct, but accroding to the test my answer was wrong.) I only have been hearing/ **have heard** about him twice since he went away. He **has been riding** /has ridden, that's why he is wearing breeches. I have been pulling up/have pulled up dandelions all day. ( I chose both forms) I have been hearing/ have heard from her regularly. She is a very good correspondent.(I chose both forms) I have been making/have made sausage rolls for the party all the morning.(I chose both, but I am not sure 'have made' is correct.) How to explain why using other choices would be wrong?\n",
      "How are we to understand whether present perfect progressive implies that the action is still in progress, versus implying it has stopped just now or recently? In simple sentences like these two, > • I'm tired [now] because I've been running.   >  • Why is the grass wet [now]? Has it been raining? it's obvious that the actions are complete, but not in the following five sentences: > • I have been living in Paris for two weeks.   >  • I have been reading for two hours.   >  • I have been talking with Jane on the phone(since 5:30 for ten minutes).   >  • I have been doing my homework.(For an hour)   >  • I have been working in the garden (for two hours).\n"
     ]
    }
   ],
   "source": [
    "dup_1 = title_duplicates[title_duplicates[\"title\"] == \"Present perfect continuous\"]\n",
    "print(dup_1[\"text\"][1894])\n",
    "print(dup_1[\"text\"][29559])"
   ]
  },
  {
   "cell_type": "markdown",
   "metadata": {},
   "source": [
    "Are the answers I chose correct. My choices are in bold. I **have been pumping** /I have pumped up three tyres. Would you like to do the forth? I **have been greasing** /I have greased my car. That's why my hands are dirty. She has been polishing/has polished this table all the morning and she is not satisfied with it yet. ( I chose both answers as correct, but accroding to the test my answer was wrong.) I only have been hearing/ **have heard** about him twice since he went away. He **has been riding** /has ridden, that's why he is wearing breeches. I have been pulling up/have pulled up dandelions all day. ( I chose both forms) I have been hearing/ have heard from her regularly. She is a very good correspondent.(I chose both forms) I have been making/have made sausage rolls for the party all the morning.(I chose both, but I am not sure 'have made' is correct.) How to explain why using other choices would be wrong?\n",
    "\n",
    "How are we to understand whether present perfect progressive implies that the action is still in progress, versus implying it has stopped just now or recently? In simple sentences like these two, > • I'm tired [now] because I've been running.   >  • Why is the grass wet [now]? Has it been raining? it's obvious that the actions are complete, but not in the following five sentences: > • I have been living in Paris for two weeks.   >  • I have been reading for two hours.   >  • I have been talking with Jane on the phone(since 5:30 for ten minutes).   >  • I have been doing my homework.(For an hour)   >  • I have been working in the garden (for two hours)."
   ]
  },
  {
   "cell_type": "markdown",
   "metadata": {},
   "source": [
    "the first one doesn't really make any sense?"
   ]
  },
  {
   "cell_type": "code",
   "execution_count": 498,
   "metadata": {},
   "outputs": [
    {
     "data": {
      "text/plain": [
       "array([1.])"
      ]
     },
     "execution_count": 498,
     "metadata": {},
     "output_type": "execute_result"
    }
   ],
   "source": [
    "cqadupstack_default_df[\"score\"].unique()"
   ]
  },
  {
   "cell_type": "markdown",
   "metadata": {},
   "source": [
    "how come all the scores are 1?"
   ]
  },
  {
   "cell_type": "code",
   "execution_count": 499,
   "metadata": {},
   "outputs": [
    {
     "data": {
      "text/html": [
       "<div>\n",
       "<style scoped>\n",
       "    .dataframe tbody tr th:only-of-type {\n",
       "        vertical-align: middle;\n",
       "    }\n",
       "\n",
       "    .dataframe tbody tr th {\n",
       "        vertical-align: top;\n",
       "    }\n",
       "\n",
       "    .dataframe thead th {\n",
       "        text-align: right;\n",
       "    }\n",
       "</style>\n",
       "<table border=\"1\" class=\"dataframe\">\n",
       "  <thead>\n",
       "    <tr style=\"text-align: right;\">\n",
       "      <th></th>\n",
       "      <th>_id</th>\n",
       "      <th>title</th>\n",
       "      <th>text</th>\n",
       "    </tr>\n",
       "  </thead>\n",
       "  <tbody>\n",
       "    <tr>\n",
       "      <th>1894</th>\n",
       "      <td>112004</td>\n",
       "      <td>Present perfect continuous</td>\n",
       "      <td>Are the answers I chose correct. My choices ar...</td>\n",
       "    </tr>\n",
       "    <tr>\n",
       "      <th>29559</th>\n",
       "      <td>111342</td>\n",
       "      <td>Present perfect continuous</td>\n",
       "      <td>How are we to understand whether present perfe...</td>\n",
       "    </tr>\n",
       "  </tbody>\n",
       "</table>\n",
       "</div>"
      ],
      "text/plain": [
       "          _id                       title  \\\n",
       "1894   112004  Present perfect continuous   \n",
       "29559  111342  Present perfect continuous   \n",
       "\n",
       "                                                    text  \n",
       "1894   Are the answers I chose correct. My choices ar...  \n",
       "29559  How are we to understand whether present perfe...  "
      ]
     },
     "execution_count": 499,
     "metadata": {},
     "output_type": "execute_result"
    }
   ],
   "source": [
    "dup_1"
   ]
  },
  {
   "cell_type": "code",
   "execution_count": 500,
   "metadata": {},
   "outputs": [
    {
     "data": {
      "text/html": [
       "<div>\n",
       "<style scoped>\n",
       "    .dataframe tbody tr th:only-of-type {\n",
       "        vertical-align: middle;\n",
       "    }\n",
       "\n",
       "    .dataframe tbody tr th {\n",
       "        vertical-align: top;\n",
       "    }\n",
       "\n",
       "    .dataframe thead th {\n",
       "        text-align: right;\n",
       "    }\n",
       "</style>\n",
       "<table border=\"1\" class=\"dataframe\">\n",
       "  <thead>\n",
       "    <tr style=\"text-align: right;\">\n",
       "      <th></th>\n",
       "      <th>query-id</th>\n",
       "      <th>corpus-id</th>\n",
       "      <th>score</th>\n",
       "    </tr>\n",
       "  </thead>\n",
       "  <tbody>\n",
       "  </tbody>\n",
       "</table>\n",
       "</div>"
      ],
      "text/plain": [
       "Empty DataFrame\n",
       "Columns: [query-id, corpus-id, score]\n",
       "Index: []"
      ]
     },
     "execution_count": 500,
     "metadata": {},
     "output_type": "execute_result"
    }
   ],
   "source": [
    "cqadupstack_default_df[cqadupstack_default_df[\"corpus-id\"] == \"112004\"]"
   ]
  },
  {
   "cell_type": "code",
   "execution_count": 506,
   "metadata": {},
   "outputs": [
    {
     "data": {
      "text/html": [
       "<div>\n",
       "<style scoped>\n",
       "    .dataframe tbody tr th:only-of-type {\n",
       "        vertical-align: middle;\n",
       "    }\n",
       "\n",
       "    .dataframe tbody tr th {\n",
       "        vertical-align: top;\n",
       "    }\n",
       "\n",
       "    .dataframe thead th {\n",
       "        text-align: right;\n",
       "    }\n",
       "</style>\n",
       "<table border=\"1\" class=\"dataframe\">\n",
       "  <thead>\n",
       "    <tr style=\"text-align: right;\">\n",
       "      <th></th>\n",
       "      <th>query-id</th>\n",
       "      <th>corpus-id</th>\n",
       "      <th>score</th>\n",
       "    </tr>\n",
       "  </thead>\n",
       "  <tbody>\n",
       "  </tbody>\n",
       "</table>\n",
       "</div>"
      ],
      "text/plain": [
       "Empty DataFrame\n",
       "Columns: [query-id, corpus-id, score]\n",
       "Index: []"
      ]
     },
     "execution_count": 506,
     "metadata": {},
     "output_type": "execute_result"
    }
   ],
   "source": [
    "cqadupstack_default_df[cqadupstack_default_df[\"corpus-id\"] == \"111342\"]"
   ]
  },
  {
   "cell_type": "code",
   "execution_count": 508,
   "metadata": {},
   "outputs": [
    {
     "data": {
      "text/html": [
       "<div>\n",
       "<style scoped>\n",
       "    .dataframe tbody tr th:only-of-type {\n",
       "        vertical-align: middle;\n",
       "    }\n",
       "\n",
       "    .dataframe tbody tr th {\n",
       "        vertical-align: top;\n",
       "    }\n",
       "\n",
       "    .dataframe thead th {\n",
       "        text-align: right;\n",
       "    }\n",
       "</style>\n",
       "<table border=\"1\" class=\"dataframe\">\n",
       "  <thead>\n",
       "    <tr style=\"text-align: right;\">\n",
       "      <th></th>\n",
       "      <th>query-id</th>\n",
       "      <th>corpus-id</th>\n",
       "      <th>score</th>\n",
       "    </tr>\n",
       "  </thead>\n",
       "  <tbody>\n",
       "    <tr>\n",
       "      <th>346</th>\n",
       "      <td>30336</td>\n",
       "      <td>16511</td>\n",
       "      <td>1.0</td>\n",
       "    </tr>\n",
       "  </tbody>\n",
       "</table>\n",
       "</div>"
      ],
      "text/plain": [
       "    query-id corpus-id  score\n",
       "346    30336     16511    1.0"
      ]
     },
     "execution_count": 508,
     "metadata": {},
     "output_type": "execute_result"
    }
   ],
   "source": [
    "# testing different random\n",
    "cqadupstack_default_df[cqadupstack_default_df[\"corpus-id\"] == \"16511\"]"
   ]
  },
  {
   "cell_type": "markdown",
   "metadata": {},
   "source": [
    "I guess irrelevant corpus are not included at all in the relevance pairings"
   ]
  },
  {
   "cell_type": "code",
   "execution_count": 502,
   "metadata": {},
   "outputs": [
    {
     "data": {
      "text/plain": [
       "3765"
      ]
     },
     "execution_count": 502,
     "metadata": {},
     "output_type": "execute_result"
    }
   ],
   "source": [
    "len(cqadupstack_default_df)"
   ]
  },
  {
   "cell_type": "code",
   "execution_count": 510,
   "metadata": {},
   "outputs": [
    {
     "data": {
      "text/plain": [
       "40221"
      ]
     },
     "execution_count": 510,
     "metadata": {},
     "output_type": "execute_result"
    }
   ],
   "source": [
    "len(cqadupstack_corpus_df)"
   ]
  },
  {
   "cell_type": "markdown",
   "metadata": {},
   "source": [
    "makes sense, more corpus than pairings"
   ]
  },
  {
   "cell_type": "code",
   "execution_count": 490,
   "metadata": {},
   "outputs": [
    {
     "data": {
      "text/html": [
       "<div>\n",
       "<style scoped>\n",
       "    .dataframe tbody tr th:only-of-type {\n",
       "        vertical-align: middle;\n",
       "    }\n",
       "\n",
       "    .dataframe tbody tr th {\n",
       "        vertical-align: top;\n",
       "    }\n",
       "\n",
       "    .dataframe thead th {\n",
       "        text-align: right;\n",
       "    }\n",
       "</style>\n",
       "<table border=\"1\" class=\"dataframe\">\n",
       "  <thead>\n",
       "    <tr style=\"text-align: right;\">\n",
       "      <th></th>\n",
       "      <th>_id</th>\n",
       "      <th>title</th>\n",
       "      <th>text</th>\n",
       "    </tr>\n",
       "  </thead>\n",
       "  <tbody>\n",
       "    <tr>\n",
       "      <th>285</th>\n",
       "      <td>64421</td>\n",
       "      <td>Is this sentence grammatically correct?</td>\n",
       "      <td>&gt; **Duplicate of:**   &gt;  When is it appropriat...</td>\n",
       "    </tr>\n",
       "    <tr>\n",
       "      <th>626</th>\n",
       "      <td>16511</td>\n",
       "      <td>\"You and I\" versus \"you and me\"</td>\n",
       "      <td>&gt; **Possible Duplicate:**   &gt;  Which is correc...</td>\n",
       "    </tr>\n",
       "    <tr>\n",
       "      <th>655</th>\n",
       "      <td>5359</td>\n",
       "      <td>\"You and I\" versus \"you and me\"</td>\n",
       "      <td>&gt; **Possible Duplicate:**   &gt;  Which is correc...</td>\n",
       "    </tr>\n",
       "    <tr>\n",
       "      <th>1363</th>\n",
       "      <td>9191</td>\n",
       "      <td>What's the difference between these sentences?</td>\n",
       "      <td>What's the difference between &gt; I'm going to e...</td>\n",
       "    </tr>\n",
       "    <tr>\n",
       "      <th>1538</th>\n",
       "      <td>145571</td>\n",
       "      <td>Is this sentence correct?</td>\n",
       "      <td>&gt; But like most young people of my generation,...</td>\n",
       "    </tr>\n",
       "    <tr>\n",
       "      <th>1894</th>\n",
       "      <td>112004</td>\n",
       "      <td>Present perfect continuous</td>\n",
       "      <td>Are the answers I chose correct. My choices ar...</td>\n",
       "    </tr>\n",
       "    <tr>\n",
       "      <th>3866</th>\n",
       "      <td>35839</td>\n",
       "      <td>Is this proper English?</td>\n",
       "      <td>&gt; **Possible Duplicate:**   &gt;  When are \"if\" a...</td>\n",
       "    </tr>\n",
       "    <tr>\n",
       "      <th>6511</th>\n",
       "      <td>45101</td>\n",
       "      <td>Is this grammatically correct?</td>\n",
       "      <td>This quote comes from an article published onl...</td>\n",
       "    </tr>\n",
       "    <tr>\n",
       "      <th>9379</th>\n",
       "      <td>152733</td>\n",
       "      <td>What does the sentence mean?</td>\n",
       "      <td>I just got an email telling me about a company...</td>\n",
       "    </tr>\n",
       "    <tr>\n",
       "      <th>10077</th>\n",
       "      <td>24625</td>\n",
       "      <td>Is this sentence correct?</td>\n",
       "      <td>&gt; I ain't heard no word to let me know you **w...</td>\n",
       "    </tr>\n",
       "    <tr>\n",
       "      <th>10497</th>\n",
       "      <td>37153</td>\n",
       "      <td>When using complete sentences in parenthetical...</td>\n",
       "      <td>In a bulleted list of very technical sentences...</td>\n",
       "    </tr>\n",
       "    <tr>\n",
       "      <th>11743</th>\n",
       "      <td>124744</td>\n",
       "      <td>What does the sentence mean?</td>\n",
       "      <td>I have a physics book and am having trouble un...</td>\n",
       "    </tr>\n",
       "    <tr>\n",
       "      <th>12141</th>\n",
       "      <td>85424</td>\n",
       "      <td>Is there a grammatical error in the following ...</td>\n",
       "      <td>There is either one or no errors in the follow...</td>\n",
       "    </tr>\n",
       "    <tr>\n",
       "      <th>12358</th>\n",
       "      <td>106554</td>\n",
       "      <td>Is there a grammatical error in the following ...</td>\n",
       "      <td>The monthly rent shall be enhanced up to 10% e...</td>\n",
       "    </tr>\n",
       "    <tr>\n",
       "      <th>13621</th>\n",
       "      <td>4844</td>\n",
       "      <td>Verb agreement in the sentence</td>\n",
       "      <td>I suspect my verbs do NOT agree =) In the belo...</td>\n",
       "    </tr>\n",
       "    <tr>\n",
       "      <th>22294</th>\n",
       "      <td>41959</td>\n",
       "      <td>\"At the time\" versus \"at that time\"</td>\n",
       "      <td>If I want to say that during the accident ther...</td>\n",
       "    </tr>\n",
       "    <tr>\n",
       "      <th>22597</th>\n",
       "      <td>107097</td>\n",
       "      <td>Is this grammatically correct?</td>\n",
       "      <td>Using MS Word, I typed, \"As Roblin and Adelaid...</td>\n",
       "    </tr>\n",
       "    <tr>\n",
       "      <th>24884</th>\n",
       "      <td>158624</td>\n",
       "      <td>Is this sentence correct?</td>\n",
       "      <td>I am creating an app for Android in my locale ...</td>\n",
       "    </tr>\n",
       "    <tr>\n",
       "      <th>25082</th>\n",
       "      <td>15639</td>\n",
       "      <td>What's the difference between these sentences?</td>\n",
       "      <td>&gt; He walked out, Rachel's words indelibly etch...</td>\n",
       "    </tr>\n",
       "    <tr>\n",
       "      <th>26158</th>\n",
       "      <td>159596</td>\n",
       "      <td>Is this proper English?</td>\n",
       "      <td>The content analysis study our group undertook...</td>\n",
       "    </tr>\n",
       "    <tr>\n",
       "      <th>29166</th>\n",
       "      <td>37200</td>\n",
       "      <td>When using complete sentences in parenthetical...</td>\n",
       "      <td>In a bulleted list of very technical sentences...</td>\n",
       "    </tr>\n",
       "    <tr>\n",
       "      <th>29559</th>\n",
       "      <td>111342</td>\n",
       "      <td>Present perfect continuous</td>\n",
       "      <td>How are we to understand whether present perfe...</td>\n",
       "    </tr>\n",
       "    <tr>\n",
       "      <th>34500</th>\n",
       "      <td>174537</td>\n",
       "      <td>What is the meaning of this quote?</td>\n",
       "      <td>&gt; \"I'm just sorry that she had to be your fort...</td>\n",
       "    </tr>\n",
       "    <tr>\n",
       "      <th>35300</th>\n",
       "      <td>168655</td>\n",
       "      <td>Is this sentence grammatically correct?</td>\n",
       "      <td>\"If we were in a physical relationship, you ju...</td>\n",
       "    </tr>\n",
       "    <tr>\n",
       "      <th>36289</th>\n",
       "      <td>154930</td>\n",
       "      <td>What is the meaning of this quote?</td>\n",
       "      <td>I heard this in a movie. What does it mean? &gt; ...</td>\n",
       "    </tr>\n",
       "    <tr>\n",
       "      <th>36842</th>\n",
       "      <td>9937</td>\n",
       "      <td>Verb agreement in the sentence</td>\n",
       "      <td>&gt; Every morning right after I **went** to the ...</td>\n",
       "    </tr>\n",
       "    <tr>\n",
       "      <th>39369</th>\n",
       "      <td>24727</td>\n",
       "      <td>\"At the time\" versus \"at that time\"</td>\n",
       "      <td>I hope this is not a double post. Should I use...</td>\n",
       "    </tr>\n",
       "  </tbody>\n",
       "</table>\n",
       "</div>"
      ],
      "text/plain": [
       "          _id                                              title  \\\n",
       "285     64421            Is this sentence grammatically correct?   \n",
       "626     16511                    \"You and I\" versus \"you and me\"   \n",
       "655      5359                    \"You and I\" versus \"you and me\"   \n",
       "1363     9191     What's the difference between these sentences?   \n",
       "1538   145571                          Is this sentence correct?   \n",
       "1894   112004                         Present perfect continuous   \n",
       "3866    35839                            Is this proper English?   \n",
       "6511    45101                     Is this grammatically correct?   \n",
       "9379   152733                       What does the sentence mean?   \n",
       "10077   24625                          Is this sentence correct?   \n",
       "10497   37153  When using complete sentences in parenthetical...   \n",
       "11743  124744                       What does the sentence mean?   \n",
       "12141   85424  Is there a grammatical error in the following ...   \n",
       "12358  106554  Is there a grammatical error in the following ...   \n",
       "13621    4844                     Verb agreement in the sentence   \n",
       "22294   41959                \"At the time\" versus \"at that time\"   \n",
       "22597  107097                     Is this grammatically correct?   \n",
       "24884  158624                          Is this sentence correct?   \n",
       "25082   15639     What's the difference between these sentences?   \n",
       "26158  159596                            Is this proper English?   \n",
       "29166   37200  When using complete sentences in parenthetical...   \n",
       "29559  111342                         Present perfect continuous   \n",
       "34500  174537                 What is the meaning of this quote?   \n",
       "35300  168655            Is this sentence grammatically correct?   \n",
       "36289  154930                 What is the meaning of this quote?   \n",
       "36842    9937                     Verb agreement in the sentence   \n",
       "39369   24727                \"At the time\" versus \"at that time\"   \n",
       "\n",
       "                                                    text  \n",
       "285    > **Duplicate of:**   >  When is it appropriat...  \n",
       "626    > **Possible Duplicate:**   >  Which is correc...  \n",
       "655    > **Possible Duplicate:**   >  Which is correc...  \n",
       "1363   What's the difference between > I'm going to e...  \n",
       "1538   > But like most young people of my generation,...  \n",
       "1894   Are the answers I chose correct. My choices ar...  \n",
       "3866   > **Possible Duplicate:**   >  When are \"if\" a...  \n",
       "6511   This quote comes from an article published onl...  \n",
       "9379   I just got an email telling me about a company...  \n",
       "10077  > I ain't heard no word to let me know you **w...  \n",
       "10497  In a bulleted list of very technical sentences...  \n",
       "11743  I have a physics book and am having trouble un...  \n",
       "12141  There is either one or no errors in the follow...  \n",
       "12358  The monthly rent shall be enhanced up to 10% e...  \n",
       "13621  I suspect my verbs do NOT agree =) In the belo...  \n",
       "22294  If I want to say that during the accident ther...  \n",
       "22597  Using MS Word, I typed, \"As Roblin and Adelaid...  \n",
       "24884  I am creating an app for Android in my locale ...  \n",
       "25082  > He walked out, Rachel's words indelibly etch...  \n",
       "26158  The content analysis study our group undertook...  \n",
       "29166  In a bulleted list of very technical sentences...  \n",
       "29559  How are we to understand whether present perfe...  \n",
       "34500  > \"I'm just sorry that she had to be your fort...  \n",
       "35300  \"If we were in a physical relationship, you ju...  \n",
       "36289  I heard this in a movie. What does it mean? > ...  \n",
       "36842  > Every morning right after I **went** to the ...  \n",
       "39369  I hope this is not a double post. Should I use...  "
      ]
     },
     "execution_count": 490,
     "metadata": {},
     "output_type": "execute_result"
    }
   ],
   "source": [
    "title_duplicates"
   ]
  },
  {
   "cell_type": "code",
   "execution_count": 513,
   "metadata": {},
   "outputs": [],
   "source": [
    "contains_word_duplicate = cqadupstack_corpus_df[cqadupstack_corpus_df[\"text\"].str.contains(\"duplicate\")]"
   ]
  },
  {
   "cell_type": "code",
   "execution_count": 515,
   "metadata": {},
   "outputs": [
    {
     "data": {
      "text/plain": [
       "'I checked the grammar of my research article using a leading software. This is my sentence:   * _A total of 12.3 million sequences_ **_was used_** _for the establishment of database._ The error is: _\\'Potential issues with passive voice usage\\'_ Anything wrong here? ( **NOTE:** Er, the OP\\'s question is about **passive voice** , but the \"duplicate\" linked thread is about subject-verb number agreement. Perhaps there\\'s a related issue here, on subject-verb number agreement (which is debatable), but the OP\\'s main question on passive voice ought to be addressed. Anyway, a short answer post here would probably be more appropriate than a related link. -- F.E.)'"
      ]
     },
     "execution_count": 515,
     "metadata": {},
     "output_type": "execute_result"
    }
   ],
   "source": [
    "contains_word_duplicate[\"text\"][15]"
   ]
  },
  {
   "cell_type": "markdown",
   "metadata": {},
   "source": [
    "'I checked the grammar of my research article using a leading software. This is my sentence:   * _A total of 12.3 million sequences_ **_was used_** _for the establishment of database._ The error is: _\\'Potential issues with passive voice usage\\'_ Anything wrong here? ( **NOTE:** Er, the OP\\'s question is about **passive voice** , but the \"duplicate\" linked thread is about subject-verb number agreement. Perhaps there\\'s a related issue here, on subject-verb number agreement (which is debatable), but the OP\\'s main question on passive voice ought to be addressed. Anyway, a short answer post here would probably be more appropriate than a related link. -- F.E.)'"
   ]
  },
  {
   "cell_type": "markdown",
   "metadata": {},
   "source": [
    "some literally contain the word \"duplicate\""
   ]
  },
  {
   "cell_type": "markdown",
   "metadata": {},
   "source": [
    "first prepare dataset for query <> title:\n",
    "- just need to remove duplicate titles (already know that there are no duplicate queries)\n",
    "- fix query data accordingly"
   ]
  },
  {
   "cell_type": "code",
   "execution_count": 532,
   "metadata": {},
   "outputs": [],
   "source": [
    "def clean_query_title(corpus_df, default_df):\n",
    "    cleaned_corpus_df = corpus_df.drop_duplicates(subset=['title'], keep='first')\n",
    "\n",
    "    duplicates_corpus_df = corpus_df[corpus_df.duplicated(subset=['title'], keep=False)]\n",
    "\n",
    "    corpus_id_mapping = duplicates_corpus_df.groupby('title')['_id'].first().to_dict()\n",
    "    corpus_id_replacement = {row['_id']: corpus_id_mapping[row['title']] for _, row in duplicates_corpus_df.iterrows()}\n",
    "\n",
    "    default_df[\"corpus-id\"] = default_df[\"corpus-id\"].replace(corpus_id_replacement)\n",
    "\n",
    "    cleaned_default_df = default_df.drop_duplicates(subset=['query-id', 'corpus-id'])\n",
    "\n",
    "    return cleaned_corpus_df, cleaned_default_df"
   ]
  },
  {
   "cell_type": "code",
   "execution_count": 533,
   "metadata": {},
   "outputs": [],
   "source": [
    "cleaned_cqadupstack_corpus_df_title, cleaned_cqadupstack_default_df_title = clean_query_title(cqadupstack_corpus_df, cqadupstack_default_df)"
   ]
  },
  {
   "cell_type": "code",
   "execution_count": 534,
   "metadata": {},
   "outputs": [
    {
     "data": {
      "text/plain": [
       "40221"
      ]
     },
     "execution_count": 534,
     "metadata": {},
     "output_type": "execute_result"
    }
   ],
   "source": [
    "len(cqadupstack_corpus_df)"
   ]
  },
  {
   "cell_type": "code",
   "execution_count": 536,
   "metadata": {},
   "outputs": [
    {
     "data": {
      "text/plain": [
       "40207"
      ]
     },
     "execution_count": 536,
     "metadata": {},
     "output_type": "execute_result"
    }
   ],
   "source": [
    "len(cleaned_cqadupstack_corpus_df_title)"
   ]
  },
  {
   "cell_type": "code",
   "execution_count": 537,
   "metadata": {},
   "outputs": [
    {
     "data": {
      "text/plain": [
       "3765"
      ]
     },
     "execution_count": 537,
     "metadata": {},
     "output_type": "execute_result"
    }
   ],
   "source": [
    "len(cqadupstack_default_df)"
   ]
  },
  {
   "cell_type": "code",
   "execution_count": 538,
   "metadata": {},
   "outputs": [
    {
     "data": {
      "text/plain": [
       "3764"
      ]
     },
     "execution_count": 538,
     "metadata": {},
     "output_type": "execute_result"
    }
   ],
   "source": [
    "len(cleaned_cqadupstack_default_df_title)"
   ]
  },
  {
   "cell_type": "markdown",
   "metadata": {},
   "source": [
    "query <> text"
   ]
  },
  {
   "cell_type": "code",
   "execution_count": 541,
   "metadata": {},
   "outputs": [
    {
     "data": {
      "text/html": [
       "<div>\n",
       "<style scoped>\n",
       "    .dataframe tbody tr th:only-of-type {\n",
       "        vertical-align: middle;\n",
       "    }\n",
       "\n",
       "    .dataframe tbody tr th {\n",
       "        vertical-align: top;\n",
       "    }\n",
       "\n",
       "    .dataframe thead th {\n",
       "        text-align: right;\n",
       "    }\n",
       "</style>\n",
       "<table border=\"1\" class=\"dataframe\">\n",
       "  <thead>\n",
       "    <tr style=\"text-align: right;\">\n",
       "      <th></th>\n",
       "      <th>_id</th>\n",
       "      <th>title</th>\n",
       "      <th>text</th>\n",
       "    </tr>\n",
       "  </thead>\n",
       "  <tbody>\n",
       "    <tr>\n",
       "      <th>15</th>\n",
       "      <td>168653</td>\n",
       "      <td>Potential issues with passive voice usage</td>\n",
       "      <td>I checked the grammar of my research article u...</td>\n",
       "    </tr>\n",
       "    <tr>\n",
       "      <th>43</th>\n",
       "      <td>164832</td>\n",
       "      <td>Conjugation of answer to \"How much money is th...</td>\n",
       "      <td>I'm using a website - www.ixl.com \\- to teach ...</td>\n",
       "    </tr>\n",
       "    <tr>\n",
       "      <th>122</th>\n",
       "      <td>132833</td>\n",
       "      <td>Should words that finish with an \"s\" take \"'s\"...</td>\n",
       "      <td>For example, should I write : (1) Chris's dog ...</td>\n",
       "    </tr>\n",
       "    <tr>\n",
       "      <th>132</th>\n",
       "      <td>44026</td>\n",
       "      <td>What is the correct syntax for a plural posses...</td>\n",
       "      <td>&gt; **Possible Duplicate:**   &gt;  What is the cor...</td>\n",
       "    </tr>\n",
       "    <tr>\n",
       "      <th>460</th>\n",
       "      <td>861</td>\n",
       "      <td>What does Maugham mean by \"his spaghetti were\"?</td>\n",
       "      <td>&gt; **Possible Duplicate:**   &gt;  Was the usage \"...</td>\n",
       "    </tr>\n",
       "    <tr>\n",
       "      <th>...</th>\n",
       "      <td>...</td>\n",
       "      <td>...</td>\n",
       "      <td>...</td>\n",
       "    </tr>\n",
       "    <tr>\n",
       "      <th>37896</th>\n",
       "      <td>173840</td>\n",
       "      <td>Translating from American to Canadian, when th...</td>\n",
       "      <td>This is not a duplicate of questions such as“L...</td>\n",
       "    </tr>\n",
       "    <tr>\n",
       "      <th>38037</th>\n",
       "      <td>58672</td>\n",
       "      <td>Comma confusion</td>\n",
       "      <td>I'm pretty sure this is a duplicate, but it's ...</td>\n",
       "    </tr>\n",
       "    <tr>\n",
       "      <th>38353</th>\n",
       "      <td>191816</td>\n",
       "      <td>Is it recommended to include a preposition whe...</td>\n",
       "      <td>Consider the sample sentence below (quoted fro...</td>\n",
       "    </tr>\n",
       "    <tr>\n",
       "      <th>38549</th>\n",
       "      <td>68749</td>\n",
       "      <td>What do we need for a stress in a word?</td>\n",
       "      <td>I am non-native in English, so this question m...</td>\n",
       "    </tr>\n",
       "    <tr>\n",
       "      <th>39598</th>\n",
       "      <td>142453</td>\n",
       "      <td>How widespread are snow goblins?</td>\n",
       "      <td>I live in the Northeastern part of the US. We'...</td>\n",
       "    </tr>\n",
       "  </tbody>\n",
       "</table>\n",
       "<p>107 rows × 3 columns</p>\n",
       "</div>"
      ],
      "text/plain": [
       "          _id                                              title  \\\n",
       "15     168653          Potential issues with passive voice usage   \n",
       "43     164832  Conjugation of answer to \"How much money is th...   \n",
       "122    132833  Should words that finish with an \"s\" take \"'s\"...   \n",
       "132     44026  What is the correct syntax for a plural posses...   \n",
       "460       861    What does Maugham mean by \"his spaghetti were\"?   \n",
       "...       ...                                                ...   \n",
       "37896  173840  Translating from American to Canadian, when th...   \n",
       "38037   58672                                    Comma confusion   \n",
       "38353  191816  Is it recommended to include a preposition whe...   \n",
       "38549   68749            What do we need for a stress in a word?   \n",
       "39598  142453                   How widespread are snow goblins?   \n",
       "\n",
       "                                                    text  \n",
       "15     I checked the grammar of my research article u...  \n",
       "43     I'm using a website - www.ixl.com \\- to teach ...  \n",
       "122    For example, should I write : (1) Chris's dog ...  \n",
       "132    > **Possible Duplicate:**   >  What is the cor...  \n",
       "460    > **Possible Duplicate:**   >  Was the usage \"...  \n",
       "...                                                  ...  \n",
       "37896  This is not a duplicate of questions such as“L...  \n",
       "38037  I'm pretty sure this is a duplicate, but it's ...  \n",
       "38353  Consider the sample sentence below (quoted fro...  \n",
       "38549  I am non-native in English, so this question m...  \n",
       "39598  I live in the Northeastern part of the US. We'...  \n",
       "\n",
       "[107 rows x 3 columns]"
      ]
     },
     "execution_count": 541,
     "metadata": {},
     "output_type": "execute_result"
    }
   ],
   "source": [
    "contains_word_duplicate"
   ]
  },
  {
   "cell_type": "code",
   "execution_count": 545,
   "metadata": {},
   "outputs": [
    {
     "data": {
      "text/plain": [
       "'> **Possible Duplicate:**   >  Which is correct, \"you and I\" or \"you and me\"? I was surprised to hear \"you and I,\" when I expected \"you and me.\" Are the two expressions synonyms to each other?'"
      ]
     },
     "execution_count": 545,
     "metadata": {},
     "output_type": "execute_result"
    }
   ],
   "source": [
    "title_duplicates[title_duplicates[\"_id\"] == \"16511\"][\"text\"][626]"
   ]
  },
  {
   "cell_type": "code",
   "execution_count": 546,
   "metadata": {},
   "outputs": [
    {
     "data": {
      "text/plain": [
       "'> **Possible Duplicate:**   >  Which is correct, \"you and I\" or \"you and me\"? When I was in primary school, I was advised by my English teacher to use \"you and I\" instead of \"you and me.\" I know some people out there still use \"You and me.\" Can anyone explain why we should use \"you and I\" and what is wrong with \"you and me\"?'"
      ]
     },
     "execution_count": 546,
     "metadata": {},
     "output_type": "execute_result"
    }
   ],
   "source": [
    "title_duplicates[title_duplicates[\"_id\"] == \"5359\"][\"text\"][655]"
   ]
  },
  {
   "cell_type": "markdown",
   "metadata": {},
   "source": [
    "'> **Possible Duplicate:**   >  Which is correct, \"you and I\" or \"you and me\"? I was surprised to hear \"you and I,\" when I expected \"you and me.\" Are the two expressions synonyms to each other?'\n",
    "\n",
    "'> **Possible Duplicate:**   >  Which is correct, \"you and I\" or \"you and me\"? When I was in primary school, I was advised by my English teacher to use \"you and I\" instead of \"you and me.\" I know some people out there still use \"You and me.\" Can anyone explain why we should use \"you and I\" and what is wrong with \"you and me\"?'"
   ]
  },
  {
   "cell_type": "code",
   "execution_count": 547,
   "metadata": {},
   "outputs": [
    {
     "data": {
      "text/html": [
       "<div>\n",
       "<style scoped>\n",
       "    .dataframe tbody tr th:only-of-type {\n",
       "        vertical-align: middle;\n",
       "    }\n",
       "\n",
       "    .dataframe tbody tr th {\n",
       "        vertical-align: top;\n",
       "    }\n",
       "\n",
       "    .dataframe thead th {\n",
       "        text-align: right;\n",
       "    }\n",
       "</style>\n",
       "<table border=\"1\" class=\"dataframe\">\n",
       "  <thead>\n",
       "    <tr style=\"text-align: right;\">\n",
       "      <th></th>\n",
       "      <th>_id</th>\n",
       "      <th>title</th>\n",
       "      <th>text</th>\n",
       "    </tr>\n",
       "  </thead>\n",
       "  <tbody>\n",
       "    <tr>\n",
       "      <th>285</th>\n",
       "      <td>64421</td>\n",
       "      <td>Is this sentence grammatically correct?</td>\n",
       "      <td>&gt; **Duplicate of:**   &gt;  When is it appropriat...</td>\n",
       "    </tr>\n",
       "    <tr>\n",
       "      <th>35300</th>\n",
       "      <td>168655</td>\n",
       "      <td>Is this sentence grammatically correct?</td>\n",
       "      <td>\"If we were in a physical relationship, you ju...</td>\n",
       "    </tr>\n",
       "  </tbody>\n",
       "</table>\n",
       "</div>"
      ],
      "text/plain": [
       "          _id                                    title  \\\n",
       "285     64421  Is this sentence grammatically correct?   \n",
       "35300  168655  Is this sentence grammatically correct?   \n",
       "\n",
       "                                                    text  \n",
       "285    > **Duplicate of:**   >  When is it appropriat...  \n",
       "35300  \"If we were in a physical relationship, you ju...  "
      ]
     },
     "execution_count": 547,
     "metadata": {},
     "output_type": "execute_result"
    }
   ],
   "source": [
    "title_duplicates[title_duplicates[\"title\"] == \"Is this sentence grammatically correct?\"]"
   ]
  },
  {
   "cell_type": "code",
   "execution_count": 548,
   "metadata": {},
   "outputs": [
    {
     "data": {
      "text/plain": [
       "'> **Duplicate of:**   >  When is it appropriate to end a sentence in a preposition?   >  Possessive connecting word for inanimate object I am not sure about following sentence being grammatically correct: > ..such as the X fund the board of directors of which I have just became a > member. OR > such as the X fund whose board of directors I have just became a member > (of?).'"
      ]
     },
     "execution_count": 548,
     "metadata": {},
     "output_type": "execute_result"
    }
   ],
   "source": [
    "title_duplicates[title_duplicates[\"_id\"] == \"64421\"][\"text\"][285]"
   ]
  },
  {
   "cell_type": "markdown",
   "metadata": {},
   "source": [
    "'> **Duplicate of:**   >  When is it appropriate to end a sentence in a preposition?   >  Possessive connecting word for inanimate object I am not sure about following sentence being grammatically correct: > ..such as the X fund the board of directors of which I have just became a > member. OR > such as the X fund whose board of directors I have just became a member > (of?).'"
   ]
  },
  {
   "cell_type": "code",
   "execution_count": 551,
   "metadata": {},
   "outputs": [],
   "source": [
    "testing = cqadupstack_corpus_df[cqadupstack_corpus_df[\"text\"].str.contains(\"When is it appropriate to end a sentence in a preposition?\")]"
   ]
  },
  {
   "cell_type": "code",
   "execution_count": 552,
   "metadata": {},
   "outputs": [
    {
     "name": "stdout",
     "output_type": "stream",
     "text": [
      "> **Duplicate of:**   >  When is it appropriate to end a sentence in a preposition?   >  Possessive connecting word for inanimate object I am not sure about following sentence being grammatically correct: > ..such as the X fund the board of directors of which I have just became a > member. OR > such as the X fund whose board of directors I have just became a member > (of?).\n",
      "> **Possible Duplicate:**   >  When is it appropriate to end a sentence in a preposition? I would like to know which is correct and why: > There is a new search of which I've become aware. or > There is a new search I've become aware of.\n",
      "> **Possible Duplicate:**   >  When is it appropriate to end a sentence in a preposition? \"a soul can sense when it’s being talked to.\" Does this sound OK? I don't like ending with a preposition, but it does get the point across. Any suggestions to replacing the phrase \"being talked to\" Thanks After reading similar questions on this topic, Edward Tanguay referenced a site, http://grammar.yourdictionary.com/parts-of-speech/prepositions/ending-a- sentence-with-a-preposition.html which basically states to avoid confusion try not ending with a preposition. So I'll change it from: \"a soul can sense when it’s being talked to.\" to one of these: \"a soul can sense when it’s being summoned.\" \"a soul can sense when it’s being addressed.\" Not exactly the meaning I wanted, but gets the preposition out of the way. Thanks,\n",
      "> **Possible Duplicate:**   >  When is it appropriate to end a sentence in a preposition? If I can't end a sentence with the preposition \"with\", does this mean that the following sentences are grammatically wrong? If so, why? > At least we have some information to work with. > > She is finding the job very hard to cope with. > > Blasphemy is one thing I will not put up with. Does anyone else have any examples of sentences ending with, with?\n",
      "> **Possible Duplicate:**   >  When is it appropriate to end a sentence in a preposition? In this answer I wrote > [You can use it] to take pictures of a movie in a cinema, of which the > cinema guys probably wouldn't approve. but I am not sure if it should rather be > [You can use it] to take pictures of a movie in a cinema, which the cinema > guys probably wouldn't approve of. I found this page but I'm still unable to find out which example it relates to. (... to which example it relates?)\n"
     ]
    }
   ],
   "source": [
    "for text in testing[\"text\"]:\n",
    "    print(text)"
   ]
  },
  {
   "cell_type": "markdown",
   "metadata": {},
   "source": [
    "The Duplicate of and Possible Duplicates contain some of the same text, but each are still unique\n",
    "- how should I be thinking about this?\n",
    "\n",
    "Will just clean text to remove > **Duplicate of:**   >  and > **Possible Duplicate:**   >"
   ]
  },
  {
   "cell_type": "code",
   "execution_count": null,
   "metadata": {},
   "outputs": [],
   "source": [
    "cleaned_cqadupstack_corpus_df_text = cqadupstack_corpus_df.copy()"
   ]
  },
  {
   "cell_type": "code",
   "execution_count": 562,
   "metadata": {},
   "outputs": [],
   "source": [
    "cleaned_cqadupstack_corpus_df_text[\"text\"] = cleaned_cqadupstack_corpus_df_text[\"text\"].str.replace(r\"> \\*\\*Duplicate of:\\*\\*   >\", \"\", regex=True)"
   ]
  },
  {
   "cell_type": "code",
   "execution_count": 563,
   "metadata": {},
   "outputs": [],
   "source": [
    "cleaned_cqadupstack_corpus_df_text[\"text\"] = cleaned_cqadupstack_corpus_df_text[\"text\"].str.replace(r\"> \\*\\*Possible Duplicate:\\*\\*   >\", \"\", regex=True)"
   ]
  },
  {
   "cell_type": "markdown",
   "metadata": {},
   "source": [
    "#### Final datasets"
   ]
  },
  {
   "cell_type": "markdown",
   "metadata": {},
   "source": [
    "for query <> title"
   ]
  },
  {
   "cell_type": "code",
   "execution_count": 539,
   "metadata": {},
   "outputs": [
    {
     "data": {
      "text/html": [
       "<div>\n",
       "<style scoped>\n",
       "    .dataframe tbody tr th:only-of-type {\n",
       "        vertical-align: middle;\n",
       "    }\n",
       "\n",
       "    .dataframe tbody tr th {\n",
       "        vertical-align: top;\n",
       "    }\n",
       "\n",
       "    .dataframe thead th {\n",
       "        text-align: right;\n",
       "    }\n",
       "</style>\n",
       "<table border=\"1\" class=\"dataframe\">\n",
       "  <thead>\n",
       "    <tr style=\"text-align: right;\">\n",
       "      <th></th>\n",
       "      <th>_id</th>\n",
       "      <th>title</th>\n",
       "      <th>text</th>\n",
       "    </tr>\n",
       "  </thead>\n",
       "  <tbody>\n",
       "    <tr>\n",
       "      <th>0</th>\n",
       "      <td>11547</td>\n",
       "      <td>Is there a word meaning \"an unwanted eponym\"?</td>\n",
       "      <td>An eponym is one way to eternal (if posthumous...</td>\n",
       "    </tr>\n",
       "    <tr>\n",
       "      <th>1</th>\n",
       "      <td>11549</td>\n",
       "      <td>\"Password Reset Mail\" or \"Reset Password Mail\"?</td>\n",
       "      <td>We are working on a web project that has a pas...</td>\n",
       "    </tr>\n",
       "    <tr>\n",
       "      <th>2</th>\n",
       "      <td>123851</td>\n",
       "      <td>Are homonyms considered single words?</td>\n",
       "      <td>There are many homonyms in the English languag...</td>\n",
       "    </tr>\n",
       "    <tr>\n",
       "      <th>3</th>\n",
       "      <td>116661</td>\n",
       "      <td>Which of these phrases are equivalent, if any,...</td>\n",
       "      <td>Some say the following two phrases are equival...</td>\n",
       "    </tr>\n",
       "    <tr>\n",
       "      <th>4</th>\n",
       "      <td>102236</td>\n",
       "      <td>is it correct to use \"wide range of courses th...</td>\n",
       "      <td>Please tell me if the following sentence requi...</td>\n",
       "    </tr>\n",
       "  </tbody>\n",
       "</table>\n",
       "</div>"
      ],
      "text/plain": [
       "      _id                                              title  \\\n",
       "0   11547      Is there a word meaning \"an unwanted eponym\"?   \n",
       "1   11549    \"Password Reset Mail\" or \"Reset Password Mail\"?   \n",
       "2  123851              Are homonyms considered single words?   \n",
       "3  116661  Which of these phrases are equivalent, if any,...   \n",
       "4  102236  is it correct to use \"wide range of courses th...   \n",
       "\n",
       "                                                text  \n",
       "0  An eponym is one way to eternal (if posthumous...  \n",
       "1  We are working on a web project that has a pas...  \n",
       "2  There are many homonyms in the English languag...  \n",
       "3  Some say the following two phrases are equival...  \n",
       "4  Please tell me if the following sentence requi...  "
      ]
     },
     "execution_count": 539,
     "metadata": {},
     "output_type": "execute_result"
    }
   ],
   "source": [
    "cleaned_cqadupstack_corpus_df_title.head()"
   ]
  },
  {
   "cell_type": "code",
   "execution_count": 540,
   "metadata": {},
   "outputs": [
    {
     "data": {
      "text/html": [
       "<div>\n",
       "<style scoped>\n",
       "    .dataframe tbody tr th:only-of-type {\n",
       "        vertical-align: middle;\n",
       "    }\n",
       "\n",
       "    .dataframe tbody tr th {\n",
       "        vertical-align: top;\n",
       "    }\n",
       "\n",
       "    .dataframe thead th {\n",
       "        text-align: right;\n",
       "    }\n",
       "</style>\n",
       "<table border=\"1\" class=\"dataframe\">\n",
       "  <thead>\n",
       "    <tr style=\"text-align: right;\">\n",
       "      <th></th>\n",
       "      <th>query-id</th>\n",
       "      <th>corpus-id</th>\n",
       "      <th>score</th>\n",
       "    </tr>\n",
       "  </thead>\n",
       "  <tbody>\n",
       "    <tr>\n",
       "      <th>0</th>\n",
       "      <td>19399</td>\n",
       "      <td>102236</td>\n",
       "      <td>1.0</td>\n",
       "    </tr>\n",
       "    <tr>\n",
       "      <th>1</th>\n",
       "      <td>19399</td>\n",
       "      <td>91901</td>\n",
       "      <td>1.0</td>\n",
       "    </tr>\n",
       "    <tr>\n",
       "      <th>2</th>\n",
       "      <td>19399</td>\n",
       "      <td>177507</td>\n",
       "      <td>1.0</td>\n",
       "    </tr>\n",
       "    <tr>\n",
       "      <th>3</th>\n",
       "      <td>19399</td>\n",
       "      <td>80798</td>\n",
       "      <td>1.0</td>\n",
       "    </tr>\n",
       "    <tr>\n",
       "      <th>4</th>\n",
       "      <td>19399</td>\n",
       "      <td>112990</td>\n",
       "      <td>1.0</td>\n",
       "    </tr>\n",
       "  </tbody>\n",
       "</table>\n",
       "</div>"
      ],
      "text/plain": [
       "  query-id corpus-id  score\n",
       "0    19399    102236    1.0\n",
       "1    19399     91901    1.0\n",
       "2    19399    177507    1.0\n",
       "3    19399     80798    1.0\n",
       "4    19399    112990    1.0"
      ]
     },
     "execution_count": 540,
     "metadata": {},
     "output_type": "execute_result"
    }
   ],
   "source": [
    "cleaned_cqadupstack_default_df_title.head()"
   ]
  },
  {
   "cell_type": "markdown",
   "metadata": {},
   "source": [
    "for query <> text"
   ]
  },
  {
   "cell_type": "code",
   "execution_count": 564,
   "metadata": {},
   "outputs": [
    {
     "data": {
      "text/html": [
       "<div>\n",
       "<style scoped>\n",
       "    .dataframe tbody tr th:only-of-type {\n",
       "        vertical-align: middle;\n",
       "    }\n",
       "\n",
       "    .dataframe tbody tr th {\n",
       "        vertical-align: top;\n",
       "    }\n",
       "\n",
       "    .dataframe thead th {\n",
       "        text-align: right;\n",
       "    }\n",
       "</style>\n",
       "<table border=\"1\" class=\"dataframe\">\n",
       "  <thead>\n",
       "    <tr style=\"text-align: right;\">\n",
       "      <th></th>\n",
       "      <th>_id</th>\n",
       "      <th>title</th>\n",
       "      <th>text</th>\n",
       "    </tr>\n",
       "  </thead>\n",
       "  <tbody>\n",
       "    <tr>\n",
       "      <th>0</th>\n",
       "      <td>11547</td>\n",
       "      <td>Is there a word meaning \"an unwanted eponym\"?</td>\n",
       "      <td>An eponym is one way to eternal (if posthumous...</td>\n",
       "    </tr>\n",
       "    <tr>\n",
       "      <th>1</th>\n",
       "      <td>11549</td>\n",
       "      <td>\"Password Reset Mail\" or \"Reset Password Mail\"?</td>\n",
       "      <td>We are working on a web project that has a pas...</td>\n",
       "    </tr>\n",
       "    <tr>\n",
       "      <th>2</th>\n",
       "      <td>123851</td>\n",
       "      <td>Are homonyms considered single words?</td>\n",
       "      <td>There are many homonyms in the English languag...</td>\n",
       "    </tr>\n",
       "    <tr>\n",
       "      <th>3</th>\n",
       "      <td>116661</td>\n",
       "      <td>Which of these phrases are equivalent, if any,...</td>\n",
       "      <td>Some say the following two phrases are equival...</td>\n",
       "    </tr>\n",
       "    <tr>\n",
       "      <th>4</th>\n",
       "      <td>102236</td>\n",
       "      <td>is it correct to use \"wide range of courses th...</td>\n",
       "      <td>Please tell me if the following sentence requi...</td>\n",
       "    </tr>\n",
       "  </tbody>\n",
       "</table>\n",
       "</div>"
      ],
      "text/plain": [
       "      _id                                              title  \\\n",
       "0   11547      Is there a word meaning \"an unwanted eponym\"?   \n",
       "1   11549    \"Password Reset Mail\" or \"Reset Password Mail\"?   \n",
       "2  123851              Are homonyms considered single words?   \n",
       "3  116661  Which of these phrases are equivalent, if any,...   \n",
       "4  102236  is it correct to use \"wide range of courses th...   \n",
       "\n",
       "                                                text  \n",
       "0  An eponym is one way to eternal (if posthumous...  \n",
       "1  We are working on a web project that has a pas...  \n",
       "2  There are many homonyms in the English languag...  \n",
       "3  Some say the following two phrases are equival...  \n",
       "4  Please tell me if the following sentence requi...  "
      ]
     },
     "execution_count": 564,
     "metadata": {},
     "output_type": "execute_result"
    }
   ],
   "source": [
    "cleaned_cqadupstack_corpus_df_text.head()"
   ]
  },
  {
   "cell_type": "code",
   "execution_count": 565,
   "metadata": {},
   "outputs": [
    {
     "data": {
      "text/html": [
       "<div>\n",
       "<style scoped>\n",
       "    .dataframe tbody tr th:only-of-type {\n",
       "        vertical-align: middle;\n",
       "    }\n",
       "\n",
       "    .dataframe tbody tr th {\n",
       "        vertical-align: top;\n",
       "    }\n",
       "\n",
       "    .dataframe thead th {\n",
       "        text-align: right;\n",
       "    }\n",
       "</style>\n",
       "<table border=\"1\" class=\"dataframe\">\n",
       "  <thead>\n",
       "    <tr style=\"text-align: right;\">\n",
       "      <th></th>\n",
       "      <th>query-id</th>\n",
       "      <th>corpus-id</th>\n",
       "      <th>score</th>\n",
       "    </tr>\n",
       "  </thead>\n",
       "  <tbody>\n",
       "    <tr>\n",
       "      <th>0</th>\n",
       "      <td>19399</td>\n",
       "      <td>102236</td>\n",
       "      <td>1.0</td>\n",
       "    </tr>\n",
       "    <tr>\n",
       "      <th>1</th>\n",
       "      <td>19399</td>\n",
       "      <td>91901</td>\n",
       "      <td>1.0</td>\n",
       "    </tr>\n",
       "    <tr>\n",
       "      <th>2</th>\n",
       "      <td>19399</td>\n",
       "      <td>177507</td>\n",
       "      <td>1.0</td>\n",
       "    </tr>\n",
       "    <tr>\n",
       "      <th>3</th>\n",
       "      <td>19399</td>\n",
       "      <td>80798</td>\n",
       "      <td>1.0</td>\n",
       "    </tr>\n",
       "    <tr>\n",
       "      <th>4</th>\n",
       "      <td>19399</td>\n",
       "      <td>112990</td>\n",
       "      <td>1.0</td>\n",
       "    </tr>\n",
       "  </tbody>\n",
       "</table>\n",
       "</div>"
      ],
      "text/plain": [
       "  query-id corpus-id  score\n",
       "0    19399    102236    1.0\n",
       "1    19399     91901    1.0\n",
       "2    19399    177507    1.0\n",
       "3    19399     80798    1.0\n",
       "4    19399    112990    1.0"
      ]
     },
     "execution_count": 565,
     "metadata": {},
     "output_type": "execute_result"
    }
   ],
   "source": [
    "cqadupstack_default_df.head()"
   ]
  },
  {
   "cell_type": "markdown",
   "metadata": {},
   "source": [
    "we use the same query df for both"
   ]
  },
  {
   "cell_type": "code",
   "execution_count": 567,
   "metadata": {},
   "outputs": [
    {
     "data": {
      "text/html": [
       "<div>\n",
       "<style scoped>\n",
       "    .dataframe tbody tr th:only-of-type {\n",
       "        vertical-align: middle;\n",
       "    }\n",
       "\n",
       "    .dataframe tbody tr th {\n",
       "        vertical-align: top;\n",
       "    }\n",
       "\n",
       "    .dataframe thead th {\n",
       "        text-align: right;\n",
       "    }\n",
       "</style>\n",
       "<table border=\"1\" class=\"dataframe\">\n",
       "  <thead>\n",
       "    <tr style=\"text-align: right;\">\n",
       "      <th></th>\n",
       "      <th>_id</th>\n",
       "      <th>text</th>\n",
       "    </tr>\n",
       "  </thead>\n",
       "  <tbody>\n",
       "    <tr>\n",
       "      <th>0</th>\n",
       "      <td>19399</td>\n",
       "      <td>Is \"a wide range of features\" singular or plural?</td>\n",
       "    </tr>\n",
       "    <tr>\n",
       "      <th>1</th>\n",
       "      <td>5987</td>\n",
       "      <td>Is there any rule for the placement of space a...</td>\n",
       "    </tr>\n",
       "    <tr>\n",
       "      <th>2</th>\n",
       "      <td>57488</td>\n",
       "      <td>Word for two people who are the same age</td>\n",
       "    </tr>\n",
       "    <tr>\n",
       "      <th>3</th>\n",
       "      <td>97154</td>\n",
       "      <td>What’s the pronunciation of “ s’ ”?</td>\n",
       "    </tr>\n",
       "    <tr>\n",
       "      <th>4</th>\n",
       "      <td>270</td>\n",
       "      <td>What is the correct plural of octopus?</td>\n",
       "    </tr>\n",
       "  </tbody>\n",
       "</table>\n",
       "</div>"
      ],
      "text/plain": [
       "     _id                                               text\n",
       "0  19399  Is \"a wide range of features\" singular or plural?\n",
       "1   5987  Is there any rule for the placement of space a...\n",
       "2  57488           Word for two people who are the same age\n",
       "3  97154                What’s the pronunciation of “ s’ ”?\n",
       "4    270             What is the correct plural of octopus?"
      ]
     },
     "execution_count": 567,
     "metadata": {},
     "output_type": "execute_result"
    }
   ],
   "source": [
    "cqadupstack_queries_df.head()"
   ]
  },
  {
   "cell_type": "markdown",
   "metadata": {},
   "source": [
    "### **Domain-Specific (English)**\n",
    "\n",
    "### MedicalQA - Medical"
   ]
  },
  {
   "cell_type": "code",
   "execution_count": 85,
   "metadata": {},
   "outputs": [],
   "source": [
    "medical_qa_default = datasets.load_dataset(\"mteb/medical_qa\", \"default\")\n",
    "medical_qa_queries = datasets.load_dataset(\"mteb/medical_qa\", \"queries\")\n",
    "medical_qa_corpus = datasets.load_dataset(\"mteb/medical_qa\", \"corpus\")"
   ]
  },
  {
   "cell_type": "code",
   "execution_count": 86,
   "metadata": {},
   "outputs": [],
   "source": [
    "medical_qa_default_qa_df = medical_qa_default[\"test\"].to_pandas()\n",
    "medical_qa_queries_df = medical_qa_queries[\"queries\"].to_pandas()\n",
    "medical_qa_corpus_df = medical_qa_corpus[\"corpus\"].to_pandas()"
   ]
  },
  {
   "cell_type": "code",
   "execution_count": 90,
   "metadata": {},
   "outputs": [
    {
     "data": {
      "text/plain": [
       "'Who is at risk for Lymphocytic Choriomeningitis (LCM)? ?'"
      ]
     },
     "execution_count": 90,
     "metadata": {},
     "output_type": "execute_result"
    }
   ],
   "source": [
    "medical_qa_queries_df[\"text\"][0]"
   ]
  },
  {
   "cell_type": "code",
   "execution_count": 91,
   "metadata": {},
   "outputs": [
    {
     "data": {
      "text/plain": [
       "'LCMV infections can occur after exposure to fresh urine, droppings, saliva, or nesting materials from infected rodents.  Transmission may also occur when these materials are directly introduced into broken skin, the nose, the eyes, or the mouth, or presumably, via the bite of an infected rodent. Person-to-person transmission has not been reported, with the exception of vertical transmission from infected mother to fetus, and rarely, through organ transplantation.'"
      ]
     },
     "execution_count": 91,
     "metadata": {},
     "output_type": "execute_result"
    }
   ],
   "source": [
    "medical_qa_corpus_df[\"text\"][0]"
   ]
  },
  {
   "cell_type": "code",
   "execution_count": 95,
   "metadata": {},
   "outputs": [
    {
     "data": {
      "text/plain": [
       "2048"
      ]
     },
     "execution_count": 95,
     "metadata": {},
     "output_type": "execute_result"
    }
   ],
   "source": [
    "len(medical_qa_corpus_df)"
   ]
  },
  {
   "cell_type": "code",
   "execution_count": 96,
   "metadata": {},
   "outputs": [
    {
     "data": {
      "text/plain": [
       "2007"
      ]
     },
     "execution_count": 96,
     "metadata": {},
     "output_type": "execute_result"
    }
   ],
   "source": [
    "medical_qa_corpus_deduplicated = medical_qa_corpus_df.drop_duplicates(subset=['text'], keep='first')\n",
    "len(medical_qa_corpus_deduplicated)"
   ]
  },
  {
   "cell_type": "code",
   "execution_count": 98,
   "metadata": {},
   "outputs": [
    {
     "data": {
      "text/plain": [
       "2048"
      ]
     },
     "execution_count": 98,
     "metadata": {},
     "output_type": "execute_result"
    }
   ],
   "source": [
    "len(medical_qa_queries_df)"
   ]
  },
  {
   "cell_type": "code",
   "execution_count": 99,
   "metadata": {},
   "outputs": [
    {
     "data": {
      "text/plain": [
       "1820"
      ]
     },
     "execution_count": 99,
     "metadata": {},
     "output_type": "execute_result"
    }
   ],
   "source": [
    "medical_qa_queries_deduplicated = medical_qa_queries_df.drop_duplicates(subset=['text'], keep='first')\n",
    "len(medical_qa_queries_deduplicated)"
   ]
  },
  {
   "cell_type": "code",
   "execution_count": 119,
   "metadata": {},
   "outputs": [],
   "source": [
    "duplicated_queries = medical_qa_queries_df[medical_qa_queries_df.duplicated(subset=['text'], keep=False)] # False keeps first occurance in df, so we can use this for filter pairing\n",
    "duplicated_corpus = medical_qa_corpus_df[medical_qa_corpus_df.duplicated(subset=['text'], keep=False)]"
   ]
  },
  {
   "cell_type": "code",
   "execution_count": 124,
   "metadata": {},
   "outputs": [
    {
     "data": {
      "text/html": [
       "<div>\n",
       "<style scoped>\n",
       "    .dataframe tbody tr th:only-of-type {\n",
       "        vertical-align: middle;\n",
       "    }\n",
       "\n",
       "    .dataframe tbody tr th {\n",
       "        vertical-align: top;\n",
       "    }\n",
       "\n",
       "    .dataframe thead th {\n",
       "        text-align: right;\n",
       "    }\n",
       "</style>\n",
       "<table border=\"1\" class=\"dataframe\">\n",
       "  <thead>\n",
       "    <tr style=\"text-align: right;\">\n",
       "      <th></th>\n",
       "      <th>_id</th>\n",
       "      <th>text</th>\n",
       "    </tr>\n",
       "  </thead>\n",
       "  <tbody>\n",
       "    <tr>\n",
       "      <th>0</th>\n",
       "      <td>2d3e200a-8ddf-4062-a678-f5d0401c54ad</td>\n",
       "      <td>Who is at risk for Lymphocytic Choriomeningiti...</td>\n",
       "    </tr>\n",
       "    <tr>\n",
       "      <th>2</th>\n",
       "      <td>e385efaa-fc37-4ae4-9f85-bc5c0d09e5bc</td>\n",
       "      <td>Who is at risk for Lymphocytic Choriomeningiti...</td>\n",
       "    </tr>\n",
       "    <tr>\n",
       "      <th>55</th>\n",
       "      <td>37b0c3df-84fb-4789-a414-92ddcf9f9c93</td>\n",
       "      <td>Who is at risk for Alkhurma Hemorrhagic Fever ...</td>\n",
       "    </tr>\n",
       "    <tr>\n",
       "      <th>57</th>\n",
       "      <td>c4e4428a-597f-48f3-9f53-b9ee2ebd6e6e</td>\n",
       "      <td>Who is at risk for Alkhurma Hemorrhagic Fever ...</td>\n",
       "    </tr>\n",
       "    <tr>\n",
       "      <th>87</th>\n",
       "      <td>a167f41d-088a-442f-9f67-4b63f2fb58a6</td>\n",
       "      <td>Who is at risk for Marburg hemorrhagic fever (...</td>\n",
       "    </tr>\n",
       "    <tr>\n",
       "      <th>...</th>\n",
       "      <td>...</td>\n",
       "      <td>...</td>\n",
       "    </tr>\n",
       "    <tr>\n",
       "      <th>2039</th>\n",
       "      <td>c94a5b9f-29a8-4c56-834b-c14bf5b7ae6b</td>\n",
       "      <td>What is (are) Primary Hyperparathyroidism ?</td>\n",
       "    </tr>\n",
       "    <tr>\n",
       "      <th>2042</th>\n",
       "      <td>8a105170-77a8-4706-8fbc-c33b65fe7a69</td>\n",
       "      <td>How to diagnose Primary Hyperparathyroidism ?</td>\n",
       "    </tr>\n",
       "    <tr>\n",
       "      <th>2043</th>\n",
       "      <td>41205ac9-b711-464a-83ff-feeb151e677b</td>\n",
       "      <td>How to diagnose Primary Hyperparathyroidism ?</td>\n",
       "    </tr>\n",
       "    <tr>\n",
       "      <th>2045</th>\n",
       "      <td>2ac6e1b0-09b3-4457-93a4-933e1c72103b</td>\n",
       "      <td>What to do for Primary Hyperparathyroidism ?</td>\n",
       "    </tr>\n",
       "    <tr>\n",
       "      <th>2046</th>\n",
       "      <td>33020485-905e-4052-9086-97cbe809c5f1</td>\n",
       "      <td>What to do for Primary Hyperparathyroidism ?</td>\n",
       "    </tr>\n",
       "  </tbody>\n",
       "</table>\n",
       "<p>394 rows × 2 columns</p>\n",
       "</div>"
      ],
      "text/plain": [
       "                                       _id  \\\n",
       "0     2d3e200a-8ddf-4062-a678-f5d0401c54ad   \n",
       "2     e385efaa-fc37-4ae4-9f85-bc5c0d09e5bc   \n",
       "55    37b0c3df-84fb-4789-a414-92ddcf9f9c93   \n",
       "57    c4e4428a-597f-48f3-9f53-b9ee2ebd6e6e   \n",
       "87    a167f41d-088a-442f-9f67-4b63f2fb58a6   \n",
       "...                                    ...   \n",
       "2039  c94a5b9f-29a8-4c56-834b-c14bf5b7ae6b   \n",
       "2042  8a105170-77a8-4706-8fbc-c33b65fe7a69   \n",
       "2043  41205ac9-b711-464a-83ff-feeb151e677b   \n",
       "2045  2ac6e1b0-09b3-4457-93a4-933e1c72103b   \n",
       "2046  33020485-905e-4052-9086-97cbe809c5f1   \n",
       "\n",
       "                                                   text  \n",
       "0     Who is at risk for Lymphocytic Choriomeningiti...  \n",
       "2     Who is at risk for Lymphocytic Choriomeningiti...  \n",
       "55    Who is at risk for Alkhurma Hemorrhagic Fever ...  \n",
       "57    Who is at risk for Alkhurma Hemorrhagic Fever ...  \n",
       "87    Who is at risk for Marburg hemorrhagic fever (...  \n",
       "...                                                 ...  \n",
       "2039        What is (are) Primary Hyperparathyroidism ?  \n",
       "2042      How to diagnose Primary Hyperparathyroidism ?  \n",
       "2043      How to diagnose Primary Hyperparathyroidism ?  \n",
       "2045       What to do for Primary Hyperparathyroidism ?  \n",
       "2046       What to do for Primary Hyperparathyroidism ?  \n",
       "\n",
       "[394 rows x 2 columns]"
      ]
     },
     "execution_count": 124,
     "metadata": {},
     "output_type": "execute_result"
    }
   ],
   "source": [
    "duplicated_queries"
   ]
  },
  {
   "cell_type": "code",
   "execution_count": 117,
   "metadata": {},
   "outputs": [
    {
     "data": {
      "text/html": [
       "<div>\n",
       "<style scoped>\n",
       "    .dataframe tbody tr th:only-of-type {\n",
       "        vertical-align: middle;\n",
       "    }\n",
       "\n",
       "    .dataframe tbody tr th {\n",
       "        vertical-align: top;\n",
       "    }\n",
       "\n",
       "    .dataframe thead th {\n",
       "        text-align: right;\n",
       "    }\n",
       "</style>\n",
       "<table border=\"1\" class=\"dataframe\">\n",
       "  <thead>\n",
       "    <tr style=\"text-align: right;\">\n",
       "      <th></th>\n",
       "      <th>_id</th>\n",
       "      <th>text</th>\n",
       "    </tr>\n",
       "  </thead>\n",
       "  <tbody>\n",
       "    <tr>\n",
       "      <th>0</th>\n",
       "      <td>2d3e200a-8ddf-4062-a678-f5d0401c54ad</td>\n",
       "      <td>Who is at risk for Lymphocytic Choriomeningiti...</td>\n",
       "    </tr>\n",
       "    <tr>\n",
       "      <th>1</th>\n",
       "      <td>bf3b28a5-db6f-412d-96f1-d67d17bcaef8</td>\n",
       "      <td>What are the symptoms of Lymphocytic Choriomen...</td>\n",
       "    </tr>\n",
       "    <tr>\n",
       "      <th>3</th>\n",
       "      <td>ebb4ab78-ff5f-4e78-ac14-bb98760c2a0a</td>\n",
       "      <td>How to diagnose Lymphocytic Choriomeningitis (...</td>\n",
       "    </tr>\n",
       "    <tr>\n",
       "      <th>4</th>\n",
       "      <td>9fd75f16-1bd5-4451-af69-5885b7d5267a</td>\n",
       "      <td>What are the treatments for Lymphocytic Chorio...</td>\n",
       "    </tr>\n",
       "    <tr>\n",
       "      <th>5</th>\n",
       "      <td>0f303917-6e53-449c-8242-7ab82e8fb78f</td>\n",
       "      <td>How to prevent Lymphocytic Choriomeningitis (L...</td>\n",
       "    </tr>\n",
       "    <tr>\n",
       "      <th>...</th>\n",
       "      <td>...</td>\n",
       "      <td>...</td>\n",
       "    </tr>\n",
       "    <tr>\n",
       "      <th>2041</th>\n",
       "      <td>8e88d11c-e574-450a-ade4-c3f96756cb51</td>\n",
       "      <td>What are the symptoms of Primary Hyperparathyr...</td>\n",
       "    </tr>\n",
       "    <tr>\n",
       "      <th>2042</th>\n",
       "      <td>8a105170-77a8-4706-8fbc-c33b65fe7a69</td>\n",
       "      <td>How to diagnose Primary Hyperparathyroidism ?</td>\n",
       "    </tr>\n",
       "    <tr>\n",
       "      <th>2044</th>\n",
       "      <td>2fdc3c5b-fdd7-4402-b5f2-edbadf83889d</td>\n",
       "      <td>What are the treatments for Primary Hyperparat...</td>\n",
       "    </tr>\n",
       "    <tr>\n",
       "      <th>2045</th>\n",
       "      <td>2ac6e1b0-09b3-4457-93a4-933e1c72103b</td>\n",
       "      <td>What to do for Primary Hyperparathyroidism ?</td>\n",
       "    </tr>\n",
       "    <tr>\n",
       "      <th>2047</th>\n",
       "      <td>c20f7a35-586c-4c80-ae3f-6a6c8bed99b2</td>\n",
       "      <td>What is (are) Urinary Incontinence in Men ?</td>\n",
       "    </tr>\n",
       "  </tbody>\n",
       "</table>\n",
       "<p>1820 rows × 2 columns</p>\n",
       "</div>"
      ],
      "text/plain": [
       "                                       _id  \\\n",
       "0     2d3e200a-8ddf-4062-a678-f5d0401c54ad   \n",
       "1     bf3b28a5-db6f-412d-96f1-d67d17bcaef8   \n",
       "3     ebb4ab78-ff5f-4e78-ac14-bb98760c2a0a   \n",
       "4     9fd75f16-1bd5-4451-af69-5885b7d5267a   \n",
       "5     0f303917-6e53-449c-8242-7ab82e8fb78f   \n",
       "...                                    ...   \n",
       "2041  8e88d11c-e574-450a-ade4-c3f96756cb51   \n",
       "2042  8a105170-77a8-4706-8fbc-c33b65fe7a69   \n",
       "2044  2fdc3c5b-fdd7-4402-b5f2-edbadf83889d   \n",
       "2045  2ac6e1b0-09b3-4457-93a4-933e1c72103b   \n",
       "2047  c20f7a35-586c-4c80-ae3f-6a6c8bed99b2   \n",
       "\n",
       "                                                   text  \n",
       "0     Who is at risk for Lymphocytic Choriomeningiti...  \n",
       "1     What are the symptoms of Lymphocytic Choriomen...  \n",
       "3     How to diagnose Lymphocytic Choriomeningitis (...  \n",
       "4     What are the treatments for Lymphocytic Chorio...  \n",
       "5     How to prevent Lymphocytic Choriomeningitis (L...  \n",
       "...                                                 ...  \n",
       "2041  What are the symptoms of Primary Hyperparathyr...  \n",
       "2042      How to diagnose Primary Hyperparathyroidism ?  \n",
       "2044  What are the treatments for Primary Hyperparat...  \n",
       "2045       What to do for Primary Hyperparathyroidism ?  \n",
       "2047        What is (are) Urinary Incontinence in Men ?  \n",
       "\n",
       "[1820 rows x 2 columns]"
      ]
     },
     "execution_count": 117,
     "metadata": {},
     "output_type": "execute_result"
    }
   ],
   "source": [
    "medical_qa_queries_deduplicated"
   ]
  },
  {
   "cell_type": "code",
   "execution_count": 104,
   "metadata": {},
   "outputs": [
    {
     "data": {
      "text/plain": [
       "2048"
      ]
     },
     "execution_count": 104,
     "metadata": {},
     "output_type": "execute_result"
    }
   ],
   "source": [
    "len(medical_qa_default_qa_df)"
   ]
  },
  {
   "cell_type": "code",
   "execution_count": 109,
   "metadata": {},
   "outputs": [
    {
     "data": {
      "text/plain": [
       "2048"
      ]
     },
     "execution_count": 109,
     "metadata": {},
     "output_type": "execute_result"
    }
   ],
   "source": [
    "medical_qa_default_qa_df_deduplicated = medical_qa_default_qa_df.drop_duplicates(subset=['query-id', 'corpus-id'], keep='first')\n",
    "len(medical_qa_default_qa_df_deduplicated)"
   ]
  },
  {
   "cell_type": "markdown",
   "metadata": {},
   "source": [
    "No duplicate pairs, so filter for what we found above"
   ]
  },
  {
   "cell_type": "code",
   "execution_count": 127,
   "metadata": {},
   "outputs": [
    {
     "data": {
      "text/plain": [
       "2048"
      ]
     },
     "execution_count": 127,
     "metadata": {},
     "output_type": "execute_result"
    }
   ],
   "source": [
    "len(medical_qa_default_qa_df)"
   ]
  },
  {
   "cell_type": "code",
   "execution_count": 125,
   "metadata": {},
   "outputs": [
    {
     "data": {
      "text/html": [
       "<div>\n",
       "<style scoped>\n",
       "    .dataframe tbody tr th:only-of-type {\n",
       "        vertical-align: middle;\n",
       "    }\n",
       "\n",
       "    .dataframe tbody tr th {\n",
       "        vertical-align: top;\n",
       "    }\n",
       "\n",
       "    .dataframe thead th {\n",
       "        text-align: right;\n",
       "    }\n",
       "</style>\n",
       "<table border=\"1\" class=\"dataframe\">\n",
       "  <thead>\n",
       "    <tr style=\"text-align: right;\">\n",
       "      <th></th>\n",
       "      <th>query-id</th>\n",
       "      <th>corpus-id</th>\n",
       "      <th>score</th>\n",
       "    </tr>\n",
       "  </thead>\n",
       "  <tbody>\n",
       "    <tr>\n",
       "      <th>0</th>\n",
       "      <td>2d3e200a-8ddf-4062-a678-f5d0401c54ad</td>\n",
       "      <td>0377f7ec-d481-4bb2-a878-5d279a2a11fe</td>\n",
       "      <td>1.0</td>\n",
       "    </tr>\n",
       "    <tr>\n",
       "      <th>1</th>\n",
       "      <td>bf3b28a5-db6f-412d-96f1-d67d17bcaef8</td>\n",
       "      <td>2f249bba-2201-424f-8515-182cd5272cd9</td>\n",
       "      <td>1.0</td>\n",
       "    </tr>\n",
       "    <tr>\n",
       "      <th>2</th>\n",
       "      <td>2d3e200a-8ddf-4062-a678-f5d0401c54ad</td>\n",
       "      <td>935eb313-ccf5-4135-9de6-f6b9cfb6a8f5</td>\n",
       "      <td>1.0</td>\n",
       "    </tr>\n",
       "    <tr>\n",
       "      <th>3</th>\n",
       "      <td>ebb4ab78-ff5f-4e78-ac14-bb98760c2a0a</td>\n",
       "      <td>f28f93b1-0df2-47cf-9349-e85683402cf8</td>\n",
       "      <td>1.0</td>\n",
       "    </tr>\n",
       "    <tr>\n",
       "      <th>4</th>\n",
       "      <td>9fd75f16-1bd5-4451-af69-5885b7d5267a</td>\n",
       "      <td>8e253cda-fa64-4f77-ae17-e1d8774f96bb</td>\n",
       "      <td>1.0</td>\n",
       "    </tr>\n",
       "  </tbody>\n",
       "</table>\n",
       "</div>"
      ],
      "text/plain": [
       "                               query-id                             corpus-id  \\\n",
       "0  2d3e200a-8ddf-4062-a678-f5d0401c54ad  0377f7ec-d481-4bb2-a878-5d279a2a11fe   \n",
       "1  bf3b28a5-db6f-412d-96f1-d67d17bcaef8  2f249bba-2201-424f-8515-182cd5272cd9   \n",
       "2  2d3e200a-8ddf-4062-a678-f5d0401c54ad  935eb313-ccf5-4135-9de6-f6b9cfb6a8f5   \n",
       "3  ebb4ab78-ff5f-4e78-ac14-bb98760c2a0a  f28f93b1-0df2-47cf-9349-e85683402cf8   \n",
       "4  9fd75f16-1bd5-4451-af69-5885b7d5267a  8e253cda-fa64-4f77-ae17-e1d8774f96bb   \n",
       "\n",
       "   score  \n",
       "0    1.0  \n",
       "1    1.0  \n",
       "2    1.0  \n",
       "3    1.0  \n",
       "4    1.0  "
      ]
     },
     "execution_count": 125,
     "metadata": {},
     "output_type": "execute_result"
    }
   ],
   "source": [
    "query_id_mapping = duplicated_queries.groupby('text')['_id'].first().to_dict()\n",
    "corpus_id_mapping = duplicated_corpus.groupby('text')['_id'].first().to_dict()\n",
    "query_id_replacement = {row['_id']: query_id_mapping[row['text']] for _, row in duplicated_queries.iterrows()}\n",
    "corpus_id_replacement = {row['_id']: corpus_id_mapping[row['text']] for _, row in duplicated_corpus.iterrows()}\n",
    "\n",
    "medical_qa_default_qa_df['query-id'] = medical_qa_default_qa_df['query-id'].replace(query_id_replacement)\n",
    "medical_qa_default_qa_df['corpus-id'] = medical_qa_default_qa_df['corpus-id'].replace(corpus_id_replacement)\n",
    "\n",
    "medical_qa_default_qa_df_deduplicated = medical_qa_default_qa_df.drop_duplicates(subset=['query-id', 'corpus-id'])\n",
    "\n",
    "medical_qa_default_qa_df_deduplicated.head()"
   ]
  },
  {
   "cell_type": "code",
   "execution_count": 126,
   "metadata": {},
   "outputs": [
    {
     "data": {
      "text/plain": [
       "2019"
      ]
     },
     "execution_count": 126,
     "metadata": {},
     "output_type": "execute_result"
    }
   ],
   "source": [
    "len(medical_qa_default_qa_df_deduplicated)"
   ]
  },
  {
   "cell_type": "code",
   "execution_count": 134,
   "metadata": {},
   "outputs": [
    {
     "data": {
      "text/html": [
       "<div>\n",
       "<style scoped>\n",
       "    .dataframe tbody tr th:only-of-type {\n",
       "        vertical-align: middle;\n",
       "    }\n",
       "\n",
       "    .dataframe tbody tr th {\n",
       "        vertical-align: top;\n",
       "    }\n",
       "\n",
       "    .dataframe thead th {\n",
       "        text-align: right;\n",
       "    }\n",
       "</style>\n",
       "<table border=\"1\" class=\"dataframe\">\n",
       "  <thead>\n",
       "    <tr style=\"text-align: right;\">\n",
       "      <th></th>\n",
       "      <th>_id</th>\n",
       "      <th>text</th>\n",
       "    </tr>\n",
       "  </thead>\n",
       "  <tbody>\n",
       "    <tr>\n",
       "      <th>0</th>\n",
       "      <td>2d3e200a-8ddf-4062-a678-f5d0401c54ad</td>\n",
       "      <td>Who is at risk for Lymphocytic Choriomeningiti...</td>\n",
       "    </tr>\n",
       "    <tr>\n",
       "      <th>1</th>\n",
       "      <td>bf3b28a5-db6f-412d-96f1-d67d17bcaef8</td>\n",
       "      <td>What are the symptoms of Lymphocytic Choriomen...</td>\n",
       "    </tr>\n",
       "    <tr>\n",
       "      <th>3</th>\n",
       "      <td>ebb4ab78-ff5f-4e78-ac14-bb98760c2a0a</td>\n",
       "      <td>How to diagnose Lymphocytic Choriomeningitis (...</td>\n",
       "    </tr>\n",
       "    <tr>\n",
       "      <th>4</th>\n",
       "      <td>9fd75f16-1bd5-4451-af69-5885b7d5267a</td>\n",
       "      <td>What are the treatments for Lymphocytic Chorio...</td>\n",
       "    </tr>\n",
       "    <tr>\n",
       "      <th>5</th>\n",
       "      <td>0f303917-6e53-449c-8242-7ab82e8fb78f</td>\n",
       "      <td>How to prevent Lymphocytic Choriomeningitis (L...</td>\n",
       "    </tr>\n",
       "    <tr>\n",
       "      <th>6</th>\n",
       "      <td>4a4eb447-3a4b-4cfa-b244-63d951527d06</td>\n",
       "      <td>What is (are) Parasites - Cysticercosis ?</td>\n",
       "    </tr>\n",
       "    <tr>\n",
       "      <th>7</th>\n",
       "      <td>061c5091-8d9f-4b40-ae1e-ef7554f347a1</td>\n",
       "      <td>Who is at risk for Parasites - Cysticercosis? ?</td>\n",
       "    </tr>\n",
       "    <tr>\n",
       "      <th>8</th>\n",
       "      <td>dda9da1d-3dbd-4d58-b0c3-84690b5b5488</td>\n",
       "      <td>How to diagnose Parasites - Cysticercosis ?</td>\n",
       "    </tr>\n",
       "    <tr>\n",
       "      <th>9</th>\n",
       "      <td>703f96ef-019c-4313-938c-6309362b280b</td>\n",
       "      <td>What are the treatments for Parasites - Cystic...</td>\n",
       "    </tr>\n",
       "    <tr>\n",
       "      <th>10</th>\n",
       "      <td>23a00128-e91c-4e27-969d-35ff3aeaf16d</td>\n",
       "      <td>How to prevent Parasites - Cysticercosis ?</td>\n",
       "    </tr>\n",
       "    <tr>\n",
       "      <th>11</th>\n",
       "      <td>e1928d15-edfc-4da5-b55c-105d9f082394</td>\n",
       "      <td>What is (are) Parasites - Trichuriasis (also k...</td>\n",
       "    </tr>\n",
       "    <tr>\n",
       "      <th>12</th>\n",
       "      <td>13d798ff-8990-4cab-a649-9e5575bbfdfe</td>\n",
       "      <td>Who is at risk for Parasites - Trichuriasis (a...</td>\n",
       "    </tr>\n",
       "    <tr>\n",
       "      <th>13</th>\n",
       "      <td>c8ec32b7-87c2-4fec-95a6-d56dc6030fa4</td>\n",
       "      <td>How to diagnose Parasites - Trichuriasis (also...</td>\n",
       "    </tr>\n",
       "    <tr>\n",
       "      <th>14</th>\n",
       "      <td>c6f39623-8917-4407-9257-0087d36ee378</td>\n",
       "      <td>What are the treatments for Parasites - Trichu...</td>\n",
       "    </tr>\n",
       "    <tr>\n",
       "      <th>15</th>\n",
       "      <td>261f9be2-4686-4df1-b186-233947da3000</td>\n",
       "      <td>How to prevent Parasites - Trichuriasis (also ...</td>\n",
       "    </tr>\n",
       "    <tr>\n",
       "      <th>16</th>\n",
       "      <td>b38e417a-ab05-41b3-aa06-3fb39d1d0a96</td>\n",
       "      <td>what are marine toxins?</td>\n",
       "    </tr>\n",
       "    <tr>\n",
       "      <th>17</th>\n",
       "      <td>e9cb89fb-4668-4949-9228-c47003e496ab</td>\n",
       "      <td>how can these diseases be diagnosed for Marine...</td>\n",
       "    </tr>\n",
       "    <tr>\n",
       "      <th>18</th>\n",
       "      <td>69f8d07b-0b17-4c51-8e55-881abaa47528</td>\n",
       "      <td>how can these diseases be treated for Marine T...</td>\n",
       "    </tr>\n",
       "    <tr>\n",
       "      <th>19</th>\n",
       "      <td>e4be7bb3-ee6d-46ea-8625-b75dff7ea177</td>\n",
       "      <td>how common are these diseases for Marine Toxins ?</td>\n",
       "    </tr>\n",
       "    <tr>\n",
       "      <th>20</th>\n",
       "      <td>bfe00097-743f-4f88-acc4-9fc2ceadea5a</td>\n",
       "      <td>what can i do to prevent poisoning by marine t...</td>\n",
       "    </tr>\n",
       "    <tr>\n",
       "      <th>21</th>\n",
       "      <td>a605f977-6760-47bf-8b42-9f0eb73e8dbd</td>\n",
       "      <td>what is the government doing about these disea...</td>\n",
       "    </tr>\n",
       "    <tr>\n",
       "      <th>22</th>\n",
       "      <td>005d31a7-615d-4e82-b5a7-9f9b60db9cf7</td>\n",
       "      <td>what else can be done to prevent these disease...</td>\n",
       "    </tr>\n",
       "    <tr>\n",
       "      <th>23</th>\n",
       "      <td>6703d7b3-5450-4d72-bfe2-87765aff627e</td>\n",
       "      <td>What is (are) Yellow Fever Vaccination ?</td>\n",
       "    </tr>\n",
       "    <tr>\n",
       "      <th>24</th>\n",
       "      <td>cf7a2eaf-d962-4afc-882f-33273340070d</td>\n",
       "      <td>What is (are) Parasites - Schistosomiasis ?</td>\n",
       "    </tr>\n",
       "    <tr>\n",
       "      <th>25</th>\n",
       "      <td>827a02e6-746b-43c2-93fc-ec743634c70f</td>\n",
       "      <td>Who is at risk for Parasites - Schistosomiasis? ?</td>\n",
       "    </tr>\n",
       "    <tr>\n",
       "      <th>26</th>\n",
       "      <td>3fa2314e-2d36-4967-b3cb-91be3330e8e5</td>\n",
       "      <td>How to diagnose Parasites - Schistosomiasis ?</td>\n",
       "    </tr>\n",
       "    <tr>\n",
       "      <th>27</th>\n",
       "      <td>a46c630d-a957-49cc-a31b-956dd60fba19</td>\n",
       "      <td>What are the treatments for Parasites - Schist...</td>\n",
       "    </tr>\n",
       "    <tr>\n",
       "      <th>28</th>\n",
       "      <td>c18a4484-b1d6-4ef8-9e4f-dd03c90a10d9</td>\n",
       "      <td>How to prevent Parasites - Schistosomiasis ?</td>\n",
       "    </tr>\n",
       "    <tr>\n",
       "      <th>29</th>\n",
       "      <td>bb532b38-6e3f-45ed-967d-01b447a0edde</td>\n",
       "      <td>What is (are) Parasites - Lice - Head Lice ?</td>\n",
       "    </tr>\n",
       "    <tr>\n",
       "      <th>30</th>\n",
       "      <td>cbee9982-6266-45f6-bbdf-18f37143f0b7</td>\n",
       "      <td>Who is at risk for Parasites - Lice - Head Lic...</td>\n",
       "    </tr>\n",
       "    <tr>\n",
       "      <th>31</th>\n",
       "      <td>ae054cc9-fdd3-4ddc-9354-77d1ddfddf66</td>\n",
       "      <td>How to diagnose Parasites - Lice - Head Lice ?</td>\n",
       "    </tr>\n",
       "    <tr>\n",
       "      <th>32</th>\n",
       "      <td>50585512-b0b2-4794-84a8-9b623d023abe</td>\n",
       "      <td>What are the treatments for Parasites - Lice -...</td>\n",
       "    </tr>\n",
       "    <tr>\n",
       "      <th>33</th>\n",
       "      <td>39d33a9c-7d1d-47ad-aefc-aa6e1c944998</td>\n",
       "      <td>How to prevent Parasites - Lice - Head Lice ?</td>\n",
       "    </tr>\n",
       "    <tr>\n",
       "      <th>34</th>\n",
       "      <td>c0d388a9-0153-4e07-b49c-4064a95e72b7</td>\n",
       "      <td>What is (are) Parasites - Lice - Body Lice ?</td>\n",
       "    </tr>\n",
       "    <tr>\n",
       "      <th>35</th>\n",
       "      <td>355e6fd5-bfcb-4520-96d0-ee1cf280a8bf</td>\n",
       "      <td>Who is at risk for Parasites - Lice - Body Lic...</td>\n",
       "    </tr>\n",
       "    <tr>\n",
       "      <th>36</th>\n",
       "      <td>9f301535-b246-40ff-b715-5fc475bf0cfc</td>\n",
       "      <td>How to diagnose Parasites - Lice - Body Lice ?</td>\n",
       "    </tr>\n",
       "    <tr>\n",
       "      <th>37</th>\n",
       "      <td>c1ba804f-1ed8-43e0-be7b-d973994aab62</td>\n",
       "      <td>What are the treatments for Parasites - Lice -...</td>\n",
       "    </tr>\n",
       "    <tr>\n",
       "      <th>38</th>\n",
       "      <td>783c4a8b-4347-453a-b932-03a150ea7d47</td>\n",
       "      <td>How to prevent Parasites - Lice - Body Lice ?</td>\n",
       "    </tr>\n",
       "    <tr>\n",
       "      <th>39</th>\n",
       "      <td>72065337-dbc1-4802-8b61-636a56e94502</td>\n",
       "      <td>How to prevent La Crosse Encephalitis ?</td>\n",
       "    </tr>\n",
       "    <tr>\n",
       "      <th>40</th>\n",
       "      <td>71b34a2b-c8ee-437a-842e-428aa9c1f02e</td>\n",
       "      <td>What is (are) Parasites - Toxocariasis (also k...</td>\n",
       "    </tr>\n",
       "    <tr>\n",
       "      <th>41</th>\n",
       "      <td>c58b3e2c-045b-4665-bb25-9f45b9459dbe</td>\n",
       "      <td>Who is at risk for Parasites - Toxocariasis (a...</td>\n",
       "    </tr>\n",
       "    <tr>\n",
       "      <th>42</th>\n",
       "      <td>c2aa3728-ad24-480e-b0ba-d5097048bc92</td>\n",
       "      <td>How to diagnose Parasites - Toxocariasis (also...</td>\n",
       "    </tr>\n",
       "    <tr>\n",
       "      <th>43</th>\n",
       "      <td>5048638b-ae01-4241-bbc9-fe853dc1e381</td>\n",
       "      <td>What are the treatments for Parasites - Toxoca...</td>\n",
       "    </tr>\n",
       "    <tr>\n",
       "      <th>44</th>\n",
       "      <td>f4f217fa-4d40-4320-a7d5-4802b17dd2f1</td>\n",
       "      <td>How to prevent Parasites - Toxocariasis (also ...</td>\n",
       "    </tr>\n",
       "    <tr>\n",
       "      <th>45</th>\n",
       "      <td>2d586cae-0a2f-4bee-94b5-fb60b1fcbf03</td>\n",
       "      <td>What is (are) Acanthamoeba - Granulomatous Ame...</td>\n",
       "    </tr>\n",
       "    <tr>\n",
       "      <th>46</th>\n",
       "      <td>92a8082f-a2b9-457a-8c83-b074eca068d5</td>\n",
       "      <td>Who is at risk for Acanthamoeba - Granulomatou...</td>\n",
       "    </tr>\n",
       "    <tr>\n",
       "      <th>47</th>\n",
       "      <td>34f59937-eaaa-4808-b403-c4acf50ea3ff</td>\n",
       "      <td>How to diagnose Acanthamoeba - Granulomatous A...</td>\n",
       "    </tr>\n",
       "    <tr>\n",
       "      <th>48</th>\n",
       "      <td>bda4c585-fc59-414b-a73e-9ec2bb057524</td>\n",
       "      <td>What are the treatments for Acanthamoeba - Gra...</td>\n",
       "    </tr>\n",
       "    <tr>\n",
       "      <th>49</th>\n",
       "      <td>6722838d-b96e-4eac-8c73-5ea667bfa18b</td>\n",
       "      <td>How to prevent Acanthamoeba - Granulomatous Am...</td>\n",
       "    </tr>\n",
       "    <tr>\n",
       "      <th>50</th>\n",
       "      <td>f773d98c-3025-4858-abf9-5d096b622b92</td>\n",
       "      <td>What is (are) Parasites - Scabies ?</td>\n",
       "    </tr>\n",
       "  </tbody>\n",
       "</table>\n",
       "</div>"
      ],
      "text/plain": [
       "                                     _id  \\\n",
       "0   2d3e200a-8ddf-4062-a678-f5d0401c54ad   \n",
       "1   bf3b28a5-db6f-412d-96f1-d67d17bcaef8   \n",
       "3   ebb4ab78-ff5f-4e78-ac14-bb98760c2a0a   \n",
       "4   9fd75f16-1bd5-4451-af69-5885b7d5267a   \n",
       "5   0f303917-6e53-449c-8242-7ab82e8fb78f   \n",
       "6   4a4eb447-3a4b-4cfa-b244-63d951527d06   \n",
       "7   061c5091-8d9f-4b40-ae1e-ef7554f347a1   \n",
       "8   dda9da1d-3dbd-4d58-b0c3-84690b5b5488   \n",
       "9   703f96ef-019c-4313-938c-6309362b280b   \n",
       "10  23a00128-e91c-4e27-969d-35ff3aeaf16d   \n",
       "11  e1928d15-edfc-4da5-b55c-105d9f082394   \n",
       "12  13d798ff-8990-4cab-a649-9e5575bbfdfe   \n",
       "13  c8ec32b7-87c2-4fec-95a6-d56dc6030fa4   \n",
       "14  c6f39623-8917-4407-9257-0087d36ee378   \n",
       "15  261f9be2-4686-4df1-b186-233947da3000   \n",
       "16  b38e417a-ab05-41b3-aa06-3fb39d1d0a96   \n",
       "17  e9cb89fb-4668-4949-9228-c47003e496ab   \n",
       "18  69f8d07b-0b17-4c51-8e55-881abaa47528   \n",
       "19  e4be7bb3-ee6d-46ea-8625-b75dff7ea177   \n",
       "20  bfe00097-743f-4f88-acc4-9fc2ceadea5a   \n",
       "21  a605f977-6760-47bf-8b42-9f0eb73e8dbd   \n",
       "22  005d31a7-615d-4e82-b5a7-9f9b60db9cf7   \n",
       "23  6703d7b3-5450-4d72-bfe2-87765aff627e   \n",
       "24  cf7a2eaf-d962-4afc-882f-33273340070d   \n",
       "25  827a02e6-746b-43c2-93fc-ec743634c70f   \n",
       "26  3fa2314e-2d36-4967-b3cb-91be3330e8e5   \n",
       "27  a46c630d-a957-49cc-a31b-956dd60fba19   \n",
       "28  c18a4484-b1d6-4ef8-9e4f-dd03c90a10d9   \n",
       "29  bb532b38-6e3f-45ed-967d-01b447a0edde   \n",
       "30  cbee9982-6266-45f6-bbdf-18f37143f0b7   \n",
       "31  ae054cc9-fdd3-4ddc-9354-77d1ddfddf66   \n",
       "32  50585512-b0b2-4794-84a8-9b623d023abe   \n",
       "33  39d33a9c-7d1d-47ad-aefc-aa6e1c944998   \n",
       "34  c0d388a9-0153-4e07-b49c-4064a95e72b7   \n",
       "35  355e6fd5-bfcb-4520-96d0-ee1cf280a8bf   \n",
       "36  9f301535-b246-40ff-b715-5fc475bf0cfc   \n",
       "37  c1ba804f-1ed8-43e0-be7b-d973994aab62   \n",
       "38  783c4a8b-4347-453a-b932-03a150ea7d47   \n",
       "39  72065337-dbc1-4802-8b61-636a56e94502   \n",
       "40  71b34a2b-c8ee-437a-842e-428aa9c1f02e   \n",
       "41  c58b3e2c-045b-4665-bb25-9f45b9459dbe   \n",
       "42  c2aa3728-ad24-480e-b0ba-d5097048bc92   \n",
       "43  5048638b-ae01-4241-bbc9-fe853dc1e381   \n",
       "44  f4f217fa-4d40-4320-a7d5-4802b17dd2f1   \n",
       "45  2d586cae-0a2f-4bee-94b5-fb60b1fcbf03   \n",
       "46  92a8082f-a2b9-457a-8c83-b074eca068d5   \n",
       "47  34f59937-eaaa-4808-b403-c4acf50ea3ff   \n",
       "48  bda4c585-fc59-414b-a73e-9ec2bb057524   \n",
       "49  6722838d-b96e-4eac-8c73-5ea667bfa18b   \n",
       "50  f773d98c-3025-4858-abf9-5d096b622b92   \n",
       "\n",
       "                                                 text  \n",
       "0   Who is at risk for Lymphocytic Choriomeningiti...  \n",
       "1   What are the symptoms of Lymphocytic Choriomen...  \n",
       "3   How to diagnose Lymphocytic Choriomeningitis (...  \n",
       "4   What are the treatments for Lymphocytic Chorio...  \n",
       "5   How to prevent Lymphocytic Choriomeningitis (L...  \n",
       "6           What is (are) Parasites - Cysticercosis ?  \n",
       "7     Who is at risk for Parasites - Cysticercosis? ?  \n",
       "8         How to diagnose Parasites - Cysticercosis ?  \n",
       "9   What are the treatments for Parasites - Cystic...  \n",
       "10         How to prevent Parasites - Cysticercosis ?  \n",
       "11  What is (are) Parasites - Trichuriasis (also k...  \n",
       "12  Who is at risk for Parasites - Trichuriasis (a...  \n",
       "13  How to diagnose Parasites - Trichuriasis (also...  \n",
       "14  What are the treatments for Parasites - Trichu...  \n",
       "15  How to prevent Parasites - Trichuriasis (also ...  \n",
       "16                            what are marine toxins?  \n",
       "17  how can these diseases be diagnosed for Marine...  \n",
       "18  how can these diseases be treated for Marine T...  \n",
       "19  how common are these diseases for Marine Toxins ?  \n",
       "20  what can i do to prevent poisoning by marine t...  \n",
       "21  what is the government doing about these disea...  \n",
       "22  what else can be done to prevent these disease...  \n",
       "23           What is (are) Yellow Fever Vaccination ?  \n",
       "24        What is (are) Parasites - Schistosomiasis ?  \n",
       "25  Who is at risk for Parasites - Schistosomiasis? ?  \n",
       "26      How to diagnose Parasites - Schistosomiasis ?  \n",
       "27  What are the treatments for Parasites - Schist...  \n",
       "28       How to prevent Parasites - Schistosomiasis ?  \n",
       "29       What is (are) Parasites - Lice - Head Lice ?  \n",
       "30  Who is at risk for Parasites - Lice - Head Lic...  \n",
       "31     How to diagnose Parasites - Lice - Head Lice ?  \n",
       "32  What are the treatments for Parasites - Lice -...  \n",
       "33      How to prevent Parasites - Lice - Head Lice ?  \n",
       "34       What is (are) Parasites - Lice - Body Lice ?  \n",
       "35  Who is at risk for Parasites - Lice - Body Lic...  \n",
       "36     How to diagnose Parasites - Lice - Body Lice ?  \n",
       "37  What are the treatments for Parasites - Lice -...  \n",
       "38      How to prevent Parasites - Lice - Body Lice ?  \n",
       "39            How to prevent La Crosse Encephalitis ?  \n",
       "40  What is (are) Parasites - Toxocariasis (also k...  \n",
       "41  Who is at risk for Parasites - Toxocariasis (a...  \n",
       "42  How to diagnose Parasites - Toxocariasis (also...  \n",
       "43  What are the treatments for Parasites - Toxoca...  \n",
       "44  How to prevent Parasites - Toxocariasis (also ...  \n",
       "45  What is (are) Acanthamoeba - Granulomatous Ame...  \n",
       "46  Who is at risk for Acanthamoeba - Granulomatou...  \n",
       "47  How to diagnose Acanthamoeba - Granulomatous A...  \n",
       "48  What are the treatments for Acanthamoeba - Gra...  \n",
       "49  How to prevent Acanthamoeba - Granulomatous Am...  \n",
       "50                What is (are) Parasites - Scabies ?  "
      ]
     },
     "execution_count": 134,
     "metadata": {},
     "output_type": "execute_result"
    }
   ],
   "source": [
    "medical_qa_queries_deduplicated.head(50)"
   ]
  },
  {
   "cell_type": "code",
   "execution_count": 136,
   "metadata": {},
   "outputs": [
    {
     "data": {
      "text/plain": [
       "'Prevention\\n    \\nNo vaccine is available.\\n    \\nThe best way to prevent schistosomiasis is to take the following steps if you are visiting or live in an area where schistosomiasis is transmitted:\\n    \\n     - Avoid swimming or wading in freshwater when you are in countries in which schistosomiasis occurs. Swimming in the ocean and in chlorinated swimming pools is safe.\\n     - Drink safe water. Although schistosomiasis is not transmitted by swallowing contaminated water, if your mouth or lips come in contact with water containing the parasites, you could become infected. Because water coming directly from canals, lakes, rivers, streams, or springs may be contaminated with a variety of infectious organisms, you should either bring your water to a rolling boil for 1 minute or filter water before drinking it. Bring your water to a rolling boil for at least 1 minute will kill any harmful parasites, bacteria, or viruses present. Iodine treatment alone WILL NOT GUARANTEE that water is safe and free of all parasites.\\n     - Water used for bathing should be brought to a rolling boil for 1 minute to kill any cercariae, and then cooled before bathing to avoid scalding. Water held in a storage tank for at least 1 - 2 days should be safe for bathing.\\n     - Vigorous towel drying after an accidental, very brief water exposure may help to prevent the Schistosoma parasite from penetrating the skin. However, do not rely on vigorous towel drying alone to prevent schistosomiasis.\\n    \\n    \\nThose who have had contact with potentially contaminated water overseas should see their health care provider after returning from travel to discuss testing.\\n    \\nMore on: Schistosomiasis in Travelers\\n   \\n  \\n  \\n   Control\\n   \\nIn countries where schistosomiasis causes significant disease, control efforts usually focus on:\\n   \\n    - reducing the number of infections in people and/or\\n    - eliminating the snails that are required to maintain the parasite’s life cycle.\\n   \\n   \\nFor all species that cause schistosomiasis, improved sanitation could reduce or eliminate transmission of this disease. In some areas with lower transmission levels, elimination of schistosomiasis is considered a \"winnable battle\" by public health officials.\\n   \\nControl measures can include mass drug treatment of entire communities and targeted treatment of school-age children. Some of the problems with control of schistosomiasis include:\\n   \\n    - Chemicals used to eliminate snails in freshwater sources may harm other species of animals in the water and, if treatment is not sustained, the snails may return to those sites afterwards.\\n    - For certain species of the parasite, such as S. japonicum, animals such as cows or water buffalo can also be infected. Runoff from pastures (if the cows are infected) can contaminate freshwater sources.'"
      ]
     },
     "execution_count": 136,
     "metadata": {},
     "output_type": "execute_result"
    }
   ],
   "source": [
    "medical_qa_corpus_deduplicated['text'][28]"
   ]
  },
  {
   "cell_type": "code",
   "execution_count": 143,
   "metadata": {},
   "outputs": [
    {
     "name": "stderr",
     "output_type": "stream",
     "text": [
      "/var/folders/tt/89j8tbqd2q3bnwxk83_csyn00000gn/T/ipykernel_2920/2279784849.py:1: SettingWithCopyWarning: \n",
      "A value is trying to be set on a copy of a slice from a DataFrame.\n",
      "Try using .loc[row_indexer,col_indexer] = value instead\n",
      "\n",
      "See the caveats in the documentation: https://pandas.pydata.org/pandas-docs/stable/user_guide/indexing.html#returning-a-view-versus-a-copy\n",
      "  medical_qa_corpus_deduplicated[\"text\"] = medical_qa_corpus_deduplicated[\"text\"].str.replace(\"\\n\", \" \", regex=True)\n"
     ]
    }
   ],
   "source": [
    "medical_qa_corpus_deduplicated[\"text\"] = medical_qa_corpus_deduplicated[\"text\"].str.replace(\"\\n\", \" \", regex=True)"
   ]
  },
  {
   "cell_type": "code",
   "execution_count": 144,
   "metadata": {},
   "outputs": [
    {
     "data": {
      "text/html": [
       "<div>\n",
       "<style scoped>\n",
       "    .dataframe tbody tr th:only-of-type {\n",
       "        vertical-align: middle;\n",
       "    }\n",
       "\n",
       "    .dataframe tbody tr th {\n",
       "        vertical-align: top;\n",
       "    }\n",
       "\n",
       "    .dataframe thead th {\n",
       "        text-align: right;\n",
       "    }\n",
       "</style>\n",
       "<table border=\"1\" class=\"dataframe\">\n",
       "  <thead>\n",
       "    <tr style=\"text-align: right;\">\n",
       "      <th></th>\n",
       "      <th>_id</th>\n",
       "      <th>title</th>\n",
       "      <th>text</th>\n",
       "    </tr>\n",
       "  </thead>\n",
       "  <tbody>\n",
       "    <tr>\n",
       "      <th>0</th>\n",
       "      <td>0377f7ec-d481-4bb2-a878-5d279a2a11fe</td>\n",
       "      <td></td>\n",
       "      <td>LCMV infections can occur after exposure to fr...</td>\n",
       "    </tr>\n",
       "    <tr>\n",
       "      <th>1</th>\n",
       "      <td>2f249bba-2201-424f-8515-182cd5272cd9</td>\n",
       "      <td></td>\n",
       "      <td>LCMV is most commonly recognized as causing ne...</td>\n",
       "    </tr>\n",
       "    <tr>\n",
       "      <th>2</th>\n",
       "      <td>935eb313-ccf5-4135-9de6-f6b9cfb6a8f5</td>\n",
       "      <td></td>\n",
       "      <td>Individuals of all ages who come into contact ...</td>\n",
       "    </tr>\n",
       "    <tr>\n",
       "      <th>3</th>\n",
       "      <td>f28f93b1-0df2-47cf-9349-e85683402cf8</td>\n",
       "      <td></td>\n",
       "      <td>During the first phase of the disease, the mos...</td>\n",
       "    </tr>\n",
       "    <tr>\n",
       "      <th>4</th>\n",
       "      <td>8e253cda-fa64-4f77-ae17-e1d8774f96bb</td>\n",
       "      <td></td>\n",
       "      <td>Aseptic meningitis, encephalitis, or meningoen...</td>\n",
       "    </tr>\n",
       "    <tr>\n",
       "      <th>...</th>\n",
       "      <td>...</td>\n",
       "      <td>...</td>\n",
       "      <td>...</td>\n",
       "    </tr>\n",
       "    <tr>\n",
       "      <th>2043</th>\n",
       "      <td>87f80156-6d4d-424f-b17a-4aad8d73d32d</td>\n",
       "      <td></td>\n",
       "      <td>Once the diagnosis of primary hyperparathyroid...</td>\n",
       "    </tr>\n",
       "    <tr>\n",
       "      <th>2044</th>\n",
       "      <td>6e249abc-2caf-489d-89c7-b3152c9a6dc6</td>\n",
       "      <td></td>\n",
       "      <td>Surgery                  Surgery to remove the...</td>\n",
       "    </tr>\n",
       "    <tr>\n",
       "      <th>2045</th>\n",
       "      <td>49e8250a-cd2a-4b1b-9ab7-f8942e3ec0c0</td>\n",
       "      <td></td>\n",
       "      <td>Eating, diet, and nutrition have not been show...</td>\n",
       "    </tr>\n",
       "    <tr>\n",
       "      <th>2046</th>\n",
       "      <td>0c79e705-c2fa-4111-ba91-f86207a0cd6f</td>\n",
       "      <td></td>\n",
       "      <td>- Primary hyperparathyroidism is a disorder of...</td>\n",
       "    </tr>\n",
       "    <tr>\n",
       "      <th>2047</th>\n",
       "      <td>66cb232c-2e7d-4bb3-b470-b4c605670bd9</td>\n",
       "      <td></td>\n",
       "      <td>Urinary incontinence is the loss of bladder co...</td>\n",
       "    </tr>\n",
       "  </tbody>\n",
       "</table>\n",
       "<p>2007 rows × 3 columns</p>\n",
       "</div>"
      ],
      "text/plain": [
       "                                       _id title  \\\n",
       "0     0377f7ec-d481-4bb2-a878-5d279a2a11fe         \n",
       "1     2f249bba-2201-424f-8515-182cd5272cd9         \n",
       "2     935eb313-ccf5-4135-9de6-f6b9cfb6a8f5         \n",
       "3     f28f93b1-0df2-47cf-9349-e85683402cf8         \n",
       "4     8e253cda-fa64-4f77-ae17-e1d8774f96bb         \n",
       "...                                    ...   ...   \n",
       "2043  87f80156-6d4d-424f-b17a-4aad8d73d32d         \n",
       "2044  6e249abc-2caf-489d-89c7-b3152c9a6dc6         \n",
       "2045  49e8250a-cd2a-4b1b-9ab7-f8942e3ec0c0         \n",
       "2046  0c79e705-c2fa-4111-ba91-f86207a0cd6f         \n",
       "2047  66cb232c-2e7d-4bb3-b470-b4c605670bd9         \n",
       "\n",
       "                                                   text  \n",
       "0     LCMV infections can occur after exposure to fr...  \n",
       "1     LCMV is most commonly recognized as causing ne...  \n",
       "2     Individuals of all ages who come into contact ...  \n",
       "3     During the first phase of the disease, the mos...  \n",
       "4     Aseptic meningitis, encephalitis, or meningoen...  \n",
       "...                                                 ...  \n",
       "2043  Once the diagnosis of primary hyperparathyroid...  \n",
       "2044  Surgery                  Surgery to remove the...  \n",
       "2045  Eating, diet, and nutrition have not been show...  \n",
       "2046  - Primary hyperparathyroidism is a disorder of...  \n",
       "2047  Urinary incontinence is the loss of bladder co...  \n",
       "\n",
       "[2007 rows x 3 columns]"
      ]
     },
     "execution_count": 144,
     "metadata": {},
     "output_type": "execute_result"
    }
   ],
   "source": [
    "medical_qa_corpus_deduplicated"
   ]
  },
  {
   "cell_type": "code",
   "execution_count": 145,
   "metadata": {},
   "outputs": [
    {
     "data": {
      "text/plain": [
       "'Prevention      No vaccine is available.      The best way to prevent schistosomiasis is to take the following steps if you are visiting or live in an area where schistosomiasis is transmitted:           - Avoid swimming or wading in freshwater when you are in countries in which schistosomiasis occurs. Swimming in the ocean and in chlorinated swimming pools is safe.      - Drink safe water. Although schistosomiasis is not transmitted by swallowing contaminated water, if your mouth or lips come in contact with water containing the parasites, you could become infected. Because water coming directly from canals, lakes, rivers, streams, or springs may be contaminated with a variety of infectious organisms, you should either bring your water to a rolling boil for 1 minute or filter water before drinking it. Bring your water to a rolling boil for at least 1 minute will kill any harmful parasites, bacteria, or viruses present. Iodine treatment alone WILL NOT GUARANTEE that water is safe and free of all parasites.      - Water used for bathing should be brought to a rolling boil for 1 minute to kill any cercariae, and then cooled before bathing to avoid scalding. Water held in a storage tank for at least 1 - 2 days should be safe for bathing.      - Vigorous towel drying after an accidental, very brief water exposure may help to prevent the Schistosoma parasite from penetrating the skin. However, do not rely on vigorous towel drying alone to prevent schistosomiasis.           Those who have had contact with potentially contaminated water overseas should see their health care provider after returning from travel to discuss testing.      More on: Schistosomiasis in Travelers              Control     In countries where schistosomiasis causes significant disease, control efforts usually focus on:         - reducing the number of infections in people and/or     - eliminating the snails that are required to maintain the parasite’s life cycle.         For all species that cause schistosomiasis, improved sanitation could reduce or eliminate transmission of this disease. In some areas with lower transmission levels, elimination of schistosomiasis is considered a \"winnable battle\" by public health officials.     Control measures can include mass drug treatment of entire communities and targeted treatment of school-age children. Some of the problems with control of schistosomiasis include:         - Chemicals used to eliminate snails in freshwater sources may harm other species of animals in the water and, if treatment is not sustained, the snails may return to those sites afterwards.     - For certain species of the parasite, such as S. japonicum, animals such as cows or water buffalo can also be infected. Runoff from pastures (if the cows are infected) can contaminate freshwater sources.'"
      ]
     },
     "execution_count": 145,
     "metadata": {},
     "output_type": "execute_result"
    }
   ],
   "source": [
    "medical_qa_corpus_deduplicated['text'][28]"
   ]
  },
  {
   "cell_type": "code",
   "execution_count": 149,
   "metadata": {},
   "outputs": [
    {
     "name": "stdout",
     "output_type": "stream",
     "text": [
      "_id      0\n",
      "title    0\n",
      "text     0\n",
      "dtype: int64\n"
     ]
    }
   ],
   "source": [
    "print(medical_qa_corpus_deduplicated.isna().sum())"
   ]
  },
  {
   "cell_type": "markdown",
   "metadata": {},
   "source": [
    "#### Final cleaned dataset"
   ]
  },
  {
   "cell_type": "code",
   "execution_count": 150,
   "metadata": {},
   "outputs": [
    {
     "data": {
      "text/html": [
       "<div>\n",
       "<style scoped>\n",
       "    .dataframe tbody tr th:only-of-type {\n",
       "        vertical-align: middle;\n",
       "    }\n",
       "\n",
       "    .dataframe tbody tr th {\n",
       "        vertical-align: top;\n",
       "    }\n",
       "\n",
       "    .dataframe thead th {\n",
       "        text-align: right;\n",
       "    }\n",
       "</style>\n",
       "<table border=\"1\" class=\"dataframe\">\n",
       "  <thead>\n",
       "    <tr style=\"text-align: right;\">\n",
       "      <th></th>\n",
       "      <th>_id</th>\n",
       "      <th>text</th>\n",
       "    </tr>\n",
       "  </thead>\n",
       "  <tbody>\n",
       "    <tr>\n",
       "      <th>0</th>\n",
       "      <td>2d3e200a-8ddf-4062-a678-f5d0401c54ad</td>\n",
       "      <td>Who is at risk for Lymphocytic Choriomeningiti...</td>\n",
       "    </tr>\n",
       "    <tr>\n",
       "      <th>1</th>\n",
       "      <td>bf3b28a5-db6f-412d-96f1-d67d17bcaef8</td>\n",
       "      <td>What are the symptoms of Lymphocytic Choriomen...</td>\n",
       "    </tr>\n",
       "    <tr>\n",
       "      <th>3</th>\n",
       "      <td>ebb4ab78-ff5f-4e78-ac14-bb98760c2a0a</td>\n",
       "      <td>How to diagnose Lymphocytic Choriomeningitis (...</td>\n",
       "    </tr>\n",
       "    <tr>\n",
       "      <th>4</th>\n",
       "      <td>9fd75f16-1bd5-4451-af69-5885b7d5267a</td>\n",
       "      <td>What are the treatments for Lymphocytic Chorio...</td>\n",
       "    </tr>\n",
       "    <tr>\n",
       "      <th>5</th>\n",
       "      <td>0f303917-6e53-449c-8242-7ab82e8fb78f</td>\n",
       "      <td>How to prevent Lymphocytic Choriomeningitis (L...</td>\n",
       "    </tr>\n",
       "    <tr>\n",
       "      <th>...</th>\n",
       "      <td>...</td>\n",
       "      <td>...</td>\n",
       "    </tr>\n",
       "    <tr>\n",
       "      <th>2041</th>\n",
       "      <td>8e88d11c-e574-450a-ade4-c3f96756cb51</td>\n",
       "      <td>What are the symptoms of Primary Hyperparathyr...</td>\n",
       "    </tr>\n",
       "    <tr>\n",
       "      <th>2042</th>\n",
       "      <td>8a105170-77a8-4706-8fbc-c33b65fe7a69</td>\n",
       "      <td>How to diagnose Primary Hyperparathyroidism ?</td>\n",
       "    </tr>\n",
       "    <tr>\n",
       "      <th>2044</th>\n",
       "      <td>2fdc3c5b-fdd7-4402-b5f2-edbadf83889d</td>\n",
       "      <td>What are the treatments for Primary Hyperparat...</td>\n",
       "    </tr>\n",
       "    <tr>\n",
       "      <th>2045</th>\n",
       "      <td>2ac6e1b0-09b3-4457-93a4-933e1c72103b</td>\n",
       "      <td>What to do for Primary Hyperparathyroidism ?</td>\n",
       "    </tr>\n",
       "    <tr>\n",
       "      <th>2047</th>\n",
       "      <td>c20f7a35-586c-4c80-ae3f-6a6c8bed99b2</td>\n",
       "      <td>What is (are) Urinary Incontinence in Men ?</td>\n",
       "    </tr>\n",
       "  </tbody>\n",
       "</table>\n",
       "<p>1820 rows × 2 columns</p>\n",
       "</div>"
      ],
      "text/plain": [
       "                                       _id  \\\n",
       "0     2d3e200a-8ddf-4062-a678-f5d0401c54ad   \n",
       "1     bf3b28a5-db6f-412d-96f1-d67d17bcaef8   \n",
       "3     ebb4ab78-ff5f-4e78-ac14-bb98760c2a0a   \n",
       "4     9fd75f16-1bd5-4451-af69-5885b7d5267a   \n",
       "5     0f303917-6e53-449c-8242-7ab82e8fb78f   \n",
       "...                                    ...   \n",
       "2041  8e88d11c-e574-450a-ade4-c3f96756cb51   \n",
       "2042  8a105170-77a8-4706-8fbc-c33b65fe7a69   \n",
       "2044  2fdc3c5b-fdd7-4402-b5f2-edbadf83889d   \n",
       "2045  2ac6e1b0-09b3-4457-93a4-933e1c72103b   \n",
       "2047  c20f7a35-586c-4c80-ae3f-6a6c8bed99b2   \n",
       "\n",
       "                                                   text  \n",
       "0     Who is at risk for Lymphocytic Choriomeningiti...  \n",
       "1     What are the symptoms of Lymphocytic Choriomen...  \n",
       "3     How to diagnose Lymphocytic Choriomeningitis (...  \n",
       "4     What are the treatments for Lymphocytic Chorio...  \n",
       "5     How to prevent Lymphocytic Choriomeningitis (L...  \n",
       "...                                                 ...  \n",
       "2041  What are the symptoms of Primary Hyperparathyr...  \n",
       "2042      How to diagnose Primary Hyperparathyroidism ?  \n",
       "2044  What are the treatments for Primary Hyperparat...  \n",
       "2045       What to do for Primary Hyperparathyroidism ?  \n",
       "2047        What is (are) Urinary Incontinence in Men ?  \n",
       "\n",
       "[1820 rows x 2 columns]"
      ]
     },
     "execution_count": 150,
     "metadata": {},
     "output_type": "execute_result"
    }
   ],
   "source": [
    "medical_qa_queries_deduplicated"
   ]
  },
  {
   "cell_type": "code",
   "execution_count": 151,
   "metadata": {},
   "outputs": [
    {
     "data": {
      "text/html": [
       "<div>\n",
       "<style scoped>\n",
       "    .dataframe tbody tr th:only-of-type {\n",
       "        vertical-align: middle;\n",
       "    }\n",
       "\n",
       "    .dataframe tbody tr th {\n",
       "        vertical-align: top;\n",
       "    }\n",
       "\n",
       "    .dataframe thead th {\n",
       "        text-align: right;\n",
       "    }\n",
       "</style>\n",
       "<table border=\"1\" class=\"dataframe\">\n",
       "  <thead>\n",
       "    <tr style=\"text-align: right;\">\n",
       "      <th></th>\n",
       "      <th>_id</th>\n",
       "      <th>title</th>\n",
       "      <th>text</th>\n",
       "    </tr>\n",
       "  </thead>\n",
       "  <tbody>\n",
       "    <tr>\n",
       "      <th>0</th>\n",
       "      <td>0377f7ec-d481-4bb2-a878-5d279a2a11fe</td>\n",
       "      <td></td>\n",
       "      <td>LCMV infections can occur after exposure to fr...</td>\n",
       "    </tr>\n",
       "    <tr>\n",
       "      <th>1</th>\n",
       "      <td>2f249bba-2201-424f-8515-182cd5272cd9</td>\n",
       "      <td></td>\n",
       "      <td>LCMV is most commonly recognized as causing ne...</td>\n",
       "    </tr>\n",
       "    <tr>\n",
       "      <th>2</th>\n",
       "      <td>935eb313-ccf5-4135-9de6-f6b9cfb6a8f5</td>\n",
       "      <td></td>\n",
       "      <td>Individuals of all ages who come into contact ...</td>\n",
       "    </tr>\n",
       "    <tr>\n",
       "      <th>3</th>\n",
       "      <td>f28f93b1-0df2-47cf-9349-e85683402cf8</td>\n",
       "      <td></td>\n",
       "      <td>During the first phase of the disease, the mos...</td>\n",
       "    </tr>\n",
       "    <tr>\n",
       "      <th>4</th>\n",
       "      <td>8e253cda-fa64-4f77-ae17-e1d8774f96bb</td>\n",
       "      <td></td>\n",
       "      <td>Aseptic meningitis, encephalitis, or meningoen...</td>\n",
       "    </tr>\n",
       "    <tr>\n",
       "      <th>...</th>\n",
       "      <td>...</td>\n",
       "      <td>...</td>\n",
       "      <td>...</td>\n",
       "    </tr>\n",
       "    <tr>\n",
       "      <th>2043</th>\n",
       "      <td>87f80156-6d4d-424f-b17a-4aad8d73d32d</td>\n",
       "      <td></td>\n",
       "      <td>Once the diagnosis of primary hyperparathyroid...</td>\n",
       "    </tr>\n",
       "    <tr>\n",
       "      <th>2044</th>\n",
       "      <td>6e249abc-2caf-489d-89c7-b3152c9a6dc6</td>\n",
       "      <td></td>\n",
       "      <td>Surgery                  Surgery to remove the...</td>\n",
       "    </tr>\n",
       "    <tr>\n",
       "      <th>2045</th>\n",
       "      <td>49e8250a-cd2a-4b1b-9ab7-f8942e3ec0c0</td>\n",
       "      <td></td>\n",
       "      <td>Eating, diet, and nutrition have not been show...</td>\n",
       "    </tr>\n",
       "    <tr>\n",
       "      <th>2046</th>\n",
       "      <td>0c79e705-c2fa-4111-ba91-f86207a0cd6f</td>\n",
       "      <td></td>\n",
       "      <td>- Primary hyperparathyroidism is a disorder of...</td>\n",
       "    </tr>\n",
       "    <tr>\n",
       "      <th>2047</th>\n",
       "      <td>66cb232c-2e7d-4bb3-b470-b4c605670bd9</td>\n",
       "      <td></td>\n",
       "      <td>Urinary incontinence is the loss of bladder co...</td>\n",
       "    </tr>\n",
       "  </tbody>\n",
       "</table>\n",
       "<p>2007 rows × 3 columns</p>\n",
       "</div>"
      ],
      "text/plain": [
       "                                       _id title  \\\n",
       "0     0377f7ec-d481-4bb2-a878-5d279a2a11fe         \n",
       "1     2f249bba-2201-424f-8515-182cd5272cd9         \n",
       "2     935eb313-ccf5-4135-9de6-f6b9cfb6a8f5         \n",
       "3     f28f93b1-0df2-47cf-9349-e85683402cf8         \n",
       "4     8e253cda-fa64-4f77-ae17-e1d8774f96bb         \n",
       "...                                    ...   ...   \n",
       "2043  87f80156-6d4d-424f-b17a-4aad8d73d32d         \n",
       "2044  6e249abc-2caf-489d-89c7-b3152c9a6dc6         \n",
       "2045  49e8250a-cd2a-4b1b-9ab7-f8942e3ec0c0         \n",
       "2046  0c79e705-c2fa-4111-ba91-f86207a0cd6f         \n",
       "2047  66cb232c-2e7d-4bb3-b470-b4c605670bd9         \n",
       "\n",
       "                                                   text  \n",
       "0     LCMV infections can occur after exposure to fr...  \n",
       "1     LCMV is most commonly recognized as causing ne...  \n",
       "2     Individuals of all ages who come into contact ...  \n",
       "3     During the first phase of the disease, the mos...  \n",
       "4     Aseptic meningitis, encephalitis, or meningoen...  \n",
       "...                                                 ...  \n",
       "2043  Once the diagnosis of primary hyperparathyroid...  \n",
       "2044  Surgery                  Surgery to remove the...  \n",
       "2045  Eating, diet, and nutrition have not been show...  \n",
       "2046  - Primary hyperparathyroidism is a disorder of...  \n",
       "2047  Urinary incontinence is the loss of bladder co...  \n",
       "\n",
       "[2007 rows x 3 columns]"
      ]
     },
     "execution_count": 151,
     "metadata": {},
     "output_type": "execute_result"
    }
   ],
   "source": [
    "medical_qa_corpus_deduplicated"
   ]
  },
  {
   "cell_type": "code",
   "execution_count": 152,
   "metadata": {},
   "outputs": [
    {
     "data": {
      "text/html": [
       "<div>\n",
       "<style scoped>\n",
       "    .dataframe tbody tr th:only-of-type {\n",
       "        vertical-align: middle;\n",
       "    }\n",
       "\n",
       "    .dataframe tbody tr th {\n",
       "        vertical-align: top;\n",
       "    }\n",
       "\n",
       "    .dataframe thead th {\n",
       "        text-align: right;\n",
       "    }\n",
       "</style>\n",
       "<table border=\"1\" class=\"dataframe\">\n",
       "  <thead>\n",
       "    <tr style=\"text-align: right;\">\n",
       "      <th></th>\n",
       "      <th>query-id</th>\n",
       "      <th>corpus-id</th>\n",
       "      <th>score</th>\n",
       "    </tr>\n",
       "  </thead>\n",
       "  <tbody>\n",
       "    <tr>\n",
       "      <th>0</th>\n",
       "      <td>2d3e200a-8ddf-4062-a678-f5d0401c54ad</td>\n",
       "      <td>0377f7ec-d481-4bb2-a878-5d279a2a11fe</td>\n",
       "      <td>1.0</td>\n",
       "    </tr>\n",
       "    <tr>\n",
       "      <th>1</th>\n",
       "      <td>bf3b28a5-db6f-412d-96f1-d67d17bcaef8</td>\n",
       "      <td>2f249bba-2201-424f-8515-182cd5272cd9</td>\n",
       "      <td>1.0</td>\n",
       "    </tr>\n",
       "    <tr>\n",
       "      <th>2</th>\n",
       "      <td>2d3e200a-8ddf-4062-a678-f5d0401c54ad</td>\n",
       "      <td>935eb313-ccf5-4135-9de6-f6b9cfb6a8f5</td>\n",
       "      <td>1.0</td>\n",
       "    </tr>\n",
       "    <tr>\n",
       "      <th>3</th>\n",
       "      <td>ebb4ab78-ff5f-4e78-ac14-bb98760c2a0a</td>\n",
       "      <td>f28f93b1-0df2-47cf-9349-e85683402cf8</td>\n",
       "      <td>1.0</td>\n",
       "    </tr>\n",
       "    <tr>\n",
       "      <th>4</th>\n",
       "      <td>9fd75f16-1bd5-4451-af69-5885b7d5267a</td>\n",
       "      <td>8e253cda-fa64-4f77-ae17-e1d8774f96bb</td>\n",
       "      <td>1.0</td>\n",
       "    </tr>\n",
       "    <tr>\n",
       "      <th>...</th>\n",
       "      <td>...</td>\n",
       "      <td>...</td>\n",
       "      <td>...</td>\n",
       "    </tr>\n",
       "    <tr>\n",
       "      <th>2043</th>\n",
       "      <td>8a105170-77a8-4706-8fbc-c33b65fe7a69</td>\n",
       "      <td>87f80156-6d4d-424f-b17a-4aad8d73d32d</td>\n",
       "      <td>1.0</td>\n",
       "    </tr>\n",
       "    <tr>\n",
       "      <th>2044</th>\n",
       "      <td>2fdc3c5b-fdd7-4402-b5f2-edbadf83889d</td>\n",
       "      <td>6e249abc-2caf-489d-89c7-b3152c9a6dc6</td>\n",
       "      <td>1.0</td>\n",
       "    </tr>\n",
       "    <tr>\n",
       "      <th>2045</th>\n",
       "      <td>2ac6e1b0-09b3-4457-93a4-933e1c72103b</td>\n",
       "      <td>49e8250a-cd2a-4b1b-9ab7-f8942e3ec0c0</td>\n",
       "      <td>1.0</td>\n",
       "    </tr>\n",
       "    <tr>\n",
       "      <th>2046</th>\n",
       "      <td>2ac6e1b0-09b3-4457-93a4-933e1c72103b</td>\n",
       "      <td>0c79e705-c2fa-4111-ba91-f86207a0cd6f</td>\n",
       "      <td>1.0</td>\n",
       "    </tr>\n",
       "    <tr>\n",
       "      <th>2047</th>\n",
       "      <td>c20f7a35-586c-4c80-ae3f-6a6c8bed99b2</td>\n",
       "      <td>66cb232c-2e7d-4bb3-b470-b4c605670bd9</td>\n",
       "      <td>1.0</td>\n",
       "    </tr>\n",
       "  </tbody>\n",
       "</table>\n",
       "<p>2019 rows × 3 columns</p>\n",
       "</div>"
      ],
      "text/plain": [
       "                                  query-id  \\\n",
       "0     2d3e200a-8ddf-4062-a678-f5d0401c54ad   \n",
       "1     bf3b28a5-db6f-412d-96f1-d67d17bcaef8   \n",
       "2     2d3e200a-8ddf-4062-a678-f5d0401c54ad   \n",
       "3     ebb4ab78-ff5f-4e78-ac14-bb98760c2a0a   \n",
       "4     9fd75f16-1bd5-4451-af69-5885b7d5267a   \n",
       "...                                    ...   \n",
       "2043  8a105170-77a8-4706-8fbc-c33b65fe7a69   \n",
       "2044  2fdc3c5b-fdd7-4402-b5f2-edbadf83889d   \n",
       "2045  2ac6e1b0-09b3-4457-93a4-933e1c72103b   \n",
       "2046  2ac6e1b0-09b3-4457-93a4-933e1c72103b   \n",
       "2047  c20f7a35-586c-4c80-ae3f-6a6c8bed99b2   \n",
       "\n",
       "                                 corpus-id  score  \n",
       "0     0377f7ec-d481-4bb2-a878-5d279a2a11fe    1.0  \n",
       "1     2f249bba-2201-424f-8515-182cd5272cd9    1.0  \n",
       "2     935eb313-ccf5-4135-9de6-f6b9cfb6a8f5    1.0  \n",
       "3     f28f93b1-0df2-47cf-9349-e85683402cf8    1.0  \n",
       "4     8e253cda-fa64-4f77-ae17-e1d8774f96bb    1.0  \n",
       "...                                    ...    ...  \n",
       "2043  87f80156-6d4d-424f-b17a-4aad8d73d32d    1.0  \n",
       "2044  6e249abc-2caf-489d-89c7-b3152c9a6dc6    1.0  \n",
       "2045  49e8250a-cd2a-4b1b-9ab7-f8942e3ec0c0    1.0  \n",
       "2046  0c79e705-c2fa-4111-ba91-f86207a0cd6f    1.0  \n",
       "2047  66cb232c-2e7d-4bb3-b470-b4c605670bd9    1.0  \n",
       "\n",
       "[2019 rows x 3 columns]"
      ]
     },
     "execution_count": 152,
     "metadata": {},
     "output_type": "execute_result"
    }
   ],
   "source": [
    "medical_qa_default_qa_df_deduplicated"
   ]
  },
  {
   "cell_type": "markdown",
   "metadata": {},
   "source": [
    "### LitSearch - Scientific"
   ]
  },
  {
   "cell_type": "code",
   "execution_count": 313,
   "metadata": {},
   "outputs": [],
   "source": [
    "from datasets import load_dataset\n",
    "\n",
    "litsearch_query_data = load_dataset(\"princeton-nlp/LitSearch\", \"query\", split=\"full\")\n",
    "litsearch_clean_data = load_dataset(\"princeton-nlp/LitSearch\", \"corpus_clean\", split=\"full\")"
   ]
  },
  {
   "cell_type": "code",
   "execution_count": 314,
   "metadata": {},
   "outputs": [],
   "source": [
    "litsearch_query_df = litsearch_query_data.to_pandas()\n",
    "litsearch_papers_df = litsearch_clean_data.to_pandas()"
   ]
  },
  {
   "cell_type": "code",
   "execution_count": 315,
   "metadata": {},
   "outputs": [
    {
     "data": {
      "text/plain": [
       "597"
      ]
     },
     "execution_count": 315,
     "metadata": {},
     "output_type": "execute_result"
    }
   ],
   "source": [
    "len(litsearch_query_df)"
   ]
  },
  {
   "cell_type": "code",
   "execution_count": 316,
   "metadata": {},
   "outputs": [
    {
     "data": {
      "text/html": [
       "<div>\n",
       "<style scoped>\n",
       "    .dataframe tbody tr th:only-of-type {\n",
       "        vertical-align: middle;\n",
       "    }\n",
       "\n",
       "    .dataframe tbody tr th {\n",
       "        vertical-align: top;\n",
       "    }\n",
       "\n",
       "    .dataframe thead th {\n",
       "        text-align: right;\n",
       "    }\n",
       "</style>\n",
       "<table border=\"1\" class=\"dataframe\">\n",
       "  <thead>\n",
       "    <tr style=\"text-align: right;\">\n",
       "      <th></th>\n",
       "      <th>corpusid</th>\n",
       "      <th>title</th>\n",
       "      <th>abstract</th>\n",
       "      <th>citations</th>\n",
       "      <th>full_paper</th>\n",
       "    </tr>\n",
       "  </thead>\n",
       "  <tbody>\n",
       "    <tr>\n",
       "      <th>0</th>\n",
       "      <td>252715594</td>\n",
       "      <td>PHENAKI: VARIABLE LENGTH VIDEO GENERATION FROM...</td>\n",
       "      <td>We present Phenaki, a model capable of realist...</td>\n",
       "      <td>[6628106, 174802916, 238582653]</td>\n",
       "      <td>PHENAKI: VARIABLE LENGTH VIDEO GENERATION FROM...</td>\n",
       "    </tr>\n",
       "    <tr>\n",
       "      <th>1</th>\n",
       "      <td>13002849</td>\n",
       "      <td>MODE REGULARIZED GENERATIVE ADVERSARIAL NETWORKS</td>\n",
       "      <td>Although Generative Adversarial Networks achie...</td>\n",
       "      <td>[]</td>\n",
       "      <td>MODE REGULARIZED GENERATIVE ADVERSARIAL NETWOR...</td>\n",
       "    </tr>\n",
       "    <tr>\n",
       "      <th>2</th>\n",
       "      <td>239998253</td>\n",
       "      <td>What Do We Mean by Generalization in Federated...</td>\n",
       "      <td>Federated learning data is drawn from a distri...</td>\n",
       "      <td>[235613568, 231924480, 211678094, 195798643, 4...</td>\n",
       "      <td>What Do We Mean by Generalization in Federated...</td>\n",
       "    </tr>\n",
       "    <tr>\n",
       "      <th>3</th>\n",
       "      <td>62841605</td>\n",
       "      <td>SPREADING VECTORS FOR SIMILARITY SEARCH</td>\n",
       "      <td>Discretizing multi-dimensional data distributi...</td>\n",
       "      <td>[]</td>\n",
       "      <td>SPREADING VECTORS FOR SIMILARITY SEARCH\\n\\n\\nA...</td>\n",
       "    </tr>\n",
       "    <tr>\n",
       "      <th>4</th>\n",
       "      <td>253237531</td>\n",
       "      <td>MACHINE UNLEARNING OF FEDERATED CLUSTERS</td>\n",
       "      <td>Federated clustering (FC) is an unsupervised l...</td>\n",
       "      <td>[]</td>\n",
       "      <td>MACHINE UNLEARNING OF FEDERATED CLUSTERS\\n\\n\\n...</td>\n",
       "    </tr>\n",
       "    <tr>\n",
       "      <th>...</th>\n",
       "      <td>...</td>\n",
       "      <td>...</td>\n",
       "      <td>...</td>\n",
       "      <td>...</td>\n",
       "      <td>...</td>\n",
       "    </tr>\n",
       "    <tr>\n",
       "      <th>64178</th>\n",
       "      <td>208324656</td>\n",
       "      <td></td>\n",
       "      <td></td>\n",
       "      <td>[]</td>\n",
       "      <td>Pharmacological Substances, Compounds\\n\\n\\nVíc...</td>\n",
       "    </tr>\n",
       "    <tr>\n",
       "      <th>64179</th>\n",
       "      <td>30831790</td>\n",
       "      <td>The FLaReNet Thematic Network: A Global Forum ...</td>\n",
       "      <td>The aim of this short paper is to present the ...</td>\n",
       "      <td>[]</td>\n",
       "      <td>The FLaReNet Thematic Network: A Global Forum ...</td>\n",
       "    </tr>\n",
       "    <tr>\n",
       "      <th>64180</th>\n",
       "      <td>11918974</td>\n",
       "      <td>Improved statistical measures to assess natura...</td>\n",
       "      <td>We examine the performance of three dependency...</td>\n",
       "      <td>[12042560, 628455, 196105, 9429298, 9431510, 6...</td>\n",
       "      <td>Improved statistical measures to assess natura...</td>\n",
       "    </tr>\n",
       "    <tr>\n",
       "      <th>64181</th>\n",
       "      <td>2046924</td>\n",
       "      <td>The relative divergence of Dutch dialect pronu...</td>\n",
       "      <td>In this paper we use the Reeks Nederlandse Dia...</td>\n",
       "      <td>[2704974]</td>\n",
       "      <td>The relative divergence of Dutch dialect pronu...</td>\n",
       "    </tr>\n",
       "    <tr>\n",
       "      <th>64182</th>\n",
       "      <td>231642302</td>\n",
       "      <td>plWordNet 3.0 -Almost There</td>\n",
       "      <td>It took us nearly ten years to get from no wor...</td>\n",
       "      <td>[16189696, 11338245, 17178054, 17535854, 24949...</td>\n",
       "      <td>plWordNet 3.0 -Almost There\\n\\n\\nMaciej Piasec...</td>\n",
       "    </tr>\n",
       "  </tbody>\n",
       "</table>\n",
       "<p>64183 rows × 5 columns</p>\n",
       "</div>"
      ],
      "text/plain": [
       "        corpusid                                              title  \\\n",
       "0      252715594  PHENAKI: VARIABLE LENGTH VIDEO GENERATION FROM...   \n",
       "1       13002849   MODE REGULARIZED GENERATIVE ADVERSARIAL NETWORKS   \n",
       "2      239998253  What Do We Mean by Generalization in Federated...   \n",
       "3       62841605            SPREADING VECTORS FOR SIMILARITY SEARCH   \n",
       "4      253237531           MACHINE UNLEARNING OF FEDERATED CLUSTERS   \n",
       "...          ...                                                ...   \n",
       "64178  208324656                                                      \n",
       "64179   30831790  The FLaReNet Thematic Network: A Global Forum ...   \n",
       "64180   11918974  Improved statistical measures to assess natura...   \n",
       "64181    2046924  The relative divergence of Dutch dialect pronu...   \n",
       "64182  231642302                        plWordNet 3.0 -Almost There   \n",
       "\n",
       "                                                abstract  \\\n",
       "0      We present Phenaki, a model capable of realist...   \n",
       "1      Although Generative Adversarial Networks achie...   \n",
       "2      Federated learning data is drawn from a distri...   \n",
       "3      Discretizing multi-dimensional data distributi...   \n",
       "4      Federated clustering (FC) is an unsupervised l...   \n",
       "...                                                  ...   \n",
       "64178                                                      \n",
       "64179  The aim of this short paper is to present the ...   \n",
       "64180  We examine the performance of three dependency...   \n",
       "64181  In this paper we use the Reeks Nederlandse Dia...   \n",
       "64182  It took us nearly ten years to get from no wor...   \n",
       "\n",
       "                                               citations  \\\n",
       "0                        [6628106, 174802916, 238582653]   \n",
       "1                                                     []   \n",
       "2      [235613568, 231924480, 211678094, 195798643, 4...   \n",
       "3                                                     []   \n",
       "4                                                     []   \n",
       "...                                                  ...   \n",
       "64178                                                 []   \n",
       "64179                                                 []   \n",
       "64180  [12042560, 628455, 196105, 9429298, 9431510, 6...   \n",
       "64181                                          [2704974]   \n",
       "64182  [16189696, 11338245, 17178054, 17535854, 24949...   \n",
       "\n",
       "                                              full_paper  \n",
       "0      PHENAKI: VARIABLE LENGTH VIDEO GENERATION FROM...  \n",
       "1      MODE REGULARIZED GENERATIVE ADVERSARIAL NETWOR...  \n",
       "2      What Do We Mean by Generalization in Federated...  \n",
       "3      SPREADING VECTORS FOR SIMILARITY SEARCH\\n\\n\\nA...  \n",
       "4      MACHINE UNLEARNING OF FEDERATED CLUSTERS\\n\\n\\n...  \n",
       "...                                                  ...  \n",
       "64178  Pharmacological Substances, Compounds\\n\\n\\nVíc...  \n",
       "64179  The FLaReNet Thematic Network: A Global Forum ...  \n",
       "64180  Improved statistical measures to assess natura...  \n",
       "64181  The relative divergence of Dutch dialect pronu...  \n",
       "64182  plWordNet 3.0 -Almost There\\n\\n\\nMaciej Piasec...  \n",
       "\n",
       "[64183 rows x 5 columns]"
      ]
     },
     "execution_count": 316,
     "metadata": {},
     "output_type": "execute_result"
    }
   ],
   "source": [
    "litsearch_papers_df"
   ]
  },
  {
   "cell_type": "code",
   "execution_count": 317,
   "metadata": {},
   "outputs": [
    {
     "data": {
      "text/plain": [
       "597"
      ]
     },
     "execution_count": 317,
     "metadata": {},
     "output_type": "execute_result"
    }
   ],
   "source": [
    "litsearch_query_df_cleaned = litsearch_query_df.drop_duplicates(subset=['query'], keep='first')\n",
    "len(litsearch_query_df_cleaned)"
   ]
  },
  {
   "cell_type": "code",
   "execution_count": 318,
   "metadata": {},
   "outputs": [
    {
     "data": {
      "text/plain": [
       "64183"
      ]
     },
     "execution_count": 318,
     "metadata": {},
     "output_type": "execute_result"
    }
   ],
   "source": [
    "len(litsearch_papers_df)"
   ]
  },
  {
   "cell_type": "code",
   "execution_count": 319,
   "metadata": {},
   "outputs": [
    {
     "data": {
      "text/plain": [
       "55909"
      ]
     },
     "execution_count": 319,
     "metadata": {},
     "output_type": "execute_result"
    }
   ],
   "source": [
    "litsearch_papers_df_cleaned = litsearch_papers_df.drop_duplicates(subset=['abstract'], keep='first')\n",
    "len(litsearch_papers_df_cleaned)"
   ]
  },
  {
   "cell_type": "code",
   "execution_count": 320,
   "metadata": {},
   "outputs": [],
   "source": [
    "duplicated_papers = litsearch_papers_df[litsearch_papers_df.duplicated(subset=['abstract'], keep=False)]"
   ]
  },
  {
   "cell_type": "code",
   "execution_count": 321,
   "metadata": {},
   "outputs": [
    {
     "data": {
      "text/plain": [
       "7989"
      ]
     },
     "execution_count": 321,
     "metadata": {},
     "output_type": "execute_result"
    }
   ],
   "source": [
    "len(duplicated_papers[duplicated_papers[\"abstract\"] == \"\"])"
   ]
  },
  {
   "cell_type": "code",
   "execution_count": 322,
   "metadata": {},
   "outputs": [
    {
     "data": {
      "text/plain": [
       "0"
      ]
     },
     "execution_count": 322,
     "metadata": {},
     "output_type": "execute_result"
    }
   ],
   "source": [
    "len(litsearch_query_df_cleaned[litsearch_query_df_cleaned[\"query\"] == \"\"])"
   ]
  },
  {
   "cell_type": "code",
   "execution_count": 323,
   "metadata": {},
   "outputs": [
    {
     "data": {
      "text/html": [
       "<div>\n",
       "<style scoped>\n",
       "    .dataframe tbody tr th:only-of-type {\n",
       "        vertical-align: middle;\n",
       "    }\n",
       "\n",
       "    .dataframe tbody tr th {\n",
       "        vertical-align: top;\n",
       "    }\n",
       "\n",
       "    .dataframe thead th {\n",
       "        text-align: right;\n",
       "    }\n",
       "</style>\n",
       "<table border=\"1\" class=\"dataframe\">\n",
       "  <thead>\n",
       "    <tr style=\"text-align: right;\">\n",
       "      <th></th>\n",
       "      <th>query_set</th>\n",
       "      <th>query</th>\n",
       "      <th>specificity</th>\n",
       "      <th>quality</th>\n",
       "      <th>corpusids</th>\n",
       "    </tr>\n",
       "  </thead>\n",
       "  <tbody>\n",
       "    <tr>\n",
       "      <th>0</th>\n",
       "      <td>inline_acl</td>\n",
       "      <td>Are there any research papers on methods to co...</td>\n",
       "      <td>0</td>\n",
       "      <td>2</td>\n",
       "      <td>[202719327]</td>\n",
       "    </tr>\n",
       "    <tr>\n",
       "      <th>1</th>\n",
       "      <td>inline_acl</td>\n",
       "      <td>Are there any resources available for translat...</td>\n",
       "      <td>1</td>\n",
       "      <td>2</td>\n",
       "      <td>[227231792]</td>\n",
       "    </tr>\n",
       "    <tr>\n",
       "      <th>2</th>\n",
       "      <td>inline_acl</td>\n",
       "      <td>Are there any studies that explore post-hoc te...</td>\n",
       "      <td>0</td>\n",
       "      <td>2</td>\n",
       "      <td>[226254579, 204976362]</td>\n",
       "    </tr>\n",
       "    <tr>\n",
       "      <th>3</th>\n",
       "      <td>inline_acl</td>\n",
       "      <td>Are there any tools or studies that have focus...</td>\n",
       "      <td>1</td>\n",
       "      <td>2</td>\n",
       "      <td>[10961392, 12160022]</td>\n",
       "    </tr>\n",
       "    <tr>\n",
       "      <th>4</th>\n",
       "      <td>inline_acl</td>\n",
       "      <td>Are there papers that propose contextualized c...</td>\n",
       "      <td>1</td>\n",
       "      <td>2</td>\n",
       "      <td>[233296182]</td>\n",
       "    </tr>\n",
       "  </tbody>\n",
       "</table>\n",
       "</div>"
      ],
      "text/plain": [
       "    query_set                                              query  specificity  \\\n",
       "0  inline_acl  Are there any research papers on methods to co...            0   \n",
       "1  inline_acl  Are there any resources available for translat...            1   \n",
       "2  inline_acl  Are there any studies that explore post-hoc te...            0   \n",
       "3  inline_acl  Are there any tools or studies that have focus...            1   \n",
       "4  inline_acl  Are there papers that propose contextualized c...            1   \n",
       "\n",
       "   quality               corpusids  \n",
       "0        2             [202719327]  \n",
       "1        2             [227231792]  \n",
       "2        2  [226254579, 204976362]  \n",
       "3        2    [10961392, 12160022]  \n",
       "4        2             [233296182]  "
      ]
     },
     "execution_count": 323,
     "metadata": {},
     "output_type": "execute_result"
    }
   ],
   "source": [
    "litsearch_query_df_cleaned.head()"
   ]
  },
  {
   "cell_type": "code",
   "execution_count": 324,
   "metadata": {},
   "outputs": [
    {
     "data": {
      "text/html": [
       "<div>\n",
       "<style scoped>\n",
       "    .dataframe tbody tr th:only-of-type {\n",
       "        vertical-align: middle;\n",
       "    }\n",
       "\n",
       "    .dataframe tbody tr th {\n",
       "        vertical-align: top;\n",
       "    }\n",
       "\n",
       "    .dataframe thead th {\n",
       "        text-align: right;\n",
       "    }\n",
       "</style>\n",
       "<table border=\"1\" class=\"dataframe\">\n",
       "  <thead>\n",
       "    <tr style=\"text-align: right;\">\n",
       "      <th></th>\n",
       "      <th>corpusid</th>\n",
       "      <th>title</th>\n",
       "      <th>abstract</th>\n",
       "      <th>citations</th>\n",
       "      <th>full_paper</th>\n",
       "    </tr>\n",
       "  </thead>\n",
       "  <tbody>\n",
       "    <tr>\n",
       "      <th>0</th>\n",
       "      <td>252715594</td>\n",
       "      <td>PHENAKI: VARIABLE LENGTH VIDEO GENERATION FROM...</td>\n",
       "      <td>We present Phenaki, a model capable of realist...</td>\n",
       "      <td>[6628106, 174802916, 238582653]</td>\n",
       "      <td>PHENAKI: VARIABLE LENGTH VIDEO GENERATION FROM...</td>\n",
       "    </tr>\n",
       "    <tr>\n",
       "      <th>1</th>\n",
       "      <td>13002849</td>\n",
       "      <td>MODE REGULARIZED GENERATIVE ADVERSARIAL NETWORKS</td>\n",
       "      <td>Although Generative Adversarial Networks achie...</td>\n",
       "      <td>[]</td>\n",
       "      <td>MODE REGULARIZED GENERATIVE ADVERSARIAL NETWOR...</td>\n",
       "    </tr>\n",
       "    <tr>\n",
       "      <th>2</th>\n",
       "      <td>239998253</td>\n",
       "      <td>What Do We Mean by Generalization in Federated...</td>\n",
       "      <td>Federated learning data is drawn from a distri...</td>\n",
       "      <td>[235613568, 231924480, 211678094, 195798643, 4...</td>\n",
       "      <td>What Do We Mean by Generalization in Federated...</td>\n",
       "    </tr>\n",
       "    <tr>\n",
       "      <th>3</th>\n",
       "      <td>62841605</td>\n",
       "      <td>SPREADING VECTORS FOR SIMILARITY SEARCH</td>\n",
       "      <td>Discretizing multi-dimensional data distributi...</td>\n",
       "      <td>[]</td>\n",
       "      <td>SPREADING VECTORS FOR SIMILARITY SEARCH\\n\\n\\nA...</td>\n",
       "    </tr>\n",
       "    <tr>\n",
       "      <th>4</th>\n",
       "      <td>253237531</td>\n",
       "      <td>MACHINE UNLEARNING OF FEDERATED CLUSTERS</td>\n",
       "      <td>Federated clustering (FC) is an unsupervised l...</td>\n",
       "      <td>[]</td>\n",
       "      <td>MACHINE UNLEARNING OF FEDERATED CLUSTERS\\n\\n\\n...</td>\n",
       "    </tr>\n",
       "  </tbody>\n",
       "</table>\n",
       "</div>"
      ],
      "text/plain": [
       "    corpusid                                              title  \\\n",
       "0  252715594  PHENAKI: VARIABLE LENGTH VIDEO GENERATION FROM...   \n",
       "1   13002849   MODE REGULARIZED GENERATIVE ADVERSARIAL NETWORKS   \n",
       "2  239998253  What Do We Mean by Generalization in Federated...   \n",
       "3   62841605            SPREADING VECTORS FOR SIMILARITY SEARCH   \n",
       "4  253237531           MACHINE UNLEARNING OF FEDERATED CLUSTERS   \n",
       "\n",
       "                                            abstract  \\\n",
       "0  We present Phenaki, a model capable of realist...   \n",
       "1  Although Generative Adversarial Networks achie...   \n",
       "2  Federated learning data is drawn from a distri...   \n",
       "3  Discretizing multi-dimensional data distributi...   \n",
       "4  Federated clustering (FC) is an unsupervised l...   \n",
       "\n",
       "                                           citations  \\\n",
       "0                    [6628106, 174802916, 238582653]   \n",
       "1                                                 []   \n",
       "2  [235613568, 231924480, 211678094, 195798643, 4...   \n",
       "3                                                 []   \n",
       "4                                                 []   \n",
       "\n",
       "                                          full_paper  \n",
       "0  PHENAKI: VARIABLE LENGTH VIDEO GENERATION FROM...  \n",
       "1  MODE REGULARIZED GENERATIVE ADVERSARIAL NETWOR...  \n",
       "2  What Do We Mean by Generalization in Federated...  \n",
       "3  SPREADING VECTORS FOR SIMILARITY SEARCH\\n\\n\\nA...  \n",
       "4  MACHINE UNLEARNING OF FEDERATED CLUSTERS\\n\\n\\n...  "
      ]
     },
     "execution_count": 324,
     "metadata": {},
     "output_type": "execute_result"
    }
   ],
   "source": [
    "litsearch_papers_df_cleaned.head()"
   ]
  },
  {
   "cell_type": "code",
   "execution_count": 325,
   "metadata": {},
   "outputs": [
    {
     "data": {
      "text/html": [
       "<div>\n",
       "<style scoped>\n",
       "    .dataframe tbody tr th:only-of-type {\n",
       "        vertical-align: middle;\n",
       "    }\n",
       "\n",
       "    .dataframe tbody tr th {\n",
       "        vertical-align: top;\n",
       "    }\n",
       "\n",
       "    .dataframe thead th {\n",
       "        text-align: right;\n",
       "    }\n",
       "</style>\n",
       "<table border=\"1\" class=\"dataframe\">\n",
       "  <thead>\n",
       "    <tr style=\"text-align: right;\">\n",
       "      <th></th>\n",
       "      <th>corpusid</th>\n",
       "      <th>title</th>\n",
       "      <th>abstract</th>\n",
       "      <th>citations</th>\n",
       "      <th>full_paper</th>\n",
       "    </tr>\n",
       "  </thead>\n",
       "  <tbody>\n",
       "    <tr>\n",
       "      <th>28</th>\n",
       "      <td>232257804</td>\n",
       "      <td>IMPLICIT NORMALIZING FLOWS</td>\n",
       "      <td></td>\n",
       "      <td>[]</td>\n",
       "      <td>IMPLICIT NORMALIZING FLOWS\\n\\n\\nCheng Lu \\nJia...</td>\n",
       "    </tr>\n",
       "    <tr>\n",
       "      <th>234</th>\n",
       "      <td>238419270</td>\n",
       "      <td>UNDERSTANDING DOMAIN RANDOMIZATION FOR SIM-TO-...</td>\n",
       "      <td>Reinforcement learning encounters many challen...</td>\n",
       "      <td>[]</td>\n",
       "      <td>UNDERSTANDING DOMAIN RANDOMIZATION FOR SIM-TO-...</td>\n",
       "    </tr>\n",
       "    <tr>\n",
       "      <th>246</th>\n",
       "      <td>260498700</td>\n",
       "      <td>EXPLORING SPARSITY IN RECURRENT NEURAL NETWORKS</td>\n",
       "      <td>Recurrent Neural Networks (RNN) are widely use...</td>\n",
       "      <td>[]</td>\n",
       "      <td>EXPLORING SPARSITY IN RECURRENT NEURAL NETWORK...</td>\n",
       "    </tr>\n",
       "    <tr>\n",
       "      <th>499</th>\n",
       "      <td>265038424</td>\n",
       "      <td>IMPROVING GENERALIZATION AND STABILITY OF GENE...</td>\n",
       "      <td>Generative Adversarial Networks (GANs) are one...</td>\n",
       "      <td>[1758096, 3568073, 3366315, 3398677]</td>\n",
       "      <td>IMPROVING GENERALIZATION AND STABILITY OF GENE...</td>\n",
       "    </tr>\n",
       "    <tr>\n",
       "      <th>512</th>\n",
       "      <td>247613305</td>\n",
       "      <td>SURF: SEMI-SUPERVISED REWARD LEARNING WITH DAT...</td>\n",
       "      <td>Preference-based reinforcement learning (RL) h...</td>\n",
       "      <td>[216562627, 3162051, 236134152, 6628106, 28202...</td>\n",
       "      <td>SURF: SEMI-SUPERVISED REWARD LEARNING WITH DAT...</td>\n",
       "    </tr>\n",
       "  </tbody>\n",
       "</table>\n",
       "</div>"
      ],
      "text/plain": [
       "      corpusid                                              title  \\\n",
       "28   232257804                         IMPLICIT NORMALIZING FLOWS   \n",
       "234  238419270  UNDERSTANDING DOMAIN RANDOMIZATION FOR SIM-TO-...   \n",
       "246  260498700    EXPLORING SPARSITY IN RECURRENT NEURAL NETWORKS   \n",
       "499  265038424  IMPROVING GENERALIZATION AND STABILITY OF GENE...   \n",
       "512  247613305  SURF: SEMI-SUPERVISED REWARD LEARNING WITH DAT...   \n",
       "\n",
       "                                              abstract  \\\n",
       "28                                                       \n",
       "234  Reinforcement learning encounters many challen...   \n",
       "246  Recurrent Neural Networks (RNN) are widely use...   \n",
       "499  Generative Adversarial Networks (GANs) are one...   \n",
       "512  Preference-based reinforcement learning (RL) h...   \n",
       "\n",
       "                                             citations  \\\n",
       "28                                                  []   \n",
       "234                                                 []   \n",
       "246                                                 []   \n",
       "499               [1758096, 3568073, 3366315, 3398677]   \n",
       "512  [216562627, 3162051, 236134152, 6628106, 28202...   \n",
       "\n",
       "                                            full_paper  \n",
       "28   IMPLICIT NORMALIZING FLOWS\\n\\n\\nCheng Lu \\nJia...  \n",
       "234  UNDERSTANDING DOMAIN RANDOMIZATION FOR SIM-TO-...  \n",
       "246  EXPLORING SPARSITY IN RECURRENT NEURAL NETWORK...  \n",
       "499  IMPROVING GENERALIZATION AND STABILITY OF GENE...  \n",
       "512  SURF: SEMI-SUPERVISED REWARD LEARNING WITH DAT...  "
      ]
     },
     "execution_count": 325,
     "metadata": {},
     "output_type": "execute_result"
    }
   ],
   "source": [
    "duplicated_papers.head()"
   ]
  },
  {
   "cell_type": "code",
   "execution_count": 326,
   "metadata": {},
   "outputs": [
    {
     "data": {
      "text/html": [
       "<div>\n",
       "<style scoped>\n",
       "    .dataframe tbody tr th:only-of-type {\n",
       "        vertical-align: middle;\n",
       "    }\n",
       "\n",
       "    .dataframe tbody tr th {\n",
       "        vertical-align: top;\n",
       "    }\n",
       "\n",
       "    .dataframe thead th {\n",
       "        text-align: right;\n",
       "    }\n",
       "</style>\n",
       "<table border=\"1\" class=\"dataframe\">\n",
       "  <thead>\n",
       "    <tr style=\"text-align: right;\">\n",
       "      <th></th>\n",
       "      <th>corpusid</th>\n",
       "      <th>title</th>\n",
       "      <th>abstract</th>\n",
       "      <th>citations</th>\n",
       "      <th>full_paper</th>\n",
       "    </tr>\n",
       "  </thead>\n",
       "  <tbody>\n",
       "    <tr>\n",
       "      <th>246</th>\n",
       "      <td>260498700</td>\n",
       "      <td>EXPLORING SPARSITY IN RECURRENT NEURAL NETWORKS</td>\n",
       "      <td>Recurrent Neural Networks (RNN) are widely use...</td>\n",
       "      <td>[]</td>\n",
       "      <td>EXPLORING SPARSITY IN RECURRENT NEURAL NETWORK...</td>\n",
       "    </tr>\n",
       "    <tr>\n",
       "      <th>1004</th>\n",
       "      <td>10135357</td>\n",
       "      <td>EXPLORING SPARSITY IN RECURRENT NEURAL NETWORKS</td>\n",
       "      <td>Recurrent Neural Networks (RNN) are widely use...</td>\n",
       "      <td>[]</td>\n",
       "      <td>EXPLORING SPARSITY IN RECURRENT NEURAL NETWORK...</td>\n",
       "    </tr>\n",
       "    <tr>\n",
       "      <th>2739</th>\n",
       "      <td>261437068</td>\n",
       "      <td>EXPLORING SPARSITY IN RECURRENT NEURAL NETWORKS</td>\n",
       "      <td>Recurrent Neural Networks (RNN) are widely use...</td>\n",
       "      <td>[]</td>\n",
       "      <td>EXPLORING SPARSITY IN RECURRENT NEURAL NETWORK...</td>\n",
       "    </tr>\n",
       "  </tbody>\n",
       "</table>\n",
       "</div>"
      ],
      "text/plain": [
       "       corpusid                                            title  \\\n",
       "246   260498700  EXPLORING SPARSITY IN RECURRENT NEURAL NETWORKS   \n",
       "1004   10135357  EXPLORING SPARSITY IN RECURRENT NEURAL NETWORKS   \n",
       "2739  261437068  EXPLORING SPARSITY IN RECURRENT NEURAL NETWORKS   \n",
       "\n",
       "                                               abstract citations  \\\n",
       "246   Recurrent Neural Networks (RNN) are widely use...        []   \n",
       "1004  Recurrent Neural Networks (RNN) are widely use...        []   \n",
       "2739  Recurrent Neural Networks (RNN) are widely use...        []   \n",
       "\n",
       "                                             full_paper  \n",
       "246   EXPLORING SPARSITY IN RECURRENT NEURAL NETWORK...  \n",
       "1004  EXPLORING SPARSITY IN RECURRENT NEURAL NETWORK...  \n",
       "2739  EXPLORING SPARSITY IN RECURRENT NEURAL NETWORK...  "
      ]
     },
     "execution_count": 326,
     "metadata": {},
     "output_type": "execute_result"
    }
   ],
   "source": [
    "duplicated_papers[duplicated_papers[\"abstract\"] == 'Recurrent Neural Networks (RNN) are widely used to solve a variety of problems and as the quantity of data and the amount of available compute have increased, so have model sizes. The number of parameters in recent state-of-the-art networks makes them hard to deploy, especially on mobile phones and embedded devices. The challenge is due to both the size of the model and the time it takes to evaluate it. In order to deploy these RNNs efficiently, we propose a technique to reduce the parameters of a network by pruning weights during the initial training of the network. At the end of training, the parameters of the network are sparse while accuracy is still close to the original dense neural network. The network size is reduced by 8× and the time required to train the model remains constant. Additionally, we can prune a larger dense network to achieve better than baseline performance while still reducing the total number of parameters significantly. Pruning RNNs reduces the size of the model and can also help achieve significant inference time speed-up using sparse matrix multiply. Benchmarks show that using our technique model size can be reduced by 90% and speed-up is around 2× to 7×.Published as a conference paper at ICLR 2017The more powerful server class GPUs used in data centers can generally perform inference quickly enough to serve one user, but in the data center performance per dollar is very important. Techniques that allow models to be evaluated faster enable more users to be served per GPU increasing the effective performance per dollar.']"
   ]
  },
  {
   "cell_type": "code",
   "execution_count": 327,
   "metadata": {},
   "outputs": [
    {
     "data": {
      "text/plain": [
       "'Recurrent Neural Networks (RNN) are widely used to solve a variety of problems and as the quantity of data and the amount of available compute have increased, so have model sizes. The number of parameters in recent state-of-the-art networks makes them hard to deploy, especially on mobile phones and embedded devices. The challenge is due to both the size of the model and the time it takes to evaluate it. In order to deploy these RNNs efficiently, we propose a technique to reduce the parameters of a network by pruning weights during the initial training of the network. At the end of training, the parameters of the network are sparse while accuracy is still close to the original dense neural network. The network size is reduced by 8× and the time required to train the model remains constant. Additionally, we can prune a larger dense network to achieve better than baseline performance while still reducing the total number of parameters significantly. Pruning RNNs reduces the size of the model and can also help achieve significant inference time speed-up using sparse matrix multiply. Benchmarks show that using our technique model size can be reduced by 90% and speed-up is around 2× to 7×.Published as a conference paper at ICLR 2017The more powerful server class GPUs used in data centers can generally perform inference quickly enough to serve one user, but in the data center performance per dollar is very important. Techniques that allow models to be evaluated faster enable more users to be served per GPU increasing the effective performance per dollar.'"
      ]
     },
     "execution_count": 327,
     "metadata": {},
     "output_type": "execute_result"
    }
   ],
   "source": [
    "duplicated_papers[\"abstract\"][246]"
   ]
  },
  {
   "cell_type": "markdown",
   "metadata": {},
   "source": [
    "so we want to remove corpusids that correspond to papers with empty abstracts and fix those with duplicates (replace with first occurance)"
   ]
  },
  {
   "cell_type": "code",
   "execution_count": 328,
   "metadata": {},
   "outputs": [
    {
     "data": {
      "text/html": [
       "<div>\n",
       "<style scoped>\n",
       "    .dataframe tbody tr th:only-of-type {\n",
       "        vertical-align: middle;\n",
       "    }\n",
       "\n",
       "    .dataframe tbody tr th {\n",
       "        vertical-align: top;\n",
       "    }\n",
       "\n",
       "    .dataframe thead th {\n",
       "        text-align: right;\n",
       "    }\n",
       "</style>\n",
       "<table border=\"1\" class=\"dataframe\">\n",
       "  <thead>\n",
       "    <tr style=\"text-align: right;\">\n",
       "      <th></th>\n",
       "      <th>corpusid</th>\n",
       "      <th>title</th>\n",
       "      <th>abstract</th>\n",
       "      <th>citations</th>\n",
       "      <th>full_paper</th>\n",
       "    </tr>\n",
       "  </thead>\n",
       "  <tbody>\n",
       "    <tr>\n",
       "      <th>0</th>\n",
       "      <td>252715594</td>\n",
       "      <td>PHENAKI: VARIABLE LENGTH VIDEO GENERATION FROM...</td>\n",
       "      <td>We present Phenaki, a model capable of realist...</td>\n",
       "      <td>[6628106, 174802916, 238582653]</td>\n",
       "      <td>PHENAKI: VARIABLE LENGTH VIDEO GENERATION FROM...</td>\n",
       "    </tr>\n",
       "    <tr>\n",
       "      <th>1</th>\n",
       "      <td>13002849</td>\n",
       "      <td>MODE REGULARIZED GENERATIVE ADVERSARIAL NETWORKS</td>\n",
       "      <td>Although Generative Adversarial Networks achie...</td>\n",
       "      <td>[]</td>\n",
       "      <td>MODE REGULARIZED GENERATIVE ADVERSARIAL NETWOR...</td>\n",
       "    </tr>\n",
       "    <tr>\n",
       "      <th>2</th>\n",
       "      <td>239998253</td>\n",
       "      <td>What Do We Mean by Generalization in Federated...</td>\n",
       "      <td>Federated learning data is drawn from a distri...</td>\n",
       "      <td>[235613568, 231924480, 211678094, 195798643, 4...</td>\n",
       "      <td>What Do We Mean by Generalization in Federated...</td>\n",
       "    </tr>\n",
       "    <tr>\n",
       "      <th>3</th>\n",
       "      <td>62841605</td>\n",
       "      <td>SPREADING VECTORS FOR SIMILARITY SEARCH</td>\n",
       "      <td>Discretizing multi-dimensional data distributi...</td>\n",
       "      <td>[]</td>\n",
       "      <td>SPREADING VECTORS FOR SIMILARITY SEARCH\\n\\n\\nA...</td>\n",
       "    </tr>\n",
       "    <tr>\n",
       "      <th>4</th>\n",
       "      <td>253237531</td>\n",
       "      <td>MACHINE UNLEARNING OF FEDERATED CLUSTERS</td>\n",
       "      <td>Federated clustering (FC) is an unsupervised l...</td>\n",
       "      <td>[]</td>\n",
       "      <td>MACHINE UNLEARNING OF FEDERATED CLUSTERS\\n\\n\\n...</td>\n",
       "    </tr>\n",
       "    <tr>\n",
       "      <th>...</th>\n",
       "      <td>...</td>\n",
       "      <td>...</td>\n",
       "      <td>...</td>\n",
       "      <td>...</td>\n",
       "      <td>...</td>\n",
       "    </tr>\n",
       "    <tr>\n",
       "      <th>64178</th>\n",
       "      <td>208324656</td>\n",
       "      <td></td>\n",
       "      <td></td>\n",
       "      <td>[]</td>\n",
       "      <td>Pharmacological Substances, Compounds\\n\\n\\nVíc...</td>\n",
       "    </tr>\n",
       "    <tr>\n",
       "      <th>64179</th>\n",
       "      <td>30831790</td>\n",
       "      <td>The FLaReNet Thematic Network: A Global Forum ...</td>\n",
       "      <td>The aim of this short paper is to present the ...</td>\n",
       "      <td>[]</td>\n",
       "      <td>The FLaReNet Thematic Network: A Global Forum ...</td>\n",
       "    </tr>\n",
       "    <tr>\n",
       "      <th>64180</th>\n",
       "      <td>11918974</td>\n",
       "      <td>Improved statistical measures to assess natura...</td>\n",
       "      <td>We examine the performance of three dependency...</td>\n",
       "      <td>[12042560, 628455, 196105, 9429298, 9431510, 6...</td>\n",
       "      <td>Improved statistical measures to assess natura...</td>\n",
       "    </tr>\n",
       "    <tr>\n",
       "      <th>64181</th>\n",
       "      <td>2046924</td>\n",
       "      <td>The relative divergence of Dutch dialect pronu...</td>\n",
       "      <td>In this paper we use the Reeks Nederlandse Dia...</td>\n",
       "      <td>[2704974]</td>\n",
       "      <td>The relative divergence of Dutch dialect pronu...</td>\n",
       "    </tr>\n",
       "    <tr>\n",
       "      <th>64182</th>\n",
       "      <td>231642302</td>\n",
       "      <td>plWordNet 3.0 -Almost There</td>\n",
       "      <td>It took us nearly ten years to get from no wor...</td>\n",
       "      <td>[16189696, 11338245, 17178054, 17535854, 24949...</td>\n",
       "      <td>plWordNet 3.0 -Almost There\\n\\n\\nMaciej Piasec...</td>\n",
       "    </tr>\n",
       "  </tbody>\n",
       "</table>\n",
       "<p>64183 rows × 5 columns</p>\n",
       "</div>"
      ],
      "text/plain": [
       "        corpusid                                              title  \\\n",
       "0      252715594  PHENAKI: VARIABLE LENGTH VIDEO GENERATION FROM...   \n",
       "1       13002849   MODE REGULARIZED GENERATIVE ADVERSARIAL NETWORKS   \n",
       "2      239998253  What Do We Mean by Generalization in Federated...   \n",
       "3       62841605            SPREADING VECTORS FOR SIMILARITY SEARCH   \n",
       "4      253237531           MACHINE UNLEARNING OF FEDERATED CLUSTERS   \n",
       "...          ...                                                ...   \n",
       "64178  208324656                                                      \n",
       "64179   30831790  The FLaReNet Thematic Network: A Global Forum ...   \n",
       "64180   11918974  Improved statistical measures to assess natura...   \n",
       "64181    2046924  The relative divergence of Dutch dialect pronu...   \n",
       "64182  231642302                        plWordNet 3.0 -Almost There   \n",
       "\n",
       "                                                abstract  \\\n",
       "0      We present Phenaki, a model capable of realist...   \n",
       "1      Although Generative Adversarial Networks achie...   \n",
       "2      Federated learning data is drawn from a distri...   \n",
       "3      Discretizing multi-dimensional data distributi...   \n",
       "4      Federated clustering (FC) is an unsupervised l...   \n",
       "...                                                  ...   \n",
       "64178                                                      \n",
       "64179  The aim of this short paper is to present the ...   \n",
       "64180  We examine the performance of three dependency...   \n",
       "64181  In this paper we use the Reeks Nederlandse Dia...   \n",
       "64182  It took us nearly ten years to get from no wor...   \n",
       "\n",
       "                                               citations  \\\n",
       "0                        [6628106, 174802916, 238582653]   \n",
       "1                                                     []   \n",
       "2      [235613568, 231924480, 211678094, 195798643, 4...   \n",
       "3                                                     []   \n",
       "4                                                     []   \n",
       "...                                                  ...   \n",
       "64178                                                 []   \n",
       "64179                                                 []   \n",
       "64180  [12042560, 628455, 196105, 9429298, 9431510, 6...   \n",
       "64181                                          [2704974]   \n",
       "64182  [16189696, 11338245, 17178054, 17535854, 24949...   \n",
       "\n",
       "                                              full_paper  \n",
       "0      PHENAKI: VARIABLE LENGTH VIDEO GENERATION FROM...  \n",
       "1      MODE REGULARIZED GENERATIVE ADVERSARIAL NETWOR...  \n",
       "2      What Do We Mean by Generalization in Federated...  \n",
       "3      SPREADING VECTORS FOR SIMILARITY SEARCH\\n\\n\\nA...  \n",
       "4      MACHINE UNLEARNING OF FEDERATED CLUSTERS\\n\\n\\n...  \n",
       "...                                                  ...  \n",
       "64178  Pharmacological Substances, Compounds\\n\\n\\nVíc...  \n",
       "64179  The FLaReNet Thematic Network: A Global Forum ...  \n",
       "64180  Improved statistical measures to assess natura...  \n",
       "64181  The relative divergence of Dutch dialect pronu...  \n",
       "64182  plWordNet 3.0 -Almost There\\n\\n\\nMaciej Piasec...  \n",
       "\n",
       "[64183 rows x 5 columns]"
      ]
     },
     "execution_count": 328,
     "metadata": {},
     "output_type": "execute_result"
    }
   ],
   "source": [
    "litsearch_papers_df"
   ]
  },
  {
   "cell_type": "code",
   "execution_count": 329,
   "metadata": {},
   "outputs": [
    {
     "data": {
      "text/html": [
       "<div>\n",
       "<style scoped>\n",
       "    .dataframe tbody tr th:only-of-type {\n",
       "        vertical-align: middle;\n",
       "    }\n",
       "\n",
       "    .dataframe tbody tr th {\n",
       "        vertical-align: top;\n",
       "    }\n",
       "\n",
       "    .dataframe thead th {\n",
       "        text-align: right;\n",
       "    }\n",
       "</style>\n",
       "<table border=\"1\" class=\"dataframe\">\n",
       "  <thead>\n",
       "    <tr style=\"text-align: right;\">\n",
       "      <th></th>\n",
       "      <th>corpusid</th>\n",
       "      <th>title</th>\n",
       "      <th>abstract</th>\n",
       "      <th>citations</th>\n",
       "      <th>full_paper</th>\n",
       "    </tr>\n",
       "  </thead>\n",
       "  <tbody>\n",
       "    <tr>\n",
       "      <th>43943</th>\n",
       "      <td>225771528</td>\n",
       "      <td></td>\n",
       "      <td></td>\n",
       "      <td>[]</td>\n",
       "      <td>Traduction automatique pour la normalisation d...</td>\n",
       "    </tr>\n",
       "  </tbody>\n",
       "</table>\n",
       "</div>"
      ],
      "text/plain": [
       "        corpusid title abstract citations  \\\n",
       "43943  225771528                       []   \n",
       "\n",
       "                                              full_paper  \n",
       "43943  Traduction automatique pour la normalisation d...  "
      ]
     },
     "execution_count": 329,
     "metadata": {},
     "output_type": "execute_result"
    }
   ],
   "source": [
    "litsearch_papers_df[litsearch_papers_df[\"corpusid\"] == 225771528]"
   ]
  },
  {
   "cell_type": "markdown",
   "metadata": {},
   "source": [
    "Note: some rows in `litsearch_papers_df` may be valid but just with no abstract (meaning that whenever its references in   `litsearch_query_df_cleaned`, its full text corresponds to the query). but just for simplicity since I am just looking at query <> abstract pairs, we will consider these rows to be invalid too"
   ]
  },
  {
   "cell_type": "code",
   "execution_count": 330,
   "metadata": {},
   "outputs": [
    {
     "name": "stdout",
     "output_type": "stream",
     "text": [
      "Corpus IDs with empty abstracts: {225771528, 32784, 1179664, 51871763, 184483866, 218497059, 9830436, 165085225, 209387582, 5472320, 209387585, 235601987, 43679812, 15663178, 6160466, 209387602, 9142373, 13631598, 41648254, 52854911, 2982017, 171901073, 15106200, 14385306, 63832220, 2457759, 7864490, 18022579, 207913145, 232021900, 18579650, 218661060, 13009101, 34701527, 232021906, 22053083, 209387740, 2621672, 30015728, 7733490, 5832946, 202670323, 259064058, 196215041, 208339208, 194052360, 36438300, 29360416, 6881568, 232021921, 6539004, 232021922, 6914363, 2949460, 15204692, 17170776, 232227161, 161546596, 195428710, 199557481, 51872107, 218497388, 207847794, 202768765, 2818499, 9535959, 9208282, 203424222, 232021964, 3080703, 189465093, 2294286, 198967823, 2359828, 218497557, 39354903, 44532251, 216597026, 39125548, 393794, 9405005, 195854926, 198967887, 221413989, 22643306, 25887341, 15270509, 10584725, 218497690, 218628764, 5931687, 16450218, 218661548, 37880495, 218989240, 7733948, 61178558, 1835714, 15237829, 218497742, 170558160, 45286117, 218628841, 17695482, 2491133, 29033224, 222003980, 8028944, 171508498, 234324760, 51872536, 207979291, 11830050, 9077543, 193004327, 233210694, 193561415, 295754, 10912608, 870, 53773168, 9110387, 17236853, 1344375, 218596217, 890, 171869055, 213975945, 13403019, 7635854, 14877585, 7013269, 2655133, 10716069, 43877290, 202539954, 11699132, 258999240, 1999816, 18285513, 221807563, 5669843, 169509845, 3081192, 210142197, 219939831, 1377275, 208995335, 38405135, 10519568, 7668783, 193233974, 15664187, 53249093, 2196557, 8488015, 7439442, 190415966, 207914079, 45974637, 171836527, 215745651, 208340105, 14288014, 207914129, 230549, 119309472, 4129955, 208176302, 209061054, 215745733, 209487052, 10388687, 17630430, 20776159, 161514722, 12780794, 213943556, 33064197, 176227592, 1377548, 15369508, 218498353, 218957129, 2327888, 17466705, 16909656, 7931227, 201721191, 19563882, 218498415, 202540415, 2000271, 5899668, 34997657, 11961759, 204801446, 221513128, 2622975, 2983465, 43877955, 21694023, 32769621, 35522135, 207914583, 218662494, 5113468, 169707147, 34899597, 16451235, 52168364, 27494062, 219219639, 8455866, 201623231, 219907805, 198182634, 15795954, 28575509, 30836513, 43878178, 207914787, 34735916, 221808430, 215811899, 244090686, 10782538, 164824910, 690018, 36669283, 17565543, 6752118, 15566715, 27395966, 32704383, 1919, 29165442, 35260301, 14714769, 2754453, 218498970, 219187100, 52168608, 218499004, 35620797, 194742206, 17336273, 9701336, 18679773, 218531823, 213190644, 231416, 8652799, 207915008, 198936598, 5769254, 219220021, 53184582, 218499142, 198543444, 202541147, 1902688, 70125677, 10029173, 218663037, 16418952, 258967690, 45746331, 53643423, 7538849, 219187362, 202541220, 33261735, 16648361, 7735486, 236783809, 171182280, 210045139, 8849620, 213878997, 34474208, 220334314, 51874051, 211126537, 169150731, 28805394, 13568275, 170395923, 2951450, 100640, 213518628, 1444138, 202541383, 171149655, 2411, 17402234, 7473534, 8063366, 28019081, 6293901, 218499510, 189761982, 209062336, 7539145, 10521039, 20908501, 202541526, 10914266, 38406635, 25856493, 218499570, 16878067, 208144896, 37227016, 219646474, 171772429, 6588948, 18123293, 2722352, 202541617, 2951730, 258378290, 27134516, 203688501, 559683, 11242051, 19597907, 461396, 202541654, 7440991, 258378335, 1247839, 8718951, 195791466, 11012721, 6556276, 17336955, 200084092, 207915656, 189762189, 198183589, 2558649, 209423036, 14584530, 51776230, 59902697, 45779692, 39947003, 204770046, 9177856, 39488271, 207915792, 245828373, 2034492, 18320198, 221678406, 188844874, 209324876, 207915854, 222006100, 14879573, 20810614, 723864, 9931676, 199560128, 225086410, 2788301, 45878230, 10128350, 213945326, 9374715, 15305728, 39619593, 60034067, 213879839, 159321124, 164334630, 26479661, 227904565, 227904567, 227904591, 215878744, 2231387, 10587229, 9669733, 32541803, 3116153, 16878719, 17665159, 1739924, 192711829, 257985690, 257985698, 29363368, 13470894, 199232691, 202771652, 49745096, 9800912, 172035287, 16714972, 214797532, 201624805, 221809908, 227904756, 37653771, 6622478, 1215762, 26414354, 204770582, 24546582, 38964517, 36164, 207916357, 199560526, 201788783, 240225648, 219942256, 12848506, 195988888, 61246880, 235244974, 7114165, 39357895, 8752606, 14224863, 14323173, 40930790, 5213689, 116461050, 219221501, 227216910, 38931987, 227905052, 42995231, 16715295, 2297378, 5279266, 1183270, 37457450, 16780842, 218959403, 3247663, 13209139, 208309812, 51875400, 227216971, 227216973, 7605837, 17174096, 227905147, 1871483, 5312135, 198905491, 3903137, 227905191, 227217073, 227217079, 32706233, 13209280, 19599041, 249204419, 43421388, 227217123, 27299562, 227217132, 10948333, 10358527, 8392453, 7966473, 215715597, 227905304, 219189020, 252186401, 227905313, 227905315, 249204515, 227217192, 43257641, 227905323, 252186413, 253628206, 253628209, 63639346, 243896115, 227217204, 252186420, 253628213, 253628217, 6917952, 252186434, 253628227, 252186435, 253628229, 17174343, 165056331, 252186444, 227905355, 253628237, 227905363, 227905369, 227905376, 227905377, 227905378, 227905380, 4394853, 227905381, 227905385, 227905391, 227905400, 102270, 227905410, 227905420, 12160909, 227905424, 35229587, 227905429, 227905430, 218763160, 227217317, 227905455, 227905457, 227905459, 171675575, 19042231, 227905463, 19435450, 227905467, 1216445, 194744279, 227905503, 227905505, 227905509, 11177959, 227905511, 203952109, 227905523, 157061108, 15536130, 7573506, 17698826, 171970576, 5279761, 227905573, 198971448, 6721600, 227905601, 61214793, 162992202, 15110225, 1871953, 9080916, 219910231, 13963354, 6361180, 227905631, 7802977, 227217508, 227905639, 227905641, 227905642, 212734059, 227905652, 227905657, 18059389, 227905661, 207982721, 209064083, 227905687, 262738071, 227905688, 8032424, 241583643, 230101180, 198971592, 226300106, 230101207, 227217628, 227217629, 196186355, 227217658, 227217666, 227217672, 495884, 227217696, 22352178, 33362235, 216011074, 9834819, 218977415, 194154835, 43454804, 7246188, 9998703, 185733500, 201085, 5247363, 214667652, 227905932, 218763678, 227905962, 201757098, 3019182, 164729270, 218665402, 227905982, 16355781, 208245190, 236917195, 17306062, 220041678, 236917202, 12751316, 3084759, 236917212, 160862686, 236917216, 189927911, 236917224, 1642985, 236917226, 236917227, 236917225, 236917229, 236917230, 198971891, 20943355, 152179197, 12227075, 168169995, 11964950, 42144283, 59642407, 18780715, 21041712, 15209015, 222335546, 166105659, 15897148, 5968454, 14127698, 5804626, 210178657, 231674466, 529001, 16847508, 18387614, 90903201, 14946981, 15897255, 18977451, 218960562, 1315512, 203690693, 212832970, 239735505, 824017, 164434668, 6230775, 202707711, 10031895, 7213852, 13996830, 51876639, 14291750, 61870887, 2233127, 211850025, 40801062, 7967538, 41063222, 3248974, 221516625, 262476625, 10687323, 196186973, 37950322, 27497342, 14259080, 3085209, 203690908, 8590250, 171054001, 224793541, 27661257, 10621900, 44798926, 28775375, 201704, 10982377, 227316717, 194679790, 221516784, 27956208, 43258882, 8197134, 226300960, 11637792, 243864611, 24712229, 243864614, 243864618, 243864620, 243864623, 243864627, 243864629, 243864631, 243864633, 218502209, 22418524, 169053, 6919271, 29627503, 5411958, 198972540, 230102151, 226301064, 1709192, 857232, 248779924, 222303396, 231642285, 248779950, 231642290, 248779964, 231642300, 231642305, 231642311, 988360, 231740638, 41653473, 14259434, 39654639, 6821112, 922882, 36967686, 204870925, 2037006, 208246040, 35689754, 52827437, 10523951, 30545201, 248780088, 231642426, 5739852, 857427, 225351003, 248780137, 11801961, 202708341, 222303616, 9344388, 3544473, 32871834, 221353376, 955816, 201627050, 6362566, 222303691, 5379533, 628183, 202577368, 225047665, 1611234, 3904996, 10360303, 218863105, 4036104, 213358110, 243865125, 18322992, 41981492, 201627192, 62527047, 17831505, 229938777, 7542363, 202708576, 20026977, 2266741, 11474571, 231773842, 46601885, 1021605, 261494441, 198973111, 231642813, 261494462, 231642814, 2791115, 15537869, 218470099, 193468116, 198973145, 220403427, 9213680, 38901491, 203691777, 202577673, 236459785, 208049931, 45684505, 236459803, 1382183, 236459815, 236459824, 1218354, 239212345, 236459835, 236459837, 11704126, 17012545, 236459843, 26187588, 236459848, 221615962, 231642972, 231642973, 207984484, 244127588, 236459882, 5674860, 236459884, 236459889, 236459899, 199661439, 62134147, 6002573, 220272540, 198186909, 208050081, 230102950, 236459943, 1349542, 236459955, 73504694, 231643070, 236459972, 16259014, 32479178, 31430629, 18028523, 236460019, 236460022, 231643133, 195794942, 236460032, 199661584, 236460049, 236460050, 236460054, 28022811, 11737120, 13539364, 236460071, 236460078, 27957304, 236460089, 8493122, 236460107, 5380171, 208050258, 236460121, 2922593, 51845218, 236460131, 10328176, 51812470, 236460154, 236460156, 31856765, 202545279, 203200649, 236460171, 236460181, 236460182, 201070742, 236460194, 2889892, 236460203, 236460209, 236460217, 236460219, 9410751, 5249216, 236460228, 208050387, 11966677, 201070807, 203626714, 236460252, 236460254, 236460257, 56695018, 236460267, 40343796, 203692282, 236460284, 170825990, 236460305, 236460307, 204904734, 230103328, 57841958, 236460327, 201791785, 17570096, 236460346, 203594044, 891205, 203626826, 6658384, 19306833, 171972947, 21076309, 6396257, 18159984, 171317628, 214342012, 226236800, 1743238, 231643533, 6953360, 222140827, 27433387, 17406380, 11278768, 51878325, 231643580, 19667393, 11966916, 222140880, 9181672, 61905391, 2431477, 204872183, 2136580, 253762059, 253762079, 222140962, 1219107, 231643687, 169482818, 208050754, 1612367, 222141011, 171973204, 163256930, 14948973, 170728048, 201792120, 201792130, 1776272, 14686868, 13376154, 216144548, 2955949, 5315259, 221878973, 208050892, 51878631, 220273394, 45718261, 51616502, 30939903, 17046281, 190454574, 207985459, 237476661, 1841979, 19143497, 208051022, 46111577, 8723290, 46439262, 219290468, 199367541, 221420408, 31955839, 163781513, 12098470, 6855603, 8526773, 219225036, 8035278, 2497507, 193797096, 12786686, 34610218, 45489201, 201628721, 203693107, 13999155, 302157, 20716632, 10165340, 8166496, 60824678, 213884007, 230104172, 35527796, 202677370, 222141569, 10919045, 192683141, 64822406, 231709830, 5872794, 12754074, 231709863, 13114546, 15735989, 20257980, 42507452, 28384449, 202677444, 164502727, 12754128, 220273885, 220273892, 27270383, 6626547, 7314679, 199564576, 51879204, 207985968, 3906867, 14458177, 202775878, 7498, 10034512, 662866, 249240915, 238198104, 29728089, 207756646, 192748907, 210705779, 1023348, 196189567, 13606273, 207756678, 170761628, 11378094, 20454843, 208084430, 5447124, 9084394, 23666159, 219946485, 7511544, 208051720, 199368201, 219946512, 204742172, 219946528, 2432562, 202546742, 233365057, 204971578, 5217855, 204971591, 58367559, 433745, 220274272, 15769193, 208739947, 28253803, 51879537, 7118455, 199368325, 14098062, 189767320, 4005560, 13606599, 16293576, 19275476, 40410838, 17276649, 499440, 9936636, 6168320, 218537733, 14589703, 16359184, 220274467, 234364715, 234364716, 62463789, 22388531, 233365109, 8560450, 1744713, 32939852, 202776399, 35102549, 892761, 15114080, 204808042, 5349243, 216637309, 7413630, 1417087, 221749132, 40050579, 12590999, 16883620, 35233704, 20291508, 9576372, 36577209, 237509, 14229453, 16687055, 5939151, 32448468, 15998969, 53583865, 61349896, 9838609, 32940061, 199368736, 233365155, 11903022, 10952755, 61874237, 171712575, 261431370, 192913484, 220045399, 18391127, 202776664, 225091688, 15605878, 233480312, 37527673, 46342266, 62365817, 207986820, 219127954, 220274839, 202743962, 233365179, 2891943, 19898547, 208281781, 202776758, 8233162, 220274904, 4956384, 226238689, 14983394, 18555105, 5447909, 210182377, 227320045, 214802675, 244097272, 204972283, 1220873, 198353184, 198189346, 1679655, 210542889, 199369001, 51880236, 189342002, 198910261, 958775, 19341624, 187965753, 30908728, 218538302, 233365214, 233365216, 233365220, 19308930, 233365227, 193765776, 196092330, 226238901, 26321333, 32973239, 233365236, 5775806, 215949765, 226238930, 233365244, 216867302, 226238951, 220275177, 70033909, 220045818, 226238977, 220045830, 226238983, 208609804, 226238994, 1548819, 211132950, 16327195, 226239003, 220275246, 226239024, 204841522, 467514, 10527293, 51880521, 226239053, 17965647, 220045904, 208282193, 226239067, 226239068, 216867426, 226239083, 226239084, 959085, 233365272, 46277238, 226239097, 226239116, 226239118, 226239120, 226239121, 226239124, 234103448, 226239129, 226239133, 226239134, 226239135, 210936483, 226239144, 226239146, 210936494, 226239152, 200090288, 31105714, 226239157, 199369398, 6300342, 226239160, 28943034, 226239163, 226239164, 226239166, 226239168, 13378240, 233365288, 226239172, 226239179, 226239180, 226239182, 226239184, 226239187, 15934165, 226239189, 226239191, 220275415, 226239193, 9904859, 226239195, 226239200, 226239201, 201663202, 226239202, 226239204, 226239205, 226239212, 226239214, 226239219, 226239220, 226239221, 226239222, 226239223, 9839359, 56501000, 26911521, 214704944, 51782450, 226239285, 226239287, 226239288, 233365313, 233841473, 226239298, 226239300, 10724165, 226239307, 226239308, 226239309, 233365316, 226239316, 226239317, 5153623, 226239321, 226239324, 182952800, 226239332, 216867687, 226239337, 226239340, 226239342, 226239343, 226239344, 226239345, 5284722, 42836852, 233365324, 226239352, 226239355, 226239356, 226239359, 226239362, 186229637, 226239368, 6300554, 226239372, 5088141, 226239374, 226239376, 144647061, 226239382, 226239388, 226239389, 226239390, 304033, 41886635, 19473336, 202777539, 198976456, 210936778, 218604523, 7513089, 8135682, 216867862, 6530117, 14623822, 468053, 182953063, 193733769, 32679052, 220046481, 220046482, 57189528, 14558364, 35267743, 795809, 52798630, 42149039, 8168663, 1189086, 34153729, 41690369, 207988001, 231482669, 7611699, 237217076, 237217077, 237217078, 237217079, 16590135, 237217080, 237217081, 237217084, 237217085, 237217088, 237217090, 237217093, 237217095, 237217097, 5940554, 237217104, 237217105, 14001488, 233219412, 11576664, 171550071, 199566730, 7808406, 219948504, 220046812, 220046814, 12527088, 171550200, 16688636, 9283085, 15115795, 31893013, 12428822, 9152030, 198977064, 173188653, 202548786, 51881529, 38315594, 218965598, 169092704, 992867, 8955494, 6891122, 18228857, 162506364, 43034255, 190588587, 51881656, 1124033, 219326174, 67741411, 164407034, 58795777, 28714777, 15050524, 7579436, 11806528, 198977352, 201697099, 164767594, 28125035, 46737263, 160704372, 219686775, 206728, 220047255, 204777376, 33302434, 235415459, 171124654, 250390470, 219260876, 207988685, 27076560, 14067667, 198977494, 7645153, 19900387, 233809908, 11315192, 220047363, 10168327, 170502170, 171321371, 1583135, 199370789, 250390585, 1910842, 196094020, 15247441, 52013137, 227230425, 209070166, 17410139, 12101738, 56895598, 12167278, 204777591, 5646487, 34777242, 9218202, 12134559, 236726440, 13084843, 202713262, 29206719, 250390721, 30255299, 190163139, 30451912, 2533597, 237381858, 186231017, 237381869, 11380974, 6170866, 219304266, 234858750, 43690250, 18163999, 211003689, 190720311, 567614, 28780865, 9644364, 2861394, 2730331, 250390886, 216050036, 18655604, 5122420, 8792437, 1714556, 44706178, 12069271, 220080551, 220080563, 250390965, 12691897, 220047816, 220047819, 239020521, 1157610, 239020523, 239020524, 165882348, 193276396, 212806126, 239020526, 5319159, 32090617, 239020539, 239020541, 1550845, 239020549, 250391050, 156051989, 10791449, 225094185, 1157676, 38611508, 2730567, 60467791, 8890967, 1550947, 53258856, 38218347, 18885228, 7711342, 45492851, 305787, 227125908, 764565, 245279381, 245279383, 245279385, 245279386, 210152110, 1157816, 11250372, 198159047, 1157837, 171059917, 5581517, 231647949, 28781277, 7711465, 88517356, 41495281, 198978291, 216050441, 235482401, 186231583, 10857255, 666417, 60500790, 1223489, 220834639, 196193105, 220834645, 220834646, 17410916, 220834660, 16624496, 220834692, 220834693, 220834694, 220834699, 220834700, 17050521, 218868649, 228076502, 228076505, 218606556, 6859756, 218606573, 216050683, 12758011, 228076553, 199535632, 202779665, 207924242, 235252761, 10038324, 216804411, 38743106, 6630494, 19737695, 215755871, 9874531, 201698414, 194718832, 171158641, 110013556, 40742012, 210152574, 210054272, 15314073, 12463261, 216050846, 29633703, 164572343, 1420479, 12070083, 14331079, 216804551, 234597585, 234597589, 16723170, 15281390, 235482360, 221097209, 221097211, 235482363, 221097216, 235482368, 221097218, 235482370, 219720965, 235482376, 219229453, 186232078, 235482383, 221097232, 2960659, 208317715, 164769049, 221097247, 220835105, 220835106, 221097250, 235482404, 220835108, 220835107, 220835111, 2960680, 235482408, 220835109, 235482414, 43658548, 221097270, 221097277, 221097282, 16657732, 10923333, 221097286, 220835144, 221097289, 228076874, 218869064, 221097295, 207760723, 27077971, 221097303, 221097304, 221097309, 243838303, 221097320, 218639724, 1977730, 221097352, 6991244, 14560656, 212413844, 171421076, 221097366, 202780059, 185216415, 2043297, 221097377, 221097384, 13282731, 18558385, 3911097, 220835257, 220835262, 13872579, 237055431, 260582856, 221097418, 237055435, 237055434, 237055438, 237055441, 237055442, 14200274, 237055444, 237055445, 30453209, 10595802, 237055453, 221949407, 237055457, 237055458, 36744675, 237055459, 237055461, 11218401, 237055463, 237055466, 237055467, 237055470, 237055475, 221097460, 237055477, 237055479, 13020664, 237055481, 237055482, 237055484, 237055485, 198159868, 237055492, 219295238, 213528081, 10202648, 194522648, 220835366, 110538282, 962094, 45592114, 212512308, 253734458, 218574394, 18361921, 31141448, 204877385, 190000717, 210153040, 227257938, 1486422, 202780251, 219197025, 211037796, 216051307, 220835438, 18067056, 220835440, 259370611, 219197047, 220835448, 12758647, 211562110, 259370624, 259370633, 3911313, 2666131, 2404000, 226307746, 226307749, 226307754, 226307756, 226307761, 64532152, 2535099, 14692027, 170929855, 39661249, 220835523, 220835525, 41135817, 18001615, 2567896, 29437666, 202583779, 202714853, 225062629, 220835559, 225062631, 225062634, 225062636, 225062642, 225062643, 225062644, 225062646, 225062648, 225062649, 225062650, 225062653, 225062656, 225062657, 225062660, 225062669, 22458139, 225062689, 12693287, 220835624, 225062695, 225062698, 216051496, 220835637, 8630074, 164769600, 220835650, 225062727, 199569226, 202583886, 226307919, 218973727, 226307923, 220835668, 226307924, 4894551, 225062746, 225062764, 225062769, 216051569, 195833714, 226307957, 209432445, 225062786, 225062788, 210153353, 225062797, 221097873, 225062810, 225062811, 225062818, 221097905, 14823348, 9121717, 221097909, 225062842, 200060858, 10137532, 221097930, 14200788, 225062870, 225062873, 220835807, 225062880, 221097953, 1519586, 51621857, 225062881, 225062885, 221097958, 3452903, 225062898, 221097971, 221097972, 221097975, 225062904, 201764856, 2830333, 225062913, 218973734, 198750212, 186232840, 208906, 1519652, 222310441, 219328571, 16986171, 44150851, 222310469, 52867179, 218869883, 219918467, 199372933, 40644744, 233189523, 14889108, 225063061, 233189526, 210055316, 207925404, 233189534, 233189535, 6271137, 216805538, 192295076, 233189541, 207925412, 10367144, 233189547, 233189548, 216641709, 145961136, 233189555, 164835508, 225063092, 225063093, 233189558, 210153652, 233189563, 233189568, 208089282, 225063107, 186206132, 9482437, 225063109, 233189574, 233189580, 233189582, 233189587, 221589719, 233189596, 233189598, 233189605, 165261544, 207925480, 225063146, 28848363, 225063150, 225063152, 233189621, 233189624, 233189626, 225063163, 225063166, 225063169, 233189633, 233189634, 233189636, 203698435, 233189650, 11317525, 225063189, 225063191, 225063190, 233189659, 55488801, 8433955, 208089380, 8007984, 211005745, 213430580, 29110584, 70136121, 194949452, 8761682, 39170387, 199536981, 222310758, 207925611, 195899759, 208253300, 199373173, 10858869, 188723581, 9351555, 245838228, 245838232, 245838234, 33730973, 245838239, 2175391, 245838245, 245838246, 245838250, 245838251, 20132278, 245838263, 245838264, 162771387, 199569853, 227062206, 245838271, 245838272, 245838273, 199373245, 245838275, 218870217, 245838282, 51622347, 245838284, 245838287, 22720975, 245838290, 216642004, 245838298, 245838299, 1585631, 245838308, 245838310, 245838311, 245838313, 245838317, 245838319, 245838321, 226374136, 15675902, 245838338, 224801283, 245838339, 245838341, 245838344, 30552587, 245838348, 602639, 7123476, 216052255, 43069989, 245838376, 245838382, 245838383, 40841782, 245838393, 208089663, 8630854, 307787, 245838436, 61715046, 245838451, 245838452, 245838453, 245838455, 245838457, 258486910, 258486913, 245838467, 258486920, 602761, 210154124, 6075024, 14365335, 258486952, 28684970, 18559658, 258486963, 570036, 39596732, 237155008, 3879624, 222180042, 237155018, 237155022, 237155023, 237155028, 237155029, 237155031, 237155032, 237155037, 237155038, 237155041, 237155043, 14430950, 15708903, 237155052, 8631021, 237155054, 237155055, 237155056, 237155057, 237155058, 237155060, 237155064, 237155065, 237155066, 237155068, 237155069, 202715902, 237155071, 237155073, 237155074, 237155078, 237155081, 226964234, 237581067, 237155087, 237155090, 237155095, 237155096, 51622701, 208253752, 209892156, 10040132, 196195184, 38286200, 218674072, 35500954, 219558832, 8565686, 9188284, 6927294, 570306, 250164164, 243971019, 244167633, 18461652, 14169049, 220050403, 1455080, 14038010, 174797834, 186206301, 4109354, 220836910, 18297907, 6665269, 7418935, 218674232, 37532748, 198980688, 9974904, 210154617, 208057473, 186206323, 6829190, 237417610, 439452, 18560180, 220837045, 1488057, 220837051, 220837054, 208057534, 220837056, 14955723, 220837073, 220837074, 220837088, 210154726, 199374055, 9876712, 220837097, 220837101, 9483510, 16692471, 220837113, 19019007, 199669003, 220837132, 220837135, 220837136, 218674458, 5977382, 6665511, 204780842, 8238384, 220837171, 220837172, 227095928, 5453178, 17773952, 29635979, 221984141, 207992210, 27899315, 216085946, 243840446, 262817564, 2209224, 28882385, 8533468, 7353825, 21018087, 6698479, 20755967, 232404493, 177694, 235386398, 219952676, 30488100, 13907505, 204912182, 64403004, 255440465, 219952725, 18134623, 219166304, 964204, 6076022, 2143884, 51623575, 51623591, 7157421, 189871792, 232765104, 232765106, 8009395, 232765108, 232765111, 232765112, 232765122, 232765123, 59848390, 232765126, 232765130, 260421342, 260421343, 252819174, 208058111, 3913472, 51623696, 59848471, 218052393, 12302127, 204977968, 1095471, 17643319, 538442, 204748627, 8828761, 3913562, 42153823, 210155369, 211105643, 233420668, 263862157, 9025428, 3258280, 32880557, 216151988, 27310021, 16463823, 40056783, 11450322, 11909076, 224704480, 207992807, 227231220, 7518198, 7354391, 196130845, 41465885, 6305823, 7878702, 220444725, 220444727, 220444728, 216086600, 237418569, 208058457, 208058458, 32782433, 37304427, 220444794, 260814972, 46151820, 171030677, 2046106, 208058522, 174799008, 220444838, 171423914, 216152235, 207599786, 208091335, 196098247, 191936713, 14956746, 220444893, 220444897, 220444898, 220444900, 220444903, 220444915, 220444917, 220444925, 1227006, 220444926, 220444930, 220444932, 220444933, 735495, 220444937, 220444938, 220444939, 220444941, 220444945, 220444946, 23804177, 7551252, 10828054, 220444961, 1947939, 3520809, 10598698, 932147, 18233668, 2013509, 6699341, 209074514, 5978451, 34224475, 2439516, 208058719, 209372940, 21051770, 211332, 6797709, 220379534, 210155935, 1161636, 49559981, 833969, 219232690, 218806723, 20167120, 14801, 244464082, 220314064, 180566494, 244464096, 244464097, 244464100, 244464112, 2079221, 244464120, 244464124, 244464126, 207960576, 43891229, 27539999, 231750182, 13941293, 16464429, 212843054, 219920944, 171555376, 9845306, 192232000, 208222790, 164936286, 41302632, 2833007, 218774130, 41663092, 203668111, 226278041, 208124588, 220445356, 220445365, 31111861, 44513982, 220445377, 220445378, 35309391, 62536391, 220445385, 220445392, 208059118, 33176304, 18201337, 220445441, 220445446, 37993239, 2702106, 222444321, 198163236, 6077224, 174799660, 220445490, 210156339, 215825206, 58833725, 171883326, 16137021, 2770995, 57916227, 224803669, 62569305, 220445533, 220445536, 220445542, 15612777, 9747327, 220445569, 214612869, 220445581, 3259278, 212614029, 16956305, 227231405, 220445592, 14695328, 174799778, 220445606, 174799787, 220445617, 32029618, 5782458, 220445628, 226278354, 19643346, 236534755, 9485284, 236534763, 193739755, 236534766, 13351919, 236534767, 233356271, 236534770, 8535026, 6568949, 236534774, 9649143, 236534778, 220445691, 236534780, 236534782, 174799871, 220445697, 220445698, 174799874, 236534785, 174799877, 171293701, 192986113, 174799881, 220445718, 171588630, 263601184, 220445728, 13515810, 7814182, 174799912, 220445746, 220445766, 220445767, 220445779, 220445780, 220445782, 220445783, 2604125, 220445791, 14171240, 16202857, 220445802, 13909099, 220445806, 27016310, 220445814, 19840120, 220445819, 220445823, 220445825, 220445828, 31505541, 220445830, 26524807, 39140490, 195345550, 220445846, 212614297, 220445859, 14859431, 220445868, 220445870, 10271924, 2243765, 227231462, 8436921, 174800058, 227231464, 220445896, 220445907, 171588820, 220445909, 220445910, 11779288, 14597336, 227231469, 248069343, 220445922, 7060707, 220445929, 220445930, 220445933, 3161327, 220445946, 172080378, 220445954, 220445959, 220445962, 174800142, 220445967, 6012178, 8043801, 220445991, 32849191, 5389622, 10108216, 6307133, 220446013, 11582782, 6339908, 220446023, 277834, 220446032, 2145617, 201637200, 220446036, 220446038, 9551191, 220446046, 8011103, 194854245, 220446056, 3194221, 227231499, 220446069, 220446074, 220446080, 220446081, 42483078, 169983371, 220446097, 227231506, 220446100, 220446101, 220446102, 220446105, 220282266, 220446107, 220446110, 25443745, 220446114, 220446118, 220446124, 220446126, 207863217, 220282290, 198950322, 13516222, 220446145, 220282312, 220446153, 220446152, 15973843, 220446177, 44252659, 212476, 42974734, 220446225, 164281876, 220446233, 10173982, 31309344, 52805154, 12762659, 235716140, 235716141, 171949614, 10206767, 1916462, 235716145, 235716146, 235716142, 33635889, 235716149, 235716151, 235716152, 235716153, 233815611, 235716155, 235716159, 252624448, 235716162, 235716164, 220446278, 220446279, 235716168, 220446281, 235716169, 198327899, 220446306, 174800484, 220446309, 252624485, 220446317, 14990959, 220446330, 204914305, 38944388, 174800518, 6602375, 59719304, 169557664, 3915428, 252624567, 220446392, 220446394, 226246333, 203144898, 252624581, 18792136, 207994569, 26394336, 263044836, 42155750, 2899706, 14958345, 19709706, 12795660, 8830734, 193806094, 174800654, 48918, 212746016, 9846562, 8994601, 15974189, 28393262, 15417147, 6897473, 174800705, 227231592, 171589446, 233029459, 219299668, 233029461, 227231595, 208322395, 233029467, 233029470, 227231599, 233029483, 233029485, 233029487, 233029488, 219299695, 233029490, 233029494, 233029495, 233029500, 233029508, 219299717, 227231606, 219299723, 8765325, 219299733, 16793495, 14892959, 174800799, 196198309, 219299753, 219299756, 11485102, 195608495, 219299759, 219299767, 40353723, 219299773, 219299779, 45694917, 219299786, 204783569, 35373011, 219299806, 202784744, 219299822, 219299828, 259833850, 30490621, 219299843, 9453593, 219299870, 199442470, 230080556, 9420848, 219299910, 239616082, 29966419, 227231646, 209371230, 5128289, 219299946, 1327224, 174801018, 133611643, 14762108, 202752129, 236994698, 219299990, 237256855, 12927128, 44482714, 6635675, 185024671, 219300003, 1032366, 201736389, 261341391, 261341393, 7422166, 169525462, 202719449, 2048218, 1851612, 15155425, 219300084, 171163896, 219300088, 219300097, 3260676, 219201797, 219300102, 219300100, 219300115, 219300120, 196002081, 14172450, 219300131, 219300132, 201638186, 187220270, 27672878, 197935408, 219300157, 14008641, 13320514, 1327439, 219300187, 219300190, 261341537, 219300194, 219300197, 261341545, 196198761, 164643185, 219300214, 219300220, 261341567, 261341568, 219300224, 219300230, 235258247, 1524104, 261341576, 261341575, 261341581, 261341582, 235258255, 235258256, 235258257, 235258259, 235258260, 235258261, 235258271, 53264800, 32194977, 17383842, 235258275, 237945252, 58769829, 235258278, 235258280, 235258281, 19612073, 235258283, 235258284, 235258285, 18956718, 2310572, 235258291, 52871604, 235258294, 235258296, 235258298, 5456318, 219300289, 230080962, 261341646, 639439, 261341649, 235127257, 2441691, 219300315, 235127262, 6013411, 228901349, 170476009, 220283370, 219300338, 223953395, 201671157, 261341688, 261341689, 235127291, 198230526, 235127299, 235127315, 219300376, 235127325, 219300386, 219300390, 235127341, 227230254, 227230256, 16695859, 227230260, 227230261, 227230262, 235127351, 227230264, 171885115, 235127359, 227230274, 235127363, 227230278, 261341767, 235127372, 227230284, 227230289, 227230290, 261341779, 227230293, 219202134, 219300439, 32883288, 227230294, 227230300, 227230303, 207897186, 5292642, 227230309, 227230310, 227230311, 222315117, 209076846, 227230319, 227230317, 227230321, 219300462, 227230323, 222315119, 37962359, 227230328, 227230327, 261341821, 227230333, 261341822, 227230336, 219300478, 31539842, 227230340, 222315141, 227230343, 227230346, 227230347, 219300490, 227230349, 227230350, 33505934, 227230352, 227230357, 219300501, 42910362, 227230365, 261341854, 219300512, 219300513, 227230368, 227230371, 261341860, 227230373, 227230374, 227230376, 9454249, 191808170, 222315179, 219300521, 12796588, 222315182, 225755823, 219300526, 227230385, 29180592, 227230388, 227230389, 227230390, 227230394, 220512955, 219300540, 11813565, 227230396, 219300549, 261341894, 261341893, 261341898, 227230411, 1098445, 261341902, 227230415, 227230414, 219300563, 192791252, 261341908, 10109654, 227230422, 227230424, 261341913, 227230426, 219300571, 261341916, 219300573, 59523799, 219300567, 227230423, 219300577, 227230428, 227230433, 227230437, 227230439, 222315239, 219300588, 227230445, 219300590, 219300591, 227230448, 222315248, 160744178, 227230450, 227230453, 219300599, 227230457, 227230458, 227230459, 219300604, 227230464, 227230469, 204522252, 227230477, 227230479, 19219216, 235422481, 227230485, 227230486, 13255447, 219300633, 227230490, 221922077, 227230495, 227230496, 213791, 227230503, 227230504, 219300648, 219792169, 227230507, 227230511, 227230512, 219300657, 202588978, 227230515, 227230518, 219300664, 2769726, 227230527, 227230529, 227230530, 219300679, 227230536, 262259531, 261342032, 227230546, 227230547, 227230549, 46941014, 261342040, 261342042, 227230556, 261342045, 261342046, 261342047, 227230560, 227230557, 261342053, 198919014, 28001127, 219300712, 219300713, 261342056, 227230572, 227230573, 227230574, 227230575, 12469103, 227230582, 18957176, 227230584, 219300730, 227230588, 219300736, 219300737, 227230592, 219300739, 227230597, 5129093, 227230599, 219300743, 219300751, 219300752, 227230608, 227230611, 261342100, 227230614, 227230615, 227230616, 227230617, 227230618, 216056727, 9028508, 227230621, 261342104, 227230623, 227230625, 219300772, 227230629, 261342118, 227230632, 227230633, 227230637, 261342126, 219300781, 261342128, 227230639, 261342130, 2442163, 227230645, 12141494, 219300789, 227230648, 227230649, 227230651, 227230652, 219300797, 261342139, 227230655, 227230656, 227230657, 227230658, 10175429, 227230662, 227230666, 219300810, 227230668, 208028621, 227230670, 227231823, 261342165, 227230679, 261342169, 227230682, 227230684, 227230685, 227230691, 261342180, 227230693, 227230694, 227230695, 219300842, 227230699, 227230700, 227230701, 227230698, 1426415, 227230704, 7488499, 241583095, 59524095, 241583115, 241583116, 208028689, 227231837, 171394070, 18072599, 219300891, 11846686, 219300900, 62768169, 82990, 227165231, 195740730, 6931523, 241583171, 227230787, 227230790, 227230794, 3261520, 24757336, 241583193, 224281690, 196199522, 241583213, 219300976, 227230837, 192857208, 212616314, 241583236, 219301000, 202654860, 1262734, 227230862, 227230864, 227230865, 227230866, 227230863, 219301008, 219301015, 219301020, 219301024, 227230883, 219301030, 241583273, 227230889, 227230890, 208028849, 16925875, 241583284, 52872375, 219301047, 227230906, 2901181, 219301054, 6603967, 227230912, 227230909, 221398213, 227230917, 219301067, 227231874, 241583315, 208192727, 227231876, 215762145, 7029988, 52806893, 241583344, 219301105, 219301108, 42190070, 241583352, 169264378, 241583356, 219301129, 219301130, 26658065, 241583378, 219301141, 7849238, 16205078, 219301147, 241583388, 208291101, 241583391, 219301153, 219301154, 60310819, 241583393, 241583398, 241583399, 41567527, 241583419, 219301180, 227231038, 227231040, 227231041, 219301186, 241583427, 227231045, 227231047, 227231048, 17286473, 227231050, 194200905, 241583436, 227231053, 227231054, 219301199, 227231055, 227231064, 241583450, 227231067, 241583452, 227231069, 227231068, 219301217, 804194, 227231075, 227231076, 227231079, 227231080, 227231084, 1525100, 219301229, 227231087, 36849009, 219301234, 227231089, 169100660, 227231092, 34456947, 241583479, 227231098, 212616973, 2114940, 227231101, 227231106, 220284290, 227231107, 227231109, 227231110, 227231111, 227231116, 227231118, 227231119, 219301263, 241583502, 220284307, 2836649, 227231127, 9487768, 219301276, 219301277, 227231134, 227231135, 37012896, 241583518, 227231138, 227231139, 8930717, 227231137, 219301287, 227231143, 241583530, 219301290, 15058350, 227231151, 219301298, 218645940, 241583540, 30754231, 227231160, 164447678, 227231167, 171656640, 219301310, 219301314, 10667460, 219301328, 227231184, 219301332, 227231192, 6047207, 227231209, 241583594, 227231211, 227231212, 219301355, 227231214, 227231216, 219301364, 227231221, 218973685, 227231222, 198166008, 218973689, 218973690, 218973686, 227231227, 227231229, 218973694, 227231223, 218973696, 219301371, 218973698, 227231226, 218973700, 218973701, 219301382, 218973702, 28821000, 218973705, 207963657, 218973707, 227231243, 218973709, 218973710, 218973711, 218973712, 219301390, 218973714, 218973715, 218973716, 218973717, 218973718, 171755024, 218973720, 218973722, 218973723, 219301403, 241583642, 11879965, 227231263, 218973728, 227231265, 198231583, 219301407, 227231268, 219301409, 241583654, 218973735, 218973736, 219301417, 227231270, 218973730, 218973740, 218973737, 218973742, 241583663, 218973744, 218973745, 218973743, 227231283, 219301425, 218973749, 218973748, 218973751, 218973747, 218973753, 227231290, 218973755, 218973756, 218973754, 227231295, 219301439, 219301440, 218973762, 218973767, 227231304, 219301449, 13977162, 218973770, 218973772, 218973774, 218973775, 218973776, 227231315, 218973780, 218973779, 218973783, 227231321, 227231322, 935515, 218973787, 218973789, 218973790, 61294173, 220284509, 218973788, 218973792, 218973794, 218973796, 218973797, 218973800, 7718505, 218973802, 218973804, 219301485, 218973806, 218973807, 218973809, 218973811, 62441076, 218973813, 18663030, 218973815, 227231352, 218973816, 218973814, 227231351, 218973820, 218973821, 218973823, 218973826, 218973827, 218973828, 219301509, 219301511, 227231367, 218973833, 218973834, 218973835, 218973836, 218973837, 218973838, 218973839, 218973840, 218973842, 218973843, 218973844, 218973845, 171951763, 218973847, 218973846, 218973849, 62047898, 219301525, 218973848, 218973853, 218973855, 218973856, 38880930, 227231395, 218973860, 227231397, 218973863, 218973866, 227231404, 219301548, 219301549, 218973870, 218973871, 218973869, 218973874, 218973875, 5162676, 218973877, 227231414, 227231412, 219301560, 227231417, 215238329, 218973876, 8767164, 218973884, 219301558, 218973887, 60999359, 218973888, 218973890, 218973889, 218973892, 218973893, 227231427, 218973891, 220284617, 227231434, 227231435, 218973900, 218973901, 218973902, 218973899, 218973904, 218973905, 227231442, 1296084, 218973909, 219301590, 7685844, 218973912, 218973913, 218973914, 218973911, 219301596, 218973916, 218973918, 218973910, 227231456, 218973917, 227231459, 227231460, 218973925, 218973924, 218973927, 218973928, 218973929, 219301609, 218973931, 218973932, 218973933, 227231466, 218973935, 219301615, 218973937, 209536752, 227231475, 218973938, 218973941, 218973942, 218973943, 164710133, 218973945, 218973946, 2410236, 218973949, 219301629, 218973948, 218973952, 227231489, 227231486, 219301630, 218973951, 227231487, 218973958, 218973955, 218973953, 218973957, 218973962, 219301634, 218973964, 218973965, 227231502, 15714062, 218973968, 227231503, 227231505, 227231501, 218973972, 218973973, 227231508, 218973975, 218973974, 218973976, 218973978, 15157017, 227231511, 218973981, 227231518, 218973983, 219301664, 227231520, 219301663, 218973987, 227231519, 218973989, 30066470, 218973991, 218973992, 218973993, 227231529, 218973995, 218973996, 227231525, 219301676, 218973999, 218973997, 6145841, 218974002, 227231538, 219301684, 227231541, 227231542, 218974007, 218974008, 218974010, 218974012, 204916542, 218974017, 218974018, 227231555, 218974020, 218974019, 1001286, 227231558, 18007880, 219301705, 218974026, 227231563, 227231564, 160483149, 218974027, 192563022, 218974028, 227231569, 5850962, 218974035, 227231572, 218974037, 227231571, 218974036, 218974040, 218974041, 218515289, 227231576, 218974039, 218974045, 218974047, 227231584, 218974050, 218974051, 227231588, 227231589, 218974054, 218974055, 218974056, 227231593, 227231594, 218974059, 218974060, 227231597, 227231598, 227231596, 219301744, 218974065, 218974066, 218974064, 219301748, 227231605, 227231604, 219301751, 227231607, 218974073, 218974074, 218974075, 218974069, 219301753, 218974072, 218974079, 219301758, 227231616, 218974082, 208193411, 227231618, 219301765, 218974078, 227231621, 218482569, 218974090, 213534603, 218974089, 218974093, 218974095, 227231633, 20498321, 218974098, 218974100, 218974101, 218974097, 219301783, 218974104, 218974105, 227231640, 218974107, 219301786, 218974109, 218974110, 219301787, 218974112, 218974113, 218974114, 218974115, 227231652, 171788196, 40814501, 215828384, 201639847, 218974121, 218974122, 218974123, 8832939, 218974125, 218974124, 227231661, 218974127, 227231665, 20137906, 227231667, 218974132, 219301812, 218974134, 218974129, 218974136, 219301817, 227231669, 218974139, 227231676, 171820989, 202786749, 218974143, 218974140, 218974142, 218974146, 218974145, 608189, 227231686, 11913159, 174802888, 218974153, 218974154, 218974152, 218974155, 219301831, 218974158, 218974159, 218974160, 218974161, 218974162, 227231699, 218974164, 218974165, 218974163, 227231703, 227231704, 218974168, 218974170, 22661082, 218974171, 218974173, 31967198, 218974174, 218974172, 227231713, 227231714, 227231710, 218974180, 218974184, 20695016, 218974186, 218974185, 218974187, 218974189, 227231721, 218974188, 218974192, 227231729, 227231730, 227231728, 227231731, 218974197, 218974198, 172083191, 218974202, 218974203, 218974206, 222185471, 186206208, 219301889, 218974210, 218974208, 218974212, 227231749, 227231751, 17942536, 218973688, 218974218, 227231754, 218974220, 218974221, 218974222, 218974223, 218974224, 219301900, 218974227, 227231764, 218974229, 227231768, 227231770, 227231772, 218974236, 227231776, 227231777, 44615714, 218974243, 219301924, 227231781, 227231780, 227231782, 218974248, 218974249, 218974250, 219301931, 218974251, 227231789, 218974254, 227231791, 218974253, 208324656, 227231794, 218974259, 218974260, 227231797, 218974262, 227231798, 227231800, 9685049, 218974266, 218974265, 218974261, 218974269, 219301941, 218974271, 218974272, 227231808, 219301946, 218974274, 208193604, 218974276, 219301958, 218974278, 218974279, 218974282, 219301963, 218974284, 227231821, 218974287, 227231824, 218974289, 218974290, 227231827, 218974291, 218974293, 227231828, 218974295, 218974294, 227231829, 218974298, 2443354, 13355098, 203671645, 219301982, 218974299, 218974302, 219301985, 116834, 218974306, 227231842, 218974309, 227231845, 218974311, 218974312, 2672743, 227231847, 218974315, 218974310, 218974314, 218974318, 227231852, 219302000, 218973708, 218974319, 227231854, 218974324, 227231860, 219302006, 227231863, 219302007, 227231865, 227231866, 16763002, 218974332, 218974331, 237717628, 227231871, 227231870, 218974335, 218974338, 219302019, 10307715, 227231877, 218974342, 43108487, 218974341, 218974345, 21022858, 218974346, 218974347, 218974340, 218974350, 186206351, 18106511, 218974352, 219302028, 219302035, 218974355, 218974357, 218974358, 218974360, 218974362, 218974363, 219302044, 218974365, 218974366, 218974364, 218974368, 219302051, 218974373, 218974374, 219302054, 219302057, 219302058, 218974377, 218974379, 218974381, 219302062, 218974383, 218974382, 207997102, 218974385, 218974384, 218974388, 6670517, 218974390, 218974391, 218974393, 218974394, 218974395, 218974396, 219302075, 256460990, 218974399, 218974398, 218974401, 218974403, 218974404, 6113477, 218974406, 218974405, 218974408, 218974409, 218974410, 218974411, 218974412, 219302092, 215238861, 218974415, 204949712, 218974417, 218974418, 218974419, 219302097, 219302101, 218974420, 219302104, 218974424, 218974427, 207997147, 218974430, 218974432, 218973731, 218974436, 219302119, 219302120, 2705641, 218974440, 218974441, 218974442, 218974439, 218974447, 218974448, 219302127, 218974449, 218974450, 221399281, 218974451, 218974454, 218974455, 218974456, 218974457, 198985976, 218974453, 7981308, 218974460, 218974459, 218974467, 219302149, 218974469, 8997127, 218974472, 218974473, 218974470, 218973739, 219302156, 219302157, 218974478, 149775, 218974480, 218974481, 218974479, 218974482, 218974484, 234277134, 186206486, 262621456, 218974488, 218974489, 218974490, 16337176, 218974492, 218974493, 219302172, 218974491, 186206487, 218974497, 218974498, 218974499, 218974500, 218974501, 2083111, 21055784, 218974503, 218974506, 256461103, 218974512, 218974511, 218974514, 219302192, 208030001, 218974518, 236898614, 218974520, 218974521, 219302202, 218974523, 236898620, 218974525, 218974524, 236898623, 218974526, 218974529, 202623294, 218974531, 236898628, 236898629, 236898630, 219302215, 218974534, 218974539, 218974540, 346444, 5097807, 195348815, 218974546, 218974548, 218974549, 219302229, 218974551, 218974550, 218974553, 236144984, 218974555, 219302235, 218974556, 218974552, 236144991, 218974559, 236144993, 218974563, 236144996, 218974565, 199379301, 218974564, 236145000, 236145001, 236145008, 18991473, 199379316, 236145015, 236145016, 236145018, 236145021, 236145022, 234342783, 199379328, 28133759, 7195006, 195742086, 236145030, 236145033, 236145034, 236145035, 199379338, 2247056, 199379345, 236145044, 236145045, 198953364, 219302297, 199379354, 236145051, 199379356, 2509212, 236145052, 199379359, 219302303, 236145057, 236145058, 236145060, 199379364, 132532647, 39471533, 236145069, 236145074, 199379379, 199379378, 5523893, 236145080, 236145081, 219302332, 219302336, 236145088, 199379394, 236145090, 236145091, 199379395, 236145094, 16435655, 219302338, 1165762, 219302346, 219302348, 27806162, 219302356, 236145110, 236145115, 219302365, 219302368, 219302371, 219302372, 208030180, 199379430, 41929191, 199379433, 219302379, 260426220, 219302388, 199379445, 208128503, 219302391, 218581502, 199379460, 219302408, 199379469, 225102357, 199379482, 219302428, 170707485, 191744541, 19122719, 19384866, 219302437, 219531817, 17123884, 1722924, 199379501, 219302451, 219302452, 219302453, 1395257, 218516030, 193055302, 263866951, 199379528, 166480460, 219302482, 208030290, 199379538, 199379544, 219302491, 201706079, 199379554, 219302499, 219302501, 219302503, 199379562, 202787435, 219302509, 199379566, 219302517, 219302518, 19614327, 218973812, 5655164, 219302531, 186206852, 219302534, 234343049, 7293586, 219302547, 219302551, 11356823, 187484830, 220973727, 204950178, 199379619, 219302566, 219302567, 199379626, 199379627, 62737067, 219302574, 219269811, 199379636, 199379639, 219302583, 17353402, 199379650, 219302596, 219925195, 218973831, 219302619, 214649563, 199379680, 219302630, 199379687, 1723112, 219302634, 199379693, 379633, 199379707, 219302654, 21547774, 219925253, 171428614, 5294855, 6900488, 199379721, 199379722, 16698123, 219302664, 199379739, 219302684, 262884128, 2345760, 209079074, 199379748, 19286820, 199379751, 219302696, 219302697, 2738986, 219302699, 199379761, 199379769, 219302717, 199379787, 215763790, 45927246, 219302741, 199379798, 164910321, 199379806, 208325479, 2771818, 219302766, 219302769, 199379826, 199379828, 199379835, 208784253, 199379838, 199379840, 199379846, 5262218, 219302806, 199379867, 219302818, 203705258, 218973873, 219302828, 12209069, 208096174, 13126576, 21351347, 220285889, 218973878, 201739208, 226282443, 218973882, 194137051, 219302878, 195742686, 218973886, 219302896, 219302897, 219302905, 12307451, 5622779, 219302917, 1494032, 15846416, 219302932, 18304021, 1297432, 219302945, 208129064, 226282536, 204885032, 14011435, 208325681, 219302964, 172018741, 195349558, 9030714, 18435135, 219302977, 219302978, 219302979, 219302982, 219302988, 219302993, 219302999, 219303002, 235097180, 235097194, 188009581, 235097198, 219303023, 6900848, 235097203, 235097205, 15092857, 219303034, 213240956, 235097213, 204852350, 235097222, 235097223, 235097226, 235097232, 219303057, 209374354, 235097235, 198986900, 240635028, 235097238, 235097233, 195873944, 227298460, 235097244, 219303073, 773282, 235097252, 235097253, 235097254, 235097255, 225103018, 235097259, 235097258, 235097261, 2313392, 235097265, 219303089, 235097267, 235097271, 219303097, 235097273, 235097276, 235097278, 235097279, 235097284, 235097285, 219303110, 235097287, 219303111, 208653512, 53693639, 235097291, 235097290, 208981197, 27872462, 235097295, 235097298, 235097299, 235097300, 235097302, 235097304, 216124635, 235097312, 235097315, 235097320, 218973936, 9817322, 235097323, 219303146, 235097324, 235097326, 235097330, 235097331, 235097334, 235097337, 235097339, 235097340, 219303165, 29117692, 235097343, 203181310, 235097345, 219303170, 235097348, 6311174, 235097351, 221957384, 219303177, 235097354, 235097355, 235097356, 235097353, 235097358, 235097360, 235097363, 10177812, 235097364, 185879829, 235097369, 235097374, 235097375, 219303199, 219303201, 576802, 235097378, 235097380, 235097381, 235097383, 235097384, 235097387, 235097388, 235097389, 235097392, 235097395, 219303220, 219303221, 235097396, 235097398, 219303224, 235097399, 201706805, 235097408, 219303233, 235097412, 235097413, 235097414, 219303237, 219303240, 235097417, 184864073, 235097419, 219303244, 235097423, 195349840, 235097424, 219303250, 198921556, 235097428, 53366105, 235097434, 219303257, 201739611, 235097438, 201739614, 235097441, 165825889, 219303265, 43371876, 219303272, 235097453, 235097454, 7687535, 235097456, 235097457, 5524852, 235097461, 235097462, 220056950, 14962038, 20434295, 235097465, 1363323, 235097469, 219303293, 218973966, 219303296, 235097473, 235097472, 220286336, 35179908, 235097477, 218973967, 219303303, 220056966, 220056969, 235097482, 220056971, 235097486, 235097488, 2444688, 17616273, 218973970, 235097493, 218973971, 235097499, 235097500, 61492637, 220056990, 235097504, 219303329, 195743144, 219303336, 235097513, 235097514, 232345006, 235097519, 261344688, 235097518, 235097521, 235097523, 235097524, 219303349, 261344686, 235097527, 219303354, 235097531, 235097532, 235097533, 235097537, 235097539, 197676483, 235097541, 235097545, 235097547, 218516941, 235097550, 235097551, 235097554, 2641362, 235097558, 235097559, 235097565, 235097567, 235097571, 235097572, 235097575, 235097581, 235097582, 235097583, 235097587, 235097589, 235097591, 220057081, 1428985, 235097595, 235097596, 220057085, 235097599, 235097601, 235097603, 219303427, 235097605, 235097606, 235097607, 174804487, 219303433, 235097610, 235097612, 221957644, 235097617, 235097619, 235097621, 221924885, 235097626, 235097627, 260165149, 235097630, 220057117, 218973998, 235097635, 162909733, 235097638, 235097642, 235097644, 235097647, 219303471, 235097648, 235097650, 235097652, 235097655, 219303480, 3034681, 235097656, 235097657, 235097660, 18468409, 219860542, 15420991, 235097666, 235097667, 235097668, 241651270, 53235272, 235097673, 235097675, 235097676, 314957, 237489742, 235097679, 235097680, 235097678, 3919442, 235097684, 235097685, 235097687, 235097688, 235097690, 59821660, 11947613, 263605855, 235097696, 219303520, 31313505, 39013984, 220057191, 219303527, 33377896, 207900268, 13586030, 220057199, 219303534, 219303552, 5066372, 229363334, 190074508, 58740369, 5361302, 201739927, 16666270, 14732967, 42782378, 172052151, 216092355, 8539843, 263802565, 219303626, 218974032, 219303632, 201641681, 218974033, 38424278, 163860194, 8474339, 6541034, 219303663, 203902715, 261345019, 219303677, 116084478, 261345021, 195350271, 64343812, 53010, 263868180, 197906200, 219303706, 40062769, 219303731, 220057395, 218974053, 220286777, 8539962, 219303746, 220319558, 210063177, 220286796, 219303767, 219303771, 219303773, 219303777, 219303782, 59690867, 219303800, 169856888, 8507267, 201641861, 6934412, 210063245, 218974071, 30003091, 13356948, 219303827, 219303847, 226283433, 226283435, 219303852, 219303853, 226283438, 226283439, 226283436, 226283441, 219303858, 26529715, 226283444, 218974077, 226283448, 219303865, 226283451, 13488062, 226283458, 226283459, 67063750, 219303879, 219271110, 226283465, 219303882, 226283467, 35475401, 226283466, 221761488, 226283473, 226283474, 226283480, 219303897, 226283481, 226283486, 226283488, 219303905, 226283492, 8245223, 226283498, 14012397, 2346992, 226283506, 226283507, 219303922, 3198964, 479222, 219303928, 226283513, 226283517, 226283518, 219303938, 226283523, 219303943, 219303946, 226283534, 226283535, 226283536, 226283537, 8507410, 226283541, 164581398, 226283545, 226283546, 226283548, 3035164, 226283554, 219303974, 226283562, 226283563, 226283565, 195711023, 9130032, 226283573, 226283574, 226283576, 226283577, 226283579, 219303996, 236179518, 201642047, 226283584, 219303998, 226283586, 236179524, 226283589, 226283590, 236179527, 209440842, 226283595, 226283596, 226283598, 236179535, 7557201, 226283606, 236179542, 226283608, 218681433, 226283610, 226283609, 62771292, 226283612, 226283613, 226283617, 226283622, 226283623, 226283625, 7786603, 226283631, 219304048, 218974116, 3919987, 226283636, 15454326, 29085815, 226283642, 219304060, 226283646, 226283648, 1167491, 226283652, 219304069, 46878856, 226283658, 226283661, 226283663, 226283665, 226283666, 226283667, 226283673, 226283675, 226283676, 219304093, 209080479, 226283680, 226283681, 226283685, 226283689, 219304107, 196202670, 17944752, 32329905, 218974130, 219304124, 234344640, 226283721, 226283723, 226283724, 226283725, 226283726, 226283727, 226283731, 226283740, 219304157, 219304158, 226283741, 226283744, 226283746, 219304162, 226283747, 226283754, 226283756, 9130224, 8605936, 219304179, 226283763, 45404405, 226283765, 226283767, 226283770, 226283772, 219304189, 226283773, 226283778, 226283781, 219304202, 226283786, 226283788, 202723595, 226283792, 219304211, 203837718, 193581337, 219304220, 226283804, 219304222, 226283805, 32526624, 226283810, 219304230, 226283816, 226283817, 226283821, 226283822, 219304239, 210063663, 226283826, 226283829, 226283830, 226283832, 219304250, 218974156, 226283837, 218974157, 219861313, 226283841, 226283845, 226283846, 231821639, 226283848, 226283850, 226283851, 231821643, 231821645, 231821644, 226283855, 231821648, 227856721, 231821649, 231821651, 219304276, 231821652, 226283863, 235655512, 226283867, 219304283, 192467293, 235655516, 226283871, 226283868, 234344802, 226283876, 226283877, 219304293, 226283879, 226283884, 226283886, 38490481, 226283891, 226283892, 219304310, 226283895, 226283896, 226283894, 1397113, 234344829, 226283902, 226283904, 226283907, 226283908, 226283910, 226283915, 226283918, 219304334, 14930319, 86397331, 226283925, 226283928, 226283930, 29315484, 226283933, 226283936, 210555298, 226283941, 226283942, 36426153, 226283946, 226283948, 207901100, 226283950, 226283954, 219304371, 226283958, 226283962, 226283966, 226283970, 226283972, 226283976, 13291977, 226283978, 219304395, 226283980, 220058061, 226283979, 226283984, 226283986, 219304402, 226283989, 226283991, 220058074, 30167514, 226283996, 226283997, 226283999, 226284000, 219304418, 226284003, 226284004, 226284012, 226284014, 226284015, 226284016, 9687536, 219304434, 226284019, 219271674, 30331387, 219304444, 16372221, 214716932, 7328260, 220058123, 33378828, 220058126, 218681881, 220058138, 212718108, 220058142, 34853410, 220058150, 219304487, 14144040, 255775279, 219304499, 255775284, 255775288, 243913272, 255775291, 255775293, 255775295, 255775297, 255775301, 219304528, 207901266, 207901272, 207999578, 161534559, 16863851, 26202735, 210722380, 643707, 6083197, 186241668, 219304584, 219304585, 198234762, 163959450, 220058267, 479902, 220058301, 219304646, 237261515, 14865114, 220058331, 220058343, 2872043, 192762604, 62345967, 195482364, 219304701, 16634621, 17355519, 1397505, 676609, 219304707, 34362120, 219304714, 196203277, 219304721, 1659667, 219304731, 219304736, 219304740, 210722417, 66999088, 13390653, 219304770, 189125446, 234345291, 201741133, 24957784, 234345305, 234345306, 234345307, 201741147, 234345308, 208163680, 2249571, 222221157, 207901548, 219304821, 219304825, 17388420, 194761605, 208163717, 220058500, 219304838, 21386, 220058510, 225268625, 219304859, 208163741, 10736550, 171922343, 220058536, 219304873, 22303657, 219304883, 16438200, 220058555, 3920851, 218974288, 210981845, 3920857, 219304925, 11326430, 219304927, 204526569, 220058607, 2315252, 219239414, 219304966, 203150358, 219304993, 3265576, 219305009, 218974308, 149771327, 201741377, 219305028, 218977352, 218977353, 219305034, 218977354, 208163916, 218977357, 218977356, 119887, 218977360, 218977361, 218977362, 218977359, 218977363, 171005012, 218977366, 218977364, 214651992, 244077657, 218977370, 218977376, 218977377, 218977380, 218977381, 208262247, 218977384, 218977385, 349289, 218977387, 244077674, 218977390, 218977391, 244077680, 218977393, 244077682, 218977392, 218977396, 218977397, 33805426, 218977399, 218977400, 218977401, 218977402, 196170875, 218977404, 219305084, 218977405, 34329727, 218977408, 10441858, 218977410, 208163973, 218977414, 218977413, 220058760, 220058761, 218977418, 218977417, 218977420, 209081485, 218977422, 218977423, 218977424, 218977425, 218974325, 15979668, 218974327, 219305115, 218974328, 59528349, 218974329, 218974333, 236999864, 236999865, 14767290, 236999867, 201741502, 236999870, 236999880, 236999884, 203642060, 236999886, 236999890, 207967446, 39834843, 236999903, 236999905, 236999906, 236999907, 236999909, 209442021, 201741543, 236999911, 236999912, 218974343, 236999915, 236999917, 236999918, 236999919, 219305200, 220058865, 236999922, 236999923, 236999924, 236999925, 6411506, 236999927, 213439733, 236999929, 236999928, 12735740, 236999933, 219305213, 219305217, 6739203, 219305220, 219305228, 5068059, 45438237, 23942431, 6870305, 219305256, 219305257, 219305268, 2970935, 12178744, 219305276, 219305285, 219305289, 201741642, 235623770, 33346914, 219305316, 225662312, 238638449, 238638450, 216847731, 238638452, 238638454, 238638455, 33576312, 238638456, 238638458, 238638459, 195351926, 238638462, 222090623, 195351934, 238638465, 219305345, 238638467, 238638469, 238638470, 238638471, 238638472, 238638475, 219305357, 238638478, 238638479, 238638480, 238638481, 238638482, 238638483, 238638486, 238638487, 238638489, 238638491, 238638495, 23025063, 195351976, 31413672, 197678516, 33871285, 10442166, 219305397, 219305403, 209442236, 1070525, 216552915, 17454561, 3266019, 201741796, 208786933, 38000118, 219305462, 195352059, 201676304, 219305490, 2020910, 190830127, 219305524, 219305531, 218682945, 204527169, 219305541, 218974413, 195352138, 219305558, 14800475, 219305567, 27678321, 12015221, 29611640, 219305601, 7591554, 35378819, 195352204, 218683021, 201676432, 219305622, 24762031, 219305659, 191878845, 30136003, 6543048, 37050058, 219305698, 216848099, 232085223, 221959924, 5461755, 207902465, 193320708, 219305740, 3856149, 219305761, 219305763, 219305768, 219305769, 201709354, 209377072, 2709318, 195352401, 12179283, 219305815, 39409501, 219305828, 14276458, 11589483, 4380524, 219305836, 209442672, 219305840, 219305844, 219305846, 17848183, 219305854, 196204417, 171890564, 216848261, 220059524, 219305866, 214652810, 229365646, 229365648, 229365651, 229365663, 229365666, 229365670, 229365671, 8279976, 216848297, 229365674, 218974483, 229365678, 218974485, 8738739, 229365684, 229365688, 5199803, 219305916, 14538687, 229365697, 199022533, 219305928, 219305929, 199022537, 229365707, 229365708, 229365710, 207869905, 16078804, 229365718, 229365723, 229365730, 221829101, 229365747, 42653685, 219305973, 229365750, 229365752, 229365759, 229365761, 220059651, 229365764, 199022597, 229365763, 219305994, 229365773, 219305998, 219305999, 229365776, 216913937, 220059669, 229365784, 229365786, 229365788, 229365789, 199022622, 220059679, 220059678, 229365797, 199022636, 14473260, 219306034, 199022644, 219306041, 219306046, 219306051, 229365827, 229365829, 7657542, 229365832, 229365833, 220059722, 199022672, 199022673, 229365842, 220059731, 219306067, 219240528, 1235039, 219306083, 214620266, 202725483, 199022701, 218486900, 229365877, 219306106, 219306109, 199022725, 219306119, 199022728, 211572872, 199022739, 219306134, 229365915, 219306140, 219306142, 13195422, 219306146, 13392034, 229365930, 219306167, 29710525, 237295809, 219306179, 199022791, 170383562, 5265615, 32168155, 8804578, 199022821, 219306217, 64968953, 229366017, 237099266, 237099267, 237099268, 219306245, 219306246, 5429505, 229366028, 86759692, 237099278, 46192911, 237099279, 237099280, 219306256, 237099282, 219306260, 237099286, 237099287, 237099288, 208165145, 1300761, 237099291, 208328988, 237099290, 237099294, 237099295, 237099296, 219306274, 237099298, 237099300, 237099299, 6412585, 219306282, 237099305, 219306292, 2840902, 170907975, 219306310, 2251088, 219306325, 219306329, 214063458, 219306343, 219306346, 220060028, 229366143, 214194565, 14899593, 46061963, 203610511, 219306388, 40524180, 203610517, 9427353, 219306397, 219306404, 219306412, 44882348, 219306418, 219306423, 18962876, 15817159, 201677270, 208263649, 169925089, 219306469, 219306473, 8051179, 219306476, 236937161, 219306482, 4643315, 2972149, 220060152, 219306493, 218487295, 219306501, 219306504, 219306506, 6937105, 219306515, 8968727, 220060189, 219306526, 219306527, 219306534, 208001577, 580138, 219306540, 220060205, 220060211, 220060212, 218487357, 219306558, 8411711, 219306561, 244079173, 219208261, 219306569, 219306572, 7133783, 14735961, 219306605, 8870509, 219306619, 219306621, 38525566, 13228670, 218487432, 196172425, 220060307, 219306647, 199416473, 207968926, 219306659, 219732655, 204954289, 220060340, 17128118, 11000512, 10574535, 208263882, 219306700, 207968976, 219306710, 219306713, 219306716, 219306719, 171432679, 219306729, 207969021, 908030, 219306751, 4938501, 202234632, 219306763, 208100108, 219306764, 220060433, 219306772, 219306775, 37608217, 31021854, 219306786, 219306788, 219306790, 221961004, 219306797, 9526061, 219306803, 41671476, 219306806, 2710329, 1170238, 221928257, 220060484, 220060492, 219306834, 234347346, 234347351, 209345369, 201710437, 219306857, 40295279, 5757808, 219306865, 233429874, 219929459, 219306864, 233429871, 233429872, 219306872, 219929464, 19848061, 62086024, 220060553, 208329615, 11066255, 219306899, 262134682, 219306906, 219306908, 236477351, 209443751, 16079789, 219306929, 219306930, 237558708, 219306933, 219306939, 6314945, 237558723, 29252548, 233364425, 219306955, 237558731, 237558733, 237558737, 219306961, 7560145, 237558740, 220060629, 237558743, 8248280, 27057113, 207870937, 209443803, 219306974, 3033171, 219306979, 219306983, 219306991, 237558769, 230087665, 26893302, 215800823, 215800828, 160586750, 219307007, 220060679, 2350090, 218487819, 218487823, 3005460, 219307032, 219307037, 236477470, 236477474, 203578405, 16735270, 219307047, 219307048, 14179377, 236477489, 219307068, 219307073, 18504772, 219307076, 219307078, 219307081, 209443915, 219307088, 219307090, 14638162, 236477523, 5921877, 219307093, 219307097, 60447834, 219307106, 219307108, 236477541, 219307111, 220650600, 219307113, 17128553, 232348778, 219307119, 193453169, 221895797, 215768182, 219307125, 219307129, 219307130, 219307131, 219307133, 219307135, 236477578, 208002187, 220060815, 252763282, 252763283, 252763284, 252763286, 252763288, 215964824, 6479002, 252763291, 252763292, 252763293, 220060833, 252763298, 252763300, 236477606, 252763304, 252763307, 252763310, 252763312, 219307185, 252763313, 2841782, 219307191, 12278968, 252763321, 252763323, 252763324, 252763326, 252763327, 220060862, 252763330, 252763331, 252763339, 252763340, 252763342, 220060878, 220060880, 252763344, 60513490, 252763347, 252763348, 207969499, 220060893, 1432798, 252763357, 252763366, 252763368, 219307254, 219307255, 209083653, 210722060, 236477710, 1039637, 219307290, 1727772, 219307293, 219307292, 219307296, 7298349, 219307312, 219307317, 219307324, 219307326, 248962366, 6708547, 219307331, 219307333, 2776389, 219307340, 219307344, 234347863, 234904920, 219307351, 236477788, 219307358, 679264, 219307363, 234347877, 219307367, 208264552, 219307370, 203906411, 202890611, 219307382, 215637367, 234347896, 219307385, 219307386, 219307387, 236477825, 236477827, 220061061, 201678238, 11754910, 261348769, 233364898, 214261155, 233364900, 210722212, 20864422, 233364899, 233364907, 64544171, 208264622, 208330161, 220061106, 236477876, 219307447, 219307448, 236477882, 210722242, 233364932, 220061125, 219307463, 219307467, 213343692, 219307469, 233364943, 210722256, 210722258, 233364948, 218652117, 233364953, 219307482, 233364954, 233364956, 17522139, 233364959, 219307488, 219307489, 209051107, 233364965, 233364966, 219307495, 233364967, 199581161, 233364970, 208264685, 233364974, 226483695, 233364976, 219307505, 219307509, 232021493, 233364983, 36789753, 233364985, 233364988, 16047614, 232021503, 219307519, 233364993, 232021505, 232021506, 232021502, 232021508, 41868799, 233364999, 219307528, 232021512, 233364998, 233365003, 219307532, 232021509, 236477967, 232021521, 2186770, 232021523, 232021524, 232021525, 232021526, 233365014, 233365016, 232021529, 232021530, 219307546, 2022940, 232021532, 232021534, 24089, 227106336, 232021537, 9854492, 233365027, 232021541, 219307558, 232021543, 232021544, 210722345, 232021546, 232021547, 219307562, 233365034, 233365038, 233365039, 232021551, 232021553, 232021554, 219307563, 232021550, 232021558, 232021559, 232021560, 232021562, 232021563, 232021564, 232021565, 232021566, 219307578, 232021568, 261348929, 232021567, 232021571, 232021572, 261348931, 232021574, 236478021, 233365064, 10346056, 232021578, 233365065, 236478028, 219307597, 232021582, 232021583, 232021584, 232021585, 232021581, 219307594, 232021588, 201711189, 232021590, 232021589, 232021592, 232021593, 232021594, 233365075, 232021596, 232021597, 10837599, 1105503, 218914400, 232021603, 232021604, 204824163, 232021608, 232021609, 232021610, 219307627, 236478060, 232021613, 232021611, 232021615, 232021616, 215768688, 232021617, 233365106, 232021618, 45407858, 8773238, 233365110, 233365112, 210722423, 1891955, 232021624, 219307644, 232021625, 232021630, 232021622, 232021626, 232021628, 233365123, 232021637, 232021638, 232021639, 232021641, 232021643, 232021644, 232021645, 233365134, 201711246, 233365133, 233365132, 232021649, 219307667, 232021652, 232021654, 232021655, 215768727, 232021657, 232021661, 232021662, 233365150, 236478113, 233365154, 232021666, 219307684, 232021669, 232021670, 233365159, 232021665, 232021673, 232021674, 17620646, 232021676, 232021675, 232021678, 232021679, 232021680, 233365168, 232021682, 219307699, 219307700, 232021685, 232021684, 236478135, 233365172, 232021686, 233365171, 232021690, 232021689, 34594493, 243982006, 232021695, 232021696, 233365185, 219307712, 219307713, 232021700, 201711301, 232021702, 232021703, 232021704, 232021705, 232021706, 232021707, 232021708, 233365197, 219307726, 232021710, 5824206, 219307730, 208166610, 232021716, 232021717, 219307731, 219307735, 232021720, 232021721, 232021722, 232021723, 219307739, 219307741, 196009694, 219307743, 232021727, 232021729, 233365217, 232021724, 232021732, 210722533, 232021733, 232021735, 233365221, 219307753, 232021737, 233365225, 232021739, 233365228, 232021741, 232021742, 233365231, 233365229, 233365230, 232021744, 220061428, 233365237, 232021750, 232021751, 233365239, 232021749, 233365234, 232021747, 232021756, 236478204, 232021758, 233365243, 233365248, 33742593, 232021761, 233365251, 220061444, 286464, 219307782, 3104512, 32759560, 232021769, 233365257, 232021771, 219307784, 233365259, 6446861, 232021775, 232021774, 233365265, 232021778, 232021772, 233365263, 219307790, 232021780, 233365271, 232021784, 232021785, 233365274, 219307798, 10673948, 236478233, 232021790, 232021791, 233365280, 233365281, 232021794, 232021793, 232021796, 232021799, 233365287, 232021800, 1400617, 210722601, 232021803, 232021801, 236740394, 17555240, 233365296, 36790065, 232021809, 233365298, 3923764, 232021812, 232021814, 232021816, 37183289, 233365307, 232021820, 232021821, 232021823, 5398336, 232021824, 233365312, 233365314, 232021827, 59825989, 232021830, 210722630, 232021829, 164454216, 233365320, 232021835, 201678668, 232021831, 233365326, 62742349, 232021840, 233365329, 232021834, 233365331, 232021838, 233365330, 7692118, 233365334, 232021845, 232021849, 232021850, 8478554, 233365338, 233365337, 233365343, 232021856, 232021855, 233365348, 233365349, 232021863, 232021864, 232021865, 218947434, 232021867, 232021868, 41803629, 232021866, 233365359, 232021873, 233365362, 232021874, 219307891, 233365364, 233365365, 232021879, 232021880, 15818617, 232021877, 233365366, 232021885, 232021888, 219307906, 232021890, 232021891, 219307907, 232021894, 232021895, 232021892, 219307909, 232021898, 232021899, 236478348, 219307917, 232021902, 232021903, 219307920, 232021901, 232021905, 232021907, 12738452, 209411989, 232021908, 232021911, 2252695, 219307927, 219307929, 232021912, 232021916, 232021917, 219307933, 219307935, 232021920, 219307936, 210722720, 53174179, 232021919, 236478365, 232021926, 34267047, 219307944, 219307941, 232021930, 232021931, 219307948, 232021932, 232021929, 232021935, 219307951, 13098927, 232021936, 232021939, 232021937, 232021938, 232021940, 232021943, 232021944, 232021945, 232021946, 232021941, 232021947, 232021949, 232021950, 232021951, 232021953, 219307970, 236937158, 219307974, 232021958, 232021960, 232021961, 232021959, 236937164, 232021965, 232021966, 201875405, 232021967, 232021969, 232021963, 236937171, 5267403, 236937173, 236937174, 219307991, 261349336, 236937176, 232021970, 219176924, 236937180, 232021981, 219307997, 232021984, 236937185, 236937186, 219930595, 232021988, 236937189, 232021990, 236937187, 232021989, 236937193, 232021994, 236937194, 232021996, 232021997, 232021998, 232021999, 232021995, 232022001, 53764089, 204922882, 7135235, 261349383, 15491080, 36102155, 29974541, 165175322, 27123740, 9199648, 241852450, 219308067, 19914801, 219308082, 219308087, 201711672, 219308095, 219308104, 33972308, 3891288, 17915994, 219308126, 219308128, 219308132, 219308135, 233857128, 219308139, 219308140, 201678959, 219308148, 61923445, 219308151, 219308153, 219308154, 219308155, 219308158, 219308161, 219308167, 219308171, 483470, 219308175, 115466382, 208330899, 247292052, 219308180, 219308182, 219308188, 261349538, 219308194, 33251492, 219308195, 234741946, 3596487, 6185167, 261349585, 261349587, 7102676, 160948440, 7364826, 239722734, 219308285, 219308302, 8020240, 208331031, 115958046, 219308333, 219308337, 219308343, 219308353, 219308354, 219308359, 6086996, 219308373, 219308374, 219308377, 207905114, 219308379, 170746203, 220127581, 219308383, 8642915, 219308387, 219308390, 219308391, 2679145, 219308395, 219308397, 220127602, 219308407, 219308413, 219308416, 26927490, 207905156, 219308424, 208331145, 6218136, 32891290, 2580910, 219308473, 219308481, 33579458, 37020102, 261349831, 219308489, 219308497, 1106388, 483800, 219308516, 16769517, 219308532, 219308541, 219308553, 16867857, 15360530, 204792346, 15295006, 222290462, 199582240, 219308576, 207905314, 219308586, 219308588, 219308589, 208233009, 219308595, 219308599, 26468923, 243950143, 219308608, 219308611, 219308613, 221995593, 11428425, 219308619, 219308623, 219308630, 18571877, 219308646, 18539120, 204857975, 219308668, 90750, 219308684, 5399186, 10052258, 192340647, 230089386, 14475949, 53633715, 5333684, 2777782, 171762360, 219308728, 219308739, 219308743, 201646791, 219308751, 219308772, 243983109, 219308806, 219308807, 219308815, 219308829, 10674977, 219308835, 212886318, 14017327, 18047795, 219308860, 190505793, 219308870, 63169351, 201581383, 169730895, 198992720, 208134995, 219308887, 201679714, 219308902, 8446828, 3131248, 219308925, 196174722, 1074066, 219308951, 11985819, 219308956, 219308959, 218653599, 219308966, 202892199, 219308968, 219308971, 219571117, 219308976, 219308982, 12936129, 219308995, 219308999, 208004056, 219309026, 219309031, 1663978, 219309037, 3236851, 219309052, 16081925, 235430924, 219309069, 169501712, 34399248, 5989400, 219309086, 219309090, 219309095, 219309097, 219898921, 201679916, 220324918, 173990966, 230089784, 222291004, 219309121, 219309129, 219309148, 236898615, 207971424, 210494566, 219309163, 219309164, 236898618, 208331890, 219309171, 219309172, 7070844, 219309193, 219309195, 746639, 209380500, 17228952, 198993052, 219309226, 219309229, 214590647, 14869687, 1598651, 219309246, 1893569, 219309251, 219309259, 214590667, 219309261, 219309262, 33055948, 219309265, 33088735, 219309279, 219309281, 219309290, 3237101, 189683, 2286839, 47179013, 219309321, 219309322, 219309325, 5694733, 219309328, 219309345, 219309347, 219309348, 219309350, 221373736, 221373737, 221373741, 221373744, 221373745, 3892528, 221373748, 221373749, 221373750, 221373752, 219309369, 219309372, 221373758, 219309377, 221373763, 221373764, 208004421, 221373765, 221373767, 221373768, 221373766, 221373773, 221373776, 221373777, 221373782, 221373783, 221373786, 221373787, 221373788, 204793182, 221832543, 221373790, 221373793, 221373791, 221373799, 219309416, 221373801, 221373802, 219309418, 219309421, 221373805, 221373808, 221373810, 26731891, 208332148, 1762674, 219309432, 221373819, 17556860, 221373822, 221373823, 221373824, 221373825, 209315202, 221373826, 779651, 4121989, 196175239, 15000982, 220161436, 9561502, 219309471, 36234656, 219309479, 219309480, 219309481, 219309486, 219309487, 219309495, 219309498, 219309499, 8906175, 31811011, 36136390, 219309519, 3073489, 260335060, 190014935, 39183834, 260335067, 219309535, 260335071, 219309539, 29320676, 219309548, 260335087, 219309560, 15099391, 219309571, 208070150, 208332297, 16147979, 219309580, 202630672, 231695889, 13362705, 13264404, 21685782, 5891609, 219309594, 221865501, 5531167, 13428261, 208332328, 219309610, 34301483, 191424052, 219309625, 219309626, 35284538, 157242, 17948227, 2188867, 219309643, 219309655, 219309656, 219309659, 7366254, 208332402, 219309690, 219309694, 208332415, 219309696, 21718655, 20833922, 219309698, 219309699, 219309712, 219309714, 219309715, 220882584, 8021658, 219309723, 6088350, 222291614, 33384116, 219309754, 7136961, 219309761, 11396803, 219309777, 208332503, 1500888, 219309784, 43345625, 219899617, 198993634, 171599590, 219309806, 219899636, 17917692, 219309834, 219309838, 262301456, 34170652, 219309857, 419627, 36562731, 1369914, 219309887, 219309888, 219309889, 219309898, 878415, 219309904, 219309905, 219309903, 219309914, 219309920, 386913, 219309922, 219309931, 219309934, 3893109, 227141494, 39184247, 219309951, 220325764, 219309959, 164849551, 233367449, 26732443, 12543928, 16541633, 252995526, 231925706, 201680843, 29452235, 8185806, 170878930, 219310035, 252995540, 39184340, 219310037, 219310044, 219310045, 3401693, 219310050, 219310052, 219310055, 7989225, 14182377, 219310067, 208332787, 219310068, 219310073, 59860986, 16771067, 219310079, 219310080, 219310085, 59336710, 219310090, 27584524, 195848205, 46131215, 219310096, 219310110, 3926047, 219310113, 219310114, 59336740, 219310120, 3205160, 26339385, 219310139, 219310140, 219310150, 219310155, 219310157, 219310161, 219310164, 219310168, 202565723, 219310171, 2484315, 237365343, 219310178, 219310186, 219310188, 219310191, 237365359, 219310194, 219310195, 219310196, 219310197, 219310200, 219310201, 237365369, 219310203, 237365373, 219310208, 219310209, 219310213, 219310214, 237365381, 219310216, 37578890, 237365387, 219310220, 237365388, 237365389, 219310223, 237365390, 219310225, 219310218, 3926164, 219310229, 220063894, 219310230, 219310231, 219310235, 219310237, 219310241, 218687650, 219310243, 12708004, 219310246, 219310248, 26792, 219310253, 219310254, 219310255, 219310256, 219310257, 219310261, 219310262, 219310263, 219310267, 218982588, 714946, 219310275, 219310277, 219310278, 51734726, 219310279, 219310283, 219310285, 219310288, 219310292, 219310294, 219310295, 219310298, 45770971, 29944028, 219310301, 219310302, 219310306, 219310309, 219310311, 219310312, 219310315, 11200749, 219310318, 232220911, 203122930, 219310323, 219310324, 219310328, 219310329, 219310330, 219310331, 219310333, 217770241, 219310338, 219310340, 219310342, 219310345, 219310346, 219310347, 219310351, 219310352, 219310353, 219310354, 219310356, 17131799, 219310360, 39807256, 219310362, 219310365, 202565930, 5892397, 7596334, 220326192, 193390903, 221866346, 33548672, 10250647, 218622370, 8284594, 264038838, 715201, 196209097, 198961613, 209054164, 218655193, 10381786, 32500186, 192834018, 518630, 220064250, 16181764, 215542279, 219965980, 649762, 70019618, 210987567, 42297913, 682553, 23054538, 18180681, 207841869, 207940193, 1174115, 7334502, 251980392, 251980393, 6089322, 3926636, 251980396, 251980398, 251980399, 34564725, 196209270, 1895032, 237365881, 16149116, 6908547, 1010309, 8153742, 39774871, 218688152, 59861657, 2878110, 192834212, 39152303, 20966066, 158406, 5139147, 219900623, 14150352, 60779225, 37710557, 231697118, 170814174, 164391651, 225766127, 29059843, 59829005, 2910989, 219933462, 2747187, 3926837, 110914358, 237366075, 237366093, 33155953, 11922294, 8907639, 237366142, 237366143, 237366144, 237366146, 62483340, 212429708, 9497490, 22408096, 7039907, 3926948, 237366183, 9497515, 237366189, 237366190, 237366191, 204827576, 43379641, 21687228, 1436604, 1665987, 2124752, 26143700, 202763233, 7662564, 2911206, 912359, 32861158, 237366250, 208268267, 237366257, 237366260, 192867317, 218974344, 879611, 27913217, 237366274, 201747457, 208006155, 171895820, 220326925, 41348115, 235400228, 2288683, 6941747, 159181884, 237366335, 164457536, 9792578, 237366339, 170781770, 202763347, 221703256, 204401755, 219307696, 237366378, 237366380, 43510904, 814211, 59436176, 18246804, 18312340, 204401827, 5369006, 27913397, 1862839, 27258039, 10415290, 209054931, 234777813, 244149465, 202763489, 30239971, 650496, 219868422, 8842519, 220327192, 219307734, 11595048, 30403883, 34925881, 212430139, 37678399, 195390786, 219966792, 196177225, 1437003, 219307742, 1207632, 16936293, 2649448, 32042348, 210988397, 219966835, 219573632, 219307752, 1928608, 10513825, 207908258, 7105957, 8318391, 219307773, 237366769, 18476529, 219868666, 14478849, 195980807, 36171289, 6778398, 12742179, 16248365, 14937646, 7532092, 37154371, 10350157, 1502797, 239890006, 239890008, 6745689, 239890010, 239890011, 239890012, 239890014, 239890015, 192900710, 239890023, 31420008, 238251630, 238251631, 238251632, 215510641, 238251635, 238251637, 238251641, 238251643, 238251645, 172125821, 3927680, 238251648, 238251650, 33189508, 219934358, 46263969, 196177595, 226225852, 15199936, 35778251, 6647500, 195489519, 237367026, 22114035, 42233589, 3141413, 16412467, 41250617, 198995779, 15003463, 15527754, 203353939, 14479198, 26177388, 11562868, 50130812, 214757251, 219307857, 6614930, 28503960, 231993280, 159685, 46886854, 218689492, 53080042, 220065785, 198995979, 227209233, 35975199, 171470890, 195063878, 21393511, 213348459, 195063916, 195063921, 199520377, 8548479, 161542285, 68153520, 226291898, 6680780, 6615259, 195064036, 261353702, 782574, 39645423, 195064048, 226291957, 14971130, 195064060, 235729173, 235729175, 15364376, 235729179, 235729181, 235729183, 235729184, 235729187, 235729188, 198996260, 235729191, 454956, 250179890, 250179893, 7827769, 62222649, 1143103, 1208641, 250179907, 250179911, 6517063, 24277319, 1241421, 260632932, 250179940, 232124781, 232124785, 250179958, 169275769, 8352128, 219307957, 51868059, 202895775, 221835708, 216035773, 220066246, 172061147, 207909357, 27521527, 61207035, 199553531, 32043516, 586244, 16773647, 225047057, 2454033, 225047058, 226226711, 15888919, 8352285, 31126046, 15954468, 6386218, 193557053, 225047104, 225047121, 166228565, 94818, 815719, 195064438, 245297783, 14643838, 162951809, 51868302, 207909527, 202764963, 203190957, 226226875, 11956926, 27259584, 12808898, 14316240, 39285457, 16020183, 51868379, 40301297, 261354237, 208007934, 261354239, 261354242, 652035, 51868421, 16577289, 6451985, 42431258, 46953263, 33387315, 29258551, 10974019, 37122890, 225047390, 212628328, 189876284, 225047407, 218559344, 212628339, 10023806, 6288259, 237433755, 237433756, 237433757, 237302692, 149746601, 202765228, 39580589, 219182005, 19952568, 219182009, 21525438, 221836228, 23098329, 195064798, 19428320, 199554025, 219182086, 12022794, 218756108, 17331230, 219182113, 3929124, 236778533, 236778534, 236778532, 236778536, 16053290, 8844339, 8713268, 236778562, 214758467, 554055, 2061388, 237204578, 31093860, 237204581, 237204582, 236778596, 237204583, 237204580, 237204586, 237204589, 237204590, 237204591, 237204592, 17364080, 15692911, 237204594, 15529071, 237204596, 237204597, 237204598, 237204600, 237204601, 237204602, 237204604, 237204605, 219182207, 237204607, 236778625, 195064963, 62354584, 207910043, 220066978, 201684131, 29095097, 237434056, 237434057, 219301612, 233305301, 13595867, 195917021, 95461, 11793657, 4093178, 219182334, 7795966, 216560900, 1144073, 235599117, 2651412, 235599135, 226227493, 235599145, 235599146, 225735979, 235599150, 75330863, 235599154, 171341111, 235599166, 235599170, 67433799, 235599175, 235599182, 235599183, 2880847, 235599185, 7140689, 198309202, 235599186, 32306529, 233305448, 219182443, 210531696, 165606771, 201684342, 51869051, 209319301, 1471881, 11761045, 207910317, 220329391, 196048308, 11826614, 219706806, 36435387, 169309636, 9369033, 194704856, 19035620, 226227704, 3896828, 194737667, 202765834, 233305616, 219301678, 45741619, 237434429, 237434430, 207976018, 5633621, 423521, 245855864, 215807611, 19035781, 45905545, 18314894, 245855889, 201684632, 236779163, 236779165, 236779167, 236779168, 236779169, 252212897, 236779171, 236779172, 236779170, 202765990, 19592870, 6583976, 236779173, 245855910, 252212914, 19265207, 9369284, 252212936, 208991947, 252212944, 16742116, 2782957, 35059437, 220329709, 199522037, 248182525, 12744446, 248182527, 248182526, 248182532, 235599621, 248182534, 248182535, 2946829, 248182548, 204961558, 233305882, 207910683, 60225308, 5109533, 245856029, 42628901, 4093737, 237270836, 230094661, 58881875, 2226010, 208992094, 10549087, 237565792, 196179812, 817013, 219903871, 170588034, 14907272, 13170584, 8419226, 33814436, 3176359, 40957875, 233404342, 185431995, 53639109, 169375691, 28309452, 33257428, 198899669, 253097943, 17070041, 7501785, 207910876, 9402339, 5208036, 7862245, 253097973, 10549264, 217184288, 166393890, 209549356, 1833004, 2193458, 202766392, 23132221, 3536958, 62158920, 220330059, 15562838, 3930198, 26867813, 6551679, 207747200, 8517763, 16480391, 11335818, 15235222, 188315817, 211548356, 194705614, 219936977, 44726488, 207911140, 28834022, 11237614, 220330222, 209484026, 3897601, 235075845, 208173318, 232257804, 235075853, 235075855, 235075856, 235075857, 235075859, 221739283, 235075860, 235075862, 235075867, 235075869, 43809058, 12679471, 12024119, 4094265, 13813505, 216103241, 7600459, 232021522, 37255505, 170785117, 27523436, 7600496, 207780212, 2357627, 207911293, 62257556, 220330399, 29096360, 10779062, 219937208, 232021545, 41023940, 215513543, 53082579, 51870165, 21166550, 169507307, 40630771, 240155159, 207976984, 240155163, 240155164, 33356323, 236649003, 18577966, 2914874, 207977046, 8223327, 3930720, 232021577, 4094565, 232021579, 232021580, 33553011, 199522954, 30964362, 207911567, 234224285, 2357939, 12712634, 222132925, 27884224, 202734286, 194149073, 38795990, 220330713, 260829, 204896994, 7437033, 215513848, 218692345, 28343036, 8813310, 224819980, 209091351, 1342240, 13400865, 1014562, 12057389, 237435694, 220330799, 6781754, 232021621, 220330818, 219301940, 232021623, 190643017, 17398606, 15694671, 264436566, 129886, 220330867, 13400951, 184482693, 184482711, 1768347, 18250652, 19463082, 222002098, 208174003, 218594230, 62651345, 184482772, 42138589, 13532125, 12975074, 2718695, 216562664, 11074539, 218692589, 220330989, 12385266, 61930487, 16251899, 215415807, 202734592, 207911937, 184482819, 219301979, 14941206, 16546839, 184482846, 184482864, 34143281, 218758195, 222133300, 222002230, 28113978, 184482877, 9731144, 201686090, 184482896, 207912018, 207780961, 1997930, 11992179, 2096243, 13433981, 2817150, 214727809, 222133380, 14122119, 31751314, 226262172, 218659997, 184482972, 226262185, 184482987, 218692795, 12942527, 189889729, 232021698, 14580933, 18742476, 62323919, 202767568, 226262226, 184483028, 31915229, 184483038, 184483042, 184483045, 31390949, 226262248, 226262258, 9665780, 201686262, 219302026, 219938042, 226262271, 226262278, 218594574, 3931407, 232021715, 220331287, 218692901, 17005865, 11664683, 226262319, 226262322, 1801525, 16284981, 45677883, 2260284, 218496319, 202734912, 8060226, 184483143, 184483148, 232021726, 184483151, 226262363, 226262364, 184483165, 226262366, 226262368, 232021730, 184483171, 226262380, 226262390, 18349448, 218693000, 232021738, 234487186, 6749590, 169442711, 234487193, 234487199, 1441185, 234487205, 234487207, 234487209, 234487210, 9665964, 234487213, 7962030, 184483247, 1441199, 184483248, 234487218, 196019, 236486067, 236486073, 226262457, 236486076, 236486077, 236486078, 234487231, 234487233, 234487234, 236486083, 234487238, 236486087, 53575110, 234487243, 184483278, 13368786, 236486099, 236486101, 236486102, 64585177, 218594780, 14417375, 236486112, 15793632, 236486114, 236486115, 236486117, 30146022, 236486119, 236486118, 232021757, 236486122, 237436394, 236486120, 237436392, 6880755, 184483318, 218693113, 236486137, 236486140, 236486142, 236486143, 2260483, 236486148, 232021762, 236486150, 236486151, 51871240, 15597064, 236486154, 236486155, 236486156, 236486157, 212696586, 236486161, 236486164, 236486165, 236486168, 30342682, 236486171, 236486172, 218988062, 198147616, 236486177, 232021768, 236486179, 236486180, 236486184, 236486190, 184483382, 236486199, 236486203, 204766782, 170688064, 236486210, 236486212, 207912517, 12385862, 236486215, 236486216, 28048967, 654924, 236486220, 236486222, 236486223, 202767952, 236486225, 236486226, 236486227, 20184660, 236486228, 236486230, 236486236, 236486240, 11599456, 236486241, 236486245, 236486249, 65130, 236486250, 236486251, 236486253, 236486255, 236486256, 236486261, 24018550, 236486262, 236486264, 236486265, 21134967, 236486266, 236486269, 236486272, 184483458, 236486277, 236486282, 6553227, 28999308, 236486286, 201752208, 218496657, 236486291, 236486293, 236486294, 236486295, 220331673, 236486297, 236486300, 236486302, 236486304, 236486305, 236486307, 236486308, 236486309, 236486311, 59702952, 236486315, 184483500, 236486317, 7962289, 30670514, 9797304, 198147768, 6553277, 15597251, 20872907, 39190241, 196148977, 219302130, 70254353, 60718875, 9830179, 37453604, 207847212, 1212207, 9961270, 232021825, 232021826, 124616527, 5701463, 14894956, 34406236, 21364577, 202735479, 232021836, 36568955, 219185020, 218496892, 3932031, 232021839, 218496904, 20217738, 13598603, 43876245, 232021842, 170655644, 46694306, 231931813, 8159149, 261342902, 34504645, 201686982, 237010893, 6389710, 237010895, 237010897, 237010898, 237010899, 237010901, 237010902, 8191960, 237010907, 237010908, 237010909, 19038173, 237010917, 237010918, 169508849, 218595319, 5275640}\n",
      "Duplicate Corpus ID Mapping: {207847794: np.int64(207847794), 5284722: np.int64(207847794), 227905369: np.int64(207847794), 208100108: np.int64(207847794), 236534782: np.int64(207847794), 219309535: np.int64(207847794), 232021700: np.int64(207847794), 227231676: np.int64(207847794), 218973707: np.int64(207847794), 221961004: np.int64(207847794), 218974134: np.int64(207847794), 218487357: np.int64(207847794), 219302051: np.int64(207847794), 227231212: np.int64(207847794), 220060833: np.int64(207847794), 219305928: np.int64(207847794), 236486165: np.int64(207847794), 64403004: np.int64(207847794), 232021523: np.int64(207847794), 219310324: np.int64(207847794), 218973949: np.int64(207847794), 225062870: np.int64(207847794), 222133300: np.int64(207847794), 229365842: np.int64(207847794), 227231713: np.int64(207847794), 219301030: np.int64(207847794), 233365106: np.int64(207847794), 218973696: np.int64(207847794), 218974309: np.int64(207847794), 226283562: np.int64(207847794), 233365248: np.int64(207847794), 236145057: np.int64(207847794), 235097222: np.int64(207847794), 227230618: np.int64(207847794), 219302365: np.int64(207847794), 219301364: np.int64(207847794), 219306506: np.int64(207847794), 218974498: np.int64(207847794), 201710437: np.int64(207847794), 237381858: np.int64(207847794), 232021930: np.int64(207847794), 227230518: np.int64(207847794), 12693287: np.int64(207847794), 219303879: np.int64(207847794), 226239300: np.int64(207847794), 218974060: np.int64(207847794), 227231054: np.int64(207847794), 237204591: np.int64(207847794), 219300386: np.int64(207847794), 10584725: np.int64(207847794), 161514722: np.int64(207847794), 218960562: np.int64(207847794), 233210694: np.int64(207847794), 236477876: np.int64(207847794), 12786686: np.int64(207847794), 232021571: np.int64(207847794), 218974101: np.int64(207847794), 237055466: np.int64(207847794), 216086600: np.int64(207847794), 199379356: np.int64(207847794), 218973875: np.int64(207847794), 226291898: np.int64(207847794), 226238689: np.int64(207847794), 237099294: np.int64(207847794), 1400617: np.int64(207847794), 5921877: np.int64(207847794), 38000118: np.int64(207847794), 202707711: np.int64(207847794), 219303928: np.int64(207847794), 232021676: np.int64(207847794), 227231791: np.int64(207847794), 261342046: np.int64(207847794), 218973744: np.int64(207847794), 219304239: np.int64(207847794), 11012721: np.int64(207847794), 195063916: np.int64(207847794), 219182207: np.int64(207847794), 219303897: np.int64(207847794), 170476009: np.int64(207847794), 208331031: np.int64(207847794), 16438200: np.int64(207847794), 218974366: np.int64(207847794), 219310347: np.int64(207847794), 229365786: np.int64(207847794), 1070525: np.int64(207847794), 90750: np.int64(207847794), 218974520: np.int64(207847794), 219307891: np.int64(207847794), 219310267: np.int64(207847794), 218977385: np.int64(207847794), 219309480: np.int64(207847794), 207911937: np.int64(207847794), 221373764: np.int64(207847794), 235097554: np.int64(207847794), 227905420: np.int64(207847794), 235415459: np.int64(207847794), 219304646: np.int64(207847794), 219305866: np.int64(207847794), 232022001: np.int64(207847794), 237558769: np.int64(207847794), 233364983: np.int64(207847794), 218974427: np.int64(207847794), 174799778: np.int64(207847794), 237366274: np.int64(207847794), 236486122: np.int64(207847794), 199373173: np.int64(207847794), 207908258: np.int64(207847794), 226283822: np.int64(207847794), 219300439: np.int64(207847794), 252763321: np.int64(207847794), 189125446: np.int64(207847794), 235097558: np.int64(207847794), 10202648: np.int64(207847794), 225735979: np.int64(207847794), 235716168: np.int64(207847794), 227230864: np.int64(207847794), 219306388: np.int64(207847794), 219307293: np.int64(207847794), 236460107: np.int64(207847794), 227231135: np.int64(207847794), 219306041: np.int64(207847794), 232021565: np.int64(207847794), 237055467: np.int64(207847794), 227231770: np.int64(207847794), 17070041: np.int64(207847794), 39471533: np.int64(207847794), 235097523: np.int64(207847794), 218973767: np.int64(207847794), 219306412: np.int64(207847794), 226283492: np.int64(207847794), 195352059: np.int64(207847794), 235127363: np.int64(207847794), 229365718: np.int64(207847794), 236917212: np.int64(207847794), 220445823: np.int64(207847794), 226262363: np.int64(207847794), 218973815: np.int64(207847794), 219308887: np.int64(207847794), 219308424: np.int64(207847794), 226283756: np.int64(207847794), 218974002: np.int64(207847794), 218974125: np.int64(207847794), 14558364: np.int64(207847794), 1227006: np.int64(207847794), 227231211: np.int64(207847794), 8153742: np.int64(207847794), 219300751: np.int64(207847794), 227230611: np.int64(207847794), 235097519: np.int64(207847794), 36967686: np.int64(207847794), 218973751: np.int64(207847794), 170655644: np.int64(207847794), 237055485: np.int64(207847794), 235258284: np.int64(207847794), 16695859: np.int64(207847794), 236477882: np.int64(207847794), 232021617: np.int64(207847794), 241583450: np.int64(207847794), 236486300: np.int64(207847794), 233365349: np.int64(207847794), 245838264: np.int64(207847794), 219310354: np.int64(207847794), 236460050: np.int64(207847794), 208332297: np.int64(207847794), 14127698: np.int64(207847794), 229365773: np.int64(207847794), 219310288: np.int64(207847794), 4894551: np.int64(207847794), 226283767: np.int64(207847794), 227231686: np.int64(207847794), 236460203: np.int64(207847794), 11589483: np.int64(207847794), 226283606: np.int64(207847794), 184483278: np.int64(207847794), 225102357: np.int64(207847794), 219310191: np.int64(207847794), 232021850: np.int64(207847794), 227231598: np.int64(207847794), 228076502: np.int64(207847794), 1471881: np.int64(207847794), 220446118: np.int64(207847794), 236937173: np.int64(207847794), 227230504: np.int64(207847794), 219306142: np.int64(207847794), 252763368: np.int64(207847794), 32090617: np.int64(207847794), 219301449: np.int64(207847794), 219305217: np.int64(207847794), 232021940: np.int64(207847794), 225062698: np.int64(207847794), 237099288: np.int64(207847794), 219302000: np.int64(207847794), 207999578: np.int64(207847794), 236779169: np.int64(207847794), 1679655: np.int64(207847794), 227230415: np.int64(207847794), 218974037: np.int64(207847794), 219308167: np.int64(207847794), 233305448: np.int64(207847794), 207988685: np.int64(207847794), 226307746: np.int64(207847794), 218977353: np.int64(207847794), 237099286: np.int64(207847794), 199379748: np.int64(207847794), 219308956: np.int64(207847794), 238638482: np.int64(207847794), 8533468: np.int64(207847794), 235599185: np.int64(207847794), 219310356: np.int64(207847794), 241583193: np.int64(207847794), 231695889: np.int64(207847794), 219308599: np.int64(207847794), 233365003: np.int64(207847794), 229365930: np.int64(207847794), 228076874: np.int64(207847794), 226283536: np.int64(207847794), 232021890: np.int64(207847794), 219302630: np.int64(207847794), 218973978: np.int64(207847794), 210722533: np.int64(207847794), 234487231: np.int64(207847794), 255775288: np.int64(207847794), 233365348: np.int64(207847794), 218974122: np.int64(207847794), 221097247: np.int64(207847794), 236460209: np.int64(207847794), 218977424: np.int64(207847794), 227231268: np.int64(207847794), 198163236: np.int64(207847794), 218974203: np.int64(207847794), 245838263: np.int64(207847794), 219307068: np.int64(207847794), 219307131: np.int64(207847794), 232021902: np.int64(207847794), 233365154: np.int64(207847794), 218974206: np.int64(207847794), 243864631: np.int64(207847794), 218947434: np.int64(207847794), 218974243: np.int64(207847794), 226283941: np.int64(207847794), 227230691: np.int64(207847794), 226239317: np.int64(207847794), 1548819: np.int64(207847794), 235258294: np.int64(207847794), 17915994: np.int64(207847794), 201680843: np.int64(207847794), 208332328: np.int64(207847794), 209315202: np.int64(207847794), 187965753: np.int64(207847794), 218974090: np.int64(207847794), 219301590: np.int64(207847794), 236460284: np.int64(207847794), 219302945: np.int64(207847794), 219301751: np.int64(207847794), 221373773: np.int64(207847794), 218973790: np.int64(207847794), 232021960: np.int64(207847794), 219202134: np.int64(207847794), 219308082: np.int64(207847794), 222002098: np.int64(207847794), 219302905: np.int64(207847794), 186241668: np.int64(207847794), 5369006: np.int64(207847794), 219307741: np.int64(207847794), 29633703: np.int64(207847794), 235097369: np.int64(207847794), 219302684: np.int64(207847794), 233364898: np.int64(207847794), 232021891: np.int64(207847794), 219306274: np.int64(207847794), 219309193: np.int64(207847794), 236999906: np.int64(207847794), 3265576: np.int64(207847794), 1801525: np.int64(207847794), 245838348: np.int64(207847794), 261341898: np.int64(207847794), 219301000: np.int64(207847794), 219301328: np.int64(207847794), 28384449: np.int64(207847794), 230089386: np.int64(207847794), 244090686: np.int64(207847794), 227216973: np.int64(207847794), 210154726: np.int64(207847794), 219301744: np.int64(207847794), 218973828: np.int64(207847794), 220445441: np.int64(207847794), 145961136: np.int64(207847794), 219310201: np.int64(207847794), 226283996: np.int64(207847794), 221373776: np.int64(207847794), 219301629: np.int64(207847794), 214716932: np.int64(207847794), 218974563: np.int64(207847794), 219310277: np.int64(207847794), 233841473: np.int64(207847794), 208089380: np.int64(207847794), 237204589: np.int64(207847794), 219302741: np.int64(207847794), 243864629: np.int64(207847794), 237204607: np.int64(207847794), 234487218: np.int64(207847794), 7808406: np.int64(207847794), 172061147: np.int64(207847794), 218974136: np.int64(207847794), 32479178: np.int64(207847794), 220444925: np.int64(207847794), 219310223: np.int64(207847794), 220058074: np.int64(207847794), 199368325: np.int64(207847794), 236144991: np.int64(207847794), 235097203: np.int64(207847794), 237155023: np.int64(207847794), 46151820: np.int64(207847794), 227905455: np.int64(207847794), 227231263: np.int64(207847794), 233189541: np.int64(207847794), 236477351: np.int64(207847794), 218973935: np.int64(207847794), 227905424: np.int64(207847794), 235599170: np.int64(207847794), 219303250: np.int64(207847794), 227230584: np.int64(207847794), 203690908: np.int64(207847794), 219307917: np.int64(207847794), 236486164: np.int64(207847794), 219309806: np.int64(207847794), 190014935: np.int64(207847794), 18322992: np.int64(207847794), 14538687: np.int64(207847794), 232021505: np.int64(207847794), 218973694: np.int64(207847794), 235127372: np.int64(207847794), 235258255: np.int64(207847794), 219300220: np.int64(207847794), 30403883: np.int64(207847794), 201638186: np.int64(207847794), 227231106: np.int64(207847794), 232021525: np.int64(207847794), 219302104: np.int64(207847794), 184482987: np.int64(207847794), 219189020: np.int64(207847794), 219305740: np.int64(207847794), 233365307: np.int64(207847794), 241583273: np.int64(207847794), 233029487: np.int64(207847794), 241583398: np.int64(207847794), 261341916: np.int64(207847794), 1494032: np.int64(207847794), 24018550: np.int64(207847794), 650496: np.int64(207847794), 227231315: np.int64(207847794), 219307974: np.int64(207847794), 227231824: np.int64(207847794), 193765776: np.int64(207847794), 237099280: np.int64(207847794), 232021732: np.int64(207847794), 198230526: np.int64(207847794), 229366028: np.int64(207847794), 227905687: np.int64(207847794), 216151988: np.int64(207847794), 219300513: np.int64(207847794), 231821651: np.int64(207847794), 219308751: np.int64(207847794), 233305301: np.int64(207847794), 29627503: np.int64(207847794), 237155060: np.int64(207847794), 218594780: np.int64(207847794), 227217629: np.int64(207847794), 235097696: np.int64(207847794), 226283877: np.int64(207847794), 220445392: np.int64(207847794), 252995526: np.int64(207847794), 236898620: np.int64(207847794), 19286820: np.int64(207847794), 218973811: np.int64(207847794), 236486073: np.int64(207847794), 219307097: np.int64(207847794), 236917216: np.int64(207847794), 218974393: np.int64(207847794), 219309487: np.int64(207847794), 245838273: np.int64(207847794), 219300752: np.int64(207847794), 1106388: np.int64(207847794), 419627: np.int64(207847794), 226238977: np.int64(207847794), 226239152: np.int64(207847794), 28805394: np.int64(207847794), 219303882: np.int64(207847794), 236486099: np.int64(207847794), 233365237: np.int64(207847794), 219309350: np.int64(207847794), 219299870: np.int64(207847794), 221097209: np.int64(207847794), 218774130: np.int64(207847794), 232021864: np.int64(207847794), 241583427: np.int64(207847794), 219303905: np.int64(207847794), 33730973: np.int64(207847794), 164457536: np.int64(207847794), 235097647: np.int64(207847794), 241583236: np.int64(207847794), 220835108: np.int64(207847794), 219310262: np.int64(207847794), 218973884: np.int64(207847794), 226284004: np.int64(207847794), 219310178: np.int64(207847794), 14331079: np.int64(207847794), 232021961: np.int64(207847794), 232021994: np.int64(207847794), 235097374: np.int64(207847794), 227230575: np.int64(207847794), 225062769: np.int64(207847794), 226239388: np.int64(207847794), 227141494: np.int64(207847794), 220058061: np.int64(207847794), 261349538: np.int64(207847794), 233364976: np.int64(207847794), 252763323: np.int64(207847794), 219301287: np.int64(207847794), 236999909: np.int64(207847794), 237204594: np.int64(207847794), 229365797: np.int64(207847794), 227320045: np.int64(207847794), 226283986: np.int64(207847794), 226283459: np.int64(207847794), 220837054: np.int64(207847794), 219302619: np.int64(207847794), 219307317: np.int64(207847794), 208991947: np.int64(207847794), 219308959: np.int64(207847794), 226239164: np.int64(207847794), 232021596: np.int64(207847794), 219309416: np.int64(207847794), 227231404: np.int64(207847794), 196172425: np.int64(207847794), 233365134: np.int64(207847794), 232021849: np.int64(207847794), 196174722: np.int64(207847794), 221097289: np.int64(207847794), 218973735: np.int64(207847794), 18047795: np.int64(207847794), 219302566: np.int64(207847794), 218974164: np.int64(207847794), 203705258: np.int64(207847794), 220060815: np.int64(207847794), 164391651: np.int64(207847794), 209076846: np.int64(207847794), 249240915: np.int64(207847794), 219868422: np.int64(207847794), 227231216: np.int64(207847794), 203190957: np.int64(207847794), 220445698: np.int64(207847794), 220446107: np.int64(207847794), 198995979: np.int64(207847794), 171550200: np.int64(207847794), 236999867: np.int64(207847794), 3452903: np.int64(207847794), 226283658: np.int64(207847794), 235599183: np.int64(207847794), 227230371: np.int64(207847794), 219307047: np.int64(207847794), 218974018: np.int64(207847794), 219304770: np.int64(207847794), 213518628: np.int64(207847794), 227231772: np.int64(207847794), 220446233: np.int64(207847794), 226283978: np.int64(207847794), 2621672: np.int64(207847794), 233364900: np.int64(207847794), 236999864: np.int64(207847794), 33064197: np.int64(207847794), 219303023: np.int64(207847794), 23666159: np.int64(207847794), 10549264: np.int64(207847794), 232021585: np.int64(207847794), 226307957: np.int64(207847794), 243896115: np.int64(207847794), 13356948: np.int64(207847794), 219304069: np.int64(207847794), 219306558: np.int64(207847794), 218974493: np.int64(207847794), 226283871: np.int64(207847794), 219301277: np.int64(207847794), 42836852: np.int64(207847794), 227217628: np.int64(207847794), 169275769: np.int64(207847794), 218977361: np.int64(207847794), 245855889: np.int64(207847794), 218973996: np.int64(207847794), 219899617: np.int64(207847794), 221373758: np.int64(207847794), 233365064: np.int64(207847794), 232021920: np.int64(207847794), 219299843: np.int64(207847794), 227231652: np.int64(207847794), 19384866: np.int64(207847794), 199379798: np.int64(207847794), 219306083: np.int64(207847794), 237010907: np.int64(207847794), 220445617: np.int64(207847794), 28503960: np.int64(207847794), 219307907: np.int64(207847794), 235097320: np.int64(207847794), 227231265: np.int64(207847794), 219302035: np.int64(207847794), 218965598: np.int64(207847794), 226283884: np.int64(207847794), 226283506: np.int64(207847794), 208281781: np.int64(207847794), 226283902: np.int64(207847794), 53184582: np.int64(207847794), 158406: np.int64(207847794), 227905505: np.int64(207847794), 227230701: np.int64(207847794), 219308971: np.int64(207847794), 236486177: np.int64(207847794), 208332148: np.int64(207847794), 204912182: np.int64(207847794), 245838272: np.int64(207847794), 236486293: np.int64(207847794), 226239285: np.int64(207847794), 225062656: np.int64(207847794), 226239219: np.int64(207847794), 237217077: np.int64(207847794), 935515: np.int64(207847794), 219299773: np.int64(207847794), 219308148: np.int64(207847794), 261342042: np.int64(207847794), 237270836: np.int64(207847794), 261342126: np.int64(207847794), 219307920: np.int64(207847794), 9874531: np.int64(207847794), 218974139: np.int64(207847794), 44252659: np.int64(207847794), 220403427: np.int64(207847794), 218977376: np.int64(207847794), 209083653: np.int64(207847794), 229365833: np.int64(207847794), 65130: np.int64(207847794), 202764963: np.int64(207847794), 236486168: np.int64(207847794), 202895775: np.int64(207847794), 219302654: np.int64(207847794), 227231101: np.int64(207847794), 220379534: np.int64(207847794), 236917195: np.int64(207847794), 219301015: np.int64(207847794), 212628339: np.int64(207847794), 236486112: np.int64(207847794), 219309898: np.int64(207847794), 218974107: np.int64(207847794), 16763002: np.int64(207847794), 232021907: np.int64(207847794), 218974110: np.int64(207847794), 218974492: np.int64(207847794), 219720965: np.int64(207847794), 226283725: np.int64(207847794), 220045399: np.int64(207847794), 227231518: np.int64(207847794), 219304740: np.int64(207847794), 12069271: np.int64(207847794), 233364956: np.int64(207847794), 226239024: np.int64(207847794), 2346992: np.int64(207847794), 220973727: np.int64(207847794), 10381786: np.int64(207847794), 219309690: np.int64(207847794), 218973909: np.int64(207847794), 227316717: np.int64(207847794), 171949614: np.int64(207847794), 164407034: np.int64(207847794), 218977352: np.int64(207847794), 235599154: np.int64(207847794), 212886318: np.int64(207847794), 219302019: np.int64(207847794), 222090623: np.int64(207847794), 220446081: np.int64(207847794), 208193411: np.int64(207847794), 226284012: np.int64(207847794), 204916542: np.int64(207847794), 227231607: np.int64(207847794), 171788196: np.int64(207847794), 238251635: np.int64(207847794), 195848205: np.int64(207847794), 226239124: np.int64(207847794), 236145015: np.int64(207847794), 220445930: np.int64(207847794), 229365915: np.int64(207847794), 232021735: np.int64(207847794), 225062746: np.int64(207847794), 226239134: np.int64(207847794), 232021723: np.int64(207847794), 219307447: np.int64(207847794), 199379328: np.int64(207847794), 238638452: np.int64(207847794), 227231489: np.int64(207847794), 20257980: np.int64(207847794), 221878973: np.int64(207847794), 219307667: np.int64(207847794), 232021803: np.int64(207847794), 221809908: np.int64(207847794), 235097559: np.int64(207847794), 218973753: np.int64(207847794), 198961613: np.int64(207847794), 226284000: np.int64(207847794), 215768688: np.int64(207847794), 219304731: np.int64(207847794), 207756646: np.int64(207847794), 199379345: np.int64(207847794), 218652117: np.int64(207847794), 235097524: np.int64(207847794), 219300712: np.int64(207847794), 220286777: np.int64(207847794), 219861313: np.int64(207847794), 218973952: np.int64(207847794), 233365338: np.int64(207847794), 237055461: np.int64(207847794), 219309920: np.int64(207847794), 219305531: np.int64(207847794), 14098062: np.int64(207847794), 165056331: np.int64(207847794), 236459972: np.int64(207847794), 8159149: np.int64(207847794), 164447678: np.int64(207847794), 202583779: np.int64(207847794), 235097441: np.int64(207847794), 226239324: np.int64(207847794), 28019081: np.int64(207847794), 221097972: np.int64(207847794), 238638465: np.int64(207847794), 218973710: np.int64(207847794), 218974383: np.int64(207847794), 195740730: np.int64(207847794), 227231502: np.int64(207847794), 234777813: np.int64(207847794), 219301511: np.int64(207847794), 236898629: np.int64(207847794), 220327192: np.int64(207847794), 235097688: np.int64(207847794), 227231119: np.int64(207847794), 201741543: np.int64(207847794), 207976984: np.int64(207847794), 174799877: np.int64(207847794), 214667652: np.int64(207847794), 208144896: np.int64(207847794), 231697118: np.int64(207847794), 198967887: np.int64(207847794), 218973716: np.int64(207847794), 219302517: np.int64(207847794), 226262366: np.int64(207847794), 43371876: np.int64(207847794), 219302978: np.int64(207847794), 226239135: np.int64(207847794), 210722212: np.int64(207847794), 195899759: np.int64(207847794), 236460171: np.int64(207847794), 220047255: np.int64(207847794), 235097287: np.int64(207847794), 199379867: np.int64(207847794), 209892156: np.int64(207847794), 6670517: np.int64(207847794), 219304585: np.int64(207847794), 219307090: np.int64(207847794), 219308815: np.int64(207847794), 237155071: np.int64(207847794), 236486317: np.int64(207847794), 219306955: np.int64(207847794), 199553531: np.int64(207847794), 39354903: np.int64(207847794), 237418569: np.int64(207847794), 218974555: np.int64(207847794), 219182009: np.int64(207847794), 235599135: np.int64(207847794), 227231555: np.int64(207847794), 232021657: np.int64(207847794), 236937164: np.int64(207847794), 226283458: np.int64(207847794), 988360: np.int64(207847794), 219302917: np.int64(207847794), 218974184: np.int64(207847794), 202541220: np.int64(207847794), 235258298: np.int64(207847794), 169092704: np.int64(207847794), 227230615: np.int64(207847794), 10128350: np.int64(207847794), 42190070: np.int64(207847794), 226239382: np.int64(207847794), 1297432: np.int64(207847794), 232021544: np.int64(207847794), 219309281: np.int64(207847794), 218973943: np.int64(207847794), 227231221: np.int64(207847794), 169100660: np.int64(207847794), 4036104: np.int64(207847794), 227230599: np.int64(207847794), 225063166: np.int64(207847794), 190588587: np.int64(207847794), 237010909: np.int64(207847794), 180566494: np.int64(207847794), 199379828: np.int64(207847794), 189871792: np.int64(207847794), 201624805: np.int64(207847794), 204904734: np.int64(207847794), 202577673: np.int64(207847794), 199379544: np.int64(207847794), 164454216: np.int64(207847794), 219309328: np.int64(207847794), 218974448: np.int64(207847794), 41663092: np.int64(207847794), 214620266: np.int64(207847794), 219303777: np.int64(207847794), 219303480: np.int64(207847794), 219302766: np.int64(207847794), 225062653: np.int64(207847794), 199379751: np.int64(207847794), 219303946: np.int64(207847794), 218974497: np.int64(207847794), 226262364: np.int64(207847794), 24712229: np.int64(207847794), 209442021: np.int64(207847794), 207984484: np.int64(207847794), 235097259: np.int64(207847794), 192232000: np.int64(207847794), 219300739: np.int64(207847794), 219299828: np.int64(207847794), 232021784: np.int64(207847794), 235097438: np.int64(207847794), 219308285: np.int64(207847794), 232021814: np.int64(207847794), 219306929: np.int64(207847794), 232021809: np.int64(207847794), 232345006: np.int64(207847794), 235258271: np.int64(207847794), 219300588: np.int64(207847794), 237558737: np.int64(207847794), 219310263: np.int64(207847794), 232021778: np.int64(207847794), 226283788: np.int64(207847794), 235655512: np.int64(207847794), 212430139: np.int64(207847794), 199379394: np.int64(207847794), 222310469: np.int64(207847794), 219301020: np.int64(207847794), 233365337: np.int64(207847794), 232021503: np.int64(207847794), 235097655: np.int64(207847794), 218973946: np.int64(207847794), 241583284: np.int64(207847794), 235097340: np.int64(207847794), 243864618: np.int64(207847794), 218974406: np.int64(207847794), 218974368: np.int64(207847794), 202565930: np.int64(207847794), 196189567: np.int64(207847794), 184482864: np.int64(207847794), 219302547: np.int64(207847794), 203610511: np.int64(207847794), 227905503: np.int64(207847794), 171423914: np.int64(207847794), 226283663: np.int64(207847794), 236477788: np.int64(207847794), 221373768: np.int64(207847794), 227217204: np.int64(207847794), 195349840: np.int64(207847794), 236898623: np.int64(207847794), 219301263: np.int64(207847794), 202541617: np.int64(207847794), 234344802: np.int64(207847794), 235599182: np.int64(207847794), 219303097: np.int64(207847794), 219299717: np.int64(207847794), 261342165: np.int64(207847794), 247292052: np.int64(207847794), 261341821: np.int64(207847794), 1611234: np.int64(207847794), 260335071: np.int64(207847794), 251980398: np.int64(207847794), 31811011: np.int64(207847794), 602761: np.int64(207847794), 38286200: np.int64(207847794), 199379359: np.int64(207847794), 237435694: np.int64(207847794), 229365747: np.int64(207847794), 237217084: np.int64(207847794), 220060152: np.int64(207847794), 232021742: np.int64(207847794), 252763291: np.int64(207847794), 235097456: np.int64(207847794), 226283754: np.int64(207847794), 7488499: np.int64(207847794), 227231564: np.int64(207847794), 219306797: np.int64(207847794), 225062727: np.int64(207847794), 219301783: np.int64(207847794), 59524095: np.int64(207847794), 219302769: np.int64(207847794), 227905642: np.int64(207847794), 40410838: np.int64(207847794), 14291750: np.int64(207847794), 219303520: np.int64(207847794), 219309347: np.int64(207847794), 219309097: np.int64(207847794), 236486286: np.int64(207847794), 237099266: np.int64(207847794), 232021936: np.int64(207847794), 222132925: np.int64(207847794), 219304444: np.int64(207847794), 219310283: np.int64(207847794), 219309052: np.int64(207847794), 237217079: np.int64(207847794), 207982721: np.int64(207847794), 245838393: np.int64(207847794), 220444946: np.int64(207847794), 241583399: np.int64(207847794), 235097679: np.int64(207847794), 208339208: np.int64(207847794), 226284019: np.int64(207847794), 225062669: np.int64(207847794), 221865501: np.int64(207847794), 229365708: np.int64(207847794), 220445581: np.int64(207847794), 220056990: np.int64(207847794), 218974041: np.int64(207847794), 220446279: np.int64(207847794), 236999929: np.int64(207847794), 233365039: np.int64(207847794), 219310285: np.int64(207847794), 227230477: np.int64(207847794), 218974373: np.int64(207847794), 6900488: np.int64(207847794), 227217123: np.int64(207847794), 220058865: np.int64(207847794), 5139147: np.int64(207847794), 190505793: np.int64(207847794), 171970576: np.int64(207847794), 219304189: np.int64(207847794), 232021655: np.int64(207847794), 35522135: np.int64(207847794), 222315117: np.int64(207847794), 218974143: np.int64(207847794), 231750182: np.int64(207847794), 231643533: np.int64(207847794), 222002230: np.int64(207847794), 219302235: np.int64(207847794), 221097218: np.int64(207847794), 226239146: np.int64(207847794), 232021546: np.int64(207847794), 236486249: np.int64(207847794), 236486262: np.int64(207847794), 8548479: np.int64(207847794), 1157676: np.int64(207847794), 218974186: np.int64(207847794), 218973834: np.int64(207847794), 238638472: np.int64(207847794), 219307113: np.int64(207847794), 226283623: np.int64(207847794), 235097235: np.int64(207847794), 219300540: np.int64(207847794), 195711023: np.int64(207847794), 229365776: np.int64(207847794), 219307007: np.int64(207847794), 227905962: np.int64(207847794), 218974123: np.int64(207847794), 204852350: np.int64(207847794), 218516030: np.int64(207847794), 219302896: np.int64(207847794), 219308772: np.int64(207847794), 236999865: np.int64(207847794), 227231417: np.int64(207847794), 215513543: np.int64(207847794), 164835508: np.int64(207847794), 241583419: np.int64(207847794), 219305084: np.int64(207847794), 202765228: np.int64(207847794), 219307333: np.int64(207847794), 236145016: np.int64(207847794), 232021899: np.int64(207847794), 34610218: np.int64(207847794), 227230373: np.int64(207847794), 218973722: np.int64(207847794), 171762360: np.int64(207847794), 208263882: np.int64(207847794), 6300554: np.int64(207847794), 227230790: np.int64(207847794), 233365112: np.int64(207847794), 232021583: np.int64(207847794), 227231563: np.int64(207847794), 210722630: np.int64(207847794), 236459955: np.int64(207847794), 219301963: np.int64(207847794), 218974056: np.int64(207847794), 208264622: np.int64(207847794), 199379826: np.int64(207847794), 237010901: np.int64(207847794), 204748627: np.int64(207847794), 219309610: np.int64(207847794), 236779172: np.int64(207847794), 203150358: np.int64(207847794), 218482569: np.int64(207847794), 735495: np.int64(207847794), 218974066: np.int64(207847794), 226283441: np.int64(207847794), 218974374: np.int64(207847794), 212413844: np.int64(207847794), 218973901: np.int64(207847794), 232021874: np.int64(207847794), 226239172: np.int64(207847794), 226283617: np.int64(207847794), 219531817: np.int64(207847794), 219309163: np.int64(207847794), 219290468: np.int64(207847794), 226283848: np.int64(207847794), 218974007: np.int64(207847794), 235097315: np.int64(207847794), 219303221: np.int64(207847794), 218537733: np.int64(207847794), 7827769: np.int64(207847794), 218973964: np.int64(207847794), 219309922: np.int64(207847794), 218974282: np.int64(207847794), 218974488: np.int64(207847794), 4093737: np.int64(207847794), 27957304: np.int64(207847794), 215949765: np.int64(207847794), 201676304: np.int64(207847794), 245838298: np.int64(207847794), 218974521: np.int64(207847794), 18163999: np.int64(207847794), 226239205: np.int64(207847794), 218863105: np.int64(207847794), 20137906: np.int64(207847794), 209411989: np.int64(207847794), 235258261: np.int64(207847794), 226283837: np.int64(207847794), 219305846: np.int64(207847794), 238638455: np.int64(207847794), 260829: np.int64(207847794), 227905380: np.int64(207847794), 164849551: np.int64(207847794), 220837051: np.int64(207847794), 219182334: np.int64(207847794), 207910683: np.int64(207847794), 235097345: np.int64(207847794), 219302356: np.int64(207847794), 19848061: np.int64(207847794), 233365228: np.int64(207847794), 32168155: np.int64(207847794), 219302372: np.int64(207847794), 226283541: np.int64(207847794), 235127257: np.int64(207847794), 162771387: np.int64(207847794), 2247056: np.int64(207847794), 219304721: np.int64(207847794), 229365723: np.int64(207847794), 218692345: np.int64(207847794), 244464124: np.int64(207847794), 184483045: np.int64(207847794), 214590647: np.int64(207847794), 220835448: np.int64(207847794), 219309345: np.int64(207847794), 236937189: np.int64(207847794), 209371230: np.int64(207847794), 227230651: np.int64(207847794), 439452: np.int64(207847794), 219301748: np.int64(207847794), 227106336: np.int64(207847794), 236937194: np.int64(207847794), 27523436: np.int64(207847794), 220330867: np.int64(207847794), 237010899: np.int64(207847794), 221373788: np.int64(207847794), 18246804: np.int64(207847794), 219304276: np.int64(207847794), 218973809: np.int64(207847794), 220445907: np.int64(207847794), 227231352: np.int64(207847794), 238638471: np.int64(207847794), 218974548: np.int64(207847794), 219307482: np.int64(207847794), 218974266: np.int64(207847794), 220274272: np.int64(207847794), 226239116: np.int64(207847794), 218974447: np.int64(207847794), 219308161: np.int64(207847794), 218974109: np.int64(207847794), 210987567: np.int64(207847794), 218496904: np.int64(207847794), 62158920: np.int64(207847794), 218977414: np.int64(207847794), 218974262: np.int64(207847794), 237155095: np.int64(207847794), 224819980: np.int64(207847794), 219303349: np.int64(207847794), 210142197: np.int64(207847794), 218973972: np.int64(207847794), 226283727: np.int64(207847794), 227231604: np.int64(207847794), 219307133: np.int64(207847794), 219301314: np.int64(207847794), 218973728: np.int64(207847794), 202583886: np.int64(207847794), 229365829: np.int64(207847794), 226238930: np.int64(207847794), 252763286: np.int64(207847794), 236145080: np.int64(207847794), 236145021: np.int64(207847794), 208124588: np.int64(207847794), 219309259: np.int64(207847794), 227230390: np.int64(207847794), 37678399: np.int64(207847794), 62768169: np.int64(207847794), 202771652: np.int64(207847794), 219937208: np.int64(207847794), 226301064: np.int64(207847794), 245838287: np.int64(207847794), 233365331: np.int64(207847794), 219903871: np.int64(207847794), 220446032: np.int64(207847794), 232021737: np.int64(207847794), 226238901: np.int64(207847794), 229365671: np.int64(207847794), 207747200: np.int64(207847794), 238198104: np.int64(207847794), 13195422: np.int64(207847794), 46737263: np.int64(207847794), 211003689: np.int64(207847794), 2226010: np.int64(207847794), 219304395: np.int64(207847794), 219301596: np.int64(207847794), 218974287: np.int64(207847794), 252763347: np.int64(207847794), 219306397: np.int64(207847794), 208050387: np.int64(207847794), 202713262: np.int64(207847794), 227231768: np.int64(207847794), 216152235: np.int64(207847794), 171163896: np.int64(207847794), 232021916: np.int64(207847794), 219306865: np.int64(207847794), 220065785: np.int64(207847794), 12848506: np.int64(207847794), 218973847: np.int64(207847794), 2641362: np.int64(207847794), 219305622: np.int64(207847794), 218977425: np.int64(207847794), 2910989: np.int64(207847794), 237436394: np.int64(207847794), 252763342: np.int64(207847794), 165825889: np.int64(207847794), 227230666: np.int64(207847794), 219307290: np.int64(207847794), 3116153: np.int64(207847794), 22720975: np.int64(207847794), 227230254: np.int64(207847794), 233189526: np.int64(207847794), 195064036: np.int64(207847794), 220066978: np.int64(207847794), 201641861: np.int64(207847794), 233365364: np.int64(207847794), 219309838: np.int64(207847794), 203902715: np.int64(207847794), 32784: np.int64(207847794), 193233974: np.int64(207847794), 204977968: np.int64(207847794), 226283855: np.int64(207847794), 203837718: np.int64(207847794), 232021868: np.int64(207847794), 9747327: np.int64(207847794), 209054164: np.int64(207847794), 226278041: np.int64(207847794), 219302531: np.int64(207847794), 202540415: np.int64(207847794), 219302977: np.int64(207847794), 209387740: np.int64(207847794), 233365298: np.int64(207847794), 237434057: np.int64(207847794), 227231098: np.int64(207847794), 10736550: np.int64(207847794), 195063878: np.int64(207847794), 219308870: np.int64(207847794), 220047363: np.int64(207847794), 236477474: np.int64(207847794), 226283846: np.int64(207847794), 219301108: np.int64(207847794), 227230486: np.int64(207847794), 171059917: np.int64(207847794), 219309195: np.int64(207847794), 227231229: np.int64(207847794), 236460156: np.int64(207847794), 218973887: np.int64(207847794), 10923333: np.int64(207847794), 27134516: np.int64(207847794), 201741502: np.int64(207847794), 226283845: np.int64(207847794), 219310342: np.int64(207847794), 218974272: np.int64(207847794), 221739283: np.int64(207847794), 227230511: np.int64(207847794), 227230333: np.int64(207847794), 219269811: np.int64(207847794), 218973937: np.int64(207847794), 184482877: np.int64(207847794), 235097285: np.int64(207847794), 218977360: np.int64(207847794), 35102549: np.int64(207847794), 219309694: np.int64(207847794), 219307363: np.int64(207847794), 218973789: np.int64(207847794), 16590135: np.int64(207847794), 32759560: np.int64(207847794), 219309369: np.int64(207847794), 233365257: np.int64(207847794), 199379619: np.int64(207847794), 220060340: np.int64(207847794), 235127315: np.int64(207847794), 218683021: np.int64(207847794), 245838290: np.int64(207847794), 219303865: np.int64(207847794), 207897186: np.int64(207847794), 235097354: np.int64(207847794), 220060307: np.int64(207847794), 235097312: np.int64(207847794), 227231827: np.int64(207847794), 235716146: np.int64(207847794), 226239129: np.int64(207847794), 237099296: np.int64(207847794), 232021966: np.int64(207847794), 41648254: np.int64(207847794), 219303220: np.int64(207847794), 203692282: np.int64(207847794), 188844874: np.int64(207847794), 116834: np.int64(207847794), 241583391: np.int64(207847794), 219302482: np.int64(207847794), 207760723: np.int64(207847794), 201711301: np.int64(207847794), 236460346: np.int64(207847794), 220834645: np.int64(207847794), 226964234: np.int64(207847794), 219310203: np.int64(207847794), 235716149: np.int64(207847794), 227231214: np.int64(207847794), 195352204: np.int64(207847794), 219310292: np.int64(207847794), 236999927: np.int64(207847794), 171973204: np.int64(207847794), 245838313: np.int64(207847794), 207960576: np.int64(207847794), 236937171: np.int64(207847794), 219310338: np.int64(207847794), 204526569: np.int64(207847794), 233364907: np.int64(207847794), 237204582: np.int64(207847794), 226239221: np.int64(207847794), 214261155: np.int64(207847794), 219300338: np.int64(207847794), 171508498: np.int64(207847794), 219301199: np.int64(207847794), 8565686: np.int64(207847794), 236145090: np.int64(207847794), 220834694: np.int64(207847794), 235097473: np.int64(207847794), 218957129: np.int64(207847794), 219301684: np.int64(207847794), 221097384: np.int64(207847794), 212746016: np.int64(207847794), 218974075: np.int64(207847794), 210155935: np.int64(207847794), 184483458: np.int64(207847794), 218973840: np.int64(207847794), 219306501: np.int64(207847794), 10350157: np.int64(207847794), 245838457: np.int64(207847794), 219302379: np.int64(207847794), 227231776: np.int64(207847794), 220444938: np.int64(207847794), 235097462: np.int64(207847794), 10415290: np.int64(207847794), 201678959: np.int64(207847794), 218977422: np.int64(207847794), 235097238: np.int64(207847794), 219310044: np.int64(207847794), 218974399: np.int64(207847794), 227230556: np.int64(207847794), 226239309: np.int64(207847794), 164334630: np.int64(207847794), 241583315: np.int64(207847794), 220060211: np.int64(207847794), 218974332: np.int64(207847794), 221097270: np.int64(207847794), 235097384: np.int64(207847794), 227231134: np.int64(207847794), 227231290: np.int64(207847794), 235097417: np.int64(207847794), 196186355: np.int64(207847794), 226283507: np.int64(207847794), 227230625: np.int64(207847794), 172052151: np.int64(207847794), 216051307: np.int64(207847794), 218974540: np.int64(207847794), 213528081: np.int64(207847794), 219302574: np.int64(207847794), 220058331: np.int64(207847794), 237055457: np.int64(207847794), 196195184: np.int64(207847794), 221373823: np.int64(207847794), 221097216: np.int64(207847794), 227231040: np.int64(207847794), 19599041: np.int64(207847794), 218974180: np.int64(207847794), 216848297: np.int64(207847794), 222315179: np.int64(207847794), 219299723: np.int64(207847794), 220444945: np.int64(207847794), 219310120: np.int64(207847794), 219310275: np.int64(207847794), 60447834: np.int64(207847794), 182953063: np.int64(207847794), 220445536: np.int64(207847794), 219308982: np.int64(207847794), 219307296: np.int64(207847794), 218973929: np.int64(207847794), 219304714: np.int64(207847794), 219303296: np.int64(207847794), 221373741: np.int64(207847794), 227231075: np.int64(207847794), 219304736: np.int64(207847794), 232021666: np.int64(207847794), 236145094: np.int64(207847794), 245838317: np.int64(207847794), 235599175: np.int64(207847794), 227231871: np.int64(207847794), 219305916: np.int64(207847794), 219304124: np.int64(207847794), 218973717: np.int64(207847794), 43679812: np.int64(207847794), 218974248: np.int64(207847794), 218806723: np.int64(207847794), 236460267: np.int64(207847794), 235127351: np.int64(207847794), 232021720: np.int64(207847794), 199369398: np.int64(207847794), 218974525: np.int64(207847794), 34594493: np.int64(207847794), 237433755: np.int64(207847794), 237217080: np.int64(207847794), 218974295: np.int64(207847794), 218487819: np.int64(207847794), 235422481: np.int64(207847794), 237204596: np.int64(207847794), 236486226: np.int64(207847794), 219301067: np.int64(207847794), 2043297: np.int64(207847794), 235097213: np.int64(207847794), 235097302: np.int64(207847794), 227231084: np.int64(207847794), 212616314: np.int64(207847794), 219306260: np.int64(207847794), 220056950: np.int64(207847794), 218973975: np.int64(207847794), 227231699: np.int64(207847794), 219310278: np.int64(207847794), 227230365: np.int64(207847794), 202719449: np.int64(207847794), 239890011: np.int64(207847794), 171394070: np.int64(207847794), 238638486: np.int64(207847794), 219302101: np.int64(207847794), 218973945: np.int64(207847794), 219302006: np.int64(207847794), 227231845: np.int64(207847794), 202763233: np.int64(207847794), 209080479: np.int64(207847794), 41886635: np.int64(207847794), 235729175: np.int64(207847794), 219304060: np.int64(207847794), 232021895: np.int64(207847794), 220445718: np.int64(207847794), 244464120: np.int64(207847794), 232021911: np.int64(207847794), 202734592: np.int64(207847794), 232021669: np.int64(207847794), 219307073: np.int64(207847794), 207911293: np.int64(207847794), 218974549: np.int64(207847794), 219308966: np.int64(207847794), 208264552: np.int64(207847794), 237217105: np.int64(207847794), 218974395: np.int64(207847794), 33387315: np.int64(207847794), 227230439: np.int64(207847794), 218974331: np.int64(207847794), 227230507: np.int64(207847794), 40062769: np.int64(207847794), 219301298: np.int64(207847794), 6699341: np.int64(207847794), 219308337: np.int64(207847794), 226283867: np.int64(207847794), 236486215: np.int64(207847794), 235097690: np.int64(207847794), 219310362: np.int64(207847794), 34853410: np.int64(207847794), 207870937: np.int64(207847794), 219306803: np.int64(207847794), 227231665: np.int64(207847794), 232021761: np.int64(207847794), 21041712: np.int64(207847794), 199379722: np.int64(207847794), 232021794: np.int64(207847794), 219302697: np.int64(207847794), 208050258: np.int64(207847794), 199022728: np.int64(207847794), 218974224: np.int64(207847794), 227231789: np.int64(207847794), 218974415: np.int64(207847794), 219306786: np.int64(207847794), 234487199: np.int64(207847794), 213430580: np.int64(207847794), 227231460: np.int64(207847794), 241583116: np.int64(207847794), 236917230: np.int64(207847794), 2533597: np.int64(207847794), 171293701: np.int64(207847794), 227230385: np.int64(207847794), 236460182: np.int64(207847794), 220446102: np.int64(207847794), 160483149: np.int64(207847794), 261341391: np.int64(207847794), 261341393: np.int64(207847794), 261341545: np.int64(207847794), 253097943: np.int64(207847794), 226239355: np.int64(207847794), 5581517: np.int64(207847794), 9497490: np.int64(207847794), 220446281: np.int64(207847794), 219306790: np.int64(207847794), 232021645: np.int64(207847794), 1262734: np.int64(207847794), 221373824: np.int64(207847794), 219307743: np.int64(207847794), 235258281: np.int64(207847794), 454956: np.int64(207847794), 235482383: np.int64(207847794), 184483248: np.int64(207847794), 218973918: np.int64(207847794), 219307488: np.int64(207847794), 236486264: np.int64(207847794), 8773238: np.int64(207847794), 227231729: np.int64(207847794), 252212944: np.int64(207847794), 171588820: np.int64(207847794), 233364999: np.int64(207847794), 230103328: np.int64(207847794), 220445791: np.int64(207847794), 218973968: np.int64(207847794), 232021953: np.int64(207847794), 233365280: np.int64(207847794), 227231800: np.int64(207847794), 220835105: np.int64(207847794), 163860194: np.int64(207847794), 219310220: np.int64(207847794), 225062660: np.int64(207847794), 198973111: np.int64(207847794), 218974073: np.int64(207847794), 208992094: np.int64(207847794), 221420408: np.int64(207847794), 218974065: np.int64(207847794), 207911567: np.int64(207847794), 219900623: np.int64(207847794), 218974035: np.int64(207847794), 61294173: np.int64(207847794), 218974324: np.int64(207847794), 219299910: np.int64(207847794), 160862686: np.int64(207847794), 235097278: np.int64(207847794), 232021716: np.int64(207847794), 237010893: np.int64(207847794), 240155164: np.int64(207847794), 220445859: np.int64(207847794), 13586030: np.int64(207847794), 219308925: np.int64(207847794), 199379721: np.int64(207847794), 218973958: np.int64(207847794), 219301664: np.int64(207847794), 219308668: np.int64(207847794), 209442672: np.int64(207847794), 219305268: np.int64(207847794), 216050683: np.int64(207847794), 235097685: np.int64(207847794), 190720311: np.int64(207847794), 236486307: np.int64(207847794), 227230347: np.int64(207847794), 245838239: np.int64(207847794), 219303922: np.int64(207847794), 226283595: np.int64(207847794), 226239344: np.int64(207847794), 218973780: np.int64(207847794), 219302348: np.int64(207847794), 199661584: np.int64(207847794), 208030180: np.int64(207847794), 8713268: np.int64(207847794), 237010918: np.int64(207847794), 226283980: np.int64(207847794), 218973762: np.int64(207847794), 220060629: np.int64(207847794), 43034255: np.int64(207847794), 236999922: np.int64(207847794), 201671157: np.int64(207847794), 30939903: np.int64(207847794), 235097363: np.int64(207847794), 208264685: np.int64(207847794), 220059651: np.int64(207847794), 192913484: np.int64(207847794), 53258856: np.int64(207847794), 171124654: np.int64(207847794), 235716141: np.int64(207847794), 219306119: np.int64(207847794), 15529071: np.int64(207847794), 232021563: np.int64(207847794), 235075860: np.int64(207847794), 226283625: np.int64(207847794), 204827576: np.int64(207847794), 232021506: np.int64(207847794), 218974531: np.int64(207847794), 220445783: np.int64(207847794), 38525566: np.int64(207847794), 222003980: np.int64(207847794), 203671645: np.int64(207847794), 219310254: np.int64(207847794), 226283744: np.int64(207847794), 216144548: np.int64(207847794), 226283579: np.int64(207847794), 199379469: np.int64(207847794), 46601885: np.int64(207847794), 226283554: np.int64(207847794), 2252695: np.int64(207847794), 218974289: np.int64(207847794), 226283772: np.int64(207847794), 226283879: np.int64(207847794), 219304158: np.int64(207847794), 235097414: np.int64(207847794), 220446177: np.int64(207847794), 218974027: np.int64(207847794), 218974412: np.int64(207847794), 218973833: np.int64(207847794), 222140962: np.int64(207847794), 170907975: np.int64(207847794), 227230424: np.int64(207847794), 199379460: np.int64(207847794), 15818617: np.int64(207847794), 237204597: np.int64(207847794), 219308153: np.int64(207847794), 219306710: np.int64(207847794), 237558740: np.int64(207847794), 192791252: np.int64(207847794), 219306713: np.int64(207847794), 227231475: np.int64(207847794), 198186909: np.int64(207847794), 26867813: np.int64(207847794), 219300289: np.int64(207847794), 220446330: np.int64(207847794), 218974480: np.int64(207847794), 216124635: np.int64(207847794), 190830127: np.int64(207847794), 218974396: np.int64(207847794), 219306046: np.int64(207847794), 235258256: np.int64(207847794), 219310365: np.int64(207847794), 225755823: np.int64(207847794), 186231017: np.int64(207847794), 207914787: np.int64(207847794), 219303073: np.int64(207847794), 219303110: np.int64(207847794), 218974010: np.int64(207847794), 219306961: np.int64(207847794), 227231295: np.int64(207847794), 218497557: np.int64(207847794), 227231109: np.int64(207847794), 218973856: np.int64(207847794), 210981845: np.int64(207847794), 218973925: np.int64(207847794), 199022739: np.int64(207847794), 235097518: np.int64(207847794), 202784744: np.int64(207847794), 220445929: np.int64(207847794), 236486272: np.int64(207847794), 235097396: np.int64(207847794), 149775: np.int64(207847794), 198231583: np.int64(207847794), 234597585: np.int64(207847794), 218974539: np.int64(207847794), 235097424: np.int64(207847794), 232021898: np.int64(207847794), 226283517: np.int64(207847794), 195794942: np.int64(207847794), 219310213: np.int64(207847794), 230101180: np.int64(207847794), 219302346: np.int64(207847794), 227230319: np.int64(207847794), 210722258: np.int64(207847794), 201641681: np.int64(207847794), 199022597: np.int64(207847794), 237434056: np.int64(207847794), 219307684: np.int64(207847794), 232021652: np.int64(207847794), 220058510: np.int64(207847794), 221097930: np.int64(207847794), 231643580: np.int64(207847794), 219308095: np.int64(207847794), 236145051: np.int64(207847794), 219306418: np.int64(207847794), 218973948: np.int64(207847794), 37050058: np.int64(207847794), 5633621: np.int64(207847794), 219936977: np.int64(207847794), 219303177: np.int64(207847794), 199368736: np.int64(207847794), 219304927: np.int64(207847794), 236477470: np.int64(207847794), 236486190: np.int64(207847794), 219308829: np.int64(207847794), 219307700: np.int64(207847794), 220057081: np.int64(207847794), 218973838: np.int64(207847794), 227230453: np.int64(207847794), 219302999: np.int64(207847794), 233365231: np.int64(207847794), 2861394: np.int64(207847794), 207905314: np.int64(207847794), 198971891: np.int64(207847794), 220045818: np.int64(207847794), 207841869: np.int64(207847794), 236460254: np.int64(207847794), 220445592: np.int64(207847794), 198980688: np.int64(207847794), 227904567: np.int64(207847794), 219304283: np.int64(207847794), 34301483: np.int64(207847794), 220445896: np.int64(207847794), 232021990: np.int64(207847794), 208165145: np.int64(207847794), 196202670: np.int64(207847794), 218974410: np.int64(207847794), 218974342: np.int64(207847794), 216867426: np.int64(207847794), 235097668: np.int64(207847794), 232021751: np.int64(207847794), 221373822: np.int64(207847794), 226283966: np.int64(207847794), 220446101: np.int64(207847794), 220445909: np.int64(207847794), 219295238: np.int64(207847794), 161542285: np.int64(207847794), 238638458: np.int64(207847794), 218974229: np.int64(207847794), 198921556: np.int64(207847794), 227230350: np.int64(207847794), 219302501: np.int64(207847794), 208253752: np.int64(207847794), 236898630: np.int64(207847794), 219307037: np.int64(207847794), 208325479: np.int64(207847794), 245838453: np.int64(207847794), 198993634: np.int64(207847794), 194052360: np.int64(207847794), 207968976: np.int64(207847794), 220326925: np.int64(207847794), 208330161: np.int64(207847794), 221832543: np.int64(207847794), 219197047: np.int64(207847794), 233305882: np.int64(207847794), 220446126: np.int64(207847794), 232021938: np.int64(207847794), 219271110: np.int64(207847794), 226239166: np.int64(207847794), 219306540: np.int64(207847794), 233219412: np.int64(207847794), 2442163: np.int64(207847794), 261341537: np.int64(207847794), 259370611: np.int64(207847794), 201791785: np.int64(207847794), 241651270: np.int64(207847794), 252186435: np.int64(207847794), 232021741: np.int64(207847794), 12754128: np.int64(207847794), 3248974: np.int64(207847794), 252212897: np.int64(207847794), 10358527: np.int64(207847794), 26202735: np.int64(207847794), 227856721: np.int64(207847794), 250390965: np.int64(207847794), 255775291: np.int64(207847794), 220835525: np.int64(207847794), 225351003: np.int64(207847794), 220445959: np.int64(207847794), 219302157: np.int64(207847794), 220444900: np.int64(207847794), 222315182: np.int64(207847794), 252763348: np.int64(207847794), 8135682: np.int64(207847794), 171885115: np.int64(207847794), 197678516: np.int64(207847794), 239890006: np.int64(207847794), 215715597: np.int64(207847794), 240225648: np.int64(207847794), 219306329: np.int64(207847794), 237155031: np.int64(207847794), 219308743: np.int64(207847794), 16463823: np.int64(207847794), 100640: np.int64(207847794), 35267743: np.int64(207847794), 219304707: np.int64(207847794), 220837097: np.int64(207847794), 236486223: np.int64(207847794), 235097667: np.int64(207847794), 231647949: np.int64(207847794), 218974170: np.int64(207847794), 218974411: np.int64(207847794), 236999903: np.int64(207847794), 244077680: np.int64(207847794), 199379846: np.int64(207847794), 14889108: np.int64(207847794), 218499004: np.int64(207847794), 11317525: np.int64(207847794), 14958345: np.int64(207847794), 208233009: np.int64(207847794), 219326174: np.int64(207847794), 218531823: np.int64(207847794), 218974419: np.int64(207847794), 235729188: np.int64(207847794), 218974104: np.int64(207847794), 236460154: np.int64(207847794), 226238994: np.int64(207847794), 218973973: np.int64(207847794), 219302932: np.int64(207847794), 219304157: np.int64(207847794), 714946: np.int64(207847794), 218977381: np.int64(207847794), 219302388: np.int64(207847794), 219300088: np.int64(207847794), 479902: np.int64(207847794), 9077543: np.int64(207847794), 201697099: np.int64(207847794), 220058267: np.int64(207847794), 235097271: np.int64(207847794), 235097334: np.int64(207847794), 219221501: np.int64(207847794), 219303746: np.int64(207847794), 219303165: np.int64(207847794), 220061444: np.int64(207847794), 241583663: np.int64(207847794), 245838251: np.int64(207847794), 216867862: np.int64(207847794), 201676432: np.int64(207847794), 220445991: np.int64(207847794), 235097612: np.int64(207847794), 235599166: np.int64(207847794), 227230343: np.int64(207847794), 235075867: np.int64(207847794), 12942527: np.int64(207847794), 208129064: np.int64(207847794), 235097606: np.int64(207847794), 160586750: np.int64(207847794), 227231508: np.int64(207847794), 207905114: np.int64(207847794), 225063189: np.int64(207847794), 26187588: np.int64(207847794), 59825989: np.int64(207847794), 231821639: np.int64(207847794), 218674072: np.int64(207847794), 218977393: np.int64(207847794), 208128503: np.int64(207847794), 236478135: np.int64(207847794), 30239971: np.int64(207847794), 192857208: np.int64(207847794), 235097413: np.int64(207847794), 235097571: np.int64(207847794), 218973770: np.int64(207847794), 5655164: np.int64(207847794), 226282443: np.int64(207847794), 184482711: np.int64(207847794), 207909527: np.int64(207847794), 219308489: np.int64(207847794), 162506364: np.int64(207847794), 220274904: np.int64(207847794), 164729270: np.int64(207847794), 220057199: np.int64(207847794), 227231797: np.int64(207847794), 218977380: np.int64(207847794), 235097273: np.int64(207847794), 196009694: np.int64(207847794), 219305256: np.int64(207847794), 219307936: np.int64(207847794), 227230261: np.int64(207847794), 207869905: np.int64(207847794), 218973849: np.int64(207847794), 165882348: np.int64(207847794), 236460089: np.int64(207847794), 221949407: np.int64(207847794), 232021541: np.int64(207847794), 236459824: np.int64(207847794), 218973927: np.int64(207847794), 220058123: np.int64(207847794), 219301958: np.int64(207847794), 235097279: np.int64(207847794), 196130845: np.int64(207847794), 219310295: np.int64(207847794), 219201797: np.int64(207847794), 227230411: np.int64(207847794), 227231597: np.int64(207847794), 219309698: np.int64(207847794), 226238983: np.int64(207847794), 18180681: np.int64(207847794), 220047816: np.int64(207847794), 219309129: np.int64(207847794), 219301153: np.int64(207847794), 236486101: np.int64(207847794), 182952800: np.int64(207847794), 218973843: np.int64(207847794), 218973816: np.int64(207847794), 227231118: np.int64(207847794), 227231704: np.int64(207847794), 215542279: np.int64(207847794), 225062885: np.int64(207847794), 219309626: np.int64(207847794), 236486142: np.int64(207847794), 219907805: np.int64(207847794), 202708576: np.int64(207847794), 227230617: np.int64(207847794), 237204578: np.int64(207847794), 218974160: np.int64(207847794), 208253300: np.int64(207847794), 235097388: np.int64(207847794), 235097607: np.int64(207847794), 203424222: np.int64(207847794), 245838451: np.int64(207847794), 219307048: np.int64(207847794), 10521039: np.int64(207847794), 201684632: np.int64(207847794), 237010898: np.int64(207847794), 219306534: np.int64(207847794), 201070807: np.int64(207847794), 227217508: np.int64(207847794), 207914129: np.int64(207847794), 220275177: np.int64(207847794), 227231594: np.int64(207847794), 219306404: np.int64(207847794), 218973802: np.int64(207847794), 227231151: np.int64(207847794), 227095928: np.int64(207847794), 221097953: np.int64(207847794), 232021638: np.int64(207847794), 237581067: np.int64(207847794), 236460032: np.int64(207847794), 174800705: np.int64(207847794), 219300573: np.int64(207847794), 5312135: np.int64(207847794), 17406380: np.int64(207847794), 220837073: np.int64(207847794), 218977397: np.int64(207847794), 219305567: np.int64(207847794), 220059722: np.int64(207847794), 232021717: np.int64(207847794), 220057085: np.int64(207847794), 211126537: np.int64(207847794), 12679471: np.int64(207847794), 235097591: np.int64(207847794), 219300737: np.int64(207847794), 233365251: np.int64(207847794), 233364988: np.int64(207847794), 226283723: np.int64(207847794), 220445542: np.int64(207847794), 230101207: np.int64(207847794), 227231486: np.int64(207847794), 218974565: np.int64(207847794), 236145035: np.int64(207847794), 204870925: np.int64(207847794), 227231459: np.int64(207847794), 235097351: np.int64(207847794), 227230328: np.int64(207847794), 219308343: np.int64(207847794), 225063061: np.int64(207847794), 220837113: np.int64(207847794), 243864620: np.int64(207847794), 227231749: np.int64(207847794), 235716142: np.int64(207847794), 232021559: np.int64(207847794), 218974312: np.int64(207847794), 221866346: np.int64(207847794), 199022636: np.int64(207847794), 236999884: np.int64(207847794), 219303354: np.int64(207847794), 186206351: np.int64(207847794), 194705614: np.int64(207847794), 10914266: np.int64(207847794), 232021582: np.int64(207847794), 218974345: np.int64(207847794), 171470890: np.int64(207847794), 207901272: np.int64(207847794), 5109533: np.int64(207847794), 226239376: np.int64(207847794), 232021560: np.int64(207847794), 219306572: np.int64(207847794), 227230655: np.int64(207847794), 219301630: np.int64(207847794), 201684342: np.int64(207847794), 207780961: np.int64(207847794), 219302408: np.int64(207847794), 227230866: np.int64(207847794), 232765123: np.int64(207847794), 208051022: np.int64(207847794), 219302202: np.int64(207847794), 219307130: np.int64(207847794), 1220873: np.int64(207847794), 218974514: np.int64(207847794), 218974306: np.int64(207847794), 232021959: np.int64(207847794), 218974553: np.int64(207847794), 219308728: np.int64(207847794), 202735479: np.int64(207847794), 227905657: np.int64(207847794), 236486114: np.int64(207847794), 233857128: np.int64(207847794), 209549356: np.int64(207847794), 208058719: np.int64(207847794), 218973893: np.int64(207847794), 210722601: np.int64(207847794), 226239160: np.int64(207847794), 218973913: np.int64(207847794), 174800484: np.int64(207847794), 235097500: np.int64(207847794), 236486255: np.int64(207847794), 226239083: np.int64(207847794), 235097395: np.int64(207847794), 262134682: np.int64(207847794), 261341649: np.int64(207847794), 261342053: np.int64(207847794), 261354237: np.int64(207847794), 4129955: np.int64(207847794), 10034512: np.int64(207847794), 225062898: np.int64(207847794), 255775295: np.int64(207847794), 226283534: np.int64(207847794), 219305316: np.int64(207847794), 238638483: np.int64(207847794), 11956926: np.int64(207847794), 221807563: np.int64(207847794), 232021873: np.int64(207847794), 13084843: np.int64(207847794), 219310096: np.int64(207847794), 202546742: np.int64(207847794), 219300190: np.int64(207847794), 218498353: np.int64(207847794), 220445830: np.int64(207847794), 218974455: np.int64(207847794), 220446074: np.int64(207847794), 202786749: np.int64(207847794), 207985968: np.int64(207847794), 207979291: np.int64(207847794), 196177225: np.int64(207847794), 219302371: np.int64(207847794), 219301147: np.int64(207847794), 218974074: np.int64(207847794), 220834699: np.int64(207847794), 226246333: np.int64(207847794), 218974357: np.int64(207847794), 230089784: np.int64(207847794), 2655133: np.int64(207847794), 227230704: np.int64(207847794), 236460219: np.int64(207847794), 232021750: np.int64(207847794), 201070742: np.int64(207847794), 225062788: np.int64(207847794), 236486067: np.int64(207847794), 213358110: np.int64(207847794), 227231304: np.int64(207847794), 40930790: np.int64(207847794), 237055444: np.int64(207847794), 226239189: np.int64(207847794), 232404493: np.int64(207847794), 227231321: np.int64(207847794), 227230536: np.int64(207847794), 218982588: np.int64(207847794), 174799008: np.int64(207847794), 220835668: np.int64(207847794), 201678668: np.int64(207847794), 215513848: np.int64(207847794), 226283473: np.int64(207847794), 236460054: np.int64(207847794), 204793182: np.int64(207847794), 31539842: np.int64(207847794), 220837132: np.int64(207847794), 16079789: np.int64(207847794), 234904920: np.int64(207847794), 39947003: np.int64(207847794), 219301889: np.int64(207847794), 221097232: np.int64(207847794), 226226711: np.int64(207847794), 6230775: np.int64(207847794), 226300960: np.int64(207847794), 236486216: np.int64(207847794), 174804487: np.int64(207847794), 171712575: np.int64(207847794), 227231503: np.int64(207847794), 243913272: np.int64(207847794), 202779665: np.int64(207847794), 235097499: np.int64(207847794), 235097472: np.int64(207847794), 210152574: np.int64(207847794), 219309031: np.int64(207847794), 219706806: np.int64(207847794), 235729181: np.int64(207847794), 219305541: np.int64(207847794), 5294855: np.int64(207847794), 233365217: np.int64(207847794), 226283918: np.int64(207847794), 195791466: np.int64(207847794), 233364970: np.int64(207847794), 235599145: np.int64(207847794), 218974114: np.int64(207847794), 227230264: np.int64(207847794), 235097392: np.int64(207847794), 245838452: np.int64(207847794), 220835440: np.int64(207847794), 233365320: np.int64(207847794), 218974165: np.int64(207847794), 219300664: np.int64(207847794), 219310050: np.int64(207847794), 218973689: np.int64(207847794), 216848099: np.int64(207847794), 237155057: np.int64(207847794), 219304584: np.int64(207847794), 237217097: np.int64(207847794), 171901073: np.int64(207847794), 226283726: np.int64(207847794), 208291101: np.int64(207847794), 219309959: np.int64(207847794), 220273892: np.int64(207847794), 219308589: np.int64(207847794), 19275476: np.int64(207847794), 237204590: np.int64(207847794), 236460305: np.int64(207847794), 221959924: np.int64(207847794), 27806162: np.int64(207847794), 219307935: np.int64(207847794), 233364966: np.int64(207847794), 227062206: np.int64(207847794), 226283465: np.int64(207847794), 219301924: np.int64(207847794), 227231505: np.int64(207847794), 219305815: np.int64(207847794), 198936598: np.int64(207847794), 232021534: np.int64(207847794), 30552587: np.int64(207847794), 218974409: np.int64(207847794), 235097434: np.int64(207847794), 226283685: np.int64(207847794), 241583378: np.int64(207847794), 238638480: np.int64(207847794), 237366260: np.int64(207847794), 214612869: np.int64(207847794), 236999870: np.int64(207847794), 221373752: np.int64(207847794), 219310306: np.int64(207847794), 227231633: np.int64(207847794), 221373801: np.int64(207847794), 219307469: np.int64(207847794), 208089282: np.int64(207847794), 235097581: np.int64(207847794), 235097457: np.int64(207847794), 184482896: np.int64(207847794), 219308182: np.int64(207847794), 207971424: np.int64(207847794), 227231667: np.int64(207847794), 203626714: np.int64(207847794), 235097587: np.int64(207847794), 245838344: np.int64(207847794), 219310067: np.int64(207847794), 236145060: np.int64(207847794), 235097355: np.int64(207847794), 2431477: np.int64(207847794), 232021572: np.int64(207847794), 218973993: np.int64(207847794), 232021894: np.int64(207847794), 220282266: np.int64(207847794), 237217093: np.int64(207847794), 219309090: np.int64(207847794), 221513128: np.int64(207847794), 232021965: np.int64(207847794), 220444893: np.int64(207847794), 219302127: np.int64(207847794), 218974220: np.int64(207847794), 219307519: np.int64(207847794), 219308377: np.int64(207847794), 232021593: np.int64(207847794), 240155159: np.int64(207847794), 199560128: np.int64(207847794), 218977377: np.int64(207847794), 210182377: np.int64(207847794), 207915792: np.int64(207847794), 219303201: np.int64(207847794), 198973145: np.int64(207847794), 237010917: np.int64(207847794), 15527754: np.int64(207847794), 64968953: np.int64(207847794), 226283984: np.int64(207847794), 218974454: np.int64(207847794), 221373793: np.int64(207847794), 782574: np.int64(207847794), 9931676: np.int64(207847794), 227905315: np.int64(207847794), 218973933: np.int64(207847794), 235097381: np.int64(207847794), 218977370: np.int64(207847794), 218973844: np.int64(207847794), 219946528: np.int64(207847794), 225063150: np.int64(207847794), 219309887: np.int64(207847794), 219309261: np.int64(207847794), 203578405: np.int64(207847794), 227905652: np.int64(207847794), 219303170: np.int64(207847794), 227230648: np.int64(207847794), 220127602: np.int64(207847794), 231642814: np.int64(207847794), 216848261: np.int64(207847794), 226283467: np.int64(207847794), 195980807: np.int64(207847794), 208002187: np.int64(207847794), 235258257: np.int64(207847794), 241583436: np.int64(207847794), 164434668: np.int64(207847794), 219299990: np.int64(207847794), 232021950: np.int64(207847794), 226283816: np.int64(207847794), 15566715: np.int64(207847794), 237155066: np.int64(207847794), 220060484: np.int64(207847794), 226283537: np.int64(207847794), 219300591: np.int64(207847794), 220445828: np.int64(207847794), 219307739: np.int64(207847794), 221957384: np.int64(207847794), 202776664: np.int64(207847794), 184483143: np.int64(207847794), 221836228: np.int64(207847794), 218974298: np.int64(207847794), 208084430: np.int64(207847794), 198976456: np.int64(207847794), 227216910: np.int64(207847794), 236486222: np.int64(207847794), 261341894: np.int64(207847794), 652035: np.int64(207847794), 219301705: np.int64(207847794), 6880755: np.int64(207847794), 239020539: np.int64(207847794), 203690693: np.int64(207847794), 221373826: np.int64(207847794), 220284307: np.int64(207847794), 171895820: np.int64(207847794), 231643133: np.int64(207847794), 219307948: np.int64(207847794), 193453169: np.int64(207847794), 235097267: np.int64(207847794), 218974481: np.int64(207847794), 241583654: np.int64(207847794), 8968727: np.int64(207847794), 233364959: np.int64(207847794), 235258260: np.int64(207847794), 218977420: np.int64(207847794), 219301817: np.int64(207847794), 208163741: np.int64(207847794), 227905932: np.int64(207847794), 15612777: np.int64(207847794), 232021931: np.int64(207847794), 227230529: np.int64(207847794), 226283481: np.int64(207847794), 227230656: np.int64(207847794), 219310237: np.int64(207847794), 222291004: np.int64(207847794), 199379627: np.int64(207847794), 238638449: np.int64(207847794), 209442236: np.int64(207847794), 232021530: np.int64(207847794), 218974020: np.int64(207847794), 220061061: np.int64(207847794), 12428822: np.int64(207847794), 220060893: np.int64(207847794), 243864627: np.int64(207847794), 219307326: np.int64(207847794), 218974449: np.int64(207847794), 227231442: np.int64(207847794), 237155055: np.int64(207847794), 8890967: np.int64(207847794), 218974113: np.int64(207847794), 204972283: np.int64(207847794), 232021537: np.int64(207847794), 184483866: np.int64(207847794), 219309696: np.int64(207847794), 232220911: np.int64(207847794), 5319159: np.int64(207847794), 232021707: np.int64(207847794), 219302092: np.int64(207847794), 219307528: np.int64(207847794), 220446124: np.int64(207847794), 208176302: np.int64(207847794), 241583530: np.int64(207847794), 17336273: np.int64(207847794), 59702952: np.int64(207847794), 236486078: np.int64(207847794), 219308158: np.int64(207847794), 219310333: np.int64(207847794), 193806094: np.int64(207847794), 2022940: np.int64(207847794), 235097356: np.int64(207847794), 21051770: np.int64(207847794), 220446105: np.int64(207847794), 218974069: np.int64(207847794), 44726488: np.int64(207847794), 6931523: np.int64(207847794), 238638491: np.int64(207847794), 219301217: np.int64(207847794), 226262226: np.int64(207847794), 218973736: np.int64(207847794), 227217672: np.int64(207847794), 232021551: np.int64(207847794), 218974115: np.int64(207847794), 218974089: np.int64(207847794), 199554025: np.int64(207847794), 218974382: np.int64(207847794), 241583356: np.int64(207847794), 13209280: np.int64(207847794), 8411711: np.int64(207847794), 201686262: np.int64(207847794), 227231079: np.int64(207847794), 232021685: np.int64(207847794), 226262172: np.int64(207847794), 236486203: np.int64(207847794), 219306899: np.int64(207847794), 226283439: np.int64(207847794), 218974518: np.int64(207847794), 219302979: np.int64(207847794), 10040132: np.int64(207847794), 218498970: np.int64(207847794), 238251641: np.int64(207847794), 35284538: np.int64(207847794), 218974162: np.int64(207847794), 219310328: np.int64(207847794), 14276458: np.int64(207847794), 210936494: np.int64(207847794), 237155065: np.int64(207847794), 232021926: np.int64(207847794), 219187362: np.int64(207847794), 226283841: np.int64(207847794), 236486148: np.int64(207847794), 219300549: np.int64(207847794), 9374715: np.int64(207847794), 13963354: np.int64(207847794), 234487186: np.int64(207847794), 236459899: np.int64(207847794), 36435387: np.int64(207847794), 192467293: np.int64(207847794), 207940193: np.int64(207847794), 226283850: np.int64(207847794), 202768765: np.int64(207847794), 219301024: np.int64(207847794), 219305028: np.int64(207847794), 232227161: np.int64(207847794), 219302058: np.int64(207847794), 190000717: np.int64(207847794), 30545201: np.int64(207847794), 199535632: np.int64(207847794), 232021840: np.int64(207847794), 219302499: np.int64(207847794), 237055477: np.int64(207847794), 218974197: np.int64(207847794), 244079173: np.int64(207847794), 226262271: np.int64(207847794), 219307558: np.int64(207847794), 236179524: np.int64(207847794), 219305524: np.int64(207847794), 227230889: np.int64(207847794), 220445628: np.int64(207847794), 239020541: np.int64(207847794), 236486199: np.int64(207847794), 235075845: np.int64(207847794), 219300571: np.int64(207847794), 218974132: np.int64(207847794), 227231877: np.int64(207847794), 184483171: np.int64(207847794), 219306764: np.int64(207847794), 219301812: np.int64(207847794), 219301548: np.int64(207847794), 13941293: np.int64(207847794), 222444321: np.int64(207847794), 232021704: np.int64(207847794), 226283665: np.int64(207847794), 233189626: np.int64(207847794), 244464126: np.int64(207847794), 218974315: np.int64(207847794), 221373802: np.int64(207847794), 192762604: np.int64(207847794), 237217078: np.int64(207847794), 219301382: np.int64(207847794), 227230695: np.int64(207847794), 236534763: np.int64(207847794), 219307597: np.int64(207847794), 165085225: np.int64(207847794), 218973987: np.int64(207847794), 208263649: np.int64(207847794), 232021879: np.int64(207847794), 237099278: np.int64(207847794), 185216415: np.int64(207847794), 219307081: np.int64(207847794), 226239332: np.int64(207847794), 219301407: np.int64(207847794), 235097477: np.int64(207847794), 227230352: np.int64(207847794), 227231111: np.int64(207847794), 220446394: np.int64(207847794), 34701527: np.int64(207847794), 237099300: np.int64(207847794), 202776399: np.int64(207847794), 219306282: np.int64(207847794), 218974100: np.int64(207847794), 232021608: np.int64(207847794), 219309888: np.int64(207847794), 219300577: np.int64(207847794), 219309715: np.int64(207847794), 199536981: np.int64(207847794), 245279385: np.int64(207847794), 220058150: np.int64(207847794), 219185020: np.int64(207847794), 233189555: np.int64(207847794), 218973821: np.int64(207847794), 235729173: np.int64(207847794), 164936286: np.int64(207847794), 245838382: np.int64(207847794), 202714853: np.int64(207847794), 19900387: np.int64(207847794), 219304202: np.int64(207847794), 194737667: np.int64(207847794), 14623822: np.int64(207847794), 220060433: np.int64(207847794), 219302534: np.int64(207847794), 169925089: np.int64(207847794), 219942256: np.int64(207847794), 234487205: np.int64(207847794), 219310114: np.int64(207847794), 227230317: np.int64(207847794), 219310340: np.int64(207847794), 221615962: np.int64(207847794), 196198761: np.int64(207847794), 192683141: np.int64(207847794), 9974904: np.int64(207847794), 33553011: np.int64(207847794), 219307367: np.int64(207847794), 236145074: np.int64(207847794), 219305357: np.int64(207847794), 220274839: np.int64(207847794), 220445946: np.int64(207847794), 237155008: np.int64(207847794), 219300797: np.int64(207847794), 236917226: np.int64(207847794), 13907505: np.int64(207847794), 220058301: np.int64(207847794), 219300736: np.int64(207847794), 229365707: np.int64(207847794), 226283646: np.int64(207847794), 201741796: np.int64(207847794), 236486302: np.int64(207847794), 209380500: np.int64(207847794), 221373750: np.int64(207847794), 222315141: np.int64(207847794), 227231322: np.int64(207847794), 226283741: np.int64(207847794), 222140880: np.int64(207847794), 235097617: np.int64(207847794), 234345307: np.int64(207847794), 243838303: np.int64(207847794), 227905467: np.int64(207847794), 219306906: np.int64(207847794), 199379379: np.int64(207847794), 199022622: np.int64(207847794), 219260876: np.int64(207847794), 199022644: np.int64(207847794), 225047057: np.int64(207847794), 198309202: np.int64(207847794), 261348769: np.int64(207847794), 46694306: np.int64(207847794), 202765990: np.int64(207847794), 28882385: np.int64(207847794), 27299562: np.int64(207847794), 261341582: np.int64(207847794), 35229587: np.int64(207847794), 1977730: np.int64(207847794), 5977382: np.int64(207847794), 219300891: np.int64(207847794), 216562664: np.int64(207847794), 255775297: np.int64(207847794), 252763324: np.int64(207847794), 257985711: np.int64(207847794), 232021727: np.int64(207847794), 31893013: np.int64(207847794), 226283886: np.int64(207847794), 236179535: np.int64(207847794), 220837135: np.int64(207847794), 226283910: np.int64(207847794), 232021581: np.int64(207847794), 219952725: np.int64(207847794), 218974450: np.int64(207847794), 218973740: np.int64(207847794), 218974346: np.int64(207847794), 234224285: np.int64(207847794), 15235222: np.int64(207847794), 252186401: np.int64(207847794), 227230437: np.int64(207847794), 219305034: np.int64(207847794), 226283991: np.int64(207847794), 219299822: np.int64(207847794), 171317628: np.int64(207847794), 218973845: np.int64(207847794), 468053: np.int64(207847794), 9961270: np.int64(207847794), 13390653: np.int64(207847794), 225062634: np.int64(207847794), 235097648: np.int64(207847794), 218974140: np.int64(207847794), 232021618: np.int64(207847794), 233189580: np.int64(207847794), 218487432: np.int64(207847794), 220330818: np.int64(207847794), 227231127: np.int64(207847794), 216847731: np.int64(207847794), 227209233: np.int64(207847794), 237155032: np.int64(207847794), 2771818: np.int64(207847794), 219305929: np.int64(207847794), 219302391: np.int64(207847794), 218973860: np.int64(207847794), 219306772: np.int64(207847794), 170728048: np.int64(207847794), 28821000: np.int64(207847794), 219946512: np.int64(207847794), 218974112: np.int64(207847794), 235097258: np.int64(207847794), 237155028: np.int64(207847794), 226239288: np.int64(207847794), 232021865: np.int64(207847794), 218973698: np.int64(207847794), 218681433: np.int64(207847794), 245838271: np.int64(207847794), 219308588: np.int64(207847794), 236486102: np.int64(207847794), 29452235: np.int64(207847794), 8063366: np.int64(207847794), 232021588: np.int64(207847794), 218974311: np.int64(207847794), 13909099: np.int64(207847794), 226283721: np.int64(207847794), 235097255: np.int64(207847794), 201678238: np.int64(207847794), 218974479: np.int64(207847794), 237204601: np.int64(207847794), 245838282: np.int64(207847794), 191936713: np.int64(207847794), 232021739: np.int64(207847794), 233365314: np.int64(207847794), 232021662: np.int64(207847794), 208222790: np.int64(207847794), 237365343: np.int64(207847794), 227230479: np.int64(207847794), 1105503: np.int64(207847794), 227231596: np.int64(207847794), 218574394: np.int64(207847794), 218973826: np.int64(207847794), 217770241: np.int64(207847794), 7070844: np.int64(207847794), 220330799: np.int64(207847794), 232021790: np.int64(207847794), 27497342: np.int64(207847794), 236486154: np.int64(207847794), 221749132: np.int64(207847794), 203144898: np.int64(207847794), 218973942: np.int64(207847794), 233365110: np.int64(207847794), 218973892: np.int64(207847794), 220445780: np.int64(207847794), 227230469: np.int64(207847794), 221399281: np.int64(207847794), 219307340: np.int64(207847794), 219307546: np.int64(207847794), 218973888: np.int64(207847794), 218977384: np.int64(207847794), 215800828: np.int64(207847794), 193739755: np.int64(207847794), 218502209: np.int64(207847794), 164769049: np.int64(207847794), 219306872: np.int64(207847794), 236486240: np.int64(207847794), 233367449: np.int64(207847794), 17364080: np.int64(207847794), 220445870: np.int64(207847794), 41135817: np.int64(207847794), 194761605: np.int64(207847794), 209536752: np.int64(207847794), 227230422: np.int64(207847794), 219308302: np.int64(207847794), 227230336: np.int64(207847794), 235097644: np.int64(207847794), 235097550: np.int64(207847794), 202766392: np.int64(207847794), 199379445: np.int64(207847794), 244464100: np.int64(207847794), 219300526: np.int64(207847794), 219302044: np.int64(207847794), 229365688: np.int64(207847794), 219305994: np.int64(207847794), 219308353: np.int64(207847794), 215828384: np.int64(207847794), 184483318: np.int64(207847794), 229365648: np.int64(207847794), 220445933: np.int64(207847794), 219303034: np.int64(207847794), 10519568: np.int64(207847794), 233189523: np.int64(207847794), 232765126: np.int64(207847794), 218974417: np.int64(207847794), 219302878: np.int64(207847794), 235097339: np.int64(207847794), 225062629: np.int64(207847794), 195348815: np.int64(207847794), 218914400: np.int64(207847794), 219308553: np.int64(207847794), 232021679: np.int64(207847794), 233404342: np.int64(207847794), 218974338: np.int64(207847794), 203353939: np.int64(207847794), 46263969: np.int64(207847794), 236486083: np.int64(207847794), 192563022: np.int64(207847794), 219303773: np.int64(207847794), 237055441: np.int64(207847794), 202588978: np.int64(207847794), 218974457: np.int64(207847794), 222185471: np.int64(207847794), 18435135: np.int64(207847794), 226239345: np.int64(207847794), 219302120: np.int64(207847794), 218974236: np.int64(207847794), 232021553: np.int64(207847794), 219300976: np.int64(207847794), 227231050: np.int64(207847794), 236778536: np.int64(207847794), 195743144: np.int64(207847794), 236486282: np.int64(207847794), 198977064: np.int64(207847794), 219305698: np.int64(207847794), 219309321: np.int64(207847794), 236534770: np.int64(207847794), 216642004: np.int64(207847794), 219310248: np.int64(207847794), 233189605: np.int64(207847794), 219127954: np.int64(207847794), 194137051: np.int64(207847794), 226227704: np.int64(207847794), 199669003: np.int64(207847794), 227905191: np.int64(207847794), 207992210: np.int64(207847794), 231642305: np.int64(207847794), 220050403: np.int64(207847794), 232021724: np.int64(207847794), 171158641: np.int64(207847794), 219308194: np.int64(207847794), 219302452: np.int64(207847794), 199022701: np.int64(207847794), 216052255: np.int64(207847794), 199379528: np.int64(207847794), 21687228: np.int64(207847794), 219309265: np.int64(207847794), 232021529: np.int64(207847794), 17695482: np.int64(207847794), 232021526: np.int64(207847794), 219310298: np.int64(207847794), 218974265: np.int64(207847794), 218973756: np.int64(207847794), 219307784: np.int64(207847794), 184483028: np.int64(207847794), 171883326: np.int64(207847794), 171675575: np.int64(207847794), 219303336: np.int64(207847794), 194679790: np.int64(207847794), 199232691: np.int64(207847794), 233365239: np.int64(207847794), 221097286: np.int64(207847794), 236477967: np.int64(207847794), 235097358: np.int64(207847794), 236486304: np.int64(207847794), 214194565: np.int64(207847794), 235097680: np.int64(207847794), 218973813: np.int64(207847794), 234347351: np.int64(207847794), 220837136: np.int64(207847794), 185024671: np.int64(207847794), 235258247: np.int64(207847794), 210705779: np.int64(207847794), 232021829: np.int64(207847794), 237433757: np.int64(207847794), 219303943: np.int64(207847794), 1947939: np.int64(207847794), 227231781: np.int64(207847794), 226283673: np.int64(207847794), 237010897: np.int64(207847794), 227231569: np.int64(207847794), 218973974: np.int64(207847794), 226283997: np.int64(207847794), 199569853: np.int64(207847794), 227230597: np.int64(207847794), 232021785: np.int64(207847794), 220445868: np.int64(207847794), 218973804: np.int64(207847794), 219300115: np.int64(207847794), 220835111: np.int64(207847794), 236144996: np.int64(207847794), 5968454: np.int64(207847794), 233365259: np.int64(207847794), 220058760: np.int64(207847794), 219305836: np.int64(207847794), 226283851: np.int64(207847794), 210722242: np.int64(207847794), 219309172: np.int64(207847794), 207992807: np.int64(207847794), 219303706: np.int64(207847794), 208049931: np.int64(207847794), 219310323: np.int64(207847794), 220060028: np.int64(207847794), 216050036: np.int64(207847794), 219307730: np.int64(207847794), 241583171: np.int64(207847794), 221373763: np.int64(207847794), 236477578: np.int64(207847794), 238638481: np.int64(207847794), 201721191: np.int64(207847794), 236779167: np.int64(207847794), 204872183: np.int64(207847794), 199379806: np.int64(207847794), 219303111: np.int64(207847794), 219307644: np.int64(207847794), 231821648: np.int64(207847794), 235127325: np.int64(207847794), 227230560: np.int64(207847794), 227298460: np.int64(207847794), 233189568: np.int64(207847794), 219303767: np.int64(207847794), 237055459: np.int64(207847794), 221097905: np.int64(207847794), 226282536: np.int64(207847794), 199379482: np.int64(207847794), 235716145: np.int64(207847794), 227230700: np.int64(207847794), 219308387: np.int64(207847794), 237055470: np.int64(207847794), 40056783: np.int64(207847794), 225062818: np.int64(207847794), 218973723: np.int64(207847794), 225063190: np.int64(207847794), 211850025: np.int64(207847794), 210063177: np.int64(207847794), 202715902: np.int64(207847794), 220445766: np.int64(207847794), 195854926: np.int64(207847794), 232021749: np.int64(207847794), 220331673: np.int64(207847794), 226239180: np.int64(207847794), 238638450: np.int64(207847794), 232021867: np.int64(207847794), 218974260: np.int64(207847794), 237217081: np.int64(207847794), 226284016: np.int64(207847794), 225063169: np.int64(207847794), 261341767: np.int64(207847794), 261341860: np.int64(207847794), 261341913: np.int64(207847794), 261348931: np.int64(207847794), 63169351: np.int64(207847794), 18312340: np.int64(207847794), 248069343: np.int64(207847794), 225063092: np.int64(207847794), 570036: np.int64(207847794), 237509: np.int64(207847794), 22643306: np.int64(207847794), 237099287: np.int64(207847794), 219307726: np.int64(207847794), 235097621: np.int64(207847794), 252763327: np.int64(207847794), 224793541: np.int64(207847794), 219308416: np.int64(207847794), 253628209: np.int64(207847794), 211005745: np.int64(207847794), 219306051: np.int64(207847794), 237099298: np.int64(207847794), 232021932: np.int64(207847794), 214802675: np.int64(207847794), 2722352: np.int64(207847794), 212476: np.int64(207847794), 237204592: np.int64(207847794), 2443354: np.int64(207847794), 18504772: np.int64(207847794), 2233127: np.int64(207847794), 195345550: np.int64(207847794), 219302149: np.int64(207847794), 225062811: np.int64(207847794), 164769600: np.int64(207847794), 235097656: np.int64(207847794), 219300563: np.int64(207847794), 216637309: np.int64(207847794), 219310090: np.int64(207847794), 204783569: np.int64(207847794), 237381869: np.int64(207847794), 199379636: np.int64(207847794), 33261735: np.int64(207847794), 236460327: np.int64(207847794), 208058111: np.int64(207847794), 218973941: np.int64(207847794), 218974079: np.int64(207847794), 236145034: np.int64(207847794), 218974290: np.int64(207847794), 216103241: np.int64(207847794), 207780212: np.int64(207847794), 236145115: np.int64(207847794), 219306179: np.int64(207847794), 227230574: np.int64(207847794), 218974153: np.int64(207847794), 215964824: np.int64(207847794), 164824910: np.int64(207847794), 218973807: np.int64(207847794), 219302964: np.int64(207847794), 218974227: np.int64(207847794), 237155043: np.int64(207847794), 37653771: np.int64(207847794), 227216971: np.int64(207847794), 218974154: np.int64(207847794), 186206852: np.int64(207847794), 218973749: np.int64(207847794), 219306246: np.int64(207847794), 207994569: np.int64(207847794), 219304048: np.int64(207847794), 238638487: np.int64(207847794), 40050579: np.int64(207847794), 237366380: np.int64(207847794), 219306493: np.int64(207847794), 237155064: np.int64(207847794), 232021827: np.int64(207847794), 219302818: np.int64(207847794), 17556860: np.int64(207847794), 226283565: np.int64(207847794), 207914079: np.int64(207847794), 204954289: np.int64(207847794), 219301549: np.int64(207847794), 240155163: np.int64(207847794), 233365365: np.int64(207847794), 226283826: np.int64(207847794), 9188284: np.int64(207847794), 226239212: np.int64(207847794), 199569226: np.int64(207847794), 1223489: np.int64(207847794), 252763340: np.int64(207847794), 232021775: np.int64(207847794), 218973951: np.int64(207847794), 219309499: np.int64(207847794), 221957644: np.int64(207847794), 227231110: np.int64(207847794), 227231487: np.int64(207847794), 208028621: np.int64(207847794), 204949712: np.int64(207847794), 219306775: np.int64(207847794), 202630672: np.int64(207847794), 232021944: np.int64(207847794), 232021512: np.int64(207847794), 219308619: np.int64(207847794), 219306325: np.int64(207847794), 218974432: np.int64(207847794), 236534774: np.int64(207847794), 218692901: np.int64(207847794), 219309069: np.int64(207847794), 43877955: np.int64(207847794), 207911140: np.int64(207847794), 233364943: np.int64(207847794), 187220270: np.int64(207847794), 226283786: np.int64(207847794), 235258275: np.int64(207847794), 219646474: np.int64(207847794), 169707147: np.int64(207847794), 17965647: np.int64(207847794), 233365329: np.int64(207847794), 226278354: np.int64(207847794), 199022533: np.int64(207847794), 235097252: np.int64(207847794), 218974512: np.int64(207847794), 218645940: np.int64(207847794), 226239003: np.int64(207847794), 235097326: np.int64(207847794), 244077682: np.int64(207847794), 235097226: np.int64(207847794), 220061125: np.int64(207847794), 176227592: np.int64(207847794), 219304873: np.int64(207847794), 227217079: np.int64(207847794), 219300900: np.int64(207847794), 208057534: np.int64(207847794), 218974440: np.int64(207847794), 218973842: np.int64(207847794), 229363334: np.int64(207847794), 232021801: np.int64(207847794), 226239157: np.int64(207847794), 237155041: np.int64(207847794), 221097304: np.int64(207847794), 219303974: np.int64(207847794), 232021946: np.int64(207847794), 207913145: np.int64(207847794), 12160909: np.int64(207847794), 235097601: np.int64(207847794), 245838321: np.int64(207847794), 218973685: np.int64(207847794), 171869055: np.int64(207847794), 174801018: np.int64(207847794), 219308586: np.int64(207847794), 219307129: np.int64(207847794), 221373787: np.int64(207847794), 232021733: np.int64(207847794), 219310351: np.int64(207847794), 235097513: np.int64(207847794), 236917229: np.int64(207847794), 218974040: np.int64(207847794), 236778625: np.int64(207847794), 26911521: np.int64(207847794), 199522954: np.int64(207847794), 219304859: np.int64(207847794), 235097521: np.int64(207847794), 195352401: np.int64(207847794), 226227493: np.int64(207847794), 220446023: np.int64(207847794), 226283689: np.int64(207847794), 219306621: np.int64(207847794), 209387582: np.int64(207847794), 199379301: np.int64(207847794), 227231397: np.int64(207847794), 237055458: np.int64(207847794), 210722720: np.int64(207847794), 236478021: np.int64(207847794), 201627050: np.int64(207847794), 219306343: np.int64(207847794), 219306527: np.int64(207847794), 227230503: np.int64(207847794), 219301609: np.int64(207847794), 218973820: np.int64(207847794), 219929459: np.int64(207847794), 219310085: np.int64(207847794), 218604523: np.int64(207847794), 219301141: np.int64(207847794), 219304310: np.int64(207847794), 195352138: np.int64(207847794), 220047819: np.int64(207847794), 232021937: np.int64(207847794), 6311174: np.int64(207847794), 226283895: np.int64(207847794), 235097610: np.int64(207847794), 227230623: np.int64(207847794), 393794: np.int64(207847794), 219299733: np.int64(207847794), 203691777: np.int64(207847794), 220445746: np.int64(207847794), 227905376: np.int64(207847794), 209061054: np.int64(207847794), 226283962: np.int64(207847794), 202577368: np.int64(207847794), 232021502: np.int64(207847794), 235127359: np.int64(207847794), 42483078: np.int64(207847794), 187484830: np.int64(207847794), 219306423: np.int64(207847794), 227230346: np.int64(207847794), 207916357: np.int64(207847794), 169442711: np.int64(207847794), 232021866: np.int64(207847794), 227905661: np.int64(207847794), 194744279: np.int64(207847794), 226283435: np.int64(207847794), 226236800: np.int64(207847794), 237099279: np.int64(207847794), 232021771: np.int64(207847794), 219309560: np.int64(207847794), 227231414: np.int64(207847794), 227231283: np.int64(207847794), 227905459: np.int64(207847794), 226283596: np.int64(207847794), 219306526: np.int64(207847794), 232021610: np.int64(207847794), 219301753: np.int64(207847794), 170929855: np.int64(207847794), 227230426: np.int64(207847794), 235097323: np.int64(207847794), 218974293: np.int64(207847794), 165175322: np.int64(207847794), 218973890: np.int64(207847794), 233365159: np.int64(207847794), 218973955: np.int64(207847794), 833969: np.int64(207847794), 227230668: np.int64(207847794), 174799881: np.int64(207847794), 218974524: np.int64(207847794), 227231529: np.int64(207847794), 219304499: np.int64(207847794), 169730895: np.int64(207847794), 232021684: np.int64(207847794), 169983371: np.int64(207847794), 226283548: np.int64(207847794), 219309348: np.int64(207847794), 219930595: np.int64(207847794), 169508849: np.int64(207847794), 219301054: np.int64(207847794), 234487207: np.int64(207847794), 232021695: np.int64(207847794), 226307749: np.int64(207847794), 220445691: np.int64(207847794), 232021919: np.int64(207847794), 214704944: np.int64(207847794), 232021901: np.int64(207847794), 227230837: np.int64(207847794), 261341689: np.int64(207847794), 11846686: np.int64(207847794), 218499405: np.int64(207847794), 15369508: np.int64(207847794), 219299759: np.int64(207847794), 252763331: np.int64(207847794), 219308126: np.int64(207847794), 233365229: np.int64(207847794), 219301186: np.int64(207847794), 237155054: np.int64(207847794), 219307358: np.int64(207847794), 219302428: np.int64(207847794), 219309754: np.int64(207847794), 219309905: np.int64(207847794), 5850962: np.int64(207847794), 227230637: np.int64(207847794), 2083111: np.int64(207847794), 235097383: np.int64(207847794), 3194221: np.int64(207847794), 219305999: np.int64(207847794), 227230588: np.int64(207847794), 225062842: np.int64(207847794), 184483247: np.int64(207847794), 232021590: np.int64(207847794), 580138: np.int64(207847794), 220057191: np.int64(207847794), 237261515: np.int64(207847794), 218974124: np.int64(207847794), 2286839: np.int64(207847794), 218974489: np.int64(207847794), 226283950: np.int64(207847794), 208163973: np.int64(207847794), 14417375: np.int64(207847794), 236486161: np.int64(207847794), 42507452: np.int64(207847794), 208322395: np.int64(207847794), 219304179: np.int64(207847794), 233365185: np.int64(207847794), 161546596: np.int64(207847794), 232021578: np.int64(207847794), 171149655: np.int64(207847794), 236477541: np.int64(207847794), 233365334: np.int64(207847794), 227230616: np.int64(207847794), 245838228: np.int64(207847794), 16714972: np.int64(207847794), 219308171: np.int64(207847794), 207863217: np.int64(207847794), 15846416: np.int64(207847794), 8352285: np.int64(207847794), 184483165: np.int64(207847794), 218973991: np.int64(207847794), 220446278: np.int64(207847794), 227231092: np.int64(207847794), 60467791: np.int64(207847794), 212614297: np.int64(207847794), 220058555: np.int64(207847794), 227231167: np.int64(207847794), 231709863: np.int64(207847794), 208332402: np.int64(207847794), 237434429: np.int64(207847794), 207599786: np.int64(207847794), 237365359: np.int64(207847794), 232021997: np.int64(207847794), 227230608: np.int64(207847794), 219308613: np.int64(207847794), 219305200: np.int64(207847794), 207986820: np.int64(207847794), 237010895: np.int64(207847794), 219966835: np.int64(207847794), 234364716: np.int64(207847794), 236478348: np.int64(207847794), 235400228: np.int64(207847794), 239890012: np.int64(207847794), 16284981: np.int64(207847794), 24757336: np.int64(207847794), 198905491: np.int64(207847794), 219307135: np.int64(207847794), 235097603: np.int64(207847794), 219300194: np.int64(207847794), 224704480: np.int64(207847794), 238251630: np.int64(207847794), 220835257: np.int64(207847794), 219309479: np.int64(207847794), 218497742: np.int64(207847794), 218974551: np.int64(207847794), 235599186: np.int64(207847794), 235097619: np.int64(207847794), 219309594: np.int64(207847794), 219301982: np.int64(207847794), 232021999: np.int64(207847794), 218974192: np.int64(207847794), 232765108: np.int64(207847794), 219925195: np.int64(207847794), 233189624: np.int64(207847794), 218974418: np.int64(207847794), 209079074: np.int64(207847794), 219225036: np.int64(207847794), 237365389: np.int64(207847794), 220446080: np.int64(207847794), 14172450: np.int64(207847794), 227905323: np.int64(207847794), 169482818: np.int64(207847794), 232021823: np.int64(207847794), 230102950: np.int64(207847794), 6914363: np.int64(207847794), 226239067: np.int64(207847794), 219308395: np.int64(207847794), 193561415: np.int64(207847794), 233365359: np.int64(207847794), 201741377: np.int64(207847794), 1170238: np.int64(207847794), 226283724: np.int64(207847794), 221373810: np.int64(207847794), 225063107: np.int64(207847794), 218974050: np.int64(207847794), 229365678: np.int64(207847794), 229938777: np.int64(207847794), 218973836: np.int64(207847794), 59336740: np.int64(207847794), 235097330: np.int64(207847794), 209387585: np.int64(207847794), 226283810: np.int64(207847794), 225062646: np.int64(207847794), 227230389: np.int64(207847794), 221984141: np.int64(207847794), 236145001: np.int64(207847794), 14473260: np.int64(207847794), 227905381: np.int64(207847794), 219307108: np.int64(207847794), 173188653: np.int64(207847794), 226283976: np.int64(207847794), 235097295: np.int64(207847794), 212628328: np.int64(207847794), 232021705: np.int64(207847794), 233365065: np.int64(207847794), 236145022: np.int64(207847794), 209319301: np.int64(207847794), 227231808: np.int64(207847794), 229365752: np.int64(207847794), 226283523: np.int64(207847794), 218974291: np.int64(207847794), 245279386: np.int64(207847794), 219300157: np.int64(207847794), 218974055: np.int64(207847794), 210936483: np.int64(207847794), 227230582: np.int64(207847794), 218973714: np.int64(207847794), 231642973: np.int64(207847794), 235599117: np.int64(207847794), 207910043: np.int64(207847794), 208784253: np.int64(207847794), 218665402: np.int64(207847794), 7334502: np.int64(207847794), 219308391: np.int64(207847794), 236917227: np.int64(207847794), 202892199: np.int64(207847794), 215800823: np.int64(207847794), 219299756: np.int64(207847794), 221928257: np.int64(207847794), 226283666: np.int64(207847794), 208332415: np.int64(207847794), 164643185: np.int64(207847794), 227905378: np.int64(207847794), 207997102: np.int64(207847794), 227230670: np.int64(207847794), 236486311: np.int64(207847794), 218973806: np.int64(207847794), 227217658: np.int64(207847794), 233429874: np.int64(207847794), 218681881: np.int64(207847794), 232021917: np.int64(207847794), 227231828: np.int64(207847794), 219966792: np.int64(207847794), 233364974: np.int64(207847794), 227905573: np.int64(207847794), 232021835: np.int64(207847794), 227231870: np.int64(207847794), 226283954: np.int64(207847794), 237366189: np.int64(207847794), 211572872: np.int64(207847794), 227231572: np.int64(207847794), 3198964: np.int64(207847794), 226283829: np.int64(207847794), 192834212: np.int64(207847794), 218973965: np.int64(207847794), 232021678: np.int64(207847794), 236999923: np.int64(207847794), 239890008: np.int64(207847794), 52872375: np.int64(207847794), 233365287: np.int64(207847794), 232021951: np.int64(207847794), 194149073: np.int64(207847794), 232021831: np.int64(207847794), 201646791: np.int64(207847794), 241852450: np.int64(207847794), 213348459: np.int64(207847794), 219920944: np.int64(207847794), 195742086: np.int64(207847794), 229365877: np.int64(207847794), 231740638: np.int64(207847794), 209377072: np.int64(207847794), 18956718: np.int64(207847794), 237217085: np.int64(207847794), 235097539: np.int64(207847794), 46192911: np.int64(207847794), 233365312: np.int64(207847794), 225063146: np.int64(207847794), 236459785: np.int64(207847794), 207905156: np.int64(207847794), 227230652: np.int64(207847794), 219302664: np.int64(207847794), 41302632: np.int64(207847794), 45407858: np.int64(207847794), 202541526: np.int64(207847794), 219299767: np.int64(207847794), 19042231: np.int64(207847794), 237217076: np.int64(207847794), 218974254: np.int64(207847794), 219965980: np.int64(207847794), 237055463: np.int64(207847794), 199379838: np.int64(207847794), 238251631: np.int64(207847794), 219306647: np.int64(207847794), 235097493: np.int64(207847794), 219309857: np.int64(207847794), 219302897: np.int64(207847794), 232021682: np.int64(207847794), 208331145: np.int64(207847794), 235097572: np.int64(207847794), 218977357: np.int64(207847794), 232021594: np.int64(207847794), 220060553: np.int64(207847794), 219310196: np.int64(207847794), 237217088: np.int64(207847794), 218973931: np.int64(207847794), 218973938: np.int64(207847794), 209074514: np.int64(207847794), 218977402: np.int64(207847794), 198166008: np.int64(207847794), 218974185: np.int64(207847794), 219307927: np.int64(207847794), 219307929: np.int64(207847794), 199022725: np.int64(207847794), 237055431: np.int64(207847794), 236486228: np.int64(207847794), 226284014: np.int64(207847794), 202565723: np.int64(207847794), 201639847: np.int64(207847794), 219300713: np.int64(207847794), 219308359: np.int64(207847794), 224803669: np.int64(207847794), 171836527: np.int64(207847794), 53235272: np.int64(207847794), 220284290: np.int64(207847794), 227230572: np.int64(207847794), 219304883: np.int64(207847794), 218973772: np.int64(207847794), 227231107: np.int64(207847794), 225062880: np.int64(207847794), 227231863: np.int64(207847794), 221373737: np.int64(207847794), 235097244: np.int64(207847794), 261341908: np.int64(207847794), 261342047: np.int64(207847794), 261353702: np.int64(207847794), 261342100: np.int64(207847794), 261341893: np.int64(207847794), 45404405: np.int64(207847794), 227231588: np.int64(207847794), 232021816: np.int64(207847794), 255775279: np.int64(207847794), 1428985: np.int64(207847794), 45718261: np.int64(207847794), 2350090: np.int64(207847794), 219310301: np.int64(207847794), 204896994: np.int64(207847794), 219310139: np.int64(207847794), 237155073: np.int64(207847794), 237365387: np.int64(207847794), 232021584: np.int64(207847794), 236459815: np.int64(207847794), 219310229: np.int64(207847794), 2710329: np.int64(207847794), 220331287: np.int64(207847794), 219308139: np.int64(207847794), 245838246: np.int64(207847794), 2951450: np.int64(207847794), 219308354: np.int64(207847794), 219310331: np.int64(207847794), 27678321: np.int64(207847794), 218977366: np.int64(207847794), 196209097: np.int64(207847794), 19428320: np.int64(207847794), 218973889: np.int64(207847794), 252763326: np.int64(207847794), 227905147: np.int64(207847794), 219308104: np.int64(207847794), 11779288: np.int64(207847794), 13631598: np.int64(207847794), 219310315: np.int64(207847794), 226239182: np.int64(207847794), 220835438: np.int64(207847794), 218974129: np.int64(207847794), 219309699: np.int64(207847794), 236459943: np.int64(207847794), 233364954: np.int64(207847794), 235097331: np.int64(207847794), 236534755: np.int64(207847794), 236999911: np.int64(207847794), 2970935: np.int64(207847794), 220445910: np.int64(207847794), 195064048: np.int64(207847794), 14643838: np.int64(207847794), 220066246: np.int64(207847794), 237558743: np.int64(207847794), 218974385: np.int64(207847794), 199379707: np.int64(207847794), 192295076: np.int64(207847794), 218973814: np.int64(207847794), 229365764: np.int64(207847794), 245838234: np.int64(207847794), 219306140: np.int64(207847794), 232021800: np.int64(207847794), 171599590: np.int64(207847794), 218628841: np.int64(207847794), 12178744: np.int64(207847794), 210722060: np.int64(207847794), 227231143: np.int64(207847794), 235097583: np.int64(207847794), 227230448: np.int64(207847794), 227217132: np.int64(207847794), 227231427: np.int64(207847794), 202677370: np.int64(207847794), 29258551: np.int64(207847794), 218977362: np.int64(207847794), 226283680: np.int64(207847794), 232021824: np.int64(207847794), 194718832: np.int64(207847794), 227231571: np.int64(207847794), 231416: np.int64(207847794), 221373808: np.int64(207847794), 227905391: np.int64(207847794), 235097254: np.int64(207847794), 219310079: np.int64(207847794), 219301417: np.int64(207847794), 218628764: np.int64(207847794), 220882584: np.int64(207847794), 252763282: np.int64(207847794), 219305768: np.int64(207847794), 236999925: np.int64(207847794), 195873944: np.int64(207847794), 219308968: np.int64(207847794), 204792346: np.int64(207847794), 235599621: np.int64(207847794), 227230883: np.int64(207847794), 226283576: np.int64(207847794), 219308333: np.int64(207847794), 235097360: np.int64(207847794), 199522037: np.int64(207847794), 218973712: np.int64(207847794), 232765122: np.int64(207847794), 227230527: np.int64(207847794), 208028689: np.int64(207847794), 236486291: np.int64(207847794), 6797709: np.int64(207847794), 208089663: np.int64(207847794), 226300106: np.int64(207847794), 220446038: np.int64(207847794), 209484026: np.int64(207847794), 241583095: np.int64(207847794), 227231395: np.int64(207847794), 232021521: np.int64(207847794), 39125548: np.int64(207847794), 218973690: np.int64(207847794), 43877290: np.int64(207847794), 201711246: np.int64(207847794), 226239193: np.int64(207847794), 212718108: np.int64(207847794), 1835714: np.int64(207847794), 227231192: np.int64(207847794), 218974294: np.int64(207847794), 235097635: np.int64(207847794), 227230303: np.int64(207847794), 219309246: np.int64(207847794), 215763790: np.int64(207847794), 227905313: np.int64(207847794), 189767320: np.int64(207847794), 204401827: np.int64(207847794), 219310035: np.int64(207847794), 232021799: np.int64(207847794), 237204602: np.int64(207847794), 207910317: np.int64(207847794), 201623231: np.int64(207847794), 233420668: np.int64(207847794), 171951763: np.int64(207847794), 13376154: np.int64(207847794), 216804411: np.int64(207847794), 171550071: np.int64(207847794), 202787435: np.int64(207847794), 209487052: np.int64(207847794), 208739947: np.int64(207847794), 235075856: np.int64(207847794), 226239356: np.int64(207847794), 229365788: np.int64(207847794), 235097626: np.int64(207847794), 218973823: np.int64(207847794), 207997147: np.int64(207847794), 233189650: np.int64(207847794), 232021830: np.int64(207847794), 219302451: np.int64(207847794), 237155096: np.int64(207847794), 207985459: np.int64(207847794), 235097657: np.int64(207847794), 220835559: np.int64(207847794), 236486220: np.int64(207847794), 194949452: np.int64(207847794), 219309931: np.int64(207847794), 219307032: np.int64(207847794), 220446306: np.int64(207847794), 218973962: np.int64(207847794), 233365362: np.int64(207847794), 219300648: np.int64(207847794), 218974222: np.int64(207847794), 227231829: np.int64(207847794), 225047390: np.int64(207847794), 210542889: np.int64(207847794), 226283573: np.int64(207847794), 219300781: np.int64(207847794), 232021696: np.int64(207847794), 219307782: np.int64(207847794), 219303224: np.int64(207847794), 170781770: np.int64(207847794), 219300084: np.int64(207847794), 219303731: np.int64(207847794), 218974017: np.int64(207847794), 218974335: np.int64(207847794), 219303827: np.int64(207847794), 236783809: np.int64(207847794), 236145018: np.int64(207847794), 220835262: np.int64(207847794), 214590667: np.int64(207847794), 233365197: np.int64(207847794), 220059731: np.int64(207847794), 232021863: np.int64(207847794), 226283584: np.int64(207847794), 227165231: np.int64(207847794), 219306719: np.int64(207847794), 227230512: np.int64(207847794), 193557053: np.int64(207847794), 208166610: np.int64(207847794), 218974484: np.int64(207847794), 238251645: np.int64(207847794), 221373819: np.int64(207847794), 203594044: np.int64(207847794), 221097873: np.int64(207847794), 235729183: np.int64(207847794), 219305763: np.int64(207847794), 237155052: np.int64(207847794), 236778596: np.int64(207847794), 221097418: np.int64(207847794), 227231798: np.int64(207847794), 220446153: np.int64(207847794), 227905641: np.int64(207847794), 235097380: np.int64(207847794), 196094020: np.int64(207847794), 232765106: np.int64(207847794), 186232840: np.int64(207847794), 227230457: np.int64(207847794), 219307944: np.int64(207847794), 218973914: np.int64(207847794), 234597589: np.int64(207847794), 227230865: np.int64(207847794), 219310171: np.int64(207847794), 220058343: np.int64(207847794), 227231865: np.int64(207847794), 220058138: np.int64(207847794), 220837056: np.int64(207847794), 214652810: np.int64(207847794), 208163717: np.int64(207847794), 14597336: np.int64(207847794), 198967823: np.int64(207847794), 202545279: np.int64(207847794), 218974503: np.int64(207847794), 227217317: np.int64(207847794), 219302634: np.int64(207847794), 16546839: np.int64(207847794), 1349542: np.int64(207847794), 219307991: np.int64(207847794), 218974210: np.int64(207847794), 201698414: np.int64(207847794), 216051569: np.int64(207847794), 219306788: np.int64(207847794), 198182634: np.int64(207847794), 218974036: np.int64(207847794), 191808170: np.int64(207847794), 232021554: np.int64(207847794), 218763160: np.int64(207847794), 26394336: np.int64(207847794), 227905385: np.int64(207847794), 32448468: np.int64(207847794), 218974436: np.int64(207847794), 235097284: np.int64(207847794), 219309226: np.int64(207847794), 171428614: np.int64(207847794), 225094185: np.int64(207847794), 231642300: np.int64(207847794), 215807611: np.int64(207847794), 219308180: np.int64(207847794), 218974159: np.int64(207847794), 16883620: np.int64(207847794), 225062644: np.int64(207847794), 220058536: np.int64(207847794), 37457450: np.int64(207847794), 237155058: np.int64(207847794), 203693107: np.int64(207847794), 8994601: np.int64(207847794), 219304220: np.int64(207847794), 36789753: np.int64(207847794), 236478060: np.int64(207847794), 232021880: np.int64(207847794), 234858750: np.int64(207847794), 226262380: np.int64(207847794), 208059118: np.int64(207847794), 218974261: np.int64(207847794), 237155056: np.int64(207847794), 236478113: np.int64(207847794), 219187100: np.int64(207847794), 207901266: np.int64(207847794), 235075859: np.int64(207847794), 218974259: np.int64(207847794), 227231270: np.int64(207847794), 198972540: np.int64(207847794), 227231520: np.int64(207847794), 209443915: np.int64(207847794), 222180042: np.int64(207847794), 219302696: np.int64(207847794), 197676483: np.int64(207847794), 227905052: np.int64(207847794), 219306806: np.int64(207847794), 27521527: np.int64(207847794), 261344686: np.int64(207847794), 8238384: np.int64(207847794), 213945326: np.int64(207847794), 219310346: np.int64(207847794), 253628206: np.int64(207847794), 226283675: np.int64(207847794), 236999933: np.int64(207847794), 226239316: np.int64(207847794), 219301403: np.int64(207847794), 349289: np.int64(207847794), 252995540: np.int64(207847794), 232021722: np.int64(207847794), 227231501: np.int64(207847794), 227231045: np.int64(207847794), 208332503: np.int64(207847794), 219307951: np.int64(207847794), 219306716: np.int64(207847794), 252763310: np.int64(207847794), 219571117: np.int64(207847794), 232021562: np.int64(207847794), 224801283: np.int64(207847794), 210722423: np.int64(207847794), 219309229: np.int64(207847794), 11879965: np.int64(207847794), 172083191: np.int64(207847794), 221589719: np.int64(207847794), 1833004: np.int64(207847794), 210988397: np.int64(207847794), 236937180: np.int64(207847794), 195608495: np.int64(207847794), 237366339: np.int64(207847794), 219310216: np.int64(207847794), 208050754: np.int64(207847794), 538442: np.int64(207847794), 1124033: np.int64(207847794), 237417610: np.int64(207847794), 219306146: np.int64(207847794), 218756108: np.int64(207847794), 2454033: np.int64(207847794), 226283486: np.int64(207847794), 51880236: np.int64(207847794), 219304250: np.int64(207847794), 237433756: np.int64(207847794), 219303244: np.int64(207847794), 220046481: np.int64(207847794), 201706079: np.int64(207847794), 233189633: np.int64(207847794), 244149465: np.int64(207847794), 163781513: np.int64(207847794), 193276396: np.int64(207847794), 236534767: np.int64(207847794), 218973953: np.int64(207847794), 218973924: np.int64(207847794), 227231847: np.int64(207847794), 235097180: np.int64(207847794), 189762189: np.int64(207847794), 227230694: np.int64(207847794), 218973904: np.int64(207847794), 7501785: np.int64(207847794), 219304230: np.int64(207847794), 194704856: np.int64(207847794), 219302119: np.int64(207847794), 6919271: np.int64(207847794), 218974284: np.int64(207847794), 10673948: np.int64(207847794), 162992202: np.int64(207847794), 1550845: np.int64(207847794), 236486179: np.int64(207847794), 7635854: np.int64(207847794), 236460019: np.int64(207847794), 233365225: np.int64(207847794), 218974064: np.int64(207847794), 225063093: np.int64(207847794), 232021616: np.int64(207847794), 220834700: np.int64(207847794), 218977405: np.int64(207847794), 233364993: np.int64(207847794), 233189558: np.int64(207847794), 233365221: np.int64(207847794), 226283930: np.int64(207847794), 219309432: np.int64(207847794), 209051107: np.int64(207847794), 219208261: np.int64(207847794), 226283904: np.int64(207847794), 236486305: np.int64(207847794), 237099299: np.int64(207847794), 219300187: np.int64(207847794), 233365230: np.int64(207847794), 207756678: np.int64(207847794), 219304701: np.int64(207847794), 232021769: np.int64(207847794), 235729191: np.int64(207847794), 241583642: np.int64(207847794), 2034492: np.int64(207847794), 219303265: np.int64(207847794), 236937185: np.int64(207847794), 234344640: np.int64(207847794), 219306217: np.int64(207847794), 232021758: np.int64(207847794), 227231138: np.int64(207847794), 9876712: np.int64(207847794), 220446392: np.int64(207847794), 1208641: np.int64(207847794), 219308684: np.int64(207847794), 219308835: np.int64(207847794), 202765834: np.int64(207847794), 208007934: np.int64(207847794), 237055435: np.int64(207847794), 220060212: np.int64(207847794), 235097650: np.int64(207847794), 220282312: np.int64(207847794), 219302097: np.int64(207847794), 225047104: np.int64(207847794), 201711189: np.int64(207847794), 237366093: np.int64(207847794), 232021892: np.int64(207847794), 6635675: np.int64(207847794), 219300521: np.int64(207847794), 235430924: np.int64(207847794), 219310155: np.int64(207847794), 188009581: np.int64(207847794), 1179664: np.int64(207847794), 227230256: np.int64(207847794), 219304334: np.int64(207847794), 219300102: np.int64(207847794), 204801446: np.int64(207847794), 15115795: np.int64(207847794), 221097352: np.int64(207847794), 227231866: np.int64(207847794), 10667460: np.int64(207847794), 208262247: np.int64(207847794), 219309643: np.int64(207847794), 314957: np.int64(207847794), 163959450: np.int64(207847794), 219303632: np.int64(207847794), 219304093: np.int64(207847794), 232021744: np.int64(207847794), 209081485: np.int64(207847794), 208030290: np.int64(207847794), 208332787: np.int64(207847794), 221373786: np.int64(207847794), 226239308: np.int64(207847794), 27899315: np.int64(207847794), 214727809: np.int64(207847794), 219301234: np.int64(207847794), 218974095: np.int64(207847794), 219309322: np.int64(207847794), 226283438: np.int64(207847794), 227230639: np.int64(207847794), 226283891: np.int64(207847794), 218974363: np.int64(207847794), 233365343: np.int64(207847794), 177694: np.int64(207847794), 237055484: np.int64(207847794), 227231794: np.int64(207847794), 219310256: np.int64(207847794), 218973853: np.int64(207847794), 232021939: np.int64(207847794), 218974105: np.int64(207847794), 245838455: np.int64(207847794), 229365697: np.int64(207847794), 219308155: np.int64(207847794), 219219639: np.int64(207847794), 219306561: np.int64(207847794), 226238951: np.int64(207847794), 232021566: np.int64(207847794), 232021903: np.int64(207847794), 218973981: np.int64(207847794), 237204586: np.int64(207847794), 219307735: np.int64(207847794), 208282193: np.int64(207847794), 226283946: np.int64(207847794), 168169995: np.int64(207847794), 235097378: np.int64(207847794), 221373777: np.int64(207847794), 218973837: np.int64(207847794), 220445533: np.int64(207847794), 219306469: np.int64(207847794), 219306109: np.int64(207847794), 236145044: np.int64(207847794), 194854245: np.int64(207847794), 22661082: np.int64(207847794), 221808430: np.int64(207847794), 220445819: np.int64(207847794), 226283915: np.int64(207847794), 233365027: np.int64(207847794), 218974072: np.int64(207847794), 17174096: np.int64(207847794), 229365663: np.int64(207847794), 219220021: np.int64(207847794), 237155078: np.int64(207847794), 226283518: np.int64(207847794), 218974451: np.int64(207847794), 219307906: np.int64(207847794), 219307699: np.int64(207847794), 219306067: np.int64(207847794), 38944388: np.int64(207847794), 232021604: np.int64(207847794), 226283896: np.int64(207847794), 219309914: np.int64(207847794), 244127588: np.int64(207847794), 219302332: np.int64(207847794), 227231160: np.int64(207847794), 212832970: np.int64(207847794), 227231541: np.int64(207847794), 203906411: np.int64(207847794), 218655193: np.int64(207847794), 219305276: np.int64(207847794), 226239220: np.int64(207847794), 200090288: np.int64(207847794), 227231589: np.int64(207847794), 226283746: np.int64(207847794), 219303257: np.int64(207847794), 198327899: np.int64(207847794), 22053083: np.int64(207847794), 227230394: np.int64(207847794), 237217090: np.int64(207847794), 233189659: np.int64(207847794), 219307463: np.int64(207847794), 218659997: np.int64(207847794), 236460131: np.int64(207847794), 229365666: np.int64(207847794), 231821652: np.int64(207847794), 235097676: np.int64(207847794), 219309904: np.int64(207847794), 235097469: np.int64(207847794), 232021729: np.int64(207847794), 226283444: np.int64(207847794), 199581161: np.int64(207847794), 233365172: np.int64(207847794), 218973745: np.int64(207847794), 220835624: np.int64(207847794), 195428710: np.int64(207847794), 235097461: np.int64(207847794), 226374136: np.int64(207847794), 220445606: np.int64(207847794), 237217104: np.int64(207847794), 219306659: np.int64(207847794), 218974012: np.int64(207847794), 221373744: np.int64(207847794), 219309723: np.int64(207847794), 57251561: np.int64(207847794), 261341568: np.int64(207847794), 1550947: np.int64(207847794), 261341822: np.int64(207847794), 16847508: np.int64(207847794), 218499570: np.int64(207847794), 238638469: np.int64(207847794), 295754: np.int64(207847794), 39184340: np.int64(207847794), 238638454: np.int64(207847794), 8539962: np.int64(207847794), 2509212: np.int64(207847794), 235258285: np.int64(207847794), 218496319: np.int64(207847794), 219300214: np.int64(207847794), 213190644: np.int64(207847794), 232021574: np.int64(207847794), 221373748: np.int64(207847794), 219307324: np.int64(207847794), 234342783: np.int64(207847794), 16372221: np.int64(207847794), 252763298: np.int64(207847794), 218974526: np.int64(207847794), 16081925: np.int64(207847794), 220061428: np.int64(207847794), 227231730: np.int64(207847794), 218974564: np.int64(207847794), 218974028: np.int64(207847794), 220837171: np.int64(207847794), 227231538: np.int64(207847794), 201642047: np.int64(207847794), 13362705: np.int64(207847794), 219307078: np.int64(207847794), 219307753: np.int64(207847794), 236534780: np.int64(207847794), 216641709: np.int64(207847794), 236999890: np.int64(207847794), 219299779: np.int64(207847794), 53082579: np.int64(207847794), 219310360: np.int64(207847794), 226283942: np.int64(207847794), 218974511: np.int64(207847794), 219303303: np.int64(207847794), 227230863: np.int64(207847794), 218973776: np.int64(207847794), 209443751: np.int64(207847794), 204766782: np.int64(207847794), 218974045: np.int64(207847794), 219309262: np.int64(207847794), 227230657: np.int64(207847794), 219305973: np.int64(207847794), 208096174: np.int64(207847794), 221516625: np.int64(207847794), 226307761: np.int64(207847794), 221097211: np.int64(207847794), 44150851: np.int64(207847794), 169150731: np.int64(207847794), 222303396: np.int64(207847794), 227230290: np.int64(207847794), 219310045: np.int64(207847794), 218606556: np.int64(207847794), 219305009: np.int64(207847794), 236999924: np.int64(207847794), 219300230: np.int64(207847794), 237434430: np.int64(207847794), 226283577: np.int64(207847794), 227230357: np.int64(207847794), 227230862: np.int64(207847794), 219305213: np.int64(207847794), 204971578: np.int64(207847794), 233365133: np.int64(207847794), 226262322: np.int64(207847794), 219310294: np.int64(207847794), 202670323: np.int64(207847794), 208317715: np.int64(207847794), 235097253: np.int64(207847794), 219303771: np.int64(207847794), 231642290: np.int64(207847794), 2777782: np.int64(207847794), 225062810: np.int64(207847794), 232021710: np.int64(207847794), 199379769: np.int64(207847794), 220060880: np.int64(207847794), 207924242: np.int64(207847794), 235258259: np.int64(207847794), 236486295: np.int64(207847794), 218977404: np.int64(207847794), 207988001: np.int64(207847794), 237055482: np.int64(207847794), 221097971: np.int64(207847794), 241583213: np.int64(207847794), 41671476: np.int64(207847794), 219308951: np.int64(207847794), 220446069: np.int64(207847794), 220058142: np.int64(207847794), 221924885: np.int64(207847794), 207909357: np.int64(207847794), 227230684: np.int64(207847794), 202234632: np.int64(207847794), 236460252: np.int64(207847794), 218974082: np.int64(207847794), 233365281: np.int64(207847794), 232021935: np.int64(207847794), 9817322: np.int64(207847794), 219302172: np.int64(207847794), 3927680: np.int64(207847794), 7473534: np.int64(207847794), 220286336: np.int64(207847794), 220284509: np.int64(207847794), 204877385: np.int64(207847794), 174802888: np.int64(207847794), 218973870: np.int64(207847794), 225062913: np.int64(207847794), 219299786: np.int64(207847794), 204971591: np.int64(207847794), 195064798: np.int64(207847794), 220445782: np.int64(207847794), 218973932: np.int64(207847794), 220444728: np.int64(207847794), 218988062: np.int64(207847794), 219301931: np.int64(207847794), 32500186: np.int64(207847794), 233189563: np.int64(207847794), 235097527: np.int64(207847794), 226283894: np.int64(207847794), 219302551: np.int64(207847794), 219309372: np.int64(207847794), 219302156: np.int64(207847794), 227905523: np.int64(207847794), 201628721: np.int64(207847794), 219686775: np.int64(207847794), 241583479: np.int64(207847794), 219310330: np.int64(207847794), 221703256: np.int64(207847794), 204841522: np.int64(207847794), 218974347: np.int64(207847794), 171772429: np.int64(207847794), 218974390: np.int64(207847794), 232021673: np.int64(207847794), 236937158: np.int64(207847794), 233365326: np.int64(207847794), 218470099: np.int64(207847794), 184482972: np.int64(207847794), 219307532: np.int64(207847794), 45746331: np.int64(207847794), 250179911: np.int64(207847794), 218973902: np.int64(207847794), 232021793: np.int64(207847794), 237204581: np.int64(207847794), 227230376: np.int64(207847794), 236999912: np.int64(207847794), 227231605: np.int64(207847794), 226239337: np.int64(207847794), 219929464: np.int64(207847794), 232021643: np.int64(207847794), 195064060: np.int64(207847794), 174800142: np.int64(207847794), 218974341: np.int64(207847794), 218974318: np.int64(207847794), 219300730: np.int64(207847794), 243864611: np.int64(207847794), 218974559: np.int64(207847794), 2061388: np.int64(207847794), 199379626: np.int64(207847794), 236779170: np.int64(207847794), 227217696: np.int64(207847794), 220273885: np.int64(207847794), 218973905: np.int64(207847794), 218973976: np.int64(207847794), 220446046: np.int64(207847794), 236486155: np.int64(207847794), 171656640: np.int64(207847794), 227230340: np.int64(207847794), 219304825: np.int64(207847794), 208004421: np.int64(207847794), 172080378: np.int64(207847794), 201709354: np.int64(207847794), 218974032: np.int64(207847794), 235097343: np.int64(207847794), 218974500: np.int64(207847794), 5804626: np.int64(207847794), 195063921: np.int64(207847794), 220058500: np.int64(207847794), 219301154: np.int64(207847794), 232021547: np.int64(207847794), 38611508: np.int64(207847794), 218974441: np.int64(207847794), 237055434: np.int64(207847794), 218674458: np.int64(207847794), 233189596: np.int64(207847794), 219300003: np.int64(207847794), 237155022: np.int64(207847794), 7931227: np.int64(207847794), 199379693: np.int64(207847794), 218974158: np.int64(207847794), 215415807: np.int64(207847794), 219305840: np.int64(207847794), 201627192: np.int64(207847794), 220446013: np.int64(207847794), 237099295: np.int64(207847794), 219305403: np.int64(207847794), 219309571: np.int64(207847794), 218973720: np.int64(207847794), 218973891: np.int64(207847794), 235097337: np.int64(207847794), 231643070: np.int64(207847794), 236145091: np.int64(207847794), 220330222: np.int64(207847794), 218973709: np.int64(207847794), 201739208: np.int64(207847794), 199379430: np.int64(207847794), 237204583: np.int64(207847794), 218758195: np.int64(207847794), 193320708: np.int64(207847794), 218973787: np.int64(207847794), 219309037: np.int64(207847794), 216805538: np.int64(207847794), 226283989: np.int64(207847794), 219303329: np.int64(207847794), 236478204: np.int64(207847794), 219300567: np.int64(207847794), 227230794: np.int64(207847794), 227230496: np.int64(207847794), 220045904: np.int64(207847794), 237155038: np.int64(207847794), 164710133: np.int64(207847794), 207925404: np.int64(207847794), 14767290: np.int64(207847794), 218973855: np.int64(207847794), 219300224: np.int64(207847794), 201739927: np.int64(207847794), 235097599: np.int64(207847794), 220444915: np.int64(207847794), 232021624: np.int64(207847794), 234345306: np.int64(207847794), 198750212: np.int64(207847794), 235075855: np.int64(207847794), 586244: np.int64(207847794), 189342002: np.int64(207847794), 227230327: np.int64(207847794), 221995593: np.int64(207847794), 219299668: np.int64(207847794), 235097387: np.int64(207847794), 261342118: np.int64(207847794), 261354239: np.int64(207847794), 256460990: np.int64(207847794), 243865125: np.int64(207847794), 570306: np.int64(207847794), 12070083: np.int64(207847794), 1039637: np.int64(207847794), 255775301: np.int64(207847794), 252212936: np.int64(207847794), 219301409: np.int64(207847794), 199374055: np.int64(207847794), 9797304: np.int64(207847794), 215238861: np.int64(207847794), 11356823: np.int64(207847794), 226283545: np.int64(207847794), 234343049: np.int64(207847794), 229365759: np.int64(207847794), 203952109: np.int64(207847794), 219310318: np.int64(207847794), 248780088: np.int64(207847794), 227231640: np.int64(207847794), 11913159: np.int64(207847794), 237366183: np.int64(207847794), 234347896: np.int64(207847794), 219303800: np.int64(207847794), 208995335: np.int64(207847794), 238638456: np.int64(207847794), 201679714: np.int64(207847794), 236486225: np.int64(207847794), 226283792: np.int64(207847794), 218974249: np.int64(207847794), 219301130: np.int64(207847794), 202780251: np.int64(207847794), 220330059: np.int64(207847794), 219573632: np.int64(207847794), 227905410: np.int64(207847794), 218973928: np.int64(207847794), 10549087: np.int64(207847794), 227231080: np.int64(207847794), 232021603: np.int64(207847794), 236778534: np.int64(207847794), 232021532: np.int64(207847794), 4094265: np.int64(207847794), 41023940: np.int64(207847794), 11582782: np.int64(207847794), 252763293: np.int64(207847794), 1098445: np.int64(207847794), 226283817: np.int64(207847794), 226283979: np.int64(207847794), 214342012: np.int64(207847794), 198977494: np.int64(207847794), 195833714: np.int64(207847794), 219310055: np.int64(207847794), 219310052: np.int64(207847794), 220445779: np.int64(207847794), 208331890: np.int64(207847794), 225062786: np.int64(207847794), 1776272: np.int64(207847794), 236145045: np.int64(207847794), 221373783: np.int64(207847794), 220446100: np.int64(207847794), 220326192: np.int64(207847794), 9283085: np.int64(207847794), 252763304: np.int64(207847794), 227905430: np.int64(207847794), 218974146: np.int64(207847794), 226239168: np.int64(207847794), 229365730: np.int64(207847794), 235599146: np.int64(207847794), 219308067: np.int64(207847794), 219306979: np.int64(207847794), 219302717: np.int64(207847794), 198159047: np.int64(207847794), 218516941: np.int64(207847794), 218974008: np.int64(207847794), 232021981: np.int64(207847794), 235097194: np.int64(207847794), 32871834: np.int64(207847794), 220286796: np.int64(207847794), 235097428: np.int64(207847794), 244464112: np.int64(207847794), 238251648: np.int64(207847794), 208163916: np.int64(207847794), 226283731: np.int64(207847794), 225047121: np.int64(207847794), 218974223: np.int64(207847794), 207914583: np.int64(207847794), 204770582: np.int64(207847794), 219310208: np.int64(207847794), 215768182: np.int64(207847794), 232021686: np.int64(207847794), 219303552: np.int64(207847794), 212734059: np.int64(207847794), 7418935: np.int64(207847794), 227231821: np.int64(207847794), 210063663: np.int64(207847794), 237366075: np.int64(207847794), 222141011: np.int64(207847794), 11754910: np.int64(207847794), 18123293: np.int64(207847794), 227231728: np.int64(207847794), 199379650: np.int64(207847794), 227231222: np.int64(207847794), 2411: np.int64(207847794), 236486157: np.int64(207847794), 235097399: np.int64(207847794), 233365234: np.int64(207847794), 236478028: np.int64(207847794), 236534766: np.int64(207847794), 225062904: np.int64(207847794), 227231434: np.int64(207847794), 28309452: np.int64(207847794), 236486087: np.int64(207847794), 218977418: np.int64(207847794), 218974250: np.int64(207847794), 235097673: np.int64(207847794), 216867687: np.int64(207847794), 220057395: np.int64(207847794), 232021625: np.int64(207847794), 204857975: np.int64(207847794), 234487209: np.int64(207847794), 2889892: np.int64(207847794), 219308807: np.int64(207847794), 226283681: np.int64(207847794), 218974442: np.int64(207847794), 219306933: np.int64(207847794), 202725483: np.int64(207847794), 219309777: np.int64(207847794), 227230495: np.int64(207847794), 219307191: np.int64(207847794), 220834639: np.int64(207847794), 171054001: np.int64(207847794), 218487295: np.int64(207847794), 219307997: np.int64(207847794), 197906200: np.int64(207847794), 210555298: np.int64(207847794), 216056727: np.int64(207847794), 219310194: np.int64(207847794), 219309903: np.int64(207847794), 237489742: np.int64(207847794), 235097666: np.int64(207847794), 218581502: np.int64(207847794), 8021658: np.int64(207847794), 213439733: np.int64(207847794), 226283488: np.int64(207847794), 239890010: np.int64(207847794), 203688501: np.int64(207847794), 244464082: np.int64(207847794), 219301485: np.int64(207847794), 19265207: np.int64(207847794), 218974350: np.int64(207847794), 219302993: np.int64(207847794), 28848363: np.int64(207847794), 17944752: np.int64(207847794), 227231456: np.int64(207847794), 236486156: np.int64(207847794), 222315239: np.int64(207847794), 241583643: np.int64(207847794), 219300810: np.int64(207847794), 46941014: np.int64(207847794), 235127291: np.int64(207847794), 219309659: np.int64(207847794), 219310345: np.int64(207847794), 219310225: np.int64(207847794), 207915008: np.int64(207847794), 227231466: np.int64(207847794), 220272540: np.int64(207847794), 236477825: np.int64(207847794), 201581383: np.int64(207847794), 237366143: np.int64(207847794), 219310037: np.int64(207847794), 218973686: np.int64(207847794), 16793495: np.int64(207847794), 218977354: np.int64(207847794), 219301985: np.int64(207847794), 220512955: np.int64(207847794), 219302491: np.int64(207847794), 218682945: np.int64(207847794), 235097687: np.int64(207847794), 164581398: np.int64(207847794), 220837101: np.int64(207847794), 234347877: np.int64(207847794), 232021613: np.int64(207847794), 219305601: np.int64(207847794), 218974340: np.int64(207847794), 235097265: np.int64(207847794), 184483151: np.int64(207847794), 218973800: np.int64(207847794), 226283610: np.int64(207847794), 218974271: np.int64(207847794), 219309251: np.int64(207847794), 198996260: np.int64(207847794), 232021747: np.int64(207847794), 169557664: np.int64(207847794), 219309834: np.int64(207847794), 219948504: np.int64(207847794), 6603967: np.int64(207847794), 227230423: np.int64(207847794), 198971592: np.int64(207847794), 245279381: np.int64(207847794), 197935408: np.int64(207847794), 207977046: np.int64(207847794), 227231506: np.int64(207847794), 204808042: np.int64(207847794), 227230323: np.int64(207847794), 236145069: np.int64(207847794), 170383562: np.int64(207847794), 236486261: np.int64(207847794), 219309148: np.int64(207847794), 235097291: np.int64(207847794), 219308806: np.int64(207847794), 227230658: np.int64(207847794), 233364899: np.int64(207847794), 226283474: np.int64(207847794), 220334314: np.int64(207847794), 227231116: np.int64(207847794), 218974121: np.int64(207847794), 227231731: np.int64(207847794), 34143281: np.int64(207847794), 221353376: np.int64(207847794), 198995779: np.int64(207847794), 192711829: np.int64(207847794), 219302437: np.int64(207847794), 233365171: np.int64(207847794), 227230629: np.int64(207847794), 218977391: np.int64(207847794), 233364953: np.int64(207847794), 219308135: np.int64(207847794), 237099291: np.int64(207847794), 236898628: np.int64(207847794), 219302007: np.int64(207847794), 174799871: np.int64(207847794), 198899669: np.int64(207847794), 219310257: np.int64(207847794), 165261544: np.int64(207847794), 225771528: np.int64(207847794), 219309164: np.int64(207847794), 219302509: np.int64(207847794), 226239053: np.int64(207847794), 218974360: np.int64(207847794), 201684131: np.int64(207847794), 185733500: np.int64(207847794), 218973788: np.int64(207847794), 236477489: np.int64(207847794), 218974269: np.int64(207847794), 201686090: np.int64(207847794), 222310441: np.int64(207847794), 219307331: np.int64(207847794), 174797834: np.int64(207847794), 233365038: np.int64(207847794), 8020240: np.int64(207847794), 232021524: np.int64(207847794), 236778562: np.int64(207847794), 219310200: np.int64(207847794), 219301560: np.int64(207847794), 236145058: np.int64(207847794), 235097596: np.int64(207847794), 237366142: np.int64(207847794), 174799912: np.int64(207847794), 227230573: np.int64(207847794), 208609804: np.int64(207847794), 220445954: np.int64(207847794), 218974460: np.int64(207847794), 171890564: np.int64(207847794), 219306310: np.int64(207847794), 218973743: np.int64(207847794), 225062631: np.int64(207847794), 227231842: np.int64(207847794), 227230485: np.int64(207847794), 219308976: np.int64(207847794), 207967446: np.int64(207847794), 220324918: np.int64(207847794), 202776758: np.int64(207847794), 227230549: np.int64(207847794), 235097533: np.int64(207847794), 219952676: np.int64(207847794), 236477827: np.int64(207847794), 219302982: np.int64(207847794), 817013: np.int64(207847794), 236144993: np.int64(207847794), 219301047: np.int64(207847794), 233365243: np.int64(207847794), 219300100: np.int64(207847794), 215878744: np.int64(207847794), 216050846: np.int64(207847794), 188315817: np.int64(207847794), 1598651: np.int64(207847794), 215637367: np.int64(207847794), 261349336: np.int64(207847794), 14182377: np.int64(207847794), 27913397: np.int64(207847794), 199379562: np.int64(207847794), 218989240: np.int64(207847794), 34406236: np.int64(207847794), 218973711: np.int64(207847794), 238638459: np.int64(207847794), 219792169: np.int64(207847794), 193797096: np.int64(207847794), 238638462: np.int64(207847794), 235716153: np.int64(207847794), 236460078: np.int64(207847794), 237155037: np.int64(207847794), 9936636: np.int64(207847794), 207915854: np.int64(207847794), 226291957: np.int64(207847794), 226239195: np.int64(207847794), 218974467: np.int64(207847794), 227231053: np.int64(207847794), 218497737: np.int64(207847794), 170688064: np.int64(207847794), 227231227: np.int64(207847794), 220444727: np.int64(207847794), 218486900: np.int64(207847794), 219301290: np.int64(207847794), 219301765: np.int64(207847794), 3084759: np.int64(207847794), 218974478: np.int64(207847794), 219182113: np.int64(207847794), 218977387: np.int64(207847794), 14892959: np.int64(207847794), 245838308: np.int64(207847794), 227231669: np.int64(207847794), 218973936: np.int64(207847794), 241583115: np.int64(207847794), 226283574: np.int64(207847794), 18007880: np.int64(207847794), 252819174: np.int64(207847794), 165606771: np.int64(207847794), 235097589: np.int64(207847794), 64585177: np.int64(207847794), 243971019: np.int64(207847794), 218974482: np.int64(207847794), 235097652: np.int64(207847794), 227230464: np.int64(207847794), 226283765: np.int64(207847794), 241583452: np.int64(207847794), 199373245: np.int64(207847794), 219308151: np.int64(207847794), 226225852: np.int64(207847794), 220445490: np.int64(207847794), 219308154: np.int64(207847794), 15793632: np.int64(207847794), 220444838: np.int64(207847794), 216092355: np.int64(207847794), 219306605: np.int64(207847794), 233189587: np.int64(207847794), 18106511: np.int64(207847794), 219307594: np.int64(207847794), 14259080: np.int64(207847794), 236937174: np.int64(207847794), 218974187: np.int64(207847794), 219305289: np.int64(207847794), 230102151: np.int64(207847794), 231821643: np.int64(207847794), 227231223: np.int64(207847794), 227231542: np.int64(207847794), 227230349: np.int64(207847794), 218974310: np.int64(207847794), 232021630: np.int64(207847794), 184483042: np.int64(207847794), 218973877: np.int64(207847794), 216597026: np.int64(207847794), 213879839: np.int64(207847794), 218763678: np.int64(207847794), 216913937: np.int64(207847794), 164767594: np.int64(207847794), 218974333: np.int64(207847794), 6386218: np.int64(207847794), 219310309: np.int64(207847794), 226283676: np.int64(207847794), 221922077: np.int64(207847794), 227231184: np.int64(207847794), 186206132: np.int64(207847794), 219309655: np.int64(207847794), 235729187: np.int64(207847794), 218974490: np.int64(207847794), 221516784: np.int64(207847794), 186229637: np.int64(207847794), 219302192: np.int64(207847794), 232021680: np.int64(207847794), 226239120: np.int64(207847794), 226283773: np.int64(207847794), 219310353: np.int64(207847794), 236486297: np.int64(207847794), 8630074: np.int64(207847794), 227257938: np.int64(207847794), 211105643: np.int64(207847794), 220444933: np.int64(207847794), 241583344: np.int64(207847794), 218596217: np.int64(207847794), 33088735: np.int64(207847794), 227231462: np.int64(207847794), 227231243: np.int64(207847794), 219918467: np.int64(207847794), 219301425: np.int64(207847794), 225063109: np.int64(207847794), 170825990: np.int64(207847794), 227231069: np.int64(207847794), 219308175: np.int64(207847794), 33384116: np.int64(207847794), 230080556: np.int64(207847794), 235097205: np.int64(207847794), 33635889: np.int64(207847794), 218974523: np.int64(207847794), 199022791: np.int64(207847794), 211132950: np.int64(207847794), 219307106: np.int64(207847794), 220445846: np.int64(207847794), 234345305: np.int64(207847794), 227230321: np.int64(207847794), 16435655: np.int64(207847794), 219300590: np.int64(207847794), 1014562: np.int64(207847794), 218974161: np.int64(207847794), 207901548: np.int64(207847794), 53080042: np.int64(207847794), 208192727: np.int64(207847794), 218869883: np.int64(207847794), 220834660: np.int64(207847794), 232021641: np.int64(207847794), 235097353: np.int64(207847794), 235097488: np.int64(207847794), 233365265: np.int64(207847794), 199379364: np.int64(207847794), 236937186: np.int64(207847794), 218973957: np.int64(207847794), 35165567: np.int64(207847794), 210936778: np.int64(207847794), 7118455: np.int64(207847794), 193055302: np.int64(207847794), 219300132: np.int64(207847794), 229365670: np.int64(207847794), 171341111: np.int64(207847794), 232021856: np.int64(207847794), 227230682: np.int64(207847794), 13403019: np.int64(207847794), 22388531: np.int64(207847794), 222133380: np.int64(207847794), 236460071: np.int64(207847794), 208329615: np.int64(207847794), 226239179: np.int64(207847794), 227230699: np.int64(207847794), 218977356: np.int64(207847794), 203610517: np.int64(207847794), 218974314: np.int64(207847794), 227231593: np.int64(207847794), 227231412: np.int64(207847794), 218974202: np.int64(207847794), 236486140: np.int64(207847794), 202767952: np.int64(207847794), 219307627: np.int64(207847794), 236486230: np.int64(207847794), 238638479: np.int64(207847794), 24089: np.int64(207847794), 199379566: np.int64(207847794), 232021508: np.int64(207847794), 204950178: np.int64(207847794), 245838310: np.int64(207847794), 209064083: np.int64(207847794), 235097408: np.int64(207847794), 199379538: np.int64(207847794), 194200905: np.int64(207847794), 218974163: np.int64(207847794), 201741133: np.int64(207847794), 199379338: np.int64(207847794), 208050081: np.int64(207847794), 237204598: np.int64(207847794), 227230289: np.int64(207847794), 164502727: np.int64(207847794), 220444930: np.int64(207847794), 191424052: np.int64(207847794), 218977399: np.int64(207847794), 9998703: np.int64(207847794), 39190241: np.int64(207847794), 199379354: np.int64(207847794), 219307562: np.int64(207847794), 202541654: np.int64(207847794), 227905463: np.int64(207847794), 209423036: np.int64(207847794), 193581337: np.int64(207847794), 218974506: np.int64(207847794), 219307111: np.int64(207847794), 198147768: np.int64(207847794), 219304993: np.int64(207847794), 218974388: np.int64(207847794), 232021996: np.int64(207847794), 244464097: np.int64(207847794), 219306991: np.int64(207847794), 220061106: np.int64(207847794), 218974152: np.int64(207847794), 218973835: np.int64(207847794), 219309889: np.int64(207847794), 29315484: np.int64(207847794), 218974394: np.int64(207847794), 227231367: np.int64(207847794), 218662494: np.int64(207847794), 218974212: np.int64(207847794), 235716152: np.int64(207847794), 235097486: np.int64(207847794), 219300120: np.int64(207847794), 219310241: np.int64(207847794), 241583352: np.int64(207847794), 225062873: np.int64(207847794), 226283609: np.int64(207847794), 226283832: np.int64(207847794), 174799660: np.int64(207847794), 231821645: np.int64(207847794), 202734286: np.int64(207847794), 204742172: np.int64(207847794), 218977396: np.int64(207847794), 218974288: np.int64(207847794), 218974456: np.int64(207847794), 207976018: np.int64(207847794), 218973701: np.int64(207847794), 220445802: np.int64(207847794), 236994698: np.int64(207847794), 233365034: np.int64(207847794), 219300462: np.int64(207847794), 219303626: np.int64(207847794), 218974420: np.int64(207847794), 219304162: np.int64(207847794), 6859756: np.int64(207847794), 199379316: np.int64(207847794), 236478365: np.int64(207847794), 219303433: np.int64(207847794), 218974343: np.int64(207847794), 215811899: np.int64(207847794), 245838341: np.int64(207847794), 216560900: np.int64(207847794), 208174003: np.int64(207847794), 229365750: np.int64(207847794), 233364425: np.int64(207847794), 227231874: np.int64(207847794), 236486250: np.int64(207847794), 226307919: np.int64(207847794), 245838376: np.int64(207847794), 227230662: np.int64(207847794), 226283933: np.int64(207847794), 219182086: np.int64(207847794), 219303938: np.int64(207847794), 227905355: np.int64(207847794), 201741147: np.int64(207847794), 219304222: np.int64(207847794), 231642813: np.int64(207847794), 10173982: np.int64(207847794), 229365684: np.int64(207847794), 219304371: np.int64(207847794), 218594574: np.int64(207847794), 164281876: np.int64(207847794), 226239133: np.int64(207847794), 170588034: np.int64(207847794), 218974328: np.int64(207847794), 218974501: np.int64(207847794), 223953395: np.int64(207847794), 235097482: np.int64(207847794), 211562110: np.int64(207847794), 196204417: np.int64(207847794), 222291614: np.int64(207847794), 219303146: np.int64(207847794), 225062649: np.int64(207847794), 218974278: np.int64(207847794), 232021670: np.int64(207847794), 236898614: np.int64(207847794), 219303847: np.int64(207847794), 225062695: np.int64(207847794), 227231064: np.int64(207847794), 219307370: np.int64(207847794), 218973730: np.int64(207847794), 208050892: np.int64(207847794), 171321371: np.int64(207847794), 227231860: np.int64(207847794), 237295809: np.int64(207847794), 16078804: np.int64(207847794), 261341646: np.int64(207847794), 260335087: np.int64(207847794), 261349383: np.int64(207847794), 199520377: np.int64(207847794), 225062648: np.int64(207847794), 5217855: np.int64(207847794), 218499510: np.int64(207847794), 17276649: np.int64(207847794), 203626826: np.int64(207847794), 219299695: np.int64(207847794), 235097300: np.int64(207847794), 215238329: np.int64(207847794), 226283948: np.int64(207847794), 232021577: np.int64(207847794), 227230515: np.int64(207847794), 219301276: np.int64(207847794), 236486171: np.int64(207847794), 41868799: np.int64(207847794), 199379835: np.int64(207847794), 227231047: np.int64(207847794), 1327224: np.int64(207847794), 237155090: np.int64(207847794), 203316451: np.int64(207847794), 204777591: np.int64(207847794), 204770046: np.int64(207847794), 235097684: np.int64(207847794), 218974051: np.int64(207847794), 218974299: np.int64(207847794), 221678406: np.int64(207847794), 219934358: np.int64(207847794), 201875405: np.int64(207847794), 17236853: np.int64(207847794), 235097582: np.int64(207847794), 169507307: np.int64(207847794), 237366335: np.int64(207847794), 221097975: np.int64(207847794), 219307489: np.int64(207847794), 218974189: np.int64(207847794), 236999880: np.int64(207847794), 233189574: np.int64(207847794), 171421076: np.int64(207847794), 211332: np.int64(207847794), 235097232: np.int64(207847794), 227230293: np.int64(207847794), 245838250: np.int64(207847794), 226239298: np.int64(207847794), 202777539: np.int64(207847794), 226283740: np.int64(207847794), 219303293: np.int64(207847794), 225062642: np.int64(207847794), 218974358: np.int64(207847794), 245838383: np.int64(207847794), 207910876: np.int64(207847794), 222141569: np.int64(207847794), 220445697: np.int64(207847794), 227231558: np.int64(207847794), 235258280: np.int64(207847794), 18577966: np.int64(207847794), 236486265: np.int64(207847794), 236999919: np.int64(207847794), 219307386: np.int64(207847794), 26731891: np.int64(207847794), 220834693: np.int64(207847794), 227230621: np.int64(207847794), 208091335: np.int64(207847794), 227905363: np.int64(207847794), 204824163: np.int64(207847794), 235716151: np.int64(207847794), 214063458: np.int64(207847794), 219308623: np.int64(207847794), 215762145: np.int64(207847794), 216050441: np.int64(207847794), 243864614: np.int64(207847794), 27259584: np.int64(207847794), 199379395: np.int64(207847794), 232085223: np.int64(207847794), 236145081: np.int64(207847794), 227231469: np.int64(207847794), 219303527: np.int64(207847794), 232021738: np.int64(207847794), 219307385: np.int64(207847794), 218974026: np.int64(207847794), 219308473: np.int64(207847794), 226283480: np.int64(207847794), 208653512: np.int64(207847794), 218977392: np.int64(207847794), 201706805: np.int64(207847794), 226283546: np.int64(207847794), 244077657: np.int64(207847794), 222221157: np.int64(207847794), 226283535: np.int64(207847794), 244167633: np.int64(207847794), 9846562: np.int64(207847794), 218977423: np.int64(207847794), 191878845: np.int64(207847794), 219307119: np.int64(207847794), 225062657: np.int64(207847794), 204961558: np.int64(207847794), 189465093: np.int64(207847794), 227230633: np.int64(207847794), 232021762: np.int64(207847794), 235252761: np.int64(207847794), 218974253: np.int64(207847794), 218974365: np.int64(207847794), 222290462: np.int64(207847794), 218974054: np.int64(207847794), 237945252: np.int64(207847794), 213975945: np.int64(207847794), 219303237: np.int64(207847794), 232021855: np.int64(207847794), 195064438: np.int64(207847794), 231642285: np.int64(207847794), 20872907: np.int64(207847794), 226283466: np.int64(207847794), 232021877: np.int64(207847794), 17128553: np.int64(207847794), 219302229: np.int64(207847794), 226283631: np.int64(207847794), 219307742: np.int64(207847794), 219302338: np.int64(207847794), 220835106: np.int64(207847794), 218973705: np.int64(207847794), 236459889: np.int64(207847794), 227230294: np.int64(207847794), 230094661: np.int64(207847794), 245838467: np.int64(207847794), 204522252: np.int64(207847794), 218974308: np.int64(207847794), 220444897: np.int64(207847794), 170761628: np.int64(207847794), 232021564: np.int64(207847794), 218973876: np.int64(207847794), 245279383: np.int64(207847794), 173990966: np.int64(207847794), 227905429: np.int64(207847794), 219308611: np.int64(207847794), 233815611: np.int64(207847794), 219303858: np.int64(207847794), 201663202: np.int64(207847794), 15998969: np.int64(207847794), 220283370: np.int64(207847794), 208058458: np.int64(207847794), 7437033: np.int64(207847794), 219306482: np.int64(207847794), 220446152: np.int64(207847794), 236486184: np.int64(207847794), 227230300: np.int64(207847794), 229365827: np.int64(207847794), 219305761: np.int64(207847794), 232021967: np.int64(207847794), 237010902: np.int64(207847794), 236486119: np.int64(207847794), 225766127: np.int64(207847794), 199369001: np.int64(207847794), 236145033: np.int64(207847794), 236486117: np.int64(207847794), 235127262: np.int64(207847794), 215745651: np.int64(207847794), 232021615: np.int64(207847794), 15537869: np.int64(207847794), 232021609: np.int64(207847794), 219301558: np.int64(207847794), 219946485: np.int64(207847794), 227905511: np.int64(207847794), 232021834: np.int64(207847794), 219300679: np.int64(207847794), 235097454: np.int64(207847794), 219310188: np.int64(207847794), 202767568: np.int64(207847794), 219300599: np.int64(207847794), 232021949: np.int64(207847794), 236486137: np.int64(207847794), 236486210: np.int64(207847794), 220059669: np.int64(207847794), 232021945: np.int64(207847794), 234487234: np.int64(207847794), 237366191: np.int64(207847794), 227230284: np.int64(207847794), 220445569: np.int64(207847794), 219306346: np.int64(207847794), 198183589: np.int64(207847794), 226239340: np.int64(207847794), 227905400: np.int64(207847794), 219310230: np.int64(207847794), 219300604: np.int64(207847794), 233189621: np.int64(207847794), 219301390: np.int64(207847794), 7439442: np.int64(207847794), 219310150: np.int64(207847794), 219306751: np.int64(207847794), 233364932: np.int64(207847794), 237558733: np.int64(207847794), 199582240: np.int64(207847794), 218973983: np.int64(207847794), 57841958: np.int64(207847794), 227905377: np.int64(207847794), 232021622: np.int64(207847794), 217184288: np.int64(207847794), 163256930: np.int64(207847794), 235097630: np.int64(207847794), 227230458: np.int64(207847794), 244097272: np.int64(207847794), 219303002: np.int64(207847794), 14229453: np.int64(207847794), 233365109: np.int64(207847794), 219301786: np.int64(207847794), 227230547: np.int64(207847794), 220835637: np.int64(207847794), 58795777: np.int64(207847794), 219299753: np.int64(207847794), 219310352: np.int64(207847794), 218973989: np.int64(207847794), 219309421: np.int64(207847794), 226239191: np.int64(207847794), 44615714: np.int64(207847794), 219307752: np.int64(207847794), 241583540: np.int64(207847794), 231925706: np.int64(207847794), 245828373: np.int64(207847794), 233189535: np.int64(207847794), 227230698: np.int64(207847794), 188723581: np.int64(207847794), 227230428: np.int64(207847794), 220330399: np.int64(207847794), 219306983: np.int64(207847794), 232021757: np.int64(207847794), 219310329: np.int64(207847794), 199379687: np.int64(207847794), 219309625: np.int64(207847794), 238251643: np.int64(207847794), 29180592: np.int64(207847794), 235729179: np.int64(207847794), 35975199: np.int64(207847794), 1207632: np.int64(207847794), 235716159: np.int64(207847794), 219303272: np.int64(207847794), 216552915: np.int64(207847794), 232021626: np.int64(207847794), 235097575: np.int64(207847794), 219309712: np.int64(207847794), 234344829: np.int64(207847794), 208058522: np.int64(207847794), 2231387: np.int64(207847794), 194522648: np.int64(207847794), 226283925: np.int64(207847794), 221373825: np.int64(207847794), 233365236: np.int64(207847794), 221398213: np.int64(207847794), 218973839: np.int64(207847794), 193468116: np.int64(207847794), 241583502: np.int64(207847794), 235097298: np.int64(207847794), 222315248: np.int64(207847794), 233365271: np.int64(207847794), 35059437: np.int64(207847794), 6086996: np.int64(207847794), 261342180: np.int64(207847794), 261349831: np.int64(207847794), 7662564: np.int64(207847794), 218692795: np.int64(207847794), 238638495: np.int64(207847794), 218974550: np.int64(207847794), 219306930: np.int64(207847794), 18559658: np.int64(207847794), 218973866: np.int64(207847794), 220285889: np.int64(207847794), 237366257: np.int64(207847794), 219308999: np.int64(207847794), 236145030: np.int64(207847794), 226307754: np.int64(207847794), 226284003: np.int64(207847794), 2738986: np.int64(207847794), 219307088: np.int64(207847794), 9218202: np.int64(207847794), 233189582: np.int64(207847794), 227231618: np.int64(207847794), 227231703: np.int64(207847794), 42431258: np.int64(207847794), 12167278: np.int64(207847794), 219304434: np.int64(207847794), 218973796: np.int64(207847794), 227231076: np.int64(207847794), 226239368: np.int64(207847794), 237366769: np.int64(207847794), 219309656: np.int64(207847794), 229365651: np.int64(207847794), 198919014: np.int64(207847794), 218974377: np.int64(207847794), 227230490: np.int64(207847794), 226283747: np.int64(207847794), 252763307: np.int64(207847794), 208981197: np.int64(207847794), 236459843: np.int64(207847794), 196177595: np.int64(207847794), 171922343: np.int64(207847794), 226283770: np.int64(207847794), 241583388: np.int64(207847794), 233365168: np.int64(207847794), 233365227: np.int64(207847794), 220445962: np.int64(207847794), 8507267: np.int64(207847794), 232021969: np.int64(207847794), 219306256: np.int64(207847794), 216035773: np.int64(207847794), 219300376: np.int64(207847794), 236917224: np.int64(207847794), 227217192: np.int64(207847794), 227231435: np.int64(207847794), 219308608: np.int64(207847794), 218973999: np.int64(207847794), 235097627: np.int64(207847794), 202541147: np.int64(207847794), 235097537: np.int64(207847794), 245838232: np.int64(207847794), 232021988: np.int64(207847794), 218693000: np.int64(207847794), 228076553: np.int64(207847794), 227217073: np.int64(207847794), 232021665: np.int64(207847794), 21685782: np.int64(207847794), 199022537: np.int64(207847794), 241583518: np.int64(207847794), 232021812: np.int64(207847794), 202763489: np.int64(207847794), 219306106: np.int64(207847794), 227231606: np.int64(207847794), 1143103: np.int64(207847794), 219310209: np.int64(207847794), 232021644: np.int64(207847794), 29360416: np.int64(207847794), 190074508: np.int64(207847794), 208328988: np.int64(207847794), 219304293: np.int64(207847794), 233365016: np.int64(207847794), 202541383: np.int64(207847794), 198993052: np.int64(207847794), 198953364: np.int64(207847794), 220059679: np.int64(207847794), 201677270: np.int64(207847794), 232021628: np.int64(207847794), 218974173: np.int64(207847794), 226239068: np.int64(207847794), 212429708: np.int64(207847794), 199661439: np.int64(207847794), 219300743: np.int64(207847794), 237204605: np.int64(207847794), 218974155: np.int64(207847794), 220275415: np.int64(207847794), 237155068: np.int64(207847794), 236459884: np.int64(207847794), 218973831: np.int64(207847794), 192900710: np.int64(207847794), 220444794: np.int64(207847794), 232021726: np.int64(207847794), 237155081: np.int64(207847794), 218974174: np.int64(207847794), 237099305: np.int64(207847794), 219300315: np.int64(207847794), 236937193: np.int64(207847794), 218974352: np.int64(207847794), 166228565: np.int64(207847794), 218973702: np.int64(207847794), 227231780: np.int64(207847794), 199379680: np.int64(207847794), 235655516: np.int64(207847794), 218974491: np.int64(207847794), 232021774: np.int64(207847794), 208340105: np.int64(207847794), 236999917: np.int64(207847794), 227230433: np.int64(207847794), 222310758: np.int64(207847794), 210153040: np.int64(207847794), 219306476: np.int64(207847794), 204780842: np.int64(207847794), 234347863: np.int64(207847794), 12590999: np.int64(207847794), 226283661: np.int64(207847794), 233189534: np.int64(207847794), 227231823: np.int64(207847794), 227231351: np.int64(207847794), 218974059: np.int64(207847794), 235127299: np.int64(207847794), 218487823: np.int64(207847794), 233365296: np.int64(207847794), 219301371: np.int64(207847794), 232021721: np.int64(207847794), 219307382: np.int64(207847794), 237366144: np.int64(207847794), 202539954: np.int64(207847794), 219197025: np.int64(207847794), 227231464: np.int64(207847794), 189889729: np.int64(207847794), 219301008: np.int64(207847794), 220444926: np.int64(207847794), 233365014: np.int64(207847794), 219310235: np.int64(207847794), 199379378: np.int64(207847794), 227125908: np.int64(207847794), 234487238: np.int64(207847794), 226239118: np.int64(207847794), 219182005: np.int64(207847794), 208163680: np.int64(207847794), 214797532: np.int64(207847794), 51876639: np.int64(207847794), 211548356: np.int64(207847794), 198985976: np.int64(207847794), 236779173: np.int64(207847794), 11599456: np.int64(207847794), 226283598: np.int64(207847794), 226226875: np.int64(207847794), 195351976: np.int64(207847794), 218973783: np.int64(207847794), 235097638: np.int64(207847794), 219301941: np.int64(207847794), 227904756: np.int64(207847794), 219307970: np.int64(207847794), 219310246: np.int64(207847794), 219307909: np.int64(207847794), 215768727: np.int64(207847794), 39184247: np.int64(207847794), 236486253: np.int64(207847794), 221373805: np.int64(207847794), 219303853: np.int64(207847794), 226239121: np.int64(207847794), 14171240: np.int64(207847794), 219303534: np.int64(207847794), 225047407: np.int64(207847794), 221373790: np.int64(207847794), 8009395: np.int64(207847794), 185431995: np.int64(207847794), 219302368: np.int64(207847794), 236937176: np.int64(207847794), 12742179: np.int64(207847794), 33257428: np.int64(207847794), 232021623: np.int64(207847794), 218674232: np.int64(207847794), 235716140: np.int64(207847794), 219310255: np.int64(207847794), 227230311: np.int64(207847794), 235097423: np.int64(207847794), 237558723: np.int64(207847794), 227230917: np.int64(207847794), 237204604: np.int64(207847794), 219307509: np.int64(207847794), 218977359: np.int64(207847794), 213343692: np.int64(207847794), 218974302: np.int64(207847794), 219301831: np.int64(207847794), 2020910: np.int64(207847794), 237055492: np.int64(207847794), 227230632: np.int64(207847794), 220445967: np.int64(207847794), 235258291: np.int64(207847794), 219303089: np.int64(207847794), 236459837: np.int64(207847794), 219310253: np.int64(207847794), 208030001: np.int64(207847794), 218974329: np.int64(207847794), 220837088: np.int64(207847794), 226262258: np.int64(207847794), 160744178: np.int64(207847794), 220834692: np.int64(207847794), 219308630: np.int64(207847794), 17773952: np.int64(207847794), 219307941: np.int64(207847794), 235097565: np.int64(207847794), 232021674: np.int64(207847794), 233364948: np.int64(207847794), 237217095: np.int64(207847794), 219301758: np.int64(207847794), 9701336: np.int64(207847794), 236486309: np.int64(207847794), 218870217: np.int64(207847794), 236778533: np.int64(207847794), 208193604: np.int64(207847794), 226262368: np.int64(207847794), 169509845: np.int64(207847794), 220045830: np.int64(207847794), 227905639: np.int64(207847794), 51845218: np.int64(207847794), 220060679: np.int64(207847794), 231993280: np.int64(207847794), 219307731: np.int64(207847794), 227905631: np.int64(207847794), 199372933: np.int64(207847794), 232021730: np.int64(207847794), 207963657: np.int64(207847794), 234364715: np.int64(207847794), 220446056: np.int64(207847794), 1762674: np.int64(207847794), 261342130: np.int64(207847794), 1426415: np.int64(207847794), 238638467: np.int64(207847794), 1161636: np.int64(207847794), 218973966: np.int64(207847794), 218496657: np.int64(207847794), 11074539: np.int64(207847794), 209091351: np.int64(207847794), 218497690: np.int64(207847794), 38315594: np.int64(207847794), 184482819: np.int64(207847794), 218974473: np.int64(207847794), 1023348: np.int64(207847794), 221373791: np.int64(207847794), 216051496: np.int64(207847794), 210155369: np.int64(207847794), 227231067: np.int64(207847794), 219308532: np.int64(207847794), 233189547: np.int64(207847794), 219308379: np.int64(207847794), 2497507: np.int64(207847794), 8032424: np.int64(207847794), 227230396: np.int64(207847794), 227231041: np.int64(207847794), 221373799: np.int64(207847794), 232021558: np.int64(207847794), 219302303: np.int64(207847794), 236486115: np.int64(207847794), 235729184: np.int64(207847794), 221373767: np.int64(207847794), 218977410: np.int64(207847794), 237055453: np.int64(207847794), 218973742: np.int64(207847794), 16723170: np.int64(207847794), 236486151: np.int64(207847794), 226283868: np.int64(207847794), 218974208: np.int64(207847794), 233365313: np.int64(207847794), 199379554: np.int64(207847794), 218974098: np.int64(207847794), 226239342: np.int64(207847794), 201679916: np.int64(207847794), 232021568: np.int64(207847794), 221373765: np.int64(207847794), 7685844: np.int64(207847794), 2833007: np.int64(207847794), 232021838: np.int64(207847794), 169501712: np.int64(207847794), 219933462: np.int64(207847794), 7354391: np.int64(207847794), 232021768: np.int64(207847794), 227230450: np.int64(207847794), 218868649: np.int64(207847794), 21525438: np.int64(207847794), 218974384: np.int64(207847794), 237099282: np.int64(207847794), 219307505: np.int64(207847794), 235097541: np.int64(207847794), 218977413: np.int64(207847794), 219310161: np.int64(207847794), 199022821: np.int64(207847794), 244077674: np.int64(207847794), 218973863: np.int64(207847794), 220446145: np.int64(207847794), 219306729: np.int64(207847794), 232021493: np.int64(207847794), 203642060: np.int64(207847794), 219307185: np.int64(207847794), 227231511: np.int64(207847794), 198189346: np.int64(207847794), 245838319: np.int64(207847794), 239890015: np.int64(207847794), 218977408: np.int64(207847794), 232021941: np.int64(207847794), 221097309: np.int64(207847794), 21134967: np.int64(207847794), 218661060: np.int64(207847794), 227231714: np.int64(207847794), 219239414: np.int64(207847794), 219305998: np.int64(207847794), 237155087: np.int64(207847794), 12738452: np.int64(207847794), 13999155: np.int64(207847794), 194154835: np.int64(207847794), 233364965: np.int64(207847794), 202677444: np.int64(207847794), 232021929: np.int64(207847794), 28133759: np.int64(207847794), 237099290: np.int64(207847794), 220060189: np.int64(207847794), 235097642: np.int64(207847794), 236486076: np.int64(207847794), 236144984: np.int64(207847794), 236486315: np.int64(207847794), 220445365: np.int64(207847794), 227231584: np.int64(207847794), 227230260: np.int64(207847794), 218973792: np.int64(207847794), 218977401: np.int64(207847794), 1377275: np.int64(207847794), 232021922: np.int64(207847794), 235097545: np.int64(207847794), 45974637: np.int64(207847794), 169264378: np.int64(207847794), 226283608: np.int64(207847794), 36234656: np.int64(207847794), 190163139: np.int64(207847794), 219310113: np.int64(207847794), 235097531: np.int64(207847794), 226283612: np.int64(207847794), 233480312: np.int64(207847794), 219302336: np.int64(207847794), 232021654: np.int64(207847794), 220835144: np.int64(207847794), 218973967: np.int64(207847794), 218974472: np.int64(207847794), 221373782: np.int64(207847794), 208309812: np.int64(207847794), 218974157: np.int64(207847794), 221373736: np.int64(207847794), 235097324: np.int64(207847794), 219308374: np.int64(207847794), 219306515: np.int64(207847794), 245838275: np.int64(207847794), 226283613: np.int64(207847794), 218974424: np.int64(207847794), 1723112: np.int64(207847794), 232021796: np.int64(207847794), 219310243: np.int64(207847794), 13598603: np.int64(207847794), 210153353: np.int64(207847794), 226283589: np.int64(207847794), 231821644: np.int64(207847794), 220446225: np.int64(207847794), 232021998: np.int64(207847794), 199442470: np.int64(207847794), 218538302: np.int64(207847794), 195988888: np.int64(207847794), 233365288: np.int64(207847794), 6615259: np.int64(207847794), 204922882: np.int64(207847794), 219307712: np.int64(207847794), 236486143: np.int64(207847794), 219309377: np.int64(207847794), 218973688: np.int64(207847794), 189761982: np.int64(207847794), 189927911: np.int64(207847794), 212806126: np.int64(207847794), 227230787: np.int64(207847794), 227230693: np.int64(207847794), 232021690: np.int64(207847794), 218974469: np.int64(207847794), 218973971: np.int64(207847794), 219307773: np.int64(207847794), 219300478: np.int64(207847794), 227230890: np.int64(207847794), 184482846: np.int64(207847794), 199379639: np.int64(207847794), 33251492: np.int64(207847794), 218974379: np.int64(207847794), 219301663: np.int64(207847794), 207847212: np.int64(207847794), 226262457: np.int64(207847794), 218973912: np.int64(207847794), 215745733: np.int64(207847794), 218974221: np.int64(207847794), 219299946: np.int64(207847794), 226239084: np.int64(207847794), 220445814: np.int64(207847794), 226283667: np.int64(207847794), 195390786: np.int64(207847794), 41690369: np.int64(207847794), 219301509: np.int64(207847794), 219301355: np.int64(207847794), 218974362: np.int64(207847794), 237055475: np.int64(207847794), 226239097: np.int64(207847794), 219310110: np.int64(207847794), 218052393: np.int64(207847794), 208173318: np.int64(207847794), 219303427: np.int64(207847794), 161534559: np.int64(207847794), 226239223: np.int64(207847794), 28022811: np.int64(207847794), 236917202: np.int64(207847794), 231821649: np.int64(207847794), 237055438: np.int64(207847794), 227231139: np.int64(207847794), 221097909: np.int64(207847794), 209432445: np.int64(207847794), 218974279: np.int64(207847794), 220060878: np.int64(207847794), 219300501: np.int64(207847794), 236486212: np.int64(207847794), 220446317: np.int64(207847794), 232021772: np.int64(207847794), 210722345: np.int64(207847794), 220834646: np.int64(207847794), 219306763: np.int64(207847794), 160704372: np.int64(207847794), 233365123: np.int64(207847794), 237055481: np.int64(207847794), 233365330: np.int64(207847794), 219306167: np.int64(207847794), 202734912: np.int64(207847794), 231642972: np.int64(207847794), 211037796: np.int64(207847794), 199379787: np.int64(207847794), 204401755: np.int64(207847794), 219308995: np.int64(207847794), 227904591: np.int64(207847794), 193004327: np.int64(207847794), 219307351: np.int64(207847794), 219303782: np.int64(207847794), 200084092: np.int64(207847794), 218974401: np.int64(207847794), 219310231: np.int64(207847794), 218974142: np.int64(207847794), 218973992: np.int64(207847794), 218973737: np.int64(207847794), 220446114: np.int64(207847794), 232348778: np.int64(207847794), 218973774: np.int64(207847794), 219558832: np.int64(207847794), 219308128: np.int64(207847794), 226483695: np.int64(207847794), 219732655: np.int64(207847794), 228901349: np.int64(207847794), 219308739: np.int64(207847794), 41653473: np.int64(207847794), 194742206: np.int64(207847794), 172018741: np.int64(207847794), 27310021: np.int64(207847794), 203668111: np.int64(207847794), 218973734: np.int64(207847794), 172035287: np.int64(207847794), 218974470: np.int64(207847794), 226239359: np.int64(207847794), 219305115: np.int64(207847794), 219309290: np.int64(207847794), 17050521: np.int64(207847794), 218973886: np.int64(207847794), 219308516: np.int64(207847794), 220445806: np.int64(207847794), 221097303: np.int64(207847794), 199379433: np.int64(207847794), 199379761: np.int64(207847794), 218973775: np.int64(207847794), 235386398: np.int64(207847794), 237204580: np.int64(207847794), 226239321: np.int64(207847794), 230104172: np.int64(207847794), 220275246: np.int64(207847794), 236460121: np.int64(207847794), 218515289: np.int64(207847794), 218974019: np.int64(207847794), 220060862: np.int64(207847794), 220444725: np.int64(207847794), 220329391: np.int64(207847794), 219301129: np.int64(207847794), 212696586: np.int64(207847794), 221097320: np.int64(207847794), 220330713: np.int64(207847794), 236460228: np.int64(207847794), 235097595: np.int64(207847794), 227904565: np.int64(207847794), 196170875: np.int64(207847794), 225047058: np.int64(207847794), 195064963: np.int64(207847794), 36669283: np.int64(207847794), 236937187: np.int64(207847794), 236486227: np.int64(207847794), 232021845: np.int64(207847794), 220445378: np.int64(207847794), 221895797: np.int64(207847794), 218661548: np.int64(207847794), 226283590: np.int64(207847794), 31505541: np.int64(207847794), 1768347: np.int64(207847794), 236459835: np.int64(207847794), 218974403: np.int64(207847794), 233365324: np.int64(207847794), 201686982: np.int64(207847794), 232021708: np.int64(207847794), 219301229: np.int64(207847794), 219309580: np.int64(207847794), 166393890: np.int64(207847794), 226283804: np.int64(207847794), 227230278: np.int64(207847794), 219232690: np.int64(207847794), 218973871: np.int64(207847794), 219302806: np.int64(207847794), 226283999: np.int64(207847794), 261341854: np.int64(207847794), 198910261: np.int64(207847794), 232021689: np.int64(207847794), 220446309: np.int64(207847794), 236486236: np.int64(207847794), 219308541: np.int64(207847794), 225268625: np.int64(207847794), 218973797: np.int64(207847794), 236486118: np.int64(207847794), 795809: np.int64(207847794), 1074066: np.int64(207847794), 219310164: np.int64(207847794), 219306864: np.int64(207847794), 221097250: np.int64(207847794), 233189636: np.int64(207847794), 28943034: np.int64(207847794), 237055445: np.int64(207847794), 219307254: np.int64(207847794), 235716164: np.int64(207847794), 61905391: np.int64(207847794), 227230414: np.int64(207847794), 236779168: np.int64(207847794), 199566730: np.int64(207847794), 218973900: np.int64(207847794), 227230530: np.int64(207847794), 226283821: np.int64(207847794), 219302453: np.int64(207847794), 212614029: np.int64(207847794), 207901100: np.int64(207847794), 2818499: np.int64(207847794), 220444937: np.int64(207847794), 232765130: np.int64(207847794), 233365155: np.int64(207847794), 233365150: np.int64(207847794), 207968926: np.int64(207847794), 220837045: np.int64(207847794), 218973748: np.int64(207847794), 233356271: np.int64(207847794), 1183270: np.int64(207847794), 7195006: np.int64(207847794), 227231852: np.int64(207847794), 235097660: np.int64(207847794), 261342104: np.int64(207847794), 236999928: np.int64(207847794), 35527796: np.int64(207847794), 218869064: np.int64(207847794), 219308140: np.int64(207847794), 2313392: np.int64(207847794), 210153652: np.int64(207847794), 219304418: np.int64(207847794), 198986900: np.int64(207847794), 226262248: np.int64(207847794), 7060707: np.int64(207847794), 218974097: np.int64(207847794), 42153823: np.int64(207847794), 210722380: np.int64(207847794), 202775878: np.int64(207847794), 226239307: np.int64(207847794), 15092857: np.int64(207847794), 219309471: np.int64(207847794), 218959403: np.int64(207847794), 207925611: np.int64(207847794), 230087665: np.int64(207847794), 232021675: np.int64(207847794), 220273394: np.int64(207847794), 234487210: np.int64(207847794), 219301634: np.int64(207847794), 226239287: np.int64(207847794), 255775284: np.int64(207847794), 227231721: np.int64(207847794), 219307563: np.int64(207847794), 219308407: np.int64(207847794), 220835523: np.int64(207847794), 226283907: np.int64(207847794), 232021921: np.int64(207847794), 232021989: np.int64(207847794), 218974198: np.int64(207847794), 220059678: np.int64(207847794), 219303996: np.int64(207847794), 227230685: np.int64(207847794), 237055442: np.int64(207847794), 226262390: np.int64(207847794), 11737120: np.int64(207847794), 232021715: np.int64(207847794), 9487768: np.int64(207847794), 219310261: np.int64(207847794), 14385306: np.int64(207847794), 218974145: np.int64(207847794), 236486245: np.int64(207847794), 225091688: np.int64(207847794), 237099268: np.int64(207847794), 202763347: np.int64(207847794), 218973846: np.int64(207847794), 226239204: np.int64(207847794), 2193458: np.int64(207847794), 201711672: np.int64(207847794), 236999886: np.int64(207847794), 219305220: np.int64(207847794), 2899706: np.int64(207847794), 40644744: np.int64(207847794), 208268267: np.int64(207847794), 220046812: np.int64(207847794), 199379739: np.int64(207847794), 236999915: np.int64(207847794), 227230459: np.int64(207847794), 235097223: np.int64(207847794), 232021661: np.int64(207847794), 27672878: np.int64(207847794), 219308373: np.int64(207847794), 235075857: np.int64(207847794), 227231519: np.int64(207847794), 227905982: np.int64(207847794), 218974327: np.int64(207847794), 226283958: np.int64(207847794), 220446110: np.int64(207847794), 232021550: np.int64(207847794), 201637200: np.int64(207847794), 237055479: np.int64(207847794), 170558160: np.int64(207847794), 222006100: np.int64(207847794), 227231837: np.int64(207847794), 59528349: np.int64(207847794), 210055316: np.int64(207847794), 170395923: np.int64(207847794), 227231499: np.int64(207847794), 252763344: np.int64(207847794), 218974529: np.int64(207847794), 252763284: np.int64(207847794), 233364985: np.int64(207847794), 219310302: np.int64(207847794), 232021908: np.int64(207847794), 218973779: np.int64(207847794), 219305490: np.int64(207847794), 232021639: np.int64(207847794), 238251632: np.int64(207847794), 219306834: np.int64(207847794), 238638478: np.int64(207847794), 220835107: np.int64(207847794), 218653599: np.int64(207847794), 239890023: np.int64(207847794), 218973911: np.int64(207847794), 219302988: np.int64(207847794), 229366017: np.int64(207847794), 236486150: np.int64(207847794), 263044836: np.int64(207847794), 773282: np.int64(207847794), 260814972: np.int64(207847794), 9854492: np.int64(207847794), 5275640: np.int64(207847794), 2357939: np.int64(207847794), 227231595: np.int64(207847794), 218974413: np.int64(207847794), 53575110: np.int64(207847794), 232021589: np.int64(207847794), 243982006: np.int64(207847794), 236145088: np.int64(207847794), 236486241: np.int64(207847794), 232021567: np.int64(207847794), 226283451: np.int64(207847794), 262817564: np.int64(207847794), 243950143: np.int64(207847794), 202708341: np.int64(207847794), 227230425: np.int64(207847794), 227230912: np.int64(207847794), 3035164: np.int64(207847794), 236460022: np.int64(207847794), 204777376: np.int64(207847794), 174800518: np.int64(207847794), 235716169: np.int64(207847794), 231642426: np.int64(207847794), 219306857: np.int64(207847794), 232021821: np.int64(207847794), 218595319: np.int64(207847794), 225062797: np.int64(207847794), 226239163: np.int64(207847794), 236486077: np.int64(207847794), 195351926: np.int64(207847794), 220445446: np.int64(207847794), 233365132: np.int64(207847794), 235097276: np.int64(207847794), 218977400: np.int64(207847794), 166105659: np.int64(207847794), 235097412: np.int64(207847794), 10782538: np.int64(207847794), 227231764: np.int64(207847794), 219305257: np.int64(207847794), 252763357: np.int64(207847794), 219301946: np.int64(207847794), 169856888: np.int64(207847794), 245856029: np.int64(207847794), 235482363: np.int64(207847794), 34564725: np.int64(207847794), 218663037: np.int64(207847794), 218973995: np.int64(207847794), 232021522: np.int64(207847794), 227231068: np.int64(207847794), 18558385: np.int64(207847794), 233189634: np.int64(207847794), 233365263: np.int64(207847794), 232021839: np.int64(207847794), 8930717: np.int64(207847794), 232021905: np.int64(207847794), 12543928: np.int64(207847794), 219898921: np.int64(207847794), 243983109: np.int64(207847794), 233429871: np.int64(207847794), 219307713: np.int64(207847794), 196002081: np.int64(207847794), 13813505: np.int64(207847794), 219302297: np.int64(207847794), 226239214: np.int64(207847794), 227231087: np.int64(207847794), 219310312: np.int64(207847794), 219306700: np.int64(207847794), 237204600: np.int64(207847794), 218974325: np.int64(207847794), 219305659: np.int64(207847794), 226239389: np.int64(207847794), 220058761: np.int64(207847794), 218974218: np.int64(207847794), 218973755: np.int64(207847794), 202623294: np.int64(207847794), 212616973: np.int64(207847794), 218594230: np.int64(207847794), 226283876: np.int64(207847794), 7573506: np.int64(207847794), 232021579: np.int64(207847794), 232021702: np.int64(207847794), 207915656: np.int64(207847794), 198159868: np.int64(207847794), 218974453: np.int64(207847794), 11428425: np.int64(207847794), 190643017: np.int64(207847794), 219309784: np.int64(207847794), 196209270: np.int64(207847794), 225062636: np.int64(207847794), 219300633: np.int64(207847794), 219309279: np.int64(207847794), 218974053: np.int64(207847794), 172125821: np.int64(207847794), 203698435: np.int64(207847794), 227231616: np.int64(207847794), 219938042: np.int64(207847794), 232021912: np.int64(207847794), 219300490: np.int64(207847794), 230080962: np.int64(207847794), 232021820: np.int64(207847794), 198971448: np.int64(207847794), 3266019: np.int64(207847794), 204885032: np.int64(207847794), 227230909: np.int64(207847794), 203181310: np.int64(207847794), 219307467: np.int64(207847794), 219304487: np.int64(207847794), 219304966: np.int64(207847794), 219309325: np.int64(207847794), 235127341: np.int64(207847794), 8352128: np.int64(207847794), 16355781: np.int64(207847794), 202548786: np.int64(207847794), 226283928: np.int64(207847794), 870: np.int64(207847794), 235097364: np.int64(207847794), 219308481: np.int64(207847794), 218977363: np.int64(207847794), 218973747: np.int64(207847794), 32042348: np.int64(207847794), 8870509: np.int64(207847794), 207912018: np.int64(207847794), 201739614: np.int64(207847794), 236779163: np.int64(207847794), 196186973: np.int64(207847794), 226283805: np.int64(207847794), 45878230: np.int64(207847794), 219301900: np.int64(207847794), 33356323: np.int64(207847794), 43891229: np.int64(207847794), 220444903: np.int64(207847794), 237558708: np.int64(207847794), 170878930: np.int64(207847794), 220444917: np.int64(207847794), 7668783: np.int64(207847794), 203122930: np.int64(207847794), 219309951: np.int64(207847794), 171005012: np.int64(207847794), 229365674: np.int64(207847794), 231642311: np.int64(207847794), 219309761: np.int64(207847794), 174799787: np.int64(207847794), 220445922: np.int64(207847794), 236486308: np.int64(207847794), 219307255: np.int64(207847794), 209387602: np.int64(207847794), 171588630: np.int64(207847794), 231482669: np.int64(207847794), 219310140: np.int64(207847794), 227230614: np.int64(207847794), 208004056: np.int64(207847794), 226283622: np.int64(207847794), 218974364: np.int64(207847794), 218974381: np.int64(207847794), 226307756: np.int64(207847794), 236460217: np.int64(207847794), 219303998: np.int64(207847794), 219271674: np.int64(207847794), 218977390: np.int64(207847794), 219307857: np.int64(207847794), 233189598: np.int64(207847794), 202723595: np.int64(207847794), 219310218: np.int64(207847794), 46131215: np.int64(207847794), 225062689: np.int64(207847794), 6541034: np.int64(207847794), 219309539: np.int64(207847794), 237010908: np.int64(207847794), 218689492: np.int64(207847794), 218973794: np.int64(207847794), 2788301: np.int64(207847794), 218973731: np.int64(207847794), 232021995: np.int64(207847794), 208028849: np.int64(207847794), 218973874: np.int64(207847794), 46439262: np.int64(207847794), 236999918: np.int64(207847794), 218974071: np.int64(207847794), 243864633: np.int64(207847794), 171589446: np.int64(207847794), 226283763: np.int64(207847794), 27884224: np.int64(207847794), 133611643: np.int64(207847794), 2457759: np.int64(207847794), 39619593: np.int64(207847794), 226283498: np.int64(207847794), 208001577: np.int64(207847794), 232021888: np.int64(207847794), 190415966: np.int64(207847794), 196092330: np.int64(207847794), 235601987: np.int64(207847794), 233365274: np.int64(207847794), 233365366: np.int64(207847794), 227231137: np.int64(207847794), 237155018: np.int64(207847794), 6145841: np.int64(207847794), 219307292: np.int64(207847794), 196175239: np.int64(207847794), 233364998: np.int64(207847794), 219308860: np.int64(207847794), 174800058: np.int64(207847794), 236898618: np.int64(207847794), 218974398: np.int64(207847794), 241583393: np.int64(207847794), 218973812: np.int64(207847794), 227230309: np.int64(207847794), 235097419: np.int64(207847794), 21718655: np.int64(207847794), 6588948: np.int64(207847794), 232021842: np.int64(207847794), 6553277: np.int64(207847794), 229365710: np.int64(207847794), 162951809: np.int64(207847794), 59902697: np.int64(207847794), 219305854: np.int64(207847794), 174800799: np.int64(207847794), 29966419: np.int64(207847794), 236534778: np.int64(207847794), 235097678: np.int64(207847794), 220325764: np.int64(207847794), 218974093: np.int64(207847794), 227231209: np.int64(207847794), 220329709: np.int64(207847794), 245838339: np.int64(207847794), 233365220: np.int64(207847794), 220835650: np.int64(207847794), 219307495: np.int64(207847794), 219301525: np.int64(207847794), 236460194: np.int64(207847794), 207969021: np.int64(207847794), 208070150: np.int64(207847794), 10527293: np.int64(207847794), 219309934: np.int64(207847794), 218973970: np.int64(207847794), 3161327: np.int64(207847794), 219306619: np.int64(207847794), 227230592: np.int64(207847794), 229365789: np.int64(207847794), 239890014: np.int64(207847794), 222315119: np.int64(207847794), 227230368: np.int64(207847794), 2836649: np.int64(207847794), 235097465: np.int64(207847794), 237476661: np.int64(207847794), 227231599: np.int64(207847794), 243864623: np.int64(207847794), 208134995: np.int64(207847794), 218977364: np.int64(207847794), 7711465: np.int64(207847794), 220837172: np.int64(207847794), 12463261: np.int64(207847794), 19614327: np.int64(207847794), 219307125: np.int64(207847794), 226283648: np.int64(207847794), 213943556: np.int64(207847794), 236534785: np.int64(207847794), 235097375: np.int64(207847794), 227230906: np.int64(207847794), 219306504: np.int64(207847794), 199379501: np.int64(207847794), 222303691: np.int64(207847794), 237366190: np.int64(207847794), 209443803: np.int64(207847794), 220057117: np.int64(207847794), 219304402: np.int64(207847794), 233429872: np.int64(207847794), 185879829: np.int64(207847794), 219860542: np.int64(207847794), 218974171: np.int64(207847794), 228076505: np.int64(207847794), 219307790: np.int64(207847794), 219301787: np.int64(207847794), 3401693: np.int64(207847794), 237155074: np.int64(207847794), 236477606: np.int64(207847794), 199370789: np.int64(207847794), 219303663: np.int64(207847794), 232021963: np.int64(207847794), 221097377: np.int64(207847794), 220056971: np.int64(207847794), 232021509: np.int64(207847794), 208325681: np.int64(207847794), 40841782: np.int64(207847794), 219302583: np.int64(207847794), 39580589: np.int64(207847794), 23054538: np.int64(207847794), 250390470: np.int64(207847794), 235097567: np.int64(207847794), 184482772: np.int64(207847794), 9130224: np.int64(207847794), 218974156: np.int64(207847794), 216085946: np.int64(207847794), 219300097: np.int64(207847794), 220046814: np.int64(207847794), 245838436: np.int64(207847794), 220127581: np.int64(207847794), 195489519: np.int64(207847794), 15114080: np.int64(207847794), 220282290: np.int64(207847794), 37255505: np.int64(207847794), 10175429: np.int64(207847794), 219308397: np.int64(207847794), 237099267: np.int64(207847794), 171432679: np.int64(207847794), 227230649: np.int64(207847794), 32194977: np.int64(207847794), 227231038: np.int64(207847794), 210063245: np.int64(207847794), 34399248: np.int64(207847794), 196215041: np.int64(207847794), 219303233: np.int64(207847794), 220060492: np.int64(207847794), 218973848: np.int64(207847794), 219305828: np.int64(207847794), 233365316: np.int64(207847794), 234487213: np.int64(207847794), 237558731: np.int64(207847794), 232021947: np.int64(207847794), 218559344: np.int64(207847794), 236145000: np.int64(207847794), 219304528: np.int64(207847794), 195917021: np.int64(207847794), 219182443: np.int64(207847794), 227231661: np.int64(207847794), 235097198: np.int64(207847794), 8849620: np.int64(207847794), 236460049: np.int64(207847794), 219310195: np.int64(207847794), 220445825: np.int64(207847794), 227231220: np.int64(207847794), 226262319: np.int64(207847794), 226283642: np.int64(207847794), 219309486: np.int64(207847794), 208330899: np.int64(207847794), 198977352: np.int64(207847794), 222335546: np.int64(207847794), 226283970: np.int64(207847794), 232021826: np.int64(207847794), 219240528: np.int64(207847794), 208246040: np.int64(207847794), 261341779: np.int64(207847794), 226262185: np.int64(207847794), 234487243: np.int64(207847794), 45677883: np.int64(207847794), 235097504: np.int64(207847794), 245855910: np.int64(207847794), 10031895: np.int64(207847794), 227231576: np.int64(207847794), 236459882: np.int64(207847794), 219301310: np.int64(207847794), 232021545: np.int64(207847794), 192748907: np.int64(207847794), 210178657: np.int64(207847794), 226239184: np.int64(207847794), 234487193: np.int64(207847794), 219304821: np.int64(207847794), 218974556: np.int64(207847794), 218974188: np.int64(207847794), 219307696: np.int64(207847794), 236486120: np.int64(207847794), 227905457: np.int64(207847794), 220056969: np.int64(207847794), 238638475: np.int64(207847794), 226283436: np.int64(207847794), 218974116: np.int64(207847794), 190454574: np.int64(207847794), 12141494: np.int64(207847794), 212843054: np.int64(207847794), 219309481: np.int64(207847794), 218974276: np.int64(207847794), 20026977: np.int64(207847794), 245838245: np.int64(207847794), 226283936: np.int64(207847794), 196148977: np.int64(207847794), 170502170: np.int64(207847794), 237366378: np.int64(207847794), 199564576: np.int64(207847794), 219303677: np.int64(207847794), 218973869: np.int64(207847794), 229365761: np.int64(207847794), 236779165: np.int64(207847794), 220046482: np.int64(207847794), 198978291: np.int64(207847794), 14200274: np.int64(207847794), 196199522: np.int64(207847794), 221829101: np.int64(207847794), 235097453: np.int64(207847794), 219300131: np.int64(207847794), 204527169: np.int64(207847794), 218974274: np.int64(207847794), 196048308: np.int64(207847794), 229365784: np.int64(207847794), 218974499: np.int64(207847794), 227230388: np.int64(207847794), 219306292: np.int64(207847794), 11595048: np.int64(207847794), 232021592: np.int64(207847794), 226283586: np.int64(207847794), 238251637: np.int64(207847794), 5361302: np.int64(207847794), 218973878: np.int64(207847794), 169375691: np.int64(207847794), 226239372: np.int64(207847794), 218974172: np.int64(207847794), 218977417: np.int64(207847794), 30490621: np.int64(207847794), 219166304: np.int64(207847794), 219305844: np.int64(207847794), 232021597: np.int64(207847794), 218973739: np.int64(207847794), 15237829: np.int64(207847794), 232021611: np.int64(207847794), 225086410: np.int64(207847794), 219310214: np.int64(207847794), 226307923: np.int64(207847794), 208245190: np.int64(207847794), 220445377: np.int64(207847794), 218974404: np.int64(207847794), 225063163: np.int64(207847794), 233365214: np.int64(207847794), 233365057: np.int64(207847794), 227905509: np.int64(207847794), 226283652: np.int64(207847794), 227231048: np.int64(207847794), 219310311: np.int64(207847794), 219310080: np.int64(207847794), 31915229: np.int64(207847794), 209374354: np.int64(207847794), 220284617: np.int64(207847794), 218974078: np.int64(207847794), 227231525: np.int64(207847794), 220836910: np.int64(207847794), 226283513: np.int64(207847794), 232021637: np.int64(207847794), 202752129: np.int64(207847794), 219306034: np.int64(207847794), 42782378: np.int64(207847794), 252624567: np.int64(207847794), 201739611: np.int64(207847794), 198950322: np.int64(207847794), 52013137: np.int64(207847794), 207912517: np.int64(207847794), 236477523: np.int64(207847794), 233364967: np.int64(207847794), 212512308: np.int64(207847794), 219307093: np.int64(207847794), 195742686: np.int64(207847794), 237155029: np.int64(207847794), 218974459: np.int64(207847794), 3033171: np.int64(207847794), 226239374: np.int64(207847794), 184482693: np.int64(207847794), 7795966: np.int64(207847794), 220330989: np.int64(207847794), 209062336: np.int64(207847794), 207902465: np.int64(207847794), 220444941: np.int64(207847794), 208051720: np.int64(207847794), 220444939: np.int64(207847794), 220444898: np.int64(207847794), 232021706: np.int64(207847794), 219302699: np.int64(207847794), 204914305: np.int64(207847794), 219301676: np.int64(207847794), 235716162: np.int64(207847794), 196098247: np.int64(207847794), 170746203: np.int64(207847794), 221097295: np.int64(207847794), 5279266: np.int64(207847794), 218973997: np.int64(207847794), 26927490: np.int64(207847794), 237155069: np.int64(207847794), 219305397: np.int64(207847794), 226283433: np.int64(207847794), 28834022: np.int64(207847794), 219301940: np.int64(207847794), 232021984: np.int64(207847794), 237565792: np.int64(207847794), 219302596: np.int64(207847794), 207925412: np.int64(207847794), 164910321: np.int64(207847794), 218973718: np.int64(207847794), 236486269: np.int64(207847794), 237365381: np.int64(207847794), 9665964: np.int64(207847794), 218973727: np.int64(207847794), 227231055: np.int64(207847794), 229365763: np.int64(207847794), 233189548: np.int64(207847794), 225062881: np.int64(207847794), 7687535: np.int64(207847794), 219899636: np.int64(207847794), 219303199: np.int64(207847794), 209372940: np.int64(207847794), 227231710: np.int64(207847794), 240635028: np.int64(207847794), 227230679: np.int64(207847794), 15155425: np.int64(207847794), 252763313: np.int64(207847794), 231709830: np.int64(207847794), 207900268: np.int64(207847794), 226239390: np.int64(207847794), 235097290: np.int64(207847794), 245838299: np.int64(207847794), 219309495: np.int64(207847794), 229366143: np.int64(207847794), 210154124: np.int64(207847794), 232021791: np.int64(207847794), 209054931: np.int64(207847794), 227217666: np.int64(207847794), 220058126: np.int64(207847794), 232021703: np.int64(207847794), 219302028: np.int64(207847794), 227905688: np.int64(207847794), 218974130: np.int64(207847794), 219309095: np.int64(207847794), 196198309: np.int64(207847794), 227231782: np.int64(207847794), 171030677: np.int64(207847794), 226283863: np.int64(207847794), 235097547: np.int64(207847794), 219302054: np.int64(207847794), 227231089: np.int64(207847794), 226239352: np.int64(207847794), 192340647: np.int64(207847794), 245838338: np.int64(207847794), 213240956: np.int64(207847794), 255775293: np.int64(207847794), 218973715: np.int64(207847794), 218974430: np.int64(207847794), 232021964: np.int64(207847794), 219925253: np.int64(207847794), 210054272: np.int64(207847794), 218974391: np.int64(207847794), 236486251: np.int64(207847794), 220445728: np.int64(207847794), 261345021: np.int64(207847794), 10621900: np.int64(207847794), 31141448: np.int64(207847794), 219309714: np.int64(207847794), 6002573: np.int64(207847794), 218973882: np.int64(207847794), 209070166: np.int64(207847794), 208006155: np.int64(207847794), 184483148: np.int64(207847794), 225062650: np.int64(207847794), 235258278: np.int64(207847794), 220056966: np.int64(207847794), 7557201: np.int64(207847794), 35778251: np.int64(207847794), 227230274: np.int64(207847794), 226283448: np.int64(207847794), 219309418: np.int64(207847794), 232021580: np.int64(207847794), 232021698: np.int64(207847794), 232021825: np.int64(207847794), 226239343: np.int64(207847794), 2037006: np.int64(207847794), 219310073: np.int64(207847794), 235097304: np.int64(207847794), 226307924: np.int64(207847794), 219309026: np.int64(207847794), 232021780: np.int64(207847794), 11961759: np.int64(207847794), 218974483: np.int64(207847794), 222303616: np.int64(207847794), 227230645: np.int64(207847794), 221097460: np.int64(207847794), 5249216: np.int64(207847794), 218973916: np.int64(207847794), 227231751: np.int64(207847794), 184483382: np.int64(207847794), 236917225: np.int64(207847794), 218974168: np.int64(207847794), 236145008: np.int64(207847794), 221373766: np.int64(207847794), 219305345: np.int64(207847794), 227230262: np.int64(207847794), 226283908: np.int64(207847794), 220835109: np.int64(207847794), 220835366: np.int64(207847794), 171972947: np.int64(207847794), 218974039: np.int64(207847794), 232021649: np.int64(207847794), 218974077: np.int64(207847794), 195482364: np.int64(207847794), 149771327: np.int64(207847794), 237256855: np.int64(207847794), 236486180: np.int64(207847794), 5208036: np.int64(207847794), 218973708: np.int64(207847794), 61178558: np.int64(207847794), 227231226: np.int64(207847794), 235097348: np.int64(207847794), 59719304: np.int64(207847794), 226283781: np.int64(207847794), 226283563: np.int64(207847794), 235097389: np.int64(207847794), 193733769: np.int64(207847794), 227230310: np.int64(207847794), 219301612: np.int64(207847794), 9687536: np.int64(207847794), 226239187: np.int64(207847794), 218974319: np.int64(207847794), 236999905: np.int64(207847794), 219309086: np.int64(207847794), 220835807: np.int64(207847794), 235097551: np.int64(207847794), 232765112: np.int64(207847794), 233365216: np.int64(207847794), 219307957: np.int64(207847794), 234347346: np.int64(207847794), 219307798: np.int64(207847794), 202743962: np.int64(207847794), 236486256: np.int64(207847794), 235258296: np.int64(207847794), 192986113: np.int64(207847794), 226283972: np.int64(207847794), 218974127: np.int64(207847794), 199560526: np.int64(207847794), 236486277: np.int64(207847794), 226239222: np.int64(207847794), 219305228: np.int64(207847794), 201741642: np.int64(207847794), 218974546: np.int64(207847794), 218973998: np.int64(207847794), 226283778: np.int64(207847794), 235097233: np.int64(207847794), 225047665: np.int64(207847794), 219868666: np.int64(207847794), 19643346: np.int64(207847794), 193390903: np.int64(207847794), 226283892: np.int64(207847794), 219910231: np.int64(207847794), 305787: np.int64(207847794), 218973910: np.int64(207847794), 227231754: np.int64(207847794), 243840446: np.int64(207847794), 237365373: np.int64(207847794), 198353184: np.int64(207847794), 219305285: np.int64(207847794), 236478233: np.int64(207847794), 227231854: np.int64(207847794), 218974552: np.int64(207847794), 171182280: np.int64(207847794), 233365179: np.int64(207847794), 195349558: np.int64(207847794), 232021621: np.int64(207847794), 236145110: np.int64(207847794), 219302130: np.int64(207847794), 184483500: np.int64(207847794), 199379840: np.int64(207847794), 2114940: np.int64(207847794), 229365832: np.int64(207847794), 186206323: np.int64(207847794), 192867317: np.int64(207847794), 227231592: np.int64(207847794), 219308902: np.int64(207847794), 219302026: np.int64(207847794), 218974355: np.int64(207847794), 41495281: np.int64(207847794), 250179958: np.int64(207847794), 235075862: np.int64(207847794), 219302215: np.int64(207847794), 227231646: np.int64(207847794), 199368201: np.int64(207847794), 218974033: np.int64(207847794), 232765111: np.int64(207847794), 233365272: np.int64(207847794), 219302503: np.int64(207847794), 235097514: np.int64(207847794), 1871483: np.int64(207847794), 236459848: np.int64(207847794), 210154617: np.int64(207847794), 208057473: np.int64(207847794), 198543444: np.int64(207847794), 235097261: np.int64(207847794), 207969499: np.int64(207847794), 232021900: np.int64(207847794), 39140490: np.int64(207847794), 219307076: np.int64(207847794), 227231621: np.int64(207847794), 202890611: np.int64(207847794), 19563882: np.int64(207847794), 218974439: np.int64(207847794), 227231876: np.int64(207847794), 219300772: np.int64(207847794), 233365075: np.int64(207847794), 219300789: np.int64(207847794), 221097282: np.int64(207847794), 28575509: np.int64(207847794), 164572343: np.int64(207847794), 219309548: np.int64(207847794), 209324876: np.int64(207847794), 219310186: np.int64(207847794), 227230374: np.int64(207847794), 14686868: np.int64(207847794), 198234762: np.int64(207847794), 226262278: np.int64(207847794), 237436392: np.int64(207847794), 233305616: np.int64(207847794), 236999907: np.int64(207847794), 220058607: np.int64(207847794), 227905601: np.int64(207847794), 219308413: np.int64(207847794), 219307448: np.int64(207847794), 219306569: np.int64(207847794), 219310168: np.int64(207847794), 219308087: np.int64(207847794), 192834018: np.int64(207847794), 220446036: np.int64(207847794), 220445767: np.int64(207847794), 235075869: np.int64(207847794), 245838311: np.int64(207847794), 237367026: np.int64(207847794), 220274467: np.int64(207847794), 261342139: np.int64(207847794), 218977415: np.int64(207847794), 232021970: np.int64(207847794), 238638489: np.int64(207847794), 219300390: np.int64(207847794), 209440842: np.int64(207847794), 219306974: np.int64(207847794), 219304925: np.int64(207847794), 227231777: np.int64(207847794), 210531696: np.int64(207847794), 237302692: np.int64(207847794), 235716155: np.int64(207847794), 219939831: np.int64(207847794), 215755871: np.int64(207847794), 236460307: np.int64(207847794), 219308576: np.int64(207847794), 170814174: np.int64(207847794), 170707485: np.int64(207847794), 219301979: np.int64(207847794), 6745689: np.int64(207847794), 218974344: np.int64(207847794), 218973754: np.int64(207847794), 199557481: np.int64(207847794), 218974408: np.int64(207847794), 226283636: np.int64(207847794), 219299806: np.int64(207847794), 263772568: np.int64(207847794), 261341581: np.int64(207847794), 1919: np.int64(207847794), 219308195: np.int64(207847794), 235097532: np.int64(207847794), 218973917: np.int64(207847794), 232021836: np.int64(207847794), 234345308: np.int64(207847794), 218974047: np.int64(207847794), 227230546: np.int64(207847794), 221097958: np.int64(207847794), 31955839: np.int64(207847794), 195350271: np.int64(207847794), 195351934: np.int64(207847794), 90903201: np.int64(207847794), 219300197: np.int64(207847794), 232021906: np.int64(207847794), 222140827: np.int64(207847794), 32973239: np.int64(207847794), 236145052: np.int64(207847794), 220444932: np.int64(207847794), 219303240: np.int64(207847794), 210494566: np.int64(207847794), 220314064: np.int64(207847794), 219304266: np.int64(207847794), 210152110: np.int64(207847794), 210722417: np.int64(207847794), 218973827: np.int64(207847794), 236459803: np.int64(207847794), 220444961: np.int64(207847794), 152179197: np.int64(207847794), 219309171: np.int64(207847794), 261342169: np.int64(207847794), 219301440: np.int64(207847794), 231674466: np.int64(207847794), 39285457: np.int64(207847794), 554055: np.int64(207847794), 200060858: np.int64(207847794), 232765104: np.int64(207847794), 244464096: np.int64(207847794), 218974251: np.int64(207847794), 236460181: np.int64(207847794), 219309519: np.int64(207847794), 218973873: np.int64(207847794), 219304838: np.int64(207847794), 220445385: np.int64(207847794), 184864073: np.int64(207847794), 218974485: np.int64(207847794), 227230445: np.int64(207847794), 922882: np.int64(207847794), 171555376: np.int64(207847794), 220837074: np.int64(207847794), 235599150: np.int64(207847794), 236778532: np.int64(207847794), 235258283: np.int64(207847794), 227905304: np.int64(207847794), 169309636: np.int64(207847794), 219307734: np.int64(207847794), 33377896: np.int64(207847794), 218973700: np.int64(207847794), 253628237: np.int64(207847794), 219301180: np.int64(207847794), 219305558: np.int64(207847794), 229365646: np.int64(207847794), 227230557: np.int64(207847794), 219308595: np.int64(207847794), 213878997: np.int64(207847794), 233365244: np.int64(207847794), 220446097: np.int64(207847794), 169525462: np.int64(207847794), 51874051: np.int64(207847794), 236898615: np.int64(207847794), 236937161: np.int64(207847794), 226284015: np.int64(207847794), 198992720: np.int64(207847794), 232021543: np.int64(207847794), 170785117: np.int64(207847794), 226239200: np.int64(207847794), 235097299: np.int64(207847794), 207925480: np.int64(207847794), 218973899: np.int64(207847794), 231643687: np.int64(207847794), 219304211: np.int64(207847794), 227231405: np.int64(207847794), 220060205: np.int64(207847794), 234345291: np.int64(207847794), 213884007: np.int64(207847794), 219310068: np.int64(207847794), 210722256: np.int64(207847794), 218974534: np.int64(207847794), 236477710: np.int64(207847794), 191744541: np.int64(207847794), 218974405: np.int64(207847794), 221097366: np.int64(207847794), 171755024: np.int64(207847794), 203200649: np.int64(207847794), 219310197: np.int64(207847794), 220059524: np.int64(207847794), 225062764: np.int64(207847794), 160948440: np.int64(207847794), 233809908: np.int64(207847794), 232021885: np.int64(207847794), 219301678: np.int64(207847794), 236486266: np.int64(207847794), 208324656: np.int64(207847794), 3915428: np.int64(3915428), 21386: np.int64(21386), 3080703: np.int64(3080703), 879611: np.int64(879611), 3131248: np.int64(3131248), 43658548: np.int64(43658548), 19709706: np.int64(19709706), 19463082: np.int64(19463082), 8060226: np.int64(8060226), 15360530: np.int64(15360530), 33302434: np.int64(15360530), 14735961: np.int64(15360530), 14458177: np.int64(14458177), 3085209: np.int64(3085209), 9485284: np.int64(9485284), 37020102: np.int64(37020102), 20908501: np.int64(20908501), 2310572: np.int64(2310572), 29664896: np.int64(29664896), 262735527: np.int64(29664896), 263892731: np.int64(29664896), 10189227: np.int64(10189227), 12041721: np.int64(10189227), 261261350: np.int64(10189227), 32706233: np.int64(32706233), 3926636: np.int64(3926636), 15420991: np.int64(15420991), 216867302: np.int64(216867302), 34899597: np.int64(34899597), 14946981: np.int64(14946981), 232021756: np.int64(232021756), 964204: np.int64(964204), 5939151: np.int64(5939151), 7105957: np.int64(7105957), 1167491: np.int64(1167491), 26414354: np.int64(26414354), 7611699: np.int64(7611699), 20755967: np.int64(20755967), 26177388: np.int64(26177388), 15099391: np.int64(15099391), 42233589: np.int64(42233589), 6013411: np.int64(6013411), 26893302: np.int64(26893302), 2718695: np.int64(2718695), 36426153: np.int64(36426153), 6168320: np.int64(6168320), 51878631: np.int64(51878631), 12927128: np.int64(12927128), 17522139: np.int64(17522139), 8532241: np.int64(8532241), 41708129: np.int64(8532241), 21460187: np.int64(8532241), 22016082: np.int64(8532241), 163497374: np.int64(8532241), 44513982: np.int64(8532241), 215754648: np.int64(8532241), 37304427: np.int64(37304427), 7029988: np.int64(7029988), 2872043: np.int64(2872043), 6551679: np.int64(6551679), 2754453: np.int64(2754453), 10177812: np.int64(10177812), 43809058: np.int64(43809058), 20454843: np.int64(20454843), 34997657: np.int64(34997657), 35378819: np.int64(35378819), 30754231: np.int64(30754231), 1916462: np.int64(1916462), 7596334: np.int64(7596334), 219308188: np.int64(219308188), 7440991: np.int64(7440991), 14169049: np.int64(14169049), 115213545: np.int64(115213545), 115859886: np.int64(115213545), 252624485: np.int64(252624485), 7372268: np.int64(7372268), 62633224: np.int64(7372268), 16715295: np.int64(16715295), 8560450: np.int64(8560450), 10367144: np.int64(10367144), 7966473: np.int64(7966473), 2410236: np.int64(2410236), 659749: np.int64(659749), 8223327: np.int64(8223327), 252763292: np.int64(252763292), 12527088: np.int64(12527088), 11396803: np.int64(11396803), 763569: np.int64(763569), 14099827: np.int64(14099827), 5066372: np.int64(5066372), 14869687: np.int64(14869687), 9576372: np.int64(9576372), 263868453: np.int64(263868453), 9998263: np.int64(263868453), 34925881: np.int64(34925881), 8539843: np.int64(8539843), 10858869: np.int64(10858869), 235244974: np.int64(235244974), 16657732: np.int64(16657732), 208058457: np.int64(208058457), 39774871: np.int64(39774871), 60824678: np.int64(60824678), 15247441: np.int64(15247441), 60875709: np.int64(60875709), 9936649: np.int64(60875709), 16735270: np.int64(16735270), 27057113: np.int64(27057113), 261342032: np.int64(261342032), 17620646: np.int64(17620646), 115466382: np.int64(115466382), 235482414: np.int64(235482414), 9830436: np.int64(9830436), 119887: np.int64(119887), 5292642: np.int64(5292642), 8517763: np.int64(8517763), 6353943: np.int64(6353943), 220452424: np.int64(6353943), 5389622: np.int64(5389622), 2747187: np.int64(2747187), 18134623: np.int64(18134623), 8507410: np.int64(8507410), 3926047: np.int64(3926047), 12632594: np.int64(12632594), 16843361: np.int64(12632594), 824017: np.int64(824017), 1157610: np.int64(1157610), 2791115: np.int64(2791115), 20695016: np.int64(20695016), 27077971: np.int64(27077971), 6293901: np.int64(6293901), 33805426: np.int64(33805426), 60513490: np.int64(60513490), 18059389: np.int64(18059389), 60779225: np.int64(60779225), 1189086: np.int64(1189086), 7542363: np.int64(7542363), 1841979: np.int64(1841979), 654924: np.int64(654924), 1444138: np.int64(1444138), 2175391: np.int64(2175391), 129886: np.int64(129886), 7298349: np.int64(7298349), 959085: np.int64(959085), 234258405: np.int64(234258405), 238251651: np.int64(234258405), 260426217: np.int64(234258405), 262762804: np.int64(234258405), 472215: np.int64(472215), 262349699: np.int64(472215), 225062643: np.int64(225062643), 8478554: np.int64(8478554), 21694023: np.int64(21694023), 13606273: np.int64(13606273), 224281690: np.int64(224281690), 51881529: np.int64(51881529), 11801961: np.int64(11801961), 33579458: np.int64(33579458), 7314679: np.int64(7314679), 34504645: np.int64(34504645), 13114546: np.int64(13114546), 16688636: np.int64(16688636), 1021605: np.int64(1021605), 12179283: np.int64(12179283), 8832939: np.int64(8832939), 235482401: np.int64(235482401), 233029494: np.int64(233029494), 11562868: np.int64(11562868), 261954723: np.int64(261954723), 263154288: np.int64(261954723), 261083114: np.int64(261954723), 17643319: np.int64(17643319), 261494441: np.int64(261494441), 249204419: np.int64(249204419), 18991473: np.int64(18991473), 11250372: np.int64(11250372), 206728: np.int64(206728), 2294286: np.int64(2294286), 169053: np.int64(169053), 5453178: np.int64(5453178), 51983034: np.int64(51983034), 5651543: np.int64(51983034), 15735989: np.int64(15735989), 3911313: np.int64(3911313), 7718505: np.int64(7718505), 36790065: np.int64(36790065), 31313505: np.int64(31313505), 248962366: np.int64(248962366), 12022794: np.int64(12022794), 258486952: np.int64(258486952), 18361921: np.int64(18361921), 13488062: np.int64(13488062), 237365388: np.int64(237365388), 2266741: np.int64(2266741), 9482437: np.int64(9482437), 7600496: np.int64(7600496), 19667393: np.int64(19667393), 8043801: np.int64(8043801), 27433387: np.int64(27433387), 38931987: np.int64(38931987), 2484315: np.int64(2484315), 42297913: np.int64(42297913), 1436604: np.int64(1436604), 57189528: np.int64(57189528), 6047207: np.int64(6047207), 6147214: np.int64(6147214), 9364532: np.int64(6147214), 38406635: np.int64(38406635), 8191960: np.int64(8191960), 1296971: np.int64(1296971), 219303088: np.int64(1296971), 263744013: np.int64(1296971), 8535026: np.int64(8535026), 17355519: np.int64(17355519), 13400865: np.int64(13400865), 14478849: np.int64(14478849), 186232078: np.int64(186232078), 11315192: np.int64(11315192), 17948227: np.int64(17948227), 3856149: np.int64(3856149), 1486422: np.int64(1486422), 12780794: np.int64(12780794), 248780137: np.int64(248780137), 34153729: np.int64(34153729), 110538282: np.int64(110538282), 6083197: np.int64(110538282), 11826614: np.int64(11826614), 14560656: np.int64(14560656), 13539364: np.int64(13539364), 7600459: np.int64(7600459), 3687439: np.int64(3687439), 260501512: np.int64(3687439), 260551862: np.int64(260551862), 12167053: np.int64(260551862), 209345369: np.int64(209345369), 59829005: np.int64(59829005), 209516094: np.int64(209516094), 222006712: np.int64(209516094), 14865114: np.int64(14865114), 95461: np.int64(95461), 5129093: np.int64(5129093), 235623770: np.int64(235623770), 32541803: np.int64(32541803), 15204692: np.int64(15204692), 7862245: np.int64(7862245), 461396: np.int64(461396), 3073489: np.int64(3073489), 10360303: np.int64(10360303), 23942431: np.int64(23942431), 14692027: np.int64(14692027), 31430629: np.int64(31430629), 6630494: np.int64(6630494), 9130032: np.int64(9130032), 15888919: np.int64(15888919), 52805154: np.int64(52805154), 29059843: np.int64(29059843), 10388687: np.int64(10388687), 82990: np.int64(82990), 14011435: np.int64(14011435), 5349243: np.int64(5349243), 7157421: np.int64(7157421), 61870887: np.int64(61870887), 11966677: np.int64(61870887), 6517063: np.int64(6517063), 6170866: np.int64(6170866), 236779171: np.int64(236779171), 46111577: np.int64(46111577), 219306693: np.int64(219306693), 15643941: np.int64(219306693), 16925875: np.int64(16925875), 220064250: np.int64(220064250), 220063894: np.int64(220064250), 7864490: np.int64(7864490), 3930198: np.int64(3930198), 1417087: np.int64(1417087), 35309391: np.int64(35309391), 5333684: np.int64(5333684), 195348807: np.int64(195348807), 2823195: np.int64(195348807), 16412467: np.int64(16412467), 260497139: np.int64(260497139), 20285896: np.int64(260497139), 58833725: np.int64(58833725), 22114035: np.int64(22114035), 14012397: np.int64(14012397), 14948973: np.int64(14948973), 220080563: np.int64(220080563), 13368786: np.int64(13368786), 61349896: np.int64(61349896), 17306062: np.int64(17306062), 219308390: np.int64(219308390), 43069989: np.int64(43069989), 12278968: np.int64(43069989), 219306908: np.int64(219306908), 22102024: np.int64(22102024), 59766402: np.int64(22102024), 219308646: np.int64(219308646), 233029483: np.int64(233029483), 16337176: np.int64(16337176), 60783815: np.int64(60783815), 823273: np.int64(60783815), 14017327: np.int64(14017327), 2180625: np.int64(2180625), 16377948: np.int64(2180625), 18663030: np.int64(18663030), 10716069: np.int64(10716069), 7786603: np.int64(7786603), 5523893: np.int64(5523893), 814211: np.int64(814211), 12209069: np.int64(12209069), 40630771: np.int64(40630771), 2357627: np.int64(2357627), 10441858: np.int64(10441858), 1727772: np.int64(1727772), 35500954: np.int64(35500954), 3176359: np.int64(3176359), 16795042: np.int64(16795042), 61670488: np.int64(16795042), 9369033: np.int64(9369033), 1215762: np.int64(1215762), 7962289: np.int64(7962289), 59642407: np.int64(59642407), 7733948: np.int64(7733948), 261810980: np.int64(261810980), 261755794: np.int64(261810980), 26792: np.int64(26792), 29710525: np.int64(29710525), 252624448: np.int64(252624448), 3176893: np.int64(3176893), 252907521: np.int64(252907521), 259370768: np.int64(252907521), 235482408: np.int64(235482408), 6343207: np.int64(6343207), 8455866: np.int64(8455866), 193020094: np.int64(193020094), 21961656: np.int64(193020094), 27258039: np.int64(27258039), 9834819: np.int64(9834819), 59821660: np.int64(59821660), 21393511: np.int64(21393511), 7319766: np.int64(7319766), 60657401: np.int64(7319766), 576802: np.int64(576802), 13433981: np.int64(13433981), 186206301: np.int64(186206301), 9025428: np.int64(9025428), 2251088: np.int64(2251088), 6218136: np.int64(6218136), 22408096: np.int64(22408096), 37527673: np.int64(22408096), 33814436: np.int64(33814436), 198147616: np.int64(198147616), 64727066: np.int64(64727066), 263306080: np.int64(64727066), 51869051: np.int64(51869051), 6305823: np.int64(6305823), 218498481: np.int64(218498481), 218498093: np.int64(218498481), 253734458: np.int64(253734458), 225063191: np.int64(225063191), 7293586: np.int64(7293586), 259064058: np.int64(259064058), 214758467: np.int64(214758467), 25856493: np.int64(214758467), 53264800: np.int64(214758467), 202654860: np.int64(214758467), 10328176: np.int64(214758467), 29252548: np.int64(214758467), 214757251: np.int64(214758467), 220080551: np.int64(214758467), 45770971: np.int64(45770971), 53174179: np.int64(53174179), 19473336: np.int64(19473336), 2079221: np.int64(2079221), 32329905: np.int64(32329905), 220319558: np.int64(220319558), 51879537: np.int64(51879537), 221835708: np.int64(221835708), 15597251: np.int64(15597251), 250390886: np.int64(250390886), 2693202: np.int64(2693202), 41258013: np.int64(41258013), 27490680: np.int64(41258013), 8051179: np.int64(8051179), 2651412: np.int64(2651412), 17398606: np.int64(17398606), 47179013: np.int64(47179013), 9665780: np.int64(9665780), 16624496: np.int64(16624496), 14140173: np.int64(14140173), 34132816: np.int64(14140173), 235736985: np.int64(235736985), 235683159: np.int64(235736985), 247415510: np.int64(247415510), 255393942: np.int64(247415510), 3904996: np.int64(3904996), 62569305: np.int64(62569305), 6752118: np.int64(6752118), 8493122: np.int64(8493122), 70125677: np.int64(70125677), 219307933: np.int64(219307933), 216804551: np.int64(216804551), 60755126: np.int64(60755126), 787308: np.int64(60755126), 201764856: np.int64(201764856), 62724807: np.int64(62724807), 278029: np.int64(62724807), 1739924: np.int64(1739924), 10523951: np.int64(10523951), 20864422: np.int64(20864422), 36720539: np.int64(36720539), 6937105: np.int64(6937105), 196193105: np.int64(196193105), 51880521: np.int64(51880521), 235097605: np.int64(235097605), 224803468: np.int64(224803468), 237271568: np.int64(224803468), 52871604: np.int64(52871604), 1432798: np.int64(52871604), 208317455: np.int64(208317455), 14181656: np.int64(208317455), 221819199: np.int64(221819199), 222303317: np.int64(221819199), 9483510: np.int64(9483510), 43878178: np.int64(43878178), 2209224: np.int64(2209224), 7657542: np.int64(2209224), 14954637: np.int64(14954637), 11717699: np.int64(14954637), 17286473: np.int64(17286473), 12712634: np.int64(12712634), 62483340: np.int64(62483340), 117665674: np.int64(117665674), 14434991: np.int64(117665674), 1397113: np.int64(1397113), 13378240: np.int64(13378240), 262476625: np.int64(13378240), 15769193: np.int64(15769193), 201788783: np.int64(201788783), 12708004: np.int64(201788783), 16202857: np.int64(201788783), 219308383: np.int64(201788783), 11895984: np.int64(11895984), 67425046: np.int64(11895984), 7802977: np.int64(7802977), 65474830: np.int64(65474830), 57300442: np.int64(65474830), 6089322: np.int64(6089322), 73504694: np.int64(73504694), 19219216: np.int64(73504694), 219300512: np.int64(219300512), 60310819: np.int64(60310819), 16956305: np.int64(16956305), 6934412: np.int64(6934412), 18962876: np.int64(18962876), 12052330: np.int64(12052330), 195917144: np.int64(12052330), 17466705: np.int64(17466705), 70033909: np.int64(70033909), 67433799: np.int64(67433799), 2558649: np.int64(2558649), 144647061: np.int64(144647061), 18476529: np.int64(18476529), 15562838: np.int64(15562838), 219302567: np.int64(219302567), 1369914: np.int64(1369914), 63832220: np.int64(63832220), 15003463: np.int64(63832220), 7733490: np.int64(7733490), 10165340: np.int64(10165340), 16936293: np.int64(16936293), 70019618: np.int64(70019618), 60227474: np.int64(60227474), 67240774: np.int64(60227474), 52853287: np.int64(52853287), 115287356: np.int64(52853287), 45286117: np.int64(45286117), 36171289: np.int64(36171289), 36136390: np.int64(36171289), 1001286: np.int64(1001286), 11335818: np.int64(11335818), 220045828: np.int64(220045828), 252186418: np.int64(220045828), 202780059: np.int64(202780059), 6870305: np.int64(6870305), 13009101: np.int64(13009101), 51623696: np.int64(51623696), 51623575: np.int64(51623575), 33346914: np.int64(33346914), 15897255: np.int64(15897255), 17331230: np.int64(17331230), 10779062: np.int64(10779062), 10137532: np.int64(10137532), 201752208: np.int64(201752208), 219307312: np.int64(219307312), 201747457: np.int64(201747457), 201792130: np.int64(201792130), 201792120: np.int64(201792120), 51616502: np.int64(51616502), 208906: np.int64(208906), 75330863: np.int64(75330863), 9845306: np.int64(9845306), 2817150: np.int64(2817150), 201757098: np.int64(201757098), 28393262: np.int64(28393262), 201736389: np.int64(201736389), 21018087: np.int64(21018087), 4938501: np.int64(4938501), 2718048: np.int64(2718048), 262464409: np.int64(2718048), 261507859: np.int64(261507859), 261509673: np.int64(261507859), 32883288: np.int64(32883288), 31093860: np.int64(31093860), 4121989: np.int64(4121989), 13355098: np.int64(13355098), 16418952: np.int64(16418952), 252186434: np.int64(252186434), 62047898: np.int64(62047898), 14179377: np.int64(14179377), 14493822: np.int64(14493822), 277834: np.int64(277834), 25443745: np.int64(25443745), 41465885: np.int64(41465885), 62222649: np.int64(62222649), 16137021: np.int64(16137021), 219303045: np.int64(219303045), 308071: np.int64(219303045), 9213680: np.int64(9213680), 1165762: np.int64(1165762), 201704: np.int64(201704), 662866: np.int64(662866), 7364826: np.int64(7364826), 2983465: np.int64(2983465), 18742476: np.int64(18742476), 28001127: np.int64(28001127), 11200749: np.int64(11200749), 5524852: np.int64(5524852), 1744713: np.int64(1744713), 11806528: np.int64(11806528), 932147: np.int64(932147), 3926948: np.int64(3926948), 24546582: np.int64(24546582), 16863851: np.int64(16863851), 26339385: np.int64(26339385), 259298630: np.int64(259298630), 259887064: np.int64(259298630), 18233668: np.int64(18233668), 31126046: np.int64(31126046), 6908547: np.int64(6908547), 16451235: np.int64(16451235), 2444688: np.int64(2444688), 18780715: np.int64(18780715), 8830734: np.int64(8830734), 62527047: np.int64(62527047), 2672743: np.int64(2672743), 6446861: np.int64(6446861), 6897473: np.int64(6897473), 1441185: np.int64(1441185), 6855603: np.int64(6855603), 3906867: np.int64(3906867), 45684505: np.int64(45684505), 10982377: np.int64(10982377), 110013556: np.int64(110013556), 46935272: np.int64(46935272), 1138170: np.int64(46935272), 259833782: np.int64(259833782), 258547350: np.int64(259833782), 253097973: np.int64(253097973), 263802565: np.int64(263802565), 45438237: np.int64(45438237), 16181764: np.int64(16181764), 31021854: np.int64(31021854), 30453209: np.int64(30453209), 10687323: np.int64(10687323), 10250647: np.int64(10250647), 62651345: np.int64(62651345), 6300342: np.int64(6300342), 261341902: np.int64(261341902), 18022579: np.int64(18022579), 238638470: np.int64(238638470), 15974189: np.int64(15974189), 13126576: np.int64(13126576), 252763339: np.int64(252763339), 225063152: np.int64(225063152), 261341688: np.int64(261341688), 236179518: np.int64(236179518), 262770614: np.int64(262770614), 14123651: np.int64(262770614), 42144283: np.int64(42144283), 6553227: np.int64(6553227), 14894956: np.int64(14894956), 1591692: np.int64(1591692), 219305991: np.int64(219305991), 13228670: np.int64(13228670), 16692471: np.int64(16692471), 9278872: np.int64(9278872), 263883914: np.int64(9278872), 12307451: np.int64(12307451), 39170387: np.int64(39170387), 51868302: np.int64(51868302), 59336710: np.int64(59336710), 15314073: np.int64(15314073), 6755465: np.int64(6755465), 219309789: np.int64(6755465), 423521: np.int64(423521), 9121717: np.int64(9121717), 159181884: np.int64(159181884), 236460257: np.int64(236460257), 231773842: np.int64(231773842), 252186444: np.int64(252186444), 1520356: np.int64(1520356), 262253991: np.int64(1520356), 9110387: np.int64(9110387), 220161436: np.int64(220161436), 12098470: np.int64(12098470), 7366254: np.int64(7366254), 11378094: np.int64(11378094), 43876245: np.int64(43876245), 14859431: np.int64(14859431), 32679052: np.int64(32679052), 15050524: np.int64(15050524), 15417147: np.int64(15417147), 16878067: np.int64(16878067), 225662312: np.int64(225662312), 8752606: np.int64(8752606), 247758997: np.int64(247758997), 248182531: np.int64(247758997), 2188867: np.int64(2188867), 10673026: np.int64(10673026), 12877754: np.int64(10673026), 10346056: np.int64(10346056), 220650600: np.int64(220650600), 29635979: np.int64(29635979), 29363368: np.int64(29363368), 210156339: np.int64(210156339), 252763283: np.int64(252763283), 237365369: np.int64(237365369), 261342040: np.int64(261342040), 45489201: np.int64(45489201), 10168327: np.int64(10168327), 518630: np.int64(518630), 235408115: np.int64(235408115), 245319266: np.int64(235408115), 260744613: np.int64(260744613), 245307445: np.int64(260744613), 8446828: np.int64(8446828), 41929191: np.int64(41929191), 263123363: np.int64(263123363), 262376165: np.int64(263123363), 3205941: np.int64(263123363), 15897148: np.int64(15897148), 260845535: np.int64(260845535), 261175933: np.int64(260845535), 17174343: np.int64(17174343), 5122420: np.int64(5122420), 18391127: np.int64(18391127), 5646487: np.int64(5646487), 66999088: np.int64(66999088), 10674977: np.int64(10674977), 261342045: np.int64(261342045), 252624654: np.int64(252624654), 251435546: np.int64(252624654), 38795990: np.int64(38795990), 10513825: np.int64(10513825), 252186420: np.int64(252186420), 14067667: np.int64(14067667), 6739203: np.int64(6739203), 3236851: np.int64(3236851), 958775: np.int64(958775), 2404000: np.int64(2404000), 13996830: np.int64(13996830), 5162676: np.int64(5162676), 6698479: np.int64(6698479), 204922497: np.int64(204922497), 7167114: np.int64(204922497), 68111200: np.int64(68111200), 53502621: np.int64(68111200), 6927294: np.int64(6927294), 628183: np.int64(628183), 28781277: np.int64(28781277), 3929124: np.int64(3929124), 14430950: np.int64(14430950), 1997930: np.int64(1997930), 2622975: np.int64(2622975), 17565543: np.int64(17565543), 5739852: np.int64(5739852), 116084478: np.int64(116084478), 62354584: np.int64(116084478), 21351347: np.int64(116084478), 679264: np.int64(679264), 256274566: np.int64(256274566), 259313791: np.int64(256274566), 256275098: np.int64(256274566), 60500790: np.int64(60500790), 19435450: np.int64(19435450), 11761045: np.int64(11761045), 8605936: np.int64(8605936), 1174115: np.int64(1174115), 16251899: np.int64(16251899), 1525100: np.int64(1525100), 6160466: np.int64(6160466), 16773647: np.int64(16773647), 219300657: np.int64(219300657), 1235039: np.int64(1235039), 196019: np.int64(196019), 232021943: np.int64(232021943), 53639109: np.int64(53639109), 2769726: np.int64(2769726), 186206486: np.int64(186206486), 46953263: np.int64(46953263), 186206208: np.int64(186206208), 24957784: np.int64(24957784), 31105714: np.int64(31105714), 236649003: np.int64(236649003), 43454804: np.int64(43454804), 3879624: np.int64(3879624), 13568275: np.int64(13568275), 33378828: np.int64(33378828), 263862157: np.int64(263862157), 13470894: np.int64(13470894), 262738071: np.int64(262738071), 30964362: np.int64(30964362), 5088141: np.int64(5088141), 7246188: np.int64(7246188), 529001: np.int64(529001), 2951730: np.int64(2951730), 9152030: np.int64(9152030), 18067056: np.int64(18067056), 156051989: np.int64(156051989), 6626547: np.int64(6626547), 39013984: np.int64(39013984), 1714556: np.int64(1714556), 16867857: np.int64(16867857), 3891288: np.int64(3891288), 219302518: np.int64(219302518), 14224863: np.int64(14224863), 36438300: np.int64(36438300), 5940554: np.int64(5940554), 44706178: np.int64(44706178), 36562731: np.int64(36562731), 2297378: np.int64(2297378), 14825990: np.int64(14825990), 263893541: np.int64(14825990), 9838609: np.int64(9838609), 32891290: np.int64(32891290), 59848471: np.int64(59848471), 1395257: np.int64(1395257), 261342056: np.int64(261342056), 14475949: np.int64(14475949), 10582446: np.int64(10582446), 1340627: np.int64(10582446), 5262218: np.int64(5262218), 1327439: np.int64(1327439), 1212207: np.int64(1212207), 260480536: np.int64(260480536), 2434370: np.int64(260480536), 27076560: np.int64(27076560), 15664187: np.int64(15664187), 5153623: np.int64(5153623), 1722924: np.int64(1722924), 250279739: np.int64(250279739), 243848292: np.int64(250279739), 49745096: np.int64(49745096), 16769517: np.int64(16769517), 247447167: np.int64(247447167), 250391051: np.int64(247447167), 260495678: np.int64(247447167), 220041678: np.int64(220041678), 14971130: np.int64(14971130), 7136961: np.int64(7136961), 253762028: np.int64(253762028), 260309480: np.int64(253762028), 226262308: np.int64(226262308), 260423292: np.int64(226262308), 18028523: np.int64(18028523), 44798926: np.int64(44798926), 147238304: np.int64(147238304), 9025193: np.int64(147238304), 33362235: np.int64(33362235), 2955949: np.int64(2955949), 27872462: np.int64(27872462), 213152193: np.int64(213152193), 208229926: np.int64(213152193), 483800: np.int64(483800), 246904994: np.int64(246904994), 235694264: np.int64(246904994), 479222: np.int64(479222), 18957176: np.int64(18957176), 36164: np.int64(36164), 25887341: np.int64(25887341), 7013269: np.int64(7013269), 23804177: np.int64(23804177), 260498700: np.int64(260498700), 10135357: np.int64(260498700), 261437068: np.int64(260498700), 643707: np.int64(643707), 40295279: np.int64(40295279), 11664683: np.int64(11664683), 40814501: np.int64(40814501), 56501000: np.int64(56501000), 237558774: np.int64(237558774), 12222565: np.int64(237558774), 53633715: np.int64(53633715), 51782450: np.int64(51782450), 219304461: np.int64(219304461), 8227591: np.int64(219304461), 6412585: np.int64(6412585), 7498: np.int64(7498), 16092148: np.int64(16092148), 219300721: np.int64(16092148), 263601184: np.int64(263601184), 5279761: np.int64(263601184), 219305230: np.int64(219305230), 18751045: np.int64(219305230), 210045139: np.int64(210045139), 252763312: np.int64(252763312), 12936129: np.int64(12936129), 1363323: np.int64(1363323), 32940061: np.int64(32940061), 8028944: np.int64(8028944), 235358574: np.int64(235358574), 250179955: np.int64(235358574), 11450322: np.int64(11450322), 61923445: np.int64(61923445), 237365380: np.int64(237365380), 235490277: np.int64(237365380), 53693639: np.int64(53693639), 174803609: np.int64(174803609), 198162498: np.int64(174803609), 237416708: np.int64(237416708), 248913268: np.int64(237416708), 236486172: np.int64(236486172), 8419226: np.int64(8419226), 215825206: np.int64(215825206), 42995231: np.int64(42995231), 220445356: np.int64(220445356), 199433164: np.int64(199433164), 215768402: np.int64(199433164), 39183834: np.int64(39183834), 37880495: np.int64(37880495), 53010: np.int64(53010), 219229453: np.int64(219229453), 48918: np.int64(48918), 46277238: np.int64(46277238), 8380490: np.int64(8380490), 226238894: np.int64(8380490), 234167388: np.int64(234167388), 262738073: np.int64(234167388), 236740394: np.int64(236740394), 16634621: np.int64(16634621), 14990959: np.int64(14990959), 4643315: np.int64(4643315), 12385266: np.int64(12385266), 219300773: np.int64(219300773), 958500: np.int64(219300773), 1665987: np.int64(1665987), 62257556: np.int64(62257556), 37950322: np.int64(37950322), 38405135: np.int64(38405135), 237366250: np.int64(237366250), 16047614: np.int64(16047614), 8168663: np.int64(8168663), 3259278: np.int64(3259278), 21055784: np.int64(21055784), 10109654: np.int64(10109654), 233029490: np.int64(233029490), 248779948: np.int64(248779948), 249394890: np.int64(248779948), 35373011: np.int64(35373011), 233029495: np.int64(233029495), 86759692: np.int64(86759692), 259834596: np.int64(259834596), 259833888: np.int64(259834596), 8185806: np.int64(8185806), 19035781: np.int64(19035781), 52827437: np.int64(52827437), 5398336: np.int64(5398336), 62159671: np.int64(62159671), 2202507: np.int64(62159671), 5674860: np.int64(5674860), 17131799: np.int64(17131799), 53583865: np.int64(53583865), 9402339: np.int64(9402339), 226239126: np.int64(226239126), 1416139: np.int64(226239126), 263850903: np.int64(263850903), 237431528: np.int64(263850903), 263850902: np.int64(263850903), 53113561: np.int64(53113561), 260440513: np.int64(53113561), 41803629: np.int64(41803629), 62737067: np.int64(62737067), 11637792: np.int64(11637792), 1382183: np.int64(1382183), 18792136: np.int64(18792136), 9669733: np.int64(9669733), 3520809: np.int64(3520809), 67063750: np.int64(67063750), 7692118: np.int64(7692118), 2711033: np.int64(2711033), 140117323: np.int64(2711033), 29165442: np.int64(29165442), 1218354: np.int64(1218354), 234741946: np.int64(234741946), 230549: np.int64(230549), 16909656: np.int64(16909656), 17123884: np.int64(17123884), 11947613: np.int64(11947613), 219306245: np.int64(219306245), 1663978: np.int64(1663978), 21076309: np.int64(21076309), 30255299: np.int64(30255299), 252763300: np.int64(252763300), 61492637: np.int64(61492637), 7403259: np.int64(7403259), 2489964: np.int64(2489964), 236726440: np.int64(236726440), 252624581: np.int64(252624581), 5531167: np.int64(5531167), 18349448: np.int64(18349448), 2972149: np.int64(2972149), 239616082: np.int64(239616082), 8767164: np.int64(8767164), 28113978: np.int64(28113978), 3913562: np.int64(3913562), 6781754: np.int64(6781754), 10587229: np.int64(10587229), 264436566: np.int64(264436566), 7102676: np.int64(7102676), 9535959: np.int64(9535959), 250390686: np.int64(250390686), 252819415: np.int64(250390686), 59690867: np.int64(59690867), 219309498: np.int64(219309498), 857427: np.int64(857427), 13170584: np.int64(13170584), 7591554: np.int64(7591554), 14150352: np.int64(14150352), 6075024: np.int64(6075024), 11177959: np.int64(11177959), 44482714: np.int64(44482714), 7422166: np.int64(7422166), 17402234: np.int64(17402234), 6599699: np.int64(6599699), 219310082: np.int64(6599699), 9208282: np.int64(9208282), 8318391: np.int64(8318391), 5461755: np.int64(5461755), 9199648: np.int64(9199648), 62988326: np.int64(62988326), 1392446: np.int64(62988326), 12735740: np.int64(12735740), 261494462: np.int64(261494462), 259370624: np.int64(259370624), 235075853: np.int64(235075853), 6053988: np.int64(6053988), 260464809: np.int64(6053988), 258486910: np.int64(258486910), 70254353: np.int64(70254353), 5411958: np.int64(5411958), 30670514: np.int64(30670514), 6891122: np.int64(6891122), 29320676: np.int64(29320676), 253762059: np.int64(253762059), 6411506: np.int64(6411506), 18201337: np.int64(18201337), 29728089: np.int64(29728089), 13020664: np.int64(13020664), 12385862: np.int64(12385862), 3919987: np.int64(3919987), 23025063: np.int64(23025063), 14695328: np.int64(14695328), 20132278: np.int64(20132278), 253628213: np.int64(253628213), 3237101: np.int64(3237101), 62082466: np.int64(62082466), 17886046: np.int64(62082466), 6076022: np.int64(6076022), 248182525: np.int64(248182525), 815719: np.int64(815719), 11242051: np.int64(11242051), 3104512: np.int64(3104512), 39661249: np.int64(39661249), 243865572: np.int64(243865572), 240288543: np.int64(243865572), 252777295: np.int64(252777295), 56336392: np.int64(252777295), 234103448: np.int64(234103448), 260421343: np.int64(234103448), 18539120: np.int64(18539120), 16771067: np.int64(16771067), 221761488: np.int64(221761488), 6665269: np.int64(6665269), 263313957: np.int64(263313957), 18705469: np.int64(263313957), 219307603: np.int64(219307603), 261301882: np.int64(219307603), 6623102: np.int64(219307603), 157061108: np.int64(157061108), 6881568: np.int64(6881568), 16464429: np.int64(16464429), 14907272: np.int64(14907272), 1642985: np.int64(1642985), 8813310: np.int64(8813310), 232257804: np.int64(232257804), 265038424: np.int64(265038424), 265037895: np.int64(265038424), 265038030: np.int64(265038424), 60440651: np.int64(265038424), 3930720: np.int64(3930720), 6288259: np.int64(6288259), 3931407: np.int64(3931407), 14800475: np.int64(14800475), 7114165: np.int64(7114165), 34777242: np.int64(34777242), 26524807: np.int64(26524807), 12302127: np.int64(12302127), 43258882: np.int64(43258882), 218692589: np.int64(218692589), 2491133: np.int64(2491133), 250179907: np.int64(250179907), 250179890: np.int64(250179890), 234487233: np.int64(234487233), 6113477: np.int64(6113477), 31413672: np.int64(31413672), 201085: np.int64(201085), 45592114: np.int64(45592114), 12015221: np.int64(12015221), 9084394: np.int64(9084394), 11474571: np.int64(11474571), 256461315: np.int64(256461315), 42974734: np.int64(42974734), 10837599: np.int64(10837599), 62762739: np.int64(62762739), 2865563: np.int64(62762739), 29110584: np.int64(29110584), 6583976: np.int64(6583976), 20926339: np.int64(20926339), 34125625: np.int64(20926339), 15569102: np.int64(15569102), 62132187: np.int64(15569102), 46886854: np.int64(46886854), 250390585: np.int64(250390585), 259370892: np.int64(259370892), 259370518: np.int64(259370892), 7367421: np.int64(7367421), 61181701: np.int64(7367421), 215510641: np.int64(215510641), 43690250: np.int64(43690250), 13977162: np.int64(13977162), 5891609: np.int64(5891609), 26479661: np.int64(26479661), 27395966: np.int64(27395966), 33189508: np.int64(33189508), 36102155: np.int64(36102155), 7560145: np.int64(7560145), 7814182: np.int64(7814182), 11237614: np.int64(11237614), 6917952: np.int64(6917952), 24277319: np.int64(24277319), 37578890: np.int64(37578890), 10108216: np.int64(10108216), 1585631: np.int64(1585631), 5113468: np.int64(5113468), 18571877: np.int64(18571877), 44532251: np.int64(44532251), 6680780: np.int64(6680780), 10792760: np.int64(10792760), 3005460: np.int64(3005460), 18885228: np.int64(18885228), 3260676: np.int64(3260676), 11485102: np.int64(11485102), 260165149: np.int64(260165149), 262621456: np.int64(262621456), 1891955: np.int64(1891955), 94818: np.int64(94818), 2649448: np.int64(2649448), 9405005: np.int64(9405005), 58367559: np.int64(58367559), 262356072: np.int64(262356072), 262731766: np.int64(262356072), 11916483: np.int64(262356072), 264026225: np.int64(262356072), 11278768: np.int64(11278768), 10007737: np.int64(10007737), 61170106: np.int64(10007737), 22303657: np.int64(22303657), 184483038: np.int64(184483038), 237365390: np.int64(237365390), 12808898: np.int64(12808898), 10271924: np.int64(10271924), 6454413: np.int64(6454413), 219309859: np.int64(6454413), 12024119: np.int64(12024119), 11922294: np.int64(11922294), 196203277: np.int64(196203277), 251980393: np.int64(251980393), 32861158: np.int64(32861158), 245838284: np.int64(245838284), 2000271: np.int64(2000271), 2013509: np.int64(2013509), 1437003: np.int64(1437003), 236486294: np.int64(236486294), 45927246: np.int64(45927246), 60568551: np.int64(60568551), 8347342: np.int64(60568551), 28253803: np.int64(28253803), 218639724: np.int64(218639724), 88517356: np.int64(88517356), 8765325: np.int64(8765325), 259095910: np.int64(259095910), 260063238: np.int64(259095910), 245297783: np.int64(245297783), 2911206: np.int64(2911206), 14732967: np.int64(14732967), 28684970: np.int64(28684970), 36568955: np.int64(36568955), 1247839: np.int64(1247839), 9830179: np.int64(9830179), 8284594: np.int64(8284594), 53764089: np.int64(53764089), 15605878: np.int64(15605878), 11813565: np.int64(11813565), 2790447: np.int64(2790447), 264029129: np.int64(2790447), 15000982: np.int64(15000982), 58740369: np.int64(58740369), 8279976: np.int64(8279976), 1010309: np.int64(1010309), 567614: np.int64(567614), 12758647: np.int64(12758647), 4800309: np.int64(4800309), 198309766: np.int64(4800309), 9177856: np.int64(9177856), 42155750: np.int64(42155750), 3080309: np.int64(3080309), 61472241: np.int64(3080309), 19035620: np.int64(19035620), 5097807: np.int64(5097807), 260335067: np.int64(260335067), 30003091: np.int64(30003091), 35179908: np.int64(35179908), 186206487: np.int64(186206487), 219302901: np.int64(219302901), 11280500: np.int64(219302901), 51776230: np.int64(51776230), 258486913: np.int64(258486913), 247594023: np.int64(247594023), 233004538: np.int64(247594023), 259833850: np.int64(259833850), 258999240: np.int64(258999240), 9030714: np.int64(9030714), 11000512: np.int64(11000512), 219305769: np.int64(219305769), 49559981: np.int64(49559981), 43510904: np.int64(43510904), 346444: np.int64(346444), 9453593: np.int64(9453593), 199022672: np.int64(199022672), 12057389: np.int64(12057389), 252780357: np.int64(252780357), 259370762: np.int64(252780357), 61024738: np.int64(61024738), 3169839: np.int64(61024738), 5456318: np.int64(5456318), 248182527: np.int64(248182527), 29206719: np.int64(29206719), 9904859: np.int64(9904859), 46933475: np.int64(46933475), 52009388: np.int64(46933475), 16359184: np.int64(16359184), 18021546: np.int64(18021546), 11580356: np.int64(18021546), 386913: np.int64(386913), 11172437: np.int64(11172437), 51898454: np.int64(11172437), 248182532: np.int64(248182532), 61369188: np.int64(61369188), 1905391: np.int64(61369188), 260423734: np.int64(260423734), 262934107: np.int64(260423734), 238251640: np.int64(260423734), 248779964: np.int64(248779964), 15270509: np.int64(15270509), 6396257: np.int64(6396257), 159321124: np.int64(159321124), 13291977: np.int64(13291977), 264038781: np.int64(264038781), 264038826: np.int64(264038781), 60718875: np.int64(60718875), 58881875: np.int64(58881875), 61246880: np.int64(61246880), 236179542: np.int64(236179542), 246430154: np.int64(246430154), 259370661: np.int64(246430154), 5379533: np.int64(5379533), 5128289: np.int64(5128289), 6778398: np.int64(6778398), 8738739: np.int64(8738739), 7511544: np.int64(7511544), 14962038: np.int64(14962038), 18977451: np.int64(18977451), 239016173: np.int64(239016173), 250390567: np.int64(239016173), 232124781: np.int64(232124781), 239212345: np.int64(239212345), 10932704: np.int64(10932704), 129295226: np.int64(10932704), 16687055: np.int64(16687055), 19737695: np.int64(19737695), 11793657: np.int64(11793657), 62323919: np.int64(62323919), 27956208: np.int64(27956208), 8842519: np.int64(8842519), 52168364: np.int64(52168364), 64343812: np.int64(64343812), 52867179: np.int64(64343812), 52168608: np.int64(52168608), 64822406: np.int64(64822406), 19341624: np.int64(19341624), 11909076: np.int64(11909076), 2441691: np.int64(2441691), 222090066: np.int64(222090066), 225063183: np.int64(222090066), 11218401: np.int64(11218401), 14983394: np.int64(14983394), 11699132: np.int64(11699132), 39834843: np.int64(39834843), 7140689: np.int64(7140689), 6012178: np.int64(6012178), 61207035: np.int64(61207035), 259841489: np.int64(259841489), 258212748: np.int64(259841489), 60225308: np.int64(60225308), 8433955: np.int64(8433955), 36849009: np.int64(36849009), 4380524: np.int64(4380524), 10029173: np.int64(10029173), 3926164: np.int64(3926164), 5472320: np.int64(5472320), 52806893: np.int64(52806893), 235482376: np.int64(235482376), 2709318: np.int64(2709318), 5899668: np.int64(5899668), 31751314: np.int64(31751314), 37183289: np.int64(37183289), 239020526: np.int64(239020526), 166480460: np.int64(166480460), 12754074: np.int64(12754074), 13595867: np.int64(13595867), 220831336: np.int64(220831336), 235613427: np.int64(220831336), 226239201: np.int64(226239201), 14801: np.int64(14801), 2604125: np.int64(2604125), 6479002: np.int64(6479002), 219302057: np.int64(219302057), 239020549: np.int64(239020549), 239722734: np.int64(239722734), 263605855: np.int64(263605855), 11966916: np.int64(11966916), 30066470: np.int64(30066470), 18555105: np.int64(18555105), 55488801: np.int64(55488801), 12975074: np.int64(12975074), 2840902: np.int64(2840902), 248182535: np.int64(248182535), 248182526: np.int64(248182526), 8245223: np.int64(8245223), 7213852: np.int64(7213852), 9792578: np.int64(9792578), 174800654: np.int64(174800654), 676609: np.int64(676609), 30167514: np.int64(30167514), 39645423: np.int64(39645423), 13320514: np.int64(13320514), 3926837: np.int64(3926837), 38218347: np.int64(38218347), 219306524: np.int64(219306524), 15707536: np.int64(219306524), 3247663: np.int64(3247663), 13872579: np.int64(13872579), 12691897: np.int64(12691897), 1851612: np.int64(1851612), 41250617: np.int64(41250617), 16906583: np.int64(16906583), 219310327: np.int64(16906583), 61715046: np.int64(61715046), 226239363: np.int64(226239363), 6992160: np.int64(226239363), 239020523: np.int64(239020523), 234324760: np.int64(234324760), 174799874: np.int64(174799874), 262266785: np.int64(262266785), 10012351: np.int64(262266785), 213534603: np.int64(213534603), 1157816: np.int64(1157816), 218688152: np.int64(218688152), 31856765: np.int64(31856765), 2782957: np.int64(2782957), 9551191: np.int64(9551191), 30331387: np.int64(30331387), 51870165: np.int64(51870165), 250164164: np.int64(250164164), 258486920: np.int64(258486920), 1500888: np.int64(1500888), 58769829: np.int64(58769829), 42653685: np.int64(42653685), 27913217: np.int64(27913217), 262738072: np.int64(262738072), 260426221: np.int64(262738072), 234332251: np.int64(262738072), 221373745: np.int64(221373745), 2949460: np.int64(2949460), 16577289: np.int64(16577289), 31309344: np.int64(31309344), 9410751: np.int64(9410751), 1910842: np.int64(1910842), 14316240: np.int64(14316240), 20776159: np.int64(20776159), 216011074: np.int64(216011074), 37962359: np.int64(37962359), 6568949: np.int64(6568949), 219176924: np.int64(219176924), 45905545: np.int64(45905545), 19306833: np.int64(19306833), 2124752: np.int64(2124752), 17353402: np.int64(17353402), 2922593: np.int64(2922593), 17170776: np.int64(17170776), 1157837: np.int64(1157837), 14899593: np.int64(14899593), 30985549: np.int64(30985549), 669616: np.int64(30985549), 2535099: np.int64(2535099), 2145617: np.int64(2145617), 233029500: np.int64(233029500), 248779950: np.int64(248779950), 8652799: np.int64(8652799), 171820989: np.int64(171820989), 45492851: np.int64(171820989), 202774468: np.int64(202774468), 196217527: np.int64(196217527), 51872107: np.int64(51872107), 68153520: np.int64(68153520), 19612073: np.int64(19612073), 62742349: np.int64(62742349), 8474339: np.int64(8474339), 256461103: np.int64(256461103), 18228857: np.int64(18228857), 6972699: np.int64(6972699), 219307649: np.int64(219307649), 196179812: np.int64(196179812), 11992179: np.int64(11992179), 2702106: np.int64(2702106), 29944028: np.int64(29944028), 235097398: np.int64(235097398), 235367813: np.int64(235367813), 260505344: np.int64(235367813), 1871953: np.int64(1871953), 891205: np.int64(891205), 5380171: np.int64(5380171), 1583135: np.int64(1583135), 2439516: np.int64(2439516), 17388420: np.int64(17388420), 18285513: np.int64(18285513), 10724165: np.int64(10724165), 9526061: np.int64(9526061), 33742593: np.int64(33742593), 2345760: np.int64(2345760), 3892528: np.int64(3892528), 221097277: np.int64(221097277), 10595802: np.int64(10595802), 6614930: np.int64(6614930), 2143884: np.int64(2143884), 14365335: np.int64(14365335), 33176304: np.int64(33176304), 52854911: np.int64(33176304), 51622701: np.int64(51622701), 219302075: np.int64(51622701), 14638162: np.int64(14638162), 41348115: np.int64(41348115), 912359: np.int64(912359), 261341575: np.int64(261341575), 256460961: np.int64(256460961), 256462239: np.int64(256460961), 9454249: np.int64(9454249), 3893109: np.int64(3893109), 40524180: np.int64(40524180), 15597064: np.int64(15597064), 2432562: np.int64(2432562), 27661257: np.int64(27661257), 8392453: np.int64(8392453), 5399186: np.int64(5399186), 38743106: np.int64(38743106), 16293576: np.int64(16293576), 18995018: np.int64(18995018), 908030: np.int64(908030), 258486963: np.int64(258486963), 1342240: np.int64(1342240), 41981492: np.int64(41981492), 21166550: np.int64(21166550), 34329727: np.int64(34329727), 57916227: np.int64(57916227), 60200942: np.int64(60200942), 263846711: np.int64(60200942), 9561502: np.int64(9561502), 5775806: np.int64(5775806), 12101738: np.int64(12101738), 261509211: np.int64(261509211), 260734865: np.int64(261509211), 261283932: np.int64(261509211), 10661378: np.int64(261509211), 262318946: np.int64(261509211), 260735195: np.int64(261509211), 32782433: np.int64(32782433), 16780842: np.int64(16780842), 261342128: np.int64(261342128), 261348929: np.int64(261342128), 261349587: np.int64(261342128), 261342127: np.int64(261342127), 261353703: np.int64(261342127), 261344688: np.int64(261344688), 261345019: np.int64(261344688), 261349585: np.int64(261344688), 261354242: np.int64(261344688), 5626055: np.int64(5626055), 263142455: np.int64(5626055), 17410916: np.int64(17410916), 219310279: np.int64(219310279), 219308132: np.int64(219308132), 250390477: np.int64(250390477), 236912667: np.int64(250390477), 33155953: np.int64(33155953), 1709192: np.int64(1709192), 15663178: np.int64(15663178), 252186413: np.int64(252186413), 2960659: np.int64(2960659), 62365817: np.int64(62365817), 218687650: np.int64(218687650), 218693113: np.int64(218687650), 59861657: np.int64(59861657), 33055948: np.int64(33055948), 10052258: np.int64(10052258), 682553: np.int64(682553), 12102241: np.int64(12102241), 219310176: np.int64(12102241), 60034067: np.int64(60034067), 38964517: np.int64(38964517), 6900848: np.int64(6900848), 5622779: np.int64(5622779), 18655604: np.int64(18655604), 15491080: np.int64(15491080), 37122890: np.int64(37122890), 51623591: np.int64(51623591), 259376582: np.int64(259376582), 259075780: np.int64(259376582), 5978451: np.int64(5978451), 10912608: np.int64(10912608), 252624727: np.int64(252624727), 21123648: np.int64(252624727), 262755580: np.int64(262755580), 261509212: np.int64(262755580), 14259434: np.int64(14259434), 483470: np.int64(483470), 7538849: np.int64(7538849), 37532748: np.int64(37532748), 1095471: np.int64(1095471), 29117692: np.int64(29117692), 12469103: np.int64(12469103), 263875914: np.int64(263875914), 10201642: np.int64(263875914), 29885370: np.int64(29885370), 5226548: np.int64(29885370), 6647500: np.int64(6647500), 2705641: np.int64(2705641), 2288683: np.int64(2288683), 7605837: np.int64(2288683), 40742012: np.int64(40742012), 17848183: np.int64(17848183), 7967538: np.int64(7967538), 32043516: np.int64(32043516), 16666270: np.int64(16666270), 20217738: np.int64(20217738), 1216445: np.int64(1216445), 662341: np.int64(662341), 60687264: np.int64(662341), 210063976: np.int64(210063976), 201107103: np.int64(210063976), 9649143: np.int64(9649143), 16450218: np.int64(16450218), 28048967: np.int64(28048967), 237717628: np.int64(237717628), 249121168: np.int64(249121168), 247634813: np.int64(249121168), 10828054: np.int64(10828054), 231931813: np.int64(231931813), 260165165: np.int64(260165165), 219907429: np.int64(260165165), 3034681: np.int64(3034681), 3544473: np.int64(3544473), 6602375: np.int64(6602375), 60999359: np.int64(60999359), 26732443: np.int64(26732443), 8907639: np.int64(8907639), 9839359: np.int64(9839359), 1902688: np.int64(1902688), 53643423: np.int64(53643423), 62771292: np.int64(62771292), 4093178: np.int64(4093178), 221373749: np.int64(221373749), 208786933: np.int64(208786933), 262884128: np.int64(262884128), 262301456: np.int64(262884128), 3205160: np.int64(3205160), 264038838: np.int64(264038838), 40343796: np.int64(40343796), 16201662: np.int64(16201662), 239020524: np.int64(239020524), 260335060: np.int64(260335060), 499440: np.int64(499440), 53366105: np.int64(53366105), 10023806: np.int64(10023806), 19038173: np.int64(19038173), 10598698: np.int64(10598698), 35233704: np.int64(35233704), 53223311: np.int64(53223311), 223957008: np.int64(53223311), 28714777: np.int64(28714777), 2770995: np.int64(2770995), 2136580: np.int64(2136580), 120786723: np.int64(120786723), 6741119: np.int64(120786723), 7989225: np.int64(7989225), 19019007: np.int64(19019007), 5315259: np.int64(5315259), 225103018: np.int64(225103018), 7849238: np.int64(7849238), 1612367: np.int64(1612367), 1743238: np.int64(1743238), 15209015: np.int64(15209015), 2048218: np.int64(2048218), 20167120: np.int64(20167120), 56895598: np.int64(56895598), 6077224: np.int64(6077224), 18072599: np.int64(18072599), 39488271: np.int64(39488271), 2730567: np.int64(2730567), 19308930: np.int64(19308930), 5782458: np.int64(5782458), 955816: np.int64(955816), 723864: np.int64(723864), 7647892: np.int64(7647892), 263885694: np.int64(7647892), 253762079: np.int64(253762079), 3596487: np.int64(3596487), 2982017: np.int64(2982017), 17383842: np.int64(17383842), 2830333: np.int64(2830333), 17942536: np.int64(17942536), 261431370: np.int64(261431370), 3882023: np.int64(3882023), 262970975: np.int64(3882023), 28780865: np.int64(28780865), 7579436: np.int64(7579436), 1241421: np.int64(1241421), 1519586: np.int64(1519586), 252519702: np.int64(252519702), 248085670: np.int64(252519702), 221970707: np.int64(221970707), 226283913: np.int64(221970707), 3258280: np.int64(3258280), 28775375: np.int64(28775375), 3932031: np.int64(3932031), 3903137: np.int64(3903137), 2841782: np.int64(2841782), 241583594: np.int64(241583594), 19031584: np.int64(19031584), 237333914: np.int64(19031584), 928331: np.int64(928331), 62276184: np.int64(928331), 5669843: np.int64(5669843), 62005149: np.int64(62005149), 28602812: np.int64(62005149), 226283830: np.int64(226283830), 666417: np.int64(666417), 1300761: np.int64(1300761), 28999308: np.int64(28999308), 14955723: np.int64(14955723), 2249571: np.int64(2249571), 237365881: np.int64(237365881), 33548672: np.int64(33548672), 252763288: np.int64(252763288), 8233162: np.int64(8233162), 13264404: np.int64(13264404), 237559596: np.int64(237559596), 18930696: np.int64(237559596), 248377450: np.int64(248377450), 256461071: np.int64(248377450), 14008641: np.int64(14008641), 51622347: np.int64(51622347), 39654639: np.int64(39654639), 5832946: np.int64(5832946), 1344375: np.int64(1344375), 8642915: np.int64(8642915), 15058350: np.int64(15058350), 239735505: np.int64(239735505), 62441076: np.int64(62441076), 1928608: np.int64(1928608), 7878702: np.int64(7878702), 3141413: np.int64(3141413), 9142373: np.int64(9142373), 18304021: np.int64(18304021), 6362566: np.int64(6362566), 2260284: np.int64(2260284), 1397505: np.int64(1397505), 27270383: np.int64(27270383), 19143497: np.int64(19143497), 44882348: np.int64(44882348), 5447909: np.int64(5447909), 8718951: np.int64(8718951), 8804578: np.int64(8804578), 6314945: np.int64(6314945), 1659667: np.int64(1659667), 12796588: np.int64(12796588), 236486127: np.int64(236486127), 260421698: np.int64(236486127), 225062282: np.int64(236486127), 6339908: np.int64(6339908), 16147979: np.int64(16147979), 37453604: np.int64(37453604), 6708547: np.int64(6708547), 8248280: np.int64(8248280), 15305728: np.int64(15305728), 6361180: np.int64(6361180), 7328260: np.int64(7328260), 9522888: np.int64(9522888), 62131409: np.int64(9522888), 213791: np.int64(213791), 43345625: np.int64(43345625), 30836513: np.int64(30836513), 9427353: np.int64(9427353), 53773168: np.int64(53773168), 26321333: np.int64(26321333), 2880847: np.int64(2880847), 1862839: np.int64(1862839), 5824206: np.int64(5824206), 28125035: np.int64(28125035), 247613305: np.int64(247613305), 247595275: np.int64(247613305), 302157: np.int64(302157), 8265456: np.int64(8265456), 199367541: np.int64(199367541), 1032366: np.int64(1032366), 2046106: np.int64(2046106), 17336955: np.int64(17336955), 61930487: np.int64(61930487), 602639: np.int64(602639), 7133783: np.int64(7133783), 14144040: np.int64(14144040), 51879204: np.int64(51879204), 11326430: np.int64(11326430), 2327888: np.int64(2327888), 248495873: np.int64(248495873), 248512985: np.int64(248495873), 258461313: np.int64(258461313), 254877590: np.int64(258461313), 250390721: np.int64(250390721), 61874237: np.int64(61874237), 7981308: np.int64(7981308), 6881747: np.int64(6881747), 219307725: np.int64(6881747), 15590323: np.int64(15590323), 219304617: np.int64(15590323), 12623074: np.int64(12623074), 260734785: np.int64(12623074), 219301255: np.int64(12623074), 262218222: np.int64(12623074), 7039907: np.int64(7039907), 15720214: np.int64(15720214), 62442869: np.int64(15720214), 8559209: np.int64(8559209), 62948965: np.int64(8559209), 286464: np.int64(286464), 9643533: np.int64(9643533), 232124785: np.int64(232124785), 142503522: np.int64(142503522), 139103296: np.int64(142503522), 28343036: np.int64(28343036), 32769621: np.int64(32769621), 39357895: np.int64(32769621), 219301332: np.int64(219301332), 18297907: np.int64(18297907), 7711342: np.int64(7711342), 32939852: np.int64(32939852), 5931687: np.int64(5931687), 262233424: np.int64(262233424), 6864375: np.int64(262233424), 235097675: np.int64(235097675), 7539145: np.int64(7539145), 13515810: np.int64(13515810), 34267047: np.int64(34267047), 263868180: np.int64(263868180), 13282731: np.int64(13282731), 16149116: np.int64(16149116), 27539999: np.int64(27539999), 36577209: np.int64(36577209), 16648361: np.int64(16648361), 1931472: np.int64(1931472), 63263576: np.int64(1931472), 2243765: np.int64(2243765), 37710557: np.int64(37710557), 249204515: np.int64(249204515), 31967198: np.int64(31967198), 2196557: np.int64(2196557), 15295006: np.int64(15295006), 8339153: np.int64(8339153), 29085815: np.int64(29085815), 255440465: np.int64(255440465), 27123740: np.int64(27123740), 63639346: np.int64(27123740), 10492906: np.int64(10492906), 7735486: np.int64(7735486), 19840120: np.int64(19840120), 18387614: np.int64(18387614), 3920857: np.int64(3920857), 18579650: np.int64(18579650), 16053290: np.int64(16053290), 51868379: np.int64(51868379), 261342902: np.int64(261342902), 245838254: np.int64(245838254), 239009573: np.int64(245838254), 2315252: np.int64(2315252), 30488100: np.int64(30488100), 14323173: np.int64(14323173), 857232: np.int64(857232), 32880557: np.int64(32880557), 21547774: np.int64(21547774), 15536130: np.int64(15536130), 259370515: np.int64(259370515), 258823001: np.int64(259370515), 197661197: np.int64(197661197), 64234728: np.int64(197661197), 8844339: np.int64(8844339), 32526624: np.int64(32526624), 11964950: np.int64(11964950), 11380974: np.int64(11380974), 218606573: np.int64(218606573), 9644364: np.int64(9644364), 1893569: np.int64(1893569), 15110225: np.int64(15110225), 5068059: np.int64(5068059), 15954468: np.int64(15954468), 13428261: np.int64(13428261), 8955494: np.int64(8955494), 618047: np.int64(618047), 260738017: np.int64(618047), 189876284: np.int64(189876284), 1219107: np.int64(1219107), 189683: np.int64(189683), 1441199: np.int64(1441199), 42628901: np.int64(42628901), 26143700: np.int64(26143700), 7962030: np.int64(7962030), 199022673: np.int64(199022673), 234277134: np.int64(234277134), 62536391: np.int64(62536391), 18159984: np.int64(18159984), 40801062: np.int64(40801062), 15714062: np.int64(15714062), 258378335: np.int64(258378335), 238251650: np.int64(238251650), 2679145: np.int64(2679145), 15281390: np.int64(15281390), 253098925: np.int64(253098925), 249009330: np.int64(253098925), 124616527: np.int64(124616527), 45694917: np.int64(45694917), 9028508: np.int64(9028508), 62643562: np.int64(62643562), 11442188: np.int64(62643562), 132532647: np.int64(132532647), 26468923: np.int64(26468923), 261341567: np.int64(261341567), 261349384: np.int64(261349384), 261349832: np.int64(261349384), 261348926: np.int64(261349384), 261349099: np.int64(261349384), 261349588: np.int64(261349384), 261349536: np.int64(261349536), 261341536: np.int64(261349536), 261351165: np.int64(261349536), 261345020: np.int64(261345020), 261348927: np.int64(261345020), 261348770: np.int64(261345020), 261349589: np.int64(261345020), 261344009: np.int64(261345020), 261349834: np.int64(261349834), 261354238: np.int64(261349834), 14937646: np.int64(14937646), 46061963: np.int64(46061963), 9420848: np.int64(9420848), 878415: np.int64(878415), 9731144: np.int64(9731144), 67741411: np.int64(67741411), 257985698: np.int64(257985698), 10952755: np.int64(10952755), 8792437: np.int64(8792437), 251280556: np.int64(251280556), 252763385: np.int64(251280556), 14038010: np.int64(14038010), 20966066: np.int64(20966066), 157242: np.int64(157242), 12751316: np.int64(12751316), 8436921: np.int64(8436921), 10857255: np.int64(10857255), 3923764: np.int64(3923764), 5447124: np.int64(5447124), 9080916: np.int64(9080916), 219303471: np.int64(219303471), 219308497: np.int64(219308497), 219328571: np.int64(219328571), 892761: np.int64(219328571), 9497515: np.int64(9497515), 36744675: np.int64(36744675), 9800912: np.int64(9800912), 31206583: np.int64(31206583), 261710349: np.int64(31206583), 32306529: np.int64(32306529), 43379641: np.int64(43379641), 1296084: np.int64(1296084), 14584530: np.int64(14584530), 51812470: np.int64(51812470), 8997127: np.int64(8997127), 11704126: np.int64(11704126), 37993239: np.int64(37993239), 5701463: np.int64(5701463), 3919442: np.int64(3919442), 379633: np.int64(379633), 13351919: np.int64(13351919), 32849191: np.int64(32849191), 1999816: np.int64(1999816), 29095097: np.int64(29095097), 29974541: np.int64(29974541), 219303057: np.int64(219303057), 6389710: np.int64(6389710), 1315512: np.int64(1315512), 110914358: np.int64(110914358), 219302062: np.int64(219302062), 219308406: np.int64(219308406), 6497918: np.int64(219308406), 8526773: np.int64(8526773), 16986171: np.int64(16986171), 29033224: np.int64(29033224), 51734726: np.int64(51734726), 1519652: np.int64(1519652), 5694733: np.int64(5694733), 40957875: np.int64(40957875), 19952568: np.int64(19952568), 9344388: np.int64(9344388), 12762659: np.int64(12762659), 59848390: np.int64(59848390), 779651: np.int64(779651), 1144073: np.int64(1144073), 27494062: np.int64(27494062), 12227075: np.int64(12227075), 10206767: np.int64(10206767), 226239320: np.int64(226239320), 262327629: np.int64(226239320), 247940018: np.int64(247940018), 245616871: np.int64(247940018), 2878110: np.int64(2878110), 234243810: np.int64(234243810), 262738069: np.int64(234243810), 10307715: np.int64(10307715), 60828509: np.int64(60828509), 7209972: np.int64(60828509), 12563174: np.int64(12563174), 44960624: np.int64(12563174), 51871240: np.int64(51871240), 6543048: np.int64(6543048), 203139700: np.int64(203139700), 51993096: np.int64(203139700), 5989400: np.int64(5989400), 559683: np.int64(559683), 243601666: np.int64(243601666), 252847588: np.int64(243601666), 60837759: np.int64(60837759), 945376: np.int64(60837759), 16878719: np.int64(16878719), 62713436: np.int64(62713436), 14613663: np.int64(62713436), 17228952: np.int64(17228952), 35260301: np.int64(35260301), 5769254: np.int64(5769254), 6088350: np.int64(6088350), 1455080: np.int64(1455080), 256460876: np.int64(256460876), 253384392: np.int64(256460876), 2730331: np.int64(2730331), 20498321: np.int64(20498321), 21022858: np.int64(21022858), 29096360: np.int64(29096360), 6622478: np.int64(6622478), 18001615: np.int64(18001615), 58224172: np.int64(58224172), 5540311: np.int64(58224172), 20833922: np.int64(20833922), 5892397: np.int64(5892397), 234228834: np.int64(234228834), 262847060: np.int64(234228834), 8590250: np.int64(8590250), 8488015: np.int64(8488015), 149746601: np.int64(149746601), 495884: np.int64(495884), 61214793: np.int64(61214793), 219302828: np.int64(219302828), 219307344: np.int64(219307344), 2901181: np.int64(2901181), 186231583: np.int64(186231583), 219306134: np.int64(219306134), 219307387: np.int64(219307387), 18314894: np.int64(219307387), 29437666: np.int64(29437666), 219300842: np.int64(219300842), 219306939: np.int64(219306939), 219306473: np.int64(219306473), 56695018: np.int64(56695018), 260632932: np.int64(260632932), 262259531: np.int64(260632932), 219303852: np.int64(219303852), 2666131: np.int64(2666131), 219304107: np.int64(219304107), 219307578: np.int64(219307578), 7551252: np.int64(7551252), 22458139: np.int64(22458139), 8906175: np.int64(8906175), 639439: np.int64(639439), 219301105: np.int64(219301105), 15157017: np.int64(15157017), 51878325: np.int64(51878325), 6185167: np.int64(6185167), 219305462: np.int64(219305462), 5213689: np.int64(5213689), 467514: np.int64(467514), 1524104: np.int64(1524104), 50130812: np.int64(50130812), 12795660: np.int64(12795660), 17046281: np.int64(17046281), 43108487: np.int64(43108487), 203210695: np.int64(203210695), 53236219: np.int64(203210695), 29611640: np.int64(29611640), 35475401: np.int64(35475401), 3897601: np.int64(3897601), 962094: np.int64(962094), 6271137: np.int64(6271137), 252763330: np.int64(252763330), 1420479: np.int64(1420479), 649762: np.int64(649762), 6721600: np.int64(6721600), 433745: np.int64(433745), 70136121: np.int64(70136121), 13255447: np.int64(13255447), 233029461: np.int64(233029461), 8631021: np.int64(8631021), 11830050: np.int64(11830050), 10791449: np.int64(10791449), 8035278: np.int64(8035278), 11576664: np.int64(11576664), 18461652: np.int64(18461652), 12744446: np.int64(12744446), 2914874: np.int64(2914874), 16020183: np.int64(16020183), 15817159: np.int64(15817159), 259144804: np.int64(259144804), 259370671: np.int64(259144804), 5429505: np.int64(5429505), 260426220: np.int64(260426220), 248182548: np.int64(260426220), 260421342: np.int64(260426220), 30908728: np.int64(30908728), 233029488: np.int64(233029488), 5872794: np.int64(5872794), 8011103: np.int64(8011103), 3536958: np.int64(3536958), 9181672: np.int64(9181672), 304033: np.int64(304033), 218622370: np.int64(218622370), 261341576: np.int64(261341576), 14714769: np.int64(14714769), 51621857: np.int64(51621857), 214651992: np.int64(214651992), 214649563: np.int64(214649563), 3019182: np.int64(3019182), 244479233: np.int64(244479233), 244346011: np.int64(244479233), 4956384: np.int64(4956384), 17616273: np.int64(17616273), 14399727: np.int64(14399727), 61121299: np.int64(14399727), 13606599: np.int64(13606599), 5199803: np.int64(5199803), 246996011: np.int64(246996011), 256461031: np.int64(246996011), 237366146: np.int64(237366146), 6539004: np.int64(6539004), 12758011: np.int64(12758011), 7413630: np.int64(7413630), 16698123: np.int64(16698123), 3913472: np.int64(3913472), 2580910: np.int64(2580910), 16259014: np.int64(16259014), 260816720: np.int64(260816720), 15813913: np.int64(260816720), 253097695: np.int64(253097695), 248405661: np.int64(253097695), 14288014: np.int64(14288014), 6556276: np.int64(6556276), 9351555: np.int64(9351555), 6941747: np.int64(6941747), 307787: np.int64(307787), 23962793: np.int64(23962793), 64758482: np.int64(64758482), 219301615: np.int64(219301615), 250391050: np.int64(250391050), 16248365: np.int64(16248365), 51872536: np.int64(51872536), 257985690: np.int64(257985690), 40353723: np.int64(40353723), 30146022: np.int64(40353723), 30136003: np.int64(40353723), 30015728: np.int64(40353723), 17698826: np.int64(40353723), 45779692: np.int64(45779692), 34735916: np.int64(34735916), 17831505: np.int64(17831505), 51881656: np.int64(51881656), 42910362: np.int64(42910362), 62345967: np.int64(42910362), 8761682: np.int64(8761682), 1377548: np.int64(1377548), 219301439: np.int64(219301439), 13209139: np.int64(13209139), 34362120: np.int64(34362120), 31420008: np.int64(31420008), 32704383: np.int64(32704383), 51871763: np.int64(51871763), 15979668: np.int64(15979668), 259370633: np.int64(259370633), 263866951: np.int64(259370633), 258378290: np.int64(258378290), 14941206: np.int64(14941206), 20184660: np.int64(20184660), 1502797: np.int64(1502797), 262296597: np.int64(262296597), 60801895: np.int64(262296597), 6658384: np.int64(6658384), 8630854: np.int64(8630854), 86397331: np.int64(86397331), 19592870: np.int64(19592870), 259833840: np.int64(259833840), 259833866: np.int64(259833840), 1667785: np.int64(1667785), 219308358: np.int64(1667785), 8166496: np.int64(8166496), 169010: np.int64(169010), 62645987: np.int64(169010), 10038324: np.int64(10038324), 33505934: np.int64(33505934), 238419270: np.int64(238419270), 242784472: np.int64(238419270), 2776389: np.int64(2776389), 9685049: np.int64(9685049), 119309472: np.int64(119309472), 52798630: np.int64(52798630), 764565: np.int64(764565), 8983941: np.int64(8983941), 219310202: np.int64(8983941), 1895032: np.int64(1895032), 6530117: np.int64(6530117), 232021958: np.int64(232021958), 20291508: np.int64(20291508), 162909733: np.int64(162909733), 250179893: np.int64(250179893), 39409501: np.int64(39409501), 6038482: np.int64(6038482), 53249093: np.int64(53249093), 3911097: np.int64(3911097), 33972308: np.int64(33972308), 8197134: np.int64(8197134), 608189: np.int64(608189), 165499588: np.int64(165499588), 37729100: np.int64(165499588), 30451912: np.int64(30451912), 252624772: np.int64(252624772), 219308169: np.int64(252624772), 2891943: np.int64(2891943), 13532125: np.int64(13532125), 62134147: np.int64(62134147), 248182534: np.int64(248182534), 2359828: np.int64(2359828), 253016834: np.int64(253016834), 256460980: np.int64(253016834), 260710127: np.int64(260710127), 2552092: np.int64(260710127), 6797639: np.int64(6797639), 63784455: np.int64(6797639), 51868421: np.int64(51868421), 6953360: np.int64(6953360), 16205078: np.int64(16205078), 251980399: np.int64(251980399), 251980392: np.int64(251980399), 116461050: np.int64(251980399), 251980396: np.int64(251980399), 37608217: np.int64(37608217), 226239144: np.int64(226239144), 17454561: np.int64(17454561), 18468409: np.int64(18468409), 10974019: np.int64(10974019), 219309121: np.int64(219309121), 27016310: np.int64(27016310), 6762141: np.int64(6762141), 17005865: np.int64(17005865), 19122719: np.int64(19122719), 199416473: np.int64(199416473), 237365379: np.int64(237365379), 237101105: np.int64(237365379), 256461055: np.int64(256461055), 244954670: np.int64(256461055), 37227016: np.int64(37227016), 13392034: np.int64(13392034), 17630430: np.int64(17630430), 258967690: np.int64(258967690), 3261520: np.int64(3261520), 51875400: np.int64(51875400), 22418524: np.int64(22418524), 4094565: np.int64(4094565), 46878856: np.int64(46878856), 15106200: np.int64(15106200), 10919045: np.int64(10919045), 37012896: np.int64(37012896), 7135235: np.int64(7135235), 2186770: np.int64(2186770), 654690: np.int64(654690), 219305804: np.int64(654690), 6749590: np.int64(6749590), 14122119: np.int64(14122119), 1488057: np.int64(1488057), 34456947: np.int64(34456947), 219310157: np.int64(219310157), 7513089: np.int64(7513089), 27584524: np.int64(27584524), 221413989: np.int64(221413989), 26658065: np.int64(26658065), 13400951: np.int64(13400951), 3896828: np.int64(3896828), 33871285: np.int64(33871285), 245855864: np.int64(245855864), 3920851: np.int64(3920851), 259376675: np.int64(259376675), 256868386: np.int64(259376675), 239020521: np.int64(239020521), 20943355: np.int64(20943355), 715201: np.int64(715201), 15454326: np.int64(15454326), 38880930: np.int64(38880930), 253447464: np.int64(253447464), 248228141: np.int64(253447464), 21686061: np.int64(21686061), 4409406: np.int64(21686061), 39807256: np.int64(39807256), 11985819: np.int64(11985819), 226239202: np.int64(226239202), 35742668: np.int64(35742668), 801438: np.int64(35742668), 9369284: np.int64(9369284), 4109354: np.int64(4109354), 4394853: np.int64(4394853), 746639: np.int64(746639), 51868059: np.int64(51868059), 226239362: np.int64(226239362), 218496892: np.int64(218496892), 17410139: np.int64(17410139), 211893: np.int64(211893), 248779924: np.int64(248779924), 258987298: np.int64(258987298), 257636907: np.int64(258987298), 44506235: np.int64(44506235), 219307922: np.int64(44506235), 252212914: np.int64(252212914), 6451985: np.int64(6451985), 4005560: np.int64(4005560), 5265615: np.int64(5265615), 218498415: np.int64(218498415), 218499142: np.int64(218498415), 218497059: np.int64(218498415), 218497388: np.int64(218498415), 15795954: np.int64(15795954), 8723290: np.int64(8723290), 15934165: np.int64(15934165), 890: np.int64(890), 14479198: np.int64(14479198), 14823348: np.int64(14823348), 6821112: np.int64(6821112), 102270: np.int64(102270), 24762031: np.int64(24762031), 64544171: np.int64(64544171), 159685: np.int64(159685), 16541633: np.int64(16541633), 31111861: np.int64(31111861), 11066255: np.int64(11066255), 33576312: np.int64(33576312), 8007984: np.int64(8007984), 16480391: np.int64(16480391), 14879573: np.int64(14879573), 14930319: np.int64(14930319), 38424278: np.int64(38424278), 15692911: np.int64(15692911), 6307133: np.int64(6307133), 15364376: np.int64(15364376), 62463789: np.int64(62463789), 15973843: np.int64(15973843), 12134559: np.int64(12134559), 31390949: np.int64(31390949), 2260483: np.int64(2260483), 250179940: np.int64(250179940), 23098329: np.int64(23098329), 14200788: np.int64(14200788), 41063222: np.int64(41063222), 14001488: np.int64(14001488), 18320198: np.int64(18320198), 7645153: np.int64(7645153), 34224475: np.int64(34224475), 16742116: np.int64(16742116), 6665511: np.int64(6665511), 17128118: np.int64(17128118), 7353825: np.int64(7353825), 6991244: np.int64(6991244), 59436176: np.int64(59436176), 3081192: np.int64(3081192), 2960680: np.int64(2960680), 17665159: np.int64(17665159), 11903022: np.int64(11903022), 62086024: np.int64(62086024), 37154371: np.int64(37154371), 260582856: np.int64(260582856), 22352178: np.int64(22352178), 6829190: np.int64(6829190), 5267403: np.int64(5267403), 15199936: np.int64(15199936), 2567896: np.int64(2567896), 15675902: np.int64(15675902), 17917692: np.int64(17917692), 115958046: np.int64(115958046), 14762108: np.int64(14762108), 14589703: np.int64(14589703), 7532092: np.int64(7532092), 10948333: np.int64(10948333), 804194: np.int64(804194), 16327195: np.int64(16327195), 17012545: np.int64(17012545), 14580933: np.int64(14580933), 2946829: np.int64(2946829), 18250652: np.int64(18250652), 14877585: np.int64(14877585), 2096243: np.int64(2096243), 10442166: np.int64(10442166), 690018: np.int64(690018), 13098927: np.int64(13098927), 17570096: np.int64(17570096), 19914801: np.int64(19914801), 40301297: np.int64(40301297), 233029485: np.int64(233029485), 38490481: np.int64(38490481), 20716632: np.int64(20716632), 42138589: np.int64(42138589), 59523799: np.int64(59523799), 236179527: np.int64(236179527), 7518198: np.int64(7518198), 35689754: np.int64(35689754), 26529715: np.int64(26529715), 41567527: np.int64(41567527), 253628217: np.int64(253628217), 235482370: np.int64(235482370), 19898547: np.int64(19898547), 992867: np.int64(992867), 19597907: np.int64(19597907), 7123476: np.int64(7123476), 233029508: np.int64(233029508), 233029467: np.int64(233029467), 5757808: np.int64(5757808), 253628229: np.int64(253628229), 32029618: np.int64(32029618), 15694671: np.int64(15694671), 39596732: np.int64(39596732), 10574535: np.int64(10574535), 64532152: np.int64(10574535), 43421388: np.int64(43421388), 252763366: np.int64(252763366), 235482404: np.int64(235482404), 18679773: np.int64(18679773), 45741619: np.int64(45741619), 235482360: np.int64(235482360), 20434295: np.int64(20434295), 23132221: np.int64(23132221), 43257641: np.int64(43257641), 30342682: np.int64(30342682), 235482368: np.int64(235482368), 46342266: np.int64(46342266), 8828761: np.int64(8828761), 39152303: np.int64(39152303), 14956746: np.int64(14956746), 20810614: np.int64(20810614), 233029459: np.int64(233029459), 13516222: np.int64(13516222), 34474208: np.int64(34474208), 35620797: np.int64(35620797), 233029470: np.int64(233029470), 42149039: np.int64(42149039), 253628227: np.int64(253628227), 21364577: np.int64(21364577), 59860986: np.int64(59860986), 38901491: np.int64(38901491), 15708903: np.int64(15708903), 34170652: np.int64(34170652), 17555240: np.int64(17555240), 5247363: np.int64(5247363), 18560180: np.int64(18560180)}\n"
     ]
    },
    {
     "data": {
      "text/html": [
       "<div>\n",
       "<style scoped>\n",
       "    .dataframe tbody tr th:only-of-type {\n",
       "        vertical-align: middle;\n",
       "    }\n",
       "\n",
       "    .dataframe tbody tr th {\n",
       "        vertical-align: top;\n",
       "    }\n",
       "\n",
       "    .dataframe thead th {\n",
       "        text-align: right;\n",
       "    }\n",
       "</style>\n",
       "<table border=\"1\" class=\"dataframe\">\n",
       "  <thead>\n",
       "    <tr style=\"text-align: right;\">\n",
       "      <th></th>\n",
       "      <th>query_set</th>\n",
       "      <th>query</th>\n",
       "      <th>specificity</th>\n",
       "      <th>quality</th>\n",
       "      <th>corpusids</th>\n",
       "    </tr>\n",
       "  </thead>\n",
       "  <tbody>\n",
       "    <tr>\n",
       "      <th>0</th>\n",
       "      <td>inline_acl</td>\n",
       "      <td>Are there any research papers on methods to co...</td>\n",
       "      <td>0</td>\n",
       "      <td>2</td>\n",
       "      <td>[202719327]</td>\n",
       "    </tr>\n",
       "    <tr>\n",
       "      <th>1</th>\n",
       "      <td>inline_acl</td>\n",
       "      <td>Are there any resources available for translat...</td>\n",
       "      <td>1</td>\n",
       "      <td>2</td>\n",
       "      <td>[227231792]</td>\n",
       "    </tr>\n",
       "    <tr>\n",
       "      <th>2</th>\n",
       "      <td>inline_acl</td>\n",
       "      <td>Are there any studies that explore post-hoc te...</td>\n",
       "      <td>0</td>\n",
       "      <td>2</td>\n",
       "      <td>[204976362, 226254579]</td>\n",
       "    </tr>\n",
       "    <tr>\n",
       "      <th>3</th>\n",
       "      <td>inline_acl</td>\n",
       "      <td>Are there any tools or studies that have focus...</td>\n",
       "      <td>1</td>\n",
       "      <td>2</td>\n",
       "      <td>[10961392, 12160022]</td>\n",
       "    </tr>\n",
       "    <tr>\n",
       "      <th>4</th>\n",
       "      <td>inline_acl</td>\n",
       "      <td>Are there papers that propose contextualized c...</td>\n",
       "      <td>1</td>\n",
       "      <td>2</td>\n",
       "      <td>[233296182]</td>\n",
       "    </tr>\n",
       "  </tbody>\n",
       "</table>\n",
       "</div>"
      ],
      "text/plain": [
       "    query_set                                              query  specificity  \\\n",
       "0  inline_acl  Are there any research papers on methods to co...            0   \n",
       "1  inline_acl  Are there any resources available for translat...            1   \n",
       "2  inline_acl  Are there any studies that explore post-hoc te...            0   \n",
       "3  inline_acl  Are there any tools or studies that have focus...            1   \n",
       "4  inline_acl  Are there papers that propose contextualized c...            1   \n",
       "\n",
       "   quality               corpusids  \n",
       "0        2             [202719327]  \n",
       "1        2             [227231792]  \n",
       "2        2  [204976362, 226254579]  \n",
       "3        2    [10961392, 12160022]  \n",
       "4        2             [233296182]  "
      ]
     },
     "execution_count": 330,
     "metadata": {},
     "output_type": "execute_result"
    }
   ],
   "source": [
    "empty_abstract_ids = set(\n",
    "    duplicated_papers.loc[duplicated_papers[\"abstract\"] == \"\", \"corpusid\"]\n",
    ")\n",
    "\n",
    "duplicate_mapping = {}\n",
    "\n",
    "for _, group in duplicated_papers.groupby(\"title\"):\n",
    "    first_corpusid = group.iloc[0][\"corpusid\"]\n",
    "    for corpusid in group[\"corpusid\"]:\n",
    "        duplicate_mapping[corpusid] = first_corpusid\n",
    "\n",
    "print(\"Corpus IDs with empty abstracts:\", empty_abstract_ids)\n",
    "print(\"Duplicate Corpus ID Mapping:\", duplicate_mapping)\n",
    "\n",
    "def clean_corpusids(corpusids):\n",
    "    cleaned_ids = []\n",
    "    \n",
    "    for corpusid in corpusids:\n",
    "        # Remove corpusid if it has an empty abstract\n",
    "        if corpusid in empty_abstract_ids:\n",
    "            continue\n",
    "        \n",
    "        # Replace corpusid if it's a duplicate\n",
    "        if corpusid in duplicate_mapping:\n",
    "            corpusid = duplicate_mapping[corpusid]\n",
    "        \n",
    "        cleaned_ids.append(corpusid)\n",
    "    \n",
    "    return list(set(cleaned_ids))\n",
    "\n",
    "litsearch_query_df_cleaned[\"corpusids\"] = litsearch_query_df_cleaned[\"corpusids\"].apply(clean_corpusids)\n",
    "\n",
    "litsearch_query_df_cleaned.head()"
   ]
  },
  {
   "cell_type": "markdown",
   "metadata": {},
   "source": [
    "there seems to be research papers in french? we're not looking for multilingual datasets here so will exclude"
   ]
  },
  {
   "cell_type": "code",
   "execution_count": 331,
   "metadata": {},
   "outputs": [
    {
     "name": "stderr",
     "output_type": "stream",
     "text": [
      "/var/folders/tt/89j8tbqd2q3bnwxk83_csyn00000gn/T/ipykernel_2920/46228635.py:12: SettingWithCopyWarning: \n",
      "A value is trying to be set on a copy of a slice from a DataFrame.\n",
      "Try using .loc[row_indexer,col_indexer] = value instead\n",
      "\n",
      "See the caveats in the documentation: https://pandas.pydata.org/pandas-docs/stable/user_guide/indexing.html#returning-a-view-versus-a-copy\n",
      "  litsearch_papers_df_cleaned[\"is_french\"] = litsearch_papers_df_cleaned[\"title\"].apply(is_french_paper)\n"
     ]
    }
   ],
   "source": [
    "# words that may appear\n",
    "common_french_words = {\"à\", \"avec\", \"pour\", \"par\", \"dans\", \"ou\", \"mais\", \"donc\",\n",
    "                       \"ce\", \"cet\", \"cette\", \"ces\", \"qui\", \"que\", \"cela\", \"ainsi\", \"selon\", \n",
    "                       \"notamment\", \"plusieurs\", \"également\", \"néanmoins\", \"alors\", \"afin\"}\n",
    "\n",
    "def is_french_paper(text):\n",
    "    if pd.isna(text):\n",
    "        return False\n",
    "    text_words = set(text.lower().split())  # Convert text to lowercase and split into words\n",
    "    return bool(common_french_words & text_words)  # Check for intersection\n",
    "\n",
    "litsearch_papers_df_cleaned[\"is_french\"] = litsearch_papers_df_cleaned[\"title\"].apply(is_french_paper)"
   ]
  },
  {
   "cell_type": "markdown",
   "metadata": {},
   "source": [
    "more accurate way of clasifying since we know that french papers actually exist\n",
    "\n",
    "also, used title because tried this with full paper earlier and it would often be english papers referecing french papers"
   ]
  },
  {
   "cell_type": "code",
   "execution_count": 228,
   "metadata": {},
   "outputs": [
    {
     "name": "stdout",
     "output_type": "stream",
     "text": [
      "Defaulting to user installation because normal site-packages is not writeable\n",
      "Collecting langdetect\n",
      "  Downloading langdetect-1.0.9.tar.gz (981 kB)\n",
      "\u001b[2K     \u001b[90m━━━━━━━━━━━━━━━━━━━━━━━━━━━━━━━━━━━━━━━\u001b[0m \u001b[32m981.5/981.5 kB\u001b[0m \u001b[31m2.4 MB/s\u001b[0m eta \u001b[36m0:00:00\u001b[0ma \u001b[36m0:00:01\u001b[0m\n",
      "\u001b[?25h  Preparing metadata (setup.py) ... \u001b[?25ldone\n",
      "\u001b[?25hRequirement already satisfied: six in /Library/Developer/CommandLineTools/Library/Frameworks/Python3.framework/Versions/3.9/lib/python3.9/site-packages (from langdetect) (1.15.0)\n",
      "Building wheels for collected packages: langdetect\n",
      "  Building wheel for langdetect (setup.py) ... \u001b[?25ldone\n",
      "\u001b[?25h  Created wheel for langdetect: filename=langdetect-1.0.9-py3-none-any.whl size=993242 sha256=632f10edf5c07922995c2fe11238d184f996b7b0ae33fe2cafba3e8e08f85114\n",
      "  Stored in directory: /Users/kellyhong/Library/Caches/pip/wheels/d1/c1/d9/7e068de779d863bc8f8fc9467d85e25cfe47fa5051fff1a1bb\n",
      "Successfully built langdetect\n",
      "Installing collected packages: langdetect\n",
      "Successfully installed langdetect-1.0.9\n",
      "\n",
      "\u001b[1m[\u001b[0m\u001b[34;49mnotice\u001b[0m\u001b[1;39;49m]\u001b[0m\u001b[39;49m A new release of pip is available: \u001b[0m\u001b[31;49m24.3.1\u001b[0m\u001b[39;49m -> \u001b[0m\u001b[32;49m25.0\u001b[0m\n",
      "\u001b[1m[\u001b[0m\u001b[34;49mnotice\u001b[0m\u001b[1;39;49m]\u001b[0m\u001b[39;49m To update, run: \u001b[0m\u001b[32;49m/Library/Developer/CommandLineTools/usr/bin/python3 -m pip install --upgrade pip\u001b[0m\n",
      "Note: you may need to restart the kernel to use updated packages.\n"
     ]
    }
   ],
   "source": [
    "pip install langdetect"
   ]
  },
  {
   "cell_type": "code",
   "execution_count": 229,
   "metadata": {},
   "outputs": [
    {
     "name": "stderr",
     "output_type": "stream",
     "text": [
      "/var/folders/tt/89j8tbqd2q3bnwxk83_csyn00000gn/T/ipykernel_2920/4260974261.py:13: SettingWithCopyWarning: \n",
      "A value is trying to be set on a copy of a slice from a DataFrame.\n",
      "Try using .loc[row_indexer,col_indexer] = value instead\n",
      "\n",
      "See the caveats in the documentation: https://pandas.pydata.org/pandas-docs/stable/user_guide/indexing.html#returning-a-view-versus-a-copy\n",
      "  litsearch_papers_df_cleaned[\"language\"] = litsearch_papers_df_cleaned[\"title\"].apply(detect_language)\n"
     ]
    }
   ],
   "source": [
    "from langdetect import detect, DetectorFactory\n",
    "\n",
    "DetectorFactory.seed = 0  # Ensure consistent results\n",
    "\n",
    "def detect_language(text):\n",
    "    if pd.isna(text) or not isinstance(text, str) or len(text) < 5:\n",
    "        return \"unknown\"\n",
    "    try:\n",
    "        return detect(text)\n",
    "    except:\n",
    "        return \"unknown\"\n",
    "\n",
    "litsearch_papers_df_cleaned[\"language\"] = litsearch_papers_df_cleaned[\"title\"].apply(detect_language)\n",
    "\n",
    "english_papers_df = litsearch_papers_df_cleaned[litsearch_papers_df_cleaned[\"language\"] == \"en\"]\n",
    "non_english_papers_df = litsearch_papers_df_cleaned[litsearch_papers_df_cleaned[\"language\"] != \"en\"]"
   ]
  },
  {
   "cell_type": "markdown",
   "metadata": {},
   "source": [
    "from some observations, it seems like papers are either in english or french (non-french/english papers just seem to be misclassified but they're actually english)\n",
    "\n",
    "but also some \"fr\" classified ones are actually english, so I think my previous method is more accurate"
   ]
  },
  {
   "cell_type": "markdown",
   "metadata": {},
   "source": [
    "quick check in query dataset:"
   ]
  },
  {
   "cell_type": "code",
   "execution_count": 242,
   "metadata": {},
   "outputs": [
    {
     "data": {
      "text/html": [
       "<div>\n",
       "<style scoped>\n",
       "    .dataframe tbody tr th:only-of-type {\n",
       "        vertical-align: middle;\n",
       "    }\n",
       "\n",
       "    .dataframe tbody tr th {\n",
       "        vertical-align: top;\n",
       "    }\n",
       "\n",
       "    .dataframe thead th {\n",
       "        text-align: right;\n",
       "    }\n",
       "</style>\n",
       "<table border=\"1\" class=\"dataframe\">\n",
       "  <thead>\n",
       "    <tr style=\"text-align: right;\">\n",
       "      <th></th>\n",
       "      <th>query_set</th>\n",
       "      <th>query</th>\n",
       "      <th>specificity</th>\n",
       "      <th>quality</th>\n",
       "      <th>corpusids</th>\n",
       "    </tr>\n",
       "  </thead>\n",
       "  <tbody>\n",
       "  </tbody>\n",
       "</table>\n",
       "</div>"
      ],
      "text/plain": [
       "Empty DataFrame\n",
       "Columns: [query_set, query, specificity, quality, corpusids]\n",
       "Index: []"
      ]
     },
     "execution_count": 242,
     "metadata": {},
     "output_type": "execute_result"
    }
   ],
   "source": [
    "french_queries_df = litsearch_query_df_cleaned[litsearch_query_df_cleaned[\"query\"].apply(is_french_paper)]\n",
    "\n",
    "french_queries_df.head()"
   ]
  },
  {
   "cell_type": "markdown",
   "metadata": {},
   "source": [
    "so it's just the research papers that have french text, will account for those since this benchmark isn't supposed to test multilingual"
   ]
  },
  {
   "cell_type": "code",
   "execution_count": 332,
   "metadata": {},
   "outputs": [
    {
     "data": {
      "text/html": [
       "<div>\n",
       "<style scoped>\n",
       "    .dataframe tbody tr th:only-of-type {\n",
       "        vertical-align: middle;\n",
       "    }\n",
       "\n",
       "    .dataframe tbody tr th {\n",
       "        vertical-align: top;\n",
       "    }\n",
       "\n",
       "    .dataframe thead th {\n",
       "        text-align: right;\n",
       "    }\n",
       "</style>\n",
       "<table border=\"1\" class=\"dataframe\">\n",
       "  <thead>\n",
       "    <tr style=\"text-align: right;\">\n",
       "      <th></th>\n",
       "      <th>corpusid</th>\n",
       "      <th>title</th>\n",
       "      <th>abstract</th>\n",
       "      <th>citations</th>\n",
       "      <th>full_paper</th>\n",
       "      <th>is_french</th>\n",
       "    </tr>\n",
       "  </thead>\n",
       "  <tbody>\n",
       "    <tr>\n",
       "      <th>4809</th>\n",
       "      <td>264038749</td>\n",
       "      <td>Jeu de données de tickets de caisse pour la dé...</td>\n",
       "      <td>L'utilisation généralisée de documents numériq...</td>\n",
       "      <td>[]</td>\n",
       "      <td>Jeu de données de tickets de caisse pour la dé...</td>\n",
       "      <td>True</td>\n",
       "    </tr>\n",
       "    <tr>\n",
       "      <th>4857</th>\n",
       "      <td>193020094</td>\n",
       "      <td>Annotation automatique d'un corpus d'apprenant...</td>\n",
       "      <td>RÉSUMÉ________________________________________...</td>\n",
       "      <td>[252796]</td>\n",
       "      <td>Annotation automatique d'un corpus d'apprenant...</td>\n",
       "      <td>True</td>\n",
       "    </tr>\n",
       "    <tr>\n",
       "      <th>4884</th>\n",
       "      <td>264038759</td>\n",
       "      <td>Production automatique de gloses interlinéaire...</td>\n",
       "      <td>La production d'annotations linguistiques ou g...</td>\n",
       "      <td>[263313957, 52967399, 227231816, 12259852, 770...</td>\n",
       "      <td>Production automatique de gloses interlinéaire...</td>\n",
       "      <td>True</td>\n",
       "    </tr>\n",
       "    <tr>\n",
       "      <th>4885</th>\n",
       "      <td>264038774</td>\n",
       "      <td>Stratégies d'apprentissage actif pour la recon...</td>\n",
       "      <td>L'annotation manuelle de corpus est un process...</td>\n",
       "      <td>[220045827, 174799748, 17449944, 250390500, 52...</td>\n",
       "      <td>Stratégies d'apprentissage actif pour la recon...</td>\n",
       "      <td>True</td>\n",
       "    </tr>\n",
       "    <tr>\n",
       "      <th>4889</th>\n",
       "      <td>30339746</td>\n",
       "      <td>VisArtico : visualiser les données articulatoi...</td>\n",
       "      <td>1) LORIA -UMR 7503, 54506 Vandoeuvre-lès-Nancy...</td>\n",
       "      <td>[]</td>\n",
       "      <td>VisArtico : visualiser les données articulatoi...</td>\n",
       "      <td>True</td>\n",
       "    </tr>\n",
       "  </tbody>\n",
       "</table>\n",
       "</div>"
      ],
      "text/plain": [
       "       corpusid                                              title  \\\n",
       "4809  264038749  Jeu de données de tickets de caisse pour la dé...   \n",
       "4857  193020094  Annotation automatique d'un corpus d'apprenant...   \n",
       "4884  264038759  Production automatique de gloses interlinéaire...   \n",
       "4885  264038774  Stratégies d'apprentissage actif pour la recon...   \n",
       "4889   30339746  VisArtico : visualiser les données articulatoi...   \n",
       "\n",
       "                                               abstract  \\\n",
       "4809  L'utilisation généralisée de documents numériq...   \n",
       "4857  RÉSUMÉ________________________________________...   \n",
       "4884  La production d'annotations linguistiques ou g...   \n",
       "4885  L'annotation manuelle de corpus est un process...   \n",
       "4889  1) LORIA -UMR 7503, 54506 Vandoeuvre-lès-Nancy...   \n",
       "\n",
       "                                              citations  \\\n",
       "4809                                                 []   \n",
       "4857                                           [252796]   \n",
       "4884  [263313957, 52967399, 227231816, 12259852, 770...   \n",
       "4885  [220045827, 174799748, 17449944, 250390500, 52...   \n",
       "4889                                                 []   \n",
       "\n",
       "                                             full_paper  is_french  \n",
       "4809  Jeu de données de tickets de caisse pour la dé...       True  \n",
       "4857  Annotation automatique d'un corpus d'apprenant...       True  \n",
       "4884  Production automatique de gloses interlinéaire...       True  \n",
       "4885  Stratégies d'apprentissage actif pour la recon...       True  \n",
       "4889  VisArtico : visualiser les données articulatoi...       True  "
      ]
     },
     "execution_count": 332,
     "metadata": {},
     "output_type": "execute_result"
    }
   ],
   "source": [
    "litsearch_papers_df_cleaned[litsearch_papers_df_cleaned[\"is_french\"] == True].head()"
   ]
  },
  {
   "cell_type": "code",
   "execution_count": 333,
   "metadata": {},
   "outputs": [
    {
     "data": {
      "text/plain": [
       "460"
      ]
     },
     "execution_count": 333,
     "metadata": {},
     "output_type": "execute_result"
    }
   ],
   "source": [
    "french_paper_ids = set(\n",
    "    litsearch_papers_df_cleaned.loc[litsearch_papers_df_cleaned[\"is_french\"] == True, \"corpusid\"]\n",
    ")\n",
    "len(french_paper_ids)"
   ]
  },
  {
   "cell_type": "code",
   "execution_count": 334,
   "metadata": {},
   "outputs": [],
   "source": [
    "def clean_language(corpusids):\n",
    "    cleaned_ids = []\n",
    "\n",
    "    for corpusid in corpusids:\n",
    "        if corpusid in french_paper_ids:\n",
    "            continue\n",
    "        else:\n",
    "            cleaned_ids.append(corpusid)\n",
    "    \n",
    "    return list(set(cleaned_ids))\n",
    "\n",
    "litsearch_query_df_cleaned[\"corpusids\"] = litsearch_query_df_cleaned[\"corpusids\"].apply(clean_language)"
   ]
  },
  {
   "cell_type": "code",
   "execution_count": 335,
   "metadata": {},
   "outputs": [
    {
     "data": {
      "text/html": [
       "<div>\n",
       "<style scoped>\n",
       "    .dataframe tbody tr th:only-of-type {\n",
       "        vertical-align: middle;\n",
       "    }\n",
       "\n",
       "    .dataframe tbody tr th {\n",
       "        vertical-align: top;\n",
       "    }\n",
       "\n",
       "    .dataframe thead th {\n",
       "        text-align: right;\n",
       "    }\n",
       "</style>\n",
       "<table border=\"1\" class=\"dataframe\">\n",
       "  <thead>\n",
       "    <tr style=\"text-align: right;\">\n",
       "      <th></th>\n",
       "      <th>query_set</th>\n",
       "      <th>query</th>\n",
       "      <th>specificity</th>\n",
       "      <th>quality</th>\n",
       "      <th>corpusids</th>\n",
       "    </tr>\n",
       "  </thead>\n",
       "  <tbody>\n",
       "    <tr>\n",
       "      <th>0</th>\n",
       "      <td>inline_acl</td>\n",
       "      <td>Are there any research papers on methods to co...</td>\n",
       "      <td>0</td>\n",
       "      <td>2</td>\n",
       "      <td>[202719327]</td>\n",
       "    </tr>\n",
       "    <tr>\n",
       "      <th>1</th>\n",
       "      <td>inline_acl</td>\n",
       "      <td>Are there any resources available for translat...</td>\n",
       "      <td>1</td>\n",
       "      <td>2</td>\n",
       "      <td>[227231792]</td>\n",
       "    </tr>\n",
       "    <tr>\n",
       "      <th>2</th>\n",
       "      <td>inline_acl</td>\n",
       "      <td>Are there any studies that explore post-hoc te...</td>\n",
       "      <td>0</td>\n",
       "      <td>2</td>\n",
       "      <td>[204976362, 226254579]</td>\n",
       "    </tr>\n",
       "    <tr>\n",
       "      <th>3</th>\n",
       "      <td>inline_acl</td>\n",
       "      <td>Are there any tools or studies that have focus...</td>\n",
       "      <td>1</td>\n",
       "      <td>2</td>\n",
       "      <td>[10961392, 12160022]</td>\n",
       "    </tr>\n",
       "    <tr>\n",
       "      <th>4</th>\n",
       "      <td>inline_acl</td>\n",
       "      <td>Are there papers that propose contextualized c...</td>\n",
       "      <td>1</td>\n",
       "      <td>2</td>\n",
       "      <td>[233296182]</td>\n",
       "    </tr>\n",
       "  </tbody>\n",
       "</table>\n",
       "</div>"
      ],
      "text/plain": [
       "    query_set                                              query  specificity  \\\n",
       "0  inline_acl  Are there any research papers on methods to co...            0   \n",
       "1  inline_acl  Are there any resources available for translat...            1   \n",
       "2  inline_acl  Are there any studies that explore post-hoc te...            0   \n",
       "3  inline_acl  Are there any tools or studies that have focus...            1   \n",
       "4  inline_acl  Are there papers that propose contextualized c...            1   \n",
       "\n",
       "   quality               corpusids  \n",
       "0        2             [202719327]  \n",
       "1        2             [227231792]  \n",
       "2        2  [204976362, 226254579]  \n",
       "3        2    [10961392, 12160022]  \n",
       "4        2             [233296182]  "
      ]
     },
     "execution_count": 335,
     "metadata": {},
     "output_type": "execute_result"
    }
   ],
   "source": [
    "litsearch_query_df_cleaned.head()"
   ]
  },
  {
   "cell_type": "markdown",
   "metadata": {},
   "source": [
    "check to make sure everything worked"
   ]
  },
  {
   "cell_type": "code",
   "execution_count": 336,
   "metadata": {},
   "outputs": [],
   "source": [
    "filtered_df = litsearch_query_df_cleaned[\n",
    "    litsearch_query_df_cleaned[\"corpusids\"].apply(lambda x: 264038749 in x)\n",
    "]"
   ]
  },
  {
   "cell_type": "code",
   "execution_count": 337,
   "metadata": {},
   "outputs": [
    {
     "data": {
      "text/html": [
       "<div>\n",
       "<style scoped>\n",
       "    .dataframe tbody tr th:only-of-type {\n",
       "        vertical-align: middle;\n",
       "    }\n",
       "\n",
       "    .dataframe tbody tr th {\n",
       "        vertical-align: top;\n",
       "    }\n",
       "\n",
       "    .dataframe thead th {\n",
       "        text-align: right;\n",
       "    }\n",
       "</style>\n",
       "<table border=\"1\" class=\"dataframe\">\n",
       "  <thead>\n",
       "    <tr style=\"text-align: right;\">\n",
       "      <th></th>\n",
       "      <th>query_set</th>\n",
       "      <th>query</th>\n",
       "      <th>specificity</th>\n",
       "      <th>quality</th>\n",
       "      <th>corpusids</th>\n",
       "    </tr>\n",
       "  </thead>\n",
       "  <tbody>\n",
       "  </tbody>\n",
       "</table>\n",
       "</div>"
      ],
      "text/plain": [
       "Empty DataFrame\n",
       "Columns: [query_set, query, specificity, quality, corpusids]\n",
       "Index: []"
      ]
     },
     "execution_count": 337,
     "metadata": {},
     "output_type": "execute_result"
    }
   ],
   "source": [
    "filtered_df"
   ]
  },
  {
   "cell_type": "code",
   "execution_count": 338,
   "metadata": {},
   "outputs": [
    {
     "data": {
      "text/plain": [
       "55909"
      ]
     },
     "execution_count": 338,
     "metadata": {},
     "output_type": "execute_result"
    }
   ],
   "source": [
    "len(litsearch_papers_df_cleaned)"
   ]
  },
  {
   "cell_type": "code",
   "execution_count": 339,
   "metadata": {},
   "outputs": [
    {
     "data": {
      "text/plain": [
       "55449"
      ]
     },
     "execution_count": 339,
     "metadata": {},
     "output_type": "execute_result"
    }
   ],
   "source": [
    "len(litsearch_papers_df_cleaned[litsearch_papers_df_cleaned[\"is_french\"] == False])"
   ]
  },
  {
   "cell_type": "code",
   "execution_count": 340,
   "metadata": {},
   "outputs": [],
   "source": [
    "litsearch_papers_df_cleaned_en = litsearch_papers_df_cleaned[litsearch_papers_df_cleaned[\"is_french\"] == False]"
   ]
  },
  {
   "cell_type": "code",
   "execution_count": 342,
   "metadata": {},
   "outputs": [
    {
     "data": {
      "text/plain": [
       "55449"
      ]
     },
     "execution_count": 342,
     "metadata": {},
     "output_type": "execute_result"
    }
   ],
   "source": [
    "len(litsearch_papers_df_cleaned_en)"
   ]
  },
  {
   "cell_type": "markdown",
   "metadata": {},
   "source": [
    "#### Final cleaned dataset"
   ]
  },
  {
   "cell_type": "code",
   "execution_count": 341,
   "metadata": {},
   "outputs": [
    {
     "data": {
      "text/html": [
       "<div>\n",
       "<style scoped>\n",
       "    .dataframe tbody tr th:only-of-type {\n",
       "        vertical-align: middle;\n",
       "    }\n",
       "\n",
       "    .dataframe tbody tr th {\n",
       "        vertical-align: top;\n",
       "    }\n",
       "\n",
       "    .dataframe thead th {\n",
       "        text-align: right;\n",
       "    }\n",
       "</style>\n",
       "<table border=\"1\" class=\"dataframe\">\n",
       "  <thead>\n",
       "    <tr style=\"text-align: right;\">\n",
       "      <th></th>\n",
       "      <th>corpusid</th>\n",
       "      <th>title</th>\n",
       "      <th>abstract</th>\n",
       "      <th>citations</th>\n",
       "      <th>full_paper</th>\n",
       "      <th>is_french</th>\n",
       "    </tr>\n",
       "  </thead>\n",
       "  <tbody>\n",
       "    <tr>\n",
       "      <th>0</th>\n",
       "      <td>252715594</td>\n",
       "      <td>PHENAKI: VARIABLE LENGTH VIDEO GENERATION FROM...</td>\n",
       "      <td>We present Phenaki, a model capable of realist...</td>\n",
       "      <td>[6628106, 174802916, 238582653]</td>\n",
       "      <td>PHENAKI: VARIABLE LENGTH VIDEO GENERATION FROM...</td>\n",
       "      <td>False</td>\n",
       "    </tr>\n",
       "    <tr>\n",
       "      <th>1</th>\n",
       "      <td>13002849</td>\n",
       "      <td>MODE REGULARIZED GENERATIVE ADVERSARIAL NETWORKS</td>\n",
       "      <td>Although Generative Adversarial Networks achie...</td>\n",
       "      <td>[]</td>\n",
       "      <td>MODE REGULARIZED GENERATIVE ADVERSARIAL NETWOR...</td>\n",
       "      <td>False</td>\n",
       "    </tr>\n",
       "    <tr>\n",
       "      <th>2</th>\n",
       "      <td>239998253</td>\n",
       "      <td>What Do We Mean by Generalization in Federated...</td>\n",
       "      <td>Federated learning data is drawn from a distri...</td>\n",
       "      <td>[235613568, 231924480, 211678094, 195798643, 4...</td>\n",
       "      <td>What Do We Mean by Generalization in Federated...</td>\n",
       "      <td>False</td>\n",
       "    </tr>\n",
       "    <tr>\n",
       "      <th>3</th>\n",
       "      <td>62841605</td>\n",
       "      <td>SPREADING VECTORS FOR SIMILARITY SEARCH</td>\n",
       "      <td>Discretizing multi-dimensional data distributi...</td>\n",
       "      <td>[]</td>\n",
       "      <td>SPREADING VECTORS FOR SIMILARITY SEARCH\\n\\n\\nA...</td>\n",
       "      <td>False</td>\n",
       "    </tr>\n",
       "    <tr>\n",
       "      <th>4</th>\n",
       "      <td>253237531</td>\n",
       "      <td>MACHINE UNLEARNING OF FEDERATED CLUSTERS</td>\n",
       "      <td>Federated clustering (FC) is an unsupervised l...</td>\n",
       "      <td>[]</td>\n",
       "      <td>MACHINE UNLEARNING OF FEDERATED CLUSTERS\\n\\n\\n...</td>\n",
       "      <td>False</td>\n",
       "    </tr>\n",
       "  </tbody>\n",
       "</table>\n",
       "</div>"
      ],
      "text/plain": [
       "    corpusid                                              title  \\\n",
       "0  252715594  PHENAKI: VARIABLE LENGTH VIDEO GENERATION FROM...   \n",
       "1   13002849   MODE REGULARIZED GENERATIVE ADVERSARIAL NETWORKS   \n",
       "2  239998253  What Do We Mean by Generalization in Federated...   \n",
       "3   62841605            SPREADING VECTORS FOR SIMILARITY SEARCH   \n",
       "4  253237531           MACHINE UNLEARNING OF FEDERATED CLUSTERS   \n",
       "\n",
       "                                            abstract  \\\n",
       "0  We present Phenaki, a model capable of realist...   \n",
       "1  Although Generative Adversarial Networks achie...   \n",
       "2  Federated learning data is drawn from a distri...   \n",
       "3  Discretizing multi-dimensional data distributi...   \n",
       "4  Federated clustering (FC) is an unsupervised l...   \n",
       "\n",
       "                                           citations  \\\n",
       "0                    [6628106, 174802916, 238582653]   \n",
       "1                                                 []   \n",
       "2  [235613568, 231924480, 211678094, 195798643, 4...   \n",
       "3                                                 []   \n",
       "4                                                 []   \n",
       "\n",
       "                                          full_paper  is_french  \n",
       "0  PHENAKI: VARIABLE LENGTH VIDEO GENERATION FROM...      False  \n",
       "1  MODE REGULARIZED GENERATIVE ADVERSARIAL NETWOR...      False  \n",
       "2  What Do We Mean by Generalization in Federated...      False  \n",
       "3  SPREADING VECTORS FOR SIMILARITY SEARCH\\n\\n\\nA...      False  \n",
       "4  MACHINE UNLEARNING OF FEDERATED CLUSTERS\\n\\n\\n...      False  "
      ]
     },
     "execution_count": 341,
     "metadata": {},
     "output_type": "execute_result"
    }
   ],
   "source": [
    "litsearch_papers_df_cleaned_en.head()"
   ]
  },
  {
   "cell_type": "code",
   "execution_count": 343,
   "metadata": {},
   "outputs": [
    {
     "data": {
      "text/html": [
       "<div>\n",
       "<style scoped>\n",
       "    .dataframe tbody tr th:only-of-type {\n",
       "        vertical-align: middle;\n",
       "    }\n",
       "\n",
       "    .dataframe tbody tr th {\n",
       "        vertical-align: top;\n",
       "    }\n",
       "\n",
       "    .dataframe thead th {\n",
       "        text-align: right;\n",
       "    }\n",
       "</style>\n",
       "<table border=\"1\" class=\"dataframe\">\n",
       "  <thead>\n",
       "    <tr style=\"text-align: right;\">\n",
       "      <th></th>\n",
       "      <th>query_set</th>\n",
       "      <th>query</th>\n",
       "      <th>specificity</th>\n",
       "      <th>quality</th>\n",
       "      <th>corpusids</th>\n",
       "    </tr>\n",
       "  </thead>\n",
       "  <tbody>\n",
       "    <tr>\n",
       "      <th>0</th>\n",
       "      <td>inline_acl</td>\n",
       "      <td>Are there any research papers on methods to co...</td>\n",
       "      <td>0</td>\n",
       "      <td>2</td>\n",
       "      <td>[202719327]</td>\n",
       "    </tr>\n",
       "    <tr>\n",
       "      <th>1</th>\n",
       "      <td>inline_acl</td>\n",
       "      <td>Are there any resources available for translat...</td>\n",
       "      <td>1</td>\n",
       "      <td>2</td>\n",
       "      <td>[227231792]</td>\n",
       "    </tr>\n",
       "    <tr>\n",
       "      <th>2</th>\n",
       "      <td>inline_acl</td>\n",
       "      <td>Are there any studies that explore post-hoc te...</td>\n",
       "      <td>0</td>\n",
       "      <td>2</td>\n",
       "      <td>[204976362, 226254579]</td>\n",
       "    </tr>\n",
       "    <tr>\n",
       "      <th>3</th>\n",
       "      <td>inline_acl</td>\n",
       "      <td>Are there any tools or studies that have focus...</td>\n",
       "      <td>1</td>\n",
       "      <td>2</td>\n",
       "      <td>[10961392, 12160022]</td>\n",
       "    </tr>\n",
       "    <tr>\n",
       "      <th>4</th>\n",
       "      <td>inline_acl</td>\n",
       "      <td>Are there papers that propose contextualized c...</td>\n",
       "      <td>1</td>\n",
       "      <td>2</td>\n",
       "      <td>[233296182]</td>\n",
       "    </tr>\n",
       "  </tbody>\n",
       "</table>\n",
       "</div>"
      ],
      "text/plain": [
       "    query_set                                              query  specificity  \\\n",
       "0  inline_acl  Are there any research papers on methods to co...            0   \n",
       "1  inline_acl  Are there any resources available for translat...            1   \n",
       "2  inline_acl  Are there any studies that explore post-hoc te...            0   \n",
       "3  inline_acl  Are there any tools or studies that have focus...            1   \n",
       "4  inline_acl  Are there papers that propose contextualized c...            1   \n",
       "\n",
       "   quality               corpusids  \n",
       "0        2             [202719327]  \n",
       "1        2             [227231792]  \n",
       "2        2  [204976362, 226254579]  \n",
       "3        2    [10961392, 12160022]  \n",
       "4        2             [233296182]  "
      ]
     },
     "execution_count": 343,
     "metadata": {},
     "output_type": "execute_result"
    }
   ],
   "source": [
    "litsearch_query_df_cleaned.head()"
   ]
  },
  {
   "cell_type": "markdown",
   "metadata": {},
   "source": [
    "### **Multilingual**\n",
    "\n",
    "### WikipediaRetrievalMultilingual"
   ]
  },
  {
   "cell_type": "markdown",
   "metadata": {},
   "source": [
    "#### Queries"
   ]
  },
  {
   "cell_type": "code",
   "execution_count": 387,
   "metadata": {},
   "outputs": [],
   "source": [
    "queries_en = load_dataset(\"ellamind/wikipedia-2023-11-retrieval-multilingual-queries\", \"en\")\n",
    "queries_de = load_dataset(\"ellamind/wikipedia-2023-11-retrieval-multilingual-queries\", \"de\")\n",
    "queries_it = load_dataset(\"ellamind/wikipedia-2023-11-retrieval-multilingual-queries\", \"it\")\n",
    "queries_nl = load_dataset(\"ellamind/wikipedia-2023-11-retrieval-multilingual-queries\", \"nl\")\n",
    "queries_pt = load_dataset(\"ellamind/wikipedia-2023-11-retrieval-multilingual-queries\", \"pt\")\n",
    "queries_hi = load_dataset(\"ellamind/wikipedia-2023-11-retrieval-multilingual-queries\", \"hi\")"
   ]
  },
  {
   "cell_type": "code",
   "execution_count": 391,
   "metadata": {},
   "outputs": [],
   "source": [
    "corpus_en = load_dataset(\"ellamind/wikipedia-2023-11-retrieval-multilingual-corpus\", \"en\")\n",
    "corpus_de = load_dataset(\"ellamind/wikipedia-2023-11-retrieval-multilingual-corpus\", \"de\")\n",
    "corpus_it = load_dataset(\"ellamind/wikipedia-2023-11-retrieval-multilingual-corpus\", \"it\")\n",
    "corpus_nl = load_dataset(\"ellamind/wikipedia-2023-11-retrieval-multilingual-corpus\", \"nl\")\n",
    "corpus_pt = load_dataset(\"ellamind/wikipedia-2023-11-retrieval-multilingual-corpus\", \"pt\")\n",
    "corpus_hi = load_dataset(\"ellamind/wikipedia-2023-11-retrieval-multilingual-corpus\", \"hi\")"
   ]
  },
  {
   "cell_type": "code",
   "execution_count": 396,
   "metadata": {},
   "outputs": [],
   "source": [
    "qrels_en = load_dataset(\"ellamind/wikipedia-2023-11-retrieval-multilingual-qrels\", \"en\")\n",
    "qrels_de = load_dataset(\"ellamind/wikipedia-2023-11-retrieval-multilingual-qrels\", \"de\")\n",
    "qrels_it = load_dataset(\"ellamind/wikipedia-2023-11-retrieval-multilingual-qrels\", \"it\")\n",
    "qrels_nl = load_dataset(\"ellamind/wikipedia-2023-11-retrieval-multilingual-qrels\", \"nl\")\n",
    "qrels_pt = load_dataset(\"ellamind/wikipedia-2023-11-retrieval-multilingual-qrels\", \"pt\")\n",
    "qrels_hi = load_dataset(\"ellamind/wikipedia-2023-11-retrieval-multilingual-qrels\", \"hi\")"
   ]
  },
  {
   "cell_type": "code",
   "execution_count": 398,
   "metadata": {},
   "outputs": [
    {
     "data": {
      "text/html": [
       "<div>\n",
       "<style scoped>\n",
       "    .dataframe tbody tr th:only-of-type {\n",
       "        vertical-align: middle;\n",
       "    }\n",
       "\n",
       "    .dataframe tbody tr th {\n",
       "        vertical-align: top;\n",
       "    }\n",
       "\n",
       "    .dataframe thead th {\n",
       "        text-align: right;\n",
       "    }\n",
       "</style>\n",
       "<table border=\"1\" class=\"dataframe\">\n",
       "  <thead>\n",
       "    <tr style=\"text-align: right;\">\n",
       "      <th></th>\n",
       "      <th>_id</th>\n",
       "      <th>text</th>\n",
       "    </tr>\n",
       "  </thead>\n",
       "  <tbody>\n",
       "    <tr>\n",
       "      <th>0</th>\n",
       "      <td>q20231101.en_399353_52</td>\n",
       "      <td>When did the show \"Bewitched\" start airing on ...</td>\n",
       "    </tr>\n",
       "    <tr>\n",
       "      <th>1</th>\n",
       "      <td>q20231101.en_47595_14</td>\n",
       "      <td>What is the geological history of Manchuria?</td>\n",
       "    </tr>\n",
       "    <tr>\n",
       "      <th>2</th>\n",
       "      <td>q20231101.en_392095_57</td>\n",
       "      <td>What are the facilities and capabilities of Ch...</td>\n",
       "    </tr>\n",
       "    <tr>\n",
       "      <th>3</th>\n",
       "      <td>q20231101.en_21345189_22</td>\n",
       "      <td>What role did Vladivostok play during the Grea...</td>\n",
       "    </tr>\n",
       "    <tr>\n",
       "      <th>4</th>\n",
       "      <td>q20231101.en_633_54</td>\n",
       "      <td>How can algae be used to manage farm runoff an...</td>\n",
       "    </tr>\n",
       "  </tbody>\n",
       "</table>\n",
       "</div>"
      ],
      "text/plain": [
       "                        _id                                               text\n",
       "0    q20231101.en_399353_52  When did the show \"Bewitched\" start airing on ...\n",
       "1     q20231101.en_47595_14       What is the geological history of Manchuria?\n",
       "2    q20231101.en_392095_57  What are the facilities and capabilities of Ch...\n",
       "3  q20231101.en_21345189_22  What role did Vladivostok play during the Grea...\n",
       "4       q20231101.en_633_54  How can algae be used to manage farm runoff an..."
      ]
     },
     "execution_count": 398,
     "metadata": {},
     "output_type": "execute_result"
    }
   ],
   "source": [
    "queries_en_df = queries_en[\"test\"].to_pandas()\n",
    "queries_en_df.head()"
   ]
  },
  {
   "cell_type": "code",
   "execution_count": 401,
   "metadata": {},
   "outputs": [],
   "source": [
    "corpus_en_df = corpus_en[\"test\"].to_pandas()"
   ]
  },
  {
   "cell_type": "code",
   "execution_count": 403,
   "metadata": {},
   "outputs": [],
   "source": [
    "qrels_en_df = qrels_en[\"test\"].to_pandas()"
   ]
  },
  {
   "cell_type": "code",
   "execution_count": 421,
   "metadata": {},
   "outputs": [
    {
     "data": {
      "text/plain": [
       "array([0.5, 1. ], dtype=float32)"
      ]
     },
     "execution_count": 421,
     "metadata": {},
     "output_type": "execute_result"
    }
   ],
   "source": [
    "qrels_en_df[\"score\"].unique()"
   ]
  },
  {
   "cell_type": "markdown",
   "metadata": {},
   "source": [
    "potentially use `score` to weigh in on eval metrics somehow?"
   ]
  },
  {
   "cell_type": "code",
   "execution_count": 414,
   "metadata": {},
   "outputs": [
    {
     "data": {
      "text/plain": [
       "'What are the components of the French Armed Forces?'"
      ]
     },
     "execution_count": 414,
     "metadata": {},
     "output_type": "execute_result"
    }
   ],
   "source": [
    "queries_en_df[queries_en_df[\"_id\"] == \"q20231101.en_5843419_78\"][\"text\"][451]"
   ]
  },
  {
   "cell_type": "code",
   "execution_count": 419,
   "metadata": {},
   "outputs": [
    {
     "data": {
      "text/plain": [
       "'French foreign policy after World War II has been largely shaped by membership in the European Union, of which it was a founding member. Since the 1960s, France has developed close ties with reunified Germany to become the most influential driving force of the EU. In the 1960s, France sought to exclude the British from the European unification process, seeking to build its standing in continental Europe. However, since 1904, France has maintained an \"Entente cordiale\" with the United Kingdom, and there has been a strengthening of links between the countries, especially militarily.'"
      ]
     },
     "execution_count": 419,
     "metadata": {},
     "output_type": "execute_result"
    }
   ],
   "source": [
    "corpus_en_df[corpus_en_df[\"_id\"] == \"20231101.en_5843419_74\"][\"text\"][9]"
   ]
  },
  {
   "cell_type": "markdown",
   "metadata": {},
   "source": [
    "'French foreign policy after World War II has been largely shaped by membership in the European Union, of which it was a founding member. Since the 1960s, France has developed close ties with reunified Germany to become the most influential driving force of the EU. In the 1960s, France sought to exclude the British from the European unification process, seeking to build its standing in continental Europe. However, since 1904, France has maintained an \"Entente cordiale\" with the United Kingdom, and there has been a strengthening of links between the countries, especially militarily.'"
   ]
  },
  {
   "cell_type": "markdown",
   "metadata": {},
   "source": [
    "No dfs have empty entries, I checked so no need to clean for that"
   ]
  },
  {
   "cell_type": "code",
   "execution_count": 451,
   "metadata": {},
   "outputs": [],
   "source": [
    "def deduplicate(queries, corpus, langauge):\n",
    "    print(langauge)\n",
    "\n",
    "    queries_df = queries[\"test\"].to_pandas()\n",
    "    corpus_df = corpus[\"test\"].to_pandas()\n",
    "\n",
    "    duplicates_queries_df = queries_df[queries_df.duplicated(subset=['text'], keep=False)]\n",
    "\n",
    "    print(f\"duplicate queries: {len(duplicates_queries_df)}\")\n",
    "\n",
    "    duplicates_corpus_df = corpus_df[corpus_df.duplicated(subset=['text'], keep=False)]\n",
    "\n",
    "    print(f\"duplicate corpus: {len(duplicates_corpus_df)}\")\n",
    "\n",
    "    new_line = corpus_df[\"text\"].str.contains(\"\\n\", regex=True).any()\n",
    "\n",
    "    print(f\"contains new line: {new_line}\")"
   ]
  },
  {
   "cell_type": "code",
   "execution_count": 452,
   "metadata": {},
   "outputs": [
    {
     "name": "stdout",
     "output_type": "stream",
     "text": [
      "en\n",
      "duplicate queries: 0\n",
      "duplicate corpus: 0\n",
      "contains new line: False\n",
      "de\n",
      "duplicate queries: 2\n",
      "duplicate corpus: 0\n",
      "contains new line: False\n",
      "it\n",
      "duplicate queries: 0\n",
      "duplicate corpus: 9\n",
      "contains new line: False\n",
      "nl\n",
      "duplicate queries: 0\n",
      "duplicate corpus: 24\n",
      "contains new line: False\n",
      "pt\n",
      "duplicate queries: 0\n",
      "duplicate corpus: 19\n",
      "contains new line: False\n",
      "hi\n",
      "duplicate queries: 2\n",
      "duplicate corpus: 2\n",
      "contains new line: False\n"
     ]
    }
   ],
   "source": [
    "inputs = [\n",
    "    (queries_en, corpus_en, \"en\"), \n",
    "    (queries_de, corpus_de, \"de\"), \n",
    "    (queries_it, corpus_it, \"it\"),\n",
    "    (queries_nl, corpus_nl, \"nl\"),\n",
    "    (queries_pt, corpus_pt, \"pt\"),\n",
    "    (queries_hi, queries_hi, \"hi\")]\n",
    "\n",
    "for queries, corpus, langauge in inputs:\n",
    "    deduplicate(queries, corpus, langauge)\n"
   ]
  },
  {
   "cell_type": "markdown",
   "metadata": {},
   "source": [
    "some have duplicates, corpus has no '\\n'"
   ]
  },
  {
   "cell_type": "code",
   "execution_count": 465,
   "metadata": {},
   "outputs": [
    {
     "name": "stdout",
     "output_type": "stream",
     "text": [
      "                                                text  count\n",
      "0  \"A Peronist works for the movement. Whoever, i...      1\n",
      "1  \"A true democracy is that one in which the gov...      1\n",
      "2  \"Aerial Launch\": a joint Russian-Ukrainian pro...      1\n",
      "3  \"America's technology store\" was abandoned for...      1\n",
      "4  \"Aten bends low, near the earth, to watch over...      1\n"
     ]
    }
   ],
   "source": [
    "grouped_df = corpus_en_df.groupby(\"text\").size().reset_index(name=\"count\")\n",
    "print(grouped_df.head())"
   ]
  },
  {
   "cell_type": "code",
   "execution_count": 475,
   "metadata": {},
   "outputs": [
    {
     "data": {
      "text/html": [
       "<div>\n",
       "<style scoped>\n",
       "    .dataframe tbody tr th:only-of-type {\n",
       "        vertical-align: middle;\n",
       "    }\n",
       "\n",
       "    .dataframe tbody tr th {\n",
       "        vertical-align: top;\n",
       "    }\n",
       "\n",
       "    .dataframe thead th {\n",
       "        text-align: right;\n",
       "    }\n",
       "</style>\n",
       "<table border=\"1\" class=\"dataframe\">\n",
       "  <thead>\n",
       "    <tr style=\"text-align: right;\">\n",
       "      <th></th>\n",
       "      <th>query-id</th>\n",
       "      <th>corpus-id</th>\n",
       "      <th>score</th>\n",
       "    </tr>\n",
       "  </thead>\n",
       "  <tbody>\n",
       "    <tr>\n",
       "      <th>0</th>\n",
       "      <td>q20231101.en_45492650_20</td>\n",
       "      <td>20231101.en_45492650_16</td>\n",
       "      <td>0.5</td>\n",
       "    </tr>\n",
       "    <tr>\n",
       "      <th>1</th>\n",
       "      <td>q20231101.en_45492650_20</td>\n",
       "      <td>20231101.en_45492650_17</td>\n",
       "      <td>0.5</td>\n",
       "    </tr>\n",
       "    <tr>\n",
       "      <th>2</th>\n",
       "      <td>q20231101.en_45492650_20</td>\n",
       "      <td>20231101.en_45492650_18</td>\n",
       "      <td>0.5</td>\n",
       "    </tr>\n",
       "    <tr>\n",
       "      <th>3</th>\n",
       "      <td>q20231101.en_45492650_20</td>\n",
       "      <td>20231101.en_45492650_19</td>\n",
       "      <td>0.5</td>\n",
       "    </tr>\n",
       "    <tr>\n",
       "      <th>4</th>\n",
       "      <td>q20231101.en_45492650_20</td>\n",
       "      <td>20231101.en_45492650_20</td>\n",
       "      <td>1.0</td>\n",
       "    </tr>\n",
       "    <tr>\n",
       "      <th>...</th>\n",
       "      <td>...</td>\n",
       "      <td>...</td>\n",
       "      <td>...</td>\n",
       "    </tr>\n",
       "    <tr>\n",
       "      <th>13495</th>\n",
       "      <td>q20231101.en_1488463_17</td>\n",
       "      <td>20231101.en_1488463_17</td>\n",
       "      <td>1.0</td>\n",
       "    </tr>\n",
       "    <tr>\n",
       "      <th>13496</th>\n",
       "      <td>q20231101.en_1488463_17</td>\n",
       "      <td>20231101.en_1488463_18</td>\n",
       "      <td>0.5</td>\n",
       "    </tr>\n",
       "    <tr>\n",
       "      <th>13497</th>\n",
       "      <td>q20231101.en_1488463_17</td>\n",
       "      <td>20231101.en_1488463_19</td>\n",
       "      <td>0.5</td>\n",
       "    </tr>\n",
       "    <tr>\n",
       "      <th>13498</th>\n",
       "      <td>q20231101.en_1488463_17</td>\n",
       "      <td>20231101.en_1488463_20</td>\n",
       "      <td>0.5</td>\n",
       "    </tr>\n",
       "    <tr>\n",
       "      <th>13499</th>\n",
       "      <td>q20231101.en_1488463_17</td>\n",
       "      <td>20231101.en_1488463_21</td>\n",
       "      <td>0.5</td>\n",
       "    </tr>\n",
       "  </tbody>\n",
       "</table>\n",
       "<p>13500 rows × 3 columns</p>\n",
       "</div>"
      ],
      "text/plain": [
       "                       query-id                corpus-id  score\n",
       "0      q20231101.en_45492650_20  20231101.en_45492650_16    0.5\n",
       "1      q20231101.en_45492650_20  20231101.en_45492650_17    0.5\n",
       "2      q20231101.en_45492650_20  20231101.en_45492650_18    0.5\n",
       "3      q20231101.en_45492650_20  20231101.en_45492650_19    0.5\n",
       "4      q20231101.en_45492650_20  20231101.en_45492650_20    1.0\n",
       "...                         ...                      ...    ...\n",
       "13495   q20231101.en_1488463_17   20231101.en_1488463_17    1.0\n",
       "13496   q20231101.en_1488463_17   20231101.en_1488463_18    0.5\n",
       "13497   q20231101.en_1488463_17   20231101.en_1488463_19    0.5\n",
       "13498   q20231101.en_1488463_17   20231101.en_1488463_20    0.5\n",
       "13499   q20231101.en_1488463_17   20231101.en_1488463_21    0.5\n",
       "\n",
       "[13500 rows x 3 columns]"
      ]
     },
     "execution_count": 475,
     "metadata": {},
     "output_type": "execute_result"
    }
   ],
   "source": [
    "qrels_en_df"
   ]
  },
  {
   "cell_type": "code",
   "execution_count": 478,
   "metadata": {},
   "outputs": [],
   "source": [
    "def clean_dfs(queries, corpus, language, qrels):\n",
    "    print(f\"cleaning {language}\")\n",
    "\n",
    "    queries_df = queries[\"test\"].to_pandas()\n",
    "    corpus_df = corpus[\"test\"].to_pandas()\n",
    "    qrels_df = qrels[\"test\"].to_pandas()\n",
    "\n",
    "    cleaned_queries_df = queries_df.drop_duplicates(subset=['text'], keep='first')\n",
    "    cleaned_corpus_df = corpus_df.drop_duplicates(subset=['text'], keep='first')\n",
    "\n",
    "    duplicates_queries_df = queries_df[queries_df.duplicated(subset=['text'], keep=False)]\n",
    "    duplicates_corpus_df = corpus_df[corpus_df.duplicated(subset=['text'], keep=False)]\n",
    "\n",
    "    query_id_mapping = duplicates_queries_df.groupby('text')['_id'].first().to_dict()\n",
    "    corpus_id_mapping = duplicates_corpus_df.groupby('text')['_id'].first().to_dict()\n",
    "    query_id_replacement = {row['_id']: query_id_mapping[row['text']] for _, row in duplicates_queries_df.iterrows()}\n",
    "    corpus_id_replacement = {row['_id']: corpus_id_mapping[row['text']] for _, row in duplicates_corpus_df.iterrows()}\n",
    "\n",
    "    qrels_df['query-id'] = qrels_df[\"query-id\"].replace(query_id_replacement)\n",
    "    qrels_df[\"corpus-id\"] = qrels_df[\"corpus-id\"].replace(corpus_id_replacement)\n",
    "\n",
    "    cleaned_qrels_df = qrels_df.drop_duplicates(subset=['query-id', 'corpus-id'])\n",
    "\n",
    "    return cleaned_queries_df, cleaned_corpus_df, cleaned_qrels_df\n",
    "    "
   ]
  },
  {
   "cell_type": "code",
   "execution_count": 479,
   "metadata": {},
   "outputs": [],
   "source": [
    "inputs_for_cleaning = [\n",
    "    (queries_en, corpus_en, \"en\", qrels_en), \n",
    "    (queries_de, corpus_de, \"de\", qrels_de), \n",
    "    (queries_it, corpus_it, \"it\", qrels_it),\n",
    "    (queries_nl, corpus_nl, \"nl\", qrels_nl),\n",
    "    (queries_pt, corpus_pt, \"pt\", qrels_pt),\n",
    "    (queries_hi, queries_hi, \"hi\", qrels_hi)\n",
    "]"
   ]
  },
  {
   "cell_type": "markdown",
   "metadata": {},
   "source": [
    "#### Final cleaned dataset"
   ]
  },
  {
   "cell_type": "code",
   "execution_count": 483,
   "metadata": {},
   "outputs": [
    {
     "name": "stdout",
     "output_type": "stream",
     "text": [
      "cleaning en\n",
      "cleaning de\n",
      "cleaning it\n",
      "cleaning nl\n",
      "cleaning pt\n",
      "cleaning hi\n"
     ]
    }
   ],
   "source": [
    "cleaned_queries_df_en, cleaned_corpus_df_en, cleaned_qrels_df_en = clean_dfs(queries_en, corpus_en, \"en\", qrels_en)\n",
    "cleaned_queries_df_de, cleaned_corpus_df_de, cleaned_qrels_df_de = clean_dfs(queries_de, corpus_de, \"de\", qrels_de)\n",
    "cleaned_queries_df_it, cleaned_corpus_df_it, cleaned_qrels_df_it = clean_dfs(queries_it, corpus_it, \"it\", qrels_it)\n",
    "cleaned_queries_df_nl, cleaned_corpus_df_nl, cleaned_qrels_df_nl = clean_dfs(queries_nl, corpus_nl, \"nl\", qrels_nl)\n",
    "cleaned_queries_df_pt, cleaned_corpus_df_pt, cleaned_qrels_df_pt = clean_dfs(queries_pt, corpus_pt, \"pt\", qrels_pt)\n",
    "cleaned_queries_df_hi, cleaned_corpus_df_hi, cleaned_qrels_df_hi = clean_dfs(queries_hi, queries_hi, \"hi\", qrels_hi)"
   ]
  },
  {
   "cell_type": "markdown",
   "metadata": {},
   "source": [
    "just got rid of duplicates, dataset seems pretty clean already so wondering if there is anything else I should do"
   ]
  }
 ],
 "metadata": {
  "kernelspec": {
   "display_name": "Python 3",
   "language": "python",
   "name": "python3"
  },
  "language_info": {
   "codemirror_mode": {
    "name": "ipython",
    "version": 3
   },
   "file_extension": ".py",
   "mimetype": "text/x-python",
   "name": "python",
   "nbconvert_exporter": "python",
   "pygments_lexer": "ipython3",
   "version": "3.9.6"
  }
 },
 "nbformat": 4,
 "nbformat_minor": 2
}
