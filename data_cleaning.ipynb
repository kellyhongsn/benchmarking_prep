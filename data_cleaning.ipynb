{
 "cells": [
  {
   "cell_type": "markdown",
   "metadata": {},
   "source": [
    "# **Dataset Cleaning**"
   ]
  },
  {
   "cell_type": "markdown",
   "metadata": {},
   "source": [
    "### **General (English)**\n",
    "\n",
    "### cqadupstack-english"
   ]
  },
  {
   "cell_type": "code",
   "execution_count": 344,
   "metadata": {},
   "outputs": [
    {
     "name": "stderr",
     "output_type": "stream",
     "text": [
      "Downloading readme: 100%|██████████| 1.21k/1.21k [00:00<00:00, 8.05kB/s]\n",
      "Downloading data: 100%|██████████| 221k/221k [00:00<00:00, 707kB/s]\n",
      "Generating test split: 100%|██████████| 3765/3765 [00:00<00:00, 164892.13 examples/s]\n",
      "Downloading data: 100%|██████████| 126k/126k [00:00<00:00, 262kB/s]\n",
      "Generating queries split: 100%|██████████| 1570/1570 [00:00<00:00, 640569.77 examples/s]\n",
      "Downloading data: 100%|██████████| 21.5M/21.5M [00:00<00:00, 26.6MB/s]\n",
      "Generating corpus split: 100%|██████████| 40221/40221 [00:00<00:00, 1718403.43 examples/s]\n"
     ]
    }
   ],
   "source": [
    "import datasets\n",
    "\n",
    "cqadupstack_default = datasets.load_dataset(\"mteb/cqadupstack-english\", \"default\")\n",
    "cqadupstack_queries = datasets.load_dataset(\"mteb/cqadupstack-english\", \"queries\")\n",
    "cqadupstack_corpus = datasets.load_dataset(\"mteb/cqadupstack-english\", \"corpus\")"
   ]
  },
  {
   "cell_type": "code",
   "execution_count": 347,
   "metadata": {},
   "outputs": [
    {
     "data": {
      "text/plain": [
       "DatasetDict({\n",
       "    corpus: Dataset({\n",
       "        features: ['_id', 'title', 'text'],\n",
       "        num_rows: 40221\n",
       "    })\n",
       "})"
      ]
     },
     "execution_count": 347,
     "metadata": {},
     "output_type": "execute_result"
    }
   ],
   "source": [
    "cqadupstack_corpus"
   ]
  },
  {
   "cell_type": "code",
   "execution_count": 558,
   "metadata": {},
   "outputs": [],
   "source": [
    "cqadupstack_default_df = cqadupstack_default[\"test\"].to_pandas()\n",
    "cqadupstack_queries_df = cqadupstack_queries[\"queries\"].to_pandas()\n",
    "cqadupstack_corpus_df = cqadupstack_corpus[\"corpus\"].to_pandas()"
   ]
  },
  {
   "cell_type": "code",
   "execution_count": 350,
   "metadata": {},
   "outputs": [
    {
     "data": {
      "text/html": [
       "<div>\n",
       "<style scoped>\n",
       "    .dataframe tbody tr th:only-of-type {\n",
       "        vertical-align: middle;\n",
       "    }\n",
       "\n",
       "    .dataframe tbody tr th {\n",
       "        vertical-align: top;\n",
       "    }\n",
       "\n",
       "    .dataframe thead th {\n",
       "        text-align: right;\n",
       "    }\n",
       "</style>\n",
       "<table border=\"1\" class=\"dataframe\">\n",
       "  <thead>\n",
       "    <tr style=\"text-align: right;\">\n",
       "      <th></th>\n",
       "      <th>query-id</th>\n",
       "      <th>corpus-id</th>\n",
       "      <th>score</th>\n",
       "    </tr>\n",
       "  </thead>\n",
       "  <tbody>\n",
       "    <tr>\n",
       "      <th>0</th>\n",
       "      <td>19399</td>\n",
       "      <td>102236</td>\n",
       "      <td>1.0</td>\n",
       "    </tr>\n",
       "    <tr>\n",
       "      <th>1</th>\n",
       "      <td>19399</td>\n",
       "      <td>91901</td>\n",
       "      <td>1.0</td>\n",
       "    </tr>\n",
       "    <tr>\n",
       "      <th>2</th>\n",
       "      <td>19399</td>\n",
       "      <td>177507</td>\n",
       "      <td>1.0</td>\n",
       "    </tr>\n",
       "    <tr>\n",
       "      <th>3</th>\n",
       "      <td>19399</td>\n",
       "      <td>80798</td>\n",
       "      <td>1.0</td>\n",
       "    </tr>\n",
       "    <tr>\n",
       "      <th>4</th>\n",
       "      <td>19399</td>\n",
       "      <td>112990</td>\n",
       "      <td>1.0</td>\n",
       "    </tr>\n",
       "  </tbody>\n",
       "</table>\n",
       "</div>"
      ],
      "text/plain": [
       "  query-id corpus-id  score\n",
       "0    19399    102236    1.0\n",
       "1    19399     91901    1.0\n",
       "2    19399    177507    1.0\n",
       "3    19399     80798    1.0\n",
       "4    19399    112990    1.0"
      ]
     },
     "execution_count": 350,
     "metadata": {},
     "output_type": "execute_result"
    }
   ],
   "source": [
    "cqadupstack_default_df.head()"
   ]
  },
  {
   "cell_type": "code",
   "execution_count": 351,
   "metadata": {},
   "outputs": [
    {
     "data": {
      "text/html": [
       "<div>\n",
       "<style scoped>\n",
       "    .dataframe tbody tr th:only-of-type {\n",
       "        vertical-align: middle;\n",
       "    }\n",
       "\n",
       "    .dataframe tbody tr th {\n",
       "        vertical-align: top;\n",
       "    }\n",
       "\n",
       "    .dataframe thead th {\n",
       "        text-align: right;\n",
       "    }\n",
       "</style>\n",
       "<table border=\"1\" class=\"dataframe\">\n",
       "  <thead>\n",
       "    <tr style=\"text-align: right;\">\n",
       "      <th></th>\n",
       "      <th>_id</th>\n",
       "      <th>text</th>\n",
       "    </tr>\n",
       "  </thead>\n",
       "  <tbody>\n",
       "    <tr>\n",
       "      <th>0</th>\n",
       "      <td>19399</td>\n",
       "      <td>Is \"a wide range of features\" singular or plural?</td>\n",
       "    </tr>\n",
       "    <tr>\n",
       "      <th>1</th>\n",
       "      <td>5987</td>\n",
       "      <td>Is there any rule for the placement of space a...</td>\n",
       "    </tr>\n",
       "    <tr>\n",
       "      <th>2</th>\n",
       "      <td>57488</td>\n",
       "      <td>Word for two people who are the same age</td>\n",
       "    </tr>\n",
       "    <tr>\n",
       "      <th>3</th>\n",
       "      <td>97154</td>\n",
       "      <td>What’s the pronunciation of “ s’ ”?</td>\n",
       "    </tr>\n",
       "    <tr>\n",
       "      <th>4</th>\n",
       "      <td>270</td>\n",
       "      <td>What is the correct plural of octopus?</td>\n",
       "    </tr>\n",
       "  </tbody>\n",
       "</table>\n",
       "</div>"
      ],
      "text/plain": [
       "     _id                                               text\n",
       "0  19399  Is \"a wide range of features\" singular or plural?\n",
       "1   5987  Is there any rule for the placement of space a...\n",
       "2  57488           Word for two people who are the same age\n",
       "3  97154                What’s the pronunciation of “ s’ ”?\n",
       "4    270             What is the correct plural of octopus?"
      ]
     },
     "execution_count": 351,
     "metadata": {},
     "output_type": "execute_result"
    }
   ],
   "source": [
    "cqadupstack_queries_df.head()"
   ]
  },
  {
   "cell_type": "code",
   "execution_count": 358,
   "metadata": {},
   "outputs": [
    {
     "data": {
      "text/html": [
       "<div>\n",
       "<style scoped>\n",
       "    .dataframe tbody tr th:only-of-type {\n",
       "        vertical-align: middle;\n",
       "    }\n",
       "\n",
       "    .dataframe tbody tr th {\n",
       "        vertical-align: top;\n",
       "    }\n",
       "\n",
       "    .dataframe thead th {\n",
       "        text-align: right;\n",
       "    }\n",
       "</style>\n",
       "<table border=\"1\" class=\"dataframe\">\n",
       "  <thead>\n",
       "    <tr style=\"text-align: right;\">\n",
       "      <th></th>\n",
       "      <th>_id</th>\n",
       "      <th>title</th>\n",
       "      <th>text</th>\n",
       "    </tr>\n",
       "  </thead>\n",
       "  <tbody>\n",
       "    <tr>\n",
       "      <th>0</th>\n",
       "      <td>11547</td>\n",
       "      <td>Is there a word meaning \"an unwanted eponym\"?</td>\n",
       "      <td>An eponym is one way to eternal (if posthumous...</td>\n",
       "    </tr>\n",
       "    <tr>\n",
       "      <th>1</th>\n",
       "      <td>11549</td>\n",
       "      <td>\"Password Reset Mail\" or \"Reset Password Mail\"?</td>\n",
       "      <td>We are working on a web project that has a pas...</td>\n",
       "    </tr>\n",
       "    <tr>\n",
       "      <th>2</th>\n",
       "      <td>123851</td>\n",
       "      <td>Are homonyms considered single words?</td>\n",
       "      <td>There are many homonyms in the English languag...</td>\n",
       "    </tr>\n",
       "    <tr>\n",
       "      <th>3</th>\n",
       "      <td>116661</td>\n",
       "      <td>Which of these phrases are equivalent, if any,...</td>\n",
       "      <td>Some say the following two phrases are equival...</td>\n",
       "    </tr>\n",
       "    <tr>\n",
       "      <th>4</th>\n",
       "      <td>102236</td>\n",
       "      <td>is it correct to use \"wide range of courses th...</td>\n",
       "      <td>Please tell me if the following sentence requi...</td>\n",
       "    </tr>\n",
       "    <tr>\n",
       "      <th>...</th>\n",
       "      <td>...</td>\n",
       "      <td>...</td>\n",
       "      <td>...</td>\n",
       "    </tr>\n",
       "    <tr>\n",
       "      <th>40216</th>\n",
       "      <td>96201</td>\n",
       "      <td>Word for consolidating a dataset to a single type</td>\n",
       "      <td>I believe there is a single word that represen...</td>\n",
       "    </tr>\n",
       "    <tr>\n",
       "      <th>40217</th>\n",
       "      <td>96203</td>\n",
       "      <td>Origin of \"canoodle\"</td>\n",
       "      <td>There have been times in my life where I've en...</td>\n",
       "    </tr>\n",
       "    <tr>\n",
       "      <th>40218</th>\n",
       "      <td>96206</td>\n",
       "      <td>Can the verb \"wonder\" simply take an object?</td>\n",
       "      <td>In this question, the questioner states &gt; I wo...</td>\n",
       "    </tr>\n",
       "    <tr>\n",
       "      <th>40219</th>\n",
       "      <td>103095</td>\n",
       "      <td>Difference between \"now\" and \"right now\"</td>\n",
       "      <td>Is there any difference between the two follow...</td>\n",
       "    </tr>\n",
       "    <tr>\n",
       "      <th>40220</th>\n",
       "      <td>38346</td>\n",
       "      <td>Plural of \"abacus\"</td>\n",
       "      <td>A colleague and I were having a discussion as ...</td>\n",
       "    </tr>\n",
       "  </tbody>\n",
       "</table>\n",
       "<p>40221 rows × 3 columns</p>\n",
       "</div>"
      ],
      "text/plain": [
       "          _id                                              title  \\\n",
       "0       11547      Is there a word meaning \"an unwanted eponym\"?   \n",
       "1       11549    \"Password Reset Mail\" or \"Reset Password Mail\"?   \n",
       "2      123851              Are homonyms considered single words?   \n",
       "3      116661  Which of these phrases are equivalent, if any,...   \n",
       "4      102236  is it correct to use \"wide range of courses th...   \n",
       "...       ...                                                ...   \n",
       "40216   96201  Word for consolidating a dataset to a single type   \n",
       "40217   96203                               Origin of \"canoodle\"   \n",
       "40218   96206       Can the verb \"wonder\" simply take an object?   \n",
       "40219  103095           Difference between \"now\" and \"right now\"   \n",
       "40220   38346                                 Plural of \"abacus\"   \n",
       "\n",
       "                                                    text  \n",
       "0      An eponym is one way to eternal (if posthumous...  \n",
       "1      We are working on a web project that has a pas...  \n",
       "2      There are many homonyms in the English languag...  \n",
       "3      Some say the following two phrases are equival...  \n",
       "4      Please tell me if the following sentence requi...  \n",
       "...                                                  ...  \n",
       "40216  I believe there is a single word that represen...  \n",
       "40217  There have been times in my life where I've en...  \n",
       "40218  In this question, the questioner states > I wo...  \n",
       "40219  Is there any difference between the two follow...  \n",
       "40220  A colleague and I were having a discussion as ...  \n",
       "\n",
       "[40221 rows x 3 columns]"
      ]
     },
     "execution_count": 358,
     "metadata": {},
     "output_type": "execute_result"
    }
   ],
   "source": [
    "cqadupstack_corpus_df"
   ]
  },
  {
   "cell_type": "code",
   "execution_count": 368,
   "metadata": {},
   "outputs": [
    {
     "data": {
      "text/plain": [
       "'11547'"
      ]
     },
     "execution_count": 368,
     "metadata": {},
     "output_type": "execute_result"
    }
   ],
   "source": [
    "cqadupstack_corpus_df[\"_id\"][0]"
   ]
  },
  {
   "cell_type": "code",
   "execution_count": 370,
   "metadata": {},
   "outputs": [
    {
     "data": {
      "text/plain": [
       "'102236'"
      ]
     },
     "execution_count": 370,
     "metadata": {},
     "output_type": "execute_result"
    }
   ],
   "source": [
    "cqadupstack_default_df[\"corpus-id\"][0]"
   ]
  },
  {
   "cell_type": "markdown",
   "metadata": {},
   "source": [
    "ids are strings, not ints"
   ]
  },
  {
   "cell_type": "code",
   "execution_count": 372,
   "metadata": {},
   "outputs": [],
   "source": [
    "example_query = cqadupstack_queries_df[cqadupstack_queries_df[\"_id\"] == \"19399\"]\n",
    "example_corpus = cqadupstack_corpus_df[cqadupstack_corpus_df[\"_id\"] == \"102236\"]"
   ]
  },
  {
   "cell_type": "code",
   "execution_count": 375,
   "metadata": {},
   "outputs": [
    {
     "data": {
      "text/plain": [
       "'Is \"a wide range of features\" singular or plural?'"
      ]
     },
     "execution_count": 375,
     "metadata": {},
     "output_type": "execute_result"
    }
   ],
   "source": [
    "example_query[\"text\"][0]"
   ]
  },
  {
   "cell_type": "code",
   "execution_count": 379,
   "metadata": {},
   "outputs": [
    {
     "data": {
      "text/plain": [
       "'is it correct to use \"wide range of courses that has opened my eyes\"?'"
      ]
     },
     "execution_count": 379,
     "metadata": {},
     "output_type": "execute_result"
    }
   ],
   "source": [
    "example_corpus[\"title\"][4]"
   ]
  },
  {
   "cell_type": "code",
   "execution_count": 381,
   "metadata": {},
   "outputs": [
    {
     "data": {
      "text/plain": [
       "'Please tell me if the following sentence requires \"have\" or \"has\": > My degree in Cell Biology and Genetics has allowed me to take a wide range > of courses that **has/have** opened my eyes to new aspects of the field.'"
      ]
     },
     "execution_count": 381,
     "metadata": {},
     "output_type": "execute_result"
    }
   ],
   "source": [
    "example_corpus[\"text\"][4]"
   ]
  },
  {
   "cell_type": "markdown",
   "metadata": {},
   "source": [
    "'Please tell me if the following sentence requires \"have\" or \"has\": > My degree in Cell Biology and Genetics has allowed me to take a wide range > of courses that **has/have** opened my eyes to new aspects of the field.'"
   ]
  },
  {
   "cell_type": "code",
   "execution_count": 484,
   "metadata": {},
   "outputs": [],
   "source": [
    "def general_deduplicate(queries_df, corpus_df):\n",
    "    duplicates_queries_df = queries_df[queries_df.duplicated(subset=['text'], keep=False)]\n",
    "\n",
    "    print(f\"duplicate queries: {len(duplicates_queries_df)}\")\n",
    "\n",
    "    duplicates_corpus_titles_df = corpus_df[corpus_df.duplicated(subset=['title'], keep=False)]\n",
    "\n",
    "    print(f\"duplicate titles: {len(duplicates_corpus_titles_df)}\")\n",
    "\n",
    "    duplicates_corpus_text_df = corpus_df[corpus_df.duplicated(subset=['text'], keep=False)]\n",
    "\n",
    "    print(f\"duplicate text: {len(duplicates_corpus_text_df)}\")\n",
    "\n",
    "    new_line = corpus_df[\"text\"].str.contains(\"\\n\", regex=True).any()\n",
    "\n",
    "    print(f\"contains new line: {new_line}\")"
   ]
  },
  {
   "cell_type": "code",
   "execution_count": 485,
   "metadata": {},
   "outputs": [
    {
     "name": "stdout",
     "output_type": "stream",
     "text": [
      "duplicate queries: 0\n",
      "duplicate titles: 27\n",
      "duplicate text: 0\n",
      "contains new line: False\n"
     ]
    }
   ],
   "source": [
    "general_deduplicate(cqadupstack_queries_df, cqadupstack_corpus_df)"
   ]
  },
  {
   "cell_type": "code",
   "execution_count": 488,
   "metadata": {},
   "outputs": [],
   "source": [
    "title_duplicates = cqadupstack_corpus_df[cqadupstack_corpus_df.duplicated(subset=['title'], keep=False)]"
   ]
  },
  {
   "cell_type": "code",
   "execution_count": 497,
   "metadata": {},
   "outputs": [
    {
     "name": "stdout",
     "output_type": "stream",
     "text": [
      "Are the answers I chose correct. My choices are in bold. I **have been pumping** /I have pumped up three tyres. Would you like to do the forth? I **have been greasing** /I have greased my car. That's why my hands are dirty. She has been polishing/has polished this table all the morning and she is not satisfied with it yet. ( I chose both answers as correct, but accroding to the test my answer was wrong.) I only have been hearing/ **have heard** about him twice since he went away. He **has been riding** /has ridden, that's why he is wearing breeches. I have been pulling up/have pulled up dandelions all day. ( I chose both forms) I have been hearing/ have heard from her regularly. She is a very good correspondent.(I chose both forms) I have been making/have made sausage rolls for the party all the morning.(I chose both, but I am not sure 'have made' is correct.) How to explain why using other choices would be wrong?\n",
      "How are we to understand whether present perfect progressive implies that the action is still in progress, versus implying it has stopped just now or recently? In simple sentences like these two, > • I'm tired [now] because I've been running.   >  • Why is the grass wet [now]? Has it been raining? it's obvious that the actions are complete, but not in the following five sentences: > • I have been living in Paris for two weeks.   >  • I have been reading for two hours.   >  • I have been talking with Jane on the phone(since 5:30 for ten minutes).   >  • I have been doing my homework.(For an hour)   >  • I have been working in the garden (for two hours).\n"
     ]
    }
   ],
   "source": [
    "dup_1 = title_duplicates[title_duplicates[\"title\"] == \"Present perfect continuous\"]\n",
    "print(dup_1[\"text\"][1894])\n",
    "print(dup_1[\"text\"][29559])"
   ]
  },
  {
   "cell_type": "markdown",
   "metadata": {},
   "source": [
    "Are the answers I chose correct. My choices are in bold. I **have been pumping** /I have pumped up three tyres. Would you like to do the forth? I **have been greasing** /I have greased my car. That's why my hands are dirty. She has been polishing/has polished this table all the morning and she is not satisfied with it yet. ( I chose both answers as correct, but accroding to the test my answer was wrong.) I only have been hearing/ **have heard** about him twice since he went away. He **has been riding** /has ridden, that's why he is wearing breeches. I have been pulling up/have pulled up dandelions all day. ( I chose both forms) I have been hearing/ have heard from her regularly. She is a very good correspondent.(I chose both forms) I have been making/have made sausage rolls for the party all the morning.(I chose both, but I am not sure 'have made' is correct.) How to explain why using other choices would be wrong?\n",
    "\n",
    "How are we to understand whether present perfect progressive implies that the action is still in progress, versus implying it has stopped just now or recently? In simple sentences like these two, > • I'm tired [now] because I've been running.   >  • Why is the grass wet [now]? Has it been raining? it's obvious that the actions are complete, but not in the following five sentences: > • I have been living in Paris for two weeks.   >  • I have been reading for two hours.   >  • I have been talking with Jane on the phone(since 5:30 for ten minutes).   >  • I have been doing my homework.(For an hour)   >  • I have been working in the garden (for two hours)."
   ]
  },
  {
   "cell_type": "markdown",
   "metadata": {},
   "source": [
    "the first one doesn't really make any sense?"
   ]
  },
  {
   "cell_type": "code",
   "execution_count": 498,
   "metadata": {},
   "outputs": [
    {
     "data": {
      "text/plain": [
       "array([1.])"
      ]
     },
     "execution_count": 498,
     "metadata": {},
     "output_type": "execute_result"
    }
   ],
   "source": [
    "cqadupstack_default_df[\"score\"].unique()"
   ]
  },
  {
   "cell_type": "markdown",
   "metadata": {},
   "source": [
    "how come all the scores are 1?"
   ]
  },
  {
   "cell_type": "code",
   "execution_count": 499,
   "metadata": {},
   "outputs": [
    {
     "data": {
      "text/html": [
       "<div>\n",
       "<style scoped>\n",
       "    .dataframe tbody tr th:only-of-type {\n",
       "        vertical-align: middle;\n",
       "    }\n",
       "\n",
       "    .dataframe tbody tr th {\n",
       "        vertical-align: top;\n",
       "    }\n",
       "\n",
       "    .dataframe thead th {\n",
       "        text-align: right;\n",
       "    }\n",
       "</style>\n",
       "<table border=\"1\" class=\"dataframe\">\n",
       "  <thead>\n",
       "    <tr style=\"text-align: right;\">\n",
       "      <th></th>\n",
       "      <th>_id</th>\n",
       "      <th>title</th>\n",
       "      <th>text</th>\n",
       "    </tr>\n",
       "  </thead>\n",
       "  <tbody>\n",
       "    <tr>\n",
       "      <th>1894</th>\n",
       "      <td>112004</td>\n",
       "      <td>Present perfect continuous</td>\n",
       "      <td>Are the answers I chose correct. My choices ar...</td>\n",
       "    </tr>\n",
       "    <tr>\n",
       "      <th>29559</th>\n",
       "      <td>111342</td>\n",
       "      <td>Present perfect continuous</td>\n",
       "      <td>How are we to understand whether present perfe...</td>\n",
       "    </tr>\n",
       "  </tbody>\n",
       "</table>\n",
       "</div>"
      ],
      "text/plain": [
       "          _id                       title  \\\n",
       "1894   112004  Present perfect continuous   \n",
       "29559  111342  Present perfect continuous   \n",
       "\n",
       "                                                    text  \n",
       "1894   Are the answers I chose correct. My choices ar...  \n",
       "29559  How are we to understand whether present perfe...  "
      ]
     },
     "execution_count": 499,
     "metadata": {},
     "output_type": "execute_result"
    }
   ],
   "source": [
    "dup_1"
   ]
  },
  {
   "cell_type": "code",
   "execution_count": 500,
   "metadata": {},
   "outputs": [
    {
     "data": {
      "text/html": [
       "<div>\n",
       "<style scoped>\n",
       "    .dataframe tbody tr th:only-of-type {\n",
       "        vertical-align: middle;\n",
       "    }\n",
       "\n",
       "    .dataframe tbody tr th {\n",
       "        vertical-align: top;\n",
       "    }\n",
       "\n",
       "    .dataframe thead th {\n",
       "        text-align: right;\n",
       "    }\n",
       "</style>\n",
       "<table border=\"1\" class=\"dataframe\">\n",
       "  <thead>\n",
       "    <tr style=\"text-align: right;\">\n",
       "      <th></th>\n",
       "      <th>query-id</th>\n",
       "      <th>corpus-id</th>\n",
       "      <th>score</th>\n",
       "    </tr>\n",
       "  </thead>\n",
       "  <tbody>\n",
       "  </tbody>\n",
       "</table>\n",
       "</div>"
      ],
      "text/plain": [
       "Empty DataFrame\n",
       "Columns: [query-id, corpus-id, score]\n",
       "Index: []"
      ]
     },
     "execution_count": 500,
     "metadata": {},
     "output_type": "execute_result"
    }
   ],
   "source": [
    "cqadupstack_default_df[cqadupstack_default_df[\"corpus-id\"] == \"112004\"]"
   ]
  },
  {
   "cell_type": "code",
   "execution_count": 506,
   "metadata": {},
   "outputs": [
    {
     "data": {
      "text/html": [
       "<div>\n",
       "<style scoped>\n",
       "    .dataframe tbody tr th:only-of-type {\n",
       "        vertical-align: middle;\n",
       "    }\n",
       "\n",
       "    .dataframe tbody tr th {\n",
       "        vertical-align: top;\n",
       "    }\n",
       "\n",
       "    .dataframe thead th {\n",
       "        text-align: right;\n",
       "    }\n",
       "</style>\n",
       "<table border=\"1\" class=\"dataframe\">\n",
       "  <thead>\n",
       "    <tr style=\"text-align: right;\">\n",
       "      <th></th>\n",
       "      <th>query-id</th>\n",
       "      <th>corpus-id</th>\n",
       "      <th>score</th>\n",
       "    </tr>\n",
       "  </thead>\n",
       "  <tbody>\n",
       "  </tbody>\n",
       "</table>\n",
       "</div>"
      ],
      "text/plain": [
       "Empty DataFrame\n",
       "Columns: [query-id, corpus-id, score]\n",
       "Index: []"
      ]
     },
     "execution_count": 506,
     "metadata": {},
     "output_type": "execute_result"
    }
   ],
   "source": [
    "cqadupstack_default_df[cqadupstack_default_df[\"corpus-id\"] == \"111342\"]"
   ]
  },
  {
   "cell_type": "code",
   "execution_count": 508,
   "metadata": {},
   "outputs": [
    {
     "data": {
      "text/html": [
       "<div>\n",
       "<style scoped>\n",
       "    .dataframe tbody tr th:only-of-type {\n",
       "        vertical-align: middle;\n",
       "    }\n",
       "\n",
       "    .dataframe tbody tr th {\n",
       "        vertical-align: top;\n",
       "    }\n",
       "\n",
       "    .dataframe thead th {\n",
       "        text-align: right;\n",
       "    }\n",
       "</style>\n",
       "<table border=\"1\" class=\"dataframe\">\n",
       "  <thead>\n",
       "    <tr style=\"text-align: right;\">\n",
       "      <th></th>\n",
       "      <th>query-id</th>\n",
       "      <th>corpus-id</th>\n",
       "      <th>score</th>\n",
       "    </tr>\n",
       "  </thead>\n",
       "  <tbody>\n",
       "    <tr>\n",
       "      <th>346</th>\n",
       "      <td>30336</td>\n",
       "      <td>16511</td>\n",
       "      <td>1.0</td>\n",
       "    </tr>\n",
       "  </tbody>\n",
       "</table>\n",
       "</div>"
      ],
      "text/plain": [
       "    query-id corpus-id  score\n",
       "346    30336     16511    1.0"
      ]
     },
     "execution_count": 508,
     "metadata": {},
     "output_type": "execute_result"
    }
   ],
   "source": [
    "# testing different random\n",
    "cqadupstack_default_df[cqadupstack_default_df[\"corpus-id\"] == \"16511\"]"
   ]
  },
  {
   "cell_type": "markdown",
   "metadata": {},
   "source": [
    "I guess irrelevant corpus are not included at all in the relevance pairings"
   ]
  },
  {
   "cell_type": "code",
   "execution_count": 502,
   "metadata": {},
   "outputs": [
    {
     "data": {
      "text/plain": [
       "3765"
      ]
     },
     "execution_count": 502,
     "metadata": {},
     "output_type": "execute_result"
    }
   ],
   "source": [
    "len(cqadupstack_default_df)"
   ]
  },
  {
   "cell_type": "code",
   "execution_count": 510,
   "metadata": {},
   "outputs": [
    {
     "data": {
      "text/plain": [
       "40221"
      ]
     },
     "execution_count": 510,
     "metadata": {},
     "output_type": "execute_result"
    }
   ],
   "source": [
    "len(cqadupstack_corpus_df)"
   ]
  },
  {
   "cell_type": "markdown",
   "metadata": {},
   "source": [
    "makes sense, more corpus than pairings"
   ]
  },
  {
   "cell_type": "code",
   "execution_count": 490,
   "metadata": {},
   "outputs": [
    {
     "data": {
      "text/html": [
       "<div>\n",
       "<style scoped>\n",
       "    .dataframe tbody tr th:only-of-type {\n",
       "        vertical-align: middle;\n",
       "    }\n",
       "\n",
       "    .dataframe tbody tr th {\n",
       "        vertical-align: top;\n",
       "    }\n",
       "\n",
       "    .dataframe thead th {\n",
       "        text-align: right;\n",
       "    }\n",
       "</style>\n",
       "<table border=\"1\" class=\"dataframe\">\n",
       "  <thead>\n",
       "    <tr style=\"text-align: right;\">\n",
       "      <th></th>\n",
       "      <th>_id</th>\n",
       "      <th>title</th>\n",
       "      <th>text</th>\n",
       "    </tr>\n",
       "  </thead>\n",
       "  <tbody>\n",
       "    <tr>\n",
       "      <th>285</th>\n",
       "      <td>64421</td>\n",
       "      <td>Is this sentence grammatically correct?</td>\n",
       "      <td>&gt; **Duplicate of:**   &gt;  When is it appropriat...</td>\n",
       "    </tr>\n",
       "    <tr>\n",
       "      <th>626</th>\n",
       "      <td>16511</td>\n",
       "      <td>\"You and I\" versus \"you and me\"</td>\n",
       "      <td>&gt; **Possible Duplicate:**   &gt;  Which is correc...</td>\n",
       "    </tr>\n",
       "    <tr>\n",
       "      <th>655</th>\n",
       "      <td>5359</td>\n",
       "      <td>\"You and I\" versus \"you and me\"</td>\n",
       "      <td>&gt; **Possible Duplicate:**   &gt;  Which is correc...</td>\n",
       "    </tr>\n",
       "    <tr>\n",
       "      <th>1363</th>\n",
       "      <td>9191</td>\n",
       "      <td>What's the difference between these sentences?</td>\n",
       "      <td>What's the difference between &gt; I'm going to e...</td>\n",
       "    </tr>\n",
       "    <tr>\n",
       "      <th>1538</th>\n",
       "      <td>145571</td>\n",
       "      <td>Is this sentence correct?</td>\n",
       "      <td>&gt; But like most young people of my generation,...</td>\n",
       "    </tr>\n",
       "    <tr>\n",
       "      <th>1894</th>\n",
       "      <td>112004</td>\n",
       "      <td>Present perfect continuous</td>\n",
       "      <td>Are the answers I chose correct. My choices ar...</td>\n",
       "    </tr>\n",
       "    <tr>\n",
       "      <th>3866</th>\n",
       "      <td>35839</td>\n",
       "      <td>Is this proper English?</td>\n",
       "      <td>&gt; **Possible Duplicate:**   &gt;  When are \"if\" a...</td>\n",
       "    </tr>\n",
       "    <tr>\n",
       "      <th>6511</th>\n",
       "      <td>45101</td>\n",
       "      <td>Is this grammatically correct?</td>\n",
       "      <td>This quote comes from an article published onl...</td>\n",
       "    </tr>\n",
       "    <tr>\n",
       "      <th>9379</th>\n",
       "      <td>152733</td>\n",
       "      <td>What does the sentence mean?</td>\n",
       "      <td>I just got an email telling me about a company...</td>\n",
       "    </tr>\n",
       "    <tr>\n",
       "      <th>10077</th>\n",
       "      <td>24625</td>\n",
       "      <td>Is this sentence correct?</td>\n",
       "      <td>&gt; I ain't heard no word to let me know you **w...</td>\n",
       "    </tr>\n",
       "    <tr>\n",
       "      <th>10497</th>\n",
       "      <td>37153</td>\n",
       "      <td>When using complete sentences in parenthetical...</td>\n",
       "      <td>In a bulleted list of very technical sentences...</td>\n",
       "    </tr>\n",
       "    <tr>\n",
       "      <th>11743</th>\n",
       "      <td>124744</td>\n",
       "      <td>What does the sentence mean?</td>\n",
       "      <td>I have a physics book and am having trouble un...</td>\n",
       "    </tr>\n",
       "    <tr>\n",
       "      <th>12141</th>\n",
       "      <td>85424</td>\n",
       "      <td>Is there a grammatical error in the following ...</td>\n",
       "      <td>There is either one or no errors in the follow...</td>\n",
       "    </tr>\n",
       "    <tr>\n",
       "      <th>12358</th>\n",
       "      <td>106554</td>\n",
       "      <td>Is there a grammatical error in the following ...</td>\n",
       "      <td>The monthly rent shall be enhanced up to 10% e...</td>\n",
       "    </tr>\n",
       "    <tr>\n",
       "      <th>13621</th>\n",
       "      <td>4844</td>\n",
       "      <td>Verb agreement in the sentence</td>\n",
       "      <td>I suspect my verbs do NOT agree =) In the belo...</td>\n",
       "    </tr>\n",
       "    <tr>\n",
       "      <th>22294</th>\n",
       "      <td>41959</td>\n",
       "      <td>\"At the time\" versus \"at that time\"</td>\n",
       "      <td>If I want to say that during the accident ther...</td>\n",
       "    </tr>\n",
       "    <tr>\n",
       "      <th>22597</th>\n",
       "      <td>107097</td>\n",
       "      <td>Is this grammatically correct?</td>\n",
       "      <td>Using MS Word, I typed, \"As Roblin and Adelaid...</td>\n",
       "    </tr>\n",
       "    <tr>\n",
       "      <th>24884</th>\n",
       "      <td>158624</td>\n",
       "      <td>Is this sentence correct?</td>\n",
       "      <td>I am creating an app for Android in my locale ...</td>\n",
       "    </tr>\n",
       "    <tr>\n",
       "      <th>25082</th>\n",
       "      <td>15639</td>\n",
       "      <td>What's the difference between these sentences?</td>\n",
       "      <td>&gt; He walked out, Rachel's words indelibly etch...</td>\n",
       "    </tr>\n",
       "    <tr>\n",
       "      <th>26158</th>\n",
       "      <td>159596</td>\n",
       "      <td>Is this proper English?</td>\n",
       "      <td>The content analysis study our group undertook...</td>\n",
       "    </tr>\n",
       "    <tr>\n",
       "      <th>29166</th>\n",
       "      <td>37200</td>\n",
       "      <td>When using complete sentences in parenthetical...</td>\n",
       "      <td>In a bulleted list of very technical sentences...</td>\n",
       "    </tr>\n",
       "    <tr>\n",
       "      <th>29559</th>\n",
       "      <td>111342</td>\n",
       "      <td>Present perfect continuous</td>\n",
       "      <td>How are we to understand whether present perfe...</td>\n",
       "    </tr>\n",
       "    <tr>\n",
       "      <th>34500</th>\n",
       "      <td>174537</td>\n",
       "      <td>What is the meaning of this quote?</td>\n",
       "      <td>&gt; \"I'm just sorry that she had to be your fort...</td>\n",
       "    </tr>\n",
       "    <tr>\n",
       "      <th>35300</th>\n",
       "      <td>168655</td>\n",
       "      <td>Is this sentence grammatically correct?</td>\n",
       "      <td>\"If we were in a physical relationship, you ju...</td>\n",
       "    </tr>\n",
       "    <tr>\n",
       "      <th>36289</th>\n",
       "      <td>154930</td>\n",
       "      <td>What is the meaning of this quote?</td>\n",
       "      <td>I heard this in a movie. What does it mean? &gt; ...</td>\n",
       "    </tr>\n",
       "    <tr>\n",
       "      <th>36842</th>\n",
       "      <td>9937</td>\n",
       "      <td>Verb agreement in the sentence</td>\n",
       "      <td>&gt; Every morning right after I **went** to the ...</td>\n",
       "    </tr>\n",
       "    <tr>\n",
       "      <th>39369</th>\n",
       "      <td>24727</td>\n",
       "      <td>\"At the time\" versus \"at that time\"</td>\n",
       "      <td>I hope this is not a double post. Should I use...</td>\n",
       "    </tr>\n",
       "  </tbody>\n",
       "</table>\n",
       "</div>"
      ],
      "text/plain": [
       "          _id                                              title  \\\n",
       "285     64421            Is this sentence grammatically correct?   \n",
       "626     16511                    \"You and I\" versus \"you and me\"   \n",
       "655      5359                    \"You and I\" versus \"you and me\"   \n",
       "1363     9191     What's the difference between these sentences?   \n",
       "1538   145571                          Is this sentence correct?   \n",
       "1894   112004                         Present perfect continuous   \n",
       "3866    35839                            Is this proper English?   \n",
       "6511    45101                     Is this grammatically correct?   \n",
       "9379   152733                       What does the sentence mean?   \n",
       "10077   24625                          Is this sentence correct?   \n",
       "10497   37153  When using complete sentences in parenthetical...   \n",
       "11743  124744                       What does the sentence mean?   \n",
       "12141   85424  Is there a grammatical error in the following ...   \n",
       "12358  106554  Is there a grammatical error in the following ...   \n",
       "13621    4844                     Verb agreement in the sentence   \n",
       "22294   41959                \"At the time\" versus \"at that time\"   \n",
       "22597  107097                     Is this grammatically correct?   \n",
       "24884  158624                          Is this sentence correct?   \n",
       "25082   15639     What's the difference between these sentences?   \n",
       "26158  159596                            Is this proper English?   \n",
       "29166   37200  When using complete sentences in parenthetical...   \n",
       "29559  111342                         Present perfect continuous   \n",
       "34500  174537                 What is the meaning of this quote?   \n",
       "35300  168655            Is this sentence grammatically correct?   \n",
       "36289  154930                 What is the meaning of this quote?   \n",
       "36842    9937                     Verb agreement in the sentence   \n",
       "39369   24727                \"At the time\" versus \"at that time\"   \n",
       "\n",
       "                                                    text  \n",
       "285    > **Duplicate of:**   >  When is it appropriat...  \n",
       "626    > **Possible Duplicate:**   >  Which is correc...  \n",
       "655    > **Possible Duplicate:**   >  Which is correc...  \n",
       "1363   What's the difference between > I'm going to e...  \n",
       "1538   > But like most young people of my generation,...  \n",
       "1894   Are the answers I chose correct. My choices ar...  \n",
       "3866   > **Possible Duplicate:**   >  When are \"if\" a...  \n",
       "6511   This quote comes from an article published onl...  \n",
       "9379   I just got an email telling me about a company...  \n",
       "10077  > I ain't heard no word to let me know you **w...  \n",
       "10497  In a bulleted list of very technical sentences...  \n",
       "11743  I have a physics book and am having trouble un...  \n",
       "12141  There is either one or no errors in the follow...  \n",
       "12358  The monthly rent shall be enhanced up to 10% e...  \n",
       "13621  I suspect my verbs do NOT agree =) In the belo...  \n",
       "22294  If I want to say that during the accident ther...  \n",
       "22597  Using MS Word, I typed, \"As Roblin and Adelaid...  \n",
       "24884  I am creating an app for Android in my locale ...  \n",
       "25082  > He walked out, Rachel's words indelibly etch...  \n",
       "26158  The content analysis study our group undertook...  \n",
       "29166  In a bulleted list of very technical sentences...  \n",
       "29559  How are we to understand whether present perfe...  \n",
       "34500  > \"I'm just sorry that she had to be your fort...  \n",
       "35300  \"If we were in a physical relationship, you ju...  \n",
       "36289  I heard this in a movie. What does it mean? > ...  \n",
       "36842  > Every morning right after I **went** to the ...  \n",
       "39369  I hope this is not a double post. Should I use...  "
      ]
     },
     "execution_count": 490,
     "metadata": {},
     "output_type": "execute_result"
    }
   ],
   "source": [
    "title_duplicates"
   ]
  },
  {
   "cell_type": "code",
   "execution_count": 513,
   "metadata": {},
   "outputs": [],
   "source": [
    "contains_word_duplicate = cqadupstack_corpus_df[cqadupstack_corpus_df[\"text\"].str.contains(\"duplicate\")]"
   ]
  },
  {
   "cell_type": "code",
   "execution_count": 515,
   "metadata": {},
   "outputs": [
    {
     "data": {
      "text/plain": [
       "'I checked the grammar of my research article using a leading software. This is my sentence:   * _A total of 12.3 million sequences_ **_was used_** _for the establishment of database._ The error is: _\\'Potential issues with passive voice usage\\'_ Anything wrong here? ( **NOTE:** Er, the OP\\'s question is about **passive voice** , but the \"duplicate\" linked thread is about subject-verb number agreement. Perhaps there\\'s a related issue here, on subject-verb number agreement (which is debatable), but the OP\\'s main question on passive voice ought to be addressed. Anyway, a short answer post here would probably be more appropriate than a related link. -- F.E.)'"
      ]
     },
     "execution_count": 515,
     "metadata": {},
     "output_type": "execute_result"
    }
   ],
   "source": [
    "contains_word_duplicate[\"text\"][15]"
   ]
  },
  {
   "cell_type": "markdown",
   "metadata": {},
   "source": [
    "'I checked the grammar of my research article using a leading software. This is my sentence:   * _A total of 12.3 million sequences_ **_was used_** _for the establishment of database._ The error is: _\\'Potential issues with passive voice usage\\'_ Anything wrong here? ( **NOTE:** Er, the OP\\'s question is about **passive voice** , but the \"duplicate\" linked thread is about subject-verb number agreement. Perhaps there\\'s a related issue here, on subject-verb number agreement (which is debatable), but the OP\\'s main question on passive voice ought to be addressed. Anyway, a short answer post here would probably be more appropriate than a related link. -- F.E.)'"
   ]
  },
  {
   "cell_type": "markdown",
   "metadata": {},
   "source": [
    "some literally contain the word \"duplicate\""
   ]
  },
  {
   "cell_type": "markdown",
   "metadata": {},
   "source": [
    "first prepare dataset for query <> title:\n",
    "- just need to remove duplicate titles (already know that there are no duplicate queries)\n",
    "- fix query data accordingly"
   ]
  },
  {
   "cell_type": "code",
   "execution_count": 532,
   "metadata": {},
   "outputs": [],
   "source": [
    "def clean_query_title(corpus_df, default_df):\n",
    "    cleaned_corpus_df = corpus_df.drop_duplicates(subset=['title'], keep='first')\n",
    "\n",
    "    duplicates_corpus_df = corpus_df[corpus_df.duplicated(subset=['title'], keep=False)]\n",
    "\n",
    "    corpus_id_mapping = duplicates_corpus_df.groupby('title')['_id'].first().to_dict()\n",
    "    corpus_id_replacement = {row['_id']: corpus_id_mapping[row['title']] for _, row in duplicates_corpus_df.iterrows()}\n",
    "\n",
    "    default_df[\"corpus-id\"] = default_df[\"corpus-id\"].replace(corpus_id_replacement)\n",
    "\n",
    "    cleaned_default_df = default_df.drop_duplicates(subset=['query-id', 'corpus-id'])\n",
    "\n",
    "    return cleaned_corpus_df, cleaned_default_df"
   ]
  },
  {
   "cell_type": "code",
   "execution_count": 533,
   "metadata": {},
   "outputs": [],
   "source": [
    "cleaned_cqadupstack_corpus_df_title, cleaned_cqadupstack_default_df_title = clean_query_title(cqadupstack_corpus_df, cqadupstack_default_df)"
   ]
  },
  {
   "cell_type": "code",
   "execution_count": 534,
   "metadata": {},
   "outputs": [
    {
     "data": {
      "text/plain": [
       "40221"
      ]
     },
     "execution_count": 534,
     "metadata": {},
     "output_type": "execute_result"
    }
   ],
   "source": [
    "len(cqadupstack_corpus_df)"
   ]
  },
  {
   "cell_type": "code",
   "execution_count": 536,
   "metadata": {},
   "outputs": [
    {
     "data": {
      "text/plain": [
       "40207"
      ]
     },
     "execution_count": 536,
     "metadata": {},
     "output_type": "execute_result"
    }
   ],
   "source": [
    "len(cleaned_cqadupstack_corpus_df_title)"
   ]
  },
  {
   "cell_type": "code",
   "execution_count": 537,
   "metadata": {},
   "outputs": [
    {
     "data": {
      "text/plain": [
       "3765"
      ]
     },
     "execution_count": 537,
     "metadata": {},
     "output_type": "execute_result"
    }
   ],
   "source": [
    "len(cqadupstack_default_df)"
   ]
  },
  {
   "cell_type": "code",
   "execution_count": 538,
   "metadata": {},
   "outputs": [
    {
     "data": {
      "text/plain": [
       "3764"
      ]
     },
     "execution_count": 538,
     "metadata": {},
     "output_type": "execute_result"
    }
   ],
   "source": [
    "len(cleaned_cqadupstack_default_df_title)"
   ]
  },
  {
   "cell_type": "markdown",
   "metadata": {},
   "source": [
    "query <> text"
   ]
  },
  {
   "cell_type": "code",
   "execution_count": 541,
   "metadata": {},
   "outputs": [
    {
     "data": {
      "text/html": [
       "<div>\n",
       "<style scoped>\n",
       "    .dataframe tbody tr th:only-of-type {\n",
       "        vertical-align: middle;\n",
       "    }\n",
       "\n",
       "    .dataframe tbody tr th {\n",
       "        vertical-align: top;\n",
       "    }\n",
       "\n",
       "    .dataframe thead th {\n",
       "        text-align: right;\n",
       "    }\n",
       "</style>\n",
       "<table border=\"1\" class=\"dataframe\">\n",
       "  <thead>\n",
       "    <tr style=\"text-align: right;\">\n",
       "      <th></th>\n",
       "      <th>_id</th>\n",
       "      <th>title</th>\n",
       "      <th>text</th>\n",
       "    </tr>\n",
       "  </thead>\n",
       "  <tbody>\n",
       "    <tr>\n",
       "      <th>15</th>\n",
       "      <td>168653</td>\n",
       "      <td>Potential issues with passive voice usage</td>\n",
       "      <td>I checked the grammar of my research article u...</td>\n",
       "    </tr>\n",
       "    <tr>\n",
       "      <th>43</th>\n",
       "      <td>164832</td>\n",
       "      <td>Conjugation of answer to \"How much money is th...</td>\n",
       "      <td>I'm using a website - www.ixl.com \\- to teach ...</td>\n",
       "    </tr>\n",
       "    <tr>\n",
       "      <th>122</th>\n",
       "      <td>132833</td>\n",
       "      <td>Should words that finish with an \"s\" take \"'s\"...</td>\n",
       "      <td>For example, should I write : (1) Chris's dog ...</td>\n",
       "    </tr>\n",
       "    <tr>\n",
       "      <th>132</th>\n",
       "      <td>44026</td>\n",
       "      <td>What is the correct syntax for a plural posses...</td>\n",
       "      <td>&gt; **Possible Duplicate:**   &gt;  What is the cor...</td>\n",
       "    </tr>\n",
       "    <tr>\n",
       "      <th>460</th>\n",
       "      <td>861</td>\n",
       "      <td>What does Maugham mean by \"his spaghetti were\"?</td>\n",
       "      <td>&gt; **Possible Duplicate:**   &gt;  Was the usage \"...</td>\n",
       "    </tr>\n",
       "    <tr>\n",
       "      <th>...</th>\n",
       "      <td>...</td>\n",
       "      <td>...</td>\n",
       "      <td>...</td>\n",
       "    </tr>\n",
       "    <tr>\n",
       "      <th>37896</th>\n",
       "      <td>173840</td>\n",
       "      <td>Translating from American to Canadian, when th...</td>\n",
       "      <td>This is not a duplicate of questions such as“L...</td>\n",
       "    </tr>\n",
       "    <tr>\n",
       "      <th>38037</th>\n",
       "      <td>58672</td>\n",
       "      <td>Comma confusion</td>\n",
       "      <td>I'm pretty sure this is a duplicate, but it's ...</td>\n",
       "    </tr>\n",
       "    <tr>\n",
       "      <th>38353</th>\n",
       "      <td>191816</td>\n",
       "      <td>Is it recommended to include a preposition whe...</td>\n",
       "      <td>Consider the sample sentence below (quoted fro...</td>\n",
       "    </tr>\n",
       "    <tr>\n",
       "      <th>38549</th>\n",
       "      <td>68749</td>\n",
       "      <td>What do we need for a stress in a word?</td>\n",
       "      <td>I am non-native in English, so this question m...</td>\n",
       "    </tr>\n",
       "    <tr>\n",
       "      <th>39598</th>\n",
       "      <td>142453</td>\n",
       "      <td>How widespread are snow goblins?</td>\n",
       "      <td>I live in the Northeastern part of the US. We'...</td>\n",
       "    </tr>\n",
       "  </tbody>\n",
       "</table>\n",
       "<p>107 rows × 3 columns</p>\n",
       "</div>"
      ],
      "text/plain": [
       "          _id                                              title  \\\n",
       "15     168653          Potential issues with passive voice usage   \n",
       "43     164832  Conjugation of answer to \"How much money is th...   \n",
       "122    132833  Should words that finish with an \"s\" take \"'s\"...   \n",
       "132     44026  What is the correct syntax for a plural posses...   \n",
       "460       861    What does Maugham mean by \"his spaghetti were\"?   \n",
       "...       ...                                                ...   \n",
       "37896  173840  Translating from American to Canadian, when th...   \n",
       "38037   58672                                    Comma confusion   \n",
       "38353  191816  Is it recommended to include a preposition whe...   \n",
       "38549   68749            What do we need for a stress in a word?   \n",
       "39598  142453                   How widespread are snow goblins?   \n",
       "\n",
       "                                                    text  \n",
       "15     I checked the grammar of my research article u...  \n",
       "43     I'm using a website - www.ixl.com \\- to teach ...  \n",
       "122    For example, should I write : (1) Chris's dog ...  \n",
       "132    > **Possible Duplicate:**   >  What is the cor...  \n",
       "460    > **Possible Duplicate:**   >  Was the usage \"...  \n",
       "...                                                  ...  \n",
       "37896  This is not a duplicate of questions such as“L...  \n",
       "38037  I'm pretty sure this is a duplicate, but it's ...  \n",
       "38353  Consider the sample sentence below (quoted fro...  \n",
       "38549  I am non-native in English, so this question m...  \n",
       "39598  I live in the Northeastern part of the US. We'...  \n",
       "\n",
       "[107 rows x 3 columns]"
      ]
     },
     "execution_count": 541,
     "metadata": {},
     "output_type": "execute_result"
    }
   ],
   "source": [
    "contains_word_duplicate"
   ]
  },
  {
   "cell_type": "code",
   "execution_count": 545,
   "metadata": {},
   "outputs": [
    {
     "data": {
      "text/plain": [
       "'> **Possible Duplicate:**   >  Which is correct, \"you and I\" or \"you and me\"? I was surprised to hear \"you and I,\" when I expected \"you and me.\" Are the two expressions synonyms to each other?'"
      ]
     },
     "execution_count": 545,
     "metadata": {},
     "output_type": "execute_result"
    }
   ],
   "source": [
    "title_duplicates[title_duplicates[\"_id\"] == \"16511\"][\"text\"][626]"
   ]
  },
  {
   "cell_type": "code",
   "execution_count": 546,
   "metadata": {},
   "outputs": [
    {
     "data": {
      "text/plain": [
       "'> **Possible Duplicate:**   >  Which is correct, \"you and I\" or \"you and me\"? When I was in primary school, I was advised by my English teacher to use \"you and I\" instead of \"you and me.\" I know some people out there still use \"You and me.\" Can anyone explain why we should use \"you and I\" and what is wrong with \"you and me\"?'"
      ]
     },
     "execution_count": 546,
     "metadata": {},
     "output_type": "execute_result"
    }
   ],
   "source": [
    "title_duplicates[title_duplicates[\"_id\"] == \"5359\"][\"text\"][655]"
   ]
  },
  {
   "cell_type": "markdown",
   "metadata": {},
   "source": [
    "'> **Possible Duplicate:**   >  Which is correct, \"you and I\" or \"you and me\"? I was surprised to hear \"you and I,\" when I expected \"you and me.\" Are the two expressions synonyms to each other?'\n",
    "\n",
    "'> **Possible Duplicate:**   >  Which is correct, \"you and I\" or \"you and me\"? When I was in primary school, I was advised by my English teacher to use \"you and I\" instead of \"you and me.\" I know some people out there still use \"You and me.\" Can anyone explain why we should use \"you and I\" and what is wrong with \"you and me\"?'"
   ]
  },
  {
   "cell_type": "code",
   "execution_count": 547,
   "metadata": {},
   "outputs": [
    {
     "data": {
      "text/html": [
       "<div>\n",
       "<style scoped>\n",
       "    .dataframe tbody tr th:only-of-type {\n",
       "        vertical-align: middle;\n",
       "    }\n",
       "\n",
       "    .dataframe tbody tr th {\n",
       "        vertical-align: top;\n",
       "    }\n",
       "\n",
       "    .dataframe thead th {\n",
       "        text-align: right;\n",
       "    }\n",
       "</style>\n",
       "<table border=\"1\" class=\"dataframe\">\n",
       "  <thead>\n",
       "    <tr style=\"text-align: right;\">\n",
       "      <th></th>\n",
       "      <th>_id</th>\n",
       "      <th>title</th>\n",
       "      <th>text</th>\n",
       "    </tr>\n",
       "  </thead>\n",
       "  <tbody>\n",
       "    <tr>\n",
       "      <th>285</th>\n",
       "      <td>64421</td>\n",
       "      <td>Is this sentence grammatically correct?</td>\n",
       "      <td>&gt; **Duplicate of:**   &gt;  When is it appropriat...</td>\n",
       "    </tr>\n",
       "    <tr>\n",
       "      <th>35300</th>\n",
       "      <td>168655</td>\n",
       "      <td>Is this sentence grammatically correct?</td>\n",
       "      <td>\"If we were in a physical relationship, you ju...</td>\n",
       "    </tr>\n",
       "  </tbody>\n",
       "</table>\n",
       "</div>"
      ],
      "text/plain": [
       "          _id                                    title  \\\n",
       "285     64421  Is this sentence grammatically correct?   \n",
       "35300  168655  Is this sentence grammatically correct?   \n",
       "\n",
       "                                                    text  \n",
       "285    > **Duplicate of:**   >  When is it appropriat...  \n",
       "35300  \"If we were in a physical relationship, you ju...  "
      ]
     },
     "execution_count": 547,
     "metadata": {},
     "output_type": "execute_result"
    }
   ],
   "source": [
    "title_duplicates[title_duplicates[\"title\"] == \"Is this sentence grammatically correct?\"]"
   ]
  },
  {
   "cell_type": "code",
   "execution_count": 548,
   "metadata": {},
   "outputs": [
    {
     "data": {
      "text/plain": [
       "'> **Duplicate of:**   >  When is it appropriate to end a sentence in a preposition?   >  Possessive connecting word for inanimate object I am not sure about following sentence being grammatically correct: > ..such as the X fund the board of directors of which I have just became a > member. OR > such as the X fund whose board of directors I have just became a member > (of?).'"
      ]
     },
     "execution_count": 548,
     "metadata": {},
     "output_type": "execute_result"
    }
   ],
   "source": [
    "title_duplicates[title_duplicates[\"_id\"] == \"64421\"][\"text\"][285]"
   ]
  },
  {
   "cell_type": "markdown",
   "metadata": {},
   "source": [
    "'> **Duplicate of:**   >  When is it appropriate to end a sentence in a preposition?   >  Possessive connecting word for inanimate object I am not sure about following sentence being grammatically correct: > ..such as the X fund the board of directors of which I have just became a > member. OR > such as the X fund whose board of directors I have just became a member > (of?).'"
   ]
  },
  {
   "cell_type": "code",
   "execution_count": 551,
   "metadata": {},
   "outputs": [],
   "source": [
    "testing = cqadupstack_corpus_df[cqadupstack_corpus_df[\"text\"].str.contains(\"When is it appropriate to end a sentence in a preposition?\")]"
   ]
  },
  {
   "cell_type": "code",
   "execution_count": 552,
   "metadata": {},
   "outputs": [
    {
     "name": "stdout",
     "output_type": "stream",
     "text": [
      "> **Duplicate of:**   >  When is it appropriate to end a sentence in a preposition?   >  Possessive connecting word for inanimate object I am not sure about following sentence being grammatically correct: > ..such as the X fund the board of directors of which I have just became a > member. OR > such as the X fund whose board of directors I have just became a member > (of?).\n",
      "> **Possible Duplicate:**   >  When is it appropriate to end a sentence in a preposition? I would like to know which is correct and why: > There is a new search of which I've become aware. or > There is a new search I've become aware of.\n",
      "> **Possible Duplicate:**   >  When is it appropriate to end a sentence in a preposition? \"a soul can sense when it’s being talked to.\" Does this sound OK? I don't like ending with a preposition, but it does get the point across. Any suggestions to replacing the phrase \"being talked to\" Thanks After reading similar questions on this topic, Edward Tanguay referenced a site, http://grammar.yourdictionary.com/parts-of-speech/prepositions/ending-a- sentence-with-a-preposition.html which basically states to avoid confusion try not ending with a preposition. So I'll change it from: \"a soul can sense when it’s being talked to.\" to one of these: \"a soul can sense when it’s being summoned.\" \"a soul can sense when it’s being addressed.\" Not exactly the meaning I wanted, but gets the preposition out of the way. Thanks,\n",
      "> **Possible Duplicate:**   >  When is it appropriate to end a sentence in a preposition? If I can't end a sentence with the preposition \"with\", does this mean that the following sentences are grammatically wrong? If so, why? > At least we have some information to work with. > > She is finding the job very hard to cope with. > > Blasphemy is one thing I will not put up with. Does anyone else have any examples of sentences ending with, with?\n",
      "> **Possible Duplicate:**   >  When is it appropriate to end a sentence in a preposition? In this answer I wrote > [You can use it] to take pictures of a movie in a cinema, of which the > cinema guys probably wouldn't approve. but I am not sure if it should rather be > [You can use it] to take pictures of a movie in a cinema, which the cinema > guys probably wouldn't approve of. I found this page but I'm still unable to find out which example it relates to. (... to which example it relates?)\n"
     ]
    }
   ],
   "source": [
    "for text in testing[\"text\"]:\n",
    "    print(text)"
   ]
  },
  {
   "cell_type": "markdown",
   "metadata": {},
   "source": [
    "The Duplicate of and Possible Duplicates contain some of the same text, but each are still unique\n",
    "- how should I be thinking about this?\n",
    "\n",
    "Will just clean text to remove > **Duplicate of:**   >  and > **Possible Duplicate:**   >"
   ]
  },
  {
   "cell_type": "code",
   "execution_count": null,
   "metadata": {},
   "outputs": [],
   "source": [
    "cleaned_cqadupstack_corpus_df_text = cqadupstack_corpus_df.copy()"
   ]
  },
  {
   "cell_type": "code",
   "execution_count": 562,
   "metadata": {},
   "outputs": [],
   "source": [
    "cleaned_cqadupstack_corpus_df_text[\"text\"] = cleaned_cqadupstack_corpus_df_text[\"text\"].str.replace(r\"> \\*\\*Duplicate of:\\*\\*   >\", \"\", regex=True)"
   ]
  },
  {
   "cell_type": "code",
   "execution_count": 563,
   "metadata": {},
   "outputs": [],
   "source": [
    "cleaned_cqadupstack_corpus_df_text[\"text\"] = cleaned_cqadupstack_corpus_df_text[\"text\"].str.replace(r\"> \\*\\*Possible Duplicate:\\*\\*   >\", \"\", regex=True)"
   ]
  },
  {
   "cell_type": "markdown",
   "metadata": {},
   "source": [
    "#### Final datasets"
   ]
  },
  {
   "cell_type": "markdown",
   "metadata": {},
   "source": [
    "for query <> title"
   ]
  },
  {
   "cell_type": "code",
   "execution_count": 539,
   "metadata": {},
   "outputs": [
    {
     "data": {
      "text/html": [
       "<div>\n",
       "<style scoped>\n",
       "    .dataframe tbody tr th:only-of-type {\n",
       "        vertical-align: middle;\n",
       "    }\n",
       "\n",
       "    .dataframe tbody tr th {\n",
       "        vertical-align: top;\n",
       "    }\n",
       "\n",
       "    .dataframe thead th {\n",
       "        text-align: right;\n",
       "    }\n",
       "</style>\n",
       "<table border=\"1\" class=\"dataframe\">\n",
       "  <thead>\n",
       "    <tr style=\"text-align: right;\">\n",
       "      <th></th>\n",
       "      <th>_id</th>\n",
       "      <th>title</th>\n",
       "      <th>text</th>\n",
       "    </tr>\n",
       "  </thead>\n",
       "  <tbody>\n",
       "    <tr>\n",
       "      <th>0</th>\n",
       "      <td>11547</td>\n",
       "      <td>Is there a word meaning \"an unwanted eponym\"?</td>\n",
       "      <td>An eponym is one way to eternal (if posthumous...</td>\n",
       "    </tr>\n",
       "    <tr>\n",
       "      <th>1</th>\n",
       "      <td>11549</td>\n",
       "      <td>\"Password Reset Mail\" or \"Reset Password Mail\"?</td>\n",
       "      <td>We are working on a web project that has a pas...</td>\n",
       "    </tr>\n",
       "    <tr>\n",
       "      <th>2</th>\n",
       "      <td>123851</td>\n",
       "      <td>Are homonyms considered single words?</td>\n",
       "      <td>There are many homonyms in the English languag...</td>\n",
       "    </tr>\n",
       "    <tr>\n",
       "      <th>3</th>\n",
       "      <td>116661</td>\n",
       "      <td>Which of these phrases are equivalent, if any,...</td>\n",
       "      <td>Some say the following two phrases are equival...</td>\n",
       "    </tr>\n",
       "    <tr>\n",
       "      <th>4</th>\n",
       "      <td>102236</td>\n",
       "      <td>is it correct to use \"wide range of courses th...</td>\n",
       "      <td>Please tell me if the following sentence requi...</td>\n",
       "    </tr>\n",
       "  </tbody>\n",
       "</table>\n",
       "</div>"
      ],
      "text/plain": [
       "      _id                                              title  \\\n",
       "0   11547      Is there a word meaning \"an unwanted eponym\"?   \n",
       "1   11549    \"Password Reset Mail\" or \"Reset Password Mail\"?   \n",
       "2  123851              Are homonyms considered single words?   \n",
       "3  116661  Which of these phrases are equivalent, if any,...   \n",
       "4  102236  is it correct to use \"wide range of courses th...   \n",
       "\n",
       "                                                text  \n",
       "0  An eponym is one way to eternal (if posthumous...  \n",
       "1  We are working on a web project that has a pas...  \n",
       "2  There are many homonyms in the English languag...  \n",
       "3  Some say the following two phrases are equival...  \n",
       "4  Please tell me if the following sentence requi...  "
      ]
     },
     "execution_count": 539,
     "metadata": {},
     "output_type": "execute_result"
    }
   ],
   "source": [
    "cleaned_cqadupstack_corpus_df_title.head()"
   ]
  },
  {
   "cell_type": "code",
   "execution_count": 540,
   "metadata": {},
   "outputs": [
    {
     "data": {
      "text/html": [
       "<div>\n",
       "<style scoped>\n",
       "    .dataframe tbody tr th:only-of-type {\n",
       "        vertical-align: middle;\n",
       "    }\n",
       "\n",
       "    .dataframe tbody tr th {\n",
       "        vertical-align: top;\n",
       "    }\n",
       "\n",
       "    .dataframe thead th {\n",
       "        text-align: right;\n",
       "    }\n",
       "</style>\n",
       "<table border=\"1\" class=\"dataframe\">\n",
       "  <thead>\n",
       "    <tr style=\"text-align: right;\">\n",
       "      <th></th>\n",
       "      <th>query-id</th>\n",
       "      <th>corpus-id</th>\n",
       "      <th>score</th>\n",
       "    </tr>\n",
       "  </thead>\n",
       "  <tbody>\n",
       "    <tr>\n",
       "      <th>0</th>\n",
       "      <td>19399</td>\n",
       "      <td>102236</td>\n",
       "      <td>1.0</td>\n",
       "    </tr>\n",
       "    <tr>\n",
       "      <th>1</th>\n",
       "      <td>19399</td>\n",
       "      <td>91901</td>\n",
       "      <td>1.0</td>\n",
       "    </tr>\n",
       "    <tr>\n",
       "      <th>2</th>\n",
       "      <td>19399</td>\n",
       "      <td>177507</td>\n",
       "      <td>1.0</td>\n",
       "    </tr>\n",
       "    <tr>\n",
       "      <th>3</th>\n",
       "      <td>19399</td>\n",
       "      <td>80798</td>\n",
       "      <td>1.0</td>\n",
       "    </tr>\n",
       "    <tr>\n",
       "      <th>4</th>\n",
       "      <td>19399</td>\n",
       "      <td>112990</td>\n",
       "      <td>1.0</td>\n",
       "    </tr>\n",
       "  </tbody>\n",
       "</table>\n",
       "</div>"
      ],
      "text/plain": [
       "  query-id corpus-id  score\n",
       "0    19399    102236    1.0\n",
       "1    19399     91901    1.0\n",
       "2    19399    177507    1.0\n",
       "3    19399     80798    1.0\n",
       "4    19399    112990    1.0"
      ]
     },
     "execution_count": 540,
     "metadata": {},
     "output_type": "execute_result"
    }
   ],
   "source": [
    "cleaned_cqadupstack_default_df_title.head()"
   ]
  },
  {
   "cell_type": "markdown",
   "metadata": {},
   "source": [
    "for query <> text"
   ]
  },
  {
   "cell_type": "code",
   "execution_count": 564,
   "metadata": {},
   "outputs": [
    {
     "data": {
      "text/html": [
       "<div>\n",
       "<style scoped>\n",
       "    .dataframe tbody tr th:only-of-type {\n",
       "        vertical-align: middle;\n",
       "    }\n",
       "\n",
       "    .dataframe tbody tr th {\n",
       "        vertical-align: top;\n",
       "    }\n",
       "\n",
       "    .dataframe thead th {\n",
       "        text-align: right;\n",
       "    }\n",
       "</style>\n",
       "<table border=\"1\" class=\"dataframe\">\n",
       "  <thead>\n",
       "    <tr style=\"text-align: right;\">\n",
       "      <th></th>\n",
       "      <th>_id</th>\n",
       "      <th>title</th>\n",
       "      <th>text</th>\n",
       "    </tr>\n",
       "  </thead>\n",
       "  <tbody>\n",
       "    <tr>\n",
       "      <th>0</th>\n",
       "      <td>11547</td>\n",
       "      <td>Is there a word meaning \"an unwanted eponym\"?</td>\n",
       "      <td>An eponym is one way to eternal (if posthumous...</td>\n",
       "    </tr>\n",
       "    <tr>\n",
       "      <th>1</th>\n",
       "      <td>11549</td>\n",
       "      <td>\"Password Reset Mail\" or \"Reset Password Mail\"?</td>\n",
       "      <td>We are working on a web project that has a pas...</td>\n",
       "    </tr>\n",
       "    <tr>\n",
       "      <th>2</th>\n",
       "      <td>123851</td>\n",
       "      <td>Are homonyms considered single words?</td>\n",
       "      <td>There are many homonyms in the English languag...</td>\n",
       "    </tr>\n",
       "    <tr>\n",
       "      <th>3</th>\n",
       "      <td>116661</td>\n",
       "      <td>Which of these phrases are equivalent, if any,...</td>\n",
       "      <td>Some say the following two phrases are equival...</td>\n",
       "    </tr>\n",
       "    <tr>\n",
       "      <th>4</th>\n",
       "      <td>102236</td>\n",
       "      <td>is it correct to use \"wide range of courses th...</td>\n",
       "      <td>Please tell me if the following sentence requi...</td>\n",
       "    </tr>\n",
       "  </tbody>\n",
       "</table>\n",
       "</div>"
      ],
      "text/plain": [
       "      _id                                              title  \\\n",
       "0   11547      Is there a word meaning \"an unwanted eponym\"?   \n",
       "1   11549    \"Password Reset Mail\" or \"Reset Password Mail\"?   \n",
       "2  123851              Are homonyms considered single words?   \n",
       "3  116661  Which of these phrases are equivalent, if any,...   \n",
       "4  102236  is it correct to use \"wide range of courses th...   \n",
       "\n",
       "                                                text  \n",
       "0  An eponym is one way to eternal (if posthumous...  \n",
       "1  We are working on a web project that has a pas...  \n",
       "2  There are many homonyms in the English languag...  \n",
       "3  Some say the following two phrases are equival...  \n",
       "4  Please tell me if the following sentence requi...  "
      ]
     },
     "execution_count": 564,
     "metadata": {},
     "output_type": "execute_result"
    }
   ],
   "source": [
    "cleaned_cqadupstack_corpus_df_text.head()"
   ]
  },
  {
   "cell_type": "code",
   "execution_count": 565,
   "metadata": {},
   "outputs": [
    {
     "data": {
      "text/html": [
       "<div>\n",
       "<style scoped>\n",
       "    .dataframe tbody tr th:only-of-type {\n",
       "        vertical-align: middle;\n",
       "    }\n",
       "\n",
       "    .dataframe tbody tr th {\n",
       "        vertical-align: top;\n",
       "    }\n",
       "\n",
       "    .dataframe thead th {\n",
       "        text-align: right;\n",
       "    }\n",
       "</style>\n",
       "<table border=\"1\" class=\"dataframe\">\n",
       "  <thead>\n",
       "    <tr style=\"text-align: right;\">\n",
       "      <th></th>\n",
       "      <th>query-id</th>\n",
       "      <th>corpus-id</th>\n",
       "      <th>score</th>\n",
       "    </tr>\n",
       "  </thead>\n",
       "  <tbody>\n",
       "    <tr>\n",
       "      <th>0</th>\n",
       "      <td>19399</td>\n",
       "      <td>102236</td>\n",
       "      <td>1.0</td>\n",
       "    </tr>\n",
       "    <tr>\n",
       "      <th>1</th>\n",
       "      <td>19399</td>\n",
       "      <td>91901</td>\n",
       "      <td>1.0</td>\n",
       "    </tr>\n",
       "    <tr>\n",
       "      <th>2</th>\n",
       "      <td>19399</td>\n",
       "      <td>177507</td>\n",
       "      <td>1.0</td>\n",
       "    </tr>\n",
       "    <tr>\n",
       "      <th>3</th>\n",
       "      <td>19399</td>\n",
       "      <td>80798</td>\n",
       "      <td>1.0</td>\n",
       "    </tr>\n",
       "    <tr>\n",
       "      <th>4</th>\n",
       "      <td>19399</td>\n",
       "      <td>112990</td>\n",
       "      <td>1.0</td>\n",
       "    </tr>\n",
       "  </tbody>\n",
       "</table>\n",
       "</div>"
      ],
      "text/plain": [
       "  query-id corpus-id  score\n",
       "0    19399    102236    1.0\n",
       "1    19399     91901    1.0\n",
       "2    19399    177507    1.0\n",
       "3    19399     80798    1.0\n",
       "4    19399    112990    1.0"
      ]
     },
     "execution_count": 565,
     "metadata": {},
     "output_type": "execute_result"
    }
   ],
   "source": [
    "cqadupstack_default_df.head()"
   ]
  },
  {
   "cell_type": "markdown",
   "metadata": {},
   "source": [
    "we use the same query df for both"
   ]
  },
  {
   "cell_type": "code",
   "execution_count": 567,
   "metadata": {},
   "outputs": [
    {
     "data": {
      "text/html": [
       "<div>\n",
       "<style scoped>\n",
       "    .dataframe tbody tr th:only-of-type {\n",
       "        vertical-align: middle;\n",
       "    }\n",
       "\n",
       "    .dataframe tbody tr th {\n",
       "        vertical-align: top;\n",
       "    }\n",
       "\n",
       "    .dataframe thead th {\n",
       "        text-align: right;\n",
       "    }\n",
       "</style>\n",
       "<table border=\"1\" class=\"dataframe\">\n",
       "  <thead>\n",
       "    <tr style=\"text-align: right;\">\n",
       "      <th></th>\n",
       "      <th>_id</th>\n",
       "      <th>text</th>\n",
       "    </tr>\n",
       "  </thead>\n",
       "  <tbody>\n",
       "    <tr>\n",
       "      <th>0</th>\n",
       "      <td>19399</td>\n",
       "      <td>Is \"a wide range of features\" singular or plural?</td>\n",
       "    </tr>\n",
       "    <tr>\n",
       "      <th>1</th>\n",
       "      <td>5987</td>\n",
       "      <td>Is there any rule for the placement of space a...</td>\n",
       "    </tr>\n",
       "    <tr>\n",
       "      <th>2</th>\n",
       "      <td>57488</td>\n",
       "      <td>Word for two people who are the same age</td>\n",
       "    </tr>\n",
       "    <tr>\n",
       "      <th>3</th>\n",
       "      <td>97154</td>\n",
       "      <td>What’s the pronunciation of “ s’ ”?</td>\n",
       "    </tr>\n",
       "    <tr>\n",
       "      <th>4</th>\n",
       "      <td>270</td>\n",
       "      <td>What is the correct plural of octopus?</td>\n",
       "    </tr>\n",
       "  </tbody>\n",
       "</table>\n",
       "</div>"
      ],
      "text/plain": [
       "     _id                                               text\n",
       "0  19399  Is \"a wide range of features\" singular or plural?\n",
       "1   5987  Is there any rule for the placement of space a...\n",
       "2  57488           Word for two people who are the same age\n",
       "3  97154                What’s the pronunciation of “ s’ ”?\n",
       "4    270             What is the correct plural of octopus?"
      ]
     },
     "execution_count": 567,
     "metadata": {},
     "output_type": "execute_result"
    }
   ],
   "source": [
    "cqadupstack_queries_df.head()"
   ]
  },
  {
   "cell_type": "markdown",
   "metadata": {},
   "source": [
    "### **Domain-Specific (English)**\n",
    "\n",
    "### MedicalQA - Medical"
   ]
  },
  {
   "cell_type": "code",
   "execution_count": 85,
   "metadata": {},
   "outputs": [],
   "source": [
    "medical_qa_default = datasets.load_dataset(\"mteb/medical_qa\", \"default\")\n",
    "medical_qa_queries = datasets.load_dataset(\"mteb/medical_qa\", \"queries\")\n",
    "medical_qa_corpus = datasets.load_dataset(\"mteb/medical_qa\", \"corpus\")"
   ]
  },
  {
   "cell_type": "code",
   "execution_count": 86,
   "metadata": {},
   "outputs": [],
   "source": [
    "medical_qa_default_qa_df = medical_qa_default[\"test\"].to_pandas()\n",
    "medical_qa_queries_df = medical_qa_queries[\"queries\"].to_pandas()\n",
    "medical_qa_corpus_df = medical_qa_corpus[\"corpus\"].to_pandas()"
   ]
  },
  {
   "cell_type": "code",
   "execution_count": 90,
   "metadata": {},
   "outputs": [
    {
     "data": {
      "text/plain": [
       "'Who is at risk for Lymphocytic Choriomeningitis (LCM)? ?'"
      ]
     },
     "execution_count": 90,
     "metadata": {},
     "output_type": "execute_result"
    }
   ],
   "source": [
    "medical_qa_queries_df[\"text\"][0]"
   ]
  },
  {
   "cell_type": "code",
   "execution_count": 91,
   "metadata": {},
   "outputs": [
    {
     "data": {
      "text/plain": [
       "'LCMV infections can occur after exposure to fresh urine, droppings, saliva, or nesting materials from infected rodents.  Transmission may also occur when these materials are directly introduced into broken skin, the nose, the eyes, or the mouth, or presumably, via the bite of an infected rodent. Person-to-person transmission has not been reported, with the exception of vertical transmission from infected mother to fetus, and rarely, through organ transplantation.'"
      ]
     },
     "execution_count": 91,
     "metadata": {},
     "output_type": "execute_result"
    }
   ],
   "source": [
    "medical_qa_corpus_df[\"text\"][0]"
   ]
  },
  {
   "cell_type": "code",
   "execution_count": 95,
   "metadata": {},
   "outputs": [
    {
     "data": {
      "text/plain": [
       "2048"
      ]
     },
     "execution_count": 95,
     "metadata": {},
     "output_type": "execute_result"
    }
   ],
   "source": [
    "len(medical_qa_corpus_df)"
   ]
  },
  {
   "cell_type": "code",
   "execution_count": 96,
   "metadata": {},
   "outputs": [
    {
     "data": {
      "text/plain": [
       "2007"
      ]
     },
     "execution_count": 96,
     "metadata": {},
     "output_type": "execute_result"
    }
   ],
   "source": [
    "medical_qa_corpus_deduplicated = medical_qa_corpus_df.drop_duplicates(subset=['text'], keep='first')\n",
    "len(medical_qa_corpus_deduplicated)"
   ]
  },
  {
   "cell_type": "code",
   "execution_count": 98,
   "metadata": {},
   "outputs": [
    {
     "data": {
      "text/plain": [
       "2048"
      ]
     },
     "execution_count": 98,
     "metadata": {},
     "output_type": "execute_result"
    }
   ],
   "source": [
    "len(medical_qa_queries_df)"
   ]
  },
  {
   "cell_type": "code",
   "execution_count": 99,
   "metadata": {},
   "outputs": [
    {
     "data": {
      "text/plain": [
       "1820"
      ]
     },
     "execution_count": 99,
     "metadata": {},
     "output_type": "execute_result"
    }
   ],
   "source": [
    "medical_qa_queries_deduplicated = medical_qa_queries_df.drop_duplicates(subset=['text'], keep='first')\n",
    "len(medical_qa_queries_deduplicated)"
   ]
  },
  {
   "cell_type": "code",
   "execution_count": 119,
   "metadata": {},
   "outputs": [],
   "source": [
    "duplicated_queries = medical_qa_queries_df[medical_qa_queries_df.duplicated(subset=['text'], keep=False)] # False keeps first occurance in df, so we can use this for filter pairing\n",
    "duplicated_corpus = medical_qa_corpus_df[medical_qa_corpus_df.duplicated(subset=['text'], keep=False)]"
   ]
  },
  {
   "cell_type": "code",
   "execution_count": 124,
   "metadata": {},
   "outputs": [
    {
     "data": {
      "text/html": [
       "<div>\n",
       "<style scoped>\n",
       "    .dataframe tbody tr th:only-of-type {\n",
       "        vertical-align: middle;\n",
       "    }\n",
       "\n",
       "    .dataframe tbody tr th {\n",
       "        vertical-align: top;\n",
       "    }\n",
       "\n",
       "    .dataframe thead th {\n",
       "        text-align: right;\n",
       "    }\n",
       "</style>\n",
       "<table border=\"1\" class=\"dataframe\">\n",
       "  <thead>\n",
       "    <tr style=\"text-align: right;\">\n",
       "      <th></th>\n",
       "      <th>_id</th>\n",
       "      <th>text</th>\n",
       "    </tr>\n",
       "  </thead>\n",
       "  <tbody>\n",
       "    <tr>\n",
       "      <th>0</th>\n",
       "      <td>2d3e200a-8ddf-4062-a678-f5d0401c54ad</td>\n",
       "      <td>Who is at risk for Lymphocytic Choriomeningiti...</td>\n",
       "    </tr>\n",
       "    <tr>\n",
       "      <th>2</th>\n",
       "      <td>e385efaa-fc37-4ae4-9f85-bc5c0d09e5bc</td>\n",
       "      <td>Who is at risk for Lymphocytic Choriomeningiti...</td>\n",
       "    </tr>\n",
       "    <tr>\n",
       "      <th>55</th>\n",
       "      <td>37b0c3df-84fb-4789-a414-92ddcf9f9c93</td>\n",
       "      <td>Who is at risk for Alkhurma Hemorrhagic Fever ...</td>\n",
       "    </tr>\n",
       "    <tr>\n",
       "      <th>57</th>\n",
       "      <td>c4e4428a-597f-48f3-9f53-b9ee2ebd6e6e</td>\n",
       "      <td>Who is at risk for Alkhurma Hemorrhagic Fever ...</td>\n",
       "    </tr>\n",
       "    <tr>\n",
       "      <th>87</th>\n",
       "      <td>a167f41d-088a-442f-9f67-4b63f2fb58a6</td>\n",
       "      <td>Who is at risk for Marburg hemorrhagic fever (...</td>\n",
       "    </tr>\n",
       "    <tr>\n",
       "      <th>...</th>\n",
       "      <td>...</td>\n",
       "      <td>...</td>\n",
       "    </tr>\n",
       "    <tr>\n",
       "      <th>2039</th>\n",
       "      <td>c94a5b9f-29a8-4c56-834b-c14bf5b7ae6b</td>\n",
       "      <td>What is (are) Primary Hyperparathyroidism ?</td>\n",
       "    </tr>\n",
       "    <tr>\n",
       "      <th>2042</th>\n",
       "      <td>8a105170-77a8-4706-8fbc-c33b65fe7a69</td>\n",
       "      <td>How to diagnose Primary Hyperparathyroidism ?</td>\n",
       "    </tr>\n",
       "    <tr>\n",
       "      <th>2043</th>\n",
       "      <td>41205ac9-b711-464a-83ff-feeb151e677b</td>\n",
       "      <td>How to diagnose Primary Hyperparathyroidism ?</td>\n",
       "    </tr>\n",
       "    <tr>\n",
       "      <th>2045</th>\n",
       "      <td>2ac6e1b0-09b3-4457-93a4-933e1c72103b</td>\n",
       "      <td>What to do for Primary Hyperparathyroidism ?</td>\n",
       "    </tr>\n",
       "    <tr>\n",
       "      <th>2046</th>\n",
       "      <td>33020485-905e-4052-9086-97cbe809c5f1</td>\n",
       "      <td>What to do for Primary Hyperparathyroidism ?</td>\n",
       "    </tr>\n",
       "  </tbody>\n",
       "</table>\n",
       "<p>394 rows × 2 columns</p>\n",
       "</div>"
      ],
      "text/plain": [
       "                                       _id  \\\n",
       "0     2d3e200a-8ddf-4062-a678-f5d0401c54ad   \n",
       "2     e385efaa-fc37-4ae4-9f85-bc5c0d09e5bc   \n",
       "55    37b0c3df-84fb-4789-a414-92ddcf9f9c93   \n",
       "57    c4e4428a-597f-48f3-9f53-b9ee2ebd6e6e   \n",
       "87    a167f41d-088a-442f-9f67-4b63f2fb58a6   \n",
       "...                                    ...   \n",
       "2039  c94a5b9f-29a8-4c56-834b-c14bf5b7ae6b   \n",
       "2042  8a105170-77a8-4706-8fbc-c33b65fe7a69   \n",
       "2043  41205ac9-b711-464a-83ff-feeb151e677b   \n",
       "2045  2ac6e1b0-09b3-4457-93a4-933e1c72103b   \n",
       "2046  33020485-905e-4052-9086-97cbe809c5f1   \n",
       "\n",
       "                                                   text  \n",
       "0     Who is at risk for Lymphocytic Choriomeningiti...  \n",
       "2     Who is at risk for Lymphocytic Choriomeningiti...  \n",
       "55    Who is at risk for Alkhurma Hemorrhagic Fever ...  \n",
       "57    Who is at risk for Alkhurma Hemorrhagic Fever ...  \n",
       "87    Who is at risk for Marburg hemorrhagic fever (...  \n",
       "...                                                 ...  \n",
       "2039        What is (are) Primary Hyperparathyroidism ?  \n",
       "2042      How to diagnose Primary Hyperparathyroidism ?  \n",
       "2043      How to diagnose Primary Hyperparathyroidism ?  \n",
       "2045       What to do for Primary Hyperparathyroidism ?  \n",
       "2046       What to do for Primary Hyperparathyroidism ?  \n",
       "\n",
       "[394 rows x 2 columns]"
      ]
     },
     "execution_count": 124,
     "metadata": {},
     "output_type": "execute_result"
    }
   ],
   "source": [
    "duplicated_queries"
   ]
  },
  {
   "cell_type": "code",
   "execution_count": 117,
   "metadata": {},
   "outputs": [
    {
     "data": {
      "text/html": [
       "<div>\n",
       "<style scoped>\n",
       "    .dataframe tbody tr th:only-of-type {\n",
       "        vertical-align: middle;\n",
       "    }\n",
       "\n",
       "    .dataframe tbody tr th {\n",
       "        vertical-align: top;\n",
       "    }\n",
       "\n",
       "    .dataframe thead th {\n",
       "        text-align: right;\n",
       "    }\n",
       "</style>\n",
       "<table border=\"1\" class=\"dataframe\">\n",
       "  <thead>\n",
       "    <tr style=\"text-align: right;\">\n",
       "      <th></th>\n",
       "      <th>_id</th>\n",
       "      <th>text</th>\n",
       "    </tr>\n",
       "  </thead>\n",
       "  <tbody>\n",
       "    <tr>\n",
       "      <th>0</th>\n",
       "      <td>2d3e200a-8ddf-4062-a678-f5d0401c54ad</td>\n",
       "      <td>Who is at risk for Lymphocytic Choriomeningiti...</td>\n",
       "    </tr>\n",
       "    <tr>\n",
       "      <th>1</th>\n",
       "      <td>bf3b28a5-db6f-412d-96f1-d67d17bcaef8</td>\n",
       "      <td>What are the symptoms of Lymphocytic Choriomen...</td>\n",
       "    </tr>\n",
       "    <tr>\n",
       "      <th>3</th>\n",
       "      <td>ebb4ab78-ff5f-4e78-ac14-bb98760c2a0a</td>\n",
       "      <td>How to diagnose Lymphocytic Choriomeningitis (...</td>\n",
       "    </tr>\n",
       "    <tr>\n",
       "      <th>4</th>\n",
       "      <td>9fd75f16-1bd5-4451-af69-5885b7d5267a</td>\n",
       "      <td>What are the treatments for Lymphocytic Chorio...</td>\n",
       "    </tr>\n",
       "    <tr>\n",
       "      <th>5</th>\n",
       "      <td>0f303917-6e53-449c-8242-7ab82e8fb78f</td>\n",
       "      <td>How to prevent Lymphocytic Choriomeningitis (L...</td>\n",
       "    </tr>\n",
       "    <tr>\n",
       "      <th>...</th>\n",
       "      <td>...</td>\n",
       "      <td>...</td>\n",
       "    </tr>\n",
       "    <tr>\n",
       "      <th>2041</th>\n",
       "      <td>8e88d11c-e574-450a-ade4-c3f96756cb51</td>\n",
       "      <td>What are the symptoms of Primary Hyperparathyr...</td>\n",
       "    </tr>\n",
       "    <tr>\n",
       "      <th>2042</th>\n",
       "      <td>8a105170-77a8-4706-8fbc-c33b65fe7a69</td>\n",
       "      <td>How to diagnose Primary Hyperparathyroidism ?</td>\n",
       "    </tr>\n",
       "    <tr>\n",
       "      <th>2044</th>\n",
       "      <td>2fdc3c5b-fdd7-4402-b5f2-edbadf83889d</td>\n",
       "      <td>What are the treatments for Primary Hyperparat...</td>\n",
       "    </tr>\n",
       "    <tr>\n",
       "      <th>2045</th>\n",
       "      <td>2ac6e1b0-09b3-4457-93a4-933e1c72103b</td>\n",
       "      <td>What to do for Primary Hyperparathyroidism ?</td>\n",
       "    </tr>\n",
       "    <tr>\n",
       "      <th>2047</th>\n",
       "      <td>c20f7a35-586c-4c80-ae3f-6a6c8bed99b2</td>\n",
       "      <td>What is (are) Urinary Incontinence in Men ?</td>\n",
       "    </tr>\n",
       "  </tbody>\n",
       "</table>\n",
       "<p>1820 rows × 2 columns</p>\n",
       "</div>"
      ],
      "text/plain": [
       "                                       _id  \\\n",
       "0     2d3e200a-8ddf-4062-a678-f5d0401c54ad   \n",
       "1     bf3b28a5-db6f-412d-96f1-d67d17bcaef8   \n",
       "3     ebb4ab78-ff5f-4e78-ac14-bb98760c2a0a   \n",
       "4     9fd75f16-1bd5-4451-af69-5885b7d5267a   \n",
       "5     0f303917-6e53-449c-8242-7ab82e8fb78f   \n",
       "...                                    ...   \n",
       "2041  8e88d11c-e574-450a-ade4-c3f96756cb51   \n",
       "2042  8a105170-77a8-4706-8fbc-c33b65fe7a69   \n",
       "2044  2fdc3c5b-fdd7-4402-b5f2-edbadf83889d   \n",
       "2045  2ac6e1b0-09b3-4457-93a4-933e1c72103b   \n",
       "2047  c20f7a35-586c-4c80-ae3f-6a6c8bed99b2   \n",
       "\n",
       "                                                   text  \n",
       "0     Who is at risk for Lymphocytic Choriomeningiti...  \n",
       "1     What are the symptoms of Lymphocytic Choriomen...  \n",
       "3     How to diagnose Lymphocytic Choriomeningitis (...  \n",
       "4     What are the treatments for Lymphocytic Chorio...  \n",
       "5     How to prevent Lymphocytic Choriomeningitis (L...  \n",
       "...                                                 ...  \n",
       "2041  What are the symptoms of Primary Hyperparathyr...  \n",
       "2042      How to diagnose Primary Hyperparathyroidism ?  \n",
       "2044  What are the treatments for Primary Hyperparat...  \n",
       "2045       What to do for Primary Hyperparathyroidism ?  \n",
       "2047        What is (are) Urinary Incontinence in Men ?  \n",
       "\n",
       "[1820 rows x 2 columns]"
      ]
     },
     "execution_count": 117,
     "metadata": {},
     "output_type": "execute_result"
    }
   ],
   "source": [
    "medical_qa_queries_deduplicated"
   ]
  },
  {
   "cell_type": "code",
   "execution_count": 104,
   "metadata": {},
   "outputs": [
    {
     "data": {
      "text/plain": [
       "2048"
      ]
     },
     "execution_count": 104,
     "metadata": {},
     "output_type": "execute_result"
    }
   ],
   "source": [
    "len(medical_qa_default_qa_df)"
   ]
  },
  {
   "cell_type": "code",
   "execution_count": 109,
   "metadata": {},
   "outputs": [
    {
     "data": {
      "text/plain": [
       "2048"
      ]
     },
     "execution_count": 109,
     "metadata": {},
     "output_type": "execute_result"
    }
   ],
   "source": [
    "medical_qa_default_qa_df_deduplicated = medical_qa_default_qa_df.drop_duplicates(subset=['query-id', 'corpus-id'], keep='first')\n",
    "len(medical_qa_default_qa_df_deduplicated)"
   ]
  },
  {
   "cell_type": "markdown",
   "metadata": {},
   "source": [
    "No duplicate pairs, so filter for what we found above"
   ]
  },
  {
   "cell_type": "code",
   "execution_count": 127,
   "metadata": {},
   "outputs": [
    {
     "data": {
      "text/plain": [
       "2048"
      ]
     },
     "execution_count": 127,
     "metadata": {},
     "output_type": "execute_result"
    }
   ],
   "source": [
    "len(medical_qa_default_qa_df)"
   ]
  },
  {
   "cell_type": "code",
   "execution_count": 125,
   "metadata": {},
   "outputs": [
    {
     "data": {
      "text/html": [
       "<div>\n",
       "<style scoped>\n",
       "    .dataframe tbody tr th:only-of-type {\n",
       "        vertical-align: middle;\n",
       "    }\n",
       "\n",
       "    .dataframe tbody tr th {\n",
       "        vertical-align: top;\n",
       "    }\n",
       "\n",
       "    .dataframe thead th {\n",
       "        text-align: right;\n",
       "    }\n",
       "</style>\n",
       "<table border=\"1\" class=\"dataframe\">\n",
       "  <thead>\n",
       "    <tr style=\"text-align: right;\">\n",
       "      <th></th>\n",
       "      <th>query-id</th>\n",
       "      <th>corpus-id</th>\n",
       "      <th>score</th>\n",
       "    </tr>\n",
       "  </thead>\n",
       "  <tbody>\n",
       "    <tr>\n",
       "      <th>0</th>\n",
       "      <td>2d3e200a-8ddf-4062-a678-f5d0401c54ad</td>\n",
       "      <td>0377f7ec-d481-4bb2-a878-5d279a2a11fe</td>\n",
       "      <td>1.0</td>\n",
       "    </tr>\n",
       "    <tr>\n",
       "      <th>1</th>\n",
       "      <td>bf3b28a5-db6f-412d-96f1-d67d17bcaef8</td>\n",
       "      <td>2f249bba-2201-424f-8515-182cd5272cd9</td>\n",
       "      <td>1.0</td>\n",
       "    </tr>\n",
       "    <tr>\n",
       "      <th>2</th>\n",
       "      <td>2d3e200a-8ddf-4062-a678-f5d0401c54ad</td>\n",
       "      <td>935eb313-ccf5-4135-9de6-f6b9cfb6a8f5</td>\n",
       "      <td>1.0</td>\n",
       "    </tr>\n",
       "    <tr>\n",
       "      <th>3</th>\n",
       "      <td>ebb4ab78-ff5f-4e78-ac14-bb98760c2a0a</td>\n",
       "      <td>f28f93b1-0df2-47cf-9349-e85683402cf8</td>\n",
       "      <td>1.0</td>\n",
       "    </tr>\n",
       "    <tr>\n",
       "      <th>4</th>\n",
       "      <td>9fd75f16-1bd5-4451-af69-5885b7d5267a</td>\n",
       "      <td>8e253cda-fa64-4f77-ae17-e1d8774f96bb</td>\n",
       "      <td>1.0</td>\n",
       "    </tr>\n",
       "  </tbody>\n",
       "</table>\n",
       "</div>"
      ],
      "text/plain": [
       "                               query-id                             corpus-id  \\\n",
       "0  2d3e200a-8ddf-4062-a678-f5d0401c54ad  0377f7ec-d481-4bb2-a878-5d279a2a11fe   \n",
       "1  bf3b28a5-db6f-412d-96f1-d67d17bcaef8  2f249bba-2201-424f-8515-182cd5272cd9   \n",
       "2  2d3e200a-8ddf-4062-a678-f5d0401c54ad  935eb313-ccf5-4135-9de6-f6b9cfb6a8f5   \n",
       "3  ebb4ab78-ff5f-4e78-ac14-bb98760c2a0a  f28f93b1-0df2-47cf-9349-e85683402cf8   \n",
       "4  9fd75f16-1bd5-4451-af69-5885b7d5267a  8e253cda-fa64-4f77-ae17-e1d8774f96bb   \n",
       "\n",
       "   score  \n",
       "0    1.0  \n",
       "1    1.0  \n",
       "2    1.0  \n",
       "3    1.0  \n",
       "4    1.0  "
      ]
     },
     "execution_count": 125,
     "metadata": {},
     "output_type": "execute_result"
    }
   ],
   "source": [
    "query_id_mapping = duplicated_queries.groupby('text')['_id'].first().to_dict()\n",
    "corpus_id_mapping = duplicated_corpus.groupby('text')['_id'].first().to_dict()\n",
    "query_id_replacement = {row['_id']: query_id_mapping[row['text']] for _, row in duplicated_queries.iterrows()}\n",
    "corpus_id_replacement = {row['_id']: corpus_id_mapping[row['text']] for _, row in duplicated_corpus.iterrows()}\n",
    "\n",
    "medical_qa_default_qa_df['query-id'] = medical_qa_default_qa_df['query-id'].replace(query_id_replacement)\n",
    "medical_qa_default_qa_df['corpus-id'] = medical_qa_default_qa_df['corpus-id'].replace(corpus_id_replacement)\n",
    "\n",
    "medical_qa_default_qa_df_deduplicated = medical_qa_default_qa_df.drop_duplicates(subset=['query-id', 'corpus-id'])\n",
    "\n",
    "medical_qa_default_qa_df_deduplicated.head()"
   ]
  },
  {
   "cell_type": "code",
   "execution_count": 126,
   "metadata": {},
   "outputs": [
    {
     "data": {
      "text/plain": [
       "2019"
      ]
     },
     "execution_count": 126,
     "metadata": {},
     "output_type": "execute_result"
    }
   ],
   "source": [
    "len(medical_qa_default_qa_df_deduplicated)"
   ]
  },
  {
   "cell_type": "code",
   "execution_count": 134,
   "metadata": {},
   "outputs": [
    {
     "data": {
      "text/html": [
       "<div>\n",
       "<style scoped>\n",
       "    .dataframe tbody tr th:only-of-type {\n",
       "        vertical-align: middle;\n",
       "    }\n",
       "\n",
       "    .dataframe tbody tr th {\n",
       "        vertical-align: top;\n",
       "    }\n",
       "\n",
       "    .dataframe thead th {\n",
       "        text-align: right;\n",
       "    }\n",
       "</style>\n",
       "<table border=\"1\" class=\"dataframe\">\n",
       "  <thead>\n",
       "    <tr style=\"text-align: right;\">\n",
       "      <th></th>\n",
       "      <th>_id</th>\n",
       "      <th>text</th>\n",
       "    </tr>\n",
       "  </thead>\n",
       "  <tbody>\n",
       "    <tr>\n",
       "      <th>0</th>\n",
       "      <td>2d3e200a-8ddf-4062-a678-f5d0401c54ad</td>\n",
       "      <td>Who is at risk for Lymphocytic Choriomeningiti...</td>\n",
       "    </tr>\n",
       "    <tr>\n",
       "      <th>1</th>\n",
       "      <td>bf3b28a5-db6f-412d-96f1-d67d17bcaef8</td>\n",
       "      <td>What are the symptoms of Lymphocytic Choriomen...</td>\n",
       "    </tr>\n",
       "    <tr>\n",
       "      <th>3</th>\n",
       "      <td>ebb4ab78-ff5f-4e78-ac14-bb98760c2a0a</td>\n",
       "      <td>How to diagnose Lymphocytic Choriomeningitis (...</td>\n",
       "    </tr>\n",
       "    <tr>\n",
       "      <th>4</th>\n",
       "      <td>9fd75f16-1bd5-4451-af69-5885b7d5267a</td>\n",
       "      <td>What are the treatments for Lymphocytic Chorio...</td>\n",
       "    </tr>\n",
       "    <tr>\n",
       "      <th>5</th>\n",
       "      <td>0f303917-6e53-449c-8242-7ab82e8fb78f</td>\n",
       "      <td>How to prevent Lymphocytic Choriomeningitis (L...</td>\n",
       "    </tr>\n",
       "    <tr>\n",
       "      <th>6</th>\n",
       "      <td>4a4eb447-3a4b-4cfa-b244-63d951527d06</td>\n",
       "      <td>What is (are) Parasites - Cysticercosis ?</td>\n",
       "    </tr>\n",
       "    <tr>\n",
       "      <th>7</th>\n",
       "      <td>061c5091-8d9f-4b40-ae1e-ef7554f347a1</td>\n",
       "      <td>Who is at risk for Parasites - Cysticercosis? ?</td>\n",
       "    </tr>\n",
       "    <tr>\n",
       "      <th>8</th>\n",
       "      <td>dda9da1d-3dbd-4d58-b0c3-84690b5b5488</td>\n",
       "      <td>How to diagnose Parasites - Cysticercosis ?</td>\n",
       "    </tr>\n",
       "    <tr>\n",
       "      <th>9</th>\n",
       "      <td>703f96ef-019c-4313-938c-6309362b280b</td>\n",
       "      <td>What are the treatments for Parasites - Cystic...</td>\n",
       "    </tr>\n",
       "    <tr>\n",
       "      <th>10</th>\n",
       "      <td>23a00128-e91c-4e27-969d-35ff3aeaf16d</td>\n",
       "      <td>How to prevent Parasites - Cysticercosis ?</td>\n",
       "    </tr>\n",
       "    <tr>\n",
       "      <th>11</th>\n",
       "      <td>e1928d15-edfc-4da5-b55c-105d9f082394</td>\n",
       "      <td>What is (are) Parasites - Trichuriasis (also k...</td>\n",
       "    </tr>\n",
       "    <tr>\n",
       "      <th>12</th>\n",
       "      <td>13d798ff-8990-4cab-a649-9e5575bbfdfe</td>\n",
       "      <td>Who is at risk for Parasites - Trichuriasis (a...</td>\n",
       "    </tr>\n",
       "    <tr>\n",
       "      <th>13</th>\n",
       "      <td>c8ec32b7-87c2-4fec-95a6-d56dc6030fa4</td>\n",
       "      <td>How to diagnose Parasites - Trichuriasis (also...</td>\n",
       "    </tr>\n",
       "    <tr>\n",
       "      <th>14</th>\n",
       "      <td>c6f39623-8917-4407-9257-0087d36ee378</td>\n",
       "      <td>What are the treatments for Parasites - Trichu...</td>\n",
       "    </tr>\n",
       "    <tr>\n",
       "      <th>15</th>\n",
       "      <td>261f9be2-4686-4df1-b186-233947da3000</td>\n",
       "      <td>How to prevent Parasites - Trichuriasis (also ...</td>\n",
       "    </tr>\n",
       "    <tr>\n",
       "      <th>16</th>\n",
       "      <td>b38e417a-ab05-41b3-aa06-3fb39d1d0a96</td>\n",
       "      <td>what are marine toxins?</td>\n",
       "    </tr>\n",
       "    <tr>\n",
       "      <th>17</th>\n",
       "      <td>e9cb89fb-4668-4949-9228-c47003e496ab</td>\n",
       "      <td>how can these diseases be diagnosed for Marine...</td>\n",
       "    </tr>\n",
       "    <tr>\n",
       "      <th>18</th>\n",
       "      <td>69f8d07b-0b17-4c51-8e55-881abaa47528</td>\n",
       "      <td>how can these diseases be treated for Marine T...</td>\n",
       "    </tr>\n",
       "    <tr>\n",
       "      <th>19</th>\n",
       "      <td>e4be7bb3-ee6d-46ea-8625-b75dff7ea177</td>\n",
       "      <td>how common are these diseases for Marine Toxins ?</td>\n",
       "    </tr>\n",
       "    <tr>\n",
       "      <th>20</th>\n",
       "      <td>bfe00097-743f-4f88-acc4-9fc2ceadea5a</td>\n",
       "      <td>what can i do to prevent poisoning by marine t...</td>\n",
       "    </tr>\n",
       "    <tr>\n",
       "      <th>21</th>\n",
       "      <td>a605f977-6760-47bf-8b42-9f0eb73e8dbd</td>\n",
       "      <td>what is the government doing about these disea...</td>\n",
       "    </tr>\n",
       "    <tr>\n",
       "      <th>22</th>\n",
       "      <td>005d31a7-615d-4e82-b5a7-9f9b60db9cf7</td>\n",
       "      <td>what else can be done to prevent these disease...</td>\n",
       "    </tr>\n",
       "    <tr>\n",
       "      <th>23</th>\n",
       "      <td>6703d7b3-5450-4d72-bfe2-87765aff627e</td>\n",
       "      <td>What is (are) Yellow Fever Vaccination ?</td>\n",
       "    </tr>\n",
       "    <tr>\n",
       "      <th>24</th>\n",
       "      <td>cf7a2eaf-d962-4afc-882f-33273340070d</td>\n",
       "      <td>What is (are) Parasites - Schistosomiasis ?</td>\n",
       "    </tr>\n",
       "    <tr>\n",
       "      <th>25</th>\n",
       "      <td>827a02e6-746b-43c2-93fc-ec743634c70f</td>\n",
       "      <td>Who is at risk for Parasites - Schistosomiasis? ?</td>\n",
       "    </tr>\n",
       "    <tr>\n",
       "      <th>26</th>\n",
       "      <td>3fa2314e-2d36-4967-b3cb-91be3330e8e5</td>\n",
       "      <td>How to diagnose Parasites - Schistosomiasis ?</td>\n",
       "    </tr>\n",
       "    <tr>\n",
       "      <th>27</th>\n",
       "      <td>a46c630d-a957-49cc-a31b-956dd60fba19</td>\n",
       "      <td>What are the treatments for Parasites - Schist...</td>\n",
       "    </tr>\n",
       "    <tr>\n",
       "      <th>28</th>\n",
       "      <td>c18a4484-b1d6-4ef8-9e4f-dd03c90a10d9</td>\n",
       "      <td>How to prevent Parasites - Schistosomiasis ?</td>\n",
       "    </tr>\n",
       "    <tr>\n",
       "      <th>29</th>\n",
       "      <td>bb532b38-6e3f-45ed-967d-01b447a0edde</td>\n",
       "      <td>What is (are) Parasites - Lice - Head Lice ?</td>\n",
       "    </tr>\n",
       "    <tr>\n",
       "      <th>30</th>\n",
       "      <td>cbee9982-6266-45f6-bbdf-18f37143f0b7</td>\n",
       "      <td>Who is at risk for Parasites - Lice - Head Lic...</td>\n",
       "    </tr>\n",
       "    <tr>\n",
       "      <th>31</th>\n",
       "      <td>ae054cc9-fdd3-4ddc-9354-77d1ddfddf66</td>\n",
       "      <td>How to diagnose Parasites - Lice - Head Lice ?</td>\n",
       "    </tr>\n",
       "    <tr>\n",
       "      <th>32</th>\n",
       "      <td>50585512-b0b2-4794-84a8-9b623d023abe</td>\n",
       "      <td>What are the treatments for Parasites - Lice -...</td>\n",
       "    </tr>\n",
       "    <tr>\n",
       "      <th>33</th>\n",
       "      <td>39d33a9c-7d1d-47ad-aefc-aa6e1c944998</td>\n",
       "      <td>How to prevent Parasites - Lice - Head Lice ?</td>\n",
       "    </tr>\n",
       "    <tr>\n",
       "      <th>34</th>\n",
       "      <td>c0d388a9-0153-4e07-b49c-4064a95e72b7</td>\n",
       "      <td>What is (are) Parasites - Lice - Body Lice ?</td>\n",
       "    </tr>\n",
       "    <tr>\n",
       "      <th>35</th>\n",
       "      <td>355e6fd5-bfcb-4520-96d0-ee1cf280a8bf</td>\n",
       "      <td>Who is at risk for Parasites - Lice - Body Lic...</td>\n",
       "    </tr>\n",
       "    <tr>\n",
       "      <th>36</th>\n",
       "      <td>9f301535-b246-40ff-b715-5fc475bf0cfc</td>\n",
       "      <td>How to diagnose Parasites - Lice - Body Lice ?</td>\n",
       "    </tr>\n",
       "    <tr>\n",
       "      <th>37</th>\n",
       "      <td>c1ba804f-1ed8-43e0-be7b-d973994aab62</td>\n",
       "      <td>What are the treatments for Parasites - Lice -...</td>\n",
       "    </tr>\n",
       "    <tr>\n",
       "      <th>38</th>\n",
       "      <td>783c4a8b-4347-453a-b932-03a150ea7d47</td>\n",
       "      <td>How to prevent Parasites - Lice - Body Lice ?</td>\n",
       "    </tr>\n",
       "    <tr>\n",
       "      <th>39</th>\n",
       "      <td>72065337-dbc1-4802-8b61-636a56e94502</td>\n",
       "      <td>How to prevent La Crosse Encephalitis ?</td>\n",
       "    </tr>\n",
       "    <tr>\n",
       "      <th>40</th>\n",
       "      <td>71b34a2b-c8ee-437a-842e-428aa9c1f02e</td>\n",
       "      <td>What is (are) Parasites - Toxocariasis (also k...</td>\n",
       "    </tr>\n",
       "    <tr>\n",
       "      <th>41</th>\n",
       "      <td>c58b3e2c-045b-4665-bb25-9f45b9459dbe</td>\n",
       "      <td>Who is at risk for Parasites - Toxocariasis (a...</td>\n",
       "    </tr>\n",
       "    <tr>\n",
       "      <th>42</th>\n",
       "      <td>c2aa3728-ad24-480e-b0ba-d5097048bc92</td>\n",
       "      <td>How to diagnose Parasites - Toxocariasis (also...</td>\n",
       "    </tr>\n",
       "    <tr>\n",
       "      <th>43</th>\n",
       "      <td>5048638b-ae01-4241-bbc9-fe853dc1e381</td>\n",
       "      <td>What are the treatments for Parasites - Toxoca...</td>\n",
       "    </tr>\n",
       "    <tr>\n",
       "      <th>44</th>\n",
       "      <td>f4f217fa-4d40-4320-a7d5-4802b17dd2f1</td>\n",
       "      <td>How to prevent Parasites - Toxocariasis (also ...</td>\n",
       "    </tr>\n",
       "    <tr>\n",
       "      <th>45</th>\n",
       "      <td>2d586cae-0a2f-4bee-94b5-fb60b1fcbf03</td>\n",
       "      <td>What is (are) Acanthamoeba - Granulomatous Ame...</td>\n",
       "    </tr>\n",
       "    <tr>\n",
       "      <th>46</th>\n",
       "      <td>92a8082f-a2b9-457a-8c83-b074eca068d5</td>\n",
       "      <td>Who is at risk for Acanthamoeba - Granulomatou...</td>\n",
       "    </tr>\n",
       "    <tr>\n",
       "      <th>47</th>\n",
       "      <td>34f59937-eaaa-4808-b403-c4acf50ea3ff</td>\n",
       "      <td>How to diagnose Acanthamoeba - Granulomatous A...</td>\n",
       "    </tr>\n",
       "    <tr>\n",
       "      <th>48</th>\n",
       "      <td>bda4c585-fc59-414b-a73e-9ec2bb057524</td>\n",
       "      <td>What are the treatments for Acanthamoeba - Gra...</td>\n",
       "    </tr>\n",
       "    <tr>\n",
       "      <th>49</th>\n",
       "      <td>6722838d-b96e-4eac-8c73-5ea667bfa18b</td>\n",
       "      <td>How to prevent Acanthamoeba - Granulomatous Am...</td>\n",
       "    </tr>\n",
       "    <tr>\n",
       "      <th>50</th>\n",
       "      <td>f773d98c-3025-4858-abf9-5d096b622b92</td>\n",
       "      <td>What is (are) Parasites - Scabies ?</td>\n",
       "    </tr>\n",
       "  </tbody>\n",
       "</table>\n",
       "</div>"
      ],
      "text/plain": [
       "                                     _id  \\\n",
       "0   2d3e200a-8ddf-4062-a678-f5d0401c54ad   \n",
       "1   bf3b28a5-db6f-412d-96f1-d67d17bcaef8   \n",
       "3   ebb4ab78-ff5f-4e78-ac14-bb98760c2a0a   \n",
       "4   9fd75f16-1bd5-4451-af69-5885b7d5267a   \n",
       "5   0f303917-6e53-449c-8242-7ab82e8fb78f   \n",
       "6   4a4eb447-3a4b-4cfa-b244-63d951527d06   \n",
       "7   061c5091-8d9f-4b40-ae1e-ef7554f347a1   \n",
       "8   dda9da1d-3dbd-4d58-b0c3-84690b5b5488   \n",
       "9   703f96ef-019c-4313-938c-6309362b280b   \n",
       "10  23a00128-e91c-4e27-969d-35ff3aeaf16d   \n",
       "11  e1928d15-edfc-4da5-b55c-105d9f082394   \n",
       "12  13d798ff-8990-4cab-a649-9e5575bbfdfe   \n",
       "13  c8ec32b7-87c2-4fec-95a6-d56dc6030fa4   \n",
       "14  c6f39623-8917-4407-9257-0087d36ee378   \n",
       "15  261f9be2-4686-4df1-b186-233947da3000   \n",
       "16  b38e417a-ab05-41b3-aa06-3fb39d1d0a96   \n",
       "17  e9cb89fb-4668-4949-9228-c47003e496ab   \n",
       "18  69f8d07b-0b17-4c51-8e55-881abaa47528   \n",
       "19  e4be7bb3-ee6d-46ea-8625-b75dff7ea177   \n",
       "20  bfe00097-743f-4f88-acc4-9fc2ceadea5a   \n",
       "21  a605f977-6760-47bf-8b42-9f0eb73e8dbd   \n",
       "22  005d31a7-615d-4e82-b5a7-9f9b60db9cf7   \n",
       "23  6703d7b3-5450-4d72-bfe2-87765aff627e   \n",
       "24  cf7a2eaf-d962-4afc-882f-33273340070d   \n",
       "25  827a02e6-746b-43c2-93fc-ec743634c70f   \n",
       "26  3fa2314e-2d36-4967-b3cb-91be3330e8e5   \n",
       "27  a46c630d-a957-49cc-a31b-956dd60fba19   \n",
       "28  c18a4484-b1d6-4ef8-9e4f-dd03c90a10d9   \n",
       "29  bb532b38-6e3f-45ed-967d-01b447a0edde   \n",
       "30  cbee9982-6266-45f6-bbdf-18f37143f0b7   \n",
       "31  ae054cc9-fdd3-4ddc-9354-77d1ddfddf66   \n",
       "32  50585512-b0b2-4794-84a8-9b623d023abe   \n",
       "33  39d33a9c-7d1d-47ad-aefc-aa6e1c944998   \n",
       "34  c0d388a9-0153-4e07-b49c-4064a95e72b7   \n",
       "35  355e6fd5-bfcb-4520-96d0-ee1cf280a8bf   \n",
       "36  9f301535-b246-40ff-b715-5fc475bf0cfc   \n",
       "37  c1ba804f-1ed8-43e0-be7b-d973994aab62   \n",
       "38  783c4a8b-4347-453a-b932-03a150ea7d47   \n",
       "39  72065337-dbc1-4802-8b61-636a56e94502   \n",
       "40  71b34a2b-c8ee-437a-842e-428aa9c1f02e   \n",
       "41  c58b3e2c-045b-4665-bb25-9f45b9459dbe   \n",
       "42  c2aa3728-ad24-480e-b0ba-d5097048bc92   \n",
       "43  5048638b-ae01-4241-bbc9-fe853dc1e381   \n",
       "44  f4f217fa-4d40-4320-a7d5-4802b17dd2f1   \n",
       "45  2d586cae-0a2f-4bee-94b5-fb60b1fcbf03   \n",
       "46  92a8082f-a2b9-457a-8c83-b074eca068d5   \n",
       "47  34f59937-eaaa-4808-b403-c4acf50ea3ff   \n",
       "48  bda4c585-fc59-414b-a73e-9ec2bb057524   \n",
       "49  6722838d-b96e-4eac-8c73-5ea667bfa18b   \n",
       "50  f773d98c-3025-4858-abf9-5d096b622b92   \n",
       "\n",
       "                                                 text  \n",
       "0   Who is at risk for Lymphocytic Choriomeningiti...  \n",
       "1   What are the symptoms of Lymphocytic Choriomen...  \n",
       "3   How to diagnose Lymphocytic Choriomeningitis (...  \n",
       "4   What are the treatments for Lymphocytic Chorio...  \n",
       "5   How to prevent Lymphocytic Choriomeningitis (L...  \n",
       "6           What is (are) Parasites - Cysticercosis ?  \n",
       "7     Who is at risk for Parasites - Cysticercosis? ?  \n",
       "8         How to diagnose Parasites - Cysticercosis ?  \n",
       "9   What are the treatments for Parasites - Cystic...  \n",
       "10         How to prevent Parasites - Cysticercosis ?  \n",
       "11  What is (are) Parasites - Trichuriasis (also k...  \n",
       "12  Who is at risk for Parasites - Trichuriasis (a...  \n",
       "13  How to diagnose Parasites - Trichuriasis (also...  \n",
       "14  What are the treatments for Parasites - Trichu...  \n",
       "15  How to prevent Parasites - Trichuriasis (also ...  \n",
       "16                            what are marine toxins?  \n",
       "17  how can these diseases be diagnosed for Marine...  \n",
       "18  how can these diseases be treated for Marine T...  \n",
       "19  how common are these diseases for Marine Toxins ?  \n",
       "20  what can i do to prevent poisoning by marine t...  \n",
       "21  what is the government doing about these disea...  \n",
       "22  what else can be done to prevent these disease...  \n",
       "23           What is (are) Yellow Fever Vaccination ?  \n",
       "24        What is (are) Parasites - Schistosomiasis ?  \n",
       "25  Who is at risk for Parasites - Schistosomiasis? ?  \n",
       "26      How to diagnose Parasites - Schistosomiasis ?  \n",
       "27  What are the treatments for Parasites - Schist...  \n",
       "28       How to prevent Parasites - Schistosomiasis ?  \n",
       "29       What is (are) Parasites - Lice - Head Lice ?  \n",
       "30  Who is at risk for Parasites - Lice - Head Lic...  \n",
       "31     How to diagnose Parasites - Lice - Head Lice ?  \n",
       "32  What are the treatments for Parasites - Lice -...  \n",
       "33      How to prevent Parasites - Lice - Head Lice ?  \n",
       "34       What is (are) Parasites - Lice - Body Lice ?  \n",
       "35  Who is at risk for Parasites - Lice - Body Lic...  \n",
       "36     How to diagnose Parasites - Lice - Body Lice ?  \n",
       "37  What are the treatments for Parasites - Lice -...  \n",
       "38      How to prevent Parasites - Lice - Body Lice ?  \n",
       "39            How to prevent La Crosse Encephalitis ?  \n",
       "40  What is (are) Parasites - Toxocariasis (also k...  \n",
       "41  Who is at risk for Parasites - Toxocariasis (a...  \n",
       "42  How to diagnose Parasites - Toxocariasis (also...  \n",
       "43  What are the treatments for Parasites - Toxoca...  \n",
       "44  How to prevent Parasites - Toxocariasis (also ...  \n",
       "45  What is (are) Acanthamoeba - Granulomatous Ame...  \n",
       "46  Who is at risk for Acanthamoeba - Granulomatou...  \n",
       "47  How to diagnose Acanthamoeba - Granulomatous A...  \n",
       "48  What are the treatments for Acanthamoeba - Gra...  \n",
       "49  How to prevent Acanthamoeba - Granulomatous Am...  \n",
       "50                What is (are) Parasites - Scabies ?  "
      ]
     },
     "execution_count": 134,
     "metadata": {},
     "output_type": "execute_result"
    }
   ],
   "source": [
    "medical_qa_queries_deduplicated.head(50)"
   ]
  },
  {
   "cell_type": "code",
   "execution_count": 136,
   "metadata": {},
   "outputs": [
    {
     "data": {
      "text/plain": [
       "'Prevention\\n    \\nNo vaccine is available.\\n    \\nThe best way to prevent schistosomiasis is to take the following steps if you are visiting or live in an area where schistosomiasis is transmitted:\\n    \\n     - Avoid swimming or wading in freshwater when you are in countries in which schistosomiasis occurs. Swimming in the ocean and in chlorinated swimming pools is safe.\\n     - Drink safe water. Although schistosomiasis is not transmitted by swallowing contaminated water, if your mouth or lips come in contact with water containing the parasites, you could become infected. Because water coming directly from canals, lakes, rivers, streams, or springs may be contaminated with a variety of infectious organisms, you should either bring your water to a rolling boil for 1 minute or filter water before drinking it. Bring your water to a rolling boil for at least 1 minute will kill any harmful parasites, bacteria, or viruses present. Iodine treatment alone WILL NOT GUARANTEE that water is safe and free of all parasites.\\n     - Water used for bathing should be brought to a rolling boil for 1 minute to kill any cercariae, and then cooled before bathing to avoid scalding. Water held in a storage tank for at least 1 - 2 days should be safe for bathing.\\n     - Vigorous towel drying after an accidental, very brief water exposure may help to prevent the Schistosoma parasite from penetrating the skin. However, do not rely on vigorous towel drying alone to prevent schistosomiasis.\\n    \\n    \\nThose who have had contact with potentially contaminated water overseas should see their health care provider after returning from travel to discuss testing.\\n    \\nMore on: Schistosomiasis in Travelers\\n   \\n  \\n  \\n   Control\\n   \\nIn countries where schistosomiasis causes significant disease, control efforts usually focus on:\\n   \\n    - reducing the number of infections in people and/or\\n    - eliminating the snails that are required to maintain the parasite’s life cycle.\\n   \\n   \\nFor all species that cause schistosomiasis, improved sanitation could reduce or eliminate transmission of this disease. In some areas with lower transmission levels, elimination of schistosomiasis is considered a \"winnable battle\" by public health officials.\\n   \\nControl measures can include mass drug treatment of entire communities and targeted treatment of school-age children. Some of the problems with control of schistosomiasis include:\\n   \\n    - Chemicals used to eliminate snails in freshwater sources may harm other species of animals in the water and, if treatment is not sustained, the snails may return to those sites afterwards.\\n    - For certain species of the parasite, such as S. japonicum, animals such as cows or water buffalo can also be infected. Runoff from pastures (if the cows are infected) can contaminate freshwater sources.'"
      ]
     },
     "execution_count": 136,
     "metadata": {},
     "output_type": "execute_result"
    }
   ],
   "source": [
    "medical_qa_corpus_deduplicated['text'][28]"
   ]
  },
  {
   "cell_type": "code",
   "execution_count": 143,
   "metadata": {},
   "outputs": [
    {
     "name": "stderr",
     "output_type": "stream",
     "text": [
      "/var/folders/tt/89j8tbqd2q3bnwxk83_csyn00000gn/T/ipykernel_2920/2279784849.py:1: SettingWithCopyWarning: \n",
      "A value is trying to be set on a copy of a slice from a DataFrame.\n",
      "Try using .loc[row_indexer,col_indexer] = value instead\n",
      "\n",
      "See the caveats in the documentation: https://pandas.pydata.org/pandas-docs/stable/user_guide/indexing.html#returning-a-view-versus-a-copy\n",
      "  medical_qa_corpus_deduplicated[\"text\"] = medical_qa_corpus_deduplicated[\"text\"].str.replace(\"\\n\", \" \", regex=True)\n"
     ]
    }
   ],
   "source": [
    "medical_qa_corpus_deduplicated[\"text\"] = medical_qa_corpus_deduplicated[\"text\"].str.replace(\"\\n\", \" \", regex=True)"
   ]
  },
  {
   "cell_type": "code",
   "execution_count": 144,
   "metadata": {},
   "outputs": [
    {
     "data": {
      "text/html": [
       "<div>\n",
       "<style scoped>\n",
       "    .dataframe tbody tr th:only-of-type {\n",
       "        vertical-align: middle;\n",
       "    }\n",
       "\n",
       "    .dataframe tbody tr th {\n",
       "        vertical-align: top;\n",
       "    }\n",
       "\n",
       "    .dataframe thead th {\n",
       "        text-align: right;\n",
       "    }\n",
       "</style>\n",
       "<table border=\"1\" class=\"dataframe\">\n",
       "  <thead>\n",
       "    <tr style=\"text-align: right;\">\n",
       "      <th></th>\n",
       "      <th>_id</th>\n",
       "      <th>title</th>\n",
       "      <th>text</th>\n",
       "    </tr>\n",
       "  </thead>\n",
       "  <tbody>\n",
       "    <tr>\n",
       "      <th>0</th>\n",
       "      <td>0377f7ec-d481-4bb2-a878-5d279a2a11fe</td>\n",
       "      <td></td>\n",
       "      <td>LCMV infections can occur after exposure to fr...</td>\n",
       "    </tr>\n",
       "    <tr>\n",
       "      <th>1</th>\n",
       "      <td>2f249bba-2201-424f-8515-182cd5272cd9</td>\n",
       "      <td></td>\n",
       "      <td>LCMV is most commonly recognized as causing ne...</td>\n",
       "    </tr>\n",
       "    <tr>\n",
       "      <th>2</th>\n",
       "      <td>935eb313-ccf5-4135-9de6-f6b9cfb6a8f5</td>\n",
       "      <td></td>\n",
       "      <td>Individuals of all ages who come into contact ...</td>\n",
       "    </tr>\n",
       "    <tr>\n",
       "      <th>3</th>\n",
       "      <td>f28f93b1-0df2-47cf-9349-e85683402cf8</td>\n",
       "      <td></td>\n",
       "      <td>During the first phase of the disease, the mos...</td>\n",
       "    </tr>\n",
       "    <tr>\n",
       "      <th>4</th>\n",
       "      <td>8e253cda-fa64-4f77-ae17-e1d8774f96bb</td>\n",
       "      <td></td>\n",
       "      <td>Aseptic meningitis, encephalitis, or meningoen...</td>\n",
       "    </tr>\n",
       "    <tr>\n",
       "      <th>...</th>\n",
       "      <td>...</td>\n",
       "      <td>...</td>\n",
       "      <td>...</td>\n",
       "    </tr>\n",
       "    <tr>\n",
       "      <th>2043</th>\n",
       "      <td>87f80156-6d4d-424f-b17a-4aad8d73d32d</td>\n",
       "      <td></td>\n",
       "      <td>Once the diagnosis of primary hyperparathyroid...</td>\n",
       "    </tr>\n",
       "    <tr>\n",
       "      <th>2044</th>\n",
       "      <td>6e249abc-2caf-489d-89c7-b3152c9a6dc6</td>\n",
       "      <td></td>\n",
       "      <td>Surgery                  Surgery to remove the...</td>\n",
       "    </tr>\n",
       "    <tr>\n",
       "      <th>2045</th>\n",
       "      <td>49e8250a-cd2a-4b1b-9ab7-f8942e3ec0c0</td>\n",
       "      <td></td>\n",
       "      <td>Eating, diet, and nutrition have not been show...</td>\n",
       "    </tr>\n",
       "    <tr>\n",
       "      <th>2046</th>\n",
       "      <td>0c79e705-c2fa-4111-ba91-f86207a0cd6f</td>\n",
       "      <td></td>\n",
       "      <td>- Primary hyperparathyroidism is a disorder of...</td>\n",
       "    </tr>\n",
       "    <tr>\n",
       "      <th>2047</th>\n",
       "      <td>66cb232c-2e7d-4bb3-b470-b4c605670bd9</td>\n",
       "      <td></td>\n",
       "      <td>Urinary incontinence is the loss of bladder co...</td>\n",
       "    </tr>\n",
       "  </tbody>\n",
       "</table>\n",
       "<p>2007 rows × 3 columns</p>\n",
       "</div>"
      ],
      "text/plain": [
       "                                       _id title  \\\n",
       "0     0377f7ec-d481-4bb2-a878-5d279a2a11fe         \n",
       "1     2f249bba-2201-424f-8515-182cd5272cd9         \n",
       "2     935eb313-ccf5-4135-9de6-f6b9cfb6a8f5         \n",
       "3     f28f93b1-0df2-47cf-9349-e85683402cf8         \n",
       "4     8e253cda-fa64-4f77-ae17-e1d8774f96bb         \n",
       "...                                    ...   ...   \n",
       "2043  87f80156-6d4d-424f-b17a-4aad8d73d32d         \n",
       "2044  6e249abc-2caf-489d-89c7-b3152c9a6dc6         \n",
       "2045  49e8250a-cd2a-4b1b-9ab7-f8942e3ec0c0         \n",
       "2046  0c79e705-c2fa-4111-ba91-f86207a0cd6f         \n",
       "2047  66cb232c-2e7d-4bb3-b470-b4c605670bd9         \n",
       "\n",
       "                                                   text  \n",
       "0     LCMV infections can occur after exposure to fr...  \n",
       "1     LCMV is most commonly recognized as causing ne...  \n",
       "2     Individuals of all ages who come into contact ...  \n",
       "3     During the first phase of the disease, the mos...  \n",
       "4     Aseptic meningitis, encephalitis, or meningoen...  \n",
       "...                                                 ...  \n",
       "2043  Once the diagnosis of primary hyperparathyroid...  \n",
       "2044  Surgery                  Surgery to remove the...  \n",
       "2045  Eating, diet, and nutrition have not been show...  \n",
       "2046  - Primary hyperparathyroidism is a disorder of...  \n",
       "2047  Urinary incontinence is the loss of bladder co...  \n",
       "\n",
       "[2007 rows x 3 columns]"
      ]
     },
     "execution_count": 144,
     "metadata": {},
     "output_type": "execute_result"
    }
   ],
   "source": [
    "medical_qa_corpus_deduplicated"
   ]
  },
  {
   "cell_type": "code",
   "execution_count": 145,
   "metadata": {},
   "outputs": [
    {
     "data": {
      "text/plain": [
       "'Prevention      No vaccine is available.      The best way to prevent schistosomiasis is to take the following steps if you are visiting or live in an area where schistosomiasis is transmitted:           - Avoid swimming or wading in freshwater when you are in countries in which schistosomiasis occurs. Swimming in the ocean and in chlorinated swimming pools is safe.      - Drink safe water. Although schistosomiasis is not transmitted by swallowing contaminated water, if your mouth or lips come in contact with water containing the parasites, you could become infected. Because water coming directly from canals, lakes, rivers, streams, or springs may be contaminated with a variety of infectious organisms, you should either bring your water to a rolling boil for 1 minute or filter water before drinking it. Bring your water to a rolling boil for at least 1 minute will kill any harmful parasites, bacteria, or viruses present. Iodine treatment alone WILL NOT GUARANTEE that water is safe and free of all parasites.      - Water used for bathing should be brought to a rolling boil for 1 minute to kill any cercariae, and then cooled before bathing to avoid scalding. Water held in a storage tank for at least 1 - 2 days should be safe for bathing.      - Vigorous towel drying after an accidental, very brief water exposure may help to prevent the Schistosoma parasite from penetrating the skin. However, do not rely on vigorous towel drying alone to prevent schistosomiasis.           Those who have had contact with potentially contaminated water overseas should see their health care provider after returning from travel to discuss testing.      More on: Schistosomiasis in Travelers              Control     In countries where schistosomiasis causes significant disease, control efforts usually focus on:         - reducing the number of infections in people and/or     - eliminating the snails that are required to maintain the parasite’s life cycle.         For all species that cause schistosomiasis, improved sanitation could reduce or eliminate transmission of this disease. In some areas with lower transmission levels, elimination of schistosomiasis is considered a \"winnable battle\" by public health officials.     Control measures can include mass drug treatment of entire communities and targeted treatment of school-age children. Some of the problems with control of schistosomiasis include:         - Chemicals used to eliminate snails in freshwater sources may harm other species of animals in the water and, if treatment is not sustained, the snails may return to those sites afterwards.     - For certain species of the parasite, such as S. japonicum, animals such as cows or water buffalo can also be infected. Runoff from pastures (if the cows are infected) can contaminate freshwater sources.'"
      ]
     },
     "execution_count": 145,
     "metadata": {},
     "output_type": "execute_result"
    }
   ],
   "source": [
    "medical_qa_corpus_deduplicated['text'][28]"
   ]
  },
  {
   "cell_type": "code",
   "execution_count": 149,
   "metadata": {},
   "outputs": [
    {
     "name": "stdout",
     "output_type": "stream",
     "text": [
      "_id      0\n",
      "title    0\n",
      "text     0\n",
      "dtype: int64\n"
     ]
    }
   ],
   "source": [
    "print(medical_qa_corpus_deduplicated.isna().sum())"
   ]
  },
  {
   "cell_type": "markdown",
   "metadata": {},
   "source": [
    "#### Final cleaned dataset"
   ]
  },
  {
   "cell_type": "code",
   "execution_count": 150,
   "metadata": {},
   "outputs": [
    {
     "data": {
      "text/html": [
       "<div>\n",
       "<style scoped>\n",
       "    .dataframe tbody tr th:only-of-type {\n",
       "        vertical-align: middle;\n",
       "    }\n",
       "\n",
       "    .dataframe tbody tr th {\n",
       "        vertical-align: top;\n",
       "    }\n",
       "\n",
       "    .dataframe thead th {\n",
       "        text-align: right;\n",
       "    }\n",
       "</style>\n",
       "<table border=\"1\" class=\"dataframe\">\n",
       "  <thead>\n",
       "    <tr style=\"text-align: right;\">\n",
       "      <th></th>\n",
       "      <th>_id</th>\n",
       "      <th>text</th>\n",
       "    </tr>\n",
       "  </thead>\n",
       "  <tbody>\n",
       "    <tr>\n",
       "      <th>0</th>\n",
       "      <td>2d3e200a-8ddf-4062-a678-f5d0401c54ad</td>\n",
       "      <td>Who is at risk for Lymphocytic Choriomeningiti...</td>\n",
       "    </tr>\n",
       "    <tr>\n",
       "      <th>1</th>\n",
       "      <td>bf3b28a5-db6f-412d-96f1-d67d17bcaef8</td>\n",
       "      <td>What are the symptoms of Lymphocytic Choriomen...</td>\n",
       "    </tr>\n",
       "    <tr>\n",
       "      <th>3</th>\n",
       "      <td>ebb4ab78-ff5f-4e78-ac14-bb98760c2a0a</td>\n",
       "      <td>How to diagnose Lymphocytic Choriomeningitis (...</td>\n",
       "    </tr>\n",
       "    <tr>\n",
       "      <th>4</th>\n",
       "      <td>9fd75f16-1bd5-4451-af69-5885b7d5267a</td>\n",
       "      <td>What are the treatments for Lymphocytic Chorio...</td>\n",
       "    </tr>\n",
       "    <tr>\n",
       "      <th>5</th>\n",
       "      <td>0f303917-6e53-449c-8242-7ab82e8fb78f</td>\n",
       "      <td>How to prevent Lymphocytic Choriomeningitis (L...</td>\n",
       "    </tr>\n",
       "    <tr>\n",
       "      <th>...</th>\n",
       "      <td>...</td>\n",
       "      <td>...</td>\n",
       "    </tr>\n",
       "    <tr>\n",
       "      <th>2041</th>\n",
       "      <td>8e88d11c-e574-450a-ade4-c3f96756cb51</td>\n",
       "      <td>What are the symptoms of Primary Hyperparathyr...</td>\n",
       "    </tr>\n",
       "    <tr>\n",
       "      <th>2042</th>\n",
       "      <td>8a105170-77a8-4706-8fbc-c33b65fe7a69</td>\n",
       "      <td>How to diagnose Primary Hyperparathyroidism ?</td>\n",
       "    </tr>\n",
       "    <tr>\n",
       "      <th>2044</th>\n",
       "      <td>2fdc3c5b-fdd7-4402-b5f2-edbadf83889d</td>\n",
       "      <td>What are the treatments for Primary Hyperparat...</td>\n",
       "    </tr>\n",
       "    <tr>\n",
       "      <th>2045</th>\n",
       "      <td>2ac6e1b0-09b3-4457-93a4-933e1c72103b</td>\n",
       "      <td>What to do for Primary Hyperparathyroidism ?</td>\n",
       "    </tr>\n",
       "    <tr>\n",
       "      <th>2047</th>\n",
       "      <td>c20f7a35-586c-4c80-ae3f-6a6c8bed99b2</td>\n",
       "      <td>What is (are) Urinary Incontinence in Men ?</td>\n",
       "    </tr>\n",
       "  </tbody>\n",
       "</table>\n",
       "<p>1820 rows × 2 columns</p>\n",
       "</div>"
      ],
      "text/plain": [
       "                                       _id  \\\n",
       "0     2d3e200a-8ddf-4062-a678-f5d0401c54ad   \n",
       "1     bf3b28a5-db6f-412d-96f1-d67d17bcaef8   \n",
       "3     ebb4ab78-ff5f-4e78-ac14-bb98760c2a0a   \n",
       "4     9fd75f16-1bd5-4451-af69-5885b7d5267a   \n",
       "5     0f303917-6e53-449c-8242-7ab82e8fb78f   \n",
       "...                                    ...   \n",
       "2041  8e88d11c-e574-450a-ade4-c3f96756cb51   \n",
       "2042  8a105170-77a8-4706-8fbc-c33b65fe7a69   \n",
       "2044  2fdc3c5b-fdd7-4402-b5f2-edbadf83889d   \n",
       "2045  2ac6e1b0-09b3-4457-93a4-933e1c72103b   \n",
       "2047  c20f7a35-586c-4c80-ae3f-6a6c8bed99b2   \n",
       "\n",
       "                                                   text  \n",
       "0     Who is at risk for Lymphocytic Choriomeningiti...  \n",
       "1     What are the symptoms of Lymphocytic Choriomen...  \n",
       "3     How to diagnose Lymphocytic Choriomeningitis (...  \n",
       "4     What are the treatments for Lymphocytic Chorio...  \n",
       "5     How to prevent Lymphocytic Choriomeningitis (L...  \n",
       "...                                                 ...  \n",
       "2041  What are the symptoms of Primary Hyperparathyr...  \n",
       "2042      How to diagnose Primary Hyperparathyroidism ?  \n",
       "2044  What are the treatments for Primary Hyperparat...  \n",
       "2045       What to do for Primary Hyperparathyroidism ?  \n",
       "2047        What is (are) Urinary Incontinence in Men ?  \n",
       "\n",
       "[1820 rows x 2 columns]"
      ]
     },
     "execution_count": 150,
     "metadata": {},
     "output_type": "execute_result"
    }
   ],
   "source": [
    "medical_qa_queries_deduplicated"
   ]
  },
  {
   "cell_type": "code",
   "execution_count": 151,
   "metadata": {},
   "outputs": [
    {
     "data": {
      "text/html": [
       "<div>\n",
       "<style scoped>\n",
       "    .dataframe tbody tr th:only-of-type {\n",
       "        vertical-align: middle;\n",
       "    }\n",
       "\n",
       "    .dataframe tbody tr th {\n",
       "        vertical-align: top;\n",
       "    }\n",
       "\n",
       "    .dataframe thead th {\n",
       "        text-align: right;\n",
       "    }\n",
       "</style>\n",
       "<table border=\"1\" class=\"dataframe\">\n",
       "  <thead>\n",
       "    <tr style=\"text-align: right;\">\n",
       "      <th></th>\n",
       "      <th>_id</th>\n",
       "      <th>title</th>\n",
       "      <th>text</th>\n",
       "    </tr>\n",
       "  </thead>\n",
       "  <tbody>\n",
       "    <tr>\n",
       "      <th>0</th>\n",
       "      <td>0377f7ec-d481-4bb2-a878-5d279a2a11fe</td>\n",
       "      <td></td>\n",
       "      <td>LCMV infections can occur after exposure to fr...</td>\n",
       "    </tr>\n",
       "    <tr>\n",
       "      <th>1</th>\n",
       "      <td>2f249bba-2201-424f-8515-182cd5272cd9</td>\n",
       "      <td></td>\n",
       "      <td>LCMV is most commonly recognized as causing ne...</td>\n",
       "    </tr>\n",
       "    <tr>\n",
       "      <th>2</th>\n",
       "      <td>935eb313-ccf5-4135-9de6-f6b9cfb6a8f5</td>\n",
       "      <td></td>\n",
       "      <td>Individuals of all ages who come into contact ...</td>\n",
       "    </tr>\n",
       "    <tr>\n",
       "      <th>3</th>\n",
       "      <td>f28f93b1-0df2-47cf-9349-e85683402cf8</td>\n",
       "      <td></td>\n",
       "      <td>During the first phase of the disease, the mos...</td>\n",
       "    </tr>\n",
       "    <tr>\n",
       "      <th>4</th>\n",
       "      <td>8e253cda-fa64-4f77-ae17-e1d8774f96bb</td>\n",
       "      <td></td>\n",
       "      <td>Aseptic meningitis, encephalitis, or meningoen...</td>\n",
       "    </tr>\n",
       "    <tr>\n",
       "      <th>...</th>\n",
       "      <td>...</td>\n",
       "      <td>...</td>\n",
       "      <td>...</td>\n",
       "    </tr>\n",
       "    <tr>\n",
       "      <th>2043</th>\n",
       "      <td>87f80156-6d4d-424f-b17a-4aad8d73d32d</td>\n",
       "      <td></td>\n",
       "      <td>Once the diagnosis of primary hyperparathyroid...</td>\n",
       "    </tr>\n",
       "    <tr>\n",
       "      <th>2044</th>\n",
       "      <td>6e249abc-2caf-489d-89c7-b3152c9a6dc6</td>\n",
       "      <td></td>\n",
       "      <td>Surgery                  Surgery to remove the...</td>\n",
       "    </tr>\n",
       "    <tr>\n",
       "      <th>2045</th>\n",
       "      <td>49e8250a-cd2a-4b1b-9ab7-f8942e3ec0c0</td>\n",
       "      <td></td>\n",
       "      <td>Eating, diet, and nutrition have not been show...</td>\n",
       "    </tr>\n",
       "    <tr>\n",
       "      <th>2046</th>\n",
       "      <td>0c79e705-c2fa-4111-ba91-f86207a0cd6f</td>\n",
       "      <td></td>\n",
       "      <td>- Primary hyperparathyroidism is a disorder of...</td>\n",
       "    </tr>\n",
       "    <tr>\n",
       "      <th>2047</th>\n",
       "      <td>66cb232c-2e7d-4bb3-b470-b4c605670bd9</td>\n",
       "      <td></td>\n",
       "      <td>Urinary incontinence is the loss of bladder co...</td>\n",
       "    </tr>\n",
       "  </tbody>\n",
       "</table>\n",
       "<p>2007 rows × 3 columns</p>\n",
       "</div>"
      ],
      "text/plain": [
       "                                       _id title  \\\n",
       "0     0377f7ec-d481-4bb2-a878-5d279a2a11fe         \n",
       "1     2f249bba-2201-424f-8515-182cd5272cd9         \n",
       "2     935eb313-ccf5-4135-9de6-f6b9cfb6a8f5         \n",
       "3     f28f93b1-0df2-47cf-9349-e85683402cf8         \n",
       "4     8e253cda-fa64-4f77-ae17-e1d8774f96bb         \n",
       "...                                    ...   ...   \n",
       "2043  87f80156-6d4d-424f-b17a-4aad8d73d32d         \n",
       "2044  6e249abc-2caf-489d-89c7-b3152c9a6dc6         \n",
       "2045  49e8250a-cd2a-4b1b-9ab7-f8942e3ec0c0         \n",
       "2046  0c79e705-c2fa-4111-ba91-f86207a0cd6f         \n",
       "2047  66cb232c-2e7d-4bb3-b470-b4c605670bd9         \n",
       "\n",
       "                                                   text  \n",
       "0     LCMV infections can occur after exposure to fr...  \n",
       "1     LCMV is most commonly recognized as causing ne...  \n",
       "2     Individuals of all ages who come into contact ...  \n",
       "3     During the first phase of the disease, the mos...  \n",
       "4     Aseptic meningitis, encephalitis, or meningoen...  \n",
       "...                                                 ...  \n",
       "2043  Once the diagnosis of primary hyperparathyroid...  \n",
       "2044  Surgery                  Surgery to remove the...  \n",
       "2045  Eating, diet, and nutrition have not been show...  \n",
       "2046  - Primary hyperparathyroidism is a disorder of...  \n",
       "2047  Urinary incontinence is the loss of bladder co...  \n",
       "\n",
       "[2007 rows x 3 columns]"
      ]
     },
     "execution_count": 151,
     "metadata": {},
     "output_type": "execute_result"
    }
   ],
   "source": [
    "medical_qa_corpus_deduplicated"
   ]
  },
  {
   "cell_type": "code",
   "execution_count": 152,
   "metadata": {},
   "outputs": [
    {
     "data": {
      "text/html": [
       "<div>\n",
       "<style scoped>\n",
       "    .dataframe tbody tr th:only-of-type {\n",
       "        vertical-align: middle;\n",
       "    }\n",
       "\n",
       "    .dataframe tbody tr th {\n",
       "        vertical-align: top;\n",
       "    }\n",
       "\n",
       "    .dataframe thead th {\n",
       "        text-align: right;\n",
       "    }\n",
       "</style>\n",
       "<table border=\"1\" class=\"dataframe\">\n",
       "  <thead>\n",
       "    <tr style=\"text-align: right;\">\n",
       "      <th></th>\n",
       "      <th>query-id</th>\n",
       "      <th>corpus-id</th>\n",
       "      <th>score</th>\n",
       "    </tr>\n",
       "  </thead>\n",
       "  <tbody>\n",
       "    <tr>\n",
       "      <th>0</th>\n",
       "      <td>2d3e200a-8ddf-4062-a678-f5d0401c54ad</td>\n",
       "      <td>0377f7ec-d481-4bb2-a878-5d279a2a11fe</td>\n",
       "      <td>1.0</td>\n",
       "    </tr>\n",
       "    <tr>\n",
       "      <th>1</th>\n",
       "      <td>bf3b28a5-db6f-412d-96f1-d67d17bcaef8</td>\n",
       "      <td>2f249bba-2201-424f-8515-182cd5272cd9</td>\n",
       "      <td>1.0</td>\n",
       "    </tr>\n",
       "    <tr>\n",
       "      <th>2</th>\n",
       "      <td>2d3e200a-8ddf-4062-a678-f5d0401c54ad</td>\n",
       "      <td>935eb313-ccf5-4135-9de6-f6b9cfb6a8f5</td>\n",
       "      <td>1.0</td>\n",
       "    </tr>\n",
       "    <tr>\n",
       "      <th>3</th>\n",
       "      <td>ebb4ab78-ff5f-4e78-ac14-bb98760c2a0a</td>\n",
       "      <td>f28f93b1-0df2-47cf-9349-e85683402cf8</td>\n",
       "      <td>1.0</td>\n",
       "    </tr>\n",
       "    <tr>\n",
       "      <th>4</th>\n",
       "      <td>9fd75f16-1bd5-4451-af69-5885b7d5267a</td>\n",
       "      <td>8e253cda-fa64-4f77-ae17-e1d8774f96bb</td>\n",
       "      <td>1.0</td>\n",
       "    </tr>\n",
       "    <tr>\n",
       "      <th>...</th>\n",
       "      <td>...</td>\n",
       "      <td>...</td>\n",
       "      <td>...</td>\n",
       "    </tr>\n",
       "    <tr>\n",
       "      <th>2043</th>\n",
       "      <td>8a105170-77a8-4706-8fbc-c33b65fe7a69</td>\n",
       "      <td>87f80156-6d4d-424f-b17a-4aad8d73d32d</td>\n",
       "      <td>1.0</td>\n",
       "    </tr>\n",
       "    <tr>\n",
       "      <th>2044</th>\n",
       "      <td>2fdc3c5b-fdd7-4402-b5f2-edbadf83889d</td>\n",
       "      <td>6e249abc-2caf-489d-89c7-b3152c9a6dc6</td>\n",
       "      <td>1.0</td>\n",
       "    </tr>\n",
       "    <tr>\n",
       "      <th>2045</th>\n",
       "      <td>2ac6e1b0-09b3-4457-93a4-933e1c72103b</td>\n",
       "      <td>49e8250a-cd2a-4b1b-9ab7-f8942e3ec0c0</td>\n",
       "      <td>1.0</td>\n",
       "    </tr>\n",
       "    <tr>\n",
       "      <th>2046</th>\n",
       "      <td>2ac6e1b0-09b3-4457-93a4-933e1c72103b</td>\n",
       "      <td>0c79e705-c2fa-4111-ba91-f86207a0cd6f</td>\n",
       "      <td>1.0</td>\n",
       "    </tr>\n",
       "    <tr>\n",
       "      <th>2047</th>\n",
       "      <td>c20f7a35-586c-4c80-ae3f-6a6c8bed99b2</td>\n",
       "      <td>66cb232c-2e7d-4bb3-b470-b4c605670bd9</td>\n",
       "      <td>1.0</td>\n",
       "    </tr>\n",
       "  </tbody>\n",
       "</table>\n",
       "<p>2019 rows × 3 columns</p>\n",
       "</div>"
      ],
      "text/plain": [
       "                                  query-id  \\\n",
       "0     2d3e200a-8ddf-4062-a678-f5d0401c54ad   \n",
       "1     bf3b28a5-db6f-412d-96f1-d67d17bcaef8   \n",
       "2     2d3e200a-8ddf-4062-a678-f5d0401c54ad   \n",
       "3     ebb4ab78-ff5f-4e78-ac14-bb98760c2a0a   \n",
       "4     9fd75f16-1bd5-4451-af69-5885b7d5267a   \n",
       "...                                    ...   \n",
       "2043  8a105170-77a8-4706-8fbc-c33b65fe7a69   \n",
       "2044  2fdc3c5b-fdd7-4402-b5f2-edbadf83889d   \n",
       "2045  2ac6e1b0-09b3-4457-93a4-933e1c72103b   \n",
       "2046  2ac6e1b0-09b3-4457-93a4-933e1c72103b   \n",
       "2047  c20f7a35-586c-4c80-ae3f-6a6c8bed99b2   \n",
       "\n",
       "                                 corpus-id  score  \n",
       "0     0377f7ec-d481-4bb2-a878-5d279a2a11fe    1.0  \n",
       "1     2f249bba-2201-424f-8515-182cd5272cd9    1.0  \n",
       "2     935eb313-ccf5-4135-9de6-f6b9cfb6a8f5    1.0  \n",
       "3     f28f93b1-0df2-47cf-9349-e85683402cf8    1.0  \n",
       "4     8e253cda-fa64-4f77-ae17-e1d8774f96bb    1.0  \n",
       "...                                    ...    ...  \n",
       "2043  87f80156-6d4d-424f-b17a-4aad8d73d32d    1.0  \n",
       "2044  6e249abc-2caf-489d-89c7-b3152c9a6dc6    1.0  \n",
       "2045  49e8250a-cd2a-4b1b-9ab7-f8942e3ec0c0    1.0  \n",
       "2046  0c79e705-c2fa-4111-ba91-f86207a0cd6f    1.0  \n",
       "2047  66cb232c-2e7d-4bb3-b470-b4c605670bd9    1.0  \n",
       "\n",
       "[2019 rows x 3 columns]"
      ]
     },
     "execution_count": 152,
     "metadata": {},
     "output_type": "execute_result"
    }
   ],
   "source": [
    "medical_qa_default_qa_df_deduplicated"
   ]
  },
  {
   "cell_type": "markdown",
   "metadata": {},
   "source": [
    "### LitSearch - Scientific"
   ]
  },
  {
   "cell_type": "code",
   "execution_count": 313,
   "metadata": {},
   "outputs": [],
   "source": [
    "from datasets import load_dataset\n",
    "\n",
    "litsearch_query_data = load_dataset(\"princeton-nlp/LitSearch\", \"query\", split=\"full\")\n",
    "litsearch_clean_data = load_dataset(\"princeton-nlp/LitSearch\", \"corpus_clean\", split=\"full\")"
   ]
  },
  {
   "cell_type": "code",
   "execution_count": 314,
   "metadata": {},
   "outputs": [],
   "source": [
    "litsearch_query_df = litsearch_query_data.to_pandas()\n",
    "litsearch_papers_df = litsearch_clean_data.to_pandas()"
   ]
  },
  {
   "cell_type": "code",
   "execution_count": 315,
   "metadata": {},
   "outputs": [
    {
     "data": {
      "text/plain": [
       "597"
      ]
     },
     "execution_count": 315,
     "metadata": {},
     "output_type": "execute_result"
    }
   ],
   "source": [
    "len(litsearch_query_df)"
   ]
  },
  {
   "cell_type": "code",
   "execution_count": 316,
   "metadata": {},
   "outputs": [
    {
     "data": {
      "text/html": [
       "<div>\n",
       "<style scoped>\n",
       "    .dataframe tbody tr th:only-of-type {\n",
       "        vertical-align: middle;\n",
       "    }\n",
       "\n",
       "    .dataframe tbody tr th {\n",
       "        vertical-align: top;\n",
       "    }\n",
       "\n",
       "    .dataframe thead th {\n",
       "        text-align: right;\n",
       "    }\n",
       "</style>\n",
       "<table border=\"1\" class=\"dataframe\">\n",
       "  <thead>\n",
       "    <tr style=\"text-align: right;\">\n",
       "      <th></th>\n",
       "      <th>corpusid</th>\n",
       "      <th>title</th>\n",
       "      <th>abstract</th>\n",
       "      <th>citations</th>\n",
       "      <th>full_paper</th>\n",
       "    </tr>\n",
       "  </thead>\n",
       "  <tbody>\n",
       "    <tr>\n",
       "      <th>0</th>\n",
       "      <td>252715594</td>\n",
       "      <td>PHENAKI: VARIABLE LENGTH VIDEO GENERATION FROM...</td>\n",
       "      <td>We present Phenaki, a model capable of realist...</td>\n",
       "      <td>[6628106, 174802916, 238582653]</td>\n",
       "      <td>PHENAKI: VARIABLE LENGTH VIDEO GENERATION FROM...</td>\n",
       "    </tr>\n",
       "    <tr>\n",
       "      <th>1</th>\n",
       "      <td>13002849</td>\n",
       "      <td>MODE REGULARIZED GENERATIVE ADVERSARIAL NETWORKS</td>\n",
       "      <td>Although Generative Adversarial Networks achie...</td>\n",
       "      <td>[]</td>\n",
       "      <td>MODE REGULARIZED GENERATIVE ADVERSARIAL NETWOR...</td>\n",
       "    </tr>\n",
       "    <tr>\n",
       "      <th>2</th>\n",
       "      <td>239998253</td>\n",
       "      <td>What Do We Mean by Generalization in Federated...</td>\n",
       "      <td>Federated learning data is drawn from a distri...</td>\n",
       "      <td>[235613568, 231924480, 211678094, 195798643, 4...</td>\n",
       "      <td>What Do We Mean by Generalization in Federated...</td>\n",
       "    </tr>\n",
       "    <tr>\n",
       "      <th>3</th>\n",
       "      <td>62841605</td>\n",
       "      <td>SPREADING VECTORS FOR SIMILARITY SEARCH</td>\n",
       "      <td>Discretizing multi-dimensional data distributi...</td>\n",
       "      <td>[]</td>\n",
       "      <td>SPREADING VECTORS FOR SIMILARITY SEARCH\\n\\n\\nA...</td>\n",
       "    </tr>\n",
       "    <tr>\n",
       "      <th>4</th>\n",
       "      <td>253237531</td>\n",
       "      <td>MACHINE UNLEARNING OF FEDERATED CLUSTERS</td>\n",
       "      <td>Federated clustering (FC) is an unsupervised l...</td>\n",
       "      <td>[]</td>\n",
       "      <td>MACHINE UNLEARNING OF FEDERATED CLUSTERS\\n\\n\\n...</td>\n",
       "    </tr>\n",
       "    <tr>\n",
       "      <th>...</th>\n",
       "      <td>...</td>\n",
       "      <td>...</td>\n",
       "      <td>...</td>\n",
       "      <td>...</td>\n",
       "      <td>...</td>\n",
       "    </tr>\n",
       "    <tr>\n",
       "      <th>64178</th>\n",
       "      <td>208324656</td>\n",
       "      <td></td>\n",
       "      <td></td>\n",
       "      <td>[]</td>\n",
       "      <td>Pharmacological Substances, Compounds\\n\\n\\nVíc...</td>\n",
       "    </tr>\n",
       "    <tr>\n",
       "      <th>64179</th>\n",
       "      <td>30831790</td>\n",
       "      <td>The FLaReNet Thematic Network: A Global Forum ...</td>\n",
       "      <td>The aim of this short paper is to present the ...</td>\n",
       "      <td>[]</td>\n",
       "      <td>The FLaReNet Thematic Network: A Global Forum ...</td>\n",
       "    </tr>\n",
       "    <tr>\n",
       "      <th>64180</th>\n",
       "      <td>11918974</td>\n",
       "      <td>Improved statistical measures to assess natura...</td>\n",
       "      <td>We examine the performance of three dependency...</td>\n",
       "      <td>[12042560, 628455, 196105, 9429298, 9431510, 6...</td>\n",
       "      <td>Improved statistical measures to assess natura...</td>\n",
       "    </tr>\n",
       "    <tr>\n",
       "      <th>64181</th>\n",
       "      <td>2046924</td>\n",
       "      <td>The relative divergence of Dutch dialect pronu...</td>\n",
       "      <td>In this paper we use the Reeks Nederlandse Dia...</td>\n",
       "      <td>[2704974]</td>\n",
       "      <td>The relative divergence of Dutch dialect pronu...</td>\n",
       "    </tr>\n",
       "    <tr>\n",
       "      <th>64182</th>\n",
       "      <td>231642302</td>\n",
       "      <td>plWordNet 3.0 -Almost There</td>\n",
       "      <td>It took us nearly ten years to get from no wor...</td>\n",
       "      <td>[16189696, 11338245, 17178054, 17535854, 24949...</td>\n",
       "      <td>plWordNet 3.0 -Almost There\\n\\n\\nMaciej Piasec...</td>\n",
       "    </tr>\n",
       "  </tbody>\n",
       "</table>\n",
       "<p>64183 rows × 5 columns</p>\n",
       "</div>"
      ],
      "text/plain": [
       "        corpusid                                              title  \\\n",
       "0      252715594  PHENAKI: VARIABLE LENGTH VIDEO GENERATION FROM...   \n",
       "1       13002849   MODE REGULARIZED GENERATIVE ADVERSARIAL NETWORKS   \n",
       "2      239998253  What Do We Mean by Generalization in Federated...   \n",
       "3       62841605            SPREADING VECTORS FOR SIMILARITY SEARCH   \n",
       "4      253237531           MACHINE UNLEARNING OF FEDERATED CLUSTERS   \n",
       "...          ...                                                ...   \n",
       "64178  208324656                                                      \n",
       "64179   30831790  The FLaReNet Thematic Network: A Global Forum ...   \n",
       "64180   11918974  Improved statistical measures to assess natura...   \n",
       "64181    2046924  The relative divergence of Dutch dialect pronu...   \n",
       "64182  231642302                        plWordNet 3.0 -Almost There   \n",
       "\n",
       "                                                abstract  \\\n",
       "0      We present Phenaki, a model capable of realist...   \n",
       "1      Although Generative Adversarial Networks achie...   \n",
       "2      Federated learning data is drawn from a distri...   \n",
       "3      Discretizing multi-dimensional data distributi...   \n",
       "4      Federated clustering (FC) is an unsupervised l...   \n",
       "...                                                  ...   \n",
       "64178                                                      \n",
       "64179  The aim of this short paper is to present the ...   \n",
       "64180  We examine the performance of three dependency...   \n",
       "64181  In this paper we use the Reeks Nederlandse Dia...   \n",
       "64182  It took us nearly ten years to get from no wor...   \n",
       "\n",
       "                                               citations  \\\n",
       "0                        [6628106, 174802916, 238582653]   \n",
       "1                                                     []   \n",
       "2      [235613568, 231924480, 211678094, 195798643, 4...   \n",
       "3                                                     []   \n",
       "4                                                     []   \n",
       "...                                                  ...   \n",
       "64178                                                 []   \n",
       "64179                                                 []   \n",
       "64180  [12042560, 628455, 196105, 9429298, 9431510, 6...   \n",
       "64181                                          [2704974]   \n",
       "64182  [16189696, 11338245, 17178054, 17535854, 24949...   \n",
       "\n",
       "                                              full_paper  \n",
       "0      PHENAKI: VARIABLE LENGTH VIDEO GENERATION FROM...  \n",
       "1      MODE REGULARIZED GENERATIVE ADVERSARIAL NETWOR...  \n",
       "2      What Do We Mean by Generalization in Federated...  \n",
       "3      SPREADING VECTORS FOR SIMILARITY SEARCH\\n\\n\\nA...  \n",
       "4      MACHINE UNLEARNING OF FEDERATED CLUSTERS\\n\\n\\n...  \n",
       "...                                                  ...  \n",
       "64178  Pharmacological Substances, Compounds\\n\\n\\nVíc...  \n",
       "64179  The FLaReNet Thematic Network: A Global Forum ...  \n",
       "64180  Improved statistical measures to assess natura...  \n",
       "64181  The relative divergence of Dutch dialect pronu...  \n",
       "64182  plWordNet 3.0 -Almost There\\n\\n\\nMaciej Piasec...  \n",
       "\n",
       "[64183 rows x 5 columns]"
      ]
     },
     "execution_count": 316,
     "metadata": {},
     "output_type": "execute_result"
    }
   ],
   "source": [
    "litsearch_papers_df"
   ]
  },
  {
   "cell_type": "code",
   "execution_count": 317,
   "metadata": {},
   "outputs": [
    {
     "data": {
      "text/plain": [
       "597"
      ]
     },
     "execution_count": 317,
     "metadata": {},
     "output_type": "execute_result"
    }
   ],
   "source": [
    "litsearch_query_df_cleaned = litsearch_query_df.drop_duplicates(subset=['query'], keep='first')\n",
    "len(litsearch_query_df_cleaned)"
   ]
  },
  {
   "cell_type": "code",
   "execution_count": 318,
   "metadata": {},
   "outputs": [
    {
     "data": {
      "text/plain": [
       "64183"
      ]
     },
     "execution_count": 318,
     "metadata": {},
     "output_type": "execute_result"
    }
   ],
   "source": [
    "len(litsearch_papers_df)"
   ]
  },
  {
   "cell_type": "code",
   "execution_count": 319,
   "metadata": {},
   "outputs": [
    {
     "data": {
      "text/plain": [
       "55909"
      ]
     },
     "execution_count": 319,
     "metadata": {},
     "output_type": "execute_result"
    }
   ],
   "source": [
    "litsearch_papers_df_cleaned = litsearch_papers_df.drop_duplicates(subset=['abstract'], keep='first')\n",
    "len(litsearch_papers_df_cleaned)"
   ]
  },
  {
   "cell_type": "code",
   "execution_count": 320,
   "metadata": {},
   "outputs": [],
   "source": [
    "duplicated_papers = litsearch_papers_df[litsearch_papers_df.duplicated(subset=['abstract'], keep=False)]"
   ]
  },
  {
   "cell_type": "code",
   "execution_count": 321,
   "metadata": {},
   "outputs": [
    {
     "data": {
      "text/plain": [
       "7989"
      ]
     },
     "execution_count": 321,
     "metadata": {},
     "output_type": "execute_result"
    }
   ],
   "source": [
    "len(duplicated_papers[duplicated_papers[\"abstract\"] == \"\"])"
   ]
  },
  {
   "cell_type": "code",
   "execution_count": 322,
   "metadata": {},
   "outputs": [
    {
     "data": {
      "text/plain": [
       "0"
      ]
     },
     "execution_count": 322,
     "metadata": {},
     "output_type": "execute_result"
    }
   ],
   "source": [
    "len(litsearch_query_df_cleaned[litsearch_query_df_cleaned[\"query\"] == \"\"])"
   ]
  },
  {
   "cell_type": "code",
   "execution_count": 323,
   "metadata": {},
   "outputs": [
    {
     "data": {
      "text/html": [
       "<div>\n",
       "<style scoped>\n",
       "    .dataframe tbody tr th:only-of-type {\n",
       "        vertical-align: middle;\n",
       "    }\n",
       "\n",
       "    .dataframe tbody tr th {\n",
       "        vertical-align: top;\n",
       "    }\n",
       "\n",
       "    .dataframe thead th {\n",
       "        text-align: right;\n",
       "    }\n",
       "</style>\n",
       "<table border=\"1\" class=\"dataframe\">\n",
       "  <thead>\n",
       "    <tr style=\"text-align: right;\">\n",
       "      <th></th>\n",
       "      <th>query_set</th>\n",
       "      <th>query</th>\n",
       "      <th>specificity</th>\n",
       "      <th>quality</th>\n",
       "      <th>corpusids</th>\n",
       "    </tr>\n",
       "  </thead>\n",
       "  <tbody>\n",
       "    <tr>\n",
       "      <th>0</th>\n",
       "      <td>inline_acl</td>\n",
       "      <td>Are there any research papers on methods to co...</td>\n",
       "      <td>0</td>\n",
       "      <td>2</td>\n",
       "      <td>[202719327]</td>\n",
       "    </tr>\n",
       "    <tr>\n",
       "      <th>1</th>\n",
       "      <td>inline_acl</td>\n",
       "      <td>Are there any resources available for translat...</td>\n",
       "      <td>1</td>\n",
       "      <td>2</td>\n",
       "      <td>[227231792]</td>\n",
       "    </tr>\n",
       "    <tr>\n",
       "      <th>2</th>\n",
       "      <td>inline_acl</td>\n",
       "      <td>Are there any studies that explore post-hoc te...</td>\n",
       "      <td>0</td>\n",
       "      <td>2</td>\n",
       "      <td>[226254579, 204976362]</td>\n",
       "    </tr>\n",
       "    <tr>\n",
       "      <th>3</th>\n",
       "      <td>inline_acl</td>\n",
       "      <td>Are there any tools or studies that have focus...</td>\n",
       "      <td>1</td>\n",
       "      <td>2</td>\n",
       "      <td>[10961392, 12160022]</td>\n",
       "    </tr>\n",
       "    <tr>\n",
       "      <th>4</th>\n",
       "      <td>inline_acl</td>\n",
       "      <td>Are there papers that propose contextualized c...</td>\n",
       "      <td>1</td>\n",
       "      <td>2</td>\n",
       "      <td>[233296182]</td>\n",
       "    </tr>\n",
       "  </tbody>\n",
       "</table>\n",
       "</div>"
      ],
      "text/plain": [
       "    query_set                                              query  specificity  \\\n",
       "0  inline_acl  Are there any research papers on methods to co...            0   \n",
       "1  inline_acl  Are there any resources available for translat...            1   \n",
       "2  inline_acl  Are there any studies that explore post-hoc te...            0   \n",
       "3  inline_acl  Are there any tools or studies that have focus...            1   \n",
       "4  inline_acl  Are there papers that propose contextualized c...            1   \n",
       "\n",
       "   quality               corpusids  \n",
       "0        2             [202719327]  \n",
       "1        2             [227231792]  \n",
       "2        2  [226254579, 204976362]  \n",
       "3        2    [10961392, 12160022]  \n",
       "4        2             [233296182]  "
      ]
     },
     "execution_count": 323,
     "metadata": {},
     "output_type": "execute_result"
    }
   ],
   "source": [
    "litsearch_query_df_cleaned.head()"
   ]
  },
  {
   "cell_type": "code",
   "execution_count": 324,
   "metadata": {},
   "outputs": [
    {
     "data": {
      "text/html": [
       "<div>\n",
       "<style scoped>\n",
       "    .dataframe tbody tr th:only-of-type {\n",
       "        vertical-align: middle;\n",
       "    }\n",
       "\n",
       "    .dataframe tbody tr th {\n",
       "        vertical-align: top;\n",
       "    }\n",
       "\n",
       "    .dataframe thead th {\n",
       "        text-align: right;\n",
       "    }\n",
       "</style>\n",
       "<table border=\"1\" class=\"dataframe\">\n",
       "  <thead>\n",
       "    <tr style=\"text-align: right;\">\n",
       "      <th></th>\n",
       "      <th>corpusid</th>\n",
       "      <th>title</th>\n",
       "      <th>abstract</th>\n",
       "      <th>citations</th>\n",
       "      <th>full_paper</th>\n",
       "    </tr>\n",
       "  </thead>\n",
       "  <tbody>\n",
       "    <tr>\n",
       "      <th>0</th>\n",
       "      <td>252715594</td>\n",
       "      <td>PHENAKI: VARIABLE LENGTH VIDEO GENERATION FROM...</td>\n",
       "      <td>We present Phenaki, a model capable of realist...</td>\n",
       "      <td>[6628106, 174802916, 238582653]</td>\n",
       "      <td>PHENAKI: VARIABLE LENGTH VIDEO GENERATION FROM...</td>\n",
       "    </tr>\n",
       "    <tr>\n",
       "      <th>1</th>\n",
       "      <td>13002849</td>\n",
       "      <td>MODE REGULARIZED GENERATIVE ADVERSARIAL NETWORKS</td>\n",
       "      <td>Although Generative Adversarial Networks achie...</td>\n",
       "      <td>[]</td>\n",
       "      <td>MODE REGULARIZED GENERATIVE ADVERSARIAL NETWOR...</td>\n",
       "    </tr>\n",
       "    <tr>\n",
       "      <th>2</th>\n",
       "      <td>239998253</td>\n",
       "      <td>What Do We Mean by Generalization in Federated...</td>\n",
       "      <td>Federated learning data is drawn from a distri...</td>\n",
       "      <td>[235613568, 231924480, 211678094, 195798643, 4...</td>\n",
       "      <td>What Do We Mean by Generalization in Federated...</td>\n",
       "    </tr>\n",
       "    <tr>\n",
       "      <th>3</th>\n",
       "      <td>62841605</td>\n",
       "      <td>SPREADING VECTORS FOR SIMILARITY SEARCH</td>\n",
       "      <td>Discretizing multi-dimensional data distributi...</td>\n",
       "      <td>[]</td>\n",
       "      <td>SPREADING VECTORS FOR SIMILARITY SEARCH\\n\\n\\nA...</td>\n",
       "    </tr>\n",
       "    <tr>\n",
       "      <th>4</th>\n",
       "      <td>253237531</td>\n",
       "      <td>MACHINE UNLEARNING OF FEDERATED CLUSTERS</td>\n",
       "      <td>Federated clustering (FC) is an unsupervised l...</td>\n",
       "      <td>[]</td>\n",
       "      <td>MACHINE UNLEARNING OF FEDERATED CLUSTERS\\n\\n\\n...</td>\n",
       "    </tr>\n",
       "  </tbody>\n",
       "</table>\n",
       "</div>"
      ],
      "text/plain": [
       "    corpusid                                              title  \\\n",
       "0  252715594  PHENAKI: VARIABLE LENGTH VIDEO GENERATION FROM...   \n",
       "1   13002849   MODE REGULARIZED GENERATIVE ADVERSARIAL NETWORKS   \n",
       "2  239998253  What Do We Mean by Generalization in Federated...   \n",
       "3   62841605            SPREADING VECTORS FOR SIMILARITY SEARCH   \n",
       "4  253237531           MACHINE UNLEARNING OF FEDERATED CLUSTERS   \n",
       "\n",
       "                                            abstract  \\\n",
       "0  We present Phenaki, a model capable of realist...   \n",
       "1  Although Generative Adversarial Networks achie...   \n",
       "2  Federated learning data is drawn from a distri...   \n",
       "3  Discretizing multi-dimensional data distributi...   \n",
       "4  Federated clustering (FC) is an unsupervised l...   \n",
       "\n",
       "                                           citations  \\\n",
       "0                    [6628106, 174802916, 238582653]   \n",
       "1                                                 []   \n",
       "2  [235613568, 231924480, 211678094, 195798643, 4...   \n",
       "3                                                 []   \n",
       "4                                                 []   \n",
       "\n",
       "                                          full_paper  \n",
       "0  PHENAKI: VARIABLE LENGTH VIDEO GENERATION FROM...  \n",
       "1  MODE REGULARIZED GENERATIVE ADVERSARIAL NETWOR...  \n",
       "2  What Do We Mean by Generalization in Federated...  \n",
       "3  SPREADING VECTORS FOR SIMILARITY SEARCH\\n\\n\\nA...  \n",
       "4  MACHINE UNLEARNING OF FEDERATED CLUSTERS\\n\\n\\n...  "
      ]
     },
     "execution_count": 324,
     "metadata": {},
     "output_type": "execute_result"
    }
   ],
   "source": [
    "litsearch_papers_df_cleaned.head()"
   ]
  },
  {
   "cell_type": "code",
   "execution_count": 325,
   "metadata": {},
   "outputs": [
    {
     "data": {
      "text/html": [
       "<div>\n",
       "<style scoped>\n",
       "    .dataframe tbody tr th:only-of-type {\n",
       "        vertical-align: middle;\n",
       "    }\n",
       "\n",
       "    .dataframe tbody tr th {\n",
       "        vertical-align: top;\n",
       "    }\n",
       "\n",
       "    .dataframe thead th {\n",
       "        text-align: right;\n",
       "    }\n",
       "</style>\n",
       "<table border=\"1\" class=\"dataframe\">\n",
       "  <thead>\n",
       "    <tr style=\"text-align: right;\">\n",
       "      <th></th>\n",
       "      <th>corpusid</th>\n",
       "      <th>title</th>\n",
       "      <th>abstract</th>\n",
       "      <th>citations</th>\n",
       "      <th>full_paper</th>\n",
       "    </tr>\n",
       "  </thead>\n",
       "  <tbody>\n",
       "    <tr>\n",
       "      <th>28</th>\n",
       "      <td>232257804</td>\n",
       "      <td>IMPLICIT NORMALIZING FLOWS</td>\n",
       "      <td></td>\n",
       "      <td>[]</td>\n",
       "      <td>IMPLICIT NORMALIZING FLOWS\\n\\n\\nCheng Lu \\nJia...</td>\n",
       "    </tr>\n",
       "    <tr>\n",
       "      <th>234</th>\n",
       "      <td>238419270</td>\n",
       "      <td>UNDERSTANDING DOMAIN RANDOMIZATION FOR SIM-TO-...</td>\n",
       "      <td>Reinforcement learning encounters many challen...</td>\n",
       "      <td>[]</td>\n",
       "      <td>UNDERSTANDING DOMAIN RANDOMIZATION FOR SIM-TO-...</td>\n",
       "    </tr>\n",
       "    <tr>\n",
       "      <th>246</th>\n",
       "      <td>260498700</td>\n",
       "      <td>EXPLORING SPARSITY IN RECURRENT NEURAL NETWORKS</td>\n",
       "      <td>Recurrent Neural Networks (RNN) are widely use...</td>\n",
       "      <td>[]</td>\n",
       "      <td>EXPLORING SPARSITY IN RECURRENT NEURAL NETWORK...</td>\n",
       "    </tr>\n",
       "    <tr>\n",
       "      <th>499</th>\n",
       "      <td>265038424</td>\n",
       "      <td>IMPROVING GENERALIZATION AND STABILITY OF GENE...</td>\n",
       "      <td>Generative Adversarial Networks (GANs) are one...</td>\n",
       "      <td>[1758096, 3568073, 3366315, 3398677]</td>\n",
       "      <td>IMPROVING GENERALIZATION AND STABILITY OF GENE...</td>\n",
       "    </tr>\n",
       "    <tr>\n",
       "      <th>512</th>\n",
       "      <td>247613305</td>\n",
       "      <td>SURF: SEMI-SUPERVISED REWARD LEARNING WITH DAT...</td>\n",
       "      <td>Preference-based reinforcement learning (RL) h...</td>\n",
       "      <td>[216562627, 3162051, 236134152, 6628106, 28202...</td>\n",
       "      <td>SURF: SEMI-SUPERVISED REWARD LEARNING WITH DAT...</td>\n",
       "    </tr>\n",
       "  </tbody>\n",
       "</table>\n",
       "</div>"
      ],
      "text/plain": [
       "      corpusid                                              title  \\\n",
       "28   232257804                         IMPLICIT NORMALIZING FLOWS   \n",
       "234  238419270  UNDERSTANDING DOMAIN RANDOMIZATION FOR SIM-TO-...   \n",
       "246  260498700    EXPLORING SPARSITY IN RECURRENT NEURAL NETWORKS   \n",
       "499  265038424  IMPROVING GENERALIZATION AND STABILITY OF GENE...   \n",
       "512  247613305  SURF: SEMI-SUPERVISED REWARD LEARNING WITH DAT...   \n",
       "\n",
       "                                              abstract  \\\n",
       "28                                                       \n",
       "234  Reinforcement learning encounters many challen...   \n",
       "246  Recurrent Neural Networks (RNN) are widely use...   \n",
       "499  Generative Adversarial Networks (GANs) are one...   \n",
       "512  Preference-based reinforcement learning (RL) h...   \n",
       "\n",
       "                                             citations  \\\n",
       "28                                                  []   \n",
       "234                                                 []   \n",
       "246                                                 []   \n",
       "499               [1758096, 3568073, 3366315, 3398677]   \n",
       "512  [216562627, 3162051, 236134152, 6628106, 28202...   \n",
       "\n",
       "                                            full_paper  \n",
       "28   IMPLICIT NORMALIZING FLOWS\\n\\n\\nCheng Lu \\nJia...  \n",
       "234  UNDERSTANDING DOMAIN RANDOMIZATION FOR SIM-TO-...  \n",
       "246  EXPLORING SPARSITY IN RECURRENT NEURAL NETWORK...  \n",
       "499  IMPROVING GENERALIZATION AND STABILITY OF GENE...  \n",
       "512  SURF: SEMI-SUPERVISED REWARD LEARNING WITH DAT...  "
      ]
     },
     "execution_count": 325,
     "metadata": {},
     "output_type": "execute_result"
    }
   ],
   "source": [
    "duplicated_papers.head()"
   ]
  },
  {
   "cell_type": "code",
   "execution_count": 326,
   "metadata": {},
   "outputs": [
    {
     "data": {
      "text/html": [
       "<div>\n",
       "<style scoped>\n",
       "    .dataframe tbody tr th:only-of-type {\n",
       "        vertical-align: middle;\n",
       "    }\n",
       "\n",
       "    .dataframe tbody tr th {\n",
       "        vertical-align: top;\n",
       "    }\n",
       "\n",
       "    .dataframe thead th {\n",
       "        text-align: right;\n",
       "    }\n",
       "</style>\n",
       "<table border=\"1\" class=\"dataframe\">\n",
       "  <thead>\n",
       "    <tr style=\"text-align: right;\">\n",
       "      <th></th>\n",
       "      <th>corpusid</th>\n",
       "      <th>title</th>\n",
       "      <th>abstract</th>\n",
       "      <th>citations</th>\n",
       "      <th>full_paper</th>\n",
       "    </tr>\n",
       "  </thead>\n",
       "  <tbody>\n",
       "    <tr>\n",
       "      <th>246</th>\n",
       "      <td>260498700</td>\n",
       "      <td>EXPLORING SPARSITY IN RECURRENT NEURAL NETWORKS</td>\n",
       "      <td>Recurrent Neural Networks (RNN) are widely use...</td>\n",
       "      <td>[]</td>\n",
       "      <td>EXPLORING SPARSITY IN RECURRENT NEURAL NETWORK...</td>\n",
       "    </tr>\n",
       "    <tr>\n",
       "      <th>1004</th>\n",
       "      <td>10135357</td>\n",
       "      <td>EXPLORING SPARSITY IN RECURRENT NEURAL NETWORKS</td>\n",
       "      <td>Recurrent Neural Networks (RNN) are widely use...</td>\n",
       "      <td>[]</td>\n",
       "      <td>EXPLORING SPARSITY IN RECURRENT NEURAL NETWORK...</td>\n",
       "    </tr>\n",
       "    <tr>\n",
       "      <th>2739</th>\n",
       "      <td>261437068</td>\n",
       "      <td>EXPLORING SPARSITY IN RECURRENT NEURAL NETWORKS</td>\n",
       "      <td>Recurrent Neural Networks (RNN) are widely use...</td>\n",
       "      <td>[]</td>\n",
       "      <td>EXPLORING SPARSITY IN RECURRENT NEURAL NETWORK...</td>\n",
       "    </tr>\n",
       "  </tbody>\n",
       "</table>\n",
       "</div>"
      ],
      "text/plain": [
       "       corpusid                                            title  \\\n",
       "246   260498700  EXPLORING SPARSITY IN RECURRENT NEURAL NETWORKS   \n",
       "1004   10135357  EXPLORING SPARSITY IN RECURRENT NEURAL NETWORKS   \n",
       "2739  261437068  EXPLORING SPARSITY IN RECURRENT NEURAL NETWORKS   \n",
       "\n",
       "                                               abstract citations  \\\n",
       "246   Recurrent Neural Networks (RNN) are widely use...        []   \n",
       "1004  Recurrent Neural Networks (RNN) are widely use...        []   \n",
       "2739  Recurrent Neural Networks (RNN) are widely use...        []   \n",
       "\n",
       "                                             full_paper  \n",
       "246   EXPLORING SPARSITY IN RECURRENT NEURAL NETWORK...  \n",
       "1004  EXPLORING SPARSITY IN RECURRENT NEURAL NETWORK...  \n",
       "2739  EXPLORING SPARSITY IN RECURRENT NEURAL NETWORK...  "
      ]
     },
     "execution_count": 326,
     "metadata": {},
     "output_type": "execute_result"
    }
   ],
   "source": [
    "duplicated_papers[duplicated_papers[\"abstract\"] == 'Recurrent Neural Networks (RNN) are widely used to solve a variety of problems and as the quantity of data and the amount of available compute have increased, so have model sizes. The number of parameters in recent state-of-the-art networks makes them hard to deploy, especially on mobile phones and embedded devices. The challenge is due to both the size of the model and the time it takes to evaluate it. In order to deploy these RNNs efficiently, we propose a technique to reduce the parameters of a network by pruning weights during the initial training of the network. At the end of training, the parameters of the network are sparse while accuracy is still close to the original dense neural network. The network size is reduced by 8× and the time required to train the model remains constant. Additionally, we can prune a larger dense network to achieve better than baseline performance while still reducing the total number of parameters significantly. Pruning RNNs reduces the size of the model and can also help achieve significant inference time speed-up using sparse matrix multiply. Benchmarks show that using our technique model size can be reduced by 90% and speed-up is around 2× to 7×.Published as a conference paper at ICLR 2017The more powerful server class GPUs used in data centers can generally perform inference quickly enough to serve one user, but in the data center performance per dollar is very important. Techniques that allow models to be evaluated faster enable more users to be served per GPU increasing the effective performance per dollar.']"
   ]
  },
  {
   "cell_type": "code",
   "execution_count": 327,
   "metadata": {},
   "outputs": [
    {
     "data": {
      "text/plain": [
       "'Recurrent Neural Networks (RNN) are widely used to solve a variety of problems and as the quantity of data and the amount of available compute have increased, so have model sizes. The number of parameters in recent state-of-the-art networks makes them hard to deploy, especially on mobile phones and embedded devices. The challenge is due to both the size of the model and the time it takes to evaluate it. In order to deploy these RNNs efficiently, we propose a technique to reduce the parameters of a network by pruning weights during the initial training of the network. At the end of training, the parameters of the network are sparse while accuracy is still close to the original dense neural network. The network size is reduced by 8× and the time required to train the model remains constant. Additionally, we can prune a larger dense network to achieve better than baseline performance while still reducing the total number of parameters significantly. Pruning RNNs reduces the size of the model and can also help achieve significant inference time speed-up using sparse matrix multiply. Benchmarks show that using our technique model size can be reduced by 90% and speed-up is around 2× to 7×.Published as a conference paper at ICLR 2017The more powerful server class GPUs used in data centers can generally perform inference quickly enough to serve one user, but in the data center performance per dollar is very important. Techniques that allow models to be evaluated faster enable more users to be served per GPU increasing the effective performance per dollar.'"
      ]
     },
     "execution_count": 327,
     "metadata": {},
     "output_type": "execute_result"
    }
   ],
   "source": [
    "duplicated_papers[\"abstract\"][246]"
   ]
  },
  {
   "cell_type": "markdown",
   "metadata": {},
   "source": [
    "so we want to remove corpusids that correspond to papers with empty abstracts and fix those with duplicates (replace with first occurance)"
   ]
  },
  {
   "cell_type": "code",
   "execution_count": 328,
   "metadata": {},
   "outputs": [
    {
     "data": {
      "text/html": [
       "<div>\n",
       "<style scoped>\n",
       "    .dataframe tbody tr th:only-of-type {\n",
       "        vertical-align: middle;\n",
       "    }\n",
       "\n",
       "    .dataframe tbody tr th {\n",
       "        vertical-align: top;\n",
       "    }\n",
       "\n",
       "    .dataframe thead th {\n",
       "        text-align: right;\n",
       "    }\n",
       "</style>\n",
       "<table border=\"1\" class=\"dataframe\">\n",
       "  <thead>\n",
       "    <tr style=\"text-align: right;\">\n",
       "      <th></th>\n",
       "      <th>corpusid</th>\n",
       "      <th>title</th>\n",
       "      <th>abstract</th>\n",
       "      <th>citations</th>\n",
       "      <th>full_paper</th>\n",
       "    </tr>\n",
       "  </thead>\n",
       "  <tbody>\n",
       "    <tr>\n",
       "      <th>0</th>\n",
       "      <td>252715594</td>\n",
       "      <td>PHENAKI: VARIABLE LENGTH VIDEO GENERATION FROM...</td>\n",
       "      <td>We present Phenaki, a model capable of realist...</td>\n",
       "      <td>[6628106, 174802916, 238582653]</td>\n",
       "      <td>PHENAKI: VARIABLE LENGTH VIDEO GENERATION FROM...</td>\n",
       "    </tr>\n",
       "    <tr>\n",
       "      <th>1</th>\n",
       "      <td>13002849</td>\n",
       "      <td>MODE REGULARIZED GENERATIVE ADVERSARIAL NETWORKS</td>\n",
       "      <td>Although Generative Adversarial Networks achie...</td>\n",
       "      <td>[]</td>\n",
       "      <td>MODE REGULARIZED GENERATIVE ADVERSARIAL NETWOR...</td>\n",
       "    </tr>\n",
       "    <tr>\n",
       "      <th>2</th>\n",
       "      <td>239998253</td>\n",
       "      <td>What Do We Mean by Generalization in Federated...</td>\n",
       "      <td>Federated learning data is drawn from a distri...</td>\n",
       "      <td>[235613568, 231924480, 211678094, 195798643, 4...</td>\n",
       "      <td>What Do We Mean by Generalization in Federated...</td>\n",
       "    </tr>\n",
       "    <tr>\n",
       "      <th>3</th>\n",
       "      <td>62841605</td>\n",
       "      <td>SPREADING VECTORS FOR SIMILARITY SEARCH</td>\n",
       "      <td>Discretizing multi-dimensional data distributi...</td>\n",
       "      <td>[]</td>\n",
       "      <td>SPREADING VECTORS FOR SIMILARITY SEARCH\\n\\n\\nA...</td>\n",
       "    </tr>\n",
       "    <tr>\n",
       "      <th>4</th>\n",
       "      <td>253237531</td>\n",
       "      <td>MACHINE UNLEARNING OF FEDERATED CLUSTERS</td>\n",
       "      <td>Federated clustering (FC) is an unsupervised l...</td>\n",
       "      <td>[]</td>\n",
       "      <td>MACHINE UNLEARNING OF FEDERATED CLUSTERS\\n\\n\\n...</td>\n",
       "    </tr>\n",
       "    <tr>\n",
       "      <th>...</th>\n",
       "      <td>...</td>\n",
       "      <td>...</td>\n",
       "      <td>...</td>\n",
       "      <td>...</td>\n",
       "      <td>...</td>\n",
       "    </tr>\n",
       "    <tr>\n",
       "      <th>64178</th>\n",
       "      <td>208324656</td>\n",
       "      <td></td>\n",
       "      <td></td>\n",
       "      <td>[]</td>\n",
       "      <td>Pharmacological Substances, Compounds\\n\\n\\nVíc...</td>\n",
       "    </tr>\n",
       "    <tr>\n",
       "      <th>64179</th>\n",
       "      <td>30831790</td>\n",
       "      <td>The FLaReNet Thematic Network: A Global Forum ...</td>\n",
       "      <td>The aim of this short paper is to present the ...</td>\n",
       "      <td>[]</td>\n",
       "      <td>The FLaReNet Thematic Network: A Global Forum ...</td>\n",
       "    </tr>\n",
       "    <tr>\n",
       "      <th>64180</th>\n",
       "      <td>11918974</td>\n",
       "      <td>Improved statistical measures to assess natura...</td>\n",
       "      <td>We examine the performance of three dependency...</td>\n",
       "      <td>[12042560, 628455, 196105, 9429298, 9431510, 6...</td>\n",
       "      <td>Improved statistical measures to assess natura...</td>\n",
       "    </tr>\n",
       "    <tr>\n",
       "      <th>64181</th>\n",
       "      <td>2046924</td>\n",
       "      <td>The relative divergence of Dutch dialect pronu...</td>\n",
       "      <td>In this paper we use the Reeks Nederlandse Dia...</td>\n",
       "      <td>[2704974]</td>\n",
       "      <td>The relative divergence of Dutch dialect pronu...</td>\n",
       "    </tr>\n",
       "    <tr>\n",
       "      <th>64182</th>\n",
       "      <td>231642302</td>\n",
       "      <td>plWordNet 3.0 -Almost There</td>\n",
       "      <td>It took us nearly ten years to get from no wor...</td>\n",
       "      <td>[16189696, 11338245, 17178054, 17535854, 24949...</td>\n",
       "      <td>plWordNet 3.0 -Almost There\\n\\n\\nMaciej Piasec...</td>\n",
       "    </tr>\n",
       "  </tbody>\n",
       "</table>\n",
       "<p>64183 rows × 5 columns</p>\n",
       "</div>"
      ],
      "text/plain": [
       "        corpusid                                              title  \\\n",
       "0      252715594  PHENAKI: VARIABLE LENGTH VIDEO GENERATION FROM...   \n",
       "1       13002849   MODE REGULARIZED GENERATIVE ADVERSARIAL NETWORKS   \n",
       "2      239998253  What Do We Mean by Generalization in Federated...   \n",
       "3       62841605            SPREADING VECTORS FOR SIMILARITY SEARCH   \n",
       "4      253237531           MACHINE UNLEARNING OF FEDERATED CLUSTERS   \n",
       "...          ...                                                ...   \n",
       "64178  208324656                                                      \n",
       "64179   30831790  The FLaReNet Thematic Network: A Global Forum ...   \n",
       "64180   11918974  Improved statistical measures to assess natura...   \n",
       "64181    2046924  The relative divergence of Dutch dialect pronu...   \n",
       "64182  231642302                        plWordNet 3.0 -Almost There   \n",
       "\n",
       "                                                abstract  \\\n",
       "0      We present Phenaki, a model capable of realist...   \n",
       "1      Although Generative Adversarial Networks achie...   \n",
       "2      Federated learning data is drawn from a distri...   \n",
       "3      Discretizing multi-dimensional data distributi...   \n",
       "4      Federated clustering (FC) is an unsupervised l...   \n",
       "...                                                  ...   \n",
       "64178                                                      \n",
       "64179  The aim of this short paper is to present the ...   \n",
       "64180  We examine the performance of three dependency...   \n",
       "64181  In this paper we use the Reeks Nederlandse Dia...   \n",
       "64182  It took us nearly ten years to get from no wor...   \n",
       "\n",
       "                                               citations  \\\n",
       "0                        [6628106, 174802916, 238582653]   \n",
       "1                                                     []   \n",
       "2      [235613568, 231924480, 211678094, 195798643, 4...   \n",
       "3                                                     []   \n",
       "4                                                     []   \n",
       "...                                                  ...   \n",
       "64178                                                 []   \n",
       "64179                                                 []   \n",
       "64180  [12042560, 628455, 196105, 9429298, 9431510, 6...   \n",
       "64181                                          [2704974]   \n",
       "64182  [16189696, 11338245, 17178054, 17535854, 24949...   \n",
       "\n",
       "                                              full_paper  \n",
       "0      PHENAKI: VARIABLE LENGTH VIDEO GENERATION FROM...  \n",
       "1      MODE REGULARIZED GENERATIVE ADVERSARIAL NETWOR...  \n",
       "2      What Do We Mean by Generalization in Federated...  \n",
       "3      SPREADING VECTORS FOR SIMILARITY SEARCH\\n\\n\\nA...  \n",
       "4      MACHINE UNLEARNING OF FEDERATED CLUSTERS\\n\\n\\n...  \n",
       "...                                                  ...  \n",
       "64178  Pharmacological Substances, Compounds\\n\\n\\nVíc...  \n",
       "64179  The FLaReNet Thematic Network: A Global Forum ...  \n",
       "64180  Improved statistical measures to assess natura...  \n",
       "64181  The relative divergence of Dutch dialect pronu...  \n",
       "64182  plWordNet 3.0 -Almost There\\n\\n\\nMaciej Piasec...  \n",
       "\n",
       "[64183 rows x 5 columns]"
      ]
     },
     "execution_count": 328,
     "metadata": {},
     "output_type": "execute_result"
    }
   ],
   "source": [
    "litsearch_papers_df"
   ]
  },
  {
   "cell_type": "code",
   "execution_count": 329,
   "metadata": {},
   "outputs": [
    {
     "data": {
      "text/html": [
       "<div>\n",
       "<style scoped>\n",
       "    .dataframe tbody tr th:only-of-type {\n",
       "        vertical-align: middle;\n",
       "    }\n",
       "\n",
       "    .dataframe tbody tr th {\n",
       "        vertical-align: top;\n",
       "    }\n",
       "\n",
       "    .dataframe thead th {\n",
       "        text-align: right;\n",
       "    }\n",
       "</style>\n",
       "<table border=\"1\" class=\"dataframe\">\n",
       "  <thead>\n",
       "    <tr style=\"text-align: right;\">\n",
       "      <th></th>\n",
       "      <th>corpusid</th>\n",
       "      <th>title</th>\n",
       "      <th>abstract</th>\n",
       "      <th>citations</th>\n",
       "      <th>full_paper</th>\n",
       "    </tr>\n",
       "  </thead>\n",
       "  <tbody>\n",
       "    <tr>\n",
       "      <th>43943</th>\n",
       "      <td>225771528</td>\n",
       "      <td></td>\n",
       "      <td></td>\n",
       "      <td>[]</td>\n",
       "      <td>Traduction automatique pour la normalisation d...</td>\n",
       "    </tr>\n",
       "  </tbody>\n",
       "</table>\n",
       "</div>"
      ],
      "text/plain": [
       "        corpusid title abstract citations  \\\n",
       "43943  225771528                       []   \n",
       "\n",
       "                                              full_paper  \n",
       "43943  Traduction automatique pour la normalisation d...  "
      ]
     },
     "execution_count": 329,
     "metadata": {},
     "output_type": "execute_result"
    }
   ],
   "source": [
    "litsearch_papers_df[litsearch_papers_df[\"corpusid\"] == 225771528]"
   ]
  },
  {
   "cell_type": "markdown",
   "metadata": {},
   "source": [
    "Note: some rows in `litsearch_papers_df` may be valid but just with no abstract (meaning that whenever its references in   `litsearch_query_df_cleaned`, its full text corresponds to the query). but just for simplicity since I am just looking at query <> abstract pairs, we will consider these rows to be invalid too"
   ]
  },
  {
   "cell_type": "code",
   "execution_count": 568,
   "metadata": {},
   "outputs": [
    {
     "data": {
      "text/html": [
       "<div>\n",
       "<style scoped>\n",
       "    .dataframe tbody tr th:only-of-type {\n",
       "        vertical-align: middle;\n",
       "    }\n",
       "\n",
       "    .dataframe tbody tr th {\n",
       "        vertical-align: top;\n",
       "    }\n",
       "\n",
       "    .dataframe thead th {\n",
       "        text-align: right;\n",
       "    }\n",
       "</style>\n",
       "<table border=\"1\" class=\"dataframe\">\n",
       "  <thead>\n",
       "    <tr style=\"text-align: right;\">\n",
       "      <th></th>\n",
       "      <th>query_set</th>\n",
       "      <th>query</th>\n",
       "      <th>specificity</th>\n",
       "      <th>quality</th>\n",
       "      <th>corpusids</th>\n",
       "    </tr>\n",
       "  </thead>\n",
       "  <tbody>\n",
       "    <tr>\n",
       "      <th>0</th>\n",
       "      <td>inline_acl</td>\n",
       "      <td>Are there any research papers on methods to co...</td>\n",
       "      <td>0</td>\n",
       "      <td>2</td>\n",
       "      <td>[202719327]</td>\n",
       "    </tr>\n",
       "    <tr>\n",
       "      <th>1</th>\n",
       "      <td>inline_acl</td>\n",
       "      <td>Are there any resources available for translat...</td>\n",
       "      <td>1</td>\n",
       "      <td>2</td>\n",
       "      <td>[227231792]</td>\n",
       "    </tr>\n",
       "    <tr>\n",
       "      <th>2</th>\n",
       "      <td>inline_acl</td>\n",
       "      <td>Are there any studies that explore post-hoc te...</td>\n",
       "      <td>0</td>\n",
       "      <td>2</td>\n",
       "      <td>[204976362, 226254579]</td>\n",
       "    </tr>\n",
       "    <tr>\n",
       "      <th>3</th>\n",
       "      <td>inline_acl</td>\n",
       "      <td>Are there any tools or studies that have focus...</td>\n",
       "      <td>1</td>\n",
       "      <td>2</td>\n",
       "      <td>[10961392, 12160022]</td>\n",
       "    </tr>\n",
       "    <tr>\n",
       "      <th>4</th>\n",
       "      <td>inline_acl</td>\n",
       "      <td>Are there papers that propose contextualized c...</td>\n",
       "      <td>1</td>\n",
       "      <td>2</td>\n",
       "      <td>[233296182]</td>\n",
       "    </tr>\n",
       "  </tbody>\n",
       "</table>\n",
       "</div>"
      ],
      "text/plain": [
       "    query_set                                              query  specificity  \\\n",
       "0  inline_acl  Are there any research papers on methods to co...            0   \n",
       "1  inline_acl  Are there any resources available for translat...            1   \n",
       "2  inline_acl  Are there any studies that explore post-hoc te...            0   \n",
       "3  inline_acl  Are there any tools or studies that have focus...            1   \n",
       "4  inline_acl  Are there papers that propose contextualized c...            1   \n",
       "\n",
       "   quality               corpusids  \n",
       "0        2             [202719327]  \n",
       "1        2             [227231792]  \n",
       "2        2  [204976362, 226254579]  \n",
       "3        2    [10961392, 12160022]  \n",
       "4        2             [233296182]  "
      ]
     },
     "execution_count": 568,
     "metadata": {},
     "output_type": "execute_result"
    }
   ],
   "source": [
    "empty_abstract_ids = set(\n",
    "    duplicated_papers.loc[duplicated_papers[\"abstract\"] == \"\", \"corpusid\"]\n",
    ")\n",
    "\n",
    "duplicate_mapping = {}\n",
    "\n",
    "for _, group in duplicated_papers.groupby(\"title\"):\n",
    "    first_corpusid = group.iloc[0][\"corpusid\"]\n",
    "    for corpusid in group[\"corpusid\"]:\n",
    "        duplicate_mapping[corpusid] = first_corpusid\n",
    "\n",
    "def clean_corpusids(corpusids):\n",
    "    cleaned_ids = []\n",
    "    \n",
    "    for corpusid in corpusids:\n",
    "        # Remove corpusid if it has an empty abstract\n",
    "        if corpusid in empty_abstract_ids:\n",
    "            continue\n",
    "        \n",
    "        # Replace corpusid if it's a duplicate\n",
    "        if corpusid in duplicate_mapping:\n",
    "            corpusid = duplicate_mapping[corpusid]\n",
    "        \n",
    "        cleaned_ids.append(corpusid)\n",
    "    \n",
    "    return list(set(cleaned_ids))\n",
    "\n",
    "litsearch_query_df_cleaned[\"corpusids\"] = litsearch_query_df_cleaned[\"corpusids\"].apply(clean_corpusids)\n",
    "\n",
    "litsearch_query_df_cleaned.head()"
   ]
  },
  {
   "cell_type": "markdown",
   "metadata": {},
   "source": [
    "there seems to be research papers in french? we're not looking for multilingual datasets here so will exclude"
   ]
  },
  {
   "cell_type": "code",
   "execution_count": 331,
   "metadata": {},
   "outputs": [
    {
     "name": "stderr",
     "output_type": "stream",
     "text": [
      "/var/folders/tt/89j8tbqd2q3bnwxk83_csyn00000gn/T/ipykernel_2920/46228635.py:12: SettingWithCopyWarning: \n",
      "A value is trying to be set on a copy of a slice from a DataFrame.\n",
      "Try using .loc[row_indexer,col_indexer] = value instead\n",
      "\n",
      "See the caveats in the documentation: https://pandas.pydata.org/pandas-docs/stable/user_guide/indexing.html#returning-a-view-versus-a-copy\n",
      "  litsearch_papers_df_cleaned[\"is_french\"] = litsearch_papers_df_cleaned[\"title\"].apply(is_french_paper)\n"
     ]
    }
   ],
   "source": [
    "# words that may appear\n",
    "common_french_words = {\"à\", \"avec\", \"pour\", \"par\", \"dans\", \"ou\", \"mais\", \"donc\",\n",
    "                       \"ce\", \"cet\", \"cette\", \"ces\", \"qui\", \"que\", \"cela\", \"ainsi\", \"selon\", \n",
    "                       \"notamment\", \"plusieurs\", \"également\", \"néanmoins\", \"alors\", \"afin\"}\n",
    "\n",
    "def is_french_paper(text):\n",
    "    if pd.isna(text):\n",
    "        return False\n",
    "    text_words = set(text.lower().split())  # Convert text to lowercase and split into words\n",
    "    return bool(common_french_words & text_words)  # Check for intersection\n",
    "\n",
    "litsearch_papers_df_cleaned[\"is_french\"] = litsearch_papers_df_cleaned[\"title\"].apply(is_french_paper)"
   ]
  },
  {
   "cell_type": "markdown",
   "metadata": {},
   "source": [
    "more accurate way of clasifying since we know that french papers actually exist\n",
    "\n",
    "also, used title because tried this with full paper earlier and it would often be english papers referecing french papers"
   ]
  },
  {
   "cell_type": "code",
   "execution_count": 228,
   "metadata": {},
   "outputs": [
    {
     "name": "stdout",
     "output_type": "stream",
     "text": [
      "Defaulting to user installation because normal site-packages is not writeable\n",
      "Collecting langdetect\n",
      "  Downloading langdetect-1.0.9.tar.gz (981 kB)\n",
      "\u001b[2K     \u001b[90m━━━━━━━━━━━━━━━━━━━━━━━━━━━━━━━━━━━━━━━\u001b[0m \u001b[32m981.5/981.5 kB\u001b[0m \u001b[31m2.4 MB/s\u001b[0m eta \u001b[36m0:00:00\u001b[0ma \u001b[36m0:00:01\u001b[0m\n",
      "\u001b[?25h  Preparing metadata (setup.py) ... \u001b[?25ldone\n",
      "\u001b[?25hRequirement already satisfied: six in /Library/Developer/CommandLineTools/Library/Frameworks/Python3.framework/Versions/3.9/lib/python3.9/site-packages (from langdetect) (1.15.0)\n",
      "Building wheels for collected packages: langdetect\n",
      "  Building wheel for langdetect (setup.py) ... \u001b[?25ldone\n",
      "\u001b[?25h  Created wheel for langdetect: filename=langdetect-1.0.9-py3-none-any.whl size=993242 sha256=632f10edf5c07922995c2fe11238d184f996b7b0ae33fe2cafba3e8e08f85114\n",
      "  Stored in directory: /Users/kellyhong/Library/Caches/pip/wheels/d1/c1/d9/7e068de779d863bc8f8fc9467d85e25cfe47fa5051fff1a1bb\n",
      "Successfully built langdetect\n",
      "Installing collected packages: langdetect\n",
      "Successfully installed langdetect-1.0.9\n",
      "\n",
      "\u001b[1m[\u001b[0m\u001b[34;49mnotice\u001b[0m\u001b[1;39;49m]\u001b[0m\u001b[39;49m A new release of pip is available: \u001b[0m\u001b[31;49m24.3.1\u001b[0m\u001b[39;49m -> \u001b[0m\u001b[32;49m25.0\u001b[0m\n",
      "\u001b[1m[\u001b[0m\u001b[34;49mnotice\u001b[0m\u001b[1;39;49m]\u001b[0m\u001b[39;49m To update, run: \u001b[0m\u001b[32;49m/Library/Developer/CommandLineTools/usr/bin/python3 -m pip install --upgrade pip\u001b[0m\n",
      "Note: you may need to restart the kernel to use updated packages.\n"
     ]
    }
   ],
   "source": [
    "pip install langdetect"
   ]
  },
  {
   "cell_type": "code",
   "execution_count": 229,
   "metadata": {},
   "outputs": [
    {
     "name": "stderr",
     "output_type": "stream",
     "text": [
      "/var/folders/tt/89j8tbqd2q3bnwxk83_csyn00000gn/T/ipykernel_2920/4260974261.py:13: SettingWithCopyWarning: \n",
      "A value is trying to be set on a copy of a slice from a DataFrame.\n",
      "Try using .loc[row_indexer,col_indexer] = value instead\n",
      "\n",
      "See the caveats in the documentation: https://pandas.pydata.org/pandas-docs/stable/user_guide/indexing.html#returning-a-view-versus-a-copy\n",
      "  litsearch_papers_df_cleaned[\"language\"] = litsearch_papers_df_cleaned[\"title\"].apply(detect_language)\n"
     ]
    }
   ],
   "source": [
    "from langdetect import detect, DetectorFactory\n",
    "\n",
    "DetectorFactory.seed = 0  # Ensure consistent results\n",
    "\n",
    "def detect_language(text):\n",
    "    if pd.isna(text) or not isinstance(text, str) or len(text) < 5:\n",
    "        return \"unknown\"\n",
    "    try:\n",
    "        return detect(text)\n",
    "    except:\n",
    "        return \"unknown\"\n",
    "\n",
    "litsearch_papers_df_cleaned[\"language\"] = litsearch_papers_df_cleaned[\"title\"].apply(detect_language)\n",
    "\n",
    "english_papers_df = litsearch_papers_df_cleaned[litsearch_papers_df_cleaned[\"language\"] == \"en\"]\n",
    "non_english_papers_df = litsearch_papers_df_cleaned[litsearch_papers_df_cleaned[\"language\"] != \"en\"]"
   ]
  },
  {
   "cell_type": "markdown",
   "metadata": {},
   "source": [
    "from some observations, it seems like papers are either in english or french (non-french/english papers just seem to be misclassified but they're actually english)\n",
    "\n",
    "but also some \"fr\" classified ones are actually english, so I think my previous method is more accurate"
   ]
  },
  {
   "cell_type": "markdown",
   "metadata": {},
   "source": [
    "quick check in query dataset:"
   ]
  },
  {
   "cell_type": "code",
   "execution_count": 242,
   "metadata": {},
   "outputs": [
    {
     "data": {
      "text/html": [
       "<div>\n",
       "<style scoped>\n",
       "    .dataframe tbody tr th:only-of-type {\n",
       "        vertical-align: middle;\n",
       "    }\n",
       "\n",
       "    .dataframe tbody tr th {\n",
       "        vertical-align: top;\n",
       "    }\n",
       "\n",
       "    .dataframe thead th {\n",
       "        text-align: right;\n",
       "    }\n",
       "</style>\n",
       "<table border=\"1\" class=\"dataframe\">\n",
       "  <thead>\n",
       "    <tr style=\"text-align: right;\">\n",
       "      <th></th>\n",
       "      <th>query_set</th>\n",
       "      <th>query</th>\n",
       "      <th>specificity</th>\n",
       "      <th>quality</th>\n",
       "      <th>corpusids</th>\n",
       "    </tr>\n",
       "  </thead>\n",
       "  <tbody>\n",
       "  </tbody>\n",
       "</table>\n",
       "</div>"
      ],
      "text/plain": [
       "Empty DataFrame\n",
       "Columns: [query_set, query, specificity, quality, corpusids]\n",
       "Index: []"
      ]
     },
     "execution_count": 242,
     "metadata": {},
     "output_type": "execute_result"
    }
   ],
   "source": [
    "french_queries_df = litsearch_query_df_cleaned[litsearch_query_df_cleaned[\"query\"].apply(is_french_paper)]\n",
    "\n",
    "french_queries_df.head()"
   ]
  },
  {
   "cell_type": "markdown",
   "metadata": {},
   "source": [
    "so it's just the research papers that have french text, will account for those since this benchmark isn't supposed to test multilingual"
   ]
  },
  {
   "cell_type": "code",
   "execution_count": 332,
   "metadata": {},
   "outputs": [
    {
     "data": {
      "text/html": [
       "<div>\n",
       "<style scoped>\n",
       "    .dataframe tbody tr th:only-of-type {\n",
       "        vertical-align: middle;\n",
       "    }\n",
       "\n",
       "    .dataframe tbody tr th {\n",
       "        vertical-align: top;\n",
       "    }\n",
       "\n",
       "    .dataframe thead th {\n",
       "        text-align: right;\n",
       "    }\n",
       "</style>\n",
       "<table border=\"1\" class=\"dataframe\">\n",
       "  <thead>\n",
       "    <tr style=\"text-align: right;\">\n",
       "      <th></th>\n",
       "      <th>corpusid</th>\n",
       "      <th>title</th>\n",
       "      <th>abstract</th>\n",
       "      <th>citations</th>\n",
       "      <th>full_paper</th>\n",
       "      <th>is_french</th>\n",
       "    </tr>\n",
       "  </thead>\n",
       "  <tbody>\n",
       "    <tr>\n",
       "      <th>4809</th>\n",
       "      <td>264038749</td>\n",
       "      <td>Jeu de données de tickets de caisse pour la dé...</td>\n",
       "      <td>L'utilisation généralisée de documents numériq...</td>\n",
       "      <td>[]</td>\n",
       "      <td>Jeu de données de tickets de caisse pour la dé...</td>\n",
       "      <td>True</td>\n",
       "    </tr>\n",
       "    <tr>\n",
       "      <th>4857</th>\n",
       "      <td>193020094</td>\n",
       "      <td>Annotation automatique d'un corpus d'apprenant...</td>\n",
       "      <td>RÉSUMÉ________________________________________...</td>\n",
       "      <td>[252796]</td>\n",
       "      <td>Annotation automatique d'un corpus d'apprenant...</td>\n",
       "      <td>True</td>\n",
       "    </tr>\n",
       "    <tr>\n",
       "      <th>4884</th>\n",
       "      <td>264038759</td>\n",
       "      <td>Production automatique de gloses interlinéaire...</td>\n",
       "      <td>La production d'annotations linguistiques ou g...</td>\n",
       "      <td>[263313957, 52967399, 227231816, 12259852, 770...</td>\n",
       "      <td>Production automatique de gloses interlinéaire...</td>\n",
       "      <td>True</td>\n",
       "    </tr>\n",
       "    <tr>\n",
       "      <th>4885</th>\n",
       "      <td>264038774</td>\n",
       "      <td>Stratégies d'apprentissage actif pour la recon...</td>\n",
       "      <td>L'annotation manuelle de corpus est un process...</td>\n",
       "      <td>[220045827, 174799748, 17449944, 250390500, 52...</td>\n",
       "      <td>Stratégies d'apprentissage actif pour la recon...</td>\n",
       "      <td>True</td>\n",
       "    </tr>\n",
       "    <tr>\n",
       "      <th>4889</th>\n",
       "      <td>30339746</td>\n",
       "      <td>VisArtico : visualiser les données articulatoi...</td>\n",
       "      <td>1) LORIA -UMR 7503, 54506 Vandoeuvre-lès-Nancy...</td>\n",
       "      <td>[]</td>\n",
       "      <td>VisArtico : visualiser les données articulatoi...</td>\n",
       "      <td>True</td>\n",
       "    </tr>\n",
       "  </tbody>\n",
       "</table>\n",
       "</div>"
      ],
      "text/plain": [
       "       corpusid                                              title  \\\n",
       "4809  264038749  Jeu de données de tickets de caisse pour la dé...   \n",
       "4857  193020094  Annotation automatique d'un corpus d'apprenant...   \n",
       "4884  264038759  Production automatique de gloses interlinéaire...   \n",
       "4885  264038774  Stratégies d'apprentissage actif pour la recon...   \n",
       "4889   30339746  VisArtico : visualiser les données articulatoi...   \n",
       "\n",
       "                                               abstract  \\\n",
       "4809  L'utilisation généralisée de documents numériq...   \n",
       "4857  RÉSUMÉ________________________________________...   \n",
       "4884  La production d'annotations linguistiques ou g...   \n",
       "4885  L'annotation manuelle de corpus est un process...   \n",
       "4889  1) LORIA -UMR 7503, 54506 Vandoeuvre-lès-Nancy...   \n",
       "\n",
       "                                              citations  \\\n",
       "4809                                                 []   \n",
       "4857                                           [252796]   \n",
       "4884  [263313957, 52967399, 227231816, 12259852, 770...   \n",
       "4885  [220045827, 174799748, 17449944, 250390500, 52...   \n",
       "4889                                                 []   \n",
       "\n",
       "                                             full_paper  is_french  \n",
       "4809  Jeu de données de tickets de caisse pour la dé...       True  \n",
       "4857  Annotation automatique d'un corpus d'apprenant...       True  \n",
       "4884  Production automatique de gloses interlinéaire...       True  \n",
       "4885  Stratégies d'apprentissage actif pour la recon...       True  \n",
       "4889  VisArtico : visualiser les données articulatoi...       True  "
      ]
     },
     "execution_count": 332,
     "metadata": {},
     "output_type": "execute_result"
    }
   ],
   "source": [
    "litsearch_papers_df_cleaned[litsearch_papers_df_cleaned[\"is_french\"] == True].head()"
   ]
  },
  {
   "cell_type": "code",
   "execution_count": 333,
   "metadata": {},
   "outputs": [
    {
     "data": {
      "text/plain": [
       "460"
      ]
     },
     "execution_count": 333,
     "metadata": {},
     "output_type": "execute_result"
    }
   ],
   "source": [
    "french_paper_ids = set(\n",
    "    litsearch_papers_df_cleaned.loc[litsearch_papers_df_cleaned[\"is_french\"] == True, \"corpusid\"]\n",
    ")\n",
    "len(french_paper_ids)"
   ]
  },
  {
   "cell_type": "code",
   "execution_count": 334,
   "metadata": {},
   "outputs": [],
   "source": [
    "def clean_language(corpusids):\n",
    "    cleaned_ids = []\n",
    "\n",
    "    for corpusid in corpusids:\n",
    "        if corpusid in french_paper_ids:\n",
    "            continue\n",
    "        else:\n",
    "            cleaned_ids.append(corpusid)\n",
    "    \n",
    "    return list(set(cleaned_ids))\n",
    "\n",
    "litsearch_query_df_cleaned[\"corpusids\"] = litsearch_query_df_cleaned[\"corpusids\"].apply(clean_language)"
   ]
  },
  {
   "cell_type": "code",
   "execution_count": 335,
   "metadata": {},
   "outputs": [
    {
     "data": {
      "text/html": [
       "<div>\n",
       "<style scoped>\n",
       "    .dataframe tbody tr th:only-of-type {\n",
       "        vertical-align: middle;\n",
       "    }\n",
       "\n",
       "    .dataframe tbody tr th {\n",
       "        vertical-align: top;\n",
       "    }\n",
       "\n",
       "    .dataframe thead th {\n",
       "        text-align: right;\n",
       "    }\n",
       "</style>\n",
       "<table border=\"1\" class=\"dataframe\">\n",
       "  <thead>\n",
       "    <tr style=\"text-align: right;\">\n",
       "      <th></th>\n",
       "      <th>query_set</th>\n",
       "      <th>query</th>\n",
       "      <th>specificity</th>\n",
       "      <th>quality</th>\n",
       "      <th>corpusids</th>\n",
       "    </tr>\n",
       "  </thead>\n",
       "  <tbody>\n",
       "    <tr>\n",
       "      <th>0</th>\n",
       "      <td>inline_acl</td>\n",
       "      <td>Are there any research papers on methods to co...</td>\n",
       "      <td>0</td>\n",
       "      <td>2</td>\n",
       "      <td>[202719327]</td>\n",
       "    </tr>\n",
       "    <tr>\n",
       "      <th>1</th>\n",
       "      <td>inline_acl</td>\n",
       "      <td>Are there any resources available for translat...</td>\n",
       "      <td>1</td>\n",
       "      <td>2</td>\n",
       "      <td>[227231792]</td>\n",
       "    </tr>\n",
       "    <tr>\n",
       "      <th>2</th>\n",
       "      <td>inline_acl</td>\n",
       "      <td>Are there any studies that explore post-hoc te...</td>\n",
       "      <td>0</td>\n",
       "      <td>2</td>\n",
       "      <td>[204976362, 226254579]</td>\n",
       "    </tr>\n",
       "    <tr>\n",
       "      <th>3</th>\n",
       "      <td>inline_acl</td>\n",
       "      <td>Are there any tools or studies that have focus...</td>\n",
       "      <td>1</td>\n",
       "      <td>2</td>\n",
       "      <td>[10961392, 12160022]</td>\n",
       "    </tr>\n",
       "    <tr>\n",
       "      <th>4</th>\n",
       "      <td>inline_acl</td>\n",
       "      <td>Are there papers that propose contextualized c...</td>\n",
       "      <td>1</td>\n",
       "      <td>2</td>\n",
       "      <td>[233296182]</td>\n",
       "    </tr>\n",
       "  </tbody>\n",
       "</table>\n",
       "</div>"
      ],
      "text/plain": [
       "    query_set                                              query  specificity  \\\n",
       "0  inline_acl  Are there any research papers on methods to co...            0   \n",
       "1  inline_acl  Are there any resources available for translat...            1   \n",
       "2  inline_acl  Are there any studies that explore post-hoc te...            0   \n",
       "3  inline_acl  Are there any tools or studies that have focus...            1   \n",
       "4  inline_acl  Are there papers that propose contextualized c...            1   \n",
       "\n",
       "   quality               corpusids  \n",
       "0        2             [202719327]  \n",
       "1        2             [227231792]  \n",
       "2        2  [204976362, 226254579]  \n",
       "3        2    [10961392, 12160022]  \n",
       "4        2             [233296182]  "
      ]
     },
     "execution_count": 335,
     "metadata": {},
     "output_type": "execute_result"
    }
   ],
   "source": [
    "litsearch_query_df_cleaned.head()"
   ]
  },
  {
   "cell_type": "markdown",
   "metadata": {},
   "source": [
    "check to make sure everything worked"
   ]
  },
  {
   "cell_type": "code",
   "execution_count": 336,
   "metadata": {},
   "outputs": [],
   "source": [
    "filtered_df = litsearch_query_df_cleaned[\n",
    "    litsearch_query_df_cleaned[\"corpusids\"].apply(lambda x: 264038749 in x)\n",
    "]"
   ]
  },
  {
   "cell_type": "code",
   "execution_count": 337,
   "metadata": {},
   "outputs": [
    {
     "data": {
      "text/html": [
       "<div>\n",
       "<style scoped>\n",
       "    .dataframe tbody tr th:only-of-type {\n",
       "        vertical-align: middle;\n",
       "    }\n",
       "\n",
       "    .dataframe tbody tr th {\n",
       "        vertical-align: top;\n",
       "    }\n",
       "\n",
       "    .dataframe thead th {\n",
       "        text-align: right;\n",
       "    }\n",
       "</style>\n",
       "<table border=\"1\" class=\"dataframe\">\n",
       "  <thead>\n",
       "    <tr style=\"text-align: right;\">\n",
       "      <th></th>\n",
       "      <th>query_set</th>\n",
       "      <th>query</th>\n",
       "      <th>specificity</th>\n",
       "      <th>quality</th>\n",
       "      <th>corpusids</th>\n",
       "    </tr>\n",
       "  </thead>\n",
       "  <tbody>\n",
       "  </tbody>\n",
       "</table>\n",
       "</div>"
      ],
      "text/plain": [
       "Empty DataFrame\n",
       "Columns: [query_set, query, specificity, quality, corpusids]\n",
       "Index: []"
      ]
     },
     "execution_count": 337,
     "metadata": {},
     "output_type": "execute_result"
    }
   ],
   "source": [
    "filtered_df"
   ]
  },
  {
   "cell_type": "code",
   "execution_count": 338,
   "metadata": {},
   "outputs": [
    {
     "data": {
      "text/plain": [
       "55909"
      ]
     },
     "execution_count": 338,
     "metadata": {},
     "output_type": "execute_result"
    }
   ],
   "source": [
    "len(litsearch_papers_df_cleaned)"
   ]
  },
  {
   "cell_type": "code",
   "execution_count": 339,
   "metadata": {},
   "outputs": [
    {
     "data": {
      "text/plain": [
       "55449"
      ]
     },
     "execution_count": 339,
     "metadata": {},
     "output_type": "execute_result"
    }
   ],
   "source": [
    "len(litsearch_papers_df_cleaned[litsearch_papers_df_cleaned[\"is_french\"] == False])"
   ]
  },
  {
   "cell_type": "code",
   "execution_count": 340,
   "metadata": {},
   "outputs": [],
   "source": [
    "litsearch_papers_df_cleaned_en = litsearch_papers_df_cleaned[litsearch_papers_df_cleaned[\"is_french\"] == False]"
   ]
  },
  {
   "cell_type": "code",
   "execution_count": 342,
   "metadata": {},
   "outputs": [
    {
     "data": {
      "text/plain": [
       "55449"
      ]
     },
     "execution_count": 342,
     "metadata": {},
     "output_type": "execute_result"
    }
   ],
   "source": [
    "len(litsearch_papers_df_cleaned_en)"
   ]
  },
  {
   "cell_type": "markdown",
   "metadata": {},
   "source": [
    "#### Final cleaned dataset"
   ]
  },
  {
   "cell_type": "code",
   "execution_count": 341,
   "metadata": {},
   "outputs": [
    {
     "data": {
      "text/html": [
       "<div>\n",
       "<style scoped>\n",
       "    .dataframe tbody tr th:only-of-type {\n",
       "        vertical-align: middle;\n",
       "    }\n",
       "\n",
       "    .dataframe tbody tr th {\n",
       "        vertical-align: top;\n",
       "    }\n",
       "\n",
       "    .dataframe thead th {\n",
       "        text-align: right;\n",
       "    }\n",
       "</style>\n",
       "<table border=\"1\" class=\"dataframe\">\n",
       "  <thead>\n",
       "    <tr style=\"text-align: right;\">\n",
       "      <th></th>\n",
       "      <th>corpusid</th>\n",
       "      <th>title</th>\n",
       "      <th>abstract</th>\n",
       "      <th>citations</th>\n",
       "      <th>full_paper</th>\n",
       "      <th>is_french</th>\n",
       "    </tr>\n",
       "  </thead>\n",
       "  <tbody>\n",
       "    <tr>\n",
       "      <th>0</th>\n",
       "      <td>252715594</td>\n",
       "      <td>PHENAKI: VARIABLE LENGTH VIDEO GENERATION FROM...</td>\n",
       "      <td>We present Phenaki, a model capable of realist...</td>\n",
       "      <td>[6628106, 174802916, 238582653]</td>\n",
       "      <td>PHENAKI: VARIABLE LENGTH VIDEO GENERATION FROM...</td>\n",
       "      <td>False</td>\n",
       "    </tr>\n",
       "    <tr>\n",
       "      <th>1</th>\n",
       "      <td>13002849</td>\n",
       "      <td>MODE REGULARIZED GENERATIVE ADVERSARIAL NETWORKS</td>\n",
       "      <td>Although Generative Adversarial Networks achie...</td>\n",
       "      <td>[]</td>\n",
       "      <td>MODE REGULARIZED GENERATIVE ADVERSARIAL NETWOR...</td>\n",
       "      <td>False</td>\n",
       "    </tr>\n",
       "    <tr>\n",
       "      <th>2</th>\n",
       "      <td>239998253</td>\n",
       "      <td>What Do We Mean by Generalization in Federated...</td>\n",
       "      <td>Federated learning data is drawn from a distri...</td>\n",
       "      <td>[235613568, 231924480, 211678094, 195798643, 4...</td>\n",
       "      <td>What Do We Mean by Generalization in Federated...</td>\n",
       "      <td>False</td>\n",
       "    </tr>\n",
       "    <tr>\n",
       "      <th>3</th>\n",
       "      <td>62841605</td>\n",
       "      <td>SPREADING VECTORS FOR SIMILARITY SEARCH</td>\n",
       "      <td>Discretizing multi-dimensional data distributi...</td>\n",
       "      <td>[]</td>\n",
       "      <td>SPREADING VECTORS FOR SIMILARITY SEARCH\\n\\n\\nA...</td>\n",
       "      <td>False</td>\n",
       "    </tr>\n",
       "    <tr>\n",
       "      <th>4</th>\n",
       "      <td>253237531</td>\n",
       "      <td>MACHINE UNLEARNING OF FEDERATED CLUSTERS</td>\n",
       "      <td>Federated clustering (FC) is an unsupervised l...</td>\n",
       "      <td>[]</td>\n",
       "      <td>MACHINE UNLEARNING OF FEDERATED CLUSTERS\\n\\n\\n...</td>\n",
       "      <td>False</td>\n",
       "    </tr>\n",
       "  </tbody>\n",
       "</table>\n",
       "</div>"
      ],
      "text/plain": [
       "    corpusid                                              title  \\\n",
       "0  252715594  PHENAKI: VARIABLE LENGTH VIDEO GENERATION FROM...   \n",
       "1   13002849   MODE REGULARIZED GENERATIVE ADVERSARIAL NETWORKS   \n",
       "2  239998253  What Do We Mean by Generalization in Federated...   \n",
       "3   62841605            SPREADING VECTORS FOR SIMILARITY SEARCH   \n",
       "4  253237531           MACHINE UNLEARNING OF FEDERATED CLUSTERS   \n",
       "\n",
       "                                            abstract  \\\n",
       "0  We present Phenaki, a model capable of realist...   \n",
       "1  Although Generative Adversarial Networks achie...   \n",
       "2  Federated learning data is drawn from a distri...   \n",
       "3  Discretizing multi-dimensional data distributi...   \n",
       "4  Federated clustering (FC) is an unsupervised l...   \n",
       "\n",
       "                                           citations  \\\n",
       "0                    [6628106, 174802916, 238582653]   \n",
       "1                                                 []   \n",
       "2  [235613568, 231924480, 211678094, 195798643, 4...   \n",
       "3                                                 []   \n",
       "4                                                 []   \n",
       "\n",
       "                                          full_paper  is_french  \n",
       "0  PHENAKI: VARIABLE LENGTH VIDEO GENERATION FROM...      False  \n",
       "1  MODE REGULARIZED GENERATIVE ADVERSARIAL NETWOR...      False  \n",
       "2  What Do We Mean by Generalization in Federated...      False  \n",
       "3  SPREADING VECTORS FOR SIMILARITY SEARCH\\n\\n\\nA...      False  \n",
       "4  MACHINE UNLEARNING OF FEDERATED CLUSTERS\\n\\n\\n...      False  "
      ]
     },
     "execution_count": 341,
     "metadata": {},
     "output_type": "execute_result"
    }
   ],
   "source": [
    "litsearch_papers_df_cleaned_en.head()"
   ]
  },
  {
   "cell_type": "code",
   "execution_count": 343,
   "metadata": {},
   "outputs": [
    {
     "data": {
      "text/html": [
       "<div>\n",
       "<style scoped>\n",
       "    .dataframe tbody tr th:only-of-type {\n",
       "        vertical-align: middle;\n",
       "    }\n",
       "\n",
       "    .dataframe tbody tr th {\n",
       "        vertical-align: top;\n",
       "    }\n",
       "\n",
       "    .dataframe thead th {\n",
       "        text-align: right;\n",
       "    }\n",
       "</style>\n",
       "<table border=\"1\" class=\"dataframe\">\n",
       "  <thead>\n",
       "    <tr style=\"text-align: right;\">\n",
       "      <th></th>\n",
       "      <th>query_set</th>\n",
       "      <th>query</th>\n",
       "      <th>specificity</th>\n",
       "      <th>quality</th>\n",
       "      <th>corpusids</th>\n",
       "    </tr>\n",
       "  </thead>\n",
       "  <tbody>\n",
       "    <tr>\n",
       "      <th>0</th>\n",
       "      <td>inline_acl</td>\n",
       "      <td>Are there any research papers on methods to co...</td>\n",
       "      <td>0</td>\n",
       "      <td>2</td>\n",
       "      <td>[202719327]</td>\n",
       "    </tr>\n",
       "    <tr>\n",
       "      <th>1</th>\n",
       "      <td>inline_acl</td>\n",
       "      <td>Are there any resources available for translat...</td>\n",
       "      <td>1</td>\n",
       "      <td>2</td>\n",
       "      <td>[227231792]</td>\n",
       "    </tr>\n",
       "    <tr>\n",
       "      <th>2</th>\n",
       "      <td>inline_acl</td>\n",
       "      <td>Are there any studies that explore post-hoc te...</td>\n",
       "      <td>0</td>\n",
       "      <td>2</td>\n",
       "      <td>[204976362, 226254579]</td>\n",
       "    </tr>\n",
       "    <tr>\n",
       "      <th>3</th>\n",
       "      <td>inline_acl</td>\n",
       "      <td>Are there any tools or studies that have focus...</td>\n",
       "      <td>1</td>\n",
       "      <td>2</td>\n",
       "      <td>[10961392, 12160022]</td>\n",
       "    </tr>\n",
       "    <tr>\n",
       "      <th>4</th>\n",
       "      <td>inline_acl</td>\n",
       "      <td>Are there papers that propose contextualized c...</td>\n",
       "      <td>1</td>\n",
       "      <td>2</td>\n",
       "      <td>[233296182]</td>\n",
       "    </tr>\n",
       "  </tbody>\n",
       "</table>\n",
       "</div>"
      ],
      "text/plain": [
       "    query_set                                              query  specificity  \\\n",
       "0  inline_acl  Are there any research papers on methods to co...            0   \n",
       "1  inline_acl  Are there any resources available for translat...            1   \n",
       "2  inline_acl  Are there any studies that explore post-hoc te...            0   \n",
       "3  inline_acl  Are there any tools or studies that have focus...            1   \n",
       "4  inline_acl  Are there papers that propose contextualized c...            1   \n",
       "\n",
       "   quality               corpusids  \n",
       "0        2             [202719327]  \n",
       "1        2             [227231792]  \n",
       "2        2  [204976362, 226254579]  \n",
       "3        2    [10961392, 12160022]  \n",
       "4        2             [233296182]  "
      ]
     },
     "execution_count": 343,
     "metadata": {},
     "output_type": "execute_result"
    }
   ],
   "source": [
    "litsearch_query_df_cleaned.head()"
   ]
  },
  {
   "cell_type": "markdown",
   "metadata": {},
   "source": [
    "### **Multilingual**\n",
    "\n",
    "### WikipediaRetrievalMultilingual"
   ]
  },
  {
   "cell_type": "markdown",
   "metadata": {},
   "source": [
    "#### Queries"
   ]
  },
  {
   "cell_type": "code",
   "execution_count": 387,
   "metadata": {},
   "outputs": [],
   "source": [
    "queries_en = load_dataset(\"ellamind/wikipedia-2023-11-retrieval-multilingual-queries\", \"en\")\n",
    "queries_de = load_dataset(\"ellamind/wikipedia-2023-11-retrieval-multilingual-queries\", \"de\")\n",
    "queries_it = load_dataset(\"ellamind/wikipedia-2023-11-retrieval-multilingual-queries\", \"it\")\n",
    "queries_nl = load_dataset(\"ellamind/wikipedia-2023-11-retrieval-multilingual-queries\", \"nl\")\n",
    "queries_pt = load_dataset(\"ellamind/wikipedia-2023-11-retrieval-multilingual-queries\", \"pt\")\n",
    "queries_hi = load_dataset(\"ellamind/wikipedia-2023-11-retrieval-multilingual-queries\", \"hi\")"
   ]
  },
  {
   "cell_type": "code",
   "execution_count": 391,
   "metadata": {},
   "outputs": [],
   "source": [
    "corpus_en = load_dataset(\"ellamind/wikipedia-2023-11-retrieval-multilingual-corpus\", \"en\")\n",
    "corpus_de = load_dataset(\"ellamind/wikipedia-2023-11-retrieval-multilingual-corpus\", \"de\")\n",
    "corpus_it = load_dataset(\"ellamind/wikipedia-2023-11-retrieval-multilingual-corpus\", \"it\")\n",
    "corpus_nl = load_dataset(\"ellamind/wikipedia-2023-11-retrieval-multilingual-corpus\", \"nl\")\n",
    "corpus_pt = load_dataset(\"ellamind/wikipedia-2023-11-retrieval-multilingual-corpus\", \"pt\")\n",
    "corpus_hi = load_dataset(\"ellamind/wikipedia-2023-11-retrieval-multilingual-corpus\", \"hi\")"
   ]
  },
  {
   "cell_type": "code",
   "execution_count": 396,
   "metadata": {},
   "outputs": [],
   "source": [
    "qrels_en = load_dataset(\"ellamind/wikipedia-2023-11-retrieval-multilingual-qrels\", \"en\")\n",
    "qrels_de = load_dataset(\"ellamind/wikipedia-2023-11-retrieval-multilingual-qrels\", \"de\")\n",
    "qrels_it = load_dataset(\"ellamind/wikipedia-2023-11-retrieval-multilingual-qrels\", \"it\")\n",
    "qrels_nl = load_dataset(\"ellamind/wikipedia-2023-11-retrieval-multilingual-qrels\", \"nl\")\n",
    "qrels_pt = load_dataset(\"ellamind/wikipedia-2023-11-retrieval-multilingual-qrels\", \"pt\")\n",
    "qrels_hi = load_dataset(\"ellamind/wikipedia-2023-11-retrieval-multilingual-qrels\", \"hi\")"
   ]
  },
  {
   "cell_type": "code",
   "execution_count": 398,
   "metadata": {},
   "outputs": [
    {
     "data": {
      "text/html": [
       "<div>\n",
       "<style scoped>\n",
       "    .dataframe tbody tr th:only-of-type {\n",
       "        vertical-align: middle;\n",
       "    }\n",
       "\n",
       "    .dataframe tbody tr th {\n",
       "        vertical-align: top;\n",
       "    }\n",
       "\n",
       "    .dataframe thead th {\n",
       "        text-align: right;\n",
       "    }\n",
       "</style>\n",
       "<table border=\"1\" class=\"dataframe\">\n",
       "  <thead>\n",
       "    <tr style=\"text-align: right;\">\n",
       "      <th></th>\n",
       "      <th>_id</th>\n",
       "      <th>text</th>\n",
       "    </tr>\n",
       "  </thead>\n",
       "  <tbody>\n",
       "    <tr>\n",
       "      <th>0</th>\n",
       "      <td>q20231101.en_399353_52</td>\n",
       "      <td>When did the show \"Bewitched\" start airing on ...</td>\n",
       "    </tr>\n",
       "    <tr>\n",
       "      <th>1</th>\n",
       "      <td>q20231101.en_47595_14</td>\n",
       "      <td>What is the geological history of Manchuria?</td>\n",
       "    </tr>\n",
       "    <tr>\n",
       "      <th>2</th>\n",
       "      <td>q20231101.en_392095_57</td>\n",
       "      <td>What are the facilities and capabilities of Ch...</td>\n",
       "    </tr>\n",
       "    <tr>\n",
       "      <th>3</th>\n",
       "      <td>q20231101.en_21345189_22</td>\n",
       "      <td>What role did Vladivostok play during the Grea...</td>\n",
       "    </tr>\n",
       "    <tr>\n",
       "      <th>4</th>\n",
       "      <td>q20231101.en_633_54</td>\n",
       "      <td>How can algae be used to manage farm runoff an...</td>\n",
       "    </tr>\n",
       "  </tbody>\n",
       "</table>\n",
       "</div>"
      ],
      "text/plain": [
       "                        _id                                               text\n",
       "0    q20231101.en_399353_52  When did the show \"Bewitched\" start airing on ...\n",
       "1     q20231101.en_47595_14       What is the geological history of Manchuria?\n",
       "2    q20231101.en_392095_57  What are the facilities and capabilities of Ch...\n",
       "3  q20231101.en_21345189_22  What role did Vladivostok play during the Grea...\n",
       "4       q20231101.en_633_54  How can algae be used to manage farm runoff an..."
      ]
     },
     "execution_count": 398,
     "metadata": {},
     "output_type": "execute_result"
    }
   ],
   "source": [
    "queries_en_df = queries_en[\"test\"].to_pandas()\n",
    "queries_en_df.head()"
   ]
  },
  {
   "cell_type": "code",
   "execution_count": 401,
   "metadata": {},
   "outputs": [],
   "source": [
    "corpus_en_df = corpus_en[\"test\"].to_pandas()"
   ]
  },
  {
   "cell_type": "code",
   "execution_count": 403,
   "metadata": {},
   "outputs": [],
   "source": [
    "qrels_en_df = qrels_en[\"test\"].to_pandas()"
   ]
  },
  {
   "cell_type": "code",
   "execution_count": 421,
   "metadata": {},
   "outputs": [
    {
     "data": {
      "text/plain": [
       "array([0.5, 1. ], dtype=float32)"
      ]
     },
     "execution_count": 421,
     "metadata": {},
     "output_type": "execute_result"
    }
   ],
   "source": [
    "qrels_en_df[\"score\"].unique()"
   ]
  },
  {
   "cell_type": "markdown",
   "metadata": {},
   "source": [
    "potentially use `score` to weigh in on eval metrics somehow?"
   ]
  },
  {
   "cell_type": "code",
   "execution_count": 414,
   "metadata": {},
   "outputs": [
    {
     "data": {
      "text/plain": [
       "'What are the components of the French Armed Forces?'"
      ]
     },
     "execution_count": 414,
     "metadata": {},
     "output_type": "execute_result"
    }
   ],
   "source": [
    "queries_en_df[queries_en_df[\"_id\"] == \"q20231101.en_5843419_78\"][\"text\"][451]"
   ]
  },
  {
   "cell_type": "code",
   "execution_count": 419,
   "metadata": {},
   "outputs": [
    {
     "data": {
      "text/plain": [
       "'French foreign policy after World War II has been largely shaped by membership in the European Union, of which it was a founding member. Since the 1960s, France has developed close ties with reunified Germany to become the most influential driving force of the EU. In the 1960s, France sought to exclude the British from the European unification process, seeking to build its standing in continental Europe. However, since 1904, France has maintained an \"Entente cordiale\" with the United Kingdom, and there has been a strengthening of links between the countries, especially militarily.'"
      ]
     },
     "execution_count": 419,
     "metadata": {},
     "output_type": "execute_result"
    }
   ],
   "source": [
    "corpus_en_df[corpus_en_df[\"_id\"] == \"20231101.en_5843419_74\"][\"text\"][9]"
   ]
  },
  {
   "cell_type": "markdown",
   "metadata": {},
   "source": [
    "'French foreign policy after World War II has been largely shaped by membership in the European Union, of which it was a founding member. Since the 1960s, France has developed close ties with reunified Germany to become the most influential driving force of the EU. In the 1960s, France sought to exclude the British from the European unification process, seeking to build its standing in continental Europe. However, since 1904, France has maintained an \"Entente cordiale\" with the United Kingdom, and there has been a strengthening of links between the countries, especially militarily.'"
   ]
  },
  {
   "cell_type": "markdown",
   "metadata": {},
   "source": [
    "No dfs have empty entries, I checked so no need to clean for that"
   ]
  },
  {
   "cell_type": "code",
   "execution_count": 451,
   "metadata": {},
   "outputs": [],
   "source": [
    "def deduplicate(queries, corpus, langauge):\n",
    "    print(langauge)\n",
    "\n",
    "    queries_df = queries[\"test\"].to_pandas()\n",
    "    corpus_df = corpus[\"test\"].to_pandas()\n",
    "\n",
    "    duplicates_queries_df = queries_df[queries_df.duplicated(subset=['text'], keep=False)]\n",
    "\n",
    "    print(f\"duplicate queries: {len(duplicates_queries_df)}\")\n",
    "\n",
    "    duplicates_corpus_df = corpus_df[corpus_df.duplicated(subset=['text'], keep=False)]\n",
    "\n",
    "    print(f\"duplicate corpus: {len(duplicates_corpus_df)}\")\n",
    "\n",
    "    new_line = corpus_df[\"text\"].str.contains(\"\\n\", regex=True).any()\n",
    "\n",
    "    print(f\"contains new line: {new_line}\")"
   ]
  },
  {
   "cell_type": "code",
   "execution_count": 452,
   "metadata": {},
   "outputs": [
    {
     "name": "stdout",
     "output_type": "stream",
     "text": [
      "en\n",
      "duplicate queries: 0\n",
      "duplicate corpus: 0\n",
      "contains new line: False\n",
      "de\n",
      "duplicate queries: 2\n",
      "duplicate corpus: 0\n",
      "contains new line: False\n",
      "it\n",
      "duplicate queries: 0\n",
      "duplicate corpus: 9\n",
      "contains new line: False\n",
      "nl\n",
      "duplicate queries: 0\n",
      "duplicate corpus: 24\n",
      "contains new line: False\n",
      "pt\n",
      "duplicate queries: 0\n",
      "duplicate corpus: 19\n",
      "contains new line: False\n",
      "hi\n",
      "duplicate queries: 2\n",
      "duplicate corpus: 2\n",
      "contains new line: False\n"
     ]
    }
   ],
   "source": [
    "inputs = [\n",
    "    (queries_en, corpus_en, \"en\"), \n",
    "    (queries_de, corpus_de, \"de\"), \n",
    "    (queries_it, corpus_it, \"it\"),\n",
    "    (queries_nl, corpus_nl, \"nl\"),\n",
    "    (queries_pt, corpus_pt, \"pt\"),\n",
    "    (queries_hi, queries_hi, \"hi\")]\n",
    "\n",
    "for queries, corpus, langauge in inputs:\n",
    "    deduplicate(queries, corpus, langauge)\n"
   ]
  },
  {
   "cell_type": "markdown",
   "metadata": {},
   "source": [
    "some have duplicates, corpus has no '\\n'"
   ]
  },
  {
   "cell_type": "code",
   "execution_count": 465,
   "metadata": {},
   "outputs": [
    {
     "name": "stdout",
     "output_type": "stream",
     "text": [
      "                                                text  count\n",
      "0  \"A Peronist works for the movement. Whoever, i...      1\n",
      "1  \"A true democracy is that one in which the gov...      1\n",
      "2  \"Aerial Launch\": a joint Russian-Ukrainian pro...      1\n",
      "3  \"America's technology store\" was abandoned for...      1\n",
      "4  \"Aten bends low, near the earth, to watch over...      1\n"
     ]
    }
   ],
   "source": [
    "grouped_df = corpus_en_df.groupby(\"text\").size().reset_index(name=\"count\")\n",
    "print(grouped_df.head())"
   ]
  },
  {
   "cell_type": "code",
   "execution_count": 475,
   "metadata": {},
   "outputs": [
    {
     "data": {
      "text/html": [
       "<div>\n",
       "<style scoped>\n",
       "    .dataframe tbody tr th:only-of-type {\n",
       "        vertical-align: middle;\n",
       "    }\n",
       "\n",
       "    .dataframe tbody tr th {\n",
       "        vertical-align: top;\n",
       "    }\n",
       "\n",
       "    .dataframe thead th {\n",
       "        text-align: right;\n",
       "    }\n",
       "</style>\n",
       "<table border=\"1\" class=\"dataframe\">\n",
       "  <thead>\n",
       "    <tr style=\"text-align: right;\">\n",
       "      <th></th>\n",
       "      <th>query-id</th>\n",
       "      <th>corpus-id</th>\n",
       "      <th>score</th>\n",
       "    </tr>\n",
       "  </thead>\n",
       "  <tbody>\n",
       "    <tr>\n",
       "      <th>0</th>\n",
       "      <td>q20231101.en_45492650_20</td>\n",
       "      <td>20231101.en_45492650_16</td>\n",
       "      <td>0.5</td>\n",
       "    </tr>\n",
       "    <tr>\n",
       "      <th>1</th>\n",
       "      <td>q20231101.en_45492650_20</td>\n",
       "      <td>20231101.en_45492650_17</td>\n",
       "      <td>0.5</td>\n",
       "    </tr>\n",
       "    <tr>\n",
       "      <th>2</th>\n",
       "      <td>q20231101.en_45492650_20</td>\n",
       "      <td>20231101.en_45492650_18</td>\n",
       "      <td>0.5</td>\n",
       "    </tr>\n",
       "    <tr>\n",
       "      <th>3</th>\n",
       "      <td>q20231101.en_45492650_20</td>\n",
       "      <td>20231101.en_45492650_19</td>\n",
       "      <td>0.5</td>\n",
       "    </tr>\n",
       "    <tr>\n",
       "      <th>4</th>\n",
       "      <td>q20231101.en_45492650_20</td>\n",
       "      <td>20231101.en_45492650_20</td>\n",
       "      <td>1.0</td>\n",
       "    </tr>\n",
       "    <tr>\n",
       "      <th>...</th>\n",
       "      <td>...</td>\n",
       "      <td>...</td>\n",
       "      <td>...</td>\n",
       "    </tr>\n",
       "    <tr>\n",
       "      <th>13495</th>\n",
       "      <td>q20231101.en_1488463_17</td>\n",
       "      <td>20231101.en_1488463_17</td>\n",
       "      <td>1.0</td>\n",
       "    </tr>\n",
       "    <tr>\n",
       "      <th>13496</th>\n",
       "      <td>q20231101.en_1488463_17</td>\n",
       "      <td>20231101.en_1488463_18</td>\n",
       "      <td>0.5</td>\n",
       "    </tr>\n",
       "    <tr>\n",
       "      <th>13497</th>\n",
       "      <td>q20231101.en_1488463_17</td>\n",
       "      <td>20231101.en_1488463_19</td>\n",
       "      <td>0.5</td>\n",
       "    </tr>\n",
       "    <tr>\n",
       "      <th>13498</th>\n",
       "      <td>q20231101.en_1488463_17</td>\n",
       "      <td>20231101.en_1488463_20</td>\n",
       "      <td>0.5</td>\n",
       "    </tr>\n",
       "    <tr>\n",
       "      <th>13499</th>\n",
       "      <td>q20231101.en_1488463_17</td>\n",
       "      <td>20231101.en_1488463_21</td>\n",
       "      <td>0.5</td>\n",
       "    </tr>\n",
       "  </tbody>\n",
       "</table>\n",
       "<p>13500 rows × 3 columns</p>\n",
       "</div>"
      ],
      "text/plain": [
       "                       query-id                corpus-id  score\n",
       "0      q20231101.en_45492650_20  20231101.en_45492650_16    0.5\n",
       "1      q20231101.en_45492650_20  20231101.en_45492650_17    0.5\n",
       "2      q20231101.en_45492650_20  20231101.en_45492650_18    0.5\n",
       "3      q20231101.en_45492650_20  20231101.en_45492650_19    0.5\n",
       "4      q20231101.en_45492650_20  20231101.en_45492650_20    1.0\n",
       "...                         ...                      ...    ...\n",
       "13495   q20231101.en_1488463_17   20231101.en_1488463_17    1.0\n",
       "13496   q20231101.en_1488463_17   20231101.en_1488463_18    0.5\n",
       "13497   q20231101.en_1488463_17   20231101.en_1488463_19    0.5\n",
       "13498   q20231101.en_1488463_17   20231101.en_1488463_20    0.5\n",
       "13499   q20231101.en_1488463_17   20231101.en_1488463_21    0.5\n",
       "\n",
       "[13500 rows x 3 columns]"
      ]
     },
     "execution_count": 475,
     "metadata": {},
     "output_type": "execute_result"
    }
   ],
   "source": [
    "qrels_en_df"
   ]
  },
  {
   "cell_type": "code",
   "execution_count": 478,
   "metadata": {},
   "outputs": [],
   "source": [
    "def clean_dfs(queries, corpus, language, qrels):\n",
    "    print(f\"cleaning {language}\")\n",
    "\n",
    "    queries_df = queries[\"test\"].to_pandas()\n",
    "    corpus_df = corpus[\"test\"].to_pandas()\n",
    "    qrels_df = qrels[\"test\"].to_pandas()\n",
    "\n",
    "    cleaned_queries_df = queries_df.drop_duplicates(subset=['text'], keep='first')\n",
    "    cleaned_corpus_df = corpus_df.drop_duplicates(subset=['text'], keep='first')\n",
    "\n",
    "    duplicates_queries_df = queries_df[queries_df.duplicated(subset=['text'], keep=False)]\n",
    "    duplicates_corpus_df = corpus_df[corpus_df.duplicated(subset=['text'], keep=False)]\n",
    "\n",
    "    query_id_mapping = duplicates_queries_df.groupby('text')['_id'].first().to_dict()\n",
    "    corpus_id_mapping = duplicates_corpus_df.groupby('text')['_id'].first().to_dict()\n",
    "    query_id_replacement = {row['_id']: query_id_mapping[row['text']] for _, row in duplicates_queries_df.iterrows()}\n",
    "    corpus_id_replacement = {row['_id']: corpus_id_mapping[row['text']] for _, row in duplicates_corpus_df.iterrows()}\n",
    "\n",
    "    qrels_df['query-id'] = qrels_df[\"query-id\"].replace(query_id_replacement)\n",
    "    qrels_df[\"corpus-id\"] = qrels_df[\"corpus-id\"].replace(corpus_id_replacement)\n",
    "\n",
    "    cleaned_qrels_df = qrels_df.drop_duplicates(subset=['query-id', 'corpus-id'])\n",
    "\n",
    "    return cleaned_queries_df, cleaned_corpus_df, cleaned_qrels_df\n",
    "    "
   ]
  },
  {
   "cell_type": "code",
   "execution_count": 479,
   "metadata": {},
   "outputs": [],
   "source": [
    "inputs_for_cleaning = [\n",
    "    (queries_en, corpus_en, \"en\", qrels_en), \n",
    "    (queries_de, corpus_de, \"de\", qrels_de), \n",
    "    (queries_it, corpus_it, \"it\", qrels_it),\n",
    "    (queries_nl, corpus_nl, \"nl\", qrels_nl),\n",
    "    (queries_pt, corpus_pt, \"pt\", qrels_pt),\n",
    "    (queries_hi, queries_hi, \"hi\", qrels_hi)\n",
    "]"
   ]
  },
  {
   "cell_type": "markdown",
   "metadata": {},
   "source": [
    "#### Final cleaned dataset"
   ]
  },
  {
   "cell_type": "code",
   "execution_count": 483,
   "metadata": {},
   "outputs": [
    {
     "name": "stdout",
     "output_type": "stream",
     "text": [
      "cleaning en\n",
      "cleaning de\n",
      "cleaning it\n",
      "cleaning nl\n",
      "cleaning pt\n",
      "cleaning hi\n"
     ]
    }
   ],
   "source": [
    "cleaned_queries_df_en, cleaned_corpus_df_en, cleaned_qrels_df_en = clean_dfs(queries_en, corpus_en, \"en\", qrels_en)\n",
    "cleaned_queries_df_de, cleaned_corpus_df_de, cleaned_qrels_df_de = clean_dfs(queries_de, corpus_de, \"de\", qrels_de)\n",
    "cleaned_queries_df_it, cleaned_corpus_df_it, cleaned_qrels_df_it = clean_dfs(queries_it, corpus_it, \"it\", qrels_it)\n",
    "cleaned_queries_df_nl, cleaned_corpus_df_nl, cleaned_qrels_df_nl = clean_dfs(queries_nl, corpus_nl, \"nl\", qrels_nl)\n",
    "cleaned_queries_df_pt, cleaned_corpus_df_pt, cleaned_qrels_df_pt = clean_dfs(queries_pt, corpus_pt, \"pt\", qrels_pt)\n",
    "cleaned_queries_df_hi, cleaned_corpus_df_hi, cleaned_qrels_df_hi = clean_dfs(queries_hi, queries_hi, \"hi\", qrels_hi)"
   ]
  },
  {
   "cell_type": "markdown",
   "metadata": {},
   "source": [
    "just got rid of duplicates, dataset seems pretty clean already so wondering if there is anything else I should do"
   ]
  }
 ],
 "metadata": {
  "kernelspec": {
   "display_name": "Python 3",
   "language": "python",
   "name": "python3"
  },
  "language_info": {
   "codemirror_mode": {
    "name": "ipython",
    "version": 3
   },
   "file_extension": ".py",
   "mimetype": "text/x-python",
   "name": "python",
   "nbconvert_exporter": "python",
   "pygments_lexer": "ipython3",
   "version": "3.9.6"
  }
 },
 "nbformat": 4,
 "nbformat_minor": 2
}
